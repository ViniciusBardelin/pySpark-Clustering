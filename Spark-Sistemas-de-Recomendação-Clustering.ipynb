{
 "cells": [
  {
   "cell_type": "markdown",
   "id": "bcc9978e",
   "metadata": {},
   "source": [
    "# Início"
   ]
  },
  {
   "cell_type": "raw",
   "id": "91e8eaed",
   "metadata": {},
   "source": [
    "Neste projeto, a ideia é usar técnicas de agrupamento para recomendação de músicas. As etapas do projeto serão: exploração da base de dados, criação de clusters e utilizar os clusters para fazer as recomendações."
   ]
  },
  {
   "cell_type": "raw",
   "id": "077fef25",
   "metadata": {},
   "source": [
    "Uma explicação detalhada sobre as variáveis do nosso conjunto de dados pode ser consultada aqui: https://developer.spotify.com/documentation/web-api/reference/get-several-audio-features\n"
   ]
  },
  {
   "cell_type": "code",
   "execution_count": 157,
   "id": "0465351f",
   "metadata": {},
   "outputs": [],
   "source": [
    "from pyspark.sql import SparkSession"
   ]
  },
  {
   "cell_type": "code",
   "execution_count": 158,
   "id": "b0a95845",
   "metadata": {},
   "outputs": [
    {
     "data": {
      "text/html": [
       "\n",
       "            <div>\n",
       "                <p><b>SparkSession - in-memory</b></p>\n",
       "                \n",
       "        <div>\n",
       "            <p><b>SparkContext</b></p>\n",
       "\n",
       "            <p><a href=\"http://Vinicius:4041\">Spark UI</a></p>\n",
       "\n",
       "            <dl>\n",
       "              <dt>Version</dt>\n",
       "                <dd><code>v3.5.0</code></dd>\n",
       "              <dt>Master</dt>\n",
       "                <dd><code>local[*]</code></dd>\n",
       "              <dt>AppName</dt>\n",
       "                <dd><code>Recomendados PySpark</code></dd>\n",
       "            </dl>\n",
       "        </div>\n",
       "        \n",
       "            </div>\n",
       "        "
      ],
      "text/plain": [
       "<pyspark.sql.session.SparkSession at 0x1a6d04bbf70>"
      ]
     },
     "execution_count": 158,
     "metadata": {},
     "output_type": "execute_result"
    }
   ],
   "source": [
    "# Vamos criar a sessão:\n",
    "\n",
    "sessao_spark = SparkSession.builder\\\n",
    "    .appName('Recomendados PySpark')\\\n",
    "    .getOrCreate()\n",
    "\n",
    "sessao_spark"
   ]
  },
  {
   "cell_type": "code",
   "execution_count": 159,
   "id": "c50dc885",
   "metadata": {},
   "outputs": [],
   "source": [
    "# Leitura dos dados:\n",
    "\n",
    "dados = sessao_spark.read.csv('dados_musicas.csv', header = True, sep = ';', inferSchema = True)"
   ]
  },
  {
   "cell_type": "code",
   "execution_count": 160,
   "id": "743c9d4e",
   "metadata": {},
   "outputs": [
    {
     "data": {
      "text/html": [
       "<div>\n",
       "<style scoped>\n",
       "    .dataframe tbody tr th:only-of-type {\n",
       "        vertical-align: middle;\n",
       "    }\n",
       "\n",
       "    .dataframe tbody tr th {\n",
       "        vertical-align: top;\n",
       "    }\n",
       "\n",
       "    .dataframe thead th {\n",
       "        text-align: right;\n",
       "    }\n",
       "</style>\n",
       "<table border=\"1\" class=\"dataframe\">\n",
       "  <thead>\n",
       "    <tr style=\"text-align: right;\">\n",
       "      <th></th>\n",
       "      <th>valence</th>\n",
       "      <th>year</th>\n",
       "      <th>acousticness</th>\n",
       "      <th>artists</th>\n",
       "      <th>danceability</th>\n",
       "      <th>duration_ms</th>\n",
       "      <th>energy</th>\n",
       "      <th>explicit</th>\n",
       "      <th>id</th>\n",
       "      <th>instrumentalness</th>\n",
       "      <th>key</th>\n",
       "      <th>liveness</th>\n",
       "      <th>loudness</th>\n",
       "      <th>mode</th>\n",
       "      <th>name</th>\n",
       "      <th>popularity</th>\n",
       "      <th>speechiness</th>\n",
       "      <th>tempo</th>\n",
       "      <th>artists_song</th>\n",
       "    </tr>\n",
       "  </thead>\n",
       "  <tbody>\n",
       "    <tr>\n",
       "      <th>0</th>\n",
       "      <td>0.285</td>\n",
       "      <td>2000</td>\n",
       "      <td>0.00239</td>\n",
       "      <td>Coldplay</td>\n",
       "      <td>0.429</td>\n",
       "      <td>266773</td>\n",
       "      <td>0.661</td>\n",
       "      <td>0</td>\n",
       "      <td>3AJwUDP919kvQ9QcozQPxg</td>\n",
       "      <td>0.000121</td>\n",
       "      <td>11</td>\n",
       "      <td>0.2340</td>\n",
       "      <td>-7.227</td>\n",
       "      <td>1</td>\n",
       "      <td>Yellow</td>\n",
       "      <td>84</td>\n",
       "      <td>0.0281</td>\n",
       "      <td>173.372</td>\n",
       "      <td>Coldplay - Yellow</td>\n",
       "    </tr>\n",
       "    <tr>\n",
       "      <th>1</th>\n",
       "      <td>0.613</td>\n",
       "      <td>2000</td>\n",
       "      <td>0.14300</td>\n",
       "      <td>OutKast</td>\n",
       "      <td>0.843</td>\n",
       "      <td>270507</td>\n",
       "      <td>0.806</td>\n",
       "      <td>1</td>\n",
       "      <td>0I3q5fE6wg7LIfHGngUTnV</td>\n",
       "      <td>0.000000</td>\n",
       "      <td>4</td>\n",
       "      <td>0.0771</td>\n",
       "      <td>-5.946</td>\n",
       "      <td>0</td>\n",
       "      <td>Ms. Jackson</td>\n",
       "      <td>80</td>\n",
       "      <td>0.2690</td>\n",
       "      <td>94.948</td>\n",
       "      <td>OutKast - Ms. Jackson</td>\n",
       "    </tr>\n",
       "    <tr>\n",
       "      <th>2</th>\n",
       "      <td>0.400</td>\n",
       "      <td>2000</td>\n",
       "      <td>0.00958</td>\n",
       "      <td>Linkin Park</td>\n",
       "      <td>0.556</td>\n",
       "      <td>216880</td>\n",
       "      <td>0.864</td>\n",
       "      <td>0</td>\n",
       "      <td>60a0Rd6pjrkxjPbaKzXjfq</td>\n",
       "      <td>0.000000</td>\n",
       "      <td>3</td>\n",
       "      <td>0.2090</td>\n",
       "      <td>-5.870</td>\n",
       "      <td>0</td>\n",
       "      <td>In the End</td>\n",
       "      <td>84</td>\n",
       "      <td>0.0584</td>\n",
       "      <td>105.143</td>\n",
       "      <td>Linkin Park - In the End</td>\n",
       "    </tr>\n",
       "    <tr>\n",
       "      <th>3</th>\n",
       "      <td>0.543</td>\n",
       "      <td>2000</td>\n",
       "      <td>0.00664</td>\n",
       "      <td>3 Doors Down</td>\n",
       "      <td>0.545</td>\n",
       "      <td>233933</td>\n",
       "      <td>0.865</td>\n",
       "      <td>0</td>\n",
       "      <td>6ZOBP3NvffbU4SZcrnt1k6</td>\n",
       "      <td>0.000011</td>\n",
       "      <td>11</td>\n",
       "      <td>0.1680</td>\n",
       "      <td>-5.708</td>\n",
       "      <td>0</td>\n",
       "      <td>Kryptonite</td>\n",
       "      <td>78</td>\n",
       "      <td>0.0286</td>\n",
       "      <td>99.009</td>\n",
       "      <td>3 Doors Down - Kryptonite</td>\n",
       "    </tr>\n",
       "    <tr>\n",
       "      <th>4</th>\n",
       "      <td>0.760</td>\n",
       "      <td>2000</td>\n",
       "      <td>0.03020</td>\n",
       "      <td>Eminem</td>\n",
       "      <td>0.949</td>\n",
       "      <td>284200</td>\n",
       "      <td>0.661</td>\n",
       "      <td>1</td>\n",
       "      <td>3yfqSUWxFvZELEM4PmlwIR</td>\n",
       "      <td>0.000000</td>\n",
       "      <td>5</td>\n",
       "      <td>0.0454</td>\n",
       "      <td>-4.244</td>\n",
       "      <td>0</td>\n",
       "      <td>The Real Slim Shady</td>\n",
       "      <td>80</td>\n",
       "      <td>0.0572</td>\n",
       "      <td>104.504</td>\n",
       "      <td>Eminem - The Real Slim Shady</td>\n",
       "    </tr>\n",
       "  </tbody>\n",
       "</table>\n",
       "</div>"
      ],
      "text/plain": [
       "   valence  year  acousticness       artists  danceability  duration_ms  \\\n",
       "0    0.285  2000       0.00239      Coldplay         0.429       266773   \n",
       "1    0.613  2000       0.14300       OutKast         0.843       270507   \n",
       "2    0.400  2000       0.00958   Linkin Park         0.556       216880   \n",
       "3    0.543  2000       0.00664  3 Doors Down         0.545       233933   \n",
       "4    0.760  2000       0.03020        Eminem         0.949       284200   \n",
       "\n",
       "   energy  explicit                      id  instrumentalness  key  liveness  \\\n",
       "0   0.661         0  3AJwUDP919kvQ9QcozQPxg          0.000121   11    0.2340   \n",
       "1   0.806         1  0I3q5fE6wg7LIfHGngUTnV          0.000000    4    0.0771   \n",
       "2   0.864         0  60a0Rd6pjrkxjPbaKzXjfq          0.000000    3    0.2090   \n",
       "3   0.865         0  6ZOBP3NvffbU4SZcrnt1k6          0.000011   11    0.1680   \n",
       "4   0.661         1  3yfqSUWxFvZELEM4PmlwIR          0.000000    5    0.0454   \n",
       "\n",
       "   loudness  mode                 name  popularity  speechiness    tempo  \\\n",
       "0    -7.227     1               Yellow          84       0.0281  173.372   \n",
       "1    -5.946     0          Ms. Jackson          80       0.2690   94.948   \n",
       "2    -5.870     0           In the End          84       0.0584  105.143   \n",
       "3    -5.708     0           Kryptonite          78       0.0286   99.009   \n",
       "4    -4.244     0  The Real Slim Shady          80       0.0572  104.504   \n",
       "\n",
       "                   artists_song  \n",
       "0             Coldplay - Yellow  \n",
       "1         OutKast - Ms. Jackson  \n",
       "2      Linkin Park - In the End  \n",
       "3     3 Doors Down - Kryptonite  \n",
       "4  Eminem - The Real Slim Shady  "
      ]
     },
     "execution_count": 160,
     "metadata": {},
     "output_type": "execute_result"
    }
   ],
   "source": [
    "dados.limit(5).toPandas()"
   ]
  },
  {
   "cell_type": "code",
   "execution_count": 161,
   "id": "3a6e3320",
   "metadata": {},
   "outputs": [
    {
     "name": "stdout",
     "output_type": "stream",
     "text": [
      "root\n",
      " |-- valence: double (nullable = true)\n",
      " |-- year: integer (nullable = true)\n",
      " |-- acousticness: double (nullable = true)\n",
      " |-- artists: string (nullable = true)\n",
      " |-- danceability: double (nullable = true)\n",
      " |-- duration_ms: integer (nullable = true)\n",
      " |-- energy: double (nullable = true)\n",
      " |-- explicit: integer (nullable = true)\n",
      " |-- id: string (nullable = true)\n",
      " |-- instrumentalness: double (nullable = true)\n",
      " |-- key: integer (nullable = true)\n",
      " |-- liveness: double (nullable = true)\n",
      " |-- loudness: double (nullable = true)\n",
      " |-- mode: integer (nullable = true)\n",
      " |-- name: string (nullable = true)\n",
      " |-- popularity: integer (nullable = true)\n",
      " |-- speechiness: double (nullable = true)\n",
      " |-- tempo: double (nullable = true)\n",
      " |-- artists_song: string (nullable = true)\n",
      "\n"
     ]
    }
   ],
   "source": [
    "# Analisando o tipo das variáveis:\n",
    "\n",
    "dados.printSchema()"
   ]
  },
  {
   "cell_type": "code",
   "execution_count": 12,
   "id": "6b7106a2",
   "metadata": {},
   "outputs": [
    {
     "data": {
      "text/plain": [
       "20311"
      ]
     },
     "execution_count": 12,
     "metadata": {},
     "output_type": "execute_result"
    }
   ],
   "source": [
    "# Podemos checar quantas linhas temos:\n",
    "dados.count()"
   ]
  },
  {
   "cell_type": "code",
   "execution_count": 13,
   "id": "fc718c34",
   "metadata": {},
   "outputs": [
    {
     "data": {
      "text/plain": [
       "19"
      ]
     },
     "execution_count": 13,
     "metadata": {},
     "output_type": "execute_result"
    }
   ],
   "source": [
    "# Quantidade de colunas:\n",
    "len(dados.columns)"
   ]
  },
  {
   "cell_type": "code",
   "execution_count": 162,
   "id": "194da9ba",
   "metadata": {},
   "outputs": [],
   "source": [
    "# Podemos checar se temos dados nulos usando functions:\n",
    "\n",
    "import pyspark.sql.functions as f"
   ]
  },
  {
   "cell_type": "code",
   "execution_count": 163,
   "id": "24b57946",
   "metadata": {},
   "outputs": [
    {
     "data": {
      "text/html": [
       "<div>\n",
       "<style scoped>\n",
       "    .dataframe tbody tr th:only-of-type {\n",
       "        vertical-align: middle;\n",
       "    }\n",
       "\n",
       "    .dataframe tbody tr th {\n",
       "        vertical-align: top;\n",
       "    }\n",
       "\n",
       "    .dataframe thead th {\n",
       "        text-align: right;\n",
       "    }\n",
       "</style>\n",
       "<table border=\"1\" class=\"dataframe\">\n",
       "  <thead>\n",
       "    <tr style=\"text-align: right;\">\n",
       "      <th></th>\n",
       "      <th>valence</th>\n",
       "      <th>year</th>\n",
       "      <th>acousticness</th>\n",
       "      <th>artists</th>\n",
       "      <th>danceability</th>\n",
       "      <th>duration_ms</th>\n",
       "      <th>energy</th>\n",
       "      <th>explicit</th>\n",
       "      <th>id</th>\n",
       "      <th>instrumentalness</th>\n",
       "      <th>key</th>\n",
       "      <th>liveness</th>\n",
       "      <th>loudness</th>\n",
       "      <th>mode</th>\n",
       "      <th>name</th>\n",
       "      <th>popularity</th>\n",
       "      <th>speechiness</th>\n",
       "      <th>tempo</th>\n",
       "      <th>artists_song</th>\n",
       "    </tr>\n",
       "  </thead>\n",
       "  <tbody>\n",
       "    <tr>\n",
       "      <th>0</th>\n",
       "      <td>0</td>\n",
       "      <td>0</td>\n",
       "      <td>0</td>\n",
       "      <td>0</td>\n",
       "      <td>0</td>\n",
       "      <td>0</td>\n",
       "      <td>0</td>\n",
       "      <td>0</td>\n",
       "      <td>0</td>\n",
       "      <td>0</td>\n",
       "      <td>0</td>\n",
       "      <td>0</td>\n",
       "      <td>0</td>\n",
       "      <td>0</td>\n",
       "      <td>0</td>\n",
       "      <td>0</td>\n",
       "      <td>0</td>\n",
       "      <td>0</td>\n",
       "      <td>0</td>\n",
       "    </tr>\n",
       "  </tbody>\n",
       "</table>\n",
       "</div>"
      ],
      "text/plain": [
       "   valence  year  acousticness  artists  danceability  duration_ms  energy  \\\n",
       "0        0     0             0        0             0            0       0   \n",
       "\n",
       "   explicit  id  instrumentalness  key  liveness  loudness  mode  name  \\\n",
       "0         0   0                 0    0         0         0     0     0   \n",
       "\n",
       "   popularity  speechiness  tempo  artists_song  \n",
       "0           0            0      0             0  "
      ]
     },
     "execution_count": 163,
     "metadata": {},
     "output_type": "execute_result"
    }
   ],
   "source": [
    "dados.select([f.count(f.when(f.isnull(c), 1)).alias(c) for c in dados.columns]).toPandas()"
   ]
  },
  {
   "cell_type": "code",
   "execution_count": 19,
   "id": "55d5b65a",
   "metadata": {},
   "outputs": [
    {
     "name": "stdout",
     "output_type": "stream",
     "text": [
      "[Row(year=2000), Row(year=2001), Row(year=2002), Row(year=2003), Row(year=2004), Row(year=2005), Row(year=2006), Row(year=2007), Row(year=2008), Row(year=2009), Row(year=2010), Row(year=2011), Row(year=2012), Row(year=2013), Row(year=2014), Row(year=2015), Row(year=2016), Row(year=2017), Row(year=2018), Row(year=2019), Row(year=2020)]\n"
     ]
    }
   ],
   "source": [
    "# Olhando para os primeiros registros da nossa base de dados, só temos músicas dos anos 2000. Será que só tem músicas desse ano?\n",
    "\n",
    "print(sorted(dados.select('year').distinct().collect()))"
   ]
  },
  {
   "cell_type": "raw",
   "id": "992817c4",
   "metadata": {},
   "source": [
    "Podemos olhar para as médias das características das músicas por ano. Vamos ler os dados abaixo:"
   ]
  },
  {
   "cell_type": "code",
   "execution_count": 166,
   "id": "91e6f5a9",
   "metadata": {},
   "outputs": [],
   "source": [
    "dados_anos = sessao_spark.read.csv('dados_musicas_ano.csv', header = True, sep = ',', inferSchema = True)"
   ]
  },
  {
   "cell_type": "code",
   "execution_count": 167,
   "id": "eb3e2cf0",
   "metadata": {},
   "outputs": [
    {
     "data": {
      "text/html": [
       "<div>\n",
       "<style scoped>\n",
       "    .dataframe tbody tr th:only-of-type {\n",
       "        vertical-align: middle;\n",
       "    }\n",
       "\n",
       "    .dataframe tbody tr th {\n",
       "        vertical-align: top;\n",
       "    }\n",
       "\n",
       "    .dataframe thead th {\n",
       "        text-align: right;\n",
       "    }\n",
       "</style>\n",
       "<table border=\"1\" class=\"dataframe\">\n",
       "  <thead>\n",
       "    <tr style=\"text-align: right;\">\n",
       "      <th></th>\n",
       "      <th>mode</th>\n",
       "      <th>year</th>\n",
       "      <th>acousticness</th>\n",
       "      <th>danceability</th>\n",
       "      <th>duration_ms</th>\n",
       "      <th>energy</th>\n",
       "      <th>instrumentalness</th>\n",
       "      <th>liveness</th>\n",
       "      <th>loudness</th>\n",
       "      <th>speechiness</th>\n",
       "      <th>tempo</th>\n",
       "      <th>valence</th>\n",
       "      <th>popularity</th>\n",
       "      <th>key</th>\n",
       "    </tr>\n",
       "  </thead>\n",
       "  <tbody>\n",
       "    <tr>\n",
       "      <th>0</th>\n",
       "      <td>1</td>\n",
       "      <td>1921</td>\n",
       "      <td>0.886896</td>\n",
       "      <td>0.418597</td>\n",
       "      <td>260537.166667</td>\n",
       "      <td>0.231815</td>\n",
       "      <td>0.344878</td>\n",
       "      <td>0.205710</td>\n",
       "      <td>-17.048667</td>\n",
       "      <td>0.073662</td>\n",
       "      <td>101.531493</td>\n",
       "      <td>0.379327</td>\n",
       "      <td>0.653333</td>\n",
       "      <td>2</td>\n",
       "    </tr>\n",
       "    <tr>\n",
       "      <th>1</th>\n",
       "      <td>1</td>\n",
       "      <td>1922</td>\n",
       "      <td>0.938592</td>\n",
       "      <td>0.482042</td>\n",
       "      <td>165469.746479</td>\n",
       "      <td>0.237815</td>\n",
       "      <td>0.434195</td>\n",
       "      <td>0.240720</td>\n",
       "      <td>-19.275282</td>\n",
       "      <td>0.116655</td>\n",
       "      <td>100.884521</td>\n",
       "      <td>0.535549</td>\n",
       "      <td>0.140845</td>\n",
       "      <td>10</td>\n",
       "    </tr>\n",
       "    <tr>\n",
       "      <th>2</th>\n",
       "      <td>1</td>\n",
       "      <td>1923</td>\n",
       "      <td>0.957247</td>\n",
       "      <td>0.577341</td>\n",
       "      <td>177942.362162</td>\n",
       "      <td>0.262406</td>\n",
       "      <td>0.371733</td>\n",
       "      <td>0.227462</td>\n",
       "      <td>-14.129211</td>\n",
       "      <td>0.093949</td>\n",
       "      <td>114.010730</td>\n",
       "      <td>0.625492</td>\n",
       "      <td>5.389189</td>\n",
       "      <td>0</td>\n",
       "    </tr>\n",
       "    <tr>\n",
       "      <th>3</th>\n",
       "      <td>1</td>\n",
       "      <td>1924</td>\n",
       "      <td>0.940200</td>\n",
       "      <td>0.549894</td>\n",
       "      <td>191046.707627</td>\n",
       "      <td>0.344347</td>\n",
       "      <td>0.581701</td>\n",
       "      <td>0.235219</td>\n",
       "      <td>-14.231343</td>\n",
       "      <td>0.092089</td>\n",
       "      <td>120.689572</td>\n",
       "      <td>0.663725</td>\n",
       "      <td>0.661017</td>\n",
       "      <td>10</td>\n",
       "    </tr>\n",
       "    <tr>\n",
       "      <th>4</th>\n",
       "      <td>1</td>\n",
       "      <td>1925</td>\n",
       "      <td>0.962607</td>\n",
       "      <td>0.573863</td>\n",
       "      <td>184986.924460</td>\n",
       "      <td>0.278594</td>\n",
       "      <td>0.418297</td>\n",
       "      <td>0.237668</td>\n",
       "      <td>-14.146414</td>\n",
       "      <td>0.111918</td>\n",
       "      <td>115.521921</td>\n",
       "      <td>0.621929</td>\n",
       "      <td>2.604317</td>\n",
       "      <td>5</td>\n",
       "    </tr>\n",
       "  </tbody>\n",
       "</table>\n",
       "</div>"
      ],
      "text/plain": [
       "   mode  year  acousticness  danceability    duration_ms    energy  \\\n",
       "0     1  1921      0.886896      0.418597  260537.166667  0.231815   \n",
       "1     1  1922      0.938592      0.482042  165469.746479  0.237815   \n",
       "2     1  1923      0.957247      0.577341  177942.362162  0.262406   \n",
       "3     1  1924      0.940200      0.549894  191046.707627  0.344347   \n",
       "4     1  1925      0.962607      0.573863  184986.924460  0.278594   \n",
       "\n",
       "   instrumentalness  liveness   loudness  speechiness       tempo   valence  \\\n",
       "0          0.344878  0.205710 -17.048667     0.073662  101.531493  0.379327   \n",
       "1          0.434195  0.240720 -19.275282     0.116655  100.884521  0.535549   \n",
       "2          0.371733  0.227462 -14.129211     0.093949  114.010730  0.625492   \n",
       "3          0.581701  0.235219 -14.231343     0.092089  120.689572  0.663725   \n",
       "4          0.418297  0.237668 -14.146414     0.111918  115.521921  0.621929   \n",
       "\n",
       "   popularity  key  \n",
       "0    0.653333    2  \n",
       "1    0.140845   10  \n",
       "2    5.389189    0  \n",
       "3    0.661017   10  \n",
       "4    2.604317    5  "
      ]
     },
     "execution_count": 167,
     "metadata": {},
     "output_type": "execute_result"
    }
   ],
   "source": [
    "dados_anos.limit(5).toPandas()"
   ]
  },
  {
   "cell_type": "code",
   "execution_count": 168,
   "id": "2514dd3e",
   "metadata": {},
   "outputs": [
    {
     "data": {
      "text/html": [
       "<div>\n",
       "<style scoped>\n",
       "    .dataframe tbody tr th:only-of-type {\n",
       "        vertical-align: middle;\n",
       "    }\n",
       "\n",
       "    .dataframe tbody tr th {\n",
       "        vertical-align: top;\n",
       "    }\n",
       "\n",
       "    .dataframe thead th {\n",
       "        text-align: right;\n",
       "    }\n",
       "</style>\n",
       "<table border=\"1\" class=\"dataframe\">\n",
       "  <thead>\n",
       "    <tr style=\"text-align: right;\">\n",
       "      <th></th>\n",
       "      <th>mode</th>\n",
       "      <th>year</th>\n",
       "      <th>acousticness</th>\n",
       "      <th>danceability</th>\n",
       "      <th>duration_ms</th>\n",
       "      <th>energy</th>\n",
       "      <th>instrumentalness</th>\n",
       "      <th>liveness</th>\n",
       "      <th>loudness</th>\n",
       "      <th>speechiness</th>\n",
       "      <th>tempo</th>\n",
       "      <th>valence</th>\n",
       "      <th>popularity</th>\n",
       "      <th>key</th>\n",
       "    </tr>\n",
       "  </thead>\n",
       "  <tbody>\n",
       "    <tr>\n",
       "      <th>0</th>\n",
       "      <td>1</td>\n",
       "      <td>2000</td>\n",
       "      <td>0.289323</td>\n",
       "      <td>0.590918</td>\n",
       "      <td>242724.642638</td>\n",
       "      <td>0.625413</td>\n",
       "      <td>0.101168</td>\n",
       "      <td>0.197686</td>\n",
       "      <td>-8.247766</td>\n",
       "      <td>0.089205</td>\n",
       "      <td>118.999323</td>\n",
       "      <td>0.559475</td>\n",
       "      <td>46.684049</td>\n",
       "      <td>7</td>\n",
       "    </tr>\n",
       "    <tr>\n",
       "      <th>1</th>\n",
       "      <td>1</td>\n",
       "      <td>2001</td>\n",
       "      <td>0.286842</td>\n",
       "      <td>0.583318</td>\n",
       "      <td>240307.796010</td>\n",
       "      <td>0.626986</td>\n",
       "      <td>0.107214</td>\n",
       "      <td>0.187026</td>\n",
       "      <td>-8.305095</td>\n",
       "      <td>0.089182</td>\n",
       "      <td>117.765399</td>\n",
       "      <td>0.541479</td>\n",
       "      <td>48.750125</td>\n",
       "      <td>7</td>\n",
       "    </tr>\n",
       "    <tr>\n",
       "      <th>2</th>\n",
       "      <td>1</td>\n",
       "      <td>2002</td>\n",
       "      <td>0.282624</td>\n",
       "      <td>0.576160</td>\n",
       "      <td>239503.283000</td>\n",
       "      <td>0.641270</td>\n",
       "      <td>0.088048</td>\n",
       "      <td>0.193911</td>\n",
       "      <td>-7.686640</td>\n",
       "      <td>0.084308</td>\n",
       "      <td>119.239738</td>\n",
       "      <td>0.542397</td>\n",
       "      <td>48.655500</td>\n",
       "      <td>7</td>\n",
       "    </tr>\n",
       "    <tr>\n",
       "      <th>3</th>\n",
       "      <td>1</td>\n",
       "      <td>2003</td>\n",
       "      <td>0.256471</td>\n",
       "      <td>0.575763</td>\n",
       "      <td>244670.575230</td>\n",
       "      <td>0.660165</td>\n",
       "      <td>0.083049</td>\n",
       "      <td>0.196976</td>\n",
       "      <td>-7.485545</td>\n",
       "      <td>0.093926</td>\n",
       "      <td>120.914622</td>\n",
       "      <td>0.530504</td>\n",
       "      <td>48.626407</td>\n",
       "      <td>7</td>\n",
       "    </tr>\n",
       "    <tr>\n",
       "      <th>4</th>\n",
       "      <td>1</td>\n",
       "      <td>2004</td>\n",
       "      <td>0.280559</td>\n",
       "      <td>0.567680</td>\n",
       "      <td>237378.708037</td>\n",
       "      <td>0.648868</td>\n",
       "      <td>0.077934</td>\n",
       "      <td>0.202199</td>\n",
       "      <td>-7.601655</td>\n",
       "      <td>0.094239</td>\n",
       "      <td>121.290346</td>\n",
       "      <td>0.524489</td>\n",
       "      <td>49.273143</td>\n",
       "      <td>7</td>\n",
       "    </tr>\n",
       "  </tbody>\n",
       "</table>\n",
       "</div>"
      ],
      "text/plain": [
       "   mode  year  acousticness  danceability    duration_ms    energy  \\\n",
       "0     1  2000      0.289323      0.590918  242724.642638  0.625413   \n",
       "1     1  2001      0.286842      0.583318  240307.796010  0.626986   \n",
       "2     1  2002      0.282624      0.576160  239503.283000  0.641270   \n",
       "3     1  2003      0.256471      0.575763  244670.575230  0.660165   \n",
       "4     1  2004      0.280559      0.567680  237378.708037  0.648868   \n",
       "\n",
       "   instrumentalness  liveness  loudness  speechiness       tempo   valence  \\\n",
       "0          0.101168  0.197686 -8.247766     0.089205  118.999323  0.559475   \n",
       "1          0.107214  0.187026 -8.305095     0.089182  117.765399  0.541479   \n",
       "2          0.088048  0.193911 -7.686640     0.084308  119.239738  0.542397   \n",
       "3          0.083049  0.196976 -7.485545     0.093926  120.914622  0.530504   \n",
       "4          0.077934  0.202199 -7.601655     0.094239  121.290346  0.524489   \n",
       "\n",
       "   popularity  key  \n",
       "0   46.684049    7  \n",
       "1   48.750125    7  \n",
       "2   48.655500    7  \n",
       "3   48.626407    7  \n",
       "4   49.273143    7  "
      ]
     },
     "execution_count": 168,
     "metadata": {},
     "output_type": "execute_result"
    }
   ],
   "source": [
    "# Podemos ver que a base de dados acima possui músicas de anos diferentes da base `dados_musicas`. Podemos fazer um filtro para\n",
    "# considerar apenas as músicas dos anos 2000 pra frente:\n",
    "\n",
    "dados_anos = dados_anos\\\n",
    "    .filter('year >= 2000')\n",
    "\n",
    "dados_anos.limit(5).toPandas()"
   ]
  },
  {
   "cell_type": "code",
   "execution_count": 26,
   "id": "2ed4ed2e",
   "metadata": {},
   "outputs": [
    {
     "data": {
      "text/plain": [
       "21"
      ]
     },
     "execution_count": 26,
     "metadata": {},
     "output_type": "execute_result"
    }
   ],
   "source": [
    "dados_anos.count()"
   ]
  },
  {
   "cell_type": "code",
   "execution_count": 28,
   "id": "22f35e02",
   "metadata": {},
   "outputs": [
    {
     "data": {
      "text/plain": [
       "14"
      ]
     },
     "execution_count": 28,
     "metadata": {},
     "output_type": "execute_result"
    }
   ],
   "source": [
    "len(dados_anos.columns)"
   ]
  },
  {
   "cell_type": "code",
   "execution_count": 170,
   "id": "86543aa4",
   "metadata": {},
   "outputs": [
    {
     "data": {
      "application/vnd.plotly.v1+json": {
       "config": {
        "plotlyServerURL": "https://plot.ly"
       },
       "data": [
        {
         "hovertemplate": "year=%{x}<br>loudness=%{y}<extra></extra>",
         "legendgroup": "",
         "line": {
          "color": "#636efa",
          "dash": "solid"
         },
         "marker": {
          "symbol": "circle"
         },
         "mode": "lines+markers",
         "name": "",
         "orientation": "v",
         "showlegend": false,
         "type": "scatter",
         "x": [
          2000,
          2001,
          2002,
          2003,
          2004,
          2005,
          2006,
          2007,
          2008,
          2009,
          2010,
          2011,
          2012,
          2013,
          2014,
          2015,
          2016,
          2017,
          2018,
          2019,
          2020
         ],
         "xaxis": "x",
         "y": [
          -8.247765848670758,
          -8.305095261845384,
          -7.686639500000013,
          -7.485545035823955,
          -7.601655137334684,
          -7.46615897435897,
          -7.265500512820514,
          -7.044535897435892,
          -6.8438040920716166,
          -7.0460147959183645,
          -6.9099042658730125,
          -7.574986117997006,
          -7.260549614395888,
          -7.472039473684207,
          -7.06743990024938,
          -7.625639311043569,
          -8.061056204785759,
          -8.31262951807228,
          -7.168785068949124,
          -7.722191893278596,
          -6.595066995073878
         ],
         "yaxis": "y"
        }
       ],
       "layout": {
        "legend": {
         "tracegroupgap": 0
        },
        "template": {
         "data": {
          "bar": [
           {
            "error_x": {
             "color": "#2a3f5f"
            },
            "error_y": {
             "color": "#2a3f5f"
            },
            "marker": {
             "line": {
              "color": "#E5ECF6",
              "width": 0.5
             },
             "pattern": {
              "fillmode": "overlay",
              "size": 10,
              "solidity": 0.2
             }
            },
            "type": "bar"
           }
          ],
          "barpolar": [
           {
            "marker": {
             "line": {
              "color": "#E5ECF6",
              "width": 0.5
             },
             "pattern": {
              "fillmode": "overlay",
              "size": 10,
              "solidity": 0.2
             }
            },
            "type": "barpolar"
           }
          ],
          "carpet": [
           {
            "aaxis": {
             "endlinecolor": "#2a3f5f",
             "gridcolor": "white",
             "linecolor": "white",
             "minorgridcolor": "white",
             "startlinecolor": "#2a3f5f"
            },
            "baxis": {
             "endlinecolor": "#2a3f5f",
             "gridcolor": "white",
             "linecolor": "white",
             "minorgridcolor": "white",
             "startlinecolor": "#2a3f5f"
            },
            "type": "carpet"
           }
          ],
          "choropleth": [
           {
            "colorbar": {
             "outlinewidth": 0,
             "ticks": ""
            },
            "type": "choropleth"
           }
          ],
          "contour": [
           {
            "colorbar": {
             "outlinewidth": 0,
             "ticks": ""
            },
            "colorscale": [
             [
              0,
              "#0d0887"
             ],
             [
              0.1111111111111111,
              "#46039f"
             ],
             [
              0.2222222222222222,
              "#7201a8"
             ],
             [
              0.3333333333333333,
              "#9c179e"
             ],
             [
              0.4444444444444444,
              "#bd3786"
             ],
             [
              0.5555555555555556,
              "#d8576b"
             ],
             [
              0.6666666666666666,
              "#ed7953"
             ],
             [
              0.7777777777777778,
              "#fb9f3a"
             ],
             [
              0.8888888888888888,
              "#fdca26"
             ],
             [
              1,
              "#f0f921"
             ]
            ],
            "type": "contour"
           }
          ],
          "contourcarpet": [
           {
            "colorbar": {
             "outlinewidth": 0,
             "ticks": ""
            },
            "type": "contourcarpet"
           }
          ],
          "heatmap": [
           {
            "colorbar": {
             "outlinewidth": 0,
             "ticks": ""
            },
            "colorscale": [
             [
              0,
              "#0d0887"
             ],
             [
              0.1111111111111111,
              "#46039f"
             ],
             [
              0.2222222222222222,
              "#7201a8"
             ],
             [
              0.3333333333333333,
              "#9c179e"
             ],
             [
              0.4444444444444444,
              "#bd3786"
             ],
             [
              0.5555555555555556,
              "#d8576b"
             ],
             [
              0.6666666666666666,
              "#ed7953"
             ],
             [
              0.7777777777777778,
              "#fb9f3a"
             ],
             [
              0.8888888888888888,
              "#fdca26"
             ],
             [
              1,
              "#f0f921"
             ]
            ],
            "type": "heatmap"
           }
          ],
          "heatmapgl": [
           {
            "colorbar": {
             "outlinewidth": 0,
             "ticks": ""
            },
            "colorscale": [
             [
              0,
              "#0d0887"
             ],
             [
              0.1111111111111111,
              "#46039f"
             ],
             [
              0.2222222222222222,
              "#7201a8"
             ],
             [
              0.3333333333333333,
              "#9c179e"
             ],
             [
              0.4444444444444444,
              "#bd3786"
             ],
             [
              0.5555555555555556,
              "#d8576b"
             ],
             [
              0.6666666666666666,
              "#ed7953"
             ],
             [
              0.7777777777777778,
              "#fb9f3a"
             ],
             [
              0.8888888888888888,
              "#fdca26"
             ],
             [
              1,
              "#f0f921"
             ]
            ],
            "type": "heatmapgl"
           }
          ],
          "histogram": [
           {
            "marker": {
             "pattern": {
              "fillmode": "overlay",
              "size": 10,
              "solidity": 0.2
             }
            },
            "type": "histogram"
           }
          ],
          "histogram2d": [
           {
            "colorbar": {
             "outlinewidth": 0,
             "ticks": ""
            },
            "colorscale": [
             [
              0,
              "#0d0887"
             ],
             [
              0.1111111111111111,
              "#46039f"
             ],
             [
              0.2222222222222222,
              "#7201a8"
             ],
             [
              0.3333333333333333,
              "#9c179e"
             ],
             [
              0.4444444444444444,
              "#bd3786"
             ],
             [
              0.5555555555555556,
              "#d8576b"
             ],
             [
              0.6666666666666666,
              "#ed7953"
             ],
             [
              0.7777777777777778,
              "#fb9f3a"
             ],
             [
              0.8888888888888888,
              "#fdca26"
             ],
             [
              1,
              "#f0f921"
             ]
            ],
            "type": "histogram2d"
           }
          ],
          "histogram2dcontour": [
           {
            "colorbar": {
             "outlinewidth": 0,
             "ticks": ""
            },
            "colorscale": [
             [
              0,
              "#0d0887"
             ],
             [
              0.1111111111111111,
              "#46039f"
             ],
             [
              0.2222222222222222,
              "#7201a8"
             ],
             [
              0.3333333333333333,
              "#9c179e"
             ],
             [
              0.4444444444444444,
              "#bd3786"
             ],
             [
              0.5555555555555556,
              "#d8576b"
             ],
             [
              0.6666666666666666,
              "#ed7953"
             ],
             [
              0.7777777777777778,
              "#fb9f3a"
             ],
             [
              0.8888888888888888,
              "#fdca26"
             ],
             [
              1,
              "#f0f921"
             ]
            ],
            "type": "histogram2dcontour"
           }
          ],
          "mesh3d": [
           {
            "colorbar": {
             "outlinewidth": 0,
             "ticks": ""
            },
            "type": "mesh3d"
           }
          ],
          "parcoords": [
           {
            "line": {
             "colorbar": {
              "outlinewidth": 0,
              "ticks": ""
             }
            },
            "type": "parcoords"
           }
          ],
          "pie": [
           {
            "automargin": true,
            "type": "pie"
           }
          ],
          "scatter": [
           {
            "fillpattern": {
             "fillmode": "overlay",
             "size": 10,
             "solidity": 0.2
            },
            "type": "scatter"
           }
          ],
          "scatter3d": [
           {
            "line": {
             "colorbar": {
              "outlinewidth": 0,
              "ticks": ""
             }
            },
            "marker": {
             "colorbar": {
              "outlinewidth": 0,
              "ticks": ""
             }
            },
            "type": "scatter3d"
           }
          ],
          "scattercarpet": [
           {
            "marker": {
             "colorbar": {
              "outlinewidth": 0,
              "ticks": ""
             }
            },
            "type": "scattercarpet"
           }
          ],
          "scattergeo": [
           {
            "marker": {
             "colorbar": {
              "outlinewidth": 0,
              "ticks": ""
             }
            },
            "type": "scattergeo"
           }
          ],
          "scattergl": [
           {
            "marker": {
             "colorbar": {
              "outlinewidth": 0,
              "ticks": ""
             }
            },
            "type": "scattergl"
           }
          ],
          "scattermapbox": [
           {
            "marker": {
             "colorbar": {
              "outlinewidth": 0,
              "ticks": ""
             }
            },
            "type": "scattermapbox"
           }
          ],
          "scatterpolar": [
           {
            "marker": {
             "colorbar": {
              "outlinewidth": 0,
              "ticks": ""
             }
            },
            "type": "scatterpolar"
           }
          ],
          "scatterpolargl": [
           {
            "marker": {
             "colorbar": {
              "outlinewidth": 0,
              "ticks": ""
             }
            },
            "type": "scatterpolargl"
           }
          ],
          "scatterternary": [
           {
            "marker": {
             "colorbar": {
              "outlinewidth": 0,
              "ticks": ""
             }
            },
            "type": "scatterternary"
           }
          ],
          "surface": [
           {
            "colorbar": {
             "outlinewidth": 0,
             "ticks": ""
            },
            "colorscale": [
             [
              0,
              "#0d0887"
             ],
             [
              0.1111111111111111,
              "#46039f"
             ],
             [
              0.2222222222222222,
              "#7201a8"
             ],
             [
              0.3333333333333333,
              "#9c179e"
             ],
             [
              0.4444444444444444,
              "#bd3786"
             ],
             [
              0.5555555555555556,
              "#d8576b"
             ],
             [
              0.6666666666666666,
              "#ed7953"
             ],
             [
              0.7777777777777778,
              "#fb9f3a"
             ],
             [
              0.8888888888888888,
              "#fdca26"
             ],
             [
              1,
              "#f0f921"
             ]
            ],
            "type": "surface"
           }
          ],
          "table": [
           {
            "cells": {
             "fill": {
              "color": "#EBF0F8"
             },
             "line": {
              "color": "white"
             }
            },
            "header": {
             "fill": {
              "color": "#C8D4E3"
             },
             "line": {
              "color": "white"
             }
            },
            "type": "table"
           }
          ]
         },
         "layout": {
          "annotationdefaults": {
           "arrowcolor": "#2a3f5f",
           "arrowhead": 0,
           "arrowwidth": 1
          },
          "autotypenumbers": "strict",
          "coloraxis": {
           "colorbar": {
            "outlinewidth": 0,
            "ticks": ""
           }
          },
          "colorscale": {
           "diverging": [
            [
             0,
             "#8e0152"
            ],
            [
             0.1,
             "#c51b7d"
            ],
            [
             0.2,
             "#de77ae"
            ],
            [
             0.3,
             "#f1b6da"
            ],
            [
             0.4,
             "#fde0ef"
            ],
            [
             0.5,
             "#f7f7f7"
            ],
            [
             0.6,
             "#e6f5d0"
            ],
            [
             0.7,
             "#b8e186"
            ],
            [
             0.8,
             "#7fbc41"
            ],
            [
             0.9,
             "#4d9221"
            ],
            [
             1,
             "#276419"
            ]
           ],
           "sequential": [
            [
             0,
             "#0d0887"
            ],
            [
             0.1111111111111111,
             "#46039f"
            ],
            [
             0.2222222222222222,
             "#7201a8"
            ],
            [
             0.3333333333333333,
             "#9c179e"
            ],
            [
             0.4444444444444444,
             "#bd3786"
            ],
            [
             0.5555555555555556,
             "#d8576b"
            ],
            [
             0.6666666666666666,
             "#ed7953"
            ],
            [
             0.7777777777777778,
             "#fb9f3a"
            ],
            [
             0.8888888888888888,
             "#fdca26"
            ],
            [
             1,
             "#f0f921"
            ]
           ],
           "sequentialminus": [
            [
             0,
             "#0d0887"
            ],
            [
             0.1111111111111111,
             "#46039f"
            ],
            [
             0.2222222222222222,
             "#7201a8"
            ],
            [
             0.3333333333333333,
             "#9c179e"
            ],
            [
             0.4444444444444444,
             "#bd3786"
            ],
            [
             0.5555555555555556,
             "#d8576b"
            ],
            [
             0.6666666666666666,
             "#ed7953"
            ],
            [
             0.7777777777777778,
             "#fb9f3a"
            ],
            [
             0.8888888888888888,
             "#fdca26"
            ],
            [
             1,
             "#f0f921"
            ]
           ]
          },
          "colorway": [
           "#636efa",
           "#EF553B",
           "#00cc96",
           "#ab63fa",
           "#FFA15A",
           "#19d3f3",
           "#FF6692",
           "#B6E880",
           "#FF97FF",
           "#FECB52"
          ],
          "font": {
           "color": "#2a3f5f"
          },
          "geo": {
           "bgcolor": "white",
           "lakecolor": "white",
           "landcolor": "#E5ECF6",
           "showlakes": true,
           "showland": true,
           "subunitcolor": "white"
          },
          "hoverlabel": {
           "align": "left"
          },
          "hovermode": "closest",
          "mapbox": {
           "style": "light"
          },
          "paper_bgcolor": "white",
          "plot_bgcolor": "#E5ECF6",
          "polar": {
           "angularaxis": {
            "gridcolor": "white",
            "linecolor": "white",
            "ticks": ""
           },
           "bgcolor": "#E5ECF6",
           "radialaxis": {
            "gridcolor": "white",
            "linecolor": "white",
            "ticks": ""
           }
          },
          "scene": {
           "xaxis": {
            "backgroundcolor": "#E5ECF6",
            "gridcolor": "white",
            "gridwidth": 2,
            "linecolor": "white",
            "showbackground": true,
            "ticks": "",
            "zerolinecolor": "white"
           },
           "yaxis": {
            "backgroundcolor": "#E5ECF6",
            "gridcolor": "white",
            "gridwidth": 2,
            "linecolor": "white",
            "showbackground": true,
            "ticks": "",
            "zerolinecolor": "white"
           },
           "zaxis": {
            "backgroundcolor": "#E5ECF6",
            "gridcolor": "white",
            "gridwidth": 2,
            "linecolor": "white",
            "showbackground": true,
            "ticks": "",
            "zerolinecolor": "white"
           }
          },
          "shapedefaults": {
           "line": {
            "color": "#2a3f5f"
           }
          },
          "ternary": {
           "aaxis": {
            "gridcolor": "white",
            "linecolor": "white",
            "ticks": ""
           },
           "baxis": {
            "gridcolor": "white",
            "linecolor": "white",
            "ticks": ""
           },
           "bgcolor": "#E5ECF6",
           "caxis": {
            "gridcolor": "white",
            "linecolor": "white",
            "ticks": ""
           }
          },
          "title": {
           "x": 0.05
          },
          "xaxis": {
           "automargin": true,
           "gridcolor": "white",
           "linecolor": "white",
           "ticks": "",
           "title": {
            "standoff": 15
           },
           "zerolinecolor": "white",
           "zerolinewidth": 2
          },
          "yaxis": {
           "automargin": true,
           "gridcolor": "white",
           "linecolor": "white",
           "ticks": "",
           "title": {
            "standoff": 15
           },
           "zerolinecolor": "white",
           "zerolinewidth": 2
          }
         }
        },
        "title": {
         "text": "Variação de loudness durante os anos"
        },
        "xaxis": {
         "anchor": "y",
         "domain": [
          0,
          1
         ],
         "title": {
          "text": "year"
         }
        },
        "yaxis": {
         "anchor": "x",
         "domain": [
          0,
          1
         ],
         "title": {
          "text": "loudness"
         }
        }
       }
      },
      "text/html": [
       "<div>                            <div id=\"db32fd12-c1a1-4623-994d-e4cfb8b0fbfe\" class=\"plotly-graph-div\" style=\"height:525px; width:100%;\"></div>            <script type=\"text/javascript\">                require([\"plotly\"], function(Plotly) {                    window.PLOTLYENV=window.PLOTLYENV || {};                                    if (document.getElementById(\"db32fd12-c1a1-4623-994d-e4cfb8b0fbfe\")) {                    Plotly.newPlot(                        \"db32fd12-c1a1-4623-994d-e4cfb8b0fbfe\",                        [{\"hovertemplate\":\"year=%{x}<br>loudness=%{y}<extra></extra>\",\"legendgroup\":\"\",\"line\":{\"color\":\"#636efa\",\"dash\":\"solid\"},\"marker\":{\"symbol\":\"circle\"},\"mode\":\"lines+markers\",\"name\":\"\",\"orientation\":\"v\",\"showlegend\":false,\"x\":[2000,2001,2002,2003,2004,2005,2006,2007,2008,2009,2010,2011,2012,2013,2014,2015,2016,2017,2018,2019,2020],\"xaxis\":\"x\",\"y\":[-8.247765848670758,-8.305095261845384,-7.686639500000013,-7.485545035823955,-7.601655137334684,-7.46615897435897,-7.265500512820514,-7.044535897435892,-6.8438040920716166,-7.0460147959183645,-6.9099042658730125,-7.574986117997006,-7.260549614395888,-7.472039473684207,-7.06743990024938,-7.625639311043569,-8.061056204785759,-8.31262951807228,-7.168785068949124,-7.722191893278596,-6.595066995073878],\"yaxis\":\"y\",\"type\":\"scatter\"}],                        {\"template\":{\"data\":{\"histogram2dcontour\":[{\"type\":\"histogram2dcontour\",\"colorbar\":{\"outlinewidth\":0,\"ticks\":\"\"},\"colorscale\":[[0.0,\"#0d0887\"],[0.1111111111111111,\"#46039f\"],[0.2222222222222222,\"#7201a8\"],[0.3333333333333333,\"#9c179e\"],[0.4444444444444444,\"#bd3786\"],[0.5555555555555556,\"#d8576b\"],[0.6666666666666666,\"#ed7953\"],[0.7777777777777778,\"#fb9f3a\"],[0.8888888888888888,\"#fdca26\"],[1.0,\"#f0f921\"]]}],\"choropleth\":[{\"type\":\"choropleth\",\"colorbar\":{\"outlinewidth\":0,\"ticks\":\"\"}}],\"histogram2d\":[{\"type\":\"histogram2d\",\"colorbar\":{\"outlinewidth\":0,\"ticks\":\"\"},\"colorscale\":[[0.0,\"#0d0887\"],[0.1111111111111111,\"#46039f\"],[0.2222222222222222,\"#7201a8\"],[0.3333333333333333,\"#9c179e\"],[0.4444444444444444,\"#bd3786\"],[0.5555555555555556,\"#d8576b\"],[0.6666666666666666,\"#ed7953\"],[0.7777777777777778,\"#fb9f3a\"],[0.8888888888888888,\"#fdca26\"],[1.0,\"#f0f921\"]]}],\"heatmap\":[{\"type\":\"heatmap\",\"colorbar\":{\"outlinewidth\":0,\"ticks\":\"\"},\"colorscale\":[[0.0,\"#0d0887\"],[0.1111111111111111,\"#46039f\"],[0.2222222222222222,\"#7201a8\"],[0.3333333333333333,\"#9c179e\"],[0.4444444444444444,\"#bd3786\"],[0.5555555555555556,\"#d8576b\"],[0.6666666666666666,\"#ed7953\"],[0.7777777777777778,\"#fb9f3a\"],[0.8888888888888888,\"#fdca26\"],[1.0,\"#f0f921\"]]}],\"heatmapgl\":[{\"type\":\"heatmapgl\",\"colorbar\":{\"outlinewidth\":0,\"ticks\":\"\"},\"colorscale\":[[0.0,\"#0d0887\"],[0.1111111111111111,\"#46039f\"],[0.2222222222222222,\"#7201a8\"],[0.3333333333333333,\"#9c179e\"],[0.4444444444444444,\"#bd3786\"],[0.5555555555555556,\"#d8576b\"],[0.6666666666666666,\"#ed7953\"],[0.7777777777777778,\"#fb9f3a\"],[0.8888888888888888,\"#fdca26\"],[1.0,\"#f0f921\"]]}],\"contourcarpet\":[{\"type\":\"contourcarpet\",\"colorbar\":{\"outlinewidth\":0,\"ticks\":\"\"}}],\"contour\":[{\"type\":\"contour\",\"colorbar\":{\"outlinewidth\":0,\"ticks\":\"\"},\"colorscale\":[[0.0,\"#0d0887\"],[0.1111111111111111,\"#46039f\"],[0.2222222222222222,\"#7201a8\"],[0.3333333333333333,\"#9c179e\"],[0.4444444444444444,\"#bd3786\"],[0.5555555555555556,\"#d8576b\"],[0.6666666666666666,\"#ed7953\"],[0.7777777777777778,\"#fb9f3a\"],[0.8888888888888888,\"#fdca26\"],[1.0,\"#f0f921\"]]}],\"surface\":[{\"type\":\"surface\",\"colorbar\":{\"outlinewidth\":0,\"ticks\":\"\"},\"colorscale\":[[0.0,\"#0d0887\"],[0.1111111111111111,\"#46039f\"],[0.2222222222222222,\"#7201a8\"],[0.3333333333333333,\"#9c179e\"],[0.4444444444444444,\"#bd3786\"],[0.5555555555555556,\"#d8576b\"],[0.6666666666666666,\"#ed7953\"],[0.7777777777777778,\"#fb9f3a\"],[0.8888888888888888,\"#fdca26\"],[1.0,\"#f0f921\"]]}],\"mesh3d\":[{\"type\":\"mesh3d\",\"colorbar\":{\"outlinewidth\":0,\"ticks\":\"\"}}],\"scatter\":[{\"fillpattern\":{\"fillmode\":\"overlay\",\"size\":10,\"solidity\":0.2},\"type\":\"scatter\"}],\"parcoords\":[{\"type\":\"parcoords\",\"line\":{\"colorbar\":{\"outlinewidth\":0,\"ticks\":\"\"}}}],\"scatterpolargl\":[{\"type\":\"scatterpolargl\",\"marker\":{\"colorbar\":{\"outlinewidth\":0,\"ticks\":\"\"}}}],\"bar\":[{\"error_x\":{\"color\":\"#2a3f5f\"},\"error_y\":{\"color\":\"#2a3f5f\"},\"marker\":{\"line\":{\"color\":\"#E5ECF6\",\"width\":0.5},\"pattern\":{\"fillmode\":\"overlay\",\"size\":10,\"solidity\":0.2}},\"type\":\"bar\"}],\"scattergeo\":[{\"type\":\"scattergeo\",\"marker\":{\"colorbar\":{\"outlinewidth\":0,\"ticks\":\"\"}}}],\"scatterpolar\":[{\"type\":\"scatterpolar\",\"marker\":{\"colorbar\":{\"outlinewidth\":0,\"ticks\":\"\"}}}],\"histogram\":[{\"marker\":{\"pattern\":{\"fillmode\":\"overlay\",\"size\":10,\"solidity\":0.2}},\"type\":\"histogram\"}],\"scattergl\":[{\"type\":\"scattergl\",\"marker\":{\"colorbar\":{\"outlinewidth\":0,\"ticks\":\"\"}}}],\"scatter3d\":[{\"type\":\"scatter3d\",\"line\":{\"colorbar\":{\"outlinewidth\":0,\"ticks\":\"\"}},\"marker\":{\"colorbar\":{\"outlinewidth\":0,\"ticks\":\"\"}}}],\"scattermapbox\":[{\"type\":\"scattermapbox\",\"marker\":{\"colorbar\":{\"outlinewidth\":0,\"ticks\":\"\"}}}],\"scatterternary\":[{\"type\":\"scatterternary\",\"marker\":{\"colorbar\":{\"outlinewidth\":0,\"ticks\":\"\"}}}],\"scattercarpet\":[{\"type\":\"scattercarpet\",\"marker\":{\"colorbar\":{\"outlinewidth\":0,\"ticks\":\"\"}}}],\"carpet\":[{\"aaxis\":{\"endlinecolor\":\"#2a3f5f\",\"gridcolor\":\"white\",\"linecolor\":\"white\",\"minorgridcolor\":\"white\",\"startlinecolor\":\"#2a3f5f\"},\"baxis\":{\"endlinecolor\":\"#2a3f5f\",\"gridcolor\":\"white\",\"linecolor\":\"white\",\"minorgridcolor\":\"white\",\"startlinecolor\":\"#2a3f5f\"},\"type\":\"carpet\"}],\"table\":[{\"cells\":{\"fill\":{\"color\":\"#EBF0F8\"},\"line\":{\"color\":\"white\"}},\"header\":{\"fill\":{\"color\":\"#C8D4E3\"},\"line\":{\"color\":\"white\"}},\"type\":\"table\"}],\"barpolar\":[{\"marker\":{\"line\":{\"color\":\"#E5ECF6\",\"width\":0.5},\"pattern\":{\"fillmode\":\"overlay\",\"size\":10,\"solidity\":0.2}},\"type\":\"barpolar\"}],\"pie\":[{\"automargin\":true,\"type\":\"pie\"}]},\"layout\":{\"autotypenumbers\":\"strict\",\"colorway\":[\"#636efa\",\"#EF553B\",\"#00cc96\",\"#ab63fa\",\"#FFA15A\",\"#19d3f3\",\"#FF6692\",\"#B6E880\",\"#FF97FF\",\"#FECB52\"],\"font\":{\"color\":\"#2a3f5f\"},\"hovermode\":\"closest\",\"hoverlabel\":{\"align\":\"left\"},\"paper_bgcolor\":\"white\",\"plot_bgcolor\":\"#E5ECF6\",\"polar\":{\"bgcolor\":\"#E5ECF6\",\"angularaxis\":{\"gridcolor\":\"white\",\"linecolor\":\"white\",\"ticks\":\"\"},\"radialaxis\":{\"gridcolor\":\"white\",\"linecolor\":\"white\",\"ticks\":\"\"}},\"ternary\":{\"bgcolor\":\"#E5ECF6\",\"aaxis\":{\"gridcolor\":\"white\",\"linecolor\":\"white\",\"ticks\":\"\"},\"baxis\":{\"gridcolor\":\"white\",\"linecolor\":\"white\",\"ticks\":\"\"},\"caxis\":{\"gridcolor\":\"white\",\"linecolor\":\"white\",\"ticks\":\"\"}},\"coloraxis\":{\"colorbar\":{\"outlinewidth\":0,\"ticks\":\"\"}},\"colorscale\":{\"sequential\":[[0.0,\"#0d0887\"],[0.1111111111111111,\"#46039f\"],[0.2222222222222222,\"#7201a8\"],[0.3333333333333333,\"#9c179e\"],[0.4444444444444444,\"#bd3786\"],[0.5555555555555556,\"#d8576b\"],[0.6666666666666666,\"#ed7953\"],[0.7777777777777778,\"#fb9f3a\"],[0.8888888888888888,\"#fdca26\"],[1.0,\"#f0f921\"]],\"sequentialminus\":[[0.0,\"#0d0887\"],[0.1111111111111111,\"#46039f\"],[0.2222222222222222,\"#7201a8\"],[0.3333333333333333,\"#9c179e\"],[0.4444444444444444,\"#bd3786\"],[0.5555555555555556,\"#d8576b\"],[0.6666666666666666,\"#ed7953\"],[0.7777777777777778,\"#fb9f3a\"],[0.8888888888888888,\"#fdca26\"],[1.0,\"#f0f921\"]],\"diverging\":[[0,\"#8e0152\"],[0.1,\"#c51b7d\"],[0.2,\"#de77ae\"],[0.3,\"#f1b6da\"],[0.4,\"#fde0ef\"],[0.5,\"#f7f7f7\"],[0.6,\"#e6f5d0\"],[0.7,\"#b8e186\"],[0.8,\"#7fbc41\"],[0.9,\"#4d9221\"],[1,\"#276419\"]]},\"xaxis\":{\"gridcolor\":\"white\",\"linecolor\":\"white\",\"ticks\":\"\",\"title\":{\"standoff\":15},\"zerolinecolor\":\"white\",\"automargin\":true,\"zerolinewidth\":2},\"yaxis\":{\"gridcolor\":\"white\",\"linecolor\":\"white\",\"ticks\":\"\",\"title\":{\"standoff\":15},\"zerolinecolor\":\"white\",\"automargin\":true,\"zerolinewidth\":2},\"scene\":{\"xaxis\":{\"backgroundcolor\":\"#E5ECF6\",\"gridcolor\":\"white\",\"linecolor\":\"white\",\"showbackground\":true,\"ticks\":\"\",\"zerolinecolor\":\"white\",\"gridwidth\":2},\"yaxis\":{\"backgroundcolor\":\"#E5ECF6\",\"gridcolor\":\"white\",\"linecolor\":\"white\",\"showbackground\":true,\"ticks\":\"\",\"zerolinecolor\":\"white\",\"gridwidth\":2},\"zaxis\":{\"backgroundcolor\":\"#E5ECF6\",\"gridcolor\":\"white\",\"linecolor\":\"white\",\"showbackground\":true,\"ticks\":\"\",\"zerolinecolor\":\"white\",\"gridwidth\":2}},\"shapedefaults\":{\"line\":{\"color\":\"#2a3f5f\"}},\"annotationdefaults\":{\"arrowcolor\":\"#2a3f5f\",\"arrowhead\":0,\"arrowwidth\":1},\"geo\":{\"bgcolor\":\"white\",\"landcolor\":\"#E5ECF6\",\"subunitcolor\":\"white\",\"showland\":true,\"showlakes\":true,\"lakecolor\":\"white\"},\"title\":{\"x\":0.05},\"mapbox\":{\"style\":\"light\"}}},\"xaxis\":{\"anchor\":\"y\",\"domain\":[0.0,1.0],\"title\":{\"text\":\"year\"}},\"yaxis\":{\"anchor\":\"x\",\"domain\":[0.0,1.0],\"title\":{\"text\":\"loudness\"}},\"legend\":{\"tracegroupgap\":0},\"title\":{\"text\":\"Varia\\u00e7\\u00e3o de loudness durante os anos\"}},                        {\"responsive\": true}                    ).then(function(){\n",
       "                            \n",
       "var gd = document.getElementById('db32fd12-c1a1-4623-994d-e4cfb8b0fbfe');\n",
       "var x = new MutationObserver(function (mutations, observer) {{\n",
       "        var display = window.getComputedStyle(gd).display;\n",
       "        if (!display || display === 'none') {{\n",
       "            console.log([gd, 'removed!']);\n",
       "            Plotly.purge(gd);\n",
       "            observer.disconnect();\n",
       "        }}\n",
       "}});\n",
       "\n",
       "// Listen for the removal of the full notebook cells\n",
       "var notebookContainer = gd.closest('#notebook-container');\n",
       "if (notebookContainer) {{\n",
       "    x.observe(notebookContainer, {childList: true});\n",
       "}}\n",
       "\n",
       "// Listen for the clearing of the current output cell\n",
       "var outputEl = gd.closest('.output');\n",
       "if (outputEl) {{\n",
       "    x.observe(outputEl, {childList: true});\n",
       "}}\n",
       "\n",
       "                        })                };                });            </script>        </div>"
      ]
     },
     "metadata": {},
     "output_type": "display_data"
    }
   ],
   "source": [
    "# Podemos estudar a relação entre as variáveis loudness e year utilizando um gráfico interativo:\n",
    "\n",
    "import plotly.express as px\n",
    "\n",
    "fig = px.line(dados_anos.toPandas(), x = 'year', y = 'loudness', markers = True, title = 'Variação de loudness durante os anos')\n",
    "fig.show()\n",
    "\n",
    "# Veremos que o gráfico abaixo é inconclusivo:"
   ]
  },
  {
   "cell_type": "code",
   "execution_count": 171,
   "id": "37dfceb2",
   "metadata": {},
   "outputs": [
    {
     "data": {
      "application/vnd.plotly.v1+json": {
       "config": {
        "plotlyServerURL": "https://plot.ly"
       },
       "data": [
        {
         "name": "Acousticness",
         "type": "scatter",
         "x": [
          2000,
          2001,
          2002,
          2003,
          2004,
          2005,
          2006,
          2007,
          2008,
          2009,
          2010,
          2011,
          2012,
          2013,
          2014,
          2015,
          2016,
          2017,
          2018,
          2019,
          2020
         ],
         "y": [
          0.28932270051635994,
          0.2868424748428934,
          0.28262428988500105,
          0.25647051817297833,
          0.2805589466225845,
          0.2557635068666665,
          0.2799863520256408,
          0.2540809575538463,
          0.2491917627212275,
          0.26192861909693904,
          0.2426866435515872,
          0.27318266251859197,
          0.24995304438046245,
          0.2574880859564779,
          0.24931264588029906,
          0.2539522577102332,
          0.28417102995548144,
          0.2860990665261043,
          0.2676329907750836,
          0.2782985863365824,
          0.2199308880935964
         ]
        },
        {
         "name": "Valence",
         "type": "scatter",
         "x": [
          2000,
          2001,
          2002,
          2003,
          2004,
          2005,
          2006,
          2007,
          2008,
          2009,
          2010,
          2011,
          2012,
          2013,
          2014,
          2015,
          2016,
          2017,
          2018,
          2019,
          2020
         ],
         "y": [
          0.5594754601226991,
          0.541479107231919,
          0.5423971500000008,
          0.5305042476970324,
          0.5244885554425227,
          0.5325309230769236,
          0.5200283076923078,
          0.5167938461538473,
          0.5275418925831203,
          0.5071696617346935,
          0.5208951587301589,
          0.4724536787307882,
          0.4627090128534706,
          0.4547411943319834,
          0.4630487780548628,
          0.4320983687943254,
          0.4315320589872012,
          0.4164763112449793,
          0.4479212743699474,
          0.4588176295536167,
          0.5010478078817729
         ]
        },
        {
         "name": "Danceability",
         "type": "scatter",
         "x": [
          2000,
          2001,
          2002,
          2003,
          2004,
          2005,
          2006,
          2007,
          2008,
          2009,
          2010,
          2011,
          2012,
          2013,
          2014,
          2015,
          2016,
          2017,
          2018,
          2019,
          2020
         ],
         "y": [
          0.590918047034764,
          0.5833178553615969,
          0.5761602999999997,
          0.5757633060388944,
          0.5676803662258397,
          0.5722805641025652,
          0.5682301538461539,
          0.5634143589743592,
          0.5791928388746803,
          0.5641903571428577,
          0.5724883432539687,
          0.5528669806643526,
          0.5708818508997433,
          0.5711480263157896,
          0.5899476807980057,
          0.5937740628166152,
          0.6002023928770179,
          0.6122170180722886,
          0.6635004755111744,
          0.6448141097998967,
          0.6929043349753701
         ]
        },
        {
         "name": "Energy",
         "type": "scatter",
         "x": [
          2000,
          2001,
          2002,
          2003,
          2004,
          2005,
          2006,
          2007,
          2008,
          2009,
          2010,
          2011,
          2012,
          2013,
          2014,
          2015,
          2016,
          2017,
          2018,
          2019,
          2020
         ],
         "y": [
          0.6254128323108387,
          0.6269855221945144,
          0.6412697960000012,
          0.6601652610030712,
          0.6488679450661226,
          0.653208511282051,
          0.6503262820512825,
          0.6683047743589737,
          0.6714608207672623,
          0.6707487551020408,
          0.6817778026289684,
          0.6483008934060499,
          0.6565714601542408,
          0.6455968914473688,
          0.6487954437905223,
          0.6270642715298895,
          0.5928552316082347,
          0.5904210208835337,
          0.6024346220161672,
          0.5932240360184717,
          0.6312316354679793
         ]
        },
        {
         "name": "Instrumentalness",
         "type": "scatter",
         "x": [
          2000,
          2001,
          2002,
          2003,
          2004,
          2005,
          2006,
          2007,
          2008,
          2009,
          2010,
          2011,
          2012,
          2013,
          2014,
          2015,
          2016,
          2017,
          2018,
          2019,
          2020
         ],
         "y": [
          0.10116776879345596,
          0.10721401899251867,
          0.08804835031499995,
          0.08304927466734914,
          0.07793403490844357,
          0.09019436118461543,
          0.07770147187692314,
          0.07295726805128197,
          0.0636620903171356,
          0.07587207368367352,
          0.08298056821924611,
          0.10377233216658402,
          0.08520552067866319,
          0.09836505391700387,
          0.07656955483790515,
          0.1067868780547114,
          0.09398438711741793,
          0.09709060906626496,
          0.05421712166904419,
          0.07764024697280643,
          0.016375524305418724
         ]
        },
        {
         "name": "Liveness",
         "type": "scatter",
         "x": [
          2000,
          2001,
          2002,
          2003,
          2004,
          2005,
          2006,
          2007,
          2008,
          2009,
          2010,
          2011,
          2012,
          2013,
          2014,
          2015,
          2016,
          2017,
          2018,
          2019,
          2020
         ],
         "y": [
          0.1976860429447853,
          0.18702563591022486,
          0.1939111999999998,
          0.19697630501535301,
          0.2021994404883014,
          0.19008162564102585,
          0.1882892820512821,
          0.19612656410256424,
          0.19843140664961625,
          0.2052522959183674,
          0.19970064484126995,
          0.20330882498760566,
          0.1897330077120824,
          0.19963081983805714,
          0.1918215960099752,
          0.18885643363728474,
          0.18116989426822505,
          0.1917126004016064,
          0.17632553495007114,
          0.17261641867624464,
          0.1785354187192117
         ]
        },
        {
         "name": "Speechiness",
         "type": "scatter",
         "x": [
          2000,
          2001,
          2002,
          2003,
          2004,
          2005,
          2006,
          2007,
          2008,
          2009,
          2010,
          2011,
          2012,
          2013,
          2014,
          2015,
          2016,
          2017,
          2018,
          2019,
          2020
         ],
         "y": [
          0.08920541922290394,
          0.08918229426433916,
          0.08430759999999995,
          0.09392574206755384,
          0.09423880976602242,
          0.09333369230769203,
          0.08584676923076921,
          0.08434733333333336,
          0.07735636828644507,
          0.08545780612244899,
          0.08103149801587313,
          0.08747927615270201,
          0.08174246786632405,
          0.09384888663967614,
          0.08406054862842896,
          0.09677922998986847,
          0.10431329994435183,
          0.1105364959839356,
          0.12717555872563022,
          0.12104335556695732,
          0.14138369458128058
         ]
        }
       ],
       "layout": {
        "template": {
         "data": {
          "bar": [
           {
            "error_x": {
             "color": "#2a3f5f"
            },
            "error_y": {
             "color": "#2a3f5f"
            },
            "marker": {
             "line": {
              "color": "#E5ECF6",
              "width": 0.5
             },
             "pattern": {
              "fillmode": "overlay",
              "size": 10,
              "solidity": 0.2
             }
            },
            "type": "bar"
           }
          ],
          "barpolar": [
           {
            "marker": {
             "line": {
              "color": "#E5ECF6",
              "width": 0.5
             },
             "pattern": {
              "fillmode": "overlay",
              "size": 10,
              "solidity": 0.2
             }
            },
            "type": "barpolar"
           }
          ],
          "carpet": [
           {
            "aaxis": {
             "endlinecolor": "#2a3f5f",
             "gridcolor": "white",
             "linecolor": "white",
             "minorgridcolor": "white",
             "startlinecolor": "#2a3f5f"
            },
            "baxis": {
             "endlinecolor": "#2a3f5f",
             "gridcolor": "white",
             "linecolor": "white",
             "minorgridcolor": "white",
             "startlinecolor": "#2a3f5f"
            },
            "type": "carpet"
           }
          ],
          "choropleth": [
           {
            "colorbar": {
             "outlinewidth": 0,
             "ticks": ""
            },
            "type": "choropleth"
           }
          ],
          "contour": [
           {
            "colorbar": {
             "outlinewidth": 0,
             "ticks": ""
            },
            "colorscale": [
             [
              0,
              "#0d0887"
             ],
             [
              0.1111111111111111,
              "#46039f"
             ],
             [
              0.2222222222222222,
              "#7201a8"
             ],
             [
              0.3333333333333333,
              "#9c179e"
             ],
             [
              0.4444444444444444,
              "#bd3786"
             ],
             [
              0.5555555555555556,
              "#d8576b"
             ],
             [
              0.6666666666666666,
              "#ed7953"
             ],
             [
              0.7777777777777778,
              "#fb9f3a"
             ],
             [
              0.8888888888888888,
              "#fdca26"
             ],
             [
              1,
              "#f0f921"
             ]
            ],
            "type": "contour"
           }
          ],
          "contourcarpet": [
           {
            "colorbar": {
             "outlinewidth": 0,
             "ticks": ""
            },
            "type": "contourcarpet"
           }
          ],
          "heatmap": [
           {
            "colorbar": {
             "outlinewidth": 0,
             "ticks": ""
            },
            "colorscale": [
             [
              0,
              "#0d0887"
             ],
             [
              0.1111111111111111,
              "#46039f"
             ],
             [
              0.2222222222222222,
              "#7201a8"
             ],
             [
              0.3333333333333333,
              "#9c179e"
             ],
             [
              0.4444444444444444,
              "#bd3786"
             ],
             [
              0.5555555555555556,
              "#d8576b"
             ],
             [
              0.6666666666666666,
              "#ed7953"
             ],
             [
              0.7777777777777778,
              "#fb9f3a"
             ],
             [
              0.8888888888888888,
              "#fdca26"
             ],
             [
              1,
              "#f0f921"
             ]
            ],
            "type": "heatmap"
           }
          ],
          "heatmapgl": [
           {
            "colorbar": {
             "outlinewidth": 0,
             "ticks": ""
            },
            "colorscale": [
             [
              0,
              "#0d0887"
             ],
             [
              0.1111111111111111,
              "#46039f"
             ],
             [
              0.2222222222222222,
              "#7201a8"
             ],
             [
              0.3333333333333333,
              "#9c179e"
             ],
             [
              0.4444444444444444,
              "#bd3786"
             ],
             [
              0.5555555555555556,
              "#d8576b"
             ],
             [
              0.6666666666666666,
              "#ed7953"
             ],
             [
              0.7777777777777778,
              "#fb9f3a"
             ],
             [
              0.8888888888888888,
              "#fdca26"
             ],
             [
              1,
              "#f0f921"
             ]
            ],
            "type": "heatmapgl"
           }
          ],
          "histogram": [
           {
            "marker": {
             "pattern": {
              "fillmode": "overlay",
              "size": 10,
              "solidity": 0.2
             }
            },
            "type": "histogram"
           }
          ],
          "histogram2d": [
           {
            "colorbar": {
             "outlinewidth": 0,
             "ticks": ""
            },
            "colorscale": [
             [
              0,
              "#0d0887"
             ],
             [
              0.1111111111111111,
              "#46039f"
             ],
             [
              0.2222222222222222,
              "#7201a8"
             ],
             [
              0.3333333333333333,
              "#9c179e"
             ],
             [
              0.4444444444444444,
              "#bd3786"
             ],
             [
              0.5555555555555556,
              "#d8576b"
             ],
             [
              0.6666666666666666,
              "#ed7953"
             ],
             [
              0.7777777777777778,
              "#fb9f3a"
             ],
             [
              0.8888888888888888,
              "#fdca26"
             ],
             [
              1,
              "#f0f921"
             ]
            ],
            "type": "histogram2d"
           }
          ],
          "histogram2dcontour": [
           {
            "colorbar": {
             "outlinewidth": 0,
             "ticks": ""
            },
            "colorscale": [
             [
              0,
              "#0d0887"
             ],
             [
              0.1111111111111111,
              "#46039f"
             ],
             [
              0.2222222222222222,
              "#7201a8"
             ],
             [
              0.3333333333333333,
              "#9c179e"
             ],
             [
              0.4444444444444444,
              "#bd3786"
             ],
             [
              0.5555555555555556,
              "#d8576b"
             ],
             [
              0.6666666666666666,
              "#ed7953"
             ],
             [
              0.7777777777777778,
              "#fb9f3a"
             ],
             [
              0.8888888888888888,
              "#fdca26"
             ],
             [
              1,
              "#f0f921"
             ]
            ],
            "type": "histogram2dcontour"
           }
          ],
          "mesh3d": [
           {
            "colorbar": {
             "outlinewidth": 0,
             "ticks": ""
            },
            "type": "mesh3d"
           }
          ],
          "parcoords": [
           {
            "line": {
             "colorbar": {
              "outlinewidth": 0,
              "ticks": ""
             }
            },
            "type": "parcoords"
           }
          ],
          "pie": [
           {
            "automargin": true,
            "type": "pie"
           }
          ],
          "scatter": [
           {
            "fillpattern": {
             "fillmode": "overlay",
             "size": 10,
             "solidity": 0.2
            },
            "type": "scatter"
           }
          ],
          "scatter3d": [
           {
            "line": {
             "colorbar": {
              "outlinewidth": 0,
              "ticks": ""
             }
            },
            "marker": {
             "colorbar": {
              "outlinewidth": 0,
              "ticks": ""
             }
            },
            "type": "scatter3d"
           }
          ],
          "scattercarpet": [
           {
            "marker": {
             "colorbar": {
              "outlinewidth": 0,
              "ticks": ""
             }
            },
            "type": "scattercarpet"
           }
          ],
          "scattergeo": [
           {
            "marker": {
             "colorbar": {
              "outlinewidth": 0,
              "ticks": ""
             }
            },
            "type": "scattergeo"
           }
          ],
          "scattergl": [
           {
            "marker": {
             "colorbar": {
              "outlinewidth": 0,
              "ticks": ""
             }
            },
            "type": "scattergl"
           }
          ],
          "scattermapbox": [
           {
            "marker": {
             "colorbar": {
              "outlinewidth": 0,
              "ticks": ""
             }
            },
            "type": "scattermapbox"
           }
          ],
          "scatterpolar": [
           {
            "marker": {
             "colorbar": {
              "outlinewidth": 0,
              "ticks": ""
             }
            },
            "type": "scatterpolar"
           }
          ],
          "scatterpolargl": [
           {
            "marker": {
             "colorbar": {
              "outlinewidth": 0,
              "ticks": ""
             }
            },
            "type": "scatterpolargl"
           }
          ],
          "scatterternary": [
           {
            "marker": {
             "colorbar": {
              "outlinewidth": 0,
              "ticks": ""
             }
            },
            "type": "scatterternary"
           }
          ],
          "surface": [
           {
            "colorbar": {
             "outlinewidth": 0,
             "ticks": ""
            },
            "colorscale": [
             [
              0,
              "#0d0887"
             ],
             [
              0.1111111111111111,
              "#46039f"
             ],
             [
              0.2222222222222222,
              "#7201a8"
             ],
             [
              0.3333333333333333,
              "#9c179e"
             ],
             [
              0.4444444444444444,
              "#bd3786"
             ],
             [
              0.5555555555555556,
              "#d8576b"
             ],
             [
              0.6666666666666666,
              "#ed7953"
             ],
             [
              0.7777777777777778,
              "#fb9f3a"
             ],
             [
              0.8888888888888888,
              "#fdca26"
             ],
             [
              1,
              "#f0f921"
             ]
            ],
            "type": "surface"
           }
          ],
          "table": [
           {
            "cells": {
             "fill": {
              "color": "#EBF0F8"
             },
             "line": {
              "color": "white"
             }
            },
            "header": {
             "fill": {
              "color": "#C8D4E3"
             },
             "line": {
              "color": "white"
             }
            },
            "type": "table"
           }
          ]
         },
         "layout": {
          "annotationdefaults": {
           "arrowcolor": "#2a3f5f",
           "arrowhead": 0,
           "arrowwidth": 1
          },
          "autotypenumbers": "strict",
          "coloraxis": {
           "colorbar": {
            "outlinewidth": 0,
            "ticks": ""
           }
          },
          "colorscale": {
           "diverging": [
            [
             0,
             "#8e0152"
            ],
            [
             0.1,
             "#c51b7d"
            ],
            [
             0.2,
             "#de77ae"
            ],
            [
             0.3,
             "#f1b6da"
            ],
            [
             0.4,
             "#fde0ef"
            ],
            [
             0.5,
             "#f7f7f7"
            ],
            [
             0.6,
             "#e6f5d0"
            ],
            [
             0.7,
             "#b8e186"
            ],
            [
             0.8,
             "#7fbc41"
            ],
            [
             0.9,
             "#4d9221"
            ],
            [
             1,
             "#276419"
            ]
           ],
           "sequential": [
            [
             0,
             "#0d0887"
            ],
            [
             0.1111111111111111,
             "#46039f"
            ],
            [
             0.2222222222222222,
             "#7201a8"
            ],
            [
             0.3333333333333333,
             "#9c179e"
            ],
            [
             0.4444444444444444,
             "#bd3786"
            ],
            [
             0.5555555555555556,
             "#d8576b"
            ],
            [
             0.6666666666666666,
             "#ed7953"
            ],
            [
             0.7777777777777778,
             "#fb9f3a"
            ],
            [
             0.8888888888888888,
             "#fdca26"
            ],
            [
             1,
             "#f0f921"
            ]
           ],
           "sequentialminus": [
            [
             0,
             "#0d0887"
            ],
            [
             0.1111111111111111,
             "#46039f"
            ],
            [
             0.2222222222222222,
             "#7201a8"
            ],
            [
             0.3333333333333333,
             "#9c179e"
            ],
            [
             0.4444444444444444,
             "#bd3786"
            ],
            [
             0.5555555555555556,
             "#d8576b"
            ],
            [
             0.6666666666666666,
             "#ed7953"
            ],
            [
             0.7777777777777778,
             "#fb9f3a"
            ],
            [
             0.8888888888888888,
             "#fdca26"
            ],
            [
             1,
             "#f0f921"
            ]
           ]
          },
          "colorway": [
           "#636efa",
           "#EF553B",
           "#00cc96",
           "#ab63fa",
           "#FFA15A",
           "#19d3f3",
           "#FF6692",
           "#B6E880",
           "#FF97FF",
           "#FECB52"
          ],
          "font": {
           "color": "#2a3f5f"
          },
          "geo": {
           "bgcolor": "white",
           "lakecolor": "white",
           "landcolor": "#E5ECF6",
           "showlakes": true,
           "showland": true,
           "subunitcolor": "white"
          },
          "hoverlabel": {
           "align": "left"
          },
          "hovermode": "closest",
          "mapbox": {
           "style": "light"
          },
          "paper_bgcolor": "white",
          "plot_bgcolor": "#E5ECF6",
          "polar": {
           "angularaxis": {
            "gridcolor": "white",
            "linecolor": "white",
            "ticks": ""
           },
           "bgcolor": "#E5ECF6",
           "radialaxis": {
            "gridcolor": "white",
            "linecolor": "white",
            "ticks": ""
           }
          },
          "scene": {
           "xaxis": {
            "backgroundcolor": "#E5ECF6",
            "gridcolor": "white",
            "gridwidth": 2,
            "linecolor": "white",
            "showbackground": true,
            "ticks": "",
            "zerolinecolor": "white"
           },
           "yaxis": {
            "backgroundcolor": "#E5ECF6",
            "gridcolor": "white",
            "gridwidth": 2,
            "linecolor": "white",
            "showbackground": true,
            "ticks": "",
            "zerolinecolor": "white"
           },
           "zaxis": {
            "backgroundcolor": "#E5ECF6",
            "gridcolor": "white",
            "gridwidth": 2,
            "linecolor": "white",
            "showbackground": true,
            "ticks": "",
            "zerolinecolor": "white"
           }
          },
          "shapedefaults": {
           "line": {
            "color": "#2a3f5f"
           }
          },
          "ternary": {
           "aaxis": {
            "gridcolor": "white",
            "linecolor": "white",
            "ticks": ""
           },
           "baxis": {
            "gridcolor": "white",
            "linecolor": "white",
            "ticks": ""
           },
           "bgcolor": "#E5ECF6",
           "caxis": {
            "gridcolor": "white",
            "linecolor": "white",
            "ticks": ""
           }
          },
          "title": {
           "x": 0.05
          },
          "xaxis": {
           "automargin": true,
           "gridcolor": "white",
           "linecolor": "white",
           "ticks": "",
           "title": {
            "standoff": 15
           },
           "zerolinecolor": "white",
           "zerolinewidth": 2
          },
          "yaxis": {
           "automargin": true,
           "gridcolor": "white",
           "linecolor": "white",
           "ticks": "",
           "title": {
            "standoff": 15
           },
           "zerolinecolor": "white",
           "zerolinewidth": 2
          }
         }
        }
       }
      },
      "text/html": [
       "<div>                            <div id=\"c71bf98a-1df6-400d-8a89-b4d2c3a65de5\" class=\"plotly-graph-div\" style=\"height:525px; width:100%;\"></div>            <script type=\"text/javascript\">                require([\"plotly\"], function(Plotly) {                    window.PLOTLYENV=window.PLOTLYENV || {};                                    if (document.getElementById(\"c71bf98a-1df6-400d-8a89-b4d2c3a65de5\")) {                    Plotly.newPlot(                        \"c71bf98a-1df6-400d-8a89-b4d2c3a65de5\",                        [{\"name\":\"Acousticness\",\"x\":[2000,2001,2002,2003,2004,2005,2006,2007,2008,2009,2010,2011,2012,2013,2014,2015,2016,2017,2018,2019,2020],\"y\":[0.28932270051635994,0.2868424748428934,0.28262428988500105,0.25647051817297833,0.2805589466225845,0.2557635068666665,0.2799863520256408,0.2540809575538463,0.2491917627212275,0.26192861909693904,0.2426866435515872,0.27318266251859197,0.24995304438046245,0.2574880859564779,0.24931264588029906,0.2539522577102332,0.28417102995548144,0.2860990665261043,0.2676329907750836,0.2782985863365824,0.2199308880935964],\"type\":\"scatter\"},{\"name\":\"Valence\",\"x\":[2000,2001,2002,2003,2004,2005,2006,2007,2008,2009,2010,2011,2012,2013,2014,2015,2016,2017,2018,2019,2020],\"y\":[0.5594754601226991,0.541479107231919,0.5423971500000008,0.5305042476970324,0.5244885554425227,0.5325309230769236,0.5200283076923078,0.5167938461538473,0.5275418925831203,0.5071696617346935,0.5208951587301589,0.4724536787307882,0.4627090128534706,0.4547411943319834,0.4630487780548628,0.4320983687943254,0.4315320589872012,0.4164763112449793,0.4479212743699474,0.4588176295536167,0.5010478078817729],\"type\":\"scatter\"},{\"name\":\"Danceability\",\"x\":[2000,2001,2002,2003,2004,2005,2006,2007,2008,2009,2010,2011,2012,2013,2014,2015,2016,2017,2018,2019,2020],\"y\":[0.590918047034764,0.5833178553615969,0.5761602999999997,0.5757633060388944,0.5676803662258397,0.5722805641025652,0.5682301538461539,0.5634143589743592,0.5791928388746803,0.5641903571428577,0.5724883432539687,0.5528669806643526,0.5708818508997433,0.5711480263157896,0.5899476807980057,0.5937740628166152,0.6002023928770179,0.6122170180722886,0.6635004755111744,0.6448141097998967,0.6929043349753701],\"type\":\"scatter\"},{\"name\":\"Energy\",\"x\":[2000,2001,2002,2003,2004,2005,2006,2007,2008,2009,2010,2011,2012,2013,2014,2015,2016,2017,2018,2019,2020],\"y\":[0.6254128323108387,0.6269855221945144,0.6412697960000012,0.6601652610030712,0.6488679450661226,0.653208511282051,0.6503262820512825,0.6683047743589737,0.6714608207672623,0.6707487551020408,0.6817778026289684,0.6483008934060499,0.6565714601542408,0.6455968914473688,0.6487954437905223,0.6270642715298895,0.5928552316082347,0.5904210208835337,0.6024346220161672,0.5932240360184717,0.6312316354679793],\"type\":\"scatter\"},{\"name\":\"Instrumentalness\",\"x\":[2000,2001,2002,2003,2004,2005,2006,2007,2008,2009,2010,2011,2012,2013,2014,2015,2016,2017,2018,2019,2020],\"y\":[0.10116776879345596,0.10721401899251867,0.08804835031499995,0.08304927466734914,0.07793403490844357,0.09019436118461543,0.07770147187692314,0.07295726805128197,0.0636620903171356,0.07587207368367352,0.08298056821924611,0.10377233216658402,0.08520552067866319,0.09836505391700387,0.07656955483790515,0.1067868780547114,0.09398438711741793,0.09709060906626496,0.05421712166904419,0.07764024697280643,0.016375524305418724],\"type\":\"scatter\"},{\"name\":\"Liveness\",\"x\":[2000,2001,2002,2003,2004,2005,2006,2007,2008,2009,2010,2011,2012,2013,2014,2015,2016,2017,2018,2019,2020],\"y\":[0.1976860429447853,0.18702563591022486,0.1939111999999998,0.19697630501535301,0.2021994404883014,0.19008162564102585,0.1882892820512821,0.19612656410256424,0.19843140664961625,0.2052522959183674,0.19970064484126995,0.20330882498760566,0.1897330077120824,0.19963081983805714,0.1918215960099752,0.18885643363728474,0.18116989426822505,0.1917126004016064,0.17632553495007114,0.17261641867624464,0.1785354187192117],\"type\":\"scatter\"},{\"name\":\"Speechiness\",\"x\":[2000,2001,2002,2003,2004,2005,2006,2007,2008,2009,2010,2011,2012,2013,2014,2015,2016,2017,2018,2019,2020],\"y\":[0.08920541922290394,0.08918229426433916,0.08430759999999995,0.09392574206755384,0.09423880976602242,0.09333369230769203,0.08584676923076921,0.08434733333333336,0.07735636828644507,0.08545780612244899,0.08103149801587313,0.08747927615270201,0.08174246786632405,0.09384888663967614,0.08406054862842896,0.09677922998986847,0.10431329994435183,0.1105364959839356,0.12717555872563022,0.12104335556695732,0.14138369458128058],\"type\":\"scatter\"}],                        {\"template\":{\"data\":{\"histogram2dcontour\":[{\"type\":\"histogram2dcontour\",\"colorbar\":{\"outlinewidth\":0,\"ticks\":\"\"},\"colorscale\":[[0.0,\"#0d0887\"],[0.1111111111111111,\"#46039f\"],[0.2222222222222222,\"#7201a8\"],[0.3333333333333333,\"#9c179e\"],[0.4444444444444444,\"#bd3786\"],[0.5555555555555556,\"#d8576b\"],[0.6666666666666666,\"#ed7953\"],[0.7777777777777778,\"#fb9f3a\"],[0.8888888888888888,\"#fdca26\"],[1.0,\"#f0f921\"]]}],\"choropleth\":[{\"type\":\"choropleth\",\"colorbar\":{\"outlinewidth\":0,\"ticks\":\"\"}}],\"histogram2d\":[{\"type\":\"histogram2d\",\"colorbar\":{\"outlinewidth\":0,\"ticks\":\"\"},\"colorscale\":[[0.0,\"#0d0887\"],[0.1111111111111111,\"#46039f\"],[0.2222222222222222,\"#7201a8\"],[0.3333333333333333,\"#9c179e\"],[0.4444444444444444,\"#bd3786\"],[0.5555555555555556,\"#d8576b\"],[0.6666666666666666,\"#ed7953\"],[0.7777777777777778,\"#fb9f3a\"],[0.8888888888888888,\"#fdca26\"],[1.0,\"#f0f921\"]]}],\"heatmap\":[{\"type\":\"heatmap\",\"colorbar\":{\"outlinewidth\":0,\"ticks\":\"\"},\"colorscale\":[[0.0,\"#0d0887\"],[0.1111111111111111,\"#46039f\"],[0.2222222222222222,\"#7201a8\"],[0.3333333333333333,\"#9c179e\"],[0.4444444444444444,\"#bd3786\"],[0.5555555555555556,\"#d8576b\"],[0.6666666666666666,\"#ed7953\"],[0.7777777777777778,\"#fb9f3a\"],[0.8888888888888888,\"#fdca26\"],[1.0,\"#f0f921\"]]}],\"heatmapgl\":[{\"type\":\"heatmapgl\",\"colorbar\":{\"outlinewidth\":0,\"ticks\":\"\"},\"colorscale\":[[0.0,\"#0d0887\"],[0.1111111111111111,\"#46039f\"],[0.2222222222222222,\"#7201a8\"],[0.3333333333333333,\"#9c179e\"],[0.4444444444444444,\"#bd3786\"],[0.5555555555555556,\"#d8576b\"],[0.6666666666666666,\"#ed7953\"],[0.7777777777777778,\"#fb9f3a\"],[0.8888888888888888,\"#fdca26\"],[1.0,\"#f0f921\"]]}],\"contourcarpet\":[{\"type\":\"contourcarpet\",\"colorbar\":{\"outlinewidth\":0,\"ticks\":\"\"}}],\"contour\":[{\"type\":\"contour\",\"colorbar\":{\"outlinewidth\":0,\"ticks\":\"\"},\"colorscale\":[[0.0,\"#0d0887\"],[0.1111111111111111,\"#46039f\"],[0.2222222222222222,\"#7201a8\"],[0.3333333333333333,\"#9c179e\"],[0.4444444444444444,\"#bd3786\"],[0.5555555555555556,\"#d8576b\"],[0.6666666666666666,\"#ed7953\"],[0.7777777777777778,\"#fb9f3a\"],[0.8888888888888888,\"#fdca26\"],[1.0,\"#f0f921\"]]}],\"surface\":[{\"type\":\"surface\",\"colorbar\":{\"outlinewidth\":0,\"ticks\":\"\"},\"colorscale\":[[0.0,\"#0d0887\"],[0.1111111111111111,\"#46039f\"],[0.2222222222222222,\"#7201a8\"],[0.3333333333333333,\"#9c179e\"],[0.4444444444444444,\"#bd3786\"],[0.5555555555555556,\"#d8576b\"],[0.6666666666666666,\"#ed7953\"],[0.7777777777777778,\"#fb9f3a\"],[0.8888888888888888,\"#fdca26\"],[1.0,\"#f0f921\"]]}],\"mesh3d\":[{\"type\":\"mesh3d\",\"colorbar\":{\"outlinewidth\":0,\"ticks\":\"\"}}],\"scatter\":[{\"fillpattern\":{\"fillmode\":\"overlay\",\"size\":10,\"solidity\":0.2},\"type\":\"scatter\"}],\"parcoords\":[{\"type\":\"parcoords\",\"line\":{\"colorbar\":{\"outlinewidth\":0,\"ticks\":\"\"}}}],\"scatterpolargl\":[{\"type\":\"scatterpolargl\",\"marker\":{\"colorbar\":{\"outlinewidth\":0,\"ticks\":\"\"}}}],\"bar\":[{\"error_x\":{\"color\":\"#2a3f5f\"},\"error_y\":{\"color\":\"#2a3f5f\"},\"marker\":{\"line\":{\"color\":\"#E5ECF6\",\"width\":0.5},\"pattern\":{\"fillmode\":\"overlay\",\"size\":10,\"solidity\":0.2}},\"type\":\"bar\"}],\"scattergeo\":[{\"type\":\"scattergeo\",\"marker\":{\"colorbar\":{\"outlinewidth\":0,\"ticks\":\"\"}}}],\"scatterpolar\":[{\"type\":\"scatterpolar\",\"marker\":{\"colorbar\":{\"outlinewidth\":0,\"ticks\":\"\"}}}],\"histogram\":[{\"marker\":{\"pattern\":{\"fillmode\":\"overlay\",\"size\":10,\"solidity\":0.2}},\"type\":\"histogram\"}],\"scattergl\":[{\"type\":\"scattergl\",\"marker\":{\"colorbar\":{\"outlinewidth\":0,\"ticks\":\"\"}}}],\"scatter3d\":[{\"type\":\"scatter3d\",\"line\":{\"colorbar\":{\"outlinewidth\":0,\"ticks\":\"\"}},\"marker\":{\"colorbar\":{\"outlinewidth\":0,\"ticks\":\"\"}}}],\"scattermapbox\":[{\"type\":\"scattermapbox\",\"marker\":{\"colorbar\":{\"outlinewidth\":0,\"ticks\":\"\"}}}],\"scatterternary\":[{\"type\":\"scatterternary\",\"marker\":{\"colorbar\":{\"outlinewidth\":0,\"ticks\":\"\"}}}],\"scattercarpet\":[{\"type\":\"scattercarpet\",\"marker\":{\"colorbar\":{\"outlinewidth\":0,\"ticks\":\"\"}}}],\"carpet\":[{\"aaxis\":{\"endlinecolor\":\"#2a3f5f\",\"gridcolor\":\"white\",\"linecolor\":\"white\",\"minorgridcolor\":\"white\",\"startlinecolor\":\"#2a3f5f\"},\"baxis\":{\"endlinecolor\":\"#2a3f5f\",\"gridcolor\":\"white\",\"linecolor\":\"white\",\"minorgridcolor\":\"white\",\"startlinecolor\":\"#2a3f5f\"},\"type\":\"carpet\"}],\"table\":[{\"cells\":{\"fill\":{\"color\":\"#EBF0F8\"},\"line\":{\"color\":\"white\"}},\"header\":{\"fill\":{\"color\":\"#C8D4E3\"},\"line\":{\"color\":\"white\"}},\"type\":\"table\"}],\"barpolar\":[{\"marker\":{\"line\":{\"color\":\"#E5ECF6\",\"width\":0.5},\"pattern\":{\"fillmode\":\"overlay\",\"size\":10,\"solidity\":0.2}},\"type\":\"barpolar\"}],\"pie\":[{\"automargin\":true,\"type\":\"pie\"}]},\"layout\":{\"autotypenumbers\":\"strict\",\"colorway\":[\"#636efa\",\"#EF553B\",\"#00cc96\",\"#ab63fa\",\"#FFA15A\",\"#19d3f3\",\"#FF6692\",\"#B6E880\",\"#FF97FF\",\"#FECB52\"],\"font\":{\"color\":\"#2a3f5f\"},\"hovermode\":\"closest\",\"hoverlabel\":{\"align\":\"left\"},\"paper_bgcolor\":\"white\",\"plot_bgcolor\":\"#E5ECF6\",\"polar\":{\"bgcolor\":\"#E5ECF6\",\"angularaxis\":{\"gridcolor\":\"white\",\"linecolor\":\"white\",\"ticks\":\"\"},\"radialaxis\":{\"gridcolor\":\"white\",\"linecolor\":\"white\",\"ticks\":\"\"}},\"ternary\":{\"bgcolor\":\"#E5ECF6\",\"aaxis\":{\"gridcolor\":\"white\",\"linecolor\":\"white\",\"ticks\":\"\"},\"baxis\":{\"gridcolor\":\"white\",\"linecolor\":\"white\",\"ticks\":\"\"},\"caxis\":{\"gridcolor\":\"white\",\"linecolor\":\"white\",\"ticks\":\"\"}},\"coloraxis\":{\"colorbar\":{\"outlinewidth\":0,\"ticks\":\"\"}},\"colorscale\":{\"sequential\":[[0.0,\"#0d0887\"],[0.1111111111111111,\"#46039f\"],[0.2222222222222222,\"#7201a8\"],[0.3333333333333333,\"#9c179e\"],[0.4444444444444444,\"#bd3786\"],[0.5555555555555556,\"#d8576b\"],[0.6666666666666666,\"#ed7953\"],[0.7777777777777778,\"#fb9f3a\"],[0.8888888888888888,\"#fdca26\"],[1.0,\"#f0f921\"]],\"sequentialminus\":[[0.0,\"#0d0887\"],[0.1111111111111111,\"#46039f\"],[0.2222222222222222,\"#7201a8\"],[0.3333333333333333,\"#9c179e\"],[0.4444444444444444,\"#bd3786\"],[0.5555555555555556,\"#d8576b\"],[0.6666666666666666,\"#ed7953\"],[0.7777777777777778,\"#fb9f3a\"],[0.8888888888888888,\"#fdca26\"],[1.0,\"#f0f921\"]],\"diverging\":[[0,\"#8e0152\"],[0.1,\"#c51b7d\"],[0.2,\"#de77ae\"],[0.3,\"#f1b6da\"],[0.4,\"#fde0ef\"],[0.5,\"#f7f7f7\"],[0.6,\"#e6f5d0\"],[0.7,\"#b8e186\"],[0.8,\"#7fbc41\"],[0.9,\"#4d9221\"],[1,\"#276419\"]]},\"xaxis\":{\"gridcolor\":\"white\",\"linecolor\":\"white\",\"ticks\":\"\",\"title\":{\"standoff\":15},\"zerolinecolor\":\"white\",\"automargin\":true,\"zerolinewidth\":2},\"yaxis\":{\"gridcolor\":\"white\",\"linecolor\":\"white\",\"ticks\":\"\",\"title\":{\"standoff\":15},\"zerolinecolor\":\"white\",\"automargin\":true,\"zerolinewidth\":2},\"scene\":{\"xaxis\":{\"backgroundcolor\":\"#E5ECF6\",\"gridcolor\":\"white\",\"linecolor\":\"white\",\"showbackground\":true,\"ticks\":\"\",\"zerolinecolor\":\"white\",\"gridwidth\":2},\"yaxis\":{\"backgroundcolor\":\"#E5ECF6\",\"gridcolor\":\"white\",\"linecolor\":\"white\",\"showbackground\":true,\"ticks\":\"\",\"zerolinecolor\":\"white\",\"gridwidth\":2},\"zaxis\":{\"backgroundcolor\":\"#E5ECF6\",\"gridcolor\":\"white\",\"linecolor\":\"white\",\"showbackground\":true,\"ticks\":\"\",\"zerolinecolor\":\"white\",\"gridwidth\":2}},\"shapedefaults\":{\"line\":{\"color\":\"#2a3f5f\"}},\"annotationdefaults\":{\"arrowcolor\":\"#2a3f5f\",\"arrowhead\":0,\"arrowwidth\":1},\"geo\":{\"bgcolor\":\"white\",\"landcolor\":\"#E5ECF6\",\"subunitcolor\":\"white\",\"showland\":true,\"showlakes\":true,\"lakecolor\":\"white\"},\"title\":{\"x\":0.05},\"mapbox\":{\"style\":\"light\"}}}},                        {\"responsive\": true}                    ).then(function(){\n",
       "                            \n",
       "var gd = document.getElementById('c71bf98a-1df6-400d-8a89-b4d2c3a65de5');\n",
       "var x = new MutationObserver(function (mutations, observer) {{\n",
       "        var display = window.getComputedStyle(gd).display;\n",
       "        if (!display || display === 'none') {{\n",
       "            console.log([gd, 'removed!']);\n",
       "            Plotly.purge(gd);\n",
       "            observer.disconnect();\n",
       "        }}\n",
       "}});\n",
       "\n",
       "// Listen for the removal of the full notebook cells\n",
       "var notebookContainer = gd.closest('#notebook-container');\n",
       "if (notebookContainer) {{\n",
       "    x.observe(notebookContainer, {childList: true});\n",
       "}}\n",
       "\n",
       "// Listen for the clearing of the current output cell\n",
       "var outputEl = gd.closest('.output');\n",
       "if (outputEl) {{\n",
       "    x.observe(outputEl, {childList: true});\n",
       "}}\n",
       "\n",
       "                        })                };                });            </script>        </div>"
      ]
     },
     "metadata": {},
     "output_type": "display_data"
    }
   ],
   "source": [
    "# Podemos visualizar a relação entre mais variáveis durante os anos em um mesmo gráfico:\n",
    "\n",
    "import plotly.graph_objects as go\n",
    "\n",
    "fig = go.Figure()\n",
    "\n",
    "temp = dados_anos.toPandas()\n",
    "\n",
    "fig.add_trace(go.Scatter(x = temp['year'], y = temp['acousticness'], name = 'Acousticness'))\n",
    "\n",
    "fig.add_trace(go.Scatter(x = temp['year'], y = temp['valence'], name = 'Valence'))\n",
    "\n",
    "fig.add_trace(go.Scatter(x = temp['year'], y = temp['danceability'], name = 'Danceability'))\n",
    "\n",
    "fig.add_trace(go.Scatter(x = temp['year'], y = temp['energy'], name = 'Energy'))\n",
    "\n",
    "fig.add_trace(go.Scatter(x = temp['year'], y = temp['instrumentalness'], name = 'Instrumentalness'))\n",
    "\n",
    "fig.add_trace(go.Scatter(x = temp['year'], y = temp['liveness'], name = 'Liveness'))\n",
    "\n",
    "fig.add_trace(go.Scatter(x = temp['year'], y = temp['speechiness'], name = 'Speechiness'))\n",
    "\n",
    "\n",
    "fig.show()\n",
    "\n",
    "# Veremos que as características não parecem mudar conforme os anos nesses dados:"
   ]
  },
  {
   "cell_type": "raw",
   "id": "5d306212",
   "metadata": {},
   "source": [
    "Podemos gerar uma matriz de correlação:"
   ]
  },
  {
   "cell_type": "code",
   "execution_count": 172,
   "id": "5e0073c9",
   "metadata": {},
   "outputs": [
    {
     "data": {
      "application/vnd.plotly.v1+json": {
       "config": {
        "plotlyServerURL": "https://plot.ly"
       },
       "data": [
        {
         "coloraxis": "coloraxis",
         "hovertemplate": "x: %{x}<br>y: %{y}<br>color: %{z}<extra></extra>",
         "name": "0",
         "texttemplate": "%{z}",
         "type": "heatmap",
         "x": [
          "mode",
          "year",
          "acousticness",
          "danceability",
          "duration_ms",
          "energy",
          "instrumentalness",
          "liveness",
          "loudness",
          "speechiness",
          "tempo",
          "valence",
          "popularity",
          "key"
         ],
         "xaxis": "x",
         "y": [
          "mode",
          "year",
          "acousticness",
          "danceability",
          "duration_ms",
          "energy",
          "instrumentalness",
          "liveness",
          "loudness",
          "speechiness",
          "tempo",
          "valence",
          "popularity",
          "key"
         ],
         "yaxis": "y",
         "z": [
          [
           null,
           null,
           null,
           null,
           null,
           null,
           null,
           null,
           null,
           null,
           null,
           null,
           null,
           null
          ],
          [
           null,
           1,
           -0.3411159583826981,
           0.6608199386023006,
           -0.7677124784467935,
           -0.4883614976017922,
           -0.3778796163418823,
           -0.5600359793453032,
           0.24481327200034977,
           0.6679407869495613,
           0.135206651286006,
           -0.8475989110150034,
           0.9403224364955638,
           -0.59003208568506
          ],
          [
           null,
           -0.3411159583826981,
           1,
           -0.21562914783872839,
           0.07027065889373486,
           -0.5028464016727273,
           0.6000179544161117,
           -0.005278610778445343,
           -0.8384634126764212,
           -0.11507903484724662,
           -0.779129060109222,
           0.017657401281779277,
           -0.15878272118242956,
           0.30112204523201086
          ],
          [
           null,
           0.6608199386023006,
           -0.21562914783872839,
           1,
           -0.9174882989904196,
           -0.6300040145063887,
           -0.6365783321457552,
           -0.7937311387338585,
           0.1177493452900591,
           0.9290984292792732,
           0.008636460322801484,
           -0.3339128886804443,
           0.8080907171455811,
           -0.3130172458393562
          ],
          [
           null,
           -0.7677124784467935,
           0.07027065889373486,
           -0.9174882989904196,
           1,
           0.7158216074913761,
           0.5408931341064447,
           0.7726846760122201,
           -0.040353826764081446,
           -0.9337595836692876,
           0.049435388491187233,
           0.4998944618939771,
           -0.9211587580397507,
           0.4112955092341246
          ],
          [
           null,
           -0.4883614976017922,
           -0.5028464016727273,
           -0.6300040145063887,
           0.7158216074913761,
           1,
           -0.09557373830784033,
           0.7059936616366327,
           0.6163827716194801,
           -0.6879629289427857,
           0.6827348256574154,
           0.5688501869406707,
           -0.6830008647144806,
           0.11853490224047748
          ],
          [
           null,
           -0.3778796163418823,
           0.6000179544161117,
           -0.6365783321457552,
           0.5408931341064447,
           -0.09557373830784033,
           1,
           0.34767145702429336,
           -0.738575685509048,
           -0.5356289163845074,
           -0.6735345367211589,
           -0.08676554084668006,
           -0.39967805880699375,
           0.2824279571619284
          ],
          [
           null,
           -0.5600359793453032,
           -0.005278610778445343,
           -0.7937311387338585,
           0.7726846760122201,
           0.7059936616366327,
           0.34767145702429336,
           1,
           0.07598100746952816,
           -0.7340833881462239,
           0.18936558013168733,
           0.38466429778551764,
           -0.7202553144289295,
           0.1345806771347886
          ],
          [
           null,
           0.24481327200034977,
           -0.8384634126764212,
           0.1177493452900591,
           -0.040353826764081446,
           0.6163827716194801,
           -0.738575685509048,
           0.07598100746952816,
           1,
           0.005313336822696862,
           0.9597996046866653,
           0.11428988275912833,
           0.07272200634495016,
           -0.2990411256697193
          ],
          [
           null,
           0.6679407869495613,
           -0.11507903484724662,
           0.9290984292792732,
           -0.9337595836692876,
           -0.6879629289427857,
           -0.5356289163845074,
           -0.7340833881462239,
           0.005313336822696862,
           1,
           -0.0691209252461087,
           -0.41134099161696436,
           0.8300352075638717,
           -0.2949439559626186
          ],
          [
           null,
           0.135206651286006,
           -0.779129060109222,
           0.008636460322801484,
           0.049435388491187233,
           0.6827348256574154,
           -0.6735345367211589,
           0.18936558013168733,
           0.9597996046866653,
           -0.0691209252461087,
           1,
           0.2151115193534347,
           -0.03535889516641647,
           -0.2561334077890368
          ],
          [
           null,
           -0.8475989110150034,
           0.017657401281779277,
           -0.3339128886804443,
           0.4998944618939771,
           0.5688501869406707,
           -0.08676554084668006,
           0.38466429778551764,
           0.11428988275912833,
           -0.41134099161696436,
           0.2151115193534347,
           1,
           -0.7616832157267148,
           0.384059807659227
          ],
          [
           null,
           0.9403224364955638,
           -0.15878272118242956,
           0.8080907171455811,
           -0.9211587580397507,
           -0.6830008647144806,
           -0.39967805880699375,
           -0.7202553144289295,
           0.07272200634495016,
           0.8300352075638717,
           -0.03535889516641647,
           -0.7616832157267148,
           1,
           -0.5339331304034587
          ],
          [
           null,
           -0.59003208568506,
           0.30112204523201086,
           -0.3130172458393562,
           0.4112955092341246,
           0.11853490224047748,
           0.2824279571619284,
           0.1345806771347886,
           -0.2990411256697193,
           -0.2949439559626186,
           -0.2561334077890368,
           0.384059807659227,
           -0.5339331304034587,
           1
          ]
         ]
        }
       ],
       "layout": {
        "coloraxis": {
         "colorscale": [
          [
           0,
           "#0d0887"
          ],
          [
           0.1111111111111111,
           "#46039f"
          ],
          [
           0.2222222222222222,
           "#7201a8"
          ],
          [
           0.3333333333333333,
           "#9c179e"
          ],
          [
           0.4444444444444444,
           "#bd3786"
          ],
          [
           0.5555555555555556,
           "#d8576b"
          ],
          [
           0.6666666666666666,
           "#ed7953"
          ],
          [
           0.7777777777777778,
           "#fb9f3a"
          ],
          [
           0.8888888888888888,
           "#fdca26"
          ],
          [
           1,
           "#f0f921"
          ]
         ]
        },
        "margin": {
         "t": 60
        },
        "template": {
         "data": {
          "bar": [
           {
            "error_x": {
             "color": "#2a3f5f"
            },
            "error_y": {
             "color": "#2a3f5f"
            },
            "marker": {
             "line": {
              "color": "#E5ECF6",
              "width": 0.5
             },
             "pattern": {
              "fillmode": "overlay",
              "size": 10,
              "solidity": 0.2
             }
            },
            "type": "bar"
           }
          ],
          "barpolar": [
           {
            "marker": {
             "line": {
              "color": "#E5ECF6",
              "width": 0.5
             },
             "pattern": {
              "fillmode": "overlay",
              "size": 10,
              "solidity": 0.2
             }
            },
            "type": "barpolar"
           }
          ],
          "carpet": [
           {
            "aaxis": {
             "endlinecolor": "#2a3f5f",
             "gridcolor": "white",
             "linecolor": "white",
             "minorgridcolor": "white",
             "startlinecolor": "#2a3f5f"
            },
            "baxis": {
             "endlinecolor": "#2a3f5f",
             "gridcolor": "white",
             "linecolor": "white",
             "minorgridcolor": "white",
             "startlinecolor": "#2a3f5f"
            },
            "type": "carpet"
           }
          ],
          "choropleth": [
           {
            "colorbar": {
             "outlinewidth": 0,
             "ticks": ""
            },
            "type": "choropleth"
           }
          ],
          "contour": [
           {
            "colorbar": {
             "outlinewidth": 0,
             "ticks": ""
            },
            "colorscale": [
             [
              0,
              "#0d0887"
             ],
             [
              0.1111111111111111,
              "#46039f"
             ],
             [
              0.2222222222222222,
              "#7201a8"
             ],
             [
              0.3333333333333333,
              "#9c179e"
             ],
             [
              0.4444444444444444,
              "#bd3786"
             ],
             [
              0.5555555555555556,
              "#d8576b"
             ],
             [
              0.6666666666666666,
              "#ed7953"
             ],
             [
              0.7777777777777778,
              "#fb9f3a"
             ],
             [
              0.8888888888888888,
              "#fdca26"
             ],
             [
              1,
              "#f0f921"
             ]
            ],
            "type": "contour"
           }
          ],
          "contourcarpet": [
           {
            "colorbar": {
             "outlinewidth": 0,
             "ticks": ""
            },
            "type": "contourcarpet"
           }
          ],
          "heatmap": [
           {
            "colorbar": {
             "outlinewidth": 0,
             "ticks": ""
            },
            "colorscale": [
             [
              0,
              "#0d0887"
             ],
             [
              0.1111111111111111,
              "#46039f"
             ],
             [
              0.2222222222222222,
              "#7201a8"
             ],
             [
              0.3333333333333333,
              "#9c179e"
             ],
             [
              0.4444444444444444,
              "#bd3786"
             ],
             [
              0.5555555555555556,
              "#d8576b"
             ],
             [
              0.6666666666666666,
              "#ed7953"
             ],
             [
              0.7777777777777778,
              "#fb9f3a"
             ],
             [
              0.8888888888888888,
              "#fdca26"
             ],
             [
              1,
              "#f0f921"
             ]
            ],
            "type": "heatmap"
           }
          ],
          "heatmapgl": [
           {
            "colorbar": {
             "outlinewidth": 0,
             "ticks": ""
            },
            "colorscale": [
             [
              0,
              "#0d0887"
             ],
             [
              0.1111111111111111,
              "#46039f"
             ],
             [
              0.2222222222222222,
              "#7201a8"
             ],
             [
              0.3333333333333333,
              "#9c179e"
             ],
             [
              0.4444444444444444,
              "#bd3786"
             ],
             [
              0.5555555555555556,
              "#d8576b"
             ],
             [
              0.6666666666666666,
              "#ed7953"
             ],
             [
              0.7777777777777778,
              "#fb9f3a"
             ],
             [
              0.8888888888888888,
              "#fdca26"
             ],
             [
              1,
              "#f0f921"
             ]
            ],
            "type": "heatmapgl"
           }
          ],
          "histogram": [
           {
            "marker": {
             "pattern": {
              "fillmode": "overlay",
              "size": 10,
              "solidity": 0.2
             }
            },
            "type": "histogram"
           }
          ],
          "histogram2d": [
           {
            "colorbar": {
             "outlinewidth": 0,
             "ticks": ""
            },
            "colorscale": [
             [
              0,
              "#0d0887"
             ],
             [
              0.1111111111111111,
              "#46039f"
             ],
             [
              0.2222222222222222,
              "#7201a8"
             ],
             [
              0.3333333333333333,
              "#9c179e"
             ],
             [
              0.4444444444444444,
              "#bd3786"
             ],
             [
              0.5555555555555556,
              "#d8576b"
             ],
             [
              0.6666666666666666,
              "#ed7953"
             ],
             [
              0.7777777777777778,
              "#fb9f3a"
             ],
             [
              0.8888888888888888,
              "#fdca26"
             ],
             [
              1,
              "#f0f921"
             ]
            ],
            "type": "histogram2d"
           }
          ],
          "histogram2dcontour": [
           {
            "colorbar": {
             "outlinewidth": 0,
             "ticks": ""
            },
            "colorscale": [
             [
              0,
              "#0d0887"
             ],
             [
              0.1111111111111111,
              "#46039f"
             ],
             [
              0.2222222222222222,
              "#7201a8"
             ],
             [
              0.3333333333333333,
              "#9c179e"
             ],
             [
              0.4444444444444444,
              "#bd3786"
             ],
             [
              0.5555555555555556,
              "#d8576b"
             ],
             [
              0.6666666666666666,
              "#ed7953"
             ],
             [
              0.7777777777777778,
              "#fb9f3a"
             ],
             [
              0.8888888888888888,
              "#fdca26"
             ],
             [
              1,
              "#f0f921"
             ]
            ],
            "type": "histogram2dcontour"
           }
          ],
          "mesh3d": [
           {
            "colorbar": {
             "outlinewidth": 0,
             "ticks": ""
            },
            "type": "mesh3d"
           }
          ],
          "parcoords": [
           {
            "line": {
             "colorbar": {
              "outlinewidth": 0,
              "ticks": ""
             }
            },
            "type": "parcoords"
           }
          ],
          "pie": [
           {
            "automargin": true,
            "type": "pie"
           }
          ],
          "scatter": [
           {
            "fillpattern": {
             "fillmode": "overlay",
             "size": 10,
             "solidity": 0.2
            },
            "type": "scatter"
           }
          ],
          "scatter3d": [
           {
            "line": {
             "colorbar": {
              "outlinewidth": 0,
              "ticks": ""
             }
            },
            "marker": {
             "colorbar": {
              "outlinewidth": 0,
              "ticks": ""
             }
            },
            "type": "scatter3d"
           }
          ],
          "scattercarpet": [
           {
            "marker": {
             "colorbar": {
              "outlinewidth": 0,
              "ticks": ""
             }
            },
            "type": "scattercarpet"
           }
          ],
          "scattergeo": [
           {
            "marker": {
             "colorbar": {
              "outlinewidth": 0,
              "ticks": ""
             }
            },
            "type": "scattergeo"
           }
          ],
          "scattergl": [
           {
            "marker": {
             "colorbar": {
              "outlinewidth": 0,
              "ticks": ""
             }
            },
            "type": "scattergl"
           }
          ],
          "scattermapbox": [
           {
            "marker": {
             "colorbar": {
              "outlinewidth": 0,
              "ticks": ""
             }
            },
            "type": "scattermapbox"
           }
          ],
          "scatterpolar": [
           {
            "marker": {
             "colorbar": {
              "outlinewidth": 0,
              "ticks": ""
             }
            },
            "type": "scatterpolar"
           }
          ],
          "scatterpolargl": [
           {
            "marker": {
             "colorbar": {
              "outlinewidth": 0,
              "ticks": ""
             }
            },
            "type": "scatterpolargl"
           }
          ],
          "scatterternary": [
           {
            "marker": {
             "colorbar": {
              "outlinewidth": 0,
              "ticks": ""
             }
            },
            "type": "scatterternary"
           }
          ],
          "surface": [
           {
            "colorbar": {
             "outlinewidth": 0,
             "ticks": ""
            },
            "colorscale": [
             [
              0,
              "#0d0887"
             ],
             [
              0.1111111111111111,
              "#46039f"
             ],
             [
              0.2222222222222222,
              "#7201a8"
             ],
             [
              0.3333333333333333,
              "#9c179e"
             ],
             [
              0.4444444444444444,
              "#bd3786"
             ],
             [
              0.5555555555555556,
              "#d8576b"
             ],
             [
              0.6666666666666666,
              "#ed7953"
             ],
             [
              0.7777777777777778,
              "#fb9f3a"
             ],
             [
              0.8888888888888888,
              "#fdca26"
             ],
             [
              1,
              "#f0f921"
             ]
            ],
            "type": "surface"
           }
          ],
          "table": [
           {
            "cells": {
             "fill": {
              "color": "#EBF0F8"
             },
             "line": {
              "color": "white"
             }
            },
            "header": {
             "fill": {
              "color": "#C8D4E3"
             },
             "line": {
              "color": "white"
             }
            },
            "type": "table"
           }
          ]
         },
         "layout": {
          "annotationdefaults": {
           "arrowcolor": "#2a3f5f",
           "arrowhead": 0,
           "arrowwidth": 1
          },
          "autotypenumbers": "strict",
          "coloraxis": {
           "colorbar": {
            "outlinewidth": 0,
            "ticks": ""
           }
          },
          "colorscale": {
           "diverging": [
            [
             0,
             "#8e0152"
            ],
            [
             0.1,
             "#c51b7d"
            ],
            [
             0.2,
             "#de77ae"
            ],
            [
             0.3,
             "#f1b6da"
            ],
            [
             0.4,
             "#fde0ef"
            ],
            [
             0.5,
             "#f7f7f7"
            ],
            [
             0.6,
             "#e6f5d0"
            ],
            [
             0.7,
             "#b8e186"
            ],
            [
             0.8,
             "#7fbc41"
            ],
            [
             0.9,
             "#4d9221"
            ],
            [
             1,
             "#276419"
            ]
           ],
           "sequential": [
            [
             0,
             "#0d0887"
            ],
            [
             0.1111111111111111,
             "#46039f"
            ],
            [
             0.2222222222222222,
             "#7201a8"
            ],
            [
             0.3333333333333333,
             "#9c179e"
            ],
            [
             0.4444444444444444,
             "#bd3786"
            ],
            [
             0.5555555555555556,
             "#d8576b"
            ],
            [
             0.6666666666666666,
             "#ed7953"
            ],
            [
             0.7777777777777778,
             "#fb9f3a"
            ],
            [
             0.8888888888888888,
             "#fdca26"
            ],
            [
             1,
             "#f0f921"
            ]
           ],
           "sequentialminus": [
            [
             0,
             "#0d0887"
            ],
            [
             0.1111111111111111,
             "#46039f"
            ],
            [
             0.2222222222222222,
             "#7201a8"
            ],
            [
             0.3333333333333333,
             "#9c179e"
            ],
            [
             0.4444444444444444,
             "#bd3786"
            ],
            [
             0.5555555555555556,
             "#d8576b"
            ],
            [
             0.6666666666666666,
             "#ed7953"
            ],
            [
             0.7777777777777778,
             "#fb9f3a"
            ],
            [
             0.8888888888888888,
             "#fdca26"
            ],
            [
             1,
             "#f0f921"
            ]
           ]
          },
          "colorway": [
           "#636efa",
           "#EF553B",
           "#00cc96",
           "#ab63fa",
           "#FFA15A",
           "#19d3f3",
           "#FF6692",
           "#B6E880",
           "#FF97FF",
           "#FECB52"
          ],
          "font": {
           "color": "#2a3f5f"
          },
          "geo": {
           "bgcolor": "white",
           "lakecolor": "white",
           "landcolor": "#E5ECF6",
           "showlakes": true,
           "showland": true,
           "subunitcolor": "white"
          },
          "hoverlabel": {
           "align": "left"
          },
          "hovermode": "closest",
          "mapbox": {
           "style": "light"
          },
          "paper_bgcolor": "white",
          "plot_bgcolor": "#E5ECF6",
          "polar": {
           "angularaxis": {
            "gridcolor": "white",
            "linecolor": "white",
            "ticks": ""
           },
           "bgcolor": "#E5ECF6",
           "radialaxis": {
            "gridcolor": "white",
            "linecolor": "white",
            "ticks": ""
           }
          },
          "scene": {
           "xaxis": {
            "backgroundcolor": "#E5ECF6",
            "gridcolor": "white",
            "gridwidth": 2,
            "linecolor": "white",
            "showbackground": true,
            "ticks": "",
            "zerolinecolor": "white"
           },
           "yaxis": {
            "backgroundcolor": "#E5ECF6",
            "gridcolor": "white",
            "gridwidth": 2,
            "linecolor": "white",
            "showbackground": true,
            "ticks": "",
            "zerolinecolor": "white"
           },
           "zaxis": {
            "backgroundcolor": "#E5ECF6",
            "gridcolor": "white",
            "gridwidth": 2,
            "linecolor": "white",
            "showbackground": true,
            "ticks": "",
            "zerolinecolor": "white"
           }
          },
          "shapedefaults": {
           "line": {
            "color": "#2a3f5f"
           }
          },
          "ternary": {
           "aaxis": {
            "gridcolor": "white",
            "linecolor": "white",
            "ticks": ""
           },
           "baxis": {
            "gridcolor": "white",
            "linecolor": "white",
            "ticks": ""
           },
           "bgcolor": "#E5ECF6",
           "caxis": {
            "gridcolor": "white",
            "linecolor": "white",
            "ticks": ""
           }
          },
          "title": {
           "x": 0.05
          },
          "xaxis": {
           "automargin": true,
           "gridcolor": "white",
           "linecolor": "white",
           "ticks": "",
           "title": {
            "standoff": 15
           },
           "zerolinecolor": "white",
           "zerolinewidth": 2
          },
          "yaxis": {
           "automargin": true,
           "gridcolor": "white",
           "linecolor": "white",
           "ticks": "",
           "title": {
            "standoff": 15
           },
           "zerolinecolor": "white",
           "zerolinewidth": 2
          }
         }
        },
        "xaxis": {
         "anchor": "y",
         "constrain": "domain",
         "domain": [
          0,
          1
         ],
         "scaleanchor": "y"
        },
        "yaxis": {
         "anchor": "x",
         "autorange": "reversed",
         "constrain": "domain",
         "domain": [
          0,
          1
         ]
        }
       }
      },
      "text/html": [
       "<div>                            <div id=\"6abdc6d7-7105-454f-aab5-d2b2de36e28f\" class=\"plotly-graph-div\" style=\"height:525px; width:100%;\"></div>            <script type=\"text/javascript\">                require([\"plotly\"], function(Plotly) {                    window.PLOTLYENV=window.PLOTLYENV || {};                                    if (document.getElementById(\"6abdc6d7-7105-454f-aab5-d2b2de36e28f\")) {                    Plotly.newPlot(                        \"6abdc6d7-7105-454f-aab5-d2b2de36e28f\",                        [{\"coloraxis\":\"coloraxis\",\"name\":\"0\",\"texttemplate\":\"%{z}\",\"x\":[\"mode\",\"year\",\"acousticness\",\"danceability\",\"duration_ms\",\"energy\",\"instrumentalness\",\"liveness\",\"loudness\",\"speechiness\",\"tempo\",\"valence\",\"popularity\",\"key\"],\"y\":[\"mode\",\"year\",\"acousticness\",\"danceability\",\"duration_ms\",\"energy\",\"instrumentalness\",\"liveness\",\"loudness\",\"speechiness\",\"tempo\",\"valence\",\"popularity\",\"key\"],\"z\":[[null,null,null,null,null,null,null,null,null,null,null,null,null,null],[null,1.0,-0.3411159583826981,0.6608199386023006,-0.7677124784467935,-0.4883614976017922,-0.3778796163418823,-0.5600359793453032,0.24481327200034977,0.6679407869495613,0.135206651286006,-0.8475989110150034,0.9403224364955638,-0.59003208568506],[null,-0.3411159583826981,1.0,-0.21562914783872839,0.07027065889373486,-0.5028464016727273,0.6000179544161117,-0.005278610778445343,-0.8384634126764212,-0.11507903484724662,-0.779129060109222,0.017657401281779277,-0.15878272118242956,0.30112204523201086],[null,0.6608199386023006,-0.21562914783872839,1.0,-0.9174882989904196,-0.6300040145063887,-0.6365783321457552,-0.7937311387338585,0.1177493452900591,0.9290984292792732,0.008636460322801484,-0.3339128886804443,0.8080907171455811,-0.3130172458393562],[null,-0.7677124784467935,0.07027065889373486,-0.9174882989904196,1.0,0.7158216074913761,0.5408931341064447,0.7726846760122201,-0.040353826764081446,-0.9337595836692876,0.049435388491187233,0.4998944618939771,-0.9211587580397507,0.4112955092341246],[null,-0.4883614976017922,-0.5028464016727273,-0.6300040145063887,0.7158216074913761,1.0,-0.09557373830784033,0.7059936616366327,0.6163827716194801,-0.6879629289427857,0.6827348256574154,0.5688501869406707,-0.6830008647144806,0.11853490224047748],[null,-0.3778796163418823,0.6000179544161117,-0.6365783321457552,0.5408931341064447,-0.09557373830784033,1.0,0.34767145702429336,-0.738575685509048,-0.5356289163845074,-0.6735345367211589,-0.08676554084668006,-0.39967805880699375,0.2824279571619284],[null,-0.5600359793453032,-0.005278610778445343,-0.7937311387338585,0.7726846760122201,0.7059936616366327,0.34767145702429336,1.0,0.07598100746952816,-0.7340833881462239,0.18936558013168733,0.38466429778551764,-0.7202553144289295,0.1345806771347886],[null,0.24481327200034977,-0.8384634126764212,0.1177493452900591,-0.040353826764081446,0.6163827716194801,-0.738575685509048,0.07598100746952816,1.0,0.005313336822696862,0.9597996046866653,0.11428988275912833,0.07272200634495016,-0.2990411256697193],[null,0.6679407869495613,-0.11507903484724662,0.9290984292792732,-0.9337595836692876,-0.6879629289427857,-0.5356289163845074,-0.7340833881462239,0.005313336822696862,1.0,-0.0691209252461087,-0.41134099161696436,0.8300352075638717,-0.2949439559626186],[null,0.135206651286006,-0.779129060109222,0.008636460322801484,0.049435388491187233,0.6827348256574154,-0.6735345367211589,0.18936558013168733,0.9597996046866653,-0.0691209252461087,1.0,0.2151115193534347,-0.03535889516641647,-0.2561334077890368],[null,-0.8475989110150034,0.017657401281779277,-0.3339128886804443,0.4998944618939771,0.5688501869406707,-0.08676554084668006,0.38466429778551764,0.11428988275912833,-0.41134099161696436,0.2151115193534347,1.0,-0.7616832157267148,0.384059807659227],[null,0.9403224364955638,-0.15878272118242956,0.8080907171455811,-0.9211587580397507,-0.6830008647144806,-0.39967805880699375,-0.7202553144289295,0.07272200634495016,0.8300352075638717,-0.03535889516641647,-0.7616832157267148,1.0,-0.5339331304034587],[null,-0.59003208568506,0.30112204523201086,-0.3130172458393562,0.4112955092341246,0.11853490224047748,0.2824279571619284,0.1345806771347886,-0.2990411256697193,-0.2949439559626186,-0.2561334077890368,0.384059807659227,-0.5339331304034587,1.0]],\"type\":\"heatmap\",\"xaxis\":\"x\",\"yaxis\":\"y\",\"hovertemplate\":\"x: %{x}<br>y: %{y}<br>color: %{z}<extra></extra>\"}],                        {\"template\":{\"data\":{\"histogram2dcontour\":[{\"type\":\"histogram2dcontour\",\"colorbar\":{\"outlinewidth\":0,\"ticks\":\"\"},\"colorscale\":[[0.0,\"#0d0887\"],[0.1111111111111111,\"#46039f\"],[0.2222222222222222,\"#7201a8\"],[0.3333333333333333,\"#9c179e\"],[0.4444444444444444,\"#bd3786\"],[0.5555555555555556,\"#d8576b\"],[0.6666666666666666,\"#ed7953\"],[0.7777777777777778,\"#fb9f3a\"],[0.8888888888888888,\"#fdca26\"],[1.0,\"#f0f921\"]]}],\"choropleth\":[{\"type\":\"choropleth\",\"colorbar\":{\"outlinewidth\":0,\"ticks\":\"\"}}],\"histogram2d\":[{\"type\":\"histogram2d\",\"colorbar\":{\"outlinewidth\":0,\"ticks\":\"\"},\"colorscale\":[[0.0,\"#0d0887\"],[0.1111111111111111,\"#46039f\"],[0.2222222222222222,\"#7201a8\"],[0.3333333333333333,\"#9c179e\"],[0.4444444444444444,\"#bd3786\"],[0.5555555555555556,\"#d8576b\"],[0.6666666666666666,\"#ed7953\"],[0.7777777777777778,\"#fb9f3a\"],[0.8888888888888888,\"#fdca26\"],[1.0,\"#f0f921\"]]}],\"heatmap\":[{\"type\":\"heatmap\",\"colorbar\":{\"outlinewidth\":0,\"ticks\":\"\"},\"colorscale\":[[0.0,\"#0d0887\"],[0.1111111111111111,\"#46039f\"],[0.2222222222222222,\"#7201a8\"],[0.3333333333333333,\"#9c179e\"],[0.4444444444444444,\"#bd3786\"],[0.5555555555555556,\"#d8576b\"],[0.6666666666666666,\"#ed7953\"],[0.7777777777777778,\"#fb9f3a\"],[0.8888888888888888,\"#fdca26\"],[1.0,\"#f0f921\"]]}],\"heatmapgl\":[{\"type\":\"heatmapgl\",\"colorbar\":{\"outlinewidth\":0,\"ticks\":\"\"},\"colorscale\":[[0.0,\"#0d0887\"],[0.1111111111111111,\"#46039f\"],[0.2222222222222222,\"#7201a8\"],[0.3333333333333333,\"#9c179e\"],[0.4444444444444444,\"#bd3786\"],[0.5555555555555556,\"#d8576b\"],[0.6666666666666666,\"#ed7953\"],[0.7777777777777778,\"#fb9f3a\"],[0.8888888888888888,\"#fdca26\"],[1.0,\"#f0f921\"]]}],\"contourcarpet\":[{\"type\":\"contourcarpet\",\"colorbar\":{\"outlinewidth\":0,\"ticks\":\"\"}}],\"contour\":[{\"type\":\"contour\",\"colorbar\":{\"outlinewidth\":0,\"ticks\":\"\"},\"colorscale\":[[0.0,\"#0d0887\"],[0.1111111111111111,\"#46039f\"],[0.2222222222222222,\"#7201a8\"],[0.3333333333333333,\"#9c179e\"],[0.4444444444444444,\"#bd3786\"],[0.5555555555555556,\"#d8576b\"],[0.6666666666666666,\"#ed7953\"],[0.7777777777777778,\"#fb9f3a\"],[0.8888888888888888,\"#fdca26\"],[1.0,\"#f0f921\"]]}],\"surface\":[{\"type\":\"surface\",\"colorbar\":{\"outlinewidth\":0,\"ticks\":\"\"},\"colorscale\":[[0.0,\"#0d0887\"],[0.1111111111111111,\"#46039f\"],[0.2222222222222222,\"#7201a8\"],[0.3333333333333333,\"#9c179e\"],[0.4444444444444444,\"#bd3786\"],[0.5555555555555556,\"#d8576b\"],[0.6666666666666666,\"#ed7953\"],[0.7777777777777778,\"#fb9f3a\"],[0.8888888888888888,\"#fdca26\"],[1.0,\"#f0f921\"]]}],\"mesh3d\":[{\"type\":\"mesh3d\",\"colorbar\":{\"outlinewidth\":0,\"ticks\":\"\"}}],\"scatter\":[{\"fillpattern\":{\"fillmode\":\"overlay\",\"size\":10,\"solidity\":0.2},\"type\":\"scatter\"}],\"parcoords\":[{\"type\":\"parcoords\",\"line\":{\"colorbar\":{\"outlinewidth\":0,\"ticks\":\"\"}}}],\"scatterpolargl\":[{\"type\":\"scatterpolargl\",\"marker\":{\"colorbar\":{\"outlinewidth\":0,\"ticks\":\"\"}}}],\"bar\":[{\"error_x\":{\"color\":\"#2a3f5f\"},\"error_y\":{\"color\":\"#2a3f5f\"},\"marker\":{\"line\":{\"color\":\"#E5ECF6\",\"width\":0.5},\"pattern\":{\"fillmode\":\"overlay\",\"size\":10,\"solidity\":0.2}},\"type\":\"bar\"}],\"scattergeo\":[{\"type\":\"scattergeo\",\"marker\":{\"colorbar\":{\"outlinewidth\":0,\"ticks\":\"\"}}}],\"scatterpolar\":[{\"type\":\"scatterpolar\",\"marker\":{\"colorbar\":{\"outlinewidth\":0,\"ticks\":\"\"}}}],\"histogram\":[{\"marker\":{\"pattern\":{\"fillmode\":\"overlay\",\"size\":10,\"solidity\":0.2}},\"type\":\"histogram\"}],\"scattergl\":[{\"type\":\"scattergl\",\"marker\":{\"colorbar\":{\"outlinewidth\":0,\"ticks\":\"\"}}}],\"scatter3d\":[{\"type\":\"scatter3d\",\"line\":{\"colorbar\":{\"outlinewidth\":0,\"ticks\":\"\"}},\"marker\":{\"colorbar\":{\"outlinewidth\":0,\"ticks\":\"\"}}}],\"scattermapbox\":[{\"type\":\"scattermapbox\",\"marker\":{\"colorbar\":{\"outlinewidth\":0,\"ticks\":\"\"}}}],\"scatterternary\":[{\"type\":\"scatterternary\",\"marker\":{\"colorbar\":{\"outlinewidth\":0,\"ticks\":\"\"}}}],\"scattercarpet\":[{\"type\":\"scattercarpet\",\"marker\":{\"colorbar\":{\"outlinewidth\":0,\"ticks\":\"\"}}}],\"carpet\":[{\"aaxis\":{\"endlinecolor\":\"#2a3f5f\",\"gridcolor\":\"white\",\"linecolor\":\"white\",\"minorgridcolor\":\"white\",\"startlinecolor\":\"#2a3f5f\"},\"baxis\":{\"endlinecolor\":\"#2a3f5f\",\"gridcolor\":\"white\",\"linecolor\":\"white\",\"minorgridcolor\":\"white\",\"startlinecolor\":\"#2a3f5f\"},\"type\":\"carpet\"}],\"table\":[{\"cells\":{\"fill\":{\"color\":\"#EBF0F8\"},\"line\":{\"color\":\"white\"}},\"header\":{\"fill\":{\"color\":\"#C8D4E3\"},\"line\":{\"color\":\"white\"}},\"type\":\"table\"}],\"barpolar\":[{\"marker\":{\"line\":{\"color\":\"#E5ECF6\",\"width\":0.5},\"pattern\":{\"fillmode\":\"overlay\",\"size\":10,\"solidity\":0.2}},\"type\":\"barpolar\"}],\"pie\":[{\"automargin\":true,\"type\":\"pie\"}]},\"layout\":{\"autotypenumbers\":\"strict\",\"colorway\":[\"#636efa\",\"#EF553B\",\"#00cc96\",\"#ab63fa\",\"#FFA15A\",\"#19d3f3\",\"#FF6692\",\"#B6E880\",\"#FF97FF\",\"#FECB52\"],\"font\":{\"color\":\"#2a3f5f\"},\"hovermode\":\"closest\",\"hoverlabel\":{\"align\":\"left\"},\"paper_bgcolor\":\"white\",\"plot_bgcolor\":\"#E5ECF6\",\"polar\":{\"bgcolor\":\"#E5ECF6\",\"angularaxis\":{\"gridcolor\":\"white\",\"linecolor\":\"white\",\"ticks\":\"\"},\"radialaxis\":{\"gridcolor\":\"white\",\"linecolor\":\"white\",\"ticks\":\"\"}},\"ternary\":{\"bgcolor\":\"#E5ECF6\",\"aaxis\":{\"gridcolor\":\"white\",\"linecolor\":\"white\",\"ticks\":\"\"},\"baxis\":{\"gridcolor\":\"white\",\"linecolor\":\"white\",\"ticks\":\"\"},\"caxis\":{\"gridcolor\":\"white\",\"linecolor\":\"white\",\"ticks\":\"\"}},\"coloraxis\":{\"colorbar\":{\"outlinewidth\":0,\"ticks\":\"\"}},\"colorscale\":{\"sequential\":[[0.0,\"#0d0887\"],[0.1111111111111111,\"#46039f\"],[0.2222222222222222,\"#7201a8\"],[0.3333333333333333,\"#9c179e\"],[0.4444444444444444,\"#bd3786\"],[0.5555555555555556,\"#d8576b\"],[0.6666666666666666,\"#ed7953\"],[0.7777777777777778,\"#fb9f3a\"],[0.8888888888888888,\"#fdca26\"],[1.0,\"#f0f921\"]],\"sequentialminus\":[[0.0,\"#0d0887\"],[0.1111111111111111,\"#46039f\"],[0.2222222222222222,\"#7201a8\"],[0.3333333333333333,\"#9c179e\"],[0.4444444444444444,\"#bd3786\"],[0.5555555555555556,\"#d8576b\"],[0.6666666666666666,\"#ed7953\"],[0.7777777777777778,\"#fb9f3a\"],[0.8888888888888888,\"#fdca26\"],[1.0,\"#f0f921\"]],\"diverging\":[[0,\"#8e0152\"],[0.1,\"#c51b7d\"],[0.2,\"#de77ae\"],[0.3,\"#f1b6da\"],[0.4,\"#fde0ef\"],[0.5,\"#f7f7f7\"],[0.6,\"#e6f5d0\"],[0.7,\"#b8e186\"],[0.8,\"#7fbc41\"],[0.9,\"#4d9221\"],[1,\"#276419\"]]},\"xaxis\":{\"gridcolor\":\"white\",\"linecolor\":\"white\",\"ticks\":\"\",\"title\":{\"standoff\":15},\"zerolinecolor\":\"white\",\"automargin\":true,\"zerolinewidth\":2},\"yaxis\":{\"gridcolor\":\"white\",\"linecolor\":\"white\",\"ticks\":\"\",\"title\":{\"standoff\":15},\"zerolinecolor\":\"white\",\"automargin\":true,\"zerolinewidth\":2},\"scene\":{\"xaxis\":{\"backgroundcolor\":\"#E5ECF6\",\"gridcolor\":\"white\",\"linecolor\":\"white\",\"showbackground\":true,\"ticks\":\"\",\"zerolinecolor\":\"white\",\"gridwidth\":2},\"yaxis\":{\"backgroundcolor\":\"#E5ECF6\",\"gridcolor\":\"white\",\"linecolor\":\"white\",\"showbackground\":true,\"ticks\":\"\",\"zerolinecolor\":\"white\",\"gridwidth\":2},\"zaxis\":{\"backgroundcolor\":\"#E5ECF6\",\"gridcolor\":\"white\",\"linecolor\":\"white\",\"showbackground\":true,\"ticks\":\"\",\"zerolinecolor\":\"white\",\"gridwidth\":2}},\"shapedefaults\":{\"line\":{\"color\":\"#2a3f5f\"}},\"annotationdefaults\":{\"arrowcolor\":\"#2a3f5f\",\"arrowhead\":0,\"arrowwidth\":1},\"geo\":{\"bgcolor\":\"white\",\"landcolor\":\"#E5ECF6\",\"subunitcolor\":\"white\",\"showland\":true,\"showlakes\":true,\"lakecolor\":\"white\"},\"title\":{\"x\":0.05},\"mapbox\":{\"style\":\"light\"}}},\"xaxis\":{\"anchor\":\"y\",\"domain\":[0.0,1.0],\"scaleanchor\":\"y\",\"constrain\":\"domain\"},\"yaxis\":{\"anchor\":\"x\",\"domain\":[0.0,1.0],\"autorange\":\"reversed\",\"constrain\":\"domain\"},\"coloraxis\":{\"colorscale\":[[0.0,\"#0d0887\"],[0.1111111111111111,\"#46039f\"],[0.2222222222222222,\"#7201a8\"],[0.3333333333333333,\"#9c179e\"],[0.4444444444444444,\"#bd3786\"],[0.5555555555555556,\"#d8576b\"],[0.6666666666666666,\"#ed7953\"],[0.7777777777777778,\"#fb9f3a\"],[0.8888888888888888,\"#fdca26\"],[1.0,\"#f0f921\"]]},\"margin\":{\"t\":60}},                        {\"responsive\": true}                    ).then(function(){\n",
       "                            \n",
       "var gd = document.getElementById('6abdc6d7-7105-454f-aab5-d2b2de36e28f');\n",
       "var x = new MutationObserver(function (mutations, observer) {{\n",
       "        var display = window.getComputedStyle(gd).display;\n",
       "        if (!display || display === 'none') {{\n",
       "            console.log([gd, 'removed!']);\n",
       "            Plotly.purge(gd);\n",
       "            observer.disconnect();\n",
       "        }}\n",
       "}});\n",
       "\n",
       "// Listen for the removal of the full notebook cells\n",
       "var notebookContainer = gd.closest('#notebook-container');\n",
       "if (notebookContainer) {{\n",
       "    x.observe(notebookContainer, {childList: true});\n",
       "}}\n",
       "\n",
       "// Listen for the clearing of the current output cell\n",
       "var outputEl = gd.closest('.output');\n",
       "if (outputEl) {{\n",
       "    x.observe(outputEl, {childList: true});\n",
       "}}\n",
       "\n",
       "                        })                };                });            </script>        </div>"
      ]
     },
     "metadata": {},
     "output_type": "display_data"
    }
   ],
   "source": [
    "fig = px.imshow(dados_anos.toPandas().corr(), text_auto = True)\n",
    "fig.show()"
   ]
  },
  {
   "cell_type": "code",
   "execution_count": 173,
   "id": "6ec73e42",
   "metadata": {},
   "outputs": [
    {
     "data": {
      "application/vnd.plotly.v1+json": {
       "config": {
        "plotlyServerURL": "https://plot.ly"
       },
       "data": [
        {
         "coloraxis": "coloraxis",
         "hovertemplate": "x: %{x}<br>y: %{y}<br>color: %{z}<extra></extra>",
         "name": "0",
         "texttemplate": "%{z}",
         "type": "heatmap",
         "x": [
          "year",
          "acousticness",
          "danceability",
          "duration_ms",
          "energy",
          "instrumentalness",
          "liveness",
          "loudness",
          "speechiness",
          "tempo",
          "valence",
          "popularity",
          "key"
         ],
         "xaxis": "x",
         "y": [
          "year",
          "acousticness",
          "danceability",
          "duration_ms",
          "energy",
          "instrumentalness",
          "liveness",
          "loudness",
          "speechiness",
          "tempo",
          "valence",
          "popularity",
          "key"
         ],
         "yaxis": "y",
         "z": [
          [
           1,
           -0.3411159583826981,
           0.6608199386023006,
           -0.7677124784467935,
           -0.4883614976017922,
           -0.3778796163418823,
           -0.5600359793453032,
           0.24481327200034977,
           0.6679407869495613,
           0.135206651286006,
           -0.8475989110150034,
           0.9403224364955638,
           -0.59003208568506
          ],
          [
           -0.3411159583826981,
           1,
           -0.21562914783872839,
           0.07027065889373486,
           -0.5028464016727273,
           0.6000179544161117,
           -0.005278610778445343,
           -0.8384634126764212,
           -0.11507903484724662,
           -0.779129060109222,
           0.017657401281779277,
           -0.15878272118242956,
           0.30112204523201086
          ],
          [
           0.6608199386023006,
           -0.21562914783872839,
           1,
           -0.9174882989904196,
           -0.6300040145063887,
           -0.6365783321457552,
           -0.7937311387338585,
           0.1177493452900591,
           0.9290984292792732,
           0.008636460322801484,
           -0.3339128886804443,
           0.8080907171455811,
           -0.3130172458393562
          ],
          [
           -0.7677124784467935,
           0.07027065889373486,
           -0.9174882989904196,
           1,
           0.7158216074913761,
           0.5408931341064447,
           0.7726846760122201,
           -0.040353826764081446,
           -0.9337595836692876,
           0.049435388491187233,
           0.4998944618939771,
           -0.9211587580397507,
           0.4112955092341246
          ],
          [
           -0.4883614976017922,
           -0.5028464016727273,
           -0.6300040145063887,
           0.7158216074913761,
           1,
           -0.09557373830784033,
           0.7059936616366327,
           0.6163827716194801,
           -0.6879629289427857,
           0.6827348256574154,
           0.5688501869406707,
           -0.6830008647144806,
           0.11853490224047748
          ],
          [
           -0.3778796163418823,
           0.6000179544161117,
           -0.6365783321457552,
           0.5408931341064447,
           -0.09557373830784033,
           1,
           0.34767145702429336,
           -0.738575685509048,
           -0.5356289163845074,
           -0.6735345367211589,
           -0.08676554084668006,
           -0.39967805880699375,
           0.2824279571619284
          ],
          [
           -0.5600359793453032,
           -0.005278610778445343,
           -0.7937311387338585,
           0.7726846760122201,
           0.7059936616366327,
           0.34767145702429336,
           1,
           0.07598100746952816,
           -0.7340833881462239,
           0.18936558013168733,
           0.38466429778551764,
           -0.7202553144289295,
           0.1345806771347886
          ],
          [
           0.24481327200034977,
           -0.8384634126764212,
           0.1177493452900591,
           -0.040353826764081446,
           0.6163827716194801,
           -0.738575685509048,
           0.07598100746952816,
           1,
           0.005313336822696862,
           0.9597996046866653,
           0.11428988275912833,
           0.07272200634495016,
           -0.2990411256697193
          ],
          [
           0.6679407869495613,
           -0.11507903484724662,
           0.9290984292792732,
           -0.9337595836692876,
           -0.6879629289427857,
           -0.5356289163845074,
           -0.7340833881462239,
           0.005313336822696862,
           1,
           -0.0691209252461087,
           -0.41134099161696436,
           0.8300352075638717,
           -0.2949439559626186
          ],
          [
           0.135206651286006,
           -0.779129060109222,
           0.008636460322801484,
           0.049435388491187233,
           0.6827348256574154,
           -0.6735345367211589,
           0.18936558013168733,
           0.9597996046866653,
           -0.0691209252461087,
           1,
           0.2151115193534347,
           -0.03535889516641647,
           -0.2561334077890368
          ],
          [
           -0.8475989110150034,
           0.017657401281779277,
           -0.3339128886804443,
           0.4998944618939771,
           0.5688501869406707,
           -0.08676554084668006,
           0.38466429778551764,
           0.11428988275912833,
           -0.41134099161696436,
           0.2151115193534347,
           1,
           -0.7616832157267148,
           0.384059807659227
          ],
          [
           0.9403224364955638,
           -0.15878272118242956,
           0.8080907171455811,
           -0.9211587580397507,
           -0.6830008647144806,
           -0.39967805880699375,
           -0.7202553144289295,
           0.07272200634495016,
           0.8300352075638717,
           -0.03535889516641647,
           -0.7616832157267148,
           1,
           -0.5339331304034587
          ],
          [
           -0.59003208568506,
           0.30112204523201086,
           -0.3130172458393562,
           0.4112955092341246,
           0.11853490224047748,
           0.2824279571619284,
           0.1345806771347886,
           -0.2990411256697193,
           -0.2949439559626186,
           -0.2561334077890368,
           0.384059807659227,
           -0.5339331304034587,
           1
          ]
         ]
        }
       ],
       "layout": {
        "coloraxis": {
         "colorscale": [
          [
           0,
           "#0d0887"
          ],
          [
           0.1111111111111111,
           "#46039f"
          ],
          [
           0.2222222222222222,
           "#7201a8"
          ],
          [
           0.3333333333333333,
           "#9c179e"
          ],
          [
           0.4444444444444444,
           "#bd3786"
          ],
          [
           0.5555555555555556,
           "#d8576b"
          ],
          [
           0.6666666666666666,
           "#ed7953"
          ],
          [
           0.7777777777777778,
           "#fb9f3a"
          ],
          [
           0.8888888888888888,
           "#fdca26"
          ],
          [
           1,
           "#f0f921"
          ]
         ]
        },
        "margin": {
         "t": 60
        },
        "template": {
         "data": {
          "bar": [
           {
            "error_x": {
             "color": "#2a3f5f"
            },
            "error_y": {
             "color": "#2a3f5f"
            },
            "marker": {
             "line": {
              "color": "#E5ECF6",
              "width": 0.5
             },
             "pattern": {
              "fillmode": "overlay",
              "size": 10,
              "solidity": 0.2
             }
            },
            "type": "bar"
           }
          ],
          "barpolar": [
           {
            "marker": {
             "line": {
              "color": "#E5ECF6",
              "width": 0.5
             },
             "pattern": {
              "fillmode": "overlay",
              "size": 10,
              "solidity": 0.2
             }
            },
            "type": "barpolar"
           }
          ],
          "carpet": [
           {
            "aaxis": {
             "endlinecolor": "#2a3f5f",
             "gridcolor": "white",
             "linecolor": "white",
             "minorgridcolor": "white",
             "startlinecolor": "#2a3f5f"
            },
            "baxis": {
             "endlinecolor": "#2a3f5f",
             "gridcolor": "white",
             "linecolor": "white",
             "minorgridcolor": "white",
             "startlinecolor": "#2a3f5f"
            },
            "type": "carpet"
           }
          ],
          "choropleth": [
           {
            "colorbar": {
             "outlinewidth": 0,
             "ticks": ""
            },
            "type": "choropleth"
           }
          ],
          "contour": [
           {
            "colorbar": {
             "outlinewidth": 0,
             "ticks": ""
            },
            "colorscale": [
             [
              0,
              "#0d0887"
             ],
             [
              0.1111111111111111,
              "#46039f"
             ],
             [
              0.2222222222222222,
              "#7201a8"
             ],
             [
              0.3333333333333333,
              "#9c179e"
             ],
             [
              0.4444444444444444,
              "#bd3786"
             ],
             [
              0.5555555555555556,
              "#d8576b"
             ],
             [
              0.6666666666666666,
              "#ed7953"
             ],
             [
              0.7777777777777778,
              "#fb9f3a"
             ],
             [
              0.8888888888888888,
              "#fdca26"
             ],
             [
              1,
              "#f0f921"
             ]
            ],
            "type": "contour"
           }
          ],
          "contourcarpet": [
           {
            "colorbar": {
             "outlinewidth": 0,
             "ticks": ""
            },
            "type": "contourcarpet"
           }
          ],
          "heatmap": [
           {
            "colorbar": {
             "outlinewidth": 0,
             "ticks": ""
            },
            "colorscale": [
             [
              0,
              "#0d0887"
             ],
             [
              0.1111111111111111,
              "#46039f"
             ],
             [
              0.2222222222222222,
              "#7201a8"
             ],
             [
              0.3333333333333333,
              "#9c179e"
             ],
             [
              0.4444444444444444,
              "#bd3786"
             ],
             [
              0.5555555555555556,
              "#d8576b"
             ],
             [
              0.6666666666666666,
              "#ed7953"
             ],
             [
              0.7777777777777778,
              "#fb9f3a"
             ],
             [
              0.8888888888888888,
              "#fdca26"
             ],
             [
              1,
              "#f0f921"
             ]
            ],
            "type": "heatmap"
           }
          ],
          "heatmapgl": [
           {
            "colorbar": {
             "outlinewidth": 0,
             "ticks": ""
            },
            "colorscale": [
             [
              0,
              "#0d0887"
             ],
             [
              0.1111111111111111,
              "#46039f"
             ],
             [
              0.2222222222222222,
              "#7201a8"
             ],
             [
              0.3333333333333333,
              "#9c179e"
             ],
             [
              0.4444444444444444,
              "#bd3786"
             ],
             [
              0.5555555555555556,
              "#d8576b"
             ],
             [
              0.6666666666666666,
              "#ed7953"
             ],
             [
              0.7777777777777778,
              "#fb9f3a"
             ],
             [
              0.8888888888888888,
              "#fdca26"
             ],
             [
              1,
              "#f0f921"
             ]
            ],
            "type": "heatmapgl"
           }
          ],
          "histogram": [
           {
            "marker": {
             "pattern": {
              "fillmode": "overlay",
              "size": 10,
              "solidity": 0.2
             }
            },
            "type": "histogram"
           }
          ],
          "histogram2d": [
           {
            "colorbar": {
             "outlinewidth": 0,
             "ticks": ""
            },
            "colorscale": [
             [
              0,
              "#0d0887"
             ],
             [
              0.1111111111111111,
              "#46039f"
             ],
             [
              0.2222222222222222,
              "#7201a8"
             ],
             [
              0.3333333333333333,
              "#9c179e"
             ],
             [
              0.4444444444444444,
              "#bd3786"
             ],
             [
              0.5555555555555556,
              "#d8576b"
             ],
             [
              0.6666666666666666,
              "#ed7953"
             ],
             [
              0.7777777777777778,
              "#fb9f3a"
             ],
             [
              0.8888888888888888,
              "#fdca26"
             ],
             [
              1,
              "#f0f921"
             ]
            ],
            "type": "histogram2d"
           }
          ],
          "histogram2dcontour": [
           {
            "colorbar": {
             "outlinewidth": 0,
             "ticks": ""
            },
            "colorscale": [
             [
              0,
              "#0d0887"
             ],
             [
              0.1111111111111111,
              "#46039f"
             ],
             [
              0.2222222222222222,
              "#7201a8"
             ],
             [
              0.3333333333333333,
              "#9c179e"
             ],
             [
              0.4444444444444444,
              "#bd3786"
             ],
             [
              0.5555555555555556,
              "#d8576b"
             ],
             [
              0.6666666666666666,
              "#ed7953"
             ],
             [
              0.7777777777777778,
              "#fb9f3a"
             ],
             [
              0.8888888888888888,
              "#fdca26"
             ],
             [
              1,
              "#f0f921"
             ]
            ],
            "type": "histogram2dcontour"
           }
          ],
          "mesh3d": [
           {
            "colorbar": {
             "outlinewidth": 0,
             "ticks": ""
            },
            "type": "mesh3d"
           }
          ],
          "parcoords": [
           {
            "line": {
             "colorbar": {
              "outlinewidth": 0,
              "ticks": ""
             }
            },
            "type": "parcoords"
           }
          ],
          "pie": [
           {
            "automargin": true,
            "type": "pie"
           }
          ],
          "scatter": [
           {
            "fillpattern": {
             "fillmode": "overlay",
             "size": 10,
             "solidity": 0.2
            },
            "type": "scatter"
           }
          ],
          "scatter3d": [
           {
            "line": {
             "colorbar": {
              "outlinewidth": 0,
              "ticks": ""
             }
            },
            "marker": {
             "colorbar": {
              "outlinewidth": 0,
              "ticks": ""
             }
            },
            "type": "scatter3d"
           }
          ],
          "scattercarpet": [
           {
            "marker": {
             "colorbar": {
              "outlinewidth": 0,
              "ticks": ""
             }
            },
            "type": "scattercarpet"
           }
          ],
          "scattergeo": [
           {
            "marker": {
             "colorbar": {
              "outlinewidth": 0,
              "ticks": ""
             }
            },
            "type": "scattergeo"
           }
          ],
          "scattergl": [
           {
            "marker": {
             "colorbar": {
              "outlinewidth": 0,
              "ticks": ""
             }
            },
            "type": "scattergl"
           }
          ],
          "scattermapbox": [
           {
            "marker": {
             "colorbar": {
              "outlinewidth": 0,
              "ticks": ""
             }
            },
            "type": "scattermapbox"
           }
          ],
          "scatterpolar": [
           {
            "marker": {
             "colorbar": {
              "outlinewidth": 0,
              "ticks": ""
             }
            },
            "type": "scatterpolar"
           }
          ],
          "scatterpolargl": [
           {
            "marker": {
             "colorbar": {
              "outlinewidth": 0,
              "ticks": ""
             }
            },
            "type": "scatterpolargl"
           }
          ],
          "scatterternary": [
           {
            "marker": {
             "colorbar": {
              "outlinewidth": 0,
              "ticks": ""
             }
            },
            "type": "scatterternary"
           }
          ],
          "surface": [
           {
            "colorbar": {
             "outlinewidth": 0,
             "ticks": ""
            },
            "colorscale": [
             [
              0,
              "#0d0887"
             ],
             [
              0.1111111111111111,
              "#46039f"
             ],
             [
              0.2222222222222222,
              "#7201a8"
             ],
             [
              0.3333333333333333,
              "#9c179e"
             ],
             [
              0.4444444444444444,
              "#bd3786"
             ],
             [
              0.5555555555555556,
              "#d8576b"
             ],
             [
              0.6666666666666666,
              "#ed7953"
             ],
             [
              0.7777777777777778,
              "#fb9f3a"
             ],
             [
              0.8888888888888888,
              "#fdca26"
             ],
             [
              1,
              "#f0f921"
             ]
            ],
            "type": "surface"
           }
          ],
          "table": [
           {
            "cells": {
             "fill": {
              "color": "#EBF0F8"
             },
             "line": {
              "color": "white"
             }
            },
            "header": {
             "fill": {
              "color": "#C8D4E3"
             },
             "line": {
              "color": "white"
             }
            },
            "type": "table"
           }
          ]
         },
         "layout": {
          "annotationdefaults": {
           "arrowcolor": "#2a3f5f",
           "arrowhead": 0,
           "arrowwidth": 1
          },
          "autotypenumbers": "strict",
          "coloraxis": {
           "colorbar": {
            "outlinewidth": 0,
            "ticks": ""
           }
          },
          "colorscale": {
           "diverging": [
            [
             0,
             "#8e0152"
            ],
            [
             0.1,
             "#c51b7d"
            ],
            [
             0.2,
             "#de77ae"
            ],
            [
             0.3,
             "#f1b6da"
            ],
            [
             0.4,
             "#fde0ef"
            ],
            [
             0.5,
             "#f7f7f7"
            ],
            [
             0.6,
             "#e6f5d0"
            ],
            [
             0.7,
             "#b8e186"
            ],
            [
             0.8,
             "#7fbc41"
            ],
            [
             0.9,
             "#4d9221"
            ],
            [
             1,
             "#276419"
            ]
           ],
           "sequential": [
            [
             0,
             "#0d0887"
            ],
            [
             0.1111111111111111,
             "#46039f"
            ],
            [
             0.2222222222222222,
             "#7201a8"
            ],
            [
             0.3333333333333333,
             "#9c179e"
            ],
            [
             0.4444444444444444,
             "#bd3786"
            ],
            [
             0.5555555555555556,
             "#d8576b"
            ],
            [
             0.6666666666666666,
             "#ed7953"
            ],
            [
             0.7777777777777778,
             "#fb9f3a"
            ],
            [
             0.8888888888888888,
             "#fdca26"
            ],
            [
             1,
             "#f0f921"
            ]
           ],
           "sequentialminus": [
            [
             0,
             "#0d0887"
            ],
            [
             0.1111111111111111,
             "#46039f"
            ],
            [
             0.2222222222222222,
             "#7201a8"
            ],
            [
             0.3333333333333333,
             "#9c179e"
            ],
            [
             0.4444444444444444,
             "#bd3786"
            ],
            [
             0.5555555555555556,
             "#d8576b"
            ],
            [
             0.6666666666666666,
             "#ed7953"
            ],
            [
             0.7777777777777778,
             "#fb9f3a"
            ],
            [
             0.8888888888888888,
             "#fdca26"
            ],
            [
             1,
             "#f0f921"
            ]
           ]
          },
          "colorway": [
           "#636efa",
           "#EF553B",
           "#00cc96",
           "#ab63fa",
           "#FFA15A",
           "#19d3f3",
           "#FF6692",
           "#B6E880",
           "#FF97FF",
           "#FECB52"
          ],
          "font": {
           "color": "#2a3f5f"
          },
          "geo": {
           "bgcolor": "white",
           "lakecolor": "white",
           "landcolor": "#E5ECF6",
           "showlakes": true,
           "showland": true,
           "subunitcolor": "white"
          },
          "hoverlabel": {
           "align": "left"
          },
          "hovermode": "closest",
          "mapbox": {
           "style": "light"
          },
          "paper_bgcolor": "white",
          "plot_bgcolor": "#E5ECF6",
          "polar": {
           "angularaxis": {
            "gridcolor": "white",
            "linecolor": "white",
            "ticks": ""
           },
           "bgcolor": "#E5ECF6",
           "radialaxis": {
            "gridcolor": "white",
            "linecolor": "white",
            "ticks": ""
           }
          },
          "scene": {
           "xaxis": {
            "backgroundcolor": "#E5ECF6",
            "gridcolor": "white",
            "gridwidth": 2,
            "linecolor": "white",
            "showbackground": true,
            "ticks": "",
            "zerolinecolor": "white"
           },
           "yaxis": {
            "backgroundcolor": "#E5ECF6",
            "gridcolor": "white",
            "gridwidth": 2,
            "linecolor": "white",
            "showbackground": true,
            "ticks": "",
            "zerolinecolor": "white"
           },
           "zaxis": {
            "backgroundcolor": "#E5ECF6",
            "gridcolor": "white",
            "gridwidth": 2,
            "linecolor": "white",
            "showbackground": true,
            "ticks": "",
            "zerolinecolor": "white"
           }
          },
          "shapedefaults": {
           "line": {
            "color": "#2a3f5f"
           }
          },
          "ternary": {
           "aaxis": {
            "gridcolor": "white",
            "linecolor": "white",
            "ticks": ""
           },
           "baxis": {
            "gridcolor": "white",
            "linecolor": "white",
            "ticks": ""
           },
           "bgcolor": "#E5ECF6",
           "caxis": {
            "gridcolor": "white",
            "linecolor": "white",
            "ticks": ""
           }
          },
          "title": {
           "x": 0.05
          },
          "xaxis": {
           "automargin": true,
           "gridcolor": "white",
           "linecolor": "white",
           "ticks": "",
           "title": {
            "standoff": 15
           },
           "zerolinecolor": "white",
           "zerolinewidth": 2
          },
          "yaxis": {
           "automargin": true,
           "gridcolor": "white",
           "linecolor": "white",
           "ticks": "",
           "title": {
            "standoff": 15
           },
           "zerolinecolor": "white",
           "zerolinewidth": 2
          }
         }
        },
        "xaxis": {
         "anchor": "y",
         "constrain": "domain",
         "domain": [
          0,
          1
         ],
         "scaleanchor": "y"
        },
        "yaxis": {
         "anchor": "x",
         "autorange": "reversed",
         "constrain": "domain",
         "domain": [
          0,
          1
         ]
        }
       }
      },
      "text/html": [
       "<div>                            <div id=\"68aa5834-b991-45fb-96bb-a6068ecd2b6c\" class=\"plotly-graph-div\" style=\"height:525px; width:100%;\"></div>            <script type=\"text/javascript\">                require([\"plotly\"], function(Plotly) {                    window.PLOTLYENV=window.PLOTLYENV || {};                                    if (document.getElementById(\"68aa5834-b991-45fb-96bb-a6068ecd2b6c\")) {                    Plotly.newPlot(                        \"68aa5834-b991-45fb-96bb-a6068ecd2b6c\",                        [{\"coloraxis\":\"coloraxis\",\"name\":\"0\",\"texttemplate\":\"%{z}\",\"x\":[\"year\",\"acousticness\",\"danceability\",\"duration_ms\",\"energy\",\"instrumentalness\",\"liveness\",\"loudness\",\"speechiness\",\"tempo\",\"valence\",\"popularity\",\"key\"],\"y\":[\"year\",\"acousticness\",\"danceability\",\"duration_ms\",\"energy\",\"instrumentalness\",\"liveness\",\"loudness\",\"speechiness\",\"tempo\",\"valence\",\"popularity\",\"key\"],\"z\":[[1.0,-0.3411159583826981,0.6608199386023006,-0.7677124784467935,-0.4883614976017922,-0.3778796163418823,-0.5600359793453032,0.24481327200034977,0.6679407869495613,0.135206651286006,-0.8475989110150034,0.9403224364955638,-0.59003208568506],[-0.3411159583826981,1.0,-0.21562914783872839,0.07027065889373486,-0.5028464016727273,0.6000179544161117,-0.005278610778445343,-0.8384634126764212,-0.11507903484724662,-0.779129060109222,0.017657401281779277,-0.15878272118242956,0.30112204523201086],[0.6608199386023006,-0.21562914783872839,1.0,-0.9174882989904196,-0.6300040145063887,-0.6365783321457552,-0.7937311387338585,0.1177493452900591,0.9290984292792732,0.008636460322801484,-0.3339128886804443,0.8080907171455811,-0.3130172458393562],[-0.7677124784467935,0.07027065889373486,-0.9174882989904196,1.0,0.7158216074913761,0.5408931341064447,0.7726846760122201,-0.040353826764081446,-0.9337595836692876,0.049435388491187233,0.4998944618939771,-0.9211587580397507,0.4112955092341246],[-0.4883614976017922,-0.5028464016727273,-0.6300040145063887,0.7158216074913761,1.0,-0.09557373830784033,0.7059936616366327,0.6163827716194801,-0.6879629289427857,0.6827348256574154,0.5688501869406707,-0.6830008647144806,0.11853490224047748],[-0.3778796163418823,0.6000179544161117,-0.6365783321457552,0.5408931341064447,-0.09557373830784033,1.0,0.34767145702429336,-0.738575685509048,-0.5356289163845074,-0.6735345367211589,-0.08676554084668006,-0.39967805880699375,0.2824279571619284],[-0.5600359793453032,-0.005278610778445343,-0.7937311387338585,0.7726846760122201,0.7059936616366327,0.34767145702429336,1.0,0.07598100746952816,-0.7340833881462239,0.18936558013168733,0.38466429778551764,-0.7202553144289295,0.1345806771347886],[0.24481327200034977,-0.8384634126764212,0.1177493452900591,-0.040353826764081446,0.6163827716194801,-0.738575685509048,0.07598100746952816,1.0,0.005313336822696862,0.9597996046866653,0.11428988275912833,0.07272200634495016,-0.2990411256697193],[0.6679407869495613,-0.11507903484724662,0.9290984292792732,-0.9337595836692876,-0.6879629289427857,-0.5356289163845074,-0.7340833881462239,0.005313336822696862,1.0,-0.0691209252461087,-0.41134099161696436,0.8300352075638717,-0.2949439559626186],[0.135206651286006,-0.779129060109222,0.008636460322801484,0.049435388491187233,0.6827348256574154,-0.6735345367211589,0.18936558013168733,0.9597996046866653,-0.0691209252461087,1.0,0.2151115193534347,-0.03535889516641647,-0.2561334077890368],[-0.8475989110150034,0.017657401281779277,-0.3339128886804443,0.4998944618939771,0.5688501869406707,-0.08676554084668006,0.38466429778551764,0.11428988275912833,-0.41134099161696436,0.2151115193534347,1.0,-0.7616832157267148,0.384059807659227],[0.9403224364955638,-0.15878272118242956,0.8080907171455811,-0.9211587580397507,-0.6830008647144806,-0.39967805880699375,-0.7202553144289295,0.07272200634495016,0.8300352075638717,-0.03535889516641647,-0.7616832157267148,1.0,-0.5339331304034587],[-0.59003208568506,0.30112204523201086,-0.3130172458393562,0.4112955092341246,0.11853490224047748,0.2824279571619284,0.1345806771347886,-0.2990411256697193,-0.2949439559626186,-0.2561334077890368,0.384059807659227,-0.5339331304034587,1.0]],\"type\":\"heatmap\",\"xaxis\":\"x\",\"yaxis\":\"y\",\"hovertemplate\":\"x: %{x}<br>y: %{y}<br>color: %{z}<extra></extra>\"}],                        {\"template\":{\"data\":{\"histogram2dcontour\":[{\"type\":\"histogram2dcontour\",\"colorbar\":{\"outlinewidth\":0,\"ticks\":\"\"},\"colorscale\":[[0.0,\"#0d0887\"],[0.1111111111111111,\"#46039f\"],[0.2222222222222222,\"#7201a8\"],[0.3333333333333333,\"#9c179e\"],[0.4444444444444444,\"#bd3786\"],[0.5555555555555556,\"#d8576b\"],[0.6666666666666666,\"#ed7953\"],[0.7777777777777778,\"#fb9f3a\"],[0.8888888888888888,\"#fdca26\"],[1.0,\"#f0f921\"]]}],\"choropleth\":[{\"type\":\"choropleth\",\"colorbar\":{\"outlinewidth\":0,\"ticks\":\"\"}}],\"histogram2d\":[{\"type\":\"histogram2d\",\"colorbar\":{\"outlinewidth\":0,\"ticks\":\"\"},\"colorscale\":[[0.0,\"#0d0887\"],[0.1111111111111111,\"#46039f\"],[0.2222222222222222,\"#7201a8\"],[0.3333333333333333,\"#9c179e\"],[0.4444444444444444,\"#bd3786\"],[0.5555555555555556,\"#d8576b\"],[0.6666666666666666,\"#ed7953\"],[0.7777777777777778,\"#fb9f3a\"],[0.8888888888888888,\"#fdca26\"],[1.0,\"#f0f921\"]]}],\"heatmap\":[{\"type\":\"heatmap\",\"colorbar\":{\"outlinewidth\":0,\"ticks\":\"\"},\"colorscale\":[[0.0,\"#0d0887\"],[0.1111111111111111,\"#46039f\"],[0.2222222222222222,\"#7201a8\"],[0.3333333333333333,\"#9c179e\"],[0.4444444444444444,\"#bd3786\"],[0.5555555555555556,\"#d8576b\"],[0.6666666666666666,\"#ed7953\"],[0.7777777777777778,\"#fb9f3a\"],[0.8888888888888888,\"#fdca26\"],[1.0,\"#f0f921\"]]}],\"heatmapgl\":[{\"type\":\"heatmapgl\",\"colorbar\":{\"outlinewidth\":0,\"ticks\":\"\"},\"colorscale\":[[0.0,\"#0d0887\"],[0.1111111111111111,\"#46039f\"],[0.2222222222222222,\"#7201a8\"],[0.3333333333333333,\"#9c179e\"],[0.4444444444444444,\"#bd3786\"],[0.5555555555555556,\"#d8576b\"],[0.6666666666666666,\"#ed7953\"],[0.7777777777777778,\"#fb9f3a\"],[0.8888888888888888,\"#fdca26\"],[1.0,\"#f0f921\"]]}],\"contourcarpet\":[{\"type\":\"contourcarpet\",\"colorbar\":{\"outlinewidth\":0,\"ticks\":\"\"}}],\"contour\":[{\"type\":\"contour\",\"colorbar\":{\"outlinewidth\":0,\"ticks\":\"\"},\"colorscale\":[[0.0,\"#0d0887\"],[0.1111111111111111,\"#46039f\"],[0.2222222222222222,\"#7201a8\"],[0.3333333333333333,\"#9c179e\"],[0.4444444444444444,\"#bd3786\"],[0.5555555555555556,\"#d8576b\"],[0.6666666666666666,\"#ed7953\"],[0.7777777777777778,\"#fb9f3a\"],[0.8888888888888888,\"#fdca26\"],[1.0,\"#f0f921\"]]}],\"surface\":[{\"type\":\"surface\",\"colorbar\":{\"outlinewidth\":0,\"ticks\":\"\"},\"colorscale\":[[0.0,\"#0d0887\"],[0.1111111111111111,\"#46039f\"],[0.2222222222222222,\"#7201a8\"],[0.3333333333333333,\"#9c179e\"],[0.4444444444444444,\"#bd3786\"],[0.5555555555555556,\"#d8576b\"],[0.6666666666666666,\"#ed7953\"],[0.7777777777777778,\"#fb9f3a\"],[0.8888888888888888,\"#fdca26\"],[1.0,\"#f0f921\"]]}],\"mesh3d\":[{\"type\":\"mesh3d\",\"colorbar\":{\"outlinewidth\":0,\"ticks\":\"\"}}],\"scatter\":[{\"fillpattern\":{\"fillmode\":\"overlay\",\"size\":10,\"solidity\":0.2},\"type\":\"scatter\"}],\"parcoords\":[{\"type\":\"parcoords\",\"line\":{\"colorbar\":{\"outlinewidth\":0,\"ticks\":\"\"}}}],\"scatterpolargl\":[{\"type\":\"scatterpolargl\",\"marker\":{\"colorbar\":{\"outlinewidth\":0,\"ticks\":\"\"}}}],\"bar\":[{\"error_x\":{\"color\":\"#2a3f5f\"},\"error_y\":{\"color\":\"#2a3f5f\"},\"marker\":{\"line\":{\"color\":\"#E5ECF6\",\"width\":0.5},\"pattern\":{\"fillmode\":\"overlay\",\"size\":10,\"solidity\":0.2}},\"type\":\"bar\"}],\"scattergeo\":[{\"type\":\"scattergeo\",\"marker\":{\"colorbar\":{\"outlinewidth\":0,\"ticks\":\"\"}}}],\"scatterpolar\":[{\"type\":\"scatterpolar\",\"marker\":{\"colorbar\":{\"outlinewidth\":0,\"ticks\":\"\"}}}],\"histogram\":[{\"marker\":{\"pattern\":{\"fillmode\":\"overlay\",\"size\":10,\"solidity\":0.2}},\"type\":\"histogram\"}],\"scattergl\":[{\"type\":\"scattergl\",\"marker\":{\"colorbar\":{\"outlinewidth\":0,\"ticks\":\"\"}}}],\"scatter3d\":[{\"type\":\"scatter3d\",\"line\":{\"colorbar\":{\"outlinewidth\":0,\"ticks\":\"\"}},\"marker\":{\"colorbar\":{\"outlinewidth\":0,\"ticks\":\"\"}}}],\"scattermapbox\":[{\"type\":\"scattermapbox\",\"marker\":{\"colorbar\":{\"outlinewidth\":0,\"ticks\":\"\"}}}],\"scatterternary\":[{\"type\":\"scatterternary\",\"marker\":{\"colorbar\":{\"outlinewidth\":0,\"ticks\":\"\"}}}],\"scattercarpet\":[{\"type\":\"scattercarpet\",\"marker\":{\"colorbar\":{\"outlinewidth\":0,\"ticks\":\"\"}}}],\"carpet\":[{\"aaxis\":{\"endlinecolor\":\"#2a3f5f\",\"gridcolor\":\"white\",\"linecolor\":\"white\",\"minorgridcolor\":\"white\",\"startlinecolor\":\"#2a3f5f\"},\"baxis\":{\"endlinecolor\":\"#2a3f5f\",\"gridcolor\":\"white\",\"linecolor\":\"white\",\"minorgridcolor\":\"white\",\"startlinecolor\":\"#2a3f5f\"},\"type\":\"carpet\"}],\"table\":[{\"cells\":{\"fill\":{\"color\":\"#EBF0F8\"},\"line\":{\"color\":\"white\"}},\"header\":{\"fill\":{\"color\":\"#C8D4E3\"},\"line\":{\"color\":\"white\"}},\"type\":\"table\"}],\"barpolar\":[{\"marker\":{\"line\":{\"color\":\"#E5ECF6\",\"width\":0.5},\"pattern\":{\"fillmode\":\"overlay\",\"size\":10,\"solidity\":0.2}},\"type\":\"barpolar\"}],\"pie\":[{\"automargin\":true,\"type\":\"pie\"}]},\"layout\":{\"autotypenumbers\":\"strict\",\"colorway\":[\"#636efa\",\"#EF553B\",\"#00cc96\",\"#ab63fa\",\"#FFA15A\",\"#19d3f3\",\"#FF6692\",\"#B6E880\",\"#FF97FF\",\"#FECB52\"],\"font\":{\"color\":\"#2a3f5f\"},\"hovermode\":\"closest\",\"hoverlabel\":{\"align\":\"left\"},\"paper_bgcolor\":\"white\",\"plot_bgcolor\":\"#E5ECF6\",\"polar\":{\"bgcolor\":\"#E5ECF6\",\"angularaxis\":{\"gridcolor\":\"white\",\"linecolor\":\"white\",\"ticks\":\"\"},\"radialaxis\":{\"gridcolor\":\"white\",\"linecolor\":\"white\",\"ticks\":\"\"}},\"ternary\":{\"bgcolor\":\"#E5ECF6\",\"aaxis\":{\"gridcolor\":\"white\",\"linecolor\":\"white\",\"ticks\":\"\"},\"baxis\":{\"gridcolor\":\"white\",\"linecolor\":\"white\",\"ticks\":\"\"},\"caxis\":{\"gridcolor\":\"white\",\"linecolor\":\"white\",\"ticks\":\"\"}},\"coloraxis\":{\"colorbar\":{\"outlinewidth\":0,\"ticks\":\"\"}},\"colorscale\":{\"sequential\":[[0.0,\"#0d0887\"],[0.1111111111111111,\"#46039f\"],[0.2222222222222222,\"#7201a8\"],[0.3333333333333333,\"#9c179e\"],[0.4444444444444444,\"#bd3786\"],[0.5555555555555556,\"#d8576b\"],[0.6666666666666666,\"#ed7953\"],[0.7777777777777778,\"#fb9f3a\"],[0.8888888888888888,\"#fdca26\"],[1.0,\"#f0f921\"]],\"sequentialminus\":[[0.0,\"#0d0887\"],[0.1111111111111111,\"#46039f\"],[0.2222222222222222,\"#7201a8\"],[0.3333333333333333,\"#9c179e\"],[0.4444444444444444,\"#bd3786\"],[0.5555555555555556,\"#d8576b\"],[0.6666666666666666,\"#ed7953\"],[0.7777777777777778,\"#fb9f3a\"],[0.8888888888888888,\"#fdca26\"],[1.0,\"#f0f921\"]],\"diverging\":[[0,\"#8e0152\"],[0.1,\"#c51b7d\"],[0.2,\"#de77ae\"],[0.3,\"#f1b6da\"],[0.4,\"#fde0ef\"],[0.5,\"#f7f7f7\"],[0.6,\"#e6f5d0\"],[0.7,\"#b8e186\"],[0.8,\"#7fbc41\"],[0.9,\"#4d9221\"],[1,\"#276419\"]]},\"xaxis\":{\"gridcolor\":\"white\",\"linecolor\":\"white\",\"ticks\":\"\",\"title\":{\"standoff\":15},\"zerolinecolor\":\"white\",\"automargin\":true,\"zerolinewidth\":2},\"yaxis\":{\"gridcolor\":\"white\",\"linecolor\":\"white\",\"ticks\":\"\",\"title\":{\"standoff\":15},\"zerolinecolor\":\"white\",\"automargin\":true,\"zerolinewidth\":2},\"scene\":{\"xaxis\":{\"backgroundcolor\":\"#E5ECF6\",\"gridcolor\":\"white\",\"linecolor\":\"white\",\"showbackground\":true,\"ticks\":\"\",\"zerolinecolor\":\"white\",\"gridwidth\":2},\"yaxis\":{\"backgroundcolor\":\"#E5ECF6\",\"gridcolor\":\"white\",\"linecolor\":\"white\",\"showbackground\":true,\"ticks\":\"\",\"zerolinecolor\":\"white\",\"gridwidth\":2},\"zaxis\":{\"backgroundcolor\":\"#E5ECF6\",\"gridcolor\":\"white\",\"linecolor\":\"white\",\"showbackground\":true,\"ticks\":\"\",\"zerolinecolor\":\"white\",\"gridwidth\":2}},\"shapedefaults\":{\"line\":{\"color\":\"#2a3f5f\"}},\"annotationdefaults\":{\"arrowcolor\":\"#2a3f5f\",\"arrowhead\":0,\"arrowwidth\":1},\"geo\":{\"bgcolor\":\"white\",\"landcolor\":\"#E5ECF6\",\"subunitcolor\":\"white\",\"showland\":true,\"showlakes\":true,\"lakecolor\":\"white\"},\"title\":{\"x\":0.05},\"mapbox\":{\"style\":\"light\"}}},\"xaxis\":{\"anchor\":\"y\",\"domain\":[0.0,1.0],\"scaleanchor\":\"y\",\"constrain\":\"domain\"},\"yaxis\":{\"anchor\":\"x\",\"domain\":[0.0,1.0],\"autorange\":\"reversed\",\"constrain\":\"domain\"},\"coloraxis\":{\"colorscale\":[[0.0,\"#0d0887\"],[0.1111111111111111,\"#46039f\"],[0.2222222222222222,\"#7201a8\"],[0.3333333333333333,\"#9c179e\"],[0.4444444444444444,\"#bd3786\"],[0.5555555555555556,\"#d8576b\"],[0.6666666666666666,\"#ed7953\"],[0.7777777777777778,\"#fb9f3a\"],[0.8888888888888888,\"#fdca26\"],[1.0,\"#f0f921\"]]},\"margin\":{\"t\":60}},                        {\"responsive\": true}                    ).then(function(){\n",
       "                            \n",
       "var gd = document.getElementById('68aa5834-b991-45fb-96bb-a6068ecd2b6c');\n",
       "var x = new MutationObserver(function (mutations, observer) {{\n",
       "        var display = window.getComputedStyle(gd).display;\n",
       "        if (!display || display === 'none') {{\n",
       "            console.log([gd, 'removed!']);\n",
       "            Plotly.purge(gd);\n",
       "            observer.disconnect();\n",
       "        }}\n",
       "}});\n",
       "\n",
       "// Listen for the removal of the full notebook cells\n",
       "var notebookContainer = gd.closest('#notebook-container');\n",
       "if (notebookContainer) {{\n",
       "    x.observe(notebookContainer, {childList: true});\n",
       "}}\n",
       "\n",
       "// Listen for the clearing of the current output cell\n",
       "var outputEl = gd.closest('.output');\n",
       "if (outputEl) {{\n",
       "    x.observe(outputEl, {childList: true});\n",
       "}}\n",
       "\n",
       "                        })                };                });            </script>        </div>"
      ]
     },
     "metadata": {},
     "output_type": "display_data"
    }
   ],
   "source": [
    "fig = px.imshow(dados_anos.drop('mode').toPandas().corr(), text_auto = True)\n",
    "fig.show()"
   ]
  },
  {
   "cell_type": "markdown",
   "id": "8fd5bcfe",
   "metadata": {},
   "source": [
    "## Clustering"
   ]
  },
  {
   "cell_type": "markdown",
   "id": "b8a026fd",
   "metadata": {},
   "source": [
    "#### StandardScaler"
   ]
  },
  {
   "cell_type": "raw",
   "id": "94f68a8e",
   "metadata": {},
   "source": [
    "Vamos estudar a importância da variável do gênero musical para a construção dos clusters. Para isso, usaremos mais uma base:"
   ]
  },
  {
   "cell_type": "code",
   "execution_count": 174,
   "id": "a5698233",
   "metadata": {},
   "outputs": [],
   "source": [
    "dados_generos = sessao_spark.read.csv('dados_musicas_genero.csv', header = True, inferSchema = True)"
   ]
  },
  {
   "cell_type": "code",
   "execution_count": 175,
   "id": "6287ab13",
   "metadata": {},
   "outputs": [
    {
     "name": "stdout",
     "output_type": "stream",
     "text": [
      "+----+----------------------+-------------------+-------------------+------------------+-------------------+--------------------+-------------------+-------------------+--------------------+------------------+-------------------+------------------+---+\n",
      "|mode|genres                |acousticness       |danceability       |duration_ms       |energy             |instrumentalness    |liveness           |loudness           |speechiness         |tempo             |valence            |popularity        |key|\n",
      "+----+----------------------+-------------------+-------------------+------------------+-------------------+--------------------+-------------------+-------------------+--------------------+------------------+-------------------+------------------+---+\n",
      "|1   |21st century classical|0.9793333333333332 |0.16288333333333335|160297.66666666663|0.07131666666666665|0.60683367          |0.3616             |-31.514333333333337|0.04056666666666667 |75.3365           |0.10378333333333334|27.83333333333333 |6  |\n",
      "|1   |432hz                 |0.49478            |0.2993333333333333 |1048887.333333333 |0.4506783333333333 |0.4777616666666668  |0.131              |-16.854            |0.07681666666666667 |120.28566666666666|0.22175            |52.5              |5  |\n",
      "|1   |8-bit                 |0.762              |0.7120000000000001 |115177.0          |0.818              |0.8759999999999999  |0.126              |-9.18              |0.047               |133.444           |0.975              |48.0              |7  |\n",
      "|1   |[]                    |0.6514170195595453 |0.5290925603549332 |232880.8902503945 |0.4191460727353524 |0.2053091895111363  |0.21869585415040735|-12.288964675489455|0.10787155868681396 |112.8573524318416 |0.5136042963588958 |20.859882191849056|7  |\n",
      "|1   |a cappella            |0.676557304985755  |0.5389612464387464 |190628.5408867521 |0.3164335701566952 |0.003003441440420227|0.1722541371082621 |-12.479387421652426|0.08285143981481483 |112.1103620014245 |0.44824865455840457|45.82007122507122 |7  |\n",
      "|1   |abstract              |0.45921            |0.5161666666666667 |343196.5          |0.4424166666666666 |0.8496666666666667  |0.1180666666666667 |-15.472083333333332|0.046516666666666664|127.88575000000002|0.307325           |43.5              |1  |\n",
      "|1   |abstract beats        |0.3421466666666667 |0.623              |229936.2          |0.5277999999999999 |0.3336026120000001  |0.09965333333333334|-7.918000000000001 |0.11637333333333333 |112.4138          |0.4935066666666666 |58.93333333333332 |10 |\n",
      "|1   |abstract hip hop      |0.2438540633608816 |0.6945709366391184 |231849.23415977962|0.6462346418732783 |0.0242312629201102  |0.1685429201101929 |-7.349327823691461 |0.21425769972451789 |108.24498650137741|0.5713909090909091 |39.79070247933884 |2  |\n",
      "|0   |accordeon             |0.32299999999999995|0.588              |164000.0          |0.392              |0.441               |0.0794             |-14.899            |0.0727              |109.131           |0.7090000000000001 |39.0              |2  |\n",
      "|1   |accordion             |0.446125           |0.6248125          |167061.5625       |0.3734375          |0.19373839375       |0.1603             |-14.4870625        |0.07853750000000001 |112.8724375       |0.6586875000000001 |21.9375           |2  |\n",
      "|0   |acid house            |0.06795053846153845|0.6774             |297188.05384615384|0.7244030769230769 |0.3858910307692308  |0.2334884615384616 |-9.381199999999998 |0.05585538461538461 |126.49209230769232|0.5676769230769231 |46.63846153846154 |7  |\n",
      "|1   |acid rock             |0.2569145079725167 |0.4472389930828895 |259203.9143310266 |0.5806492948018793 |0.15092567737840148 |0.2304514628310576 |-11.43307330938882 |0.06759985278233482 |125.65952227133604|0.5344474777454798 |32.67595532906288 |2  |\n",
      "|1   |acid trance           |0.00683            |0.6629999999999999 |221160.0          |0.925              |0.703               |0.185              |-6.775             |0.0449              |132.687           |0.843              |62.0              |9  |\n",
      "|1   |acousmatic            |0.9170191062801932 |0.4204582850241546 |185040.2595531401 |0.2385243417874396 |0.6162484134359903  |0.2610061823671498 |-20.96456474637681 |0.08061773913043478 |104.07463265700486|0.3244473852657005 |9.342524154589373 |5  |\n",
      "|1   |acoustic blues        |0.761723539455837  |0.6069147720232645 |204321.25087923245|0.3606592945953496 |0.09891813613614234 |0.18309821355287112|-12.55490505937252 |0.06881536422902226 |113.28452122830322|0.633785722320662  |23.74606007693052 |7  |\n",
      "|1   |acoustic pop          |0.4902350260381985 |0.5351083171521532 |235379.78355519095|0.4764399220103099 |0.033338280109024794|0.1577504987283953 |-9.297247893173367 |0.04177066481431856 |117.88741975150835|0.3794153530026807 |53.11550474564842 |7  |\n",
      "|1   |acoustic punk         |0.4049000220385675 |0.5391115702479339 |192332.11845730024|0.6158241505968779 |0.061939951303948575|0.20948062442607893|-8.010774104683195 |0.06357052341597796 |122.30848852157943|0.7305188246097337 |40.37649219467401 |9  |\n",
      "|1   |acoustic rock         |0.6132007936507936 |0.5243968253968254 |195036.0          |0.4160026455026456 |0.32147492174603176 |0.14051838624338622|-10.54062037037037 |0.03468108465608465 |122.6556626984127 |0.3802986772486773 |51.10978835978836 |7  |\n",
      "|0   |action rock           |0.229              |0.412              |198400.0          |0.938              |2.59E-4             |0.106              |-0.253             |0.182               |97.489            |0.32               |47.0              |4  |\n",
      "|1   |adoracion             |0.4328571428571428 |0.5047142857142857 |302906.0714285714 |0.5207499999999999 |0.0                 |0.31598571428571426|-8.010071428571429 |0.038203571428571434|130.7106785714286 |0.3115714285714285 |46.39285714285714 |9  |\n",
      "+----+----------------------+-------------------+-------------------+------------------+-------------------+--------------------+-------------------+-------------------+--------------------+------------------+-------------------+------------------+---+\n",
      "only showing top 20 rows\n",
      "\n"
     ]
    }
   ],
   "source": [
    "dados_generos.show(truncate = False)"
   ]
  },
  {
   "cell_type": "code",
   "execution_count": 44,
   "id": "72407899",
   "metadata": {},
   "outputs": [
    {
     "data": {
      "text/plain": [
       "2973"
      ]
     },
     "execution_count": 44,
     "metadata": {},
     "output_type": "execute_result"
    }
   ],
   "source": [
    "dados_generos.count()"
   ]
  },
  {
   "cell_type": "code",
   "execution_count": 45,
   "id": "97db3d51",
   "metadata": {},
   "outputs": [
    {
     "data": {
      "text/plain": [
       "2973"
      ]
     },
     "execution_count": 45,
     "metadata": {},
     "output_type": "execute_result"
    }
   ],
   "source": [
    "dados_generos.select('genres').distinct().count()"
   ]
  },
  {
   "cell_type": "code",
   "execution_count": 46,
   "id": "d1613c28",
   "metadata": {},
   "outputs": [
    {
     "data": {
      "text/plain": [
       "14"
      ]
     },
     "execution_count": 46,
     "metadata": {},
     "output_type": "execute_result"
    }
   ],
   "source": [
    "len(dados_generos.columns)"
   ]
  },
  {
   "cell_type": "code",
   "execution_count": 176,
   "id": "da344469",
   "metadata": {},
   "outputs": [],
   "source": [
    "# Para começarmos a usar as técnicas nos nossos dados, precisamos vatorizá-los:\n",
    "\n",
    "from pyspark.ml.feature import VectorAssembler"
   ]
  },
  {
   "cell_type": "code",
   "execution_count": 177,
   "id": "782ae0db",
   "metadata": {},
   "outputs": [
    {
     "data": {
      "text/plain": [
       "['mode',\n",
       " 'genres',\n",
       " 'acousticness',\n",
       " 'danceability',\n",
       " 'duration_ms',\n",
       " 'energy',\n",
       " 'instrumentalness',\n",
       " 'liveness',\n",
       " 'loudness',\n",
       " 'speechiness',\n",
       " 'tempo',\n",
       " 'valence',\n",
       " 'popularity',\n",
       " 'key']"
      ]
     },
     "execution_count": 177,
     "metadata": {},
     "output_type": "execute_result"
    }
   ],
   "source": [
    "dados_generos.columns"
   ]
  },
  {
   "cell_type": "code",
   "execution_count": 178,
   "id": "bd733b77",
   "metadata": {},
   "outputs": [],
   "source": [
    "# Por padrão chamamos de X o objeto referente as features:\n",
    "X = dados_generos.columns\n",
    "# Além disso, vamos retirar a coluna dos gêneros:\n",
    "X.remove('genres')"
   ]
  },
  {
   "cell_type": "code",
   "execution_count": 179,
   "id": "512160c4",
   "metadata": {},
   "outputs": [
    {
     "data": {
      "text/plain": [
       "['mode',\n",
       " 'acousticness',\n",
       " 'danceability',\n",
       " 'duration_ms',\n",
       " 'energy',\n",
       " 'instrumentalness',\n",
       " 'liveness',\n",
       " 'loudness',\n",
       " 'speechiness',\n",
       " 'tempo',\n",
       " 'valence',\n",
       " 'popularity',\n",
       " 'key']"
      ]
     },
     "execution_count": 179,
     "metadata": {},
     "output_type": "execute_result"
    }
   ],
   "source": [
    "X"
   ]
  },
  {
   "cell_type": "code",
   "execution_count": 180,
   "id": "ec4c6551",
   "metadata": {},
   "outputs": [],
   "source": [
    "# Vetorizando:\n",
    "dados_generos_vetor = VectorAssembler(inputCols = X, outputCol = 'features').transform(dados_generos).select(['features','genres'])"
   ]
  },
  {
   "cell_type": "code",
   "execution_count": 181,
   "id": "e68269fa",
   "metadata": {
    "scrolled": true
   },
   "outputs": [
    {
     "name": "stdout",
     "output_type": "stream",
     "text": [
      "+---------------------------------------------------------------------------------------------------------------------------------------------------------------------------------------------------------------------------+----------------------+\n",
      "|features                                                                                                                                                                                                                   |genres                |\n",
      "+---------------------------------------------------------------------------------------------------------------------------------------------------------------------------------------------------------------------------+----------------------+\n",
      "|[1.0,0.9793333333333332,0.16288333333333335,160297.66666666663,0.07131666666666665,0.60683367,0.3616,-31.514333333333337,0.04056666666666667,75.3365,0.10378333333333334,27.83333333333333,6.0]                            |21st century classical|\n",
      "|[1.0,0.49478,0.2993333333333333,1048887.333333333,0.4506783333333333,0.4777616666666668,0.131,-16.854,0.07681666666666667,120.28566666666666,0.22175,52.5,5.0]                                                             |432hz                 |\n",
      "|[1.0,0.762,0.7120000000000001,115177.0,0.818,0.8759999999999999,0.126,-9.18,0.047,133.444,0.975,48.0,7.0]                                                                                                                  |8-bit                 |\n",
      "|[1.0,0.6514170195595453,0.5290925603549332,232880.8902503945,0.4191460727353524,0.2053091895111363,0.21869585415040735,-12.288964675489455,0.10787155868681396,112.8573524318416,0.5136042963588958,20.859882191849056,7.0]|[]                    |\n",
      "|[1.0,0.676557304985755,0.5389612464387464,190628.5408867521,0.3164335701566952,0.003003441440420227,0.1722541371082621,-12.479387421652426,0.08285143981481483,112.1103620014245,0.44824865455840457,45.82007122507122,7.0]|a cappella            |\n",
      "+---------------------------------------------------------------------------------------------------------------------------------------------------------------------------------------------------------------------------+----------------------+\n",
      "only showing top 5 rows\n",
      "\n"
     ]
    }
   ],
   "source": [
    "dados_generos_vetor.show(truncate = False, n = 5)"
   ]
  },
  {
   "cell_type": "code",
   "execution_count": 182,
   "id": "6227d03c",
   "metadata": {},
   "outputs": [],
   "source": [
    "# Sabemos que os algoritmos de agrupamento são sensíveis as escalas. Vamos então padronizar os nossos dados:\n",
    "\n",
    "from pyspark.ml.feature import StandardScaler\n",
    "\n",
    "scaler = StandardScaler(inputCol = 'features', outputCol = 'scaled_features')\n",
    "scaler_model = scaler.fit(dados_generos_vetor)\n",
    "dados_generos_scaler = scaler_model.transform(dados_generos_vetor)"
   ]
  },
  {
   "cell_type": "code",
   "execution_count": 183,
   "id": "390b3c1d",
   "metadata": {},
   "outputs": [
    {
     "name": "stdout",
     "output_type": "stream",
     "text": [
      "+--------------------+--------------------+--------------------+\n",
      "|            features|              genres|     scaled_features|\n",
      "+--------------------+--------------------+--------------------+\n",
      "|[1.0,0.9793333333...|21st century clas...|[2.68174831000279...|\n",
      "|[1.0,0.49478,0.29...|               432hz|[2.68174831000279...|\n",
      "|[1.0,0.762,0.7120...|               8-bit|[2.68174831000279...|\n",
      "|[1.0,0.6514170195...|                  []|[2.68174831000279...|\n",
      "|[1.0,0.6765573049...|          a cappella|[2.68174831000279...|\n",
      "|[1.0,0.45921,0.51...|            abstract|[2.68174831000279...|\n",
      "|[1.0,0.3421466666...|      abstract beats|[2.68174831000279...|\n",
      "|[1.0,0.2438540633...|    abstract hip hop|[2.68174831000279...|\n",
      "|[0.0,0.3229999999...|           accordeon|[0.0,1.0101313736...|\n",
      "|[1.0,0.446125,0.6...|           accordion|[2.68174831000279...|\n",
      "|[0.0,0.0679505384...|          acid house|[0.0,0.2125045534...|\n",
      "|[1.0,0.2569145079...|           acid rock|[2.68174831000279...|\n",
      "|[1.0,0.00683,0.66...|         acid trance|[2.68174831000279...|\n",
      "|[1.0,0.9170191062...|          acousmatic|[2.68174831000279...|\n",
      "|[1.0,0.7617235394...|      acoustic blues|[2.68174831000279...|\n",
      "|[1.0,0.4902350260...|        acoustic pop|[2.68174831000279...|\n",
      "|[1.0,0.4049000220...|       acoustic punk|[2.68174831000279...|\n",
      "|[1.0,0.6132007936...|       acoustic rock|[2.68174831000279...|\n",
      "|[0.0,0.229,0.412,...|         action rock|[0.0,0.7161612525...|\n",
      "|[1.0,0.4328571428...|           adoracion|[2.68174831000279...|\n",
      "+--------------------+--------------------+--------------------+\n",
      "only showing top 20 rows\n",
      "\n"
     ]
    }
   ],
   "source": [
    "dados_generos_scaler.show()"
   ]
  },
  {
   "cell_type": "markdown",
   "id": "1f960f44",
   "metadata": {},
   "source": [
    "#### PCA"
   ]
  },
  {
   "cell_type": "code",
   "execution_count": 184,
   "id": "c02bb144",
   "metadata": {},
   "outputs": [],
   "source": [
    "from pyspark.ml.feature import PCA"
   ]
  },
  {
   "cell_type": "code",
   "execution_count": 185,
   "id": "0292900c",
   "metadata": {},
   "outputs": [],
   "source": [
    "pca = PCA(k=2, inputCol = 'scaled_features', outputCol='pca_features')\n",
    "model_pca = pca.fit(dados_generos_scaler)\n",
    "dados_generos_pca = model_pca.transform(dados_generos_scaler)"
   ]
  },
  {
   "cell_type": "code",
   "execution_count": 186,
   "id": "7ff6866e",
   "metadata": {},
   "outputs": [
    {
     "name": "stdout",
     "output_type": "stream",
     "text": [
      "+-----------------------------------------+\n",
      "|pca_features                             |\n",
      "+-----------------------------------------+\n",
      "|[2.507095366888567,0.4381691373769795]   |\n",
      "|[-0.5969679056633482,4.981612052751348]  |\n",
      "|[-4.158460276223561,-0.836652508107994]  |\n",
      "|[-2.387344878512217,-0.4877989015663402] |\n",
      "|[-2.6501218371679087,-0.5756819768820469]|\n",
      "|[-1.4965091203367626,1.8644183183717793] |\n",
      "|[-3.9235207721573238,0.2851835002352837] |\n",
      "|[-4.611011109831115,-0.6783790472312371] |\n",
      "|[-2.8376900630842297,-0.5712993716580516]|\n",
      "|[-2.706690139892783,-1.2593788079708297] |\n",
      "|[-4.698331383924287,1.2765569680619446]  |\n",
      "|[-3.3759874966798677,0.7560741064307468] |\n",
      "|[-5.608998877066022,1.0427311644393218]  |\n",
      "|[0.2954946352117687,-0.2763864586236307] |\n",
      "|[-2.5725591062870423,-1.3169815431109795]|\n",
      "|[-3.4008228020493454,0.5073029625781903] |\n",
      "|[-4.366720316263419,-0.336482705977109]  |\n",
      "|[-2.7254698167724003,0.5058604987046363] |\n",
      "|[-4.958112358381605,1.2627579957290729]  |\n",
      "|[-3.693495184642272,1.3822762065335452]  |\n",
      "+-----------------------------------------+\n",
      "only showing top 20 rows\n",
      "\n"
     ]
    }
   ],
   "source": [
    "# Na visualizaçao abaixo veremos apenas duas colunas já que escolhemos `k = 2`:\n",
    "dados_generos_pca.select('pca_features').show(truncate=False)"
   ]
  },
  {
   "cell_type": "code",
   "execution_count": 187,
   "id": "99ac1280",
   "metadata": {},
   "outputs": [],
   "source": [
    "# Como fizemos várias etapas para tratar os nossos dados, podemos criar uma pipeline para todo esse processo:\n",
    "\n",
    "from pyspark.ml import Pipeline\n",
    "\n",
    "pca_pipeline = Pipeline(stages = [VectorAssembler(inputCols = X, outputCol = 'features'),\n",
    "                                  StandardScaler(inputCol = 'features', outputCol = 'scaled_features'),\n",
    "                                  PCA(k=2, inputCol = 'scaled_features', outputCol='pca_features')])"
   ]
  },
  {
   "cell_type": "code",
   "execution_count": 188,
   "id": "14e766e4",
   "metadata": {},
   "outputs": [],
   "source": [
    "# Ajustando o pipeline:\n",
    "\n",
    "pca_pipeline_model = pca_pipeline.fit(dados_generos)"
   ]
  },
  {
   "cell_type": "code",
   "execution_count": 189,
   "id": "ed4d095d",
   "metadata": {},
   "outputs": [],
   "source": [
    "dados_generos_pca = pca_pipeline_model.transform(dados_generos)"
   ]
  },
  {
   "cell_type": "code",
   "execution_count": 190,
   "id": "73bf30ee",
   "metadata": {},
   "outputs": [
    {
     "name": "stdout",
     "output_type": "stream",
     "text": [
      "+----+--------------------+-------------------+-------------------+------------------+-------------------+--------------------+-------------------+-------------------+--------------------+------------------+-------------------+------------------+---+--------------------+--------------------+--------------------+\n",
      "|mode|              genres|       acousticness|       danceability|       duration_ms|             energy|    instrumentalness|           liveness|           loudness|         speechiness|             tempo|            valence|        popularity|key|            features|     scaled_features|        pca_features|\n",
      "+----+--------------------+-------------------+-------------------+------------------+-------------------+--------------------+-------------------+-------------------+--------------------+------------------+-------------------+------------------+---+--------------------+--------------------+--------------------+\n",
      "|   1|21st century clas...| 0.9793333333333332|0.16288333333333335|160297.66666666663|0.07131666666666665|          0.60683367|             0.3616|-31.514333333333337| 0.04056666666666667|           75.3365|0.10378333333333334| 27.83333333333333|  6|[1.0,0.9793333333...|[2.68174831000279...|[2.50709536688856...|\n",
      "|   1|               432hz|            0.49478| 0.2993333333333333| 1048887.333333333| 0.4506783333333333|  0.4777616666666668|              0.131|            -16.854| 0.07681666666666667|120.28566666666666|            0.22175|              52.5|  5|[1.0,0.49478,0.29...|[2.68174831000279...|[-0.5969679056633...|\n",
      "|   1|               8-bit|              0.762| 0.7120000000000001|          115177.0|              0.818|  0.8759999999999999|              0.126|              -9.18|               0.047|           133.444|              0.975|              48.0|  7|[1.0,0.762,0.7120...|[2.68174831000279...|[-4.1584602762235...|\n",
      "|   1|                  []| 0.6514170195595453| 0.5290925603549332| 232880.8902503945| 0.4191460727353524|  0.2053091895111363|0.21869585415040735|-12.288964675489455| 0.10787155868681396| 112.8573524318416| 0.5136042963588958|20.859882191849056|  7|[1.0,0.6514170195...|[2.68174831000279...|[-2.3873448785122...|\n",
      "|   1|          a cappella|  0.676557304985755| 0.5389612464387464| 190628.5408867521| 0.3164335701566952|0.003003441440420227| 0.1722541371082621|-12.479387421652426| 0.08285143981481483| 112.1103620014245|0.44824865455840457| 45.82007122507122|  7|[1.0,0.6765573049...|[2.68174831000279...|[-2.6501218371679...|\n",
      "|   1|            abstract|            0.45921| 0.5161666666666667|          343196.5| 0.4424166666666666|  0.8496666666666667| 0.1180666666666667|-15.472083333333332|0.046516666666666664|127.88575000000002|           0.307325|              43.5|  1|[1.0,0.45921,0.51...|[2.68174831000279...|[-1.4965091203367...|\n",
      "|   1|      abstract beats| 0.3421466666666667|              0.623|          229936.2| 0.5277999999999999|  0.3336026120000001|0.09965333333333334| -7.918000000000001| 0.11637333333333333|          112.4138| 0.4935066666666666| 58.93333333333332| 10|[1.0,0.3421466666...|[2.68174831000279...|[-3.9235207721573...|\n",
      "|   1|    abstract hip hop| 0.2438540633608816| 0.6945709366391184|231849.23415977962| 0.6462346418732783|  0.0242312629201102| 0.1685429201101929| -7.349327823691461| 0.21425769972451789|108.24498650137741| 0.5713909090909091| 39.79070247933884|  2|[1.0,0.2438540633...|[2.68174831000279...|[-4.6110111098311...|\n",
      "|   0|           accordeon|0.32299999999999995|              0.588|          164000.0|              0.392|               0.441|             0.0794|            -14.899|              0.0727|           109.131| 0.7090000000000001|              39.0|  2|[0.0,0.3229999999...|[0.0,1.0101313736...|[-2.8376900630842...|\n",
      "|   1|           accordion|           0.446125|          0.6248125|       167061.5625|          0.3734375|       0.19373839375|             0.1603|        -14.4870625| 0.07853750000000001|       112.8724375| 0.6586875000000001|           21.9375|  2|[1.0,0.446125,0.6...|[2.68174831000279...|[-2.7066901398927...|\n",
      "|   0|          acid house|0.06795053846153845|             0.6774|297188.05384615384| 0.7244030769230769|  0.3858910307692308| 0.2334884615384616| -9.381199999999998| 0.05585538461538461|126.49209230769232| 0.5676769230769231| 46.63846153846154|  7|[0.0,0.0679505384...|[0.0,0.2125045534...|[-4.6983313839242...|\n",
      "|   1|           acid rock| 0.2569145079725167| 0.4472389930828895| 259203.9143310266| 0.5806492948018793| 0.15092567737840148| 0.2304514628310576| -11.43307330938882| 0.06759985278233482|125.65952227133604| 0.5344474777454798| 32.67595532906288|  2|[1.0,0.2569145079...|[2.68174831000279...|[-3.3759874966798...|\n",
      "|   1|         acid trance|            0.00683| 0.6629999999999999|          221160.0|              0.925|               0.703|              0.185|             -6.775|              0.0449|           132.687|              0.843|              62.0|  9|[1.0,0.00683,0.66...|[2.68174831000279...|[-5.6089988770660...|\n",
      "|   1|          acousmatic| 0.9170191062801932| 0.4204582850241546| 185040.2595531401| 0.2385243417874396|  0.6162484134359903| 0.2610061823671498| -20.96456474637681| 0.08061773913043478|104.07463265700486| 0.3244473852657005| 9.342524154589373|  5|[1.0,0.9170191062...|[2.68174831000279...|[0.29549463521176...|\n",
      "|   1|      acoustic blues|  0.761723539455837| 0.6069147720232645|204321.25087923245| 0.3606592945953496| 0.09891813613614234|0.18309821355287112| -12.55490505937252| 0.06881536422902226|113.28452122830322|  0.633785722320662| 23.74606007693052|  7|[1.0,0.7617235394...|[2.68174831000279...|[-2.5725591062870...|\n",
      "|   1|        acoustic pop| 0.4902350260381985| 0.5351083171521532|235379.78355519095| 0.4764399220103099|0.033338280109024794| 0.1577504987283953| -9.297247893173367| 0.04177066481431856|117.88741975150835| 0.3794153530026807| 53.11550474564842|  7|[1.0,0.4902350260...|[2.68174831000279...|[-3.4008228020493...|\n",
      "|   1|       acoustic punk| 0.4049000220385675| 0.5391115702479339|192332.11845730024| 0.6158241505968779|0.061939951303948575|0.20948062442607893| -8.010774104683195| 0.06357052341597796|122.30848852157943| 0.7305188246097337| 40.37649219467401|  9|[1.0,0.4049000220...|[2.68174831000279...|[-4.3667203162634...|\n",
      "|   1|       acoustic rock| 0.6132007936507936| 0.5243968253968254|          195036.0| 0.4160026455026456| 0.32147492174603176|0.14051838624338622| -10.54062037037037| 0.03468108465608465| 122.6556626984127| 0.3802986772486773| 51.10978835978836|  7|[1.0,0.6132007936...|[2.68174831000279...|[-2.7254698167724...|\n",
      "|   0|         action rock|              0.229|              0.412|          198400.0|              0.938|             2.59E-4|              0.106|             -0.253|               0.182|            97.489|               0.32|              47.0|  4|[0.0,0.229,0.412,...|[0.0,0.7161612525...|[-4.9581123583816...|\n",
      "|   1|           adoracion| 0.4328571428571428| 0.5047142857142857| 302906.0714285714| 0.5207499999999999|                 0.0|0.31598571428571426| -8.010071428571429|0.038203571428571434| 130.7106785714286| 0.3115714285714285| 46.39285714285714|  9|[1.0,0.4328571428...|[2.68174831000279...|[-3.6934951846422...|\n",
      "+----+--------------------+-------------------+-------------------+------------------+-------------------+--------------------+-------------------+-------------------+--------------------+------------------+-------------------+------------------+---+--------------------+--------------------+--------------------+\n",
      "only showing top 20 rows\n",
      "\n"
     ]
    }
   ],
   "source": [
    "dados_generos_pca.show()"
   ]
  },
  {
   "cell_type": "code",
   "execution_count": 191,
   "id": "af3d5d76",
   "metadata": {},
   "outputs": [
    {
     "name": "stdout",
     "output_type": "stream",
     "text": [
      "+-----------------------------------------+\n",
      "|pca_features                             |\n",
      "+-----------------------------------------+\n",
      "|[2.507095366888567,0.4381691373769795]   |\n",
      "|[-0.5969679056633482,4.981612052751348]  |\n",
      "|[-4.158460276223561,-0.836652508107994]  |\n",
      "|[-2.387344878512217,-0.4877989015663402] |\n",
      "|[-2.6501218371679087,-0.5756819768820469]|\n",
      "|[-1.4965091203367626,1.8644183183717793] |\n",
      "|[-3.9235207721573238,0.2851835002352837] |\n",
      "|[-4.611011109831115,-0.6783790472312371] |\n",
      "|[-2.8376900630842297,-0.5712993716580516]|\n",
      "|[-2.706690139892783,-1.2593788079708297] |\n",
      "|[-4.698331383924287,1.2765569680619446]  |\n",
      "|[-3.3759874966798677,0.7560741064307468] |\n",
      "|[-5.608998877066022,1.0427311644393218]  |\n",
      "|[0.2954946352117687,-0.2763864586236307] |\n",
      "|[-2.5725591062870423,-1.3169815431109795]|\n",
      "|[-3.4008228020493454,0.5073029625781903] |\n",
      "|[-4.366720316263419,-0.336482705977109]  |\n",
      "|[-2.7254698167724003,0.5058604987046363] |\n",
      "|[-4.958112358381605,1.2627579957290729]  |\n",
      "|[-3.693495184642272,1.3822762065335452]  |\n",
      "+-----------------------------------------+\n",
      "only showing top 20 rows\n",
      "\n"
     ]
    }
   ],
   "source": [
    "dados_generos_pca.select('pca_features').show(truncate=False)"
   ]
  },
  {
   "cell_type": "raw",
   "id": "f11cf8cc",
   "metadata": {},
   "source": [
    "Agora, nossos dados estão prontos para começarmos a clusterização de fato. Começaremos usando o algoritmo K-means:"
   ]
  },
  {
   "cell_type": "code",
   "execution_count": 192,
   "id": "cc41457c",
   "metadata": {},
   "outputs": [],
   "source": [
    "from pyspark.ml.clustering import KMeans"
   ]
  },
  {
   "cell_type": "code",
   "execution_count": 193,
   "id": "5cbdb147",
   "metadata": {},
   "outputs": [],
   "source": [
    "# Vamos selecionar a criação de 5 clusters:\n",
    "SEED  = 1250\n",
    "kmeans = KMeans(featuresCol = 'pca_features', predictionCol='cluster_pca').setK(5).setSeed(SEED)"
   ]
  },
  {
   "cell_type": "code",
   "execution_count": 194,
   "id": "7bbd141f",
   "metadata": {},
   "outputs": [],
   "source": [
    "model_kmeans = kmeans.fit(dados_generos_pca)"
   ]
  },
  {
   "cell_type": "code",
   "execution_count": 195,
   "id": "64158398",
   "metadata": {},
   "outputs": [],
   "source": [
    "# Vamos entrar criar então:\n",
    "predictions_kmeans = model_kmeans.transform(dados_generos_pca)"
   ]
  },
  {
   "cell_type": "code",
   "execution_count": 196,
   "id": "a9ea584b",
   "metadata": {},
   "outputs": [
    {
     "name": "stdout",
     "output_type": "stream",
     "text": [
      "+--------------------+-----------+\n",
      "|        pca_features|cluster_pca|\n",
      "+--------------------+-----------+\n",
      "|[2.50709536688856...|          4|\n",
      "|[-0.5969679056633...|          4|\n",
      "|[-4.1584602762235...|          3|\n",
      "|[-2.3873448785122...|          3|\n",
      "|[-2.6501218371679...|          3|\n",
      "|[-1.4965091203367...|          1|\n",
      "|[-3.9235207721573...|          3|\n",
      "|[-4.6110111098311...|          0|\n",
      "|[-2.8376900630842...|          3|\n",
      "|[-2.7066901398927...|          3|\n",
      "|[-4.6983313839242...|          2|\n",
      "|[-3.3759874966798...|          3|\n",
      "|[-5.6089988770660...|          0|\n",
      "|[0.29549463521176...|          4|\n",
      "|[-2.5725591062870...|          3|\n",
      "|[-3.4008228020493...|          3|\n",
      "|[-4.3667203162634...|          0|\n",
      "|[-2.7254698167724...|          3|\n",
      "|[-4.9581123583816...|          2|\n",
      "|[-3.6934951846422...|          2|\n",
      "+--------------------+-----------+\n",
      "only showing top 20 rows\n",
      "\n"
     ]
    }
   ],
   "source": [
    "# Verificando o dataframe com os clusters:\n",
    "predictions_kmeans.select('pca_features','cluster_pca').show()"
   ]
  },
  {
   "cell_type": "markdown",
   "id": "f769ba94",
   "metadata": {},
   "source": [
    "#### Plotando o Clustering"
   ]
  },
  {
   "cell_type": "code",
   "execution_count": 197,
   "id": "3ec20a36",
   "metadata": {},
   "outputs": [],
   "source": [
    "from pyspark.ml.functions import vector_to_array"
   ]
  },
  {
   "cell_type": "code",
   "execution_count": 198,
   "id": "ba1a58cc",
   "metadata": {},
   "outputs": [],
   "source": [
    "pca_features_xy = predictions_kmeans.withColumn('x', vector_to_array('pca_features')[0])\\\n",
    "    .withColumn('y', vector_to_array('pca_features')[1])\\\n",
    "    .select('x','y','cluster_pca','genres')"
   ]
  },
  {
   "cell_type": "code",
   "execution_count": 199,
   "id": "878e54b2",
   "metadata": {},
   "outputs": [
    {
     "name": "stdout",
     "output_type": "stream",
     "text": [
      "+-------------------+-------------------+-----------+--------------------+\n",
      "|                  x|                  y|cluster_pca|              genres|\n",
      "+-------------------+-------------------+-----------+--------------------+\n",
      "|  2.507095366888567| 0.4381691373769795|          4|21st century clas...|\n",
      "|-0.5969679056633482|  4.981612052751348|          4|               432hz|\n",
      "| -4.158460276223561| -0.836652508107994|          3|               8-bit|\n",
      "| -2.387344878512217|-0.4877989015663402|          3|                  []|\n",
      "|-2.6501218371679087|-0.5756819768820469|          3|          a cappella|\n",
      "|-1.4965091203367626| 1.8644183183717793|          1|            abstract|\n",
      "|-3.9235207721573238| 0.2851835002352837|          3|      abstract beats|\n",
      "| -4.611011109831115|-0.6783790472312371|          0|    abstract hip hop|\n",
      "|-2.8376900630842297|-0.5712993716580516|          3|           accordeon|\n",
      "| -2.706690139892783|-1.2593788079708297|          3|           accordion|\n",
      "| -4.698331383924287| 1.2765569680619446|          2|          acid house|\n",
      "|-3.3759874966798677| 0.7560741064307468|          3|           acid rock|\n",
      "| -5.608998877066022| 1.0427311644393218|          0|         acid trance|\n",
      "| 0.2954946352117687|-0.2763864586236307|          4|          acousmatic|\n",
      "|-2.5725591062870423|-1.3169815431109795|          3|      acoustic blues|\n",
      "|-3.4008228020493454| 0.5073029625781903|          3|        acoustic pop|\n",
      "| -4.366720316263419| -0.336482705977109|          0|       acoustic punk|\n",
      "|-2.7254698167724003| 0.5058604987046363|          3|       acoustic rock|\n",
      "| -4.958112358381605| 1.2627579957290729|          2|         action rock|\n",
      "| -3.693495184642272| 1.3822762065335452|          2|           adoracion|\n",
      "+-------------------+-------------------+-----------+--------------------+\n",
      "only showing top 20 rows\n",
      "\n"
     ]
    }
   ],
   "source": [
    "pca_features_xy.show()"
   ]
  },
  {
   "cell_type": "code",
   "execution_count": 200,
   "id": "776c7cb4",
   "metadata": {},
   "outputs": [
    {
     "data": {
      "application/vnd.plotly.v1+json": {
       "config": {
        "plotlyServerURL": "https://plot.ly"
       },
       "data": [
        {
         "customdata": [
          [
           "21st century classical"
          ],
          [
           "432hz"
          ],
          [
           "8-bit"
          ],
          [
           "[]"
          ],
          [
           "a cappella"
          ],
          [
           "abstract"
          ],
          [
           "abstract beats"
          ],
          [
           "abstract hip hop"
          ],
          [
           "accordeon"
          ],
          [
           "accordion"
          ],
          [
           "acid house"
          ],
          [
           "acid rock"
          ],
          [
           "acid trance"
          ],
          [
           "acousmatic"
          ],
          [
           "acoustic blues"
          ],
          [
           "acoustic pop"
          ],
          [
           "acoustic punk"
          ],
          [
           "acoustic rock"
          ],
          [
           "action rock"
          ],
          [
           "adoracion"
          ],
          [
           "adult standards"
          ],
          [
           "adventista"
          ],
          [
           "afghan pop"
          ],
          [
           "afghan traditional"
          ],
          [
           "african percussion"
          ],
          [
           "african reggae"
          ],
          [
           "african rock"
          ],
          [
           "african-american classical"
          ],
          [
           "afro dancehall"
          ],
          [
           "afro house"
          ],
          [
           "afro psych"
          ],
          [
           "afro soul"
          ],
          [
           "afro-funk"
          ],
          [
           "afrobeat"
          ],
          [
           "afrofuturism"
          ],
          [
           "afrofuturismo brasileiro"
          ],
          [
           "afropop"
          ],
          [
           "afroswing"
          ],
          [
           "aggrotech"
          ],
          [
           "alabama indie"
          ],
          [
           "alabama metal"
          ],
          [
           "alabama rap"
          ],
          [
           "alaska indie"
          ],
          [
           "albanian pop"
          ],
          [
           "albany ny indie"
          ],
          [
           "alberta country"
          ],
          [
           "alberta hip hop"
          ],
          [
           "album rock"
          ],
          [
           "albuquerque indie"
          ],
          [
           "alt-idol"
          ],
          [
           "alte"
          ],
          [
           "alternative americana"
          ],
          [
           "alternative country"
          ],
          [
           "alternative dance"
          ],
          [
           "alternative emo"
          ],
          [
           "alternative hip hop"
          ],
          [
           "alternative metal"
          ],
          [
           "alternative pop"
          ],
          [
           "alternative pop rock"
          ],
          [
           "alternative r&b"
          ],
          [
           "alternative rock"
          ],
          [
           "alternative roots rock"
          ],
          [
           "ambeat"
          ],
          [
           "ambient"
          ],
          [
           "ambient black metal"
          ],
          [
           "ambient folk"
          ],
          [
           "ambient house"
          ],
          [
           "ambient idm"
          ],
          [
           "ambient industrial"
          ],
          [
           "ambient pop"
          ],
          [
           "ambient techno"
          ],
          [
           "ambient worship"
          ],
          [
           "american 21st century classical"
          ],
          [
           "american choir"
          ],
          [
           "american classical piano"
          ],
          [
           "american contemporary classical"
          ],
          [
           "american early music"
          ],
          [
           "american folk revival"
          ],
          [
           "american metalcore"
          ],
          [
           "american modern classical"
          ],
          [
           "american oi"
          ],
          [
           "american orchestra"
          ],
          [
           "american post-rock"
          ],
          [
           "american primitive"
          ],
          [
           "american romanticism"
          ],
          [
           "american shoegaze"
          ],
          [
           "anadolu rock"
          ],
          [
           "anarcho-punk"
          ],
          [
           "anglican liturgy"
          ],
          [
           "animal singing"
          ],
          [
           "anime"
          ],
          [
           "anime latino"
          ],
          [
           "anime rock"
          ],
          [
           "anime score"
          ],
          [
           "ann arbor indie"
          ],
          [
           "anthem emo"
          ],
          [
           "anthem worship"
          ],
          [
           "anti-folk"
          ],
          [
           "antilliaanse folklore"
          ],
          [
           "antiviral pop"
          ],
          [
           "appalachian folk"
          ],
          [
           "arab folk"
          ],
          [
           "arab groove"
          ],
          [
           "arab pop"
          ],
          [
           "arabesk"
          ],
          [
           "arabic hip hop"
          ],
          [
           "arabic jazz"
          ],
          [
           "argentine ambient"
          ],
          [
           "argentine hardcore"
          ],
          [
           "argentine heavy metal"
          ],
          [
           "argentine hip hop"
          ],
          [
           "argentine indie"
          ],
          [
           "argentine metal"
          ],
          [
           "argentine punk"
          ],
          [
           "argentine reggae"
          ],
          [
           "argentine rock"
          ],
          [
           "argentine telepop"
          ],
          [
           "arizona punk"
          ],
          [
           "arkansas country"
          ],
          [
           "arkansas hip hop"
          ],
          [
           "arkansas indie"
          ],
          [
           "armenian folk"
          ],
          [
           "art pop"
          ],
          [
           "art punk"
          ],
          [
           "art rock"
          ],
          [
           "art song"
          ],
          [
           "asbury park indie"
          ],
          [
           "asheville indie"
          ],
          [
           "asian american hip hop"
          ],
          [
           "asmr"
          ],
          [
           "athens indie"
          ],
          [
           "atl hip hop"
          ],
          [
           "atl trap"
          ],
          [
           "atlanta indie"
          ],
          [
           "atlanta metal"
          ],
          [
           "atlanta punk"
          ],
          [
           "atmosphere"
          ],
          [
           "atmospheric black metal"
          ],
          [
           "atmospheric dnb"
          ],
          [
           "atmospheric post-metal"
          ],
          [
           "atmospheric post-rock"
          ],
          [
           "atmospheric sludge"
          ],
          [
           "auckland indie"
          ],
          [
           "audiophile vocal"
          ],
          [
           "aussietronica"
          ],
          [
           "austin americana"
          ],
          [
           "austin singer-songwriter"
          ],
          [
           "austindie"
          ],
          [
           "australian alternative pop"
          ],
          [
           "australian alternative rock"
          ],
          [
           "australian ambient"
          ],
          [
           "australian children's music"
          ],
          [
           "australian choir"
          ],
          [
           "australian classical"
          ],
          [
           "australian classical piano"
          ],
          [
           "australian country"
          ],
          [
           "australian dance"
          ],
          [
           "australian electropop"
          ],
          [
           "australian garage punk"
          ],
          [
           "australian hip hop"
          ],
          [
           "australian house"
          ],
          [
           "australian indie"
          ],
          [
           "australian indie folk"
          ],
          [
           "australian indie rock"
          ],
          [
           "australian indigenous"
          ],
          [
           "australian metal"
          ],
          [
           "australian metalcore"
          ],
          [
           "australian pop"
          ],
          [
           "australian post-hardcore"
          ],
          [
           "australian post-punk"
          ],
          [
           "australian psych"
          ],
          [
           "australian r&b"
          ],
          [
           "australian reggae fusion"
          ],
          [
           "australian rock"
          ],
          [
           "australian singer-songwriter"
          ],
          [
           "australian ska"
          ],
          [
           "australian talent show"
          ],
          [
           "australian trap"
          ],
          [
           "australian underground hip hop"
          ],
          [
           "austrian choir"
          ],
          [
           "austrian classical piano"
          ],
          [
           "austrian orchestra"
          ],
          [
           "austrian pop"
          ],
          [
           "austro-german modernism"
          ],
          [
           "austropop"
          ],
          [
           "autoharp"
          ],
          [
           "autonomous black metal"
          ],
          [
           "avant-garde"
          ],
          [
           "avant-garde jazz"
          ],
          [
           "avant-garde metal"
          ],
          [
           "axe"
          ],
          [
           "azeri traditional"
          ],
          [
           "azonto"
          ],
          [
           "azontobeats"
          ],
          [
           "bachata"
          ],
          [
           "bachata dominicana"
          ],
          [
           "background music"
          ],
          [
           "background piano"
          ],
          [
           "baglama"
          ],
          [
           "bahai"
          ],
          [
           "bahamian folk"
          ],
          [
           "bahamian pop"
          ],
          [
           "baiao"
          ],
          [
           "bajki"
          ],
          [
           "bakersfield sound"
          ],
          [
           "balearic"
          ],
          [
           "balkan brass"
          ],
          [
           "balkan classical piano"
          ],
          [
           "ballet class"
          ],
          [
           "ballroom"
          ],
          [
           "baltic classical"
          ],
          [
           "baltimore hip hop"
          ],
          [
           "baltimore indie"
          ],
          [
           "banda"
          ],
          [
           "banda caliente"
          ],
          [
           "banda carnavalera"
          ],
          [
           "bandinhas"
          ],
          [
           "bandolim"
          ],
          [
           "bandoneon"
          ],
          [
           "bangla"
          ],
          [
           "banjo"
          ],
          [
           "bansuri"
          ],
          [
           "barbadian pop"
          ],
          [
           "barbershop"
          ],
          [
           "bard"
          ],
          [
           "barnmusik"
          ],
          [
           "barockinterpreten"
          ],
          [
           "baroque"
          ],
          [
           "baroque brass"
          ],
          [
           "baroque ensemble"
          ],
          [
           "baroque pop"
          ],
          [
           "baroque singing"
          ],
          [
           "baroque violin"
          ],
          [
           "baroque woodwind"
          ],
          [
           "bass house"
          ],
          [
           "bass music"
          ],
          [
           "bass trap"
          ],
          [
           "basshall"
          ],
          [
           "bassline"
          ],
          [
           "bath indie"
          ],
          [
           "baton rouge indie"
          ],
          [
           "baton rouge rap"
          ],
          [
           "battle rap"
          ],
          [
           "bay area hip hop"
          ],
          [
           "bay area indie"
          ],
          [
           "bboy"
          ],
          [
           "bc underground hip hop"
          ],
          [
           "beach music"
          ],
          [
           "beat italiano"
          ],
          [
           "beat poetry"
          ],
          [
           "beatboxing"
          ],
          [
           "beatlesque"
          ],
          [
           "bebop"
          ],
          [
           "bedroom pop"
          ],
          [
           "bedroom soul"
          ],
          [
           "belarusian indie"
          ],
          [
           "belarusian pop"
          ],
          [
           "belarusian rock"
          ],
          [
           "belgian classical piano"
          ],
          [
           "belgian contemporary classical"
          ],
          [
           "belgian dance"
          ],
          [
           "belgian edm"
          ],
          [
           "belgian hardcore"
          ],
          [
           "belgian indie"
          ],
          [
           "belgian indie rock"
          ],
          [
           "belgian jazz"
          ],
          [
           "belgian new wave"
          ],
          [
           "belgian pop"
          ],
          [
           "belgian rock"
          ],
          [
           "belgian singer-songwriter"
          ],
          [
           "belgian techno"
          ],
          [
           "belly dance"
          ],
          [
           "bengali folk"
          ],
          [
           "beninese pop"
          ],
          [
           "bergen indie"
          ],
          [
           "berlin minimal techno"
          ],
          [
           "berlin school"
          ],
          [
           "bhajan"
          ],
          [
           "bhangra"
          ],
          [
           "bible"
          ],
          [
           "big band"
          ],
          [
           "big beat"
          ],
          [
           "big room"
          ],
          [
           "binaural"
          ],
          [
           "birdsong"
          ],
          [
           "birmingham grime"
          ],
          [
           "birmingham hip hop"
          ],
          [
           "birmingham metal"
          ],
          [
           "bitpop"
          ],
          [
           "black 'n' roll"
          ],
          [
           "black comedy"
          ],
          [
           "black metal"
          ],
          [
           "black punk"
          ],
          [
           "black thrash"
          ],
          [
           "blackened crust"
          ],
          [
           "blackgaze"
          ],
          [
           "bleep techno"
          ],
          [
           "bluegrass"
          ],
          [
           "bluegrass fiddle"
          ],
          [
           "bluegrass gospel"
          ],
          [
           "blues"
          ],
          [
           "blues latinoamericano"
          ],
          [
           "blues mexicano"
          ],
          [
           "blues rock"
          ],
          [
           "bmore"
          ],
          [
           "bolero"
          ],
          [
           "bolero cubano"
          ],
          [
           "boogaloo"
          ],
          [
           "boogie"
          ],
          [
           "boogie-woogie"
          ],
          [
           "boom bap"
          ],
          [
           "boom bap brasileiro"
          ],
          [
           "bossa nova"
          ],
          [
           "bossa nova jazz"
          ],
          [
           "boston folk"
          ],
          [
           "boston hardcore"
          ],
          [
           "boston hip hop"
          ],
          [
           "boston indie"
          ],
          [
           "boston metal"
          ],
          [
           "boston punk"
          ],
          [
           "boston rock"
          ],
          [
           "bounce"
          ],
          [
           "bouncy house"
          ],
          [
           "bouzouki"
          ],
          [
           "bow pop"
          ],
          [
           "boy band"
          ],
          [
           "boy pop"
          ],
          [
           "boy soprano"
          ],
          [
           "brain waves"
          ],
          [
           "braindance"
          ],
          [
           "brass band"
          ],
          [
           "brass ensemble"
          ],
          [
           "brass quintet"
          ],
          [
           "brazilian boogie"
          ],
          [
           "brazilian classical"
          ],
          [
           "brazilian classical piano"
          ],
          [
           "brazilian contemporary classical"
          ],
          [
           "brazilian edm"
          ],
          [
           "brazilian groove metal"
          ],
          [
           "brazilian hip hop"
          ],
          [
           "brazilian indie"
          ],
          [
           "brazilian jazz"
          ],
          [
           "brazilian metal"
          ],
          [
           "brazilian modern jazz"
          ],
          [
           "brazilian percussion"
          ],
          [
           "brazilian punk"
          ],
          [
           "brazilian reggae"
          ],
          [
           "brazilian rock"
          ],
          [
           "brazilian ska"
          ],
          [
           "brazilian soul"
          ],
          [
           "brazilian thrash metal"
          ],
          [
           "breakbeat"
          ],
          [
           "breakcore"
          ],
          [
           "brega"
          ],
          [
           "breton folk"
          ],
          [
           "brighton indie"
          ],
          [
           "brill building pop"
          ],
          [
           "brisbane indie"
          ],
          [
           "bristol electronic"
          ],
          [
           "bristol indie"
          ],
          [
           "brit funk"
          ],
          [
           "british alternative rock"
          ],
          [
           "british black metal"
          ],
          [
           "british blues"
          ],
          [
           "british children's music"
          ],
          [
           "british choir"
          ],
          [
           "british classical piano"
          ],
          [
           "british comedy"
          ],
          [
           "british contemporary classical"
          ],
          [
           "british dance band"
          ],
          [
           "british death metal"
          ],
          [
           "british experimental"
          ],
          [
           "british folk"
          ],
          [
           "british grindcore"
          ],
          [
           "british indie rock"
          ],
          [
           "british industrial"
          ],
          [
           "british invasion"
          ],
          [
           "british jazz"
          ],
          [
           "british modern classical"
          ],
          [
           "british orchestra"
          ],
          [
           "british post-rock"
          ],
          [
           "british power metal"
          ],
          [
           "british singer-songwriter"
          ],
          [
           "british soul"
          ],
          [
           "british soundtrack"
          ],
          [
           "britpop"
          ],
          [
           "broadway"
          ],
          [
           "broken beat"
          ],
          [
           "bronx hip hop"
          ],
          [
           "brooklyn drill"
          ],
          [
           "brooklyn indie"
          ],
          [
           "brostep"
          ],
          [
           "brutal death metal"
          ],
          [
           "brutal deathcore"
          ],
          [
           "bubble trance"
          ],
          [
           "bubblegrunge"
          ],
          [
           "bubblegum dance"
          ],
          [
           "bubblegum pop"
          ],
          [
           "buffalo hip hop"
          ],
          [
           "buffalo ny indie"
          ],
          [
           "buffalo ny metal"
          ],
          [
           "bulgarian experimental"
          ],
          [
           "burmese traditional"
          ],
          [
           "bush ballad"
          ],
          [
           "c-pop"
          ],
          [
           "c86"
          ],
          [
           "cabaret"
          ],
          [
           "cajun"
          ],
          [
           "calgary indie"
          ],
          [
           "cali rap"
          ],
          [
           "calming instrumental"
          ],
          [
           "calypso"
          ],
          [
           "cambodian rock"
          ],
          [
           "cambridge choir"
          ],
          [
           "cambridgeshire indie"
          ],
          [
           "cameroonian pop"
          ],
          [
           "canadian americana"
          ],
          [
           "canadian blues"
          ],
          [
           "canadian ccm"
          ],
          [
           "canadian celtic"
          ],
          [
           "canadian children's music"
          ],
          [
           "canadian choir"
          ],
          [
           "canadian classical"
          ],
          [
           "canadian classical piano"
          ],
          [
           "canadian comedy"
          ],
          [
           "canadian contemporary country"
          ],
          [
           "canadian contemporary r&b"
          ],
          [
           "canadian country"
          ],
          [
           "canadian electronic"
          ],
          [
           "canadian electropop"
          ],
          [
           "canadian experimental"
          ],
          [
           "canadian folk"
          ],
          [
           "canadian hardcore"
          ],
          [
           "canadian hip hop"
          ],
          [
           "canadian house"
          ],
          [
           "canadian indie"
          ],
          [
           "canadian indie folk"
          ],
          [
           "canadian indigenous"
          ],
          [
           "canadian indigenous hip hop"
          ],
          [
           "canadian latin"
          ],
          [
           "canadian metal"
          ],
          [
           "canadian metalcore"
          ],
          [
           "canadian modern jazz"
          ],
          [
           "canadian pop"
          ],
          [
           "canadian pop punk"
          ],
          [
           "canadian post-hardcore"
          ],
          [
           "canadian post-rock"
          ],
          [
           "canadian psychedelic"
          ],
          [
           "canadian punk"
          ],
          [
           "canadian rock"
          ],
          [
           "canadian rockabilly"
          ],
          [
           "canadian singer-songwriter"
          ],
          [
           "canadian soundtrack"
          ],
          [
           "cancion melodica"
          ],
          [
           "candy pop"
          ],
          [
           "cantautor"
          ],
          [
           "cante flamenco"
          ],
          [
           "canterbury scene"
          ],
          [
           "canto popular uruguayo"
          ],
          [
           "cantopop"
          ],
          [
           "canzone d'autore"
          ],
          [
           "canzone genovese"
          ],
          [
           "canzone napoletana"
          ],
          [
           "cape town indie"
          ],
          [
           "cape verdean folk"
          ],
          [
           "capoeira"
          ],
          [
           "caracas indie"
          ],
          [
           "carnatic"
          ],
          [
           "carnatic instrumental"
          ],
          [
           "carnatic vocal"
          ],
          [
           "cartoon"
          ],
          [
           "cathedral choir"
          ],
          [
           "caucasian classical"
          ],
          [
           "caucasian classical piano"
          ],
          [
           "ccm"
          ],
          [
           "cedm"
          ],
          [
           "cello"
          ],
          [
           "celtic"
          ],
          [
           "celtic harp"
          ],
          [
           "celtic metal"
          ],
          [
           "celtic punk"
          ],
          [
           "celtic rock"
          ],
          [
           "cha-cha-cha"
          ],
          [
           "chakra"
          ],
          [
           "chamame"
          ],
          [
           "chamber choir"
          ],
          [
           "chamber ensemble"
          ],
          [
           "chamber folk"
          ],
          [
           "chamber orchestra"
          ],
          [
           "chamber pop"
          ],
          [
           "chamber psych"
          ],
          [
           "champeta"
          ],
          [
           "channel islands indie"
          ],
          [
           "channel pop"
          ],
          [
           "chanson"
          ],
          [
           "chanson paillarde"
          ],
          [
           "chaotic hardcore"
          ],
          [
           "charanga"
          ],
          [
           "charango"
          ],
          [
           "charlotte nc indie"
          ],
          [
           "charlottesville indie"
          ],
          [
           "chattanooga indie"
          ],
          [
           "chicago blues"
          ],
          [
           "chicago drill"
          ],
          [
           "chicago hardcore"
          ],
          [
           "chicago house"
          ],
          [
           "chicago indie"
          ],
          [
           "chicago pop punk"
          ],
          [
           "chicago punk"
          ],
          [
           "chicago rap"
          ],
          [
           "chicago soul"
          ],
          [
           "chicano punk"
          ],
          [
           "chicano rap"
          ],
          [
           "chicha"
          ],
          [
           "chihuahua indie"
          ],
          [
           "children's choir"
          ],
          [
           "children's folk"
          ],
          [
           "children's music"
          ],
          [
           "children's story"
          ],
          [
           "chilean hardcore"
          ],
          [
           "chilean indie"
          ],
          [
           "chilean rock"
          ],
          [
           "chilena"
          ],
          [
           "chill beats"
          ],
          [
           "chill guitar"
          ],
          [
           "chill lounge"
          ],
          [
           "chill out"
          ],
          [
           "chill pop"
          ],
          [
           "chill r&b"
          ],
          [
           "chillhop"
          ],
          [
           "chillstep"
          ],
          [
           "chillwave"
          ],
          [
           "chinese audiophile"
          ],
          [
           "chinese classical"
          ],
          [
           "chinese classical performance"
          ],
          [
           "chinese classical piano"
          ],
          [
           "chinese electropop"
          ],
          [
           "chinese hip hop"
          ],
          [
           "chinese idol pop"
          ],
          [
           "chinese indie"
          ],
          [
           "chinese indie rock"
          ],
          [
           "chinese instrumental"
          ],
          [
           "chinese jazz"
          ],
          [
           "chinese r&b"
          ],
          [
           "chinese soundtrack"
          ],
          [
           "chinese traditional"
          ],
          [
           "chiptune"
          ],
          [
           "chopped and screwed"
          ],
          [
           "choral"
          ],
          [
           "choro"
          ],
          [
           "christchurch indie"
          ],
          [
           "christelijk"
          ],
          [
           "christian a cappella"
          ],
          [
           "christian alternative rock"
          ],
          [
           "christian dance"
          ],
          [
           "christian hard rock"
          ],
          [
           "christian hardcore"
          ],
          [
           "christian hip hop"
          ],
          [
           "christian indie"
          ],
          [
           "christian metal"
          ],
          [
           "christian metalcore"
          ],
          [
           "christian music"
          ],
          [
           "christian pop"
          ],
          [
           "christian power metal"
          ],
          [
           "christian punk"
          ],
          [
           "christian relaxative"
          ],
          [
           "christian rock"
          ],
          [
           "christian trap"
          ],
          [
           "christian uplift"
          ],
          [
           "christmas instrumental"
          ],
          [
           "christmas product"
          ],
          [
           "chunchaca"
          ],
          [
           "chutney"
          ],
          [
           "cincinnati rap"
          ],
          [
           "cinematic post-rock"
          ],
          [
           "circuit"
          ],
          [
           "circus"
          ],
          [
           "classic afrobeat"
          ],
          [
           "classic arab pop"
          ],
          [
           "classic australian country"
          ],
          [
           "classic belgian pop"
          ],
          [
           "classic bhangra"
          ],
          [
           "classic bollywood"
          ],
          [
           "classic canadian rock"
          ],
          [
           "classic cantopop"
          ],
          [
           "classic colombian pop"
          ],
          [
           "classic country pop"
          ],
          [
           "classic czech pop"
          ],
          [
           "classic danish pop"
          ],
          [
           "classic dubstep"
          ],
          [
           "classic eurovision"
          ],
          [
           "classic finnish pop"
          ],
          [
           "classic french pop"
          ],
          [
           "classic garage rock"
          ],
          [
           "classic girl group"
          ],
          [
           "classic greek pop"
          ],
          [
           "classic hardstyle"
          ],
          [
           "classic icelandic pop"
          ],
          [
           "classic indo pop"
          ],
          [
           "classic iskelma"
          ],
          [
           "classic israeli pop"
          ],
          [
           "classic italian folk pop"
          ],
          [
           "classic italian pop"
          ],
          [
           "classic j-rock"
          ],
          [
           "classic japanese jazz"
          ],
          [
           "classic korean pop"
          ],
          [
           "classic latvian pop"
          ],
          [
           "classic mandopop"
          ],
          [
           "classic norwegian pop"
          ],
          [
           "classic opm"
          ],
          [
           "classic pakistani pop"
          ],
          [
           "classic persian pop"
          ],
          [
           "classic peruvian pop"
          ],
          [
           "classic polish pop"
          ],
          [
           "classic praise"
          ],
          [
           "classic psychedelic rock"
          ],
          [
           "classic punjabi pop"
          ],
          [
           "classic rock"
          ],
          [
           "classic russian pop"
          ],
          [
           "classic russian rock"
          ],
          [
           "classic schlager"
          ],
          [
           "classic soul"
          ],
          [
           "classic soundtrack"
          ],
          [
           "classic swedish pop"
          ],
          [
           "classic thai pop"
          ],
          [
           "classic tunisian pop"
          ],
          [
           "classic turkish pop"
          ],
          [
           "classic uk pop"
          ],
          [
           "classic venezuelan pop"
          ],
          [
           "classical"
          ],
          [
           "classical accordion"
          ],
          [
           "classical baritone"
          ],
          [
           "classical bass"
          ],
          [
           "classical cello"
          ],
          [
           "classical clarinet"
          ],
          [
           "classical contralto"
          ],
          [
           "classical countertenor"
          ],
          [
           "classical era"
          ],
          [
           "classical flute"
          ],
          [
           "classical guitar"
          ],
          [
           "classical harp"
          ],
          [
           "classical horn"
          ],
          [
           "classical mandolin"
          ],
          [
           "classical mezzo-soprano"
          ],
          [
           "classical oboe"
          ],
          [
           "classical organ"
          ],
          [
           "classical performance"
          ],
          [
           "classical piano"
          ],
          [
           "classical piano duo"
          ],
          [
           "classical piano trio"
          ],
          [
           "classical saxophone"
          ],
          [
           "classical soprano"
          ],
          [
           "classical tenor"
          ],
          [
           "classical trumpet"
          ],
          [
           "classify"
          ],
          [
           "clawhammer banjo"
          ],
          [
           "clean comedy"
          ],
          [
           "cleveland metal"
          ],
          [
           "coco"
          ],
          [
           "collage pop"
          ],
          [
           "college a cappella"
          ],
          [
           "colombian hip hop"
          ],
          [
           "colombian pop"
          ],
          [
           "colombian rock"
          ],
          [
           "columbus ohio indie"
          ],
          [
           "comedy"
          ],
          [
           "comedy rap"
          ],
          [
           "comedy rock"
          ],
          [
           "comic"
          ],
          [
           "comic metal"
          ],
          [
           "commons"
          ],
          [
           "complextro"
          ],
          [
           "compositional ambient"
          ],
          [
           "concepcion indie"
          ],
          [
           "concert band"
          ],
          [
           "connecticut hardcore"
          ],
          [
           "connecticut indie"
          ],
          [
           "conscious hip hop"
          ],
          [
           "contemporary choir"
          ],
          [
           "contemporary classical"
          ],
          [
           "contemporary classical piano"
          ],
          [
           "contemporary country"
          ],
          [
           "contemporary folk"
          ],
          [
           "contemporary gospel"
          ],
          [
           "contemporary jazz"
          ],
          [
           "contemporary post-bop"
          ],
          [
           "contemporary vocal jazz"
          ],
          [
           "contrabass"
          ],
          [
           "cool jazz"
          ],
          [
           "copla"
          ],
          [
           "cornish folk"
          ],
          [
           "cornwall indie"
          ],
          [
           "corrido"
          ],
          [
           "corridos cristianos"
          ],
          [
           "corridos tumbados"
          ],
          [
           "corrosion"
          ],
          [
           "cosmic american"
          ],
          [
           "cosmic post-rock"
          ],
          [
           "country"
          ],
          [
           "country blues"
          ],
          [
           "country boogie"
          ],
          [
           "country dawn"
          ],
          [
           "country gospel"
          ],
          [
           "country pop"
          ],
          [
           "country rap"
          ],
          [
           "country road"
          ],
          [
           "country rock"
          ],
          [
           "coverchill"
          ],
          [
           "cowboy western"
          ],
          [
           "cowpunk"
          ],
          [
           "crack rock steady"
          ],
          [
           "croatian folk"
          ],
          [
           "croatian pop"
          ],
          [
           "croatian rock"
          ],
          [
           "crossover thrash"
          ],
          [
           "crunk"
          ],
          [
           "crust punk"
          ],
          [
           "cuarteto"
          ],
          [
           "cuatro venezolano"
          ],
          [
           "cuban alternative"
          ],
          [
           "cuban rumba"
          ],
          [
           "cubaton"
          ],
          [
           "cumbia"
          ],
          [
           "cumbia andina mexicana"
          ],
          [
           "cumbia chilena"
          ],
          [
           "cumbia colombiana regia"
          ],
          [
           "cumbia ecuatoriana"
          ],
          [
           "cumbia funk"
          ],
          [
           "cumbia lagunera"
          ],
          [
           "cumbia paraguaya"
          ],
          [
           "cumbia peruana"
          ],
          [
           "cumbia pop"
          ],
          [
           "cumbia ranchera"
          ],
          [
           "cumbia salvadorena"
          ],
          [
           "cumbia santafesina"
          ],
          [
           "cumbia sonidera"
          ],
          [
           "cumbia villera"
          ],
          [
           "cyberpunk"
          ],
          [
           "cymraeg"
          ],
          [
           "cypriot pop"
          ],
          [
           "czech classical"
          ],
          [
           "czech classical piano"
          ],
          [
           "czech contemporary classical"
          ],
          [
           "d-beat"
          ],
          [
           "dabke"
          ],
          [
           "dakke dak"
          ],
          [
           "dallas indie"
          ],
          [
           "dance pop"
          ],
          [
           "dance rock"
          ],
          [
           "dance-punk"
          ],
          [
           "dancehall"
          ],
          [
           "dangdut"
          ],
          [
           "danish alternative rock"
          ],
          [
           "danish classical"
          ],
          [
           "danish electronic"
          ],
          [
           "danish electropop"
          ],
          [
           "danish hip hop"
          ],
          [
           "danish jazz"
          ],
          [
           "danish metal"
          ],
          [
           "danish pop"
          ],
          [
           "danish pop rock"
          ],
          [
           "danish post-punk"
          ],
          [
           "danish punk"
          ],
          [
           "danish rock"
          ],
          [
           "danish singer-songwriter"
          ],
          [
           "dansband"
          ],
          [
           "danseband"
          ],
          [
           "dansktop"
          ],
          [
           "danspunk"
          ],
          [
           "dark cabaret"
          ],
          [
           "dark clubbing"
          ],
          [
           "dark disco"
          ],
          [
           "dark hardcore"
          ],
          [
           "dark jazz"
          ],
          [
           "dark minimal techno"
          ],
          [
           "dark post-punk"
          ],
          [
           "dark techno"
          ],
          [
           "dark trap"
          ],
          [
           "dark wave"
          ],
          [
           "darksynth"
          ],
          [
           "dayton indie"
          ],
          [
           "dc hardcore"
          ],
          [
           "dc indie"
          ],
          [
           "death 'n' roll"
          ],
          [
           "death metal"
          ],
          [
           "deathcore"
          ],
          [
           "deathgrass"
          ],
          [
           "deathgrind"
          ],
          [
           "deathrash"
          ],
          [
           "deathrock"
          ],
          [
           "deathstep"
          ],
          [
           "deep acoustic pop"
          ],
          [
           "deep adult standards"
          ],
          [
           "deep big room"
          ],
          [
           "deep ccm"
          ],
          [
           "deep christian rock"
          ],
          [
           "deep classic garage rock"
          ],
          [
           "deep comedy"
          ],
          [
           "deep contemporary country"
          ],
          [
           "deep dance pop"
          ],
          [
           "deep delta blues"
          ],
          [
           "deep disco"
          ],
          [
           "deep disco house"
          ],
          [
           "deep dnb"
          ],
          [
           "deep east coast hip hop"
          ],
          [
           "deep euro house"
          ],
          [
           "deep flow"
          ],
          [
           "deep free jazz"
          ],
          [
           "deep freestyle"
          ],
          [
           "deep full on"
          ],
          [
           "deep funk"
          ],
          [
           "deep g funk"
          ],
          [
           "deep gothic post-punk"
          ],
          [
           "deep groove house"
          ],
          [
           "deep house"
          ],
          [
           "deep idm"
          ],
          [
           "deep indian pop"
          ],
          [
           "deep indie singer-songwriter"
          ],
          [
           "deep latin alternative"
          ],
          [
           "deep latin christian"
          ],
          [
           "deep melodic metalcore"
          ],
          [
           "deep minimal techno"
          ],
          [
           "deep motown"
          ],
          [
           "deep new americana"
          ],
          [
           "deep new wave"
          ],
          [
           "deep norteno"
          ],
          [
           "deep northern soul"
          ],
          [
           "deep pop edm"
          ],
          [
           "deep progressive house"
          ],
          [
           "deep psychobilly"
          ],
          [
           "deep punk rock"
          ],
          [
           "deep r&b"
          ],
          [
           "deep ragga"
          ],
          [
           "deep regional mexican"
          ],
          [
           "deep smooth jazz"
          ],
          [
           "deep soft rock"
          ],
          [
           "deep soul house"
          ],
          [
           "deep soundtrack"
          ],
          [
           "deep southern soul"
          ],
          [
           "deep southern trap"
          ],
          [
           "deep space rock"
          ],
          [
           "deep talent show"
          ],
          [
           "deep tech house"
          ],
          [
           "deep techno"
          ],
          [
           "deep tropical house"
          ],
          [
           "deep underground hip hop"
          ],
          [
           "deep uplifting trance"
          ],
          [
           "delta blues"
          ],
          [
           "dembow"
          ],
          [
           "denpa-kei"
          ],
          [
           "denton tx indie"
          ],
          [
           "denver indie"
          ],
          [
           "depressive black metal"
          ],
          [
           "derby indie"
          ],
          [
           "desert blues"
          ],
          [
           "desi hip hop"
          ],
          [
           "desi pop"
          ],
          [
           "destroy techno"
          ],
          [
           "detroit hip hop"
          ],
          [
           "detroit house"
          ],
          [
           "detroit techno"
          ],
          [
           "detroit trap"
          ],
          [
           "detske pisnicky"
          ],
          [
           "detskie pesni"
          ],
          [
           "devon indie"
          ],
          [
           "dfw rap"
          ],
          [
           "dhrupad"
          ],
          [
           "digital hardcore"
          ],
          [
           "dinner jazz"
          ],
          [
           "dirty south rap"
          ],
          [
           "dirty texas rap"
          ],
          [
           "disco"
          ],
          [
           "disco house"
          ],
          [
           "disney"
          ],
          [
           "diva house"
          ],
          [
           "dixieland"
          ],
          [
           "diy emo"
          ],
          [
           "djent"
          ],
          [
           "dmv rap"
          ],
          [
           "dominican pop"
          ],
          [
           "dong-yo"
          ],
          [
           "doo-wop"
          ],
          [
           "doom metal"
          ],
          [
           "double drumming"
          ],
          [
           "downtempo"
          ],
          [
           "drama"
          ],
          [
           "dream pop"
          ],
          [
           "dream trance"
          ],
          [
           "dreamgaze"
          ],
          [
           "dreamo"
          ],
          [
           "drift"
          ],
          [
           "drill"
          ],
          [
           "drill and bass"
          ],
          [
           "drone"
          ],
          [
           "drone folk"
          ],
          [
           "drone metal"
          ],
          [
           "drum and bass"
          ],
          [
           "dub"
          ],
          [
           "dub metal"
          ],
          [
           "dub poetry"
          ],
          [
           "dub techno"
          ],
          [
           "dubstep"
          ],
          [
           "dubsteppe"
          ],
          [
           "duduk"
          ],
          [
           "duluth indie"
          ],
          [
           "dunedin indie"
          ],
          [
           "dunedin sound"
          ],
          [
           "dungeon synth"
          ],
          [
           "duranguense"
          ],
          [
           "dusseldorf electronic"
          ],
          [
           "dutch blues"
          ],
          [
           "dutch cabaret"
          ],
          [
           "dutch classical piano"
          ],
          [
           "dutch death metal"
          ],
          [
           "dutch dnb"
          ],
          [
           "dutch edm"
          ],
          [
           "dutch folk"
          ],
          [
           "dutch hip hop"
          ],
          [
           "dutch house"
          ],
          [
           "dutch indie"
          ],
          [
           "dutch jazz"
          ],
          [
           "dutch metal"
          ],
          [
           "dutch pop"
          ],
          [
           "dutch prog"
          ],
          [
           "dutch rap pop"
          ],
          [
           "dutch rock"
          ],
          [
           "dutch trance"
          ],
          [
           "e6fi"
          ],
          [
           "early american folk"
          ],
          [
           "early avant garde"
          ],
          [
           "early modern classical"
          ],
          [
           "early music"
          ],
          [
           "early music choir"
          ],
          [
           "early music ensemble"
          ],
          [
           "early reggae"
          ],
          [
           "early romantic era"
          ],
          [
           "early synthpop"
          ],
          [
           "early us punk"
          ],
          [
           "east coast hip hop"
          ],
          [
           "east coast reggae"
          ],
          [
           "eastern bloc groove"
          ],
          [
           "easy listening"
          ],
          [
           "easycore"
          ],
          [
           "eau claire indie"
          ],
          [
           "ebm"
          ],
          [
           "ecm-style jazz"
          ],
          [
           "ectofolk"
          ],
          [
           "ecuadorian pop"
          ],
          [
           "edm"
          ],
          [
           "edmonton indie"
          ],
          [
           "egyptian pop"
          ],
          [
           "egyptian traditional"
          ],
          [
           "el paso indie"
          ],
          [
           "electra"
          ],
          [
           "electric bass"
          ],
          [
           "electric blues"
          ],
          [
           "electro"
          ],
          [
           "electro house"
          ],
          [
           "electro jazz"
          ],
          [
           "electro latino"
          ],
          [
           "electro swing"
          ],
          [
           "electro-industrial"
          ],
          [
           "electro-pop francais"
          ],
          [
           "electroclash"
          ],
          [
           "electrofox"
          ],
          [
           "electronic djent"
          ],
          [
           "electronic rock"
          ],
          [
           "electronic trap"
          ],
          [
           "electronica"
          ],
          [
           "electronica argentina"
          ],
          [
           "electropop"
          ],
          [
           "electropowerpop"
          ],
          [
           "emo"
          ],
          [
           "emo mexicano"
          ],
          [
           "emo punk"
          ],
          [
           "emo rap"
          ],
          [
           "emocore"
          ],
          [
           "english baroque"
          ],
          [
           "english indie rock"
          ],
          [
           "english renaissance"
          ],
          [
           "enka"
          ],
          [
           "entehno"
          ],
          [
           "environmental"
          ],
          [
           "epic doom"
          ],
          [
           "epicore"
          ],
          [
           "erhu"
          ],
          [
           "escape room"
          ],
          [
           "esperanto"
          ],
          [
           "essex indie"
          ],
          [
           "estonian hip hop"
          ],
          [
           "estonian pop"
          ],
          [
           "ethereal wave"
          ],
          [
           "etherpop"
          ],
          [
           "ethio-jazz"
          ],
          [
           "ethiopian pop"
          ],
          [
           "ethnomusicology"
          ],
          [
           "ethnotronica"
          ],
          [
           "eugene indie"
          ],
          [
           "euphoric hardstyle"
          ],
          [
           "eurobeat"
          ],
          [
           "eurodance"
          ],
          [
           "europop"
          ],
          [
           "euroska"
          ],
          [
           "eurovision"
          ],
          [
           "exotica"
          ],
          [
           "experimental"
          ],
          [
           "experimental ambient"
          ],
          [
           "experimental big band"
          ],
          [
           "experimental dub"
          ],
          [
           "experimental folk"
          ],
          [
           "experimental guitar"
          ],
          [
           "experimental hip hop"
          ],
          [
           "experimental house"
          ],
          [
           "experimental indie"
          ],
          [
           "experimental jazz"
          ],
          [
           "experimental pop"
          ],
          [
           "experimental rock"
          ],
          [
           "experimental vocal"
          ],
          [
           "fado"
          ],
          [
           "family gospel"
          ],
          [
           "faroese pop"
          ],
          [
           "fast melodic punk"
          ],
          [
           "fidget house"
          ],
          [
           "filmi"
          ],
          [
           "filter house"
          ],
          [
           "filthstep"
          ],
          [
           "final fantasy"
          ],
          [
           "fingerstyle"
          ],
          [
           "finnish alternative rock"
          ],
          [
           "finnish classical"
          ],
          [
           "finnish contemporary classical"
          ],
          [
           "finnish death metal"
          ],
          [
           "finnish edm"
          ],
          [
           "finnish hard rock"
          ],
          [
           "finnish heavy metal"
          ],
          [
           "finnish metal"
          ],
          [
           "finnish power metal"
          ],
          [
           "finnish soul"
          ],
          [
           "flamenco"
          ],
          [
           "flamenco guitar"
          ],
          [
           "flick hop"
          ],
          [
           "flint hip hop"
          ],
          [
           "float house"
          ],
          [
           "florida death metal"
          ],
          [
           "florida rap"
          ],
          [
           "fluxwork"
          ],
          [
           "fo jing"
          ],
          [
           "focus"
          ],
          [
           "focus beats"
          ],
          [
           "focus trance"
          ],
          [
           "folclor afrocolombiano"
          ],
          [
           "folclor colombiano"
          ],
          [
           "folclore extremeno"
          ],
          [
           "folclore jujeno"
          ],
          [
           "folclore navarra"
          ],
          [
           "folclore salteno"
          ],
          [
           "folclore tucumano"
          ],
          [
           "folk"
          ],
          [
           "folk metal"
          ],
          [
           "folk punk"
          ],
          [
           "folk rock"
          ],
          [
           "folk rock italiano"
          ],
          [
           "folk-pop"
          ],
          [
           "folklore argentino"
          ],
          [
           "folklore boliviano"
          ],
          [
           "folklore chileno"
          ],
          [
           "folklore ecuatoriano"
          ],
          [
           "folklore peruano"
          ],
          [
           "folklore venezolano"
          ],
          [
           "folklore veracruzano"
          ],
          [
           "folkmusik"
          ],
          [
           "folktronica"
          ],
          [
           "footwork"
          ],
          [
           "forro"
          ],
          [
           "forro tradicional"
          ],
          [
           "fort worth indie"
          ],
          [
           "fourth world"
          ],
          [
           "francoton"
          ],
          [
           "freak folk"
          ],
          [
           "freakbeat"
          ],
          [
           "free folk"
          ],
          [
           "free improvisation"
          ],
          [
           "free jazz"
          ],
          [
           "freestyle"
          ],
          [
           "french baroque"
          ],
          [
           "french classical piano"
          ],
          [
           "french contemporary classical"
          ],
          [
           "french death metal"
          ],
          [
           "french dnb"
          ],
          [
           "french hip hop"
          ],
          [
           "french indie folk"
          ],
          [
           "french indie pop"
          ],
          [
           "french indietronica"
          ],
          [
           "french jazz"
          ],
          [
           "french metal"
          ],
          [
           "french movie tunes"
          ],
          [
           "french opera"
          ],
          [
           "french orchestra"
          ],
          [
           "french pop"
          ],
          [
           "french post-punk"
          ],
          [
           "french psychedelic"
          ],
          [
           "french reggae"
          ],
          [
           "french rock"
          ],
          [
           "french romanticism"
          ],
          [
           "french shoegaze"
          ],
          [
           "french soundtrack"
          ],
          [
           "french synthpop"
          ],
          [
           "french techno"
          ],
          [
           "frenchcore"
          ],
          [
           "full on"
          ],
          [
           "funana"
          ],
          [
           "funeral doom"
          ],
          [
           "funk"
          ],
          [
           "funk 150 bpm"
          ],
          [
           "funk carioca"
          ],
          [
           "funk das antigas"
          ],
          [
           "funk metal"
          ],
          [
           "funk mexicano"
          ],
          [
           "funk ostentacao"
          ],
          [
           "funk paulista"
          ],
          [
           "funk pop"
          ],
          [
           "funk rock"
          ],
          [
           "funky breaks"
          ],
          [
           "funky tech house"
          ],
          [
           "future bass"
          ],
          [
           "future funk"
          ],
          [
           "future garage"
          ],
          [
           "future house"
          ],
          [
           "future rock"
          ],
          [
           "futurepop"
          ],
          [
           "g funk"
          ],
          [
           "gabba"
          ],
          [
           "gabonese pop"
          ],
          [
           "gaian doom"
          ],
          [
           "gainesville indie"
          ],
          [
           "gaita zuliana"
          ],
          [
           "galante era"
          ],
          [
           "gamelan"
          ],
          [
           "gaming dubstep"
          ],
          [
           "gaming edm"
          ],
          [
           "gangster rap"
          ],
          [
           "garage house"
          ],
          [
           "garage pop"
          ],
          [
           "garage psych"
          ],
          [
           "garage punk"
          ],
          [
           "garage punk blues"
          ],
          [
           "garage rock"
          ],
          [
           "garage rock revival"
          ],
          [
           "gauze pop"
          ],
          [
           "gbvfi"
          ],
          [
           "geek folk"
          ],
          [
           "geek rock"
          ],
          [
           "georgian folk"
          ],
          [
           "german alternative rock"
          ],
          [
           "german baroque"
          ],
          [
           "german choir"
          ],
          [
           "german classical piano"
          ],
          [
           "german country"
          ],
          [
           "german dance"
          ],
          [
           "german hard rock"
          ],
          [
           "german heavy metal"
          ],
          [
           "german house"
          ],
          [
           "german indie"
          ],
          [
           "german jazz"
          ],
          [
           "german literature"
          ],
          [
           "german metal"
          ],
          [
           "german oi"
          ],
          [
           "german opera"
          ],
          [
           "german orchestra"
          ],
          [
           "german pop"
          ],
          [
           "german pop rock"
          ],
          [
           "german post-hardcore"
          ],
          [
           "german power metal"
          ],
          [
           "german punk"
          ],
          [
           "german renaissance"
          ],
          [
           "german rock"
          ],
          [
           "german romanticism"
          ],
          [
           "german show tunes"
          ],
          [
           "german soundtrack"
          ],
          [
           "german techno"
          ],
          [
           "german thrash metal"
          ],
          [
           "german trance"
          ],
          [
           "german underground rap"
          ],
          [
           "ghanaian hip hop"
          ],
          [
           "ghanaian traditional"
          ],
          [
           "ghazal"
          ],
          [
           "ghent indie"
          ],
          [
           "girl group"
          ],
          [
           "glam metal"
          ],
          [
           "glam punk"
          ],
          [
           "glam rock"
          ],
          [
           "glee club"
          ],
          [
           "glitch"
          ],
          [
           "glitch hop"
          ],
          [
           "glitch pop"
          ],
          [
           "glitchcore"
          ],
          [
           "go-go"
          ],
          [
           "goregrind"
          ],
          [
           "gospel"
          ],
          [
           "gospel antigas"
          ],
          [
           "gospel blues"
          ],
          [
           "gospel italiano"
          ],
          [
           "gospel r&b"
          ],
          [
           "gospel rap"
          ],
          [
           "gospel singers"
          ],
          [
           "gospel soul"
          ],
          [
           "gothabilly"
          ],
          [
           "gothenburg indie"
          ],
          [
           "gothenburg metal"
          ],
          [
           "gothic alternative"
          ],
          [
           "gothic americana"
          ],
          [
           "gothic black metal"
          ],
          [
           "gothic metal"
          ],
          [
           "gothic post-punk"
          ],
          [
           "gothic rock"
          ],
          [
           "gothic symphonic metal"
          ],
          [
           "gqom"
          ],
          [
           "grand rapids indie"
          ],
          [
           "grave wave"
          ],
          [
           "greek clarinet"
          ],
          [
           "greek contemporary classical"
          ],
          [
           "greek folk"
          ],
          [
           "greek guitar"
          ],
          [
           "greek house"
          ],
          [
           "greek jazz"
          ],
          [
           "greek pop"
          ],
          [
           "greek swing"
          ],
          [
           "gregorian chant"
          ],
          [
           "grime"
          ],
          [
           "grindcore"
          ],
          [
           "griot"
          ],
          [
           "groove metal"
          ],
          [
           "groove room"
          ],
          [
           "grunge"
          ],
          [
           "grunge pop"
          ],
          [
           "grupera"
          ],
          [
           "gruperas inmortales"
          ],
          [
           "guadalajara indie"
          ],
          [
           "guam indie"
          ],
          [
           "guaracha"
          ],
          [
           "guatemalan pop"
          ],
          [
           "guidance"
          ],
          [
           "guinean pop"
          ],
          [
           "guitarra argentina"
          ],
          [
           "guitarra clasica"
          ],
          [
           "guitarra portuguesa"
          ],
          [
           "gujarati garba"
          ],
          [
           "gujarati pop"
          ],
          [
           "guzheng"
          ],
          [
           "gymcore"
          ],
          [
           "gypsy"
          ],
          [
           "gypsy jazz"
          ],
          [
           "gypsy punk"
          ],
          [
           "haitian traditional"
          ],
          [
           "halifax indie"
          ],
          [
           "halloween"
          ],
          [
           "hamburg electronic"
          ],
          [
           "hammered dulcimer"
          ],
          [
           "hammond organ"
          ],
          [
           "hands up"
          ],
          [
           "hangpan"
          ],
          [
           "happy hardcore"
          ],
          [
           "hard alternative"
          ],
          [
           "hard bop"
          ],
          [
           "hard minimal techno"
          ],
          [
           "hard rock"
          ],
          [
           "hard rock brasileiro"
          ],
          [
           "hardcore"
          ],
          [
           "hardcore hip hop"
          ],
          [
           "hardcore punk"
          ],
          [
           "hardcore techno"
          ],
          [
           "hardstyle"
          ],
          [
           "harlem hip hop"
          ],
          [
           "harlem renaissance"
          ],
          [
           "harmonica blues"
          ],
          [
           "harmonica jazz"
          ],
          [
           "harp"
          ],
          [
           "harpsichord"
          ],
          [
           "haryanvi pop"
          ],
          [
           "hauntology"
          ],
          [
           "hawaiian"
          ],
          [
           "hawaiian hip hop"
          ],
          [
           "hawaiian indie"
          ],
          [
           "healing"
          ],
          [
           "heartland rock"
          ],
          [
           "hi-nrg"
          ],
          [
           "highlife"
          ],
          [
           "hindi hip hop"
          ],
          [
           "hindi indie"
          ],
          [
           "hindustani classical"
          ],
          [
           "hindustani instrumental"
          ],
          [
           "hindustani vocal"
          ],
          [
           "hip hop"
          ],
          [
           "hip hop cubano"
          ],
          [
           "hip house"
          ],
          [
           "hip pop"
          ],
          [
           "hiplife"
          ],
          [
           "histoire pour enfants"
          ],
          [
           "historic classical performance"
          ],
          [
           "historic orchestral performance"
          ],
          [
           "historic piano performance"
          ],
          [
           "historic string quartet"
          ],
          [
           "historical keyboard"
          ],
          [
           "historically informed performance"
          ],
          [
           "hoerspiel"
          ],
          [
           "hokkien pop"
          ],
          [
           "hollywood"
          ],
          [
           "hong kong hip hop"
          ],
          [
           "hong kong indie"
          ],
          [
           "hong kong rock"
          ],
          [
           "honky tonk"
          ],
          [
           "honky-tonk piano"
          ],
          [
           "hopebeat"
          ],
          [
           "horror punk"
          ],
          [
           "horror synth"
          ],
          [
           "horrorcore"
          ],
          [
           "house"
          ],
          [
           "houston rap"
          ],
          [
           "huapango"
          ],
          [
           "huayno"
          ],
          [
           "hula"
          ],
          [
           "humppa"
          ],
          [
           "hungarian choir"
          ],
          [
           "hungarian classical performance"
          ],
          [
           "hungarian classical piano"
          ],
          [
           "hungarian contemporary classical"
          ],
          [
           "hungarian edm"
          ],
          [
           "hungarian folk"
          ],
          [
           "hungarian pop"
          ],
          [
           "hungarian rock"
          ],
          [
           "hungarian techno"
          ],
          [
           "hurdy-gurdy"
          ],
          [
           "hyperpop"
          ],
          [
           "hyphy"
          ],
          [
           "icelandic classical"
          ],
          [
           "icelandic electronic"
          ],
          [
           "icelandic experimental"
          ],
          [
           "icelandic folk"
          ],
          [
           "icelandic indie"
          ],
          [
           "icelandic jazz"
          ],
          [
           "icelandic pop"
          ],
          [
           "icelandic rock"
          ],
          [
           "idaho indie"
          ],
          [
           "idol"
          ],
          [
           "idol rock"
          ],
          [
           "ilahiler"
          ],
          [
           "ilocano pop"
          ],
          [
           "impressionism"
          ],
          [
           "indian classical"
          ],
          [
           "indian edm"
          ],
          [
           "indian folk"
          ],
          [
           "indian fusion"
          ],
          [
           "indian indie"
          ],
          [
           "indian instrumental"
          ],
          [
           "indian jazz"
          ],
          [
           "indiana hip hop"
          ],
          [
           "indie anthem-folk"
          ],
          [
           "indie cafe pop"
          ],
          [
           "indie deutschrap"
          ],
          [
           "indie dream pop"
          ],
          [
           "indie electronica"
          ],
          [
           "indie electropop"
          ],
          [
           "indie folk"
          ],
          [
           "indie game soundtrack"
          ],
          [
           "indie garage rock"
          ],
          [
           "indie hip hop"
          ],
          [
           "indie jazz"
          ],
          [
           "indie pop"
          ],
          [
           "indie pop rap"
          ],
          [
           "indie poptimism"
          ],
          [
           "indie psych-pop"
          ],
          [
           "indie punk"
          ],
          [
           "indie quebecois"
          ],
          [
           "indie r&b"
          ],
          [
           "indie rock"
          ],
          [
           "indie rock mexicano"
          ],
          [
           "indie rockism"
          ],
          [
           "indie shoegaze"
          ],
          [
           "indie singer-songwriter"
          ],
          [
           "indie soul"
          ],
          [
           "indie surf"
          ],
          [
           "indie triste"
          ],
          [
           "indiecoustica"
          ],
          [
           "indietronica"
          ],
          [
           "indonesian hip hop"
          ],
          [
           "indonesian indie"
          ],
          [
           "indonesian pop"
          ],
          [
           "indonesian r&b"
          ],
          [
           "indonesian worship"
          ],
          [
           "industrial"
          ],
          [
           "industrial hardcore"
          ],
          [
           "industrial hip hop"
          ],
          [
           "industrial metal"
          ],
          [
           "industrial rock"
          ],
          [
           "indy indie"
          ],
          [
           "instrumental acoustic guitar"
          ],
          [
           "instrumental bluegrass"
          ],
          [
           "instrumental funk"
          ],
          [
           "instrumental grime"
          ],
          [
           "instrumental math rock"
          ],
          [
           "instrumental post-rock"
          ],
          [
           "instrumental progressive metal"
          ],
          [
           "instrumental rock"
          ],
          [
           "instrumental soul"
          ],
          [
           "instrumental stoner rock"
          ],
          [
           "instrumental surf"
          ],
          [
           "intelligent dance music"
          ],
          [
           "iowa hip hop"
          ],
          [
           "irish accordion"
          ],
          [
           "irish ballad"
          ],
          [
           "irish banjo"
          ],
          [
           "irish classical"
          ],
          [
           "irish country"
          ],
          [
           "irish dance"
          ],
          [
           "irish fiddle"
          ],
          [
           "irish folk"
          ],
          [
           "irish hip hop"
          ],
          [
           "irish indie"
          ],
          [
           "irish metal"
          ],
          [
           "irish pop"
          ],
          [
           "irish pub song"
          ],
          [
           "irish rock"
          ],
          [
           "irish singer-songwriter"
          ],
          [
           "iskelma"
          ],
          [
           "islamic recitation"
          ],
          [
           "isle of wight indie"
          ],
          [
           "israeli classical"
          ],
          [
           "israeli classical piano"
          ],
          [
           "israeli folk"
          ],
          [
           "israeli hip hop"
          ],
          [
           "israeli mediterranean"
          ],
          [
           "israeli pop"
          ],
          [
           "israeli rock"
          ],
          [
           "israeli singer-songwriter"
          ],
          [
           "israeli techno"
          ],
          [
           "italian adult pop"
          ],
          [
           "italian baritone"
          ],
          [
           "italian baroque"
          ],
          [
           "italian baroque ensemble"
          ],
          [
           "italian bass"
          ],
          [
           "italian blues"
          ],
          [
           "italian classical guitar"
          ],
          [
           "italian classical piano"
          ],
          [
           "italian contemporary jazz"
          ],
          [
           "italian disco"
          ],
          [
           "italian gothic"
          ],
          [
           "italian gothic metal"
          ],
          [
           "italian indie pop"
          ],
          [
           "italian jazz"
          ],
          [
           "italian library music"
          ],
          [
           "italian mandolin"
          ],
          [
           "italian metal"
          ],
          [
           "italian mezzo-soprano"
          ],
          [
           "italian modern prog"
          ],
          [
           "italian opera"
          ],
          [
           "italian orchestra"
          ],
          [
           "italian pop rock"
          ],
          [
           "italian power metal"
          ],
          [
           "italian progressive metal"
          ],
          [
           "italian progressive rock"
          ],
          [
           "italian renaissance"
          ],
          [
           "italian romanticism"
          ],
          [
           "italian soprano"
          ],
          [
           "italian soundtrack"
          ],
          [
           "italian techno"
          ],
          [
           "italian tenor"
          ],
          [
           "italian violin"
          ],
          [
           "italo dance"
          ],
          [
           "italo house"
          ],
          [
           "j-acoustic"
          ],
          [
           "j-ambient"
          ],
          [
           "j-dance"
          ],
          [
           "j-division"
          ],
          [
           "j-idol"
          ],
          [
           "j-metal"
          ],
          [
           "j-pixie"
          ],
          [
           "j-pop"
          ],
          [
           "j-pop girl group"
          ],
          [
           "j-poprock"
          ],
          [
           "j-punk"
          ],
          [
           "j-reggae"
          ],
          [
           "j-rock"
          ],
          [
           "jacksonville indie"
          ],
          [
           "jam band"
          ],
          [
           "jamgrass"
          ],
          [
           "jamtronica"
          ],
          [
           "jangle pop"
          ],
          [
           "japanese alternative rock"
          ],
          [
           "japanese chillhop"
          ],
          [
           "japanese city pop"
          ],
          [
           "japanese classical"
          ],
          [
           "japanese classical performance"
          ],
          [
           "japanese classical piano"
          ],
          [
           "japanese concert band"
          ],
          [
           "japanese dream pop"
          ],
          [
           "japanese electronic"
          ],
          [
           "japanese electropop"
          ],
          [
           "japanese emo"
          ],
          [
           "japanese experimental"
          ],
          [
           "japanese folk"
          ],
          [
           "japanese garage rock"
          ],
          [
           "japanese girl punk"
          ],
          [
           "japanese heavy metal"
          ],
          [
           "japanese idm"
          ],
          [
           "japanese indie folk"
          ],
          [
           "japanese indie rock"
          ],
          [
           "japanese instrumental"
          ],
          [
           "japanese jazz"
          ],
          [
           "japanese jazz fusion"
          ],
          [
           "japanese jazztronica"
          ],
          [
           "japanese metalcore"
          ],
          [
           "japanese new wave"
          ],
          [
           "japanese piano"
          ],
          [
           "japanese pop punk"
          ],
          [
           "japanese post-hardcore"
          ],
          [
           "japanese power metal"
          ],
          [
           "japanese prog"
          ],
          [
           "japanese psychedelic"
          ],
          [
           "japanese punk rock"
          ],
          [
           "japanese r&b"
          ],
          [
           "japanese rockabilly"
          ],
          [
           "japanese singer-songwriter"
          ],
          [
           "japanese soundtrack"
          ],
          [
           "japanese traditional"
          ],
          [
           "japanese vgm"
          ],
          [
           "japanese vocal jazz"
          ],
          [
           "jawaiian"
          ],
          [
           "jazz"
          ],
          [
           "jazz accordion"
          ],
          [
           "jazz blues"
          ],
          [
           "jazz boom bap"
          ],
          [
           "jazz brass"
          ],
          [
           "jazz chileno"
          ],
          [
           "jazz clarinet"
          ],
          [
           "jazz colombiano"
          ],
          [
           "jazz cubano"
          ],
          [
           "jazz double bass"
          ],
          [
           "jazz drums"
          ],
          [
           "jazz flute"
          ],
          [
           "jazz funk"
          ],
          [
           "jazz fusion"
          ],
          [
           "jazz guitar"
          ],
          [
           "jazz harp"
          ],
          [
           "jazz metal"
          ],
          [
           "jazz mexicano"
          ],
          [
           "jazz orchestra"
          ],
          [
           "jazz organ"
          ],
          [
           "jazz piano"
          ],
          [
           "jazz pop"
          ],
          [
           "jazz quartet"
          ],
          [
           "jazz rap"
          ],
          [
           "jazz rock"
          ],
          [
           "jazz saxophone"
          ],
          [
           "jazz trio"
          ],
          [
           "jazz trombone"
          ],
          [
           "jazz trumpet"
          ],
          [
           "jazz tuba"
          ],
          [
           "jazz venezolano"
          ],
          [
           "jazz vibraphone"
          ],
          [
           "jazz violin"
          ],
          [
           "jazztronica"
          ],
          [
           "jewish cantorial"
          ],
          [
           "jewish hip hop"
          ],
          [
           "jig and reel"
          ],
          [
           "jordanian pop"
          ],
          [
           "joropo"
          ],
          [
           "jovem guarda"
          ],
          [
           "jug band"
          ],
          [
           "juju"
          ],
          [
           "jump blues"
          ],
          [
           "jump up"
          ],
          [
           "k-indie"
          ],
          [
           "k-pop"
          ],
          [
           "k-pop boy group"
          ],
          [
           "k-pop girl group"
          ],
          [
           "k-rap"
          ],
          [
           "kabarett"
          ],
          [
           "kabyle"
          ],
          [
           "kaneka"
          ],
          [
           "kannada bhava geethe"
          ],
          [
           "kansas city hip hop"
          ],
          [
           "kashmiri pop"
          ],
          [
           "kawaii future bass"
          ],
          [
           "kawaii metal"
          ],
          [
           "kayokyoku"
          ],
          [
           "kc indie"
          ],
          [
           "kent indie"
          ],
          [
           "kentucky hip hop"
          ],
          [
           "kentucky indie"
          ],
          [
           "kentucky metal"
          ],
          [
           "kentucky mountain folk"
          ],
          [
           "kentucky punk"
          ],
          [
           "kentucky roots"
          ],
          [
           "keroncong"
          ],
          [
           "khaleeji iraqi"
          ],
          [
           "khmer"
          ],
          [
           "kids dance party"
          ],
          [
           "kindie rock"
          ],
          [
           "kingston on indie"
          ],
          [
           "kirtan"
          ],
          [
           "kiwi rock"
          ],
          [
           "kizomba antigas"
          ],
          [
           "kleine hoerspiel"
          ],
          [
           "klezmer"
          ],
          [
           "knoxville indie"
          ],
          [
           "kodomo no ongaku"
          ],
          [
           "kolsche karneval"
          ],
          [
           "komedi"
          ],
          [
           "kompa"
          ],
          [
           "kora"
          ],
          [
           "korean classical performance"
          ],
          [
           "korean classical piano"
          ],
          [
           "korean indie rock"
          ],
          [
           "korean mask singer"
          ],
          [
           "korean pop"
          ],
          [
           "korean r&b"
          ],
          [
           "korean trap"
          ],
          [
           "koto"
          ],
          [
           "krautrock"
          ],
          [
           "kundiman"
          ],
          [
           "la indie"
          ],
          [
           "la pop"
          ],
          [
           "laboratorio"
          ],
          [
           "lafayette indie"
          ],
          [
           "laiko"
          ],
          [
           "lancashire indie"
          ],
          [
           "lancaster pa indie"
          ],
          [
           "late romantic era"
          ],
          [
           "latin"
          ],
          [
           "latin afrobeat"
          ],
          [
           "latin alternative"
          ],
          [
           "latin american classical piano"
          ],
          [
           "latin arena pop"
          ],
          [
           "latin christian"
          ],
          [
           "latin classical"
          ],
          [
           "latin funk"
          ],
          [
           "latin hip hop"
          ],
          [
           "latin house"
          ],
          [
           "latin jazz"
          ],
          [
           "latin metal"
          ],
          [
           "latin pop"
          ],
          [
           "latin rock"
          ],
          [
           "latin ska"
          ],
          [
           "latin soundtrack"
          ],
          [
           "latin talent show"
          ],
          [
           "latin tech house"
          ],
          [
           "latin viral pop"
          ],
          [
           "latin worship"
          ],
          [
           "latincore"
          ],
          [
           "latino comedy"
          ],
          [
           "latintronica"
          ],
          [
           "latinx alternative"
          ],
          [
           "latvian pop"
          ],
          [
           "lds"
          ],
          [
           "lds youth"
          ],
          [
           "lebanese pop"
          ],
          [
           "leicester indie"
          ],
          [
           "lexington ky indie"
          ],
          [
           "lgbtq+ hip hop"
          ],
          [
           "library music"
          ],
          [
           "liedermacher"
          ],
          [
           "light music"
          ],
          [
           "lilith"
          ],
          [
           "liquid funk"
          ],
          [
           "lithuanian electronic"
          ],
          [
           "liverpool indie"
          ],
          [
           "livetronica"
          ],
          [
           "lldm"
          ],
          [
           "lo star"
          ],
          [
           "lo-fi"
          ],
          [
           "lo-fi beats"
          ],
          [
           "lo-fi brasileiro"
          ],
          [
           "lo-fi chill"
          ],
          [
           "lo-fi cover"
          ],
          [
           "lo-fi emo"
          ],
          [
           "lo-fi house"
          ],
          [
           "lo-fi indie"
          ],
          [
           "lo-fi vgm"
          ],
          [
           "london rap"
          ],
          [
           "louisiana blues"
          ],
          [
           "louisiana metal"
          ],
          [
           "louisville indie"
          ],
          [
           "louisville underground"
          ],
          [
           "lounge"
          ],
          [
           "louvor"
          ],
          [
           "lovers rock"
          ],
          [
           "lullaby"
          ],
          [
           "lund indie"
          ],
          [
           "lute"
          ],
          [
           "macedonian folk"
          ],
          [
           "madchester"
          ],
          [
           "madrigal"
          ],
          [
           "magyar alternative"
          ],
          [
           "maine hip hop"
          ],
          [
           "maine indie"
          ],
          [
           "mainland chinese pop"
          ],
          [
           "makossa"
          ],
          [
           "malaysian mandopop"
          ],
          [
           "malaysian pop"
          ],
          [
           "malian blues"
          ],
          [
           "mallet"
          ],
          [
           "malmo indie"
          ],
          [
           "mambo"
          ],
          [
           "manchester hip hop"
          ],
          [
           "manchester indie"
          ],
          [
           "mande pop"
          ],
          [
           "mandolin"
          ],
          [
           "mandopop"
          ],
          [
           "manguebeat"
          ],
          [
           "manila sound"
          ],
          [
           "manitoba indie"
          ],
          [
           "mantra"
          ],
          [
           "marathi pop"
          ],
          [
           "marathi traditional"
          ],
          [
           "marching band"
          ],
          [
           "mariachi"
          ],
          [
           "mariachi cristiano"
          ],
          [
           "marimba orquesta"
          ],
          [
           "martial industrial"
          ],
          [
           "mashup"
          ],
          [
           "math rock"
          ],
          [
           "mathcore"
          ],
          [
           "mbalax"
          ],
          [
           "medieval"
          ],
          [
           "medieval folk"
          ],
          [
           "medieval rock"
          ],
          [
           "meditation"
          ],
          [
           "melancholia"
          ],
          [
           "melbourne bounce"
          ],
          [
           "melbourne bounce international"
          ],
          [
           "melbourne indie"
          ],
          [
           "mellow gold"
          ],
          [
           "melodic death metal"
          ],
          [
           "melodic deathcore"
          ],
          [
           "melodic dubstep"
          ],
          [
           "melodic groove metal"
          ],
          [
           "melodic hard rock"
          ],
          [
           "melodic hardcore"
          ],
          [
           "melodic metal"
          ],
          [
           "melodic metalcore"
          ],
          [
           "melodic power metal"
          ],
          [
           "melodic rap"
          ],
          [
           "melodic thrash"
          ],
          [
           "meme rap"
          ],
          [
           "memphis americana"
          ],
          [
           "memphis blues"
          ],
          [
           "memphis hip hop"
          ],
          [
           "memphis indie"
          ],
          [
           "memphis soul"
          ],
          [
           "mento"
          ],
          [
           "merengue"
          ],
          [
           "merengue tipico"
          ],
          [
           "merseybeat"
          ],
          [
           "messianic praise"
          ],
          [
           "metal"
          ],
          [
           "metal guitar"
          ],
          [
           "metal mineiro"
          ],
          [
           "metalcore"
          ],
          [
           "metropopolis"
          ],
          [
           "mexican classic rock"
          ],
          [
           "mexican classical"
          ],
          [
           "mexican hip hop"
          ],
          [
           "mexican indie"
          ],
          [
           "mexican pop"
          ],
          [
           "mexican pop punk"
          ],
          [
           "mexican rock"
          ],
          [
           "mexican rock-and-roll"
          ],
          [
           "mexican son"
          ],
          [
           "mexican traditional"
          ],
          [
           "miami bass"
          ],
          [
           "miami hip hop"
          ],
          [
           "miami indie"
          ],
          [
           "miami metal"
          ],
          [
           "michigan indie"
          ],
          [
           "microhouse"
          ],
          [
           "microtonal"
          ],
          [
           "middle earth"
          ],
          [
           "middle east hip hop"
          ],
          [
           "middle eastern traditional"
          ],
          [
           "midwest americana"
          ],
          [
           "midwest emo"
          ],
          [
           "military cadence"
          ],
          [
           "military rap"
          ],
          [
           "milwaukee indie"
          ],
          [
           "mindfulness"
          ],
          [
           "minecraft"
          ],
          [
           "minimal melodic techno"
          ],
          [
           "minimal tech house"
          ],
          [
           "minimal techno"
          ],
          [
           "minimal wave"
          ],
          [
           "minimalism"
          ],
          [
           "minneapolis indie"
          ],
          [
           "minneapolis metal"
          ],
          [
           "minneapolis punk"
          ],
          [
           "minneapolis sound"
          ],
          [
           "minnesota hip hop"
          ],
          [
           "mississippi hip hop"
          ],
          [
           "mississippi indie"
          ],
          [
           "mizrahi"
          ],
          [
           "mod revival"
          ],
          [
           "modern alternative pop"
          ],
          [
           "modern alternative rock"
          ],
          [
           "modern big band"
          ],
          [
           "modern blues"
          ],
          [
           "modern blues rock"
          ],
          [
           "modern bollywood"
          ],
          [
           "modern country rock"
          ],
          [
           "modern dream pop"
          ],
          [
           "modern folk rock"
          ],
          [
           "modern funk"
          ],
          [
           "modern hard rock"
          ],
          [
           "modern indie pop"
          ],
          [
           "modern jazz piano"
          ],
          [
           "modern jazz trio"
          ],
          [
           "modern old-time"
          ],
          [
           "modern performance"
          ],
          [
           "modern power pop"
          ],
          [
           "modern psychedelic folk"
          ],
          [
           "modern reggae"
          ],
          [
           "modern rock"
          ],
          [
           "modern salsa"
          ],
          [
           "modern ska punk"
          ],
          [
           "modern southern rock"
          ],
          [
           "modern string quartet"
          ],
          [
           "modern swing"
          ],
          [
           "modern uplift"
          ],
          [
           "modular synth"
          ],
          [
           "moldovan pop"
          ],
          [
           "mollywood"
          ],
          [
           "mongolian hip hop"
          ],
          [
           "mongolian pop"
          ],
          [
           "monterrey indie"
          ],
          [
           "montreal indie"
          ],
          [
           "moog"
          ],
          [
           "moombahton"
          ],
          [
           "morna"
          ],
          [
           "motivation"
          ],
          [
           "motown"
          ],
          [
           "mountain dulcimer"
          ],
          [
           "movie tunes"
          ],
          [
           "mpb"
          ],
          [
           "music box"
          ],
          [
           "music hall"
          ],
          [
           "musica afroperuana"
          ],
          [
           "musica alagoana"
          ],
          [
           "musica andina"
          ],
          [
           "musica andina colombiana"
          ],
          [
           "musica antigua"
          ],
          [
           "musica aragonesa"
          ],
          [
           "musica ayacuchana"
          ],
          [
           "musica canaria"
          ],
          [
           "musica costarricense"
          ],
          [
           "musica costena"
          ],
          [
           "musica cristiana guatemalteca"
          ],
          [
           "musica de fondo"
          ],
          [
           "musica gaucha tradicionalista"
          ],
          [
           "musica hondurena"
          ],
          [
           "musica infantil"
          ],
          [
           "musica jibara"
          ],
          [
           "musica juiz-forana"
          ],
          [
           "musica llanera"
          ],
          [
           "musica nicaraguense"
          ],
          [
           "musica para criancas"
          ],
          [
           "musica para ninos"
          ],
          [
           "musica paraibana"
          ],
          [
           "musica piemonteisa"
          ],
          [
           "musica popular colombiana"
          ],
          [
           "musica popular mineira"
          ],
          [
           "musica popular paraense"
          ],
          [
           "musica potosina"
          ],
          [
           "musica prehispanica"
          ],
          [
           "musica sarda"
          ],
          [
           "musica tradicional cubana"
          ],
          [
           "musica tropical guatemalteca"
          ],
          [
           "musical advocacy"
          ],
          [
           "musikkorps"
          ],
          [
           "musique concrete"
          ],
          [
           "musique peule"
          ],
          [
           "musique pour enfant quebecois"
          ],
          [
           "musique pour enfants"
          ],
          [
           "musique touareg"
          ],
          [
           "muzica populara"
          ],
          [
           "muzika l'yeladim"
          ],
          [
           "naija worship"
          ],
          [
           "nantes indie"
          ],
          [
           "narodna muzika"
          ],
          [
           "nashville americana"
          ],
          [
           "nashville hip hop"
          ],
          [
           "nashville indie"
          ],
          [
           "nashville singer-songwriter"
          ],
          [
           "nashville sound"
          ],
          [
           "native american"
          ],
          [
           "native american contemporary"
          ],
          [
           "native american flute"
          ],
          [
           "native american hip hop"
          ],
          [
           "native american spiritual"
          ],
          [
           "navajo"
          ],
          [
           "nederlandse hardstyle"
          ],
          [
           "nederpop"
          ],
          [
           "neo classical metal"
          ],
          [
           "neo kyma"
          ],
          [
           "neo mellow"
          ],
          [
           "neo r&b"
          ],
          [
           "neo soul"
          ],
          [
           "neo-classical"
          ],
          [
           "neo-kraut"
          ],
          [
           "neo-pagan"
          ],
          [
           "neo-progressive"
          ],
          [
           "neo-psychedelic"
          ],
          [
           "neo-rockabilly"
          ],
          [
           "neo-singer-songwriter"
          ],
          [
           "neo-synthpop"
          ],
          [
           "neo-trad metal"
          ],
          [
           "neo-traditional bluegrass"
          ],
          [
           "neo-traditional country"
          ],
          [
           "neoclassical darkwave"
          ],
          [
           "neoclassicism"
          ],
          [
           "neofolk"
          ],
          [
           "neon pop punk"
          ],
          [
           "neotango"
          ],
          [
           "nepali indie"
          ],
          [
           "nepali pop"
          ],
          [
           "nerdcore"
          ],
          [
           "neue deutsche harte"
          ],
          [
           "neue deutsche todeskunst"
          ],
          [
           "neue deutsche welle"
          ],
          [
           "neurofunk"
          ],
          [
           "new age"
          ],
          [
           "new age piano"
          ],
          [
           "new americana"
          ],
          [
           "new beat"
          ],
          [
           "new comedy"
          ],
          [
           "new england americana"
          ],
          [
           "new england emo"
          ],
          [
           "new french touch"
          ],
          [
           "new isolationism"
          ],
          [
           "new jack swing"
          ],
          [
           "new jersey hardcore"
          ],
          [
           "new jersey indie"
          ],
          [
           "new jersey punk"
          ],
          [
           "new jersey rap"
          ],
          [
           "new mexico music"
          ],
          [
           "new orleans blues"
          ],
          [
           "new orleans funk"
          ],
          [
           "new orleans indie"
          ],
          [
           "new orleans jazz"
          ],
          [
           "new orleans rap"
          ],
          [
           "new rave"
          ],
          [
           "new romantic"
          ],
          [
           "new tribe"
          ],
          [
           "new wave"
          ],
          [
           "new wave of thrash metal"
          ],
          [
           "new wave pop"
          ],
          [
           "new weird america"
          ],
          [
           "new york death metal"
          ],
          [
           "new york drill"
          ],
          [
           "new zealand classical"
          ],
          [
           "newcastle indie"
          ],
          [
           "newcastle nsw indie"
          ],
          [
           "nigerian hip hop"
          ],
          [
           "nigerian pop"
          ],
          [
           "nightcore"
          ],
          [
           "nightrun"
          ],
          [
           "ninja"
          ],
          [
           "nintendocore"
          ],
          [
           "nisiotika"
          ],
          [
           "nl folk"
          ],
          [
           "no wave"
          ],
          [
           "noise pop"
          ],
          [
           "noise punk"
          ],
          [
           "noise rock"
          ],
          [
           "nordic classical piano"
          ],
          [
           "nordic contemporary classical"
          ],
          [
           "nordic folk"
          ],
          [
           "nordic house"
          ],
          [
           "nordic orchestra"
          ],
          [
           "nordic post-rock"
          ],
          [
           "nordic soundtrack"
          ],
          [
           "norman ok indie"
          ],
          [
           "norsk lovsang"
          ],
          [
           "norteno"
          ],
          [
           "norteno-sax"
          ],
          [
           "north carolina emo"
          ],
          [
           "north carolina hip hop"
          ],
          [
           "north carolina indie"
          ],
          [
           "north carolina metal"
          ],
          [
           "north carolina roots"
          ],
          [
           "north east england indie"
          ],
          [
           "northern irish indie"
          ],
          [
           "northern irish punk"
          ],
          [
           "northern soul"
          ],
          [
           "norwegian black metal"
          ],
          [
           "norwegian choir"
          ],
          [
           "norwegian classical"
          ],
          [
           "norwegian contemporary jazz"
          ],
          [
           "norwegian death metal"
          ],
          [
           "norwegian experimental"
          ],
          [
           "norwegian hip hop"
          ],
          [
           "norwegian indie"
          ],
          [
           "norwegian jazz"
          ],
          [
           "norwegian metal"
          ],
          [
           "norwegian pop"
          ],
          [
           "norwegian pop rap"
          ],
          [
           "norwegian punk rock"
          ],
          [
           "norwegian rock"
          ],
          [
           "norwegian singer-songwriter"
          ],
          [
           "norwegian space disco"
          ],
          [
           "nottingham indie"
          ],
          [
           "nouvelle chanson francaise"
          ],
          [
           "nova canco"
          ],
          [
           "nova mpb"
          ],
          [
           "nova musica pernambucana"
          ],
          [
           "novelty"
          ],
          [
           "nu age"
          ],
          [
           "nu disco"
          ],
          [
           "nu gaze"
          ],
          [
           "nu jazz"
          ],
          [
           "nu metal"
          ],
          [
           "nu skool breaks"
          ],
          [
           "nu-cumbia"
          ],
          [
           "nu-metalcore"
          ],
          [
           "nubian traditional"
          ],
          [
           "nueva cancion"
          ],
          [
           "nueva ola chilena"
          ],
          [
           "nueva ola peruana"
          ],
          [
           "nuevo flamenco"
          ],
          [
           "nuevo folklore mexicano"
          ],
          [
           "nuevo regional mexicano"
          ],
          [
           "nuevo tango"
          ],
          [
           "nursery"
          ],
          [
           "nwobhm"
          ],
          [
           "nwothm"
          ],
          [
           "ny roots"
          ],
          [
           "nyc pop"
          ],
          [
           "nyc rap"
          ],
          [
           "nyhc"
          ],
          [
           "nz christian"
          ],
          [
           "nz folk"
          ],
          [
           "nz hardcore"
          ],
          [
           "nz indie"
          ],
          [
           "nz pop"
          ],
          [
           "nz punk"
          ],
          [
           "nz reggae"
          ],
          [
           "nz singer-songwriter"
          ],
          [
           "oakland hip hop"
          ],
          [
           "oakland indie"
          ],
          [
           "oc indie"
          ],
          [
           "oc rap"
          ],
          [
           "oceania soundtrack"
          ],
          [
           "ohio hip hop"
          ],
          [
           "ohio indie"
          ],
          [
           "oi"
          ],
          [
           "ok indie"
          ],
          [
           "okc indie"
          ],
          [
           "okinawan pop"
          ],
          [
           "oklahoma country"
          ],
          [
           "old school dancehall"
          ],
          [
           "old school hip hop"
          ],
          [
           "old school rap francais"
          ],
          [
           "old school thrash"
          ],
          [
           "old school uk hip hop"
          ],
          [
           "old west"
          ],
          [
           "old-time"
          ],
          [
           "old-time fiddle"
          ],
          [
           "olympia wa indie"
          ],
          [
           "omaha indie"
          ],
          [
           "one-person band"
          ],
          [
           "ontario indie"
          ],
          [
           "opera"
          ],
          [
           "opera chorus"
          ],
          [
           "opera metal"
          ],
          [
           "operatic pop"
          ],
          [
           "operetta"
          ],
          [
           "opm"
          ],
          [
           "oratory"
          ],
          [
           "orchestra"
          ],
          [
           "orchestral performance"
          ],
          [
           "orebro indie"
          ],
          [
           "organic ambient"
          ],
          [
           "organic electronic"
          ],
          [
           "organic house"
          ],
          [
           "orgcore"
          ],
          [
           "oriental classical"
          ],
          [
           "orkney and shetland folk"
          ],
          [
           "orlando indie"
          ],
          [
           "orquesta tipica"
          ],
          [
           "orthodox chant"
          ],
          [
           "oshare kei"
          ],
          [
           "otacore"
          ],
          [
           "oth indie"
          ],
          [
           "ottawa indie"
          ],
          [
           "ottawa rap"
          ],
          [
           "oud"
          ],
          [
           "outer hip hop"
          ],
          [
           "outlaw country"
          ],
          [
           "outsider"
          ],
          [
           "outsider house"
          ],
          [
           "oxford choir"
          ],
          [
           "oxford indie"
          ],
          [
           "p funk"
          ],
          [
           "pagan black metal"
          ],
          [
           "pagode"
          ],
          [
           "pagode baiano"
          ],
          [
           "paisley underground"
          ],
          [
           "pakistani folk"
          ],
          [
           "pakistani hip hop"
          ],
          [
           "pakistani pop"
          ],
          [
           "palestinian pop"
          ],
          [
           "palm desert scene"
          ],
          [
           "panamanian pop"
          ],
          [
           "panamanian rock"
          ],
          [
           "panpipe"
          ],
          [
           "papuri"
          ],
          [
           "parody"
          ],
          [
           "partido alto"
          ],
          [
           "partyschlager"
          ],
          [
           "pei indie"
          ],
          [
           "permanent wave"
          ],
          [
           "perreo"
          ],
          [
           "persian pop"
          ],
          [
           "persian traditional"
          ],
          [
           "perth indie"
          ],
          [
           "peruvian hip hop"
          ],
          [
           "peruvian rock"
          ],
          [
           "pet calming"
          ],
          [
           "philly indie"
          ],
          [
           "philly rap"
          ],
          [
           "philly soul"
          ],
          [
           "phoenix indie"
          ],
          [
           "phonk"
          ],
          [
           "pianissimo"
          ],
          [
           "piano blues"
          ],
          [
           "piano cover"
          ],
          [
           "piano mpb"
          ],
          [
           "piano rock"
          ],
          [
           "pibroch"
          ],
          [
           "piedmont blues"
          ],
          [
           "pinoy hip hop"
          ],
          [
           "pinoy indie"
          ],
          [
           "pinoy pop punk"
          ],
          [
           "pinoy praise"
          ],
          [
           "pinoy r&b"
          ],
          [
           "pinoy reggae"
          ],
          [
           "pinoy rock"
          ],
          [
           "pinoy traditional"
          ],
          [
           "pinoy trap"
          ],
          [
           "pirate"
          ],
          [
           "pittsburgh indie"
          ],
          [
           "pittsburgh rap"
          ],
          [
           "pittsburgh rock"
          ],
          [
           "pixie"
          ],
          [
           "plunderphonics"
          ],
          [
           "poetry"
          ],
          [
           "polca paraguaya"
          ],
          [
           "polish blues"
          ],
          [
           "polish classical"
          ],
          [
           "polish classical piano"
          ],
          [
           "polish contemporary classical"
          ],
          [
           "polish jazz"
          ],
          [
           "polish modern jazz"
          ],
          [
           "polish pop"
          ],
          [
           "polish post-rock"
          ],
          [
           "polish reggae"
          ],
          [
           "polish rock"
          ],
          [
           "political hip hop"
          ],
          [
           "polka"
          ],
          [
           "polynesian hip hop"
          ],
          [
           "polynesian pop"
          ],
          [
           "polyphony"
          ],
          [
           "pony"
          ],
          [
           "pop"
          ],
          [
           "pop argentino"
          ],
          [
           "pop chileno"
          ],
          [
           "pop dance"
          ],
          [
           "pop edm"
          ],
          [
           "pop electronico"
          ],
          [
           "pop emo"
          ],
          [
           "pop flamenco"
          ],
          [
           "pop folk"
          ],
          [
           "pop house"
          ],
          [
           "pop nacional"
          ],
          [
           "pop nacional antigas"
          ],
          [
           "pop peruano"
          ],
          [
           "pop punk"
          ],
          [
           "pop quebecois"
          ],
          [
           "pop r&b"
          ],
          [
           "pop rap"
          ],
          [
           "pop reggaeton"
          ],
          [
           "pop rock"
          ],
          [
           "pop rock brasileiro"
          ],
          [
           "pop romantico"
          ],
          [
           "pop soul"
          ],
          [
           "pop venezolano"
          ],
          [
           "pop violin"
          ],
          [
           "popgaze"
          ],
          [
           "popping"
          ],
          [
           "pops orchestra"
          ],
          [
           "popwave"
          ],
          [
           "pornogrind"
          ],
          [
           "porro"
          ],
          [
           "portland hip hop"
          ],
          [
           "portland indie"
          ],
          [
           "portland metal"
          ],
          [
           "portland punk"
          ],
          [
           "portuguese early music"
          ],
          [
           "post-disco"
          ],
          [
           "post-disco soul"
          ],
          [
           "post-doom metal"
          ],
          [
           "post-grunge"
          ],
          [
           "post-hardcore"
          ],
          [
           "post-metal"
          ],
          [
           "post-minimalism"
          ],
          [
           "post-post-hardcore"
          ],
          [
           "post-punk"
          ],
          [
           "post-punk argentina"
          ],
          [
           "post-rock"
          ],
          [
           "post-romantic era"
          ],
          [
           "post-screamo"
          ],
          [
           "post-teen pop"
          ],
          [
           "power metal"
          ],
          [
           "power pop"
          ],
          [
           "power thrash"
          ],
          [
           "power-pop punk"
          ],
          [
           "praise"
          ],
          [
           "prepared piano"
          ],
          [
           "preschool children's music"
          ],
          [
           "prog quebec"
          ],
          [
           "progressive alternative"
          ],
          [
           "progressive bluegrass"
          ],
          [
           "progressive deathcore"
          ],
          [
           "progressive electro house"
          ],
          [
           "progressive groove metal"
          ],
          [
           "progressive house"
          ],
          [
           "progressive jazz fusion"
          ],
          [
           "progressive metal"
          ],
          [
           "progressive metalcore"
          ],
          [
           "progressive post-hardcore"
          ],
          [
           "progressive power metal"
          ],
          [
           "progressive psytrance"
          ],
          [
           "progressive rock"
          ],
          [
           "progressive sludge"
          ],
          [
           "progressive trance"
          ],
          [
           "progressive trance house"
          ],
          [
           "progressive uplifting trance"
          ],
          [
           "proto-rap"
          ],
          [
           "proto-techno"
          ],
          [
           "protopunk"
          ],
          [
           "psalmen"
          ],
          [
           "psicodelia brasileira"
          ],
          [
           "psybass"
          ],
          [
           "psychedelic blues-rock"
          ],
          [
           "psychedelic doom"
          ],
          [
           "psychedelic folk"
          ],
          [
           "psychedelic folk rock"
          ],
          [
           "psychedelic hip hop"
          ],
          [
           "psychedelic pop"
          ],
          [
           "psychedelic punk"
          ],
          [
           "psychedelic rock"
          ],
          [
           "psychedelic soul"
          ],
          [
           "psychedelic trance"
          ],
          [
           "psychill"
          ],
          [
           "psychobilly"
          ],
          [
           "pub rock"
          ],
          [
           "puerto rican folk"
          ],
          [
           "puerto rican pop"
          ],
          [
           "puerto rican rock"
          ],
          [
           "punjabi folk"
          ],
          [
           "punjabi hip hop"
          ],
          [
           "punjabi pop"
          ],
          [
           "punk"
          ],
          [
           "punk 'n' roll"
          ],
          [
           "punk blues"
          ],
          [
           "punk rock italiano"
          ],
          [
           "punk rock mexicano"
          ],
          [
           "punta"
          ],
          [
           "purple sound"
          ],
          [
           "qawwali"
          ],
          [
           "quartetto d'archi"
          ],
          [
           "quatuor a cordes"
          ],
          [
           "quebec death metal"
          ],
          [
           "quebec indie"
          ],
          [
           "queens hip hop"
          ],
          [
           "queer country"
          ],
          [
           "queercore"
          ],
          [
           "quiet storm"
          ],
          [
           "quran"
          ],
          [
           "r&b"
          ],
          [
           "r&b en espanol"
          ],
          [
           "rabindra sangeet"
          ],
          [
           "radio symphony"
          ],
          [
           "ragtime"
          ],
          [
           "rai"
          ],
          [
           "ranchera"
          ],
          [
           "rap"
          ],
          [
           "rap chileno"
          ],
          [
           "rap conciencia"
          ],
          [
           "rap conscient"
          ],
          [
           "rap cristiano"
          ],
          [
           "rap dominicano"
          ],
          [
           "rap kreyol"
          ],
          [
           "rap latina"
          ],
          [
           "rap metal"
          ],
          [
           "rap nacional antigo"
          ],
          [
           "rap napoletano"
          ],
          [
           "rap rock"
          ],
          [
           "rap underground mexicano"
          ],
          [
           "rare groove"
          ],
          [
           "rave"
          ],
          [
           "rawstyle"
          ],
          [
           "reading"
          ],
          [
           "reading indie"
          ],
          [
           "rebel blues"
          ],
          [
           "rebetiko"
          ],
          [
           "recorder"
          ],
          [
           "red dirt"
          ],
          [
           "redneck"
          ],
          [
           "reggae"
          ],
          [
           "reggae en espanol"
          ],
          [
           "reggae fusion"
          ],
          [
           "reggae rock"
          ],
          [
           "reggaeton"
          ],
          [
           "reggaeton colombiano"
          ],
          [
           "reggaeton cristiano"
          ],
          [
           "reggaeton flow"
          ],
          [
           "reggaeton mexicano"
          ],
          [
           "regional mexican"
          ],
          [
           "relaxative"
          ],
          [
           "renaissance"
          ],
          [
           "rennes indie"
          ],
          [
           "retro metal"
          ],
          [
           "retro soul"
          ],
          [
           "rhode island indie"
          ],
          [
           "rhode island rap"
          ],
          [
           "rhythm and blues"
          ],
          [
           "riddim"
          ],
          [
           "rif"
          ],
          [
           "riot grrrl"
          ],
          [
           "ritmo kombina"
          ],
          [
           "rochester mn indie"
          ],
          [
           "rochester ny indie"
          ],
          [
           "rock"
          ],
          [
           "rock alternatif francais"
          ],
          [
           "rock alternativo brasileiro"
          ],
          [
           "rock andaluz"
          ],
          [
           "rock baiano"
          ],
          [
           "rock brasiliense"
          ],
          [
           "rock chapin"
          ],
          [
           "rock cristiano"
          ],
          [
           "rock drums"
          ],
          [
           "rock en espanol"
          ],
          [
           "rock gaucho"
          ],
          [
           "rock independant francais"
          ],
          [
           "rock kapak"
          ],
          [
           "rock keyboard"
          ],
          [
           "rock nacional"
          ],
          [
           "rock nacional brasileiro"
          ],
          [
           "rock pernambucano"
          ],
          [
           "rock progressif francais"
          ],
          [
           "rock steady"
          ],
          [
           "rock urbano mexicano"
          ],
          [
           "rock-and-roll"
          ],
          [
           "rockabilly"
          ],
          [
           "rockabilly en espanol"
          ],
          [
           "roda de samba"
          ],
          [
           "romanian classical piano"
          ],
          [
           "romanian electronic"
          ],
          [
           "romanian folk"
          ],
          [
           "romanian pop"
          ],
          [
           "romanian rock"
          ],
          [
           "romantico"
          ],
          [
           "roots americana"
          ],
          [
           "roots reggae"
          ],
          [
           "roots rock"
          ],
          [
           "roots worship"
          ],
          [
           "rosary"
          ],
          [
           "rumba"
          ],
          [
           "rumba congolaise"
          ],
          [
           "rune folk"
          ],
          [
           "russian alternative rock"
          ],
          [
           "russian ccm"
          ],
          [
           "russian chanson"
          ],
          [
           "russian choir"
          ],
          [
           "russian classical piano"
          ],
          [
           "russian dance"
          ],
          [
           "russian edm"
          ],
          [
           "russian folk"
          ],
          [
           "russian folk rock"
          ],
          [
           "russian jazz"
          ],
          [
           "russian metal"
          ],
          [
           "russian metalcore"
          ],
          [
           "russian modern classical"
          ],
          [
           "russian orchestra"
          ],
          [
           "russian pop"
          ],
          [
           "russian post-punk"
          ],
          [
           "russian punk"
          ],
          [
           "russian rock"
          ],
          [
           "russian romanticism"
          ],
          [
           "russian shoegaze"
          ],
          [
           "russian trance"
          ],
          [
           "rva indie"
          ],
          [
           "rwandan traditional"
          ],
          [
           "ryukyu ongaku"
          ],
          [
           "sacramento hip hop"
          ],
          [
           "sacramento indie"
          ],
          [
           "sacred steel"
          ],
          [
           "sad rap"
          ],
          [
           "salsa"
          ],
          [
           "salsa choke"
          ],
          [
           "salsa colombiana"
          ],
          [
           "salsa cubana"
          ],
          [
           "salsa international"
          ],
          [
           "salsa peruana"
          ],
          [
           "salsa puertorriquena"
          ],
          [
           "salsa venezolana"
          ],
          [
           "samba"
          ],
          [
           "samba de roda"
          ],
          [
           "samba moderno"
          ],
          [
           "samba-enredo"
          ],
          [
           "samba-jazz"
          ],
          [
           "samba-rock"
          ],
          [
           "san antonio rap"
          ],
          [
           "san diego indie"
          ],
          [
           "san diego rap"
          ],
          [
           "san marcos tx indie"
          ],
          [
           "sandalwood"
          ],
          [
           "sarod"
          ],
          [
           "saskatchewan indie"
          ],
          [
           "scam rap"
          ],
          [
           "scandinavian r&b"
          ],
          [
           "scandipop"
          ],
          [
           "schlager"
          ],
          [
           "scorecore"
          ],
          [
           "scottish electronic"
          ],
          [
           "scottish fiddle"
          ],
          [
           "scottish folk"
          ],
          [
           "scottish hip hop"
          ],
          [
           "scottish indie"
          ],
          [
           "scottish jazz"
          ],
          [
           "scottish metal"
          ],
          [
           "scottish new wave"
          ],
          [
           "scottish rock"
          ],
          [
           "scottish singer-songwriter"
          ],
          [
           "scratch"
          ],
          [
           "scream rap"
          ],
          [
           "screamo"
          ],
          [
           "seattle hip hop"
          ],
          [
           "seattle indie"
          ],
          [
           "second line"
          ],
          [
           "sefardi"
          ],
          [
           "serbian electronic"
          ],
          [
           "serialism"
          ],
          [
           "sertanejo"
          ],
          [
           "sertanejo pop"
          ],
          [
           "sertanejo tradicional"
          ],
          [
           "sertanejo universitario"
          ],
          [
           "sevdah"
          ],
          [
           "sevillanas"
          ],
          [
           "shaabi"
          ],
          [
           "shabad"
          ],
          [
           "shakuhachi"
          ],
          [
           "shamanic"
          ],
          [
           "shanty"
          ],
          [
           "sheffield indie"
          ],
          [
           "shibuya-kei"
          ],
          [
           "shimmer pop"
          ],
          [
           "shimmer psych"
          ],
          [
           "shiver pop"
          ],
          [
           "shoegaze"
          ],
          [
           "show tunes"
          ],
          [
           "shred"
          ],
          [
           "shush"
          ],
          [
           "sierreno"
          ],
          [
           "singaporean mandopop"
          ],
          [
           "singaporean pop"
          ],
          [
           "singaporean singer-songwriter"
          ],
          [
           "singer-songwriter"
          ],
          [
           "singing bowl"
          ],
          [
           "sitar"
          ],
          [
           "ska"
          ],
          [
           "ska argentino"
          ],
          [
           "ska chileno"
          ],
          [
           "ska jazz"
          ],
          [
           "ska mexicano"
          ],
          [
           "ska punk"
          ],
          [
           "ska revival"
          ],
          [
           "skate punk"
          ],
          [
           "skiffle"
          ],
          [
           "skramz"
          ],
          [
           "sky room"
          ],
          [
           "slack-key guitar"
          ],
          [
           "slam poetry"
          ],
          [
           "slamming deathcore"
          ],
          [
           "slavic folk metal"
          ],
          [
           "slayer"
          ],
          [
           "slc indie"
          ],
          [
           "sleaze rock"
          ],
          [
           "sleep"
          ],
          [
           "slovak electronic"
          ],
          [
           "slovenian electronic"
          ],
          [
           "slovenian metal"
          ],
          [
           "slow game"
          ],
          [
           "slowcore"
          ],
          [
           "sludge metal"
          ],
          [
           "small room"
          ],
          [
           "smooth jazz"
          ],
          [
           "smooth saxophone"
          ],
          [
           "smooth soul"
          ],
          [
           "soca"
          ],
          [
           "socal pop punk"
          ],
          [
           "social media pop"
          ],
          [
           "soda pop"
          ],
          [
           "soft rock"
          ],
          [
           "solipsynthm"
          ],
          [
           "son cubano"
          ],
          [
           "son cubano clasico"
          ],
          [
           "son jarocho"
          ],
          [
           "sophisti-pop"
          ],
          [
           "sotalaulut"
          ],
          [
           "soukous"
          ],
          [
           "soul"
          ],
          [
           "soul blues"
          ],
          [
           "soul flow"
          ],
          [
           "soul jazz"
          ],
          [
           "souldies"
          ],
          [
           "sound"
          ],
          [
           "sound art"
          ],
          [
           "sound effects"
          ],
          [
           "sound team"
          ],
          [
           "soundtrack"
          ],
          [
           "south african alternative"
          ],
          [
           "south african choral"
          ],
          [
           "south african country"
          ],
          [
           "south african hip hop"
          ],
          [
           "south african house"
          ],
          [
           "south african jazz"
          ],
          [
           "south african pop"
          ],
          [
           "south african pop dance"
          ],
          [
           "south african rock"
          ],
          [
           "south carolina hip hop"
          ],
          [
           "south carolina indie"
          ],
          [
           "south carolina metal"
          ],
          [
           "south dakota indie"
          ],
          [
           "southampton indie"
          ],
          [
           "southern americana"
          ],
          [
           "southern gospel"
          ],
          [
           "southern hip hop"
          ],
          [
           "southern metal"
          ],
          [
           "southern rock"
          ],
          [
           "southern soul"
          ],
          [
           "southern soul blues"
          ],
          [
           "soviet synthpop"
          ],
          [
           "sovietwave"
          ],
          [
           "spa"
          ],
          [
           "space age pop"
          ],
          [
           "space ambient"
          ],
          [
           "space rock"
          ],
          [
           "spanish baroque"
          ],
          [
           "spanish classical"
          ],
          [
           "spanish classical piano"
          ],
          [
           "spanish folk metal"
          ],
          [
           "spanish hip hop"
          ],
          [
           "spanish indie pop"
          ],
          [
           "spanish invasion"
          ],
          [
           "spanish metal"
          ],
          [
           "spanish modern rock"
          ],
          [
           "spanish new wave"
          ],
          [
           "spanish noise pop"
          ],
          [
           "spanish pop"
          ],
          [
           "spanish pop rock"
          ],
          [
           "spanish renaissance"
          ],
          [
           "spanish rock"
          ],
          [
           "spanish synthpop"
          ],
          [
           "spanish techno"
          ],
          [
           "speed garage"
          ],
          [
           "speed metal"
          ],
          [
           "speedcore"
          ],
          [
           "spiritual hip hop"
          ],
          [
           "spiritual jazz"
          ],
          [
           "spirituals"
          ],
          [
           "springfield mo indie"
          ],
          [
           "spytrack"
          ],
          [
           "st louis rap"
          ],
          [
           "steampunk"
          ],
          [
           "steel guitar"
          ],
          [
           "steelpan"
          ],
          [
           "stl indie"
          ],
          [
           "stomp and flutter"
          ],
          [
           "stomp and holler"
          ],
          [
           "stomp and whittle"
          ],
          [
           "stomp pop"
          ],
          [
           "stoner metal"
          ],
          [
           "stoner rock"
          ],
          [
           "straight edge"
          ],
          [
           "straight-ahead jazz"
          ],
          [
           "street band"
          ],
          [
           "street punk"
          ],
          [
           "streichquartett"
          ],
          [
           "stride"
          ],
          [
           "string band"
          ],
          [
           "string folk"
          ],
          [
           "string orchestra"
          ],
          [
           "string quartet"
          ],
          [
           "strut"
          ],
          [
           "substep"
          ],
          [
           "sudanese pop"
          ],
          [
           "sufi"
          ],
          [
           "sufi chant"
          ],
          [
           "sunshine pop"
          ],
          [
           "supergroup"
          ],
          [
           "surf music"
          ],
          [
           "surf punk"
          ],
          [
           "svensk progg"
          ],
          [
           "swamp blues"
          ],
          [
           "swamp pop"
          ],
          [
           "swamp rock"
          ],
          [
           "swancore"
          ],
          [
           "swedish alternative rock"
          ],
          [
           "swedish americana"
          ],
          [
           "swedish black metal"
          ],
          [
           "swedish choir"
          ],
          [
           "swedish country"
          ],
          [
           "swedish dancehall"
          ],
          [
           "swedish death metal"
          ],
          [
           "swedish doom metal"
          ],
          [
           "swedish electronic"
          ],
          [
           "swedish electropop"
          ],
          [
           "swedish eurodance"
          ],
          [
           "swedish garage rock"
          ],
          [
           "swedish hard rock"
          ],
          [
           "swedish hardcore"
          ],
          [
           "swedish heavy metal"
          ],
          [
           "swedish house"
          ],
          [
           "swedish idol pop"
          ],
          [
           "swedish indie folk"
          ],
          [
           "swedish indie pop"
          ],
          [
           "swedish indie rock"
          ],
          [
           "swedish jazz"
          ],
          [
           "swedish jazz orkester"
          ],
          [
           "swedish melodic rock"
          ],
          [
           "swedish metal"
          ],
          [
           "swedish metalcore"
          ],
          [
           "swedish pop"
          ],
          [
           "swedish post-hardcore"
          ],
          [
           "swedish power metal"
          ],
          [
           "swedish prog"
          ],
          [
           "swedish progressive metal"
          ],
          [
           "swedish rock-and-roll"
          ],
          [
           "swedish singer-songwriter"
          ],
          [
           "swedish soul"
          ],
          [
           "swedish stoner rock"
          ],
          [
           "swedish synth"
          ],
          [
           "swedish synthpop"
          ],
          [
           "swedish tropical house"
          ],
          [
           "swedish underground rap"
          ],
          [
           "swing"
          ],
          [
           "swing italiano"
          ],
          [
           "swing revival"
          ],
          [
           "swiss black metal"
          ],
          [
           "swiss classical piano"
          ],
          [
           "swiss country"
          ],
          [
           "swiss metal"
          ],
          [
           "swiss pop"
          ],
          [
           "swiss rock"
          ],
          [
           "swiss worship"
          ],
          [
           "sydney indie"
          ],
          [
           "symphonic black metal"
          ],
          [
           "symphonic metal"
          ],
          [
           "symphonic rock"
          ],
          [
           "synth funk"
          ],
          [
           "synthpop"
          ],
          [
           "synthwave"
          ],
          [
           "syrian pop"
          ],
          [
           "tabla"
          ],
          [
           "tagalog rap"
          ],
          [
           "tagalog worship"
          ],
          [
           "taiwan campus folk"
          ],
          [
           "taiwan classical performance"
          ],
          [
           "taiwan hip hop"
          ],
          [
           "taiwan indie"
          ],
          [
           "taiwan pop"
          ],
          [
           "taiwan singer-songwriter"
          ],
          [
           "tajik pop"
          ],
          [
           "talent show"
          ],
          [
           "tamaulipas indie"
          ],
          [
           "tamaulipas rap"
          ],
          [
           "tamborazo"
          ],
          [
           "tamil hip hop"
          ],
          [
           "tamil pop"
          ],
          [
           "tamil worship"
          ],
          [
           "tampa indie"
          ],
          [
           "tango"
          ],
          [
           "tango cancion"
          ],
          [
           "tape club"
          ],
          [
           "tech house"
          ],
          [
           "technical death metal"
          ],
          [
           "technical deathcore"
          ],
          [
           "technical groove metal"
          ],
          [
           "technical melodic death metal"
          ],
          [
           "technical thrash"
          ],
          [
           "techno"
          ],
          [
           "techno kayo"
          ],
          [
           "tecnobanda"
          ],
          [
           "teen pop"
          ],
          [
           "tejano"
          ],
          [
           "tempe indie"
          ],
          [
           "tennessee hip hop"
          ],
          [
           "tennessee metal"
          ],
          [
           "tex-mex"
          ],
          [
           "texas blues"
          ],
          [
           "texas country"
          ],
          [
           "texas latin rap"
          ],
          [
           "texas pop punk"
          ],
          [
           "texas punk"
          ],
          [
           "thai folk"
          ],
          [
           "thai folk rock"
          ],
          [
           "thai idol"
          ],
          [
           "thai indie rock"
          ],
          [
           "thai pop"
          ],
          [
           "thall"
          ],
          [
           "theme"
          ],
          [
           "theremin"
          ],
          [
           "thrash core"
          ],
          [
           "thrash metal"
          ],
          [
           "timba"
          ],
          [
           "tin pan alley"
          ],
          [
           "tipico"
          ],
          [
           "tolkien metal"
          ],
          [
           "tollywood"
          ],
          [
           "tone"
          ],
          [
           "torch song"
          ],
          [
           "toronto indie"
          ],
          [
           "toronto rap"
          ],
          [
           "trad jazz catala"
          ],
          [
           "traditional bluegrass"
          ],
          [
           "traditional blues"
          ],
          [
           "traditional british folk"
          ],
          [
           "traditional country"
          ],
          [
           "traditional folk"
          ],
          [
           "traditional funk"
          ],
          [
           "traditional rockabilly"
          ],
          [
           "traditional ska"
          ],
          [
           "traditional soul"
          ],
          [
           "trance"
          ],
          [
           "trance mexicano"
          ],
          [
           "trancecore"
          ],
          [
           "transpop"
          ],
          [
           "trap"
          ],
          [
           "trap argentino"
          ],
          [
           "trap chileno"
          ],
          [
           "trap dominicano"
          ],
          [
           "trap latino"
          ],
          [
           "trap mexicano"
          ],
          [
           "trap queen"
          ],
          [
           "trap soul"
          ],
          [
           "trap triste"
          ],
          [
           "trap venezolano"
          ],
          [
           "traprun"
          ],
          [
           "trash rock"
          ],
          [
           "triangle indie"
          ],
          [
           "tribal house"
          ],
          [
           "trinidadian reggae"
          ],
          [
           "trio cubano"
          ],
          [
           "trip hop"
          ],
          [
           "trival"
          ],
          [
           "tropical"
          ],
          [
           "tropical house"
          ],
          [
           "tropicalia"
          ],
          [
           "trova"
          ],
          [
           "trova mexicana"
          ],
          [
           "truck-driving country"
          ],
          [
           "tuareg guitar"
          ],
          [
           "tucson indie"
          ],
          [
           "tulsa indie"
          ],
          [
           "tuna estudiantil"
          ],
          [
           "tunisian pop"
          ],
          [
           "turbo folk"
          ],
          [
           "turkish classical"
          ],
          [
           "turkish classical performance"
          ],
          [
           "turkish edm"
          ],
          [
           "turkish experimental"
          ],
          [
           "turkish folk"
          ],
          [
           "turkish jazz"
          ],
          [
           "turkish modern jazz"
          ],
          [
           "turkish pop"
          ],
          [
           "turkish psych"
          ],
          [
           "turkish trap"
          ],
          [
           "turkish trap pop"
          ],
          [
           "turntablism"
          ],
          [
           "twee pop"
          ],
          [
           "twoubadou"
          ],
          [
           "tzadik"
          ],
          [
           "ugandan pop"
          ],
          [
           "uilleann pipes"
          ],
          [
           "uk alternative hip hop"
          ],
          [
           "uk alternative pop"
          ],
          [
           "uk americana"
          ],
          [
           "uk contemporary jazz"
          ],
          [
           "uk contemporary r&b"
          ],
          [
           "uk dance"
          ],
          [
           "uk dancehall"
          ],
          [
           "uk diy punk"
          ],
          [
           "uk dnb"
          ],
          [
           "uk doom metal"
          ],
          [
           "uk dub"
          ],
          [
           "uk experimental electronic"
          ],
          [
           "uk funky"
          ],
          [
           "uk garage"
          ],
          [
           "uk hip hop"
          ],
          [
           "uk house"
          ],
          [
           "uk metalcore"
          ],
          [
           "uk noise rock"
          ],
          [
           "uk pop"
          ],
          [
           "uk pop punk"
          ],
          [
           "uk post-hardcore"
          ],
          [
           "uk post-punk"
          ],
          [
           "uk reggae"
          ],
          [
           "uk rockabilly"
          ],
          [
           "uk stoner rock"
          ],
          [
           "uk worship"
          ],
          [
           "uk82"
          ],
          [
           "ukrainian choir"
          ],
          [
           "ukrainian classical"
          ],
          [
           "ukrainian classical piano"
          ],
          [
           "ukrainian electronic"
          ],
          [
           "ukrainian pop"
          ],
          [
           "ukulele"
          ],
          [
           "umbanda"
          ],
          [
           "underground hip hop"
          ],
          [
           "underground power pop"
          ],
          [
           "underground rap"
          ],
          [
           "university choir"
          ],
          [
           "uplifting trance"
          ],
          [
           "uptempo hardcore"
          ],
          [
           "urban contemporary"
          ],
          [
           "urbano espanol"
          ],
          [
           "us power metal"
          ],
          [
           "utah indie"
          ],
          [
           "uzbek pop"
          ],
          [
           "uzbek traditional"
          ],
          [
           "v-pop"
          ],
          [
           "vallenato"
          ],
          [
           "vallenato moderno"
          ],
          [
           "vancouver indie"
          ],
          [
           "vancouver metal"
          ],
          [
           "vancouver punk"
          ],
          [
           "vapor pop"
          ],
          [
           "vapor soul"
          ],
          [
           "vapor trap"
          ],
          [
           "vapor twitch"
          ],
          [
           "vaporwave"
          ],
          [
           "variete francaise"
          ],
          [
           "vaudeville"
          ],
          [
           "vbs"
          ],
          [
           "veena"
          ],
          [
           "vegan straight edge"
          ],
          [
           "vegas indie"
          ],
          [
           "velha guarda"
          ],
          [
           "venezuelan hip hop"
          ],
          [
           "venezuelan indie"
          ],
          [
           "venezuelan rock"
          ],
          [
           "veracruz indie"
          ],
          [
           "vermont indie"
          ],
          [
           "vgm instrumental"
          ],
          [
           "vgm remix"
          ],
          [
           "victoria bc indie"
          ],
          [
           "victorian britain"
          ],
          [
           "video game music"
          ],
          [
           "vienna indie"
          ],
          [
           "vietnamese bolero"
          ],
          [
           "vietnamese pop"
          ],
          [
           "viking black metal"
          ],
          [
           "viking folk"
          ],
          [
           "viking metal"
          ],
          [
           "villancicos"
          ],
          [
           "vintage chanson"
          ],
          [
           "vintage chinese pop"
          ],
          [
           "vintage classical singing"
          ],
          [
           "vintage country folk"
          ],
          [
           "vintage dutch pop"
          ],
          [
           "vintage french electronic"
          ],
          [
           "vintage gospel"
          ],
          [
           "vintage hollywood"
          ],
          [
           "vintage italian pop"
          ],
          [
           "vintage italian soundtrack"
          ],
          [
           "vintage jazz"
          ],
          [
           "vintage old-time"
          ],
          [
           "vintage rockabilly"
          ],
          [
           "vintage schlager"
          ],
          [
           "vintage spanish pop"
          ],
          [
           "vintage swedish pop"
          ],
          [
           "vintage swing"
          ],
          [
           "vintage tango"
          ],
          [
           "viola"
          ],
          [
           "violao"
          ],
          [
           "violao classico"
          ],
          [
           "violin"
          ],
          [
           "viral pop"
          ],
          [
           "viral rap"
          ],
          [
           "viral trap"
          ],
          [
           "virgin islands reggae"
          ],
          [
           "virginia hip hop"
          ],
          [
           "virginia metal"
          ],
          [
           "virginia punk"
          ],
          [
           "visor"
          ],
          [
           "visual kei"
          ],
          [
           "vocal ensemble"
          ],
          [
           "vocal harmony group"
          ],
          [
           "vocal house"
          ],
          [
           "vocal jazz"
          ],
          [
           "vocal trance"
          ],
          [
           "vocaloid"
          ],
          [
           "vogue"
          ],
          [
           "volksmusik"
          ],
          [
           "warm drone"
          ],
          [
           "washboard"
          ],
          [
           "washington indie"
          ],
          [
           "wassoulou"
          ],
          [
           "water"
          ],
          [
           "wave"
          ],
          [
           "welsh folk"
          ],
          [
           "welsh indie"
          ],
          [
           "welsh metal"
          ],
          [
           "welsh rock"
          ],
          [
           "west african jazz"
          ],
          [
           "west australian hip hop"
          ],
          [
           "west coast rap"
          ],
          [
           "west coast reggae"
          ],
          [
           "west coast trap"
          ],
          [
           "west end"
          ],
          [
           "west virginia indie"
          ],
          [
           "western americana"
          ],
          [
           "western mass indie"
          ],
          [
           "western saharan folk"
          ],
          [
           "western swing"
          ],
          [
           "white noise"
          ],
          [
           "wind ensemble"
          ],
          [
           "wind quintet"
          ],
          [
           "wisconsin indie"
          ],
          [
           "witch house"
          ],
          [
           "women's choir"
          ],
          [
           "women's music"
          ],
          [
           "wonky"
          ],
          [
           "worcester ma indie"
          ],
          [
           "world"
          ],
          [
           "world fusion"
          ],
          [
           "world meditation"
          ],
          [
           "world worship"
          ],
          [
           "worship"
          ],
          [
           "wrestling"
          ],
          [
           "wu fam"
          ],
          [
           "wyoming indie"
          ],
          [
           "wyoming roots"
          ],
          [
           "xhosa"
          ],
          [
           "xtra raw"
          ],
          [
           "yacht rock"
          ],
          [
           "ye ye"
          ],
          [
           "yiddish folk"
          ],
          [
           "yodeling"
          ],
          [
           "yoga"
          ],
          [
           "yoik"
          ],
          [
           "york indie"
          ],
          [
           "yorkshire folk"
          ],
          [
           "yugoslav new wave"
          ],
          [
           "yugoslav rock"
          ],
          [
           "zambian pop"
          ],
          [
           "zeuhl"
          ],
          [
           "zhongguo feng"
          ],
          [
           "zimdancehall"
          ],
          [
           "zolo"
          ],
          [
           "zouglou"
          ],
          [
           "zouk"
          ],
          [
           "zurich indie"
          ],
          [
           "zydeco"
          ]
         ],
         "hovertemplate": "x=%{x}<br>y=%{y}<br>genres=%{customdata[0]}<br>cluster_pca=%{marker.color}<extra></extra>",
         "legendgroup": "",
         "marker": {
          "color": [
           4,
           4,
           3,
           3,
           3,
           1,
           3,
           0,
           3,
           3,
           2,
           3,
           0,
           4,
           3,
           3,
           0,
           3,
           2,
           2,
           3,
           3,
           0,
           1,
           2,
           0,
           0,
           4,
           0,
           0,
           0,
           0,
           0,
           3,
           0,
           2,
           3,
           0,
           2,
           0,
           2,
           0,
           0,
           0,
           1,
           0,
           0,
           2,
           0,
           2,
           0,
           2,
           3,
           2,
           2,
           0,
           2,
           2,
           0,
           0,
           2,
           2,
           0,
           4,
           2,
           1,
           2,
           2,
           3,
           4,
           3,
           1,
           4,
           4,
           4,
           4,
           4,
           1,
           2,
           1,
           3,
           4,
           1,
           4,
           4,
           2,
           3,
           2,
           4,
           3,
           2,
           0,
           0,
           2,
           3,
           2,
           2,
           3,
           1,
           0,
           3,
           1,
           3,
           3,
           2,
           1,
           1,
           1,
           0,
           2,
           0,
           3,
           0,
           0,
           0,
           0,
           0,
           2,
           3,
           0,
           2,
           4,
           2,
           0,
           3,
           1,
           0,
           3,
           0,
           4,
           2,
           0,
           0,
           0,
           2,
           0,
           4,
           2,
           0,
           2,
           0,
           2,
           2,
           1,
           2,
           0,
           0,
           0,
           2,
           0,
           4,
           3,
           1,
           1,
           4,
           3,
           2,
           2,
           0,
           0,
           2,
           2,
           2,
           2,
           0,
           2,
           2,
           0,
           0,
           2,
           2,
           3,
           2,
           0,
           0,
           2,
           0,
           0,
           0,
           4,
           4,
           4,
           2,
           1,
           0,
           3,
           2,
           4,
           1,
           2,
           0,
           1,
           0,
           0,
           0,
           0,
           4,
           1,
           1,
           3,
           3,
           0,
           3,
           3,
           3,
           2,
           3,
           4,
           1,
           1,
           4,
           0,
           2,
           0,
           0,
           0,
           1,
           3,
           1,
           1,
           3,
           4,
           0,
           3,
           1,
           1,
           1,
           4,
           4,
           1,
           3,
           4,
           1,
           3,
           0,
           2,
           2,
           0,
           0,
           2,
           0,
           0,
           0,
           0,
           2,
           0,
           0,
           3,
           3,
           3,
           0,
           0,
           1,
           3,
           0,
           2,
           2,
           2,
           4,
           1,
           2,
           0,
           0,
           2,
           2,
           1,
           2,
           0,
           2,
           3,
           2,
           3,
           1,
           0,
           0,
           2,
           4,
           1,
           0,
           4,
           1,
           2,
           2,
           4,
           4,
           0,
           0,
           2,
           2,
           2,
           3,
           2,
           0,
           2,
           2,
           1,
           2,
           3,
           1,
           3,
           3,
           2,
           2,
           0,
           0,
           3,
           3,
           3,
           0,
           3,
           0,
           0,
           3,
           3,
           3,
           0,
           0,
           0,
           2,
           0,
           0,
           0,
           0,
           1,
           1,
           0,
           0,
           4,
           4,
           1,
           3,
           4,
           4,
           3,
           1,
           4,
           4,
           0,
           2,
           0,
           3,
           1,
           2,
           1,
           3,
           0,
           0,
           0,
           0,
           3,
           2,
           2,
           0,
           3,
           4,
           0,
           3,
           2,
           2,
           2,
           0,
           2,
           2,
           3,
           0,
           4,
           4,
           3,
           4,
           1,
           2,
           2,
           1,
           2,
           0,
           3,
           3,
           2,
           4,
           4,
           2,
           2,
           1,
           0,
           4,
           2,
           3,
           3,
           0,
           0,
           0,
           2,
           2,
           0,
           2,
           0,
           0,
           3,
           3,
           0,
           2,
           4,
           1,
           1,
           3,
           2,
           1,
           0,
           2,
           0,
           1,
           3,
           0,
           4,
           2,
           0,
           1,
           0,
           0,
           0,
           3,
           4,
           4,
           4,
           3,
           0,
           3,
           3,
           2,
           0,
           4,
           3,
           2,
           0,
           2,
           0,
           3,
           3,
           0,
           0,
           2,
           2,
           2,
           0,
           0,
           2,
           4,
           3,
           0,
           2,
           3,
           3,
           4,
           3,
           0,
           0,
           3,
           2,
           1,
           3,
           3,
           1,
           1,
           2,
           3,
           3,
           0,
           1,
           1,
           1,
           0,
           4,
           4,
           4,
           2,
           0,
           1,
           3,
           4,
           2,
           0,
           0,
           3,
           4,
           3,
           4,
           1,
           3,
           4,
           3,
           2,
           0,
           0,
           3,
           3,
           0,
           2,
           3,
           0,
           0,
           2,
           3,
           3,
           0,
           2,
           0,
           0,
           2,
           0,
           0,
           3,
           2,
           0,
           0,
           0,
           1,
           3,
           3,
           3,
           0,
           3,
           2,
           0,
           2,
           4,
           3,
           2,
           3,
           3,
           3,
           2,
           2,
           3,
           4,
           4,
           4,
           2,
           2,
           0,
           3,
           2,
           4,
           3,
           2,
           4,
           4,
           1,
           0,
           4,
           3,
           2,
           1,
           3,
           2,
           0,
           2,
           0,
           0,
           2,
           2,
           2,
           2,
           2,
           2,
           0,
           1,
           0,
           0,
           2,
           1,
           3,
           0,
           0,
           0,
           2,
           0,
           2,
           0,
           1,
           3,
           0,
           0,
           3,
           0,
           3,
           3,
           3,
           1,
           3,
           2,
           1,
           3,
           0,
           0,
           3,
           3,
           2,
           2,
           2,
           3,
           3,
           1,
           3,
           2,
           1,
           1,
           1,
           3,
           0,
           3,
           3,
           3,
           3,
           3,
           1,
           2,
           3,
           0,
           3,
           2,
           3,
           3,
           4,
           3,
           0,
           0,
           3,
           3,
           3,
           4,
           2,
           4,
           4,
           4,
           4,
           4,
           4,
           4,
           4,
           4,
           4,
           4,
           1,
           4,
           4,
           4,
           4,
           4,
           4,
           4,
           1,
           4,
           4,
           1,
           1,
           1,
           3,
           2,
           0,
           0,
           0,
           0,
           0,
           0,
           0,
           3,
           0,
           3,
           0,
           2,
           3,
           2,
           4,
           0,
           4,
           2,
           2,
           0,
           4,
           4,
           4,
           0,
           3,
           2,
           1,
           1,
           1,
           4,
           1,
           3,
           3,
           2,
           0,
           0,
           0,
           2,
           3,
           4,
           0,
           3,
           3,
           0,
           3,
           0,
           0,
           0,
           3,
           3,
           3,
           0,
           0,
           1,
           0,
           0,
           2,
           0,
           2,
           0,
           3,
           0,
           3,
           0,
           0,
           0,
           0,
           0,
           0,
           0,
           0,
           0,
           3,
           0,
           3,
           0,
           0,
           0,
           0,
           2,
           0,
           1,
           4,
           4,
           1,
           2,
           1,
           0,
           0,
           0,
           0,
           2,
           0,
           2,
           0,
           4,
           2,
           4,
           0,
           4,
           2,
           0,
           1,
           2,
           0,
           2,
           2,
           3,
           0,
           1,
           0,
           0,
           2,
           0,
           2,
           4,
           2,
           2,
           2,
           0,
           2,
           2,
           2,
           2,
           2,
           2,
           2,
           2,
           0,
           2,
           2,
           2,
           2,
           0,
           3,
           2,
           2,
           3,
           3,
           3,
           3,
           0,
           1,
           0,
           0,
           2,
           0,
           0,
           0,
           3,
           0,
           2,
           0,
           0,
           2,
           0,
           0,
           1,
           3,
           2,
           3,
           3,
           2,
           2,
           3,
           3,
           0,
           0,
           1,
           2,
           2,
           2,
           0,
           0,
           0,
           0,
           3,
           3,
           2,
           4,
           3,
           0,
           1,
           0,
           2,
           2,
           0,
           0,
           2,
           3,
           0,
           0,
           0,
           0,
           1,
           0,
           2,
           0,
           3,
           2,
           0,
           0,
           2,
           0,
           1,
           3,
           3,
           0,
           1,
           2,
           1,
           0,
           0,
           0,
           0,
           3,
           0,
           3,
           2,
           2,
           0,
           0,
           0,
           3,
           2,
           2,
           2,
           1,
           2,
           2,
           2,
           2,
           4,
           0,
           2,
           4,
           1,
           2,
           2,
           0,
           2,
           0,
           1,
           2,
           2,
           4,
           0,
           3,
           3,
           2,
           0,
           2,
           2,
           1,
           4,
           2,
           2,
           0,
           3,
           0,
           2,
           1,
           4,
           2,
           0,
           2,
           0,
           3,
           2,
           0,
           3,
           1,
           4,
           4,
           4,
           4,
           3,
           4,
           0,
           0,
           0,
           0,
           2,
           1,
           0,
           3,
           2,
           4,
           3,
           0,
           2,
           0,
           0,
           1,
           2,
           2,
           1,
           3,
           0,
           0,
           0,
           0,
           0,
           2,
           3,
           2,
           0,
           2,
           0,
           0,
           2,
           0,
           0,
           0,
           2,
           2,
           2,
           0,
           2,
           4,
           2,
           4,
           3,
           3,
           4,
           2,
           2,
           1,
           0,
           4,
           2,
           3,
           0,
           2,
           2,
           3,
           4,
           1,
           2,
           0,
           2,
           0,
           0,
           0,
           0,
           0,
           1,
           1,
           4,
           1,
           0,
           0,
           4,
           2,
           0,
           2,
           1,
           2,
           2,
           1,
           3,
           3,
           1,
           2,
           0,
           3,
           0,
           2,
           2,
           4,
           2,
           4,
           4,
           2,
           2,
           2,
           0,
           2,
           2,
           0,
           3,
           3,
           4,
           0,
           2,
           2,
           0,
           2,
           1,
           4,
           3,
           2,
           0,
           0,
           3,
           3,
           1,
           1,
           3,
           3,
           2,
           0,
           3,
           3,
           3,
           3,
           0,
           1,
           3,
           0,
           3,
           0,
           1,
           2,
           0,
           3,
           3,
           2,
           4,
           0,
           3,
           3,
           2,
           1,
           1,
           0,
           1,
           4,
           3,
           2,
           2,
           0,
           2,
           3,
           2,
           1,
           2,
           3,
           4,
           4,
           3,
           0,
           2,
           0,
           0,
           4,
           2,
           1,
           0,
           2,
           2,
           2,
           0,
           2,
           3,
           1,
           0,
           0,
           2,
           2,
           3,
           0,
           0,
           0,
           0,
           2,
           2,
           0,
           2,
           0,
           2,
           0,
           0,
           2,
           3,
           2,
           2,
           0,
           1,
           4,
           2,
           2,
           0,
           0,
           0,
           2,
           2,
           2,
           2,
           0,
           2,
           2,
           3,
           0,
           2,
           2,
           4,
           1,
           4,
           3,
           0,
           2,
           2,
           0,
           0,
           1,
           3,
           2,
           2,
           4,
           4,
           0,
           0,
           0,
           2,
           0,
           4,
           2,
           4,
           1,
           1,
           0,
           2,
           2,
           0,
           0,
           3,
           1,
           2,
           0,
           2,
           2,
           0,
           0,
           2,
           2,
           2,
           0,
           0,
           2,
           2,
           1,
           3,
           3,
           3,
           0,
           3,
           3,
           2,
           2,
           2,
           0,
           0,
           2,
           2,
           2,
           2,
           2,
           0,
           0,
           2,
           1,
           1,
           1,
           1,
           2,
           1,
           3,
           3,
           1,
           0,
           2,
           2,
           2,
           0,
           2,
           2,
           0,
           0,
           0,
           0,
           0,
           2,
           3,
           2,
           1,
           4,
           3,
           3,
           3,
           4,
           2,
           1,
           3,
           3,
           1,
           0,
           3,
           0,
           4,
           3,
           0,
           4,
           2,
           2,
           1,
           2,
           2,
           3,
           2,
           0,
           2,
           2,
           2,
           0,
           1,
           3,
           1,
           4,
           4,
           1,
           4,
           3,
           0,
           0,
           4,
           0,
           0,
           3,
           2,
           0,
           1,
           4,
           1,
           0,
           0,
           0,
           0,
           0,
           4,
           4,
           4,
           4,
           4,
           4,
           1,
           3,
           3,
           3,
           0,
           3,
           3,
           3,
           1,
           0,
           2,
           1,
           0,
           0,
           0,
           0,
           0,
           1,
           3,
           4,
           4,
           4,
           4,
           2,
           1,
           1,
           1,
           2,
           2,
           0,
           0,
           4,
           2,
           1,
           1,
           1,
           3,
           2,
           2,
           2,
           2,
           2,
           3,
           3,
           4,
           1,
           0,
           0,
           4,
           0,
           1,
           1,
           0,
           3,
           3,
           3,
           2,
           1,
           0,
           3,
           2,
           2,
           3,
           3,
           0,
           0,
           0,
           3,
           2,
           3,
           0,
           2,
           2,
           0,
           2,
           3,
           0,
           2,
           3,
           3,
           0,
           0,
           2,
           2,
           0,
           4,
           2,
           3,
           0,
           2,
           2,
           2,
           1,
           3,
           3,
           0,
           2,
           2,
           2,
           2,
           3,
           2,
           0,
           1,
           3,
           0,
           1,
           3,
           1,
           3,
           2,
           3,
           3,
           0,
           1,
           2,
           0,
           3,
           2,
           1,
           3,
           3,
           1,
           1,
           4,
           1,
           0,
           2,
           0,
           3,
           3,
           0,
           3,
           1,
           4,
           1,
           1,
           2,
           4,
           4,
           2,
           0,
           2,
           2,
           0,
           4,
           1,
           1,
           2,
           1,
           2,
           4,
           4,
           3,
           2,
           1,
           2,
           4,
           1,
           1,
           1,
           2,
           1,
           1,
           0,
           0,
           2,
           4,
           0,
           2,
           0,
           2,
           2,
           0,
           0,
           2,
           0,
           0,
           2,
           2,
           0,
           3,
           0,
           0,
           2,
           3,
           0,
           4,
           4,
           4,
           4,
           2,
           4,
           0,
           2,
           1,
           3,
           0,
           2,
           2,
           4,
           3,
           0,
           1,
           1,
           2,
           2,
           2,
           2,
           2,
           2,
           2,
           2,
           0,
           2,
           2,
           0,
           0,
           0,
           2,
           4,
           1,
           3,
           3,
           1,
           1,
           3,
           0,
           1,
           3,
           1,
           3,
           3,
           1,
           1,
           1,
           3,
           1,
           1,
           1,
           2,
           1,
           1,
           3,
           1,
           3,
           1,
           0,
           2,
           1,
           1,
           1,
           1,
           1,
           3,
           1,
           1,
           2,
           4,
           0,
           3,
           0,
           3,
           3,
           3,
           0,
           3,
           2,
           3,
           0,
           0,
           0,
           0,
           1,
           1,
           0,
           1,
           0,
           1,
           0,
           2,
           3,
           2,
           2,
           0,
           3,
           0,
           1,
           0,
           0,
           1,
           1,
           0,
           0,
           3,
           0,
           4,
           0,
           3,
           3,
           3,
           0,
           1,
           1,
           4,
           3,
           1,
           4,
           4,
           2,
           0,
           0,
           0,
           0,
           4,
           4,
           3,
           0,
           0,
           1,
           0,
           3,
           2,
           2,
           4,
           0,
           0,
           0,
           4,
           0,
           2,
           1,
           0,
           0,
           0,
           3,
           2,
           0,
           0,
           0,
           1,
           0,
           0,
           0,
           2,
           0,
           0,
           0,
           0,
           1,
           1,
           3,
           3,
           2,
           0,
           0,
           1,
           2,
           4,
           3,
           2,
           2,
           3,
           2,
           1,
           0,
           2,
           3,
           3,
           3,
           1,
           2,
           1,
           1,
           1,
           0,
           3,
           2,
           2,
           2,
           1,
           3,
           0,
           1,
           1,
           1,
           3,
           0,
           1,
           1,
           0,
           3,
           2,
           3,
           2,
           2,
           3,
           4,
           2,
           3,
           0,
           2,
           3,
           3,
           3,
           3,
           3,
           3,
           1,
           0,
           1,
           1,
           3,
           0,
           0,
           2,
           0,
           2,
           2,
           2,
           4,
           1,
           2,
           4,
           3,
           0,
           0,
           0,
           3,
           2,
           2,
           2,
           2,
           2,
           2,
           2,
           2,
           2,
           0,
           2,
           0,
           3,
           3,
           0,
           2,
           3,
           3,
           0,
           0,
           3,
           1,
           2,
           2,
           2,
           2,
           2,
           3,
           4,
           0,
           0,
           0,
           0,
           0,
           3,
           0,
           3,
           0,
           0,
           3,
           0,
           0,
           1,
           4,
           4,
           1,
           1,
           2,
           2,
           3,
           0,
           3,
           4,
           3,
           2,
           0,
           1,
           2,
           4,
           0,
           2,
           2,
           0,
           0,
           0,
           3,
           4,
           2,
           0,
           0,
           2,
           3,
           2,
           3,
           0,
           2,
           0,
           3,
           0,
           3,
           4,
           1,
           0,
           4,
           2,
           0,
           0,
           0,
           0,
           0,
           0,
           4,
           2,
           0,
           4,
           0,
           3,
           3,
           3,
           3,
           0,
           4,
           0,
           3,
           3,
           3,
           1,
           3,
           3,
           1,
           3,
           0,
           3,
           3,
           0,
           4,
           2,
           0,
           0,
           3,
           0,
           3,
           4,
           1,
           0,
           3,
           3,
           3,
           3,
           3,
           3,
           3,
           1,
           3,
           0,
           3,
           3,
           0,
           3,
           3,
           3,
           0,
           2,
           3,
           2,
           2,
           3,
           4,
           1,
           1,
           3,
           2,
           0,
           0,
           3,
           0,
           0,
           3,
           3,
           1,
           3,
           4,
           0,
           4,
           1,
           2,
           0,
           2,
           1,
           3,
           0,
           0,
           4,
           1,
           1,
           2,
           2,
           0,
           3,
           2,
           2,
           3,
           3,
           1,
           4,
           2,
           0,
           2,
           3,
           3,
           2,
           2,
           2,
           0,
           2,
           4,
           4,
           3,
           0,
           3,
           3,
           2,
           0,
           4,
           0,
           2,
           2,
           2,
           0,
           3,
           3,
           0,
           0,
           3,
           0,
           2,
           0,
           2,
           0,
           2,
           0,
           3,
           2,
           0,
           4,
           2,
           0,
           0,
           0,
           0,
           2,
           2,
           2,
           3,
           3,
           2,
           2,
           2,
           2,
           4,
           4,
           2,
           0,
           4,
           2,
           4,
           1,
           2,
           0,
           0,
           2,
           0,
           3,
           2,
           3,
           2,
           0,
           2,
           3,
           2,
           1,
           4,
           1,
           2,
           4,
           0,
           0,
           4,
           2,
           2,
           2,
           2,
           2,
           2,
           2,
           2,
           3,
           3,
           3,
           0,
           3,
           4,
           0,
           2,
           3,
           2,
           2,
           0,
           2,
           1,
           3,
           3,
           3,
           3,
           3,
           0,
           1,
           3,
           2,
           2,
           0,
           0,
           0,
           2,
           4,
           3,
           0,
           3,
           0,
           0,
           2,
           3,
           0,
           0,
           2,
           0,
           4,
           0,
           3,
           2,
           0,
           2,
           0,
           3,
           0,
           0,
           0,
           2,
           0,
           2,
           3,
           1,
           3,
           2,
           0,
           0,
           4,
           1,
           2,
           1,
           1,
           3,
           1,
           4,
           4,
           2,
           4,
           2,
           2,
           2,
           1,
           1,
           3,
           3,
           4,
           0,
           0,
           0,
           0,
           0,
           1,
           0,
           3,
           3,
           4,
           4,
           2,
           0,
           2,
           3,
           0,
           0,
           3,
           0,
           3,
           1,
           2,
           0,
           0,
           4,
           1,
           0,
           0,
           0,
           1,
           0,
           0,
           3,
           1,
           2,
           0,
           0,
           1,
           2,
           0,
           3,
           0,
           0,
           3,
           3,
           4,
           3,
           2,
           4,
           3,
           0,
           2,
           2,
           2,
           3,
           3,
           2,
           3,
           3,
           0,
           0,
           0,
           0,
           0,
           2,
           1,
           1,
           3,
           4,
           4,
           4,
           1,
           4,
           3,
           2,
           3,
           3,
           0,
           3,
           0,
           0,
           4,
           0,
           0,
           0,
           2,
           0,
           0,
           0,
           0,
           0,
           1,
           0,
           0,
           3,
           0,
           0,
           3,
           0,
           0,
           0,
           0,
           0,
           3,
           0,
           0,
           3,
           0,
           0,
           4,
           2,
           1,
           0,
           3,
           3,
           2,
           2,
           4,
           0,
           0,
           2,
           2,
           2,
           2,
           4,
           2,
           2,
           3,
           4,
           4,
           2,
           0,
           2,
           0,
           2,
           0,
           2,
           4,
           3,
           1,
           3,
           3,
           2,
           2,
           2,
           2,
           2,
           2,
           2,
           2,
           2,
           2,
           2,
           2,
           2,
           2,
           2,
           3,
           2,
           0,
           1,
           3,
           2,
           2,
           2,
           1,
           3,
           0,
           3,
           2,
           3,
           3,
           2,
           2,
           0,
           0,
           3,
           0,
           0,
           1,
           0,
           0,
           0,
           2,
           0,
           0,
           2,
           0,
           0,
           1,
           1,
           4,
           2,
           2,
           0,
           0,
           0,
           3,
           3,
           0,
           0,
           1,
           4,
           1,
           1,
           3,
           0,
           0,
           0,
           0,
           2,
           0,
           0,
           0,
           2,
           0,
           1,
           0,
           0,
           3,
           2,
           2,
           3,
           2,
           0,
           1,
           3,
           0,
           0,
           0,
           0,
           0,
           0,
           0,
           0,
           2,
           0,
           0,
           0,
           3,
           4,
           0,
           2,
           0,
           3,
           0,
           3,
           0,
           2,
           0,
           0,
           2,
           0,
           2,
           3,
           3,
           0,
           0,
           0,
           2,
           2,
           2,
           0,
           0,
           2,
           3,
           2,
           3,
           0,
           3,
           2,
           3,
           2,
           3,
           3,
           3,
           3,
           4,
           0,
           4,
           0,
           1,
           3,
           3,
           0,
           3,
           2,
           1,
           3,
           3,
           1,
           2,
           2,
           3,
           4,
           4,
           2,
           2,
           3,
           3,
           3,
           2,
           2,
           4,
           4,
           0,
           2,
           3,
           3,
           4,
           2,
           2,
           0,
           4,
           1,
           0,
           2,
           0,
           0,
           0,
           0,
           0,
           0,
           3,
           0,
           0,
           3,
           3,
           1,
           3,
           0,
           3,
           3,
           0,
           2,
           0,
           3,
           1,
           4,
           3,
           0,
           3,
           0,
           3,
           1,
           0,
           1,
           1,
           0,
           2,
           1,
           0,
           0,
           0,
           0,
           0,
           0,
           2,
           0,
           2,
           0,
           0,
           3,
           4,
           3,
           3,
           3,
           3,
           3,
           3,
           0,
           1,
           4,
           4,
           3,
           2,
           3,
           0,
           3,
           2,
           2,
           3,
           2,
           4,
           0,
           3,
           3,
           2,
           3,
           4,
           1,
           0,
           0,
           0,
           0,
           0,
           0,
           0,
           0,
           3,
           1,
           2,
           1,
           0,
           2,
           2,
           2,
           2,
           2,
           4,
           2,
           0,
           2,
           0,
           1,
           2,
           3,
           3,
           2,
           3,
           0,
           0,
           0,
           3,
           3,
           0,
           3,
           3,
           3,
           0,
           3,
           3,
           3,
           3,
           0,
           1,
           3,
           4,
           4,
           4,
           0,
           4,
           0,
           1,
           0,
           0,
           0,
           3,
           0,
           0,
           2,
           0,
           3,
           2,
           2,
           2,
           0,
           3,
           0,
           2,
           0,
           3,
           0,
           0,
           2,
           4,
           1,
           4,
           2,
           1,
           1,
           4,
           2,
           0,
           3,
           3,
           2,
           2,
           0,
           2,
           0,
           0,
           4,
           0,
           0,
           2,
           0,
           2,
           3,
           0,
           1,
           1,
           3,
           1,
           0,
           0,
           1,
           3,
           0,
           3,
           3,
           3,
           0,
           2,
           2,
           2,
           1,
           0,
           2,
           4,
           1,
           3,
           4,
           4,
           4,
           0,
           2,
           2,
           3,
           3,
           3,
           2,
           3,
           2,
           2,
           3,
           3,
           3,
           2,
           0,
           3,
           2,
           4,
           0,
           0,
           2,
           2,
           3,
           0,
           2,
           0,
           2,
           2,
           3,
           3,
           2,
           3,
           2,
           0,
           1,
           1,
           0,
           2,
           2,
           0,
           2,
           2,
           2,
           2,
           0,
           3,
           3,
           1,
           1,
           2,
           2,
           0,
           1,
           3,
           2,
           2,
           4,
           4,
           2,
           0,
           2,
           1,
           1,
           2,
           2,
           2,
           0,
           0,
           2,
           1,
           1,
           3,
           1,
           3,
           4,
           1,
           3,
           3,
           3,
           3,
           0,
           0,
           0,
           0,
           3,
           3,
           3,
           0,
           1,
           3,
           2,
           2,
           2,
           3,
           2,
           2,
           2,
           2,
           0,
           0,
           0,
           0,
           0,
           0,
           2,
           0,
           3,
           0,
           0,
           0,
           0,
           3,
           0,
           3,
           3,
           0,
           2,
           1,
           4,
           2,
           2,
           3,
           1,
           3,
           2,
           3,
           4,
           1,
           3,
           0,
           3,
           3,
           3,
           3,
           3,
           3,
           3,
           0,
           0,
           0,
           2,
           2,
           2,
           0,
           0,
           0,
           0,
           2,
           0,
           0,
           0,
           0,
           0,
           0,
           2,
           0,
           2,
           0,
           3,
           3,
           2,
           0,
           0,
           0,
           3,
           3,
           3,
           3,
           1,
           0,
           0,
           3,
           0,
           0,
           1,
           4,
           0,
           2,
           1,
           1,
           1,
           3,
           3,
           2,
           3,
           0,
           0,
           3,
           4,
           3,
           1,
           0,
           0,
           3,
           3,
           0,
           0,
           0,
           2,
           2,
           2,
           0,
           2,
           0,
           0,
           0,
           0,
           2,
           0,
           0,
           0,
           2,
           2,
           0,
           0,
           2,
           2,
           2,
           4,
           4,
           4,
           2,
           0,
           1,
           3,
           0,
           0,
           0,
           4,
           2,
           2,
           0,
           0,
           2,
           1,
           3,
           1,
           0,
           0,
           0,
           3,
           2,
           2,
           0,
           0,
           0,
           2,
           2,
           3,
           3,
           0,
           1,
           2,
           2,
           3,
           0,
           0,
           0,
           0,
           3,
           4,
           2,
           3,
           4,
           1,
           2,
           0,
           0,
           2,
           2,
           2,
           3,
           1,
           3,
           1,
           1,
           1,
           2,
           1,
           1,
           1,
           1,
           3,
           1,
           0,
           1,
           3,
           1,
           3,
           1,
           4,
           1,
           1,
           4,
           0,
           0,
           0,
           0,
           0,
           2,
           2,
           1,
           2,
           4,
           3,
           0,
           1,
           2,
           2,
           0,
           3,
           4,
           3,
           0,
           3,
           4,
           0,
           4,
           0,
           2,
           2,
           3,
           0,
           0,
           0,
           0,
           3,
           0,
           3,
           0,
           1,
           3,
           4,
           4,
           4,
           1,
           2,
           2,
           3,
           3,
           0,
           3,
           1,
           4,
           2,
           2,
           0,
           0,
           0,
           3,
           3,
           2,
           3,
           3,
           1,
           3,
           4,
           1,
           3,
           2,
           0,
           0,
           3,
           2,
           0,
           0,
           0,
           0,
           3,
           3,
           0
          ],
          "coloraxis": "coloraxis",
          "symbol": "circle"
         },
         "mode": "markers",
         "name": "",
         "showlegend": false,
         "type": "scattergl",
         "x": [
          2.507095366888567,
          -0.5969679056633482,
          -4.158460276223561,
          -2.387344878512217,
          -2.6501218371679087,
          -1.4965091203367626,
          -3.9235207721573238,
          -4.611011109831115,
          -2.8376900630842297,
          -2.706690139892783,
          -4.698331383924287,
          -3.3759874966798677,
          -5.608998877066022,
          0.2954946352117687,
          -2.5725591062870423,
          -3.4008228020493454,
          -4.366720316263419,
          -2.7254698167724003,
          -4.958112358381605,
          -3.693495184642272,
          -2.3116694418123536,
          -2.495395657404454,
          -4.335204546066737,
          -0.8581261952412629,
          -3.976028924238297,
          -5.083763521257526,
          -4.48595403067371,
          0.36498631174507185,
          -5.762650418249874,
          -4.461581953701338,
          -4.355809968981685,
          -6.838183840880273,
          -4.969952623213382,
          -3.6966381473909795,
          -4.008367421260786,
          -4.4774522853432925,
          -3.6220271054307758,
          -5.166996866893572,
          -4.62450853756,
          -4.094376775037353,
          -4.996851545459158,
          -4.831127188307811,
          -5.07437357476468,
          -5.357393360658257,
          -2.429946001962236,
          -4.887231662299937,
          -6.21615375607806,
          -4.163869190777452,
          -4.375036628841874,
          -5.599767532123392,
          -5.4619811863655725,
          -3.519957322909866,
          -3.6204113100304607,
          -4.676610464893098,
          -4.637370719586301,
          -4.947145009921959,
          -4.733113028608392,
          -4.32334176269361,
          -5.389012884269637,
          -4.390929602508024,
          -4.257141936578433,
          -3.8920417103992206,
          -4.474045603322585,
          -0.03564668626936118,
          -2.6509692493824097,
          -2.421662233131127,
          -4.3668672123134575,
          -2.779708277978587,
          -3.7419753219175487,
          0.33814549144289474,
          -3.982518746079752,
          -2.160263461592075,
          3.0029150110808405,
          -0.0009516320766092407,
          1.4669983004410683,
          1.0609572922651898,
          0.039780192230368286,
          -1.6016331166980315,
          -5.5675531236461335,
          -0.5331485662766944,
          -3.5448030234143606,
          0.9711272284928159,
          -1.7703769070944417,
          -0.7395042605426246,
          0.5209250413365906,
          -2.866156046253303,
          -2.871968223910234,
          -5.279645004711658,
          1.0291789116112413,
          -4.377158579368759,
          -5.031744778414796,
          -5.511231694364841,
          -5.766675169822017,
          -3.6435406232886614,
          -3.159049325413295,
          -4.868831761471575,
          -4.10116409594273,
          -3.477195156012232,
          -1.5990958889805784,
          -5.239411621447389,
          -2.4314667400074312,
          -0.6953023105880032,
          -2.6923311718757086,
          -3.6126852664722944,
          -3.685806120963241,
          -2.424119614455952,
          -0.7136369992880733,
          -2.018921711202299,
          -4.960902282393411,
          -5.365459829043066,
          -5.669147898712025,
          -3.3910329224898,
          -6.356489884022958,
          -5.020802365381241,
          -5.474149167955979,
          -4.395937273679969,
          -5.416156485201284,
          -5.4510940000802135,
          -3.655292989739507,
          -5.848503594454404,
          -2.696375201390061,
          1.8389479816672225,
          -3.524869498071137,
          -4.453460637157531,
          -3.409523717407892,
          0.016530789525486006,
          -4.53266022633462,
          -2.9354656588906525,
          -4.9706020621239535,
          0.12044630634047979,
          -4.093198004385115,
          -5.180573565451175,
          -5.1848379400111195,
          -4.936559229000648,
          -4.967088763105221,
          -5.636330198004944,
          1.358458693439083,
          -2.6509692493824097,
          -5.106582918541897,
          -2.937560628364969,
          -6.286669742229687,
          -2.937560628364969,
          -4.809947216418683,
          -1.4286529503452645,
          -4.544608053998073,
          -4.170522899634582,
          -3.964554434745603,
          -4.365917517240916,
          -2.7711854679591195,
          -4.68312734939045,
          1.966284234283824,
          -4.362526544371579,
          0.2773104041300488,
          -0.46134586721458837,
          0.8849562536756832,
          -3.690008208567064,
          -5.172272706957577,
          -4.659823012157896,
          -5.135314495049288,
          -5.3342801875903625,
          -4.9344102338899365,
          -4.587087603302852,
          -3.7164788636762878,
          -5.232941861870434,
          -4.731894014724026,
          -5.300488664539027,
          -5.067803166998767,
          -4.519917869892383,
          -4.6782932787412035,
          -3.2174138757686603,
          -4.5022653351326145,
          -3.224442360833283,
          -3.8286939252236163,
          -4.7116311154809205,
          -4.425356430088934,
          -5.434488870130996,
          -4.319352209262777,
          -5.876405281719774,
          -4.915924675571274,
          0.7552729690724667,
          1.50933744880908,
          0.677259763210725,
          -3.0724451435244595,
          -0.12381872765175378,
          -5.5816721043152375,
          -3.2868770341463955,
          -2.9508344190331197,
          1.0268855352482111,
          -1.0143491733515169,
          -4.42053485606079,
          -4.874750389574627,
          -1.7470956688023873,
          -5.58926623661982,
          -5.072186632913587,
          -5.296075026246495,
          -5.040469361309859,
          1.324747846973458,
          -1.2258733070031844,
          -1.5615222080638942,
          -3.116858077568782,
          -3.2014724225829165,
          -6.709173792299383,
          -2.359686239463037,
          -2.7475318323657865,
          -3.387955520451975,
          -4.290745205699504,
          -3.4121818567614075,
          1.9047522511957313,
          -0.38314160117598867,
          -1.2903305172216462,
          1.9936982177279898,
          -5.226399747343382,
          -4.208080874908135,
          -5.260693077645068,
          -4.993674381634953,
          -4.70745790401461,
          -1.0499997192695054,
          -3.079569838734042,
          -2.2226183013420355,
          -1.2203146342931455,
          -3.2211884216477515,
          1.4379764850645291,
          -5.268243552446845,
          -2.3180624610756535,
          -2.0879310710183105,
          -1.0776978254838006,
          -0.7376015859331271,
          0.44103347150320515,
          0.22908122597425645,
          -0.26469656442862577,
          -3.7399871144587142,
          0.7815949189192121,
          -0.7085965402183602,
          -2.619643894064793,
          -4.998642597822329,
          -3.4930248142852713,
          -5.142156944896055,
          -5.589370432328704,
          -5.679213360730012,
          -4.874814364623997,
          -4.746220620329249,
          -5.303656805669686,
          -5.397706155769295,
          -5.540413038613183,
          -4.323928693083358,
          -4.611826604475927,
          -5.298959958840356,
          -2.623288784233845,
          -3.8252063543871437,
          -1.9463773522784669,
          -4.878376252693534,
          -4.301388295273469,
          -1.3059593961903275,
          -3.8711022135512514,
          -4.3009222975768795,
          -5.003620123683098,
          -5.9826168604540335,
          -5.9826168604540335,
          1.5479874885491285,
          -1.24398942101353,
          -5.636155381081918,
          -5.336876109351062,
          -5.0219877728286155,
          -3.7935979776030986,
          -4.313004672085262,
          -1.0119859039440264,
          -3.7764102523029255,
          -5.480102211955439,
          -2.9433561651313034,
          -3.160704089220984,
          -3.0819565682828034,
          -3.5548550741859644,
          -1.1479852284255312,
          -4.7319936873602035,
          -4.84663471237035,
          -3.6794051659536335,
          -0.39011057377505204,
          -1.8472403308838503,
          -5.081373388023605,
          0.8111654380108625,
          -1.7032308919698473,
          -4.3257548672885955,
          -5.433275344863524,
          2.8603911303144955,
          -0.8493508806653165,
          -5.447659673088959,
          -7.258821944217092,
          -3.7692427735119476,
          -5.096045147230372,
          -4.205265850416263,
          -4.414457971186545,
          -3.7593017533596043,
          -5.4236833937439535,
          -3.4580955228897103,
          -4.205265850416263,
          -1.607333808110783,
          -4.5779976861136555,
          -3.3510383947869364,
          -1.9749914191270936,
          -3.5168252176041968,
          -2.9479966210869595,
          -5.277892329505016,
          -4.7827763982525395,
          -3.9728294765367873,
          -5.305879583452745,
          -2.9250122502399294,
          -2.9022539865487307,
          -3.87823300820943,
          -4.671223879279335,
          -2.1557547454665436,
          -5.216368108986172,
          -5.573243006322628,
          -2.7809316351081894,
          -2.961249985794188,
          -2.6520409120222226,
          -4.6073104738216495,
          -5.35688781057248,
          -5.049992322047183,
          -5.115399605075391,
          -4.598872518209746,
          -4.209407083974348,
          -5.803977257683214,
          -6.029259199808786,
          -1.8434805942046442,
          -2.0480569768526937,
          -4.531233318424353,
          -5.309331648059134,
          2.632443938305858,
          2.8603911303144955,
          -1.5440931518366792,
          -2.880787975086605,
          0.3471841680891877,
          1.516441597455553,
          -4.091065378163481,
          -0.48310504877477256,
          1.7346181179693396,
          0.37610254345864846,
          -5.358885409827924,
          -4.499791983308139,
          -5.776816937942182,
          -3.542775847250604,
          -2.242908712400632,
          -4.499791983308139,
          -1.8166813089926366,
          -3.5793288184807874,
          -5.311333348587723,
          -4.939953572730317,
          -4.689726107532756,
          -5.008431077966906,
          -4.362026179533311,
          -4.499791983308139,
          -4.93819268732955,
          -6.104547771849927,
          -3.5718776123150318,
          0.1160271756059886,
          -4.14127071610155,
          -3.490820786227076,
          -4.638263426182965,
          -2.606795855239269,
          -4.088334243063862,
          -4.1930703052245715,
          -4.237877656565584,
          -3.985440313317706,
          -3.646245710264779,
          -5.367270476876653,
          0.8000023440276722,
          2.4087870996662906,
          -4.1203415824351195,
          0.9243825157830222,
          -1.044362474390141,
          -3.369540621833744,
          -2.965802325678387,
          -2.301463708947319,
          -3.464749867798587,
          -4.558722382095479,
          -2.9256692844524532,
          -3.978979888035598,
          -2.4660411835955207,
          0.685667300972365,
          0.5890842810718218,
          -2.027300654578943,
          -5.356453832314641,
          -1.9969673721481427,
          -4.623022539796002,
          -0.014704796368303887,
          -4.590718340151951,
          -2.8693997584287003,
          -3.651833637995643,
          -5.222039622474023,
          -5.488965981982545,
          -4.568722940006777,
          -5.109077878903732,
          -3.442712938470484,
          -4.3952227725711275,
          -4.760209365185644,
          -3.9516863623338065,
          -5.944115097565752,
          -4.007030775796919,
          -4.141346740083334,
          -4.235040577070814,
          -4.1423893475062465,
          3.520290007140836,
          -0.20847281151330682,
          -1.797343248997765,
          -2.900234299379548,
          -4.165296690640272,
          -1.3597591089839507,
          -4.1402495857993715,
          -4.721382856095985,
          -4.893320685847,
          -0.4985242644110148,
          -2.578800570945362,
          -4.730274716410626,
          0.3447890996386128,
          -2.57781039432783,
          -4.936677661583595,
          -1.9060962224877744,
          -4.306741492000387,
          -4.5755229589624475,
          -4.5211411025498505,
          -3.048558485946873,
          0.8003691815266412,
          0.7286450158475098,
          2.5295820405351224,
          -2.6332916433932976,
          -4.636458308457667,
          -3.2291785247648397,
          -3.6319483291784556,
          -4.66524959945803,
          -4.571542112053316,
          -0.6007925132264493,
          -2.4689843706643324,
          -4.381758856949218,
          -5.093168316038868,
          -3.6697252251196324,
          -4.063426182281965,
          -2.4552097181689643,
          -3.3539218517277845,
          -5.343777967524715,
          -5.541091738343573,
          -4.3358736260382456,
          -5.010343311437334,
          -3.68968774218352,
          -4.222179718247739,
          -5.431617706907924,
          -4.689391098619315,
          -0.5411064925841844,
          -3.068893349766219,
          -5.112262836439746,
          -4.871939884951021,
          -4.422108286109046,
          -3.072477000751603,
          -0.775924977478867,
          -3.49028539810741,
          -5.085511385078381,
          -4.00846937056542,
          -3.380205588103116,
          -2.50487959197724,
          -2.247151886645403,
          -3.0820396167414517,
          -3.0443768610094657,
          -1.9603050579640657,
          -1.0318430229710445,
          -3.6517750916958027,
          -3.088578270288629,
          -3.699026595688223,
          -5.717824790756596,
          -2.1018119725961,
          -1.7015146220905506,
          -2.0854102079694483,
          -4.651707641315454,
          1.6939194491283107,
          0.10723865587762357,
          2.910073553207363,
          -4.097694126450038,
          -5.671069135062737,
          -1.1595906839733503,
          -2.5888877559186274,
          0.16288970979966416,
          -5.41425187902357,
          -5.259642562888531,
          -4.324450886690381,
          -2.6978394576529268,
          1.446700021992907,
          -2.2597517447722693,
          1.474710015242291,
          -0.8715622148008767,
          -3.4964739334061408,
          0.8278449894773965,
          -3.194891981068719,
          -3.514390066873269,
          -5.2458209318173905,
          -4.92444302609093,
          -3.467686898066688,
          -3.0665099341798063,
          -4.596767791276208,
          -4.481039761543774,
          -3.4868780914586197,
          -4.804537034307059,
          -4.787846835690025,
          -4.7163747262292,
          -2.5000595107119383,
          -2.9576319466569174,
          -5.116408928813566,
          -4.822831802007798,
          -4.856270742441845,
          -4.474225505228202,
          -4.272086153850531,
          -5.198069170900639,
          -5.040568172803403,
          -3.627856866199046,
          -4.700122327507659,
          -4.7154530905915975,
          -4.459891228537544,
          -4.631579739874836,
          -1.9123093475484065,
          -3.618155617631954,
          -4.106258371307422,
          -2.859821339179236,
          -5.494732724948322,
          -3.7277604620878027,
          -4.192597025394803,
          -5.074680544250715,
          -3.702148078857279,
          1.2101458762435873,
          -3.0934283196353594,
          -2.5201920104186297,
          -3.632560800537991,
          -4.153277336389335,
          -3.30336936566976,
          -4.629426921159562,
          -4.121959854008619,
          -2.5301398370655246,
          0.2872158357371561,
          1.5819667819421053,
          2.48228627229359,
          -5.890281119389613,
          -3.508937028680893,
          -5.325227338416165,
          -3.647067683979801,
          -4.423621871271554,
          0.37842671462430805,
          -3.4158857775550984,
          -3.773500533943223,
          0.2872158357371561,
          -0.35286940798317246,
          -1.4783923804812245,
          -5.348505149495168,
          0.5696208110952876,
          -2.5548324843242445,
          -3.1739315701153905,
          -1.7609805114929824,
          -2.5893021896448682,
          -4.329991151760641,
          -6.193498403665639,
          -5.300161104398192,
          -5.19699567838375,
          -5.603871295004517,
          -3.7902697006002133,
          -4.665414042206029,
          -4.869171480300018,
          -3.7219737865395714,
          -4.478666313635377,
          -4.154497469317394,
          -5.330193589863844,
          -0.7541191507312452,
          -5.220236312649483,
          -5.2535246444755925,
          -2.907897483520666,
          -0.4695360083243747,
          -2.4374474977768372,
          -5.057689462518137,
          -4.518860794243656,
          -5.586706586028741,
          -4.0803470825041375,
          -6.279395007687545,
          -3.4809022501658275,
          -4.504513318903443,
          -1.78946394363431,
          -2.9158297831715783,
          -4.780599055416052,
          -5.902966725775285,
          -2.298388264010188,
          -4.425777106667889,
          -2.783845541560215,
          -3.6666117411792336,
          -3.3989140554706694,
          -1.2604043445656625,
          -3.0378779773755413,
          -4.414390450282922,
          -1.118104937068118,
          -4.488909192879654,
          -5.801862068626825,
          -4.144080052449221,
          -3.7338319088685568,
          -2.5098647652729396,
          -4.7399009080566215,
          -2.9157976543050306,
          -3.85151312722362,
          -4.286367421673874,
          -3.1042652476901287,
          -0.7888462993849774,
          -2.8466059184174544,
          -4.035854854183508,
          -1.9395529797502686,
          -1.6963378999408474,
          -0.9267441278960803,
          -2.8968839739983037,
          -4.754339132750697,
          -2.749485520770626,
          -2.3865400095562235,
          -3.0444694820911358,
          -4.097268659955898,
          -3.5355476836694177,
          -1.786403616086995,
          -3.020259405258462,
          -4.223428699242665,
          -3.984179230059826,
          -2.4999880926043665,
          -4.411701358732394,
          -2.975653932559821,
          -3.682713421339936,
          -0.22843299225337488,
          -3.8458043819394514,
          -5.03497132475887,
          -4.4390885321106595,
          -3.052190481189034,
          -3.867410610122529,
          -4.046500838965876,
          0.8248058624948278,
          -3.451658557238681,
          0.1637009987234193,
          0.46257972164728306,
          1.5411798079640031,
          1.086625674829683,
          0.7182401184620442,
          0.5394359984857351,
          0.45709536217501134,
          0.8062778060401217,
          1.455535661211978,
          1.5386334982995338,
          2.1477374134183598,
          -1.8760680425303387,
          0.46772953120038085,
          0.8049479570560898,
          0.3947723352899138,
          0.9487355300885292,
          2.0119781136278974,
          2.213276714380289,
          1.5773978571030807,
          -1.7940798303370655,
          0.31143870814433616,
          0.05874278495664761,
          -0.19890676055654802,
          -1.902453998265859,
          -1.6782365330449949,
          -4.002170954068779,
          -4.828528204518565,
          -4.84557739029975,
          -5.248420341715813,
          -4.531242013114131,
          -5.677570681866043,
          -5.356641584400979,
          -4.7934576603527015,
          -5.383189545201895,
          -4.0581631482185045,
          -5.401442359913559,
          -2.9379756970317263,
          -4.55394265446748,
          -4.754952145222011,
          -3.125069049701706,
          -5.385986778002177,
          0.2059091546602765,
          -5.614863181498975,
          0.1625551761543156,
          -5.2165961848450415,
          -4.837497338351347,
          -4.850382195800599,
          3.0029150110808405,
          1.5845569613739274,
          1.9071597880601063,
          -4.882836520138859,
          -2.9326452141332098,
          -3.7478684810896756,
          -0.5815551177178864,
          -1.1439716441818535,
          -2.0368829651429454,
          0.9496615102823447,
          -1.2251520598573757,
          -2.5629779399923063,
          -2.7759699173339176,
          -4.566074715471028,
          -5.215559526971925,
          -5.646097399384991,
          -5.199103034467055,
          -4.00793886125039,
          -2.9928494811961213,
          -1.3946775984731687,
          -4.269798305657646,
          -2.231966338902742,
          -3.6301228690985274,
          -4.252731532645001,
          -2.872488148838626,
          -4.95635189639061,
          -5.265382620034631,
          -4.682811332369899,
          -3.7309945147346997,
          -2.214919234020492,
          -2.8898191849271515,
          -4.509753669139389,
          -5.425759816369545,
          -1.9563517697793886,
          -4.507667155328207,
          -4.507667155328207,
          -4.13020496024651,
          -5.463521192611305,
          -4.240167801189526,
          -5.277832502665982,
          -4.179588937784977,
          -6.087390122720602,
          -3.2054399474966244,
          -4.75128741401476,
          -5.014234048638946,
          -5.261913594496931,
          -5.697078755875922,
          -5.199994392898521,
          -4.866042929142367,
          -4.435992445699317,
          -5.176514458670336,
          -6.048521196660774,
          -2.2973910893929554,
          -6.566279086742133,
          -3.050525931446196,
          -5.206233183904521,
          -6.083294097221034,
          -5.283098451508422,
          -6.035102758105043,
          -3.662320442488738,
          -5.883626363510584,
          -1.9893805840003316,
          1.1020860666639345,
          1.2934925127099366,
          -0.8983178904420189,
          -4.619601171729456,
          -1.2849261527331555,
          -6.035447790142313,
          -4.614726617999254,
          -5.047674147000941,
          -4.432268477927295,
          -4.861104602765764,
          -5.385857673258033,
          -3.85151312722362,
          -5.462657541670718,
          1.0026296128392609,
          -4.570947640753806,
          -0.1704433750055469,
          -6.020805834332481,
          0.2147232514112749,
          -3.9015197767576772,
          -6.0081807230469835,
          -2.269089912841962,
          -3.4647147098887245,
          -5.93158383419309,
          -4.722169060873634,
          -3.4647147098887245,
          -3.582824894589332,
          -4.3151325798509905,
          -1.3167835112225488,
          -5.997505648928256,
          -4.638822889828936,
          -3.612300060091386,
          -5.10503428362798,
          -5.507077358588354,
          0.4856610103145273,
          -3.4798861417652325,
          -4.086857406436185,
          -2.9545880473115744,
          -4.986366356937068,
          -3.5812329212608325,
          -4.1181976611213305,
          -4.756704965000342,
          -3.9354030131285356,
          -3.2005908624580415,
          -3.789973763893769,
          -3.9926218793861254,
          -4.607691558097392,
          -4.2603486342547585,
          -3.122070627503431,
          -3.645988399696514,
          -4.316888610750551,
          -5.228677733606068,
          -4.914352931631225,
          -2.418571043995071,
          -5.286824427246124,
          -3.873254961732944,
          -2.4755380530983744,
          -4.162603146392043,
          -4.099430462263741,
          -3.881856347625257,
          -6.144095585194447,
          -0.581921496699923,
          -4.763773237180516,
          -4.125391173135178,
          -5.328598894410506,
          -5.771651924376855,
          -4.830071144967743,
          -5.940092897797539,
          -2.479938579342516,
          -5.145284841566116,
          -3.438574259298679,
          -5.234326054350179,
          -6.137820112532425,
          -3.810797871945181,
          -4.833520503096877,
          -4.429885582472353,
          -1.2638326913404572,
          -2.8613252476843805,
          -5.481277177541534,
          -2.1742028638623543,
          -2.694102746370725,
          -5.122281798412754,
          -3.900453875346066,
          -2.8735453023044295,
          -3.730777170883552,
          -4.976241346616066,
          -4.854153974935825,
          -0.86896085138937,
          -4.589141724216087,
          -2.748614695539069,
          -3.378886537510748,
          -4.864490298921746,
          -6.344080683499397,
          -4.555263514057513,
          -5.367075239901783,
          -2.6230832121971828,
          -3.8218692952891615,
          -2.5142568398314964,
          1.3604074848475967,
          -3.871495459804985,
          -5.403594061974566,
          -1.9542558893063093,
          -4.3456266816691285,
          -1.975874690090805,
          -3.0819565682828034,
          -4.843844100473679,
          -5.120730511775769,
          -4.233062020280249,
          -2.5756992651405644,
          -6.068863494408951,
          -4.703216856439864,
          -4.831512841577891,
          -4.2684921299649226,
          -2.1266511794793366,
          -4.588504990405025,
          -2.9052161436066317,
          -5.010731012483104,
          -3.944819916828052,
          -4.690261281349023,
          -5.438843235957077,
          -4.157586330768915,
          -3.5202328643501977,
          -5.603379602981405,
          -1.5361017025274686,
          -2.749599187972603,
          -3.0604613880451734,
          -5.447299793368607,
          -0.775333373268302,
          -5.224864881530179,
          -0.478509085630997,
          -5.343093784926085,
          -4.8221355512514155,
          -4.326036371876758,
          -5.602521689095736,
          -2.5127119139025162,
          -5.114809519284199,
          -2.109290820641772,
          -3.6845748062444565,
          -4.34325446526491,
          -4.98839329798998,
          -5.089356402436012,
          -6.422527823047502,
          -3.4391379709314296,
          -3.571269683371384,
          -4.149729757421123,
          -3.5690641816985567,
          -2.0696849216571374,
          -2.9393201153276833,
          -4.778824354378836,
          -3.405996087890587,
          -4.85748604709876,
          1.626570151294342,
          -5.155593902349451,
          -2.8891923073959633,
          0.20588500289839443,
          -1.1458508329366521,
          -2.3820604318720044,
          -4.329227741165605,
          -4.468602659609296,
          -2.7951179860847746,
          -5.614295592139431,
          -1.2987786025205201,
          -5.398808585238453,
          -2.660981895635546,
          1.8389479816672225,
          -4.137267018330001,
          -2.523266848888025,
          -3.472691218402444,
          -2.6509692493824097,
          -5.417431611611537,
          -2.8373273722285477,
          -4.793753860618808,
          -1.5874633124803954,
          2.694347541644301,
          -4.154003117738107,
          -5.482938814682312,
          -5.700374408271562,
          -1.9261155607635614,
          -6.193032503101146,
          -4.907105180380474,
          -1.8475229392411014,
          -0.1256357239327585,
          -4.356264487813293,
          -4.6557459022088725,
          -4.339617656297806,
          -6.545025178300857,
          -3.422689422176008,
          -4.780452710579942,
          -3.9555456823037596,
          -2.7512566814760193,
          -1.2839739296143313,
          0.7372064402967318,
          0.5772465663948538,
          0.3273043673454991,
          0.0201206751325226,
          -4.069831573840387,
          0.34204152804712257,
          -4.023897392410776,
          -4.984123563810715,
          -5.098869436357782,
          -4.787493323403344,
          -3.884211116999925,
          -1.493243277539585,
          -5.72980783530754,
          -2.7369450428588133,
          -4.185257665035357,
          0.11738641243122738,
          -2.58198679404491,
          -5.012963603313802,
          -5.106927380213162,
          -5.058155577083769,
          -5.920888510276411,
          -1.3697439954984865,
          -3.933033979500513,
          -4.274424727107669,
          -2.263372702976598,
          -3.6395232397297623,
          -4.728101279253779,
          -5.348122202476685,
          -4.134461089197963,
          -5.806149671563956,
          -4.4227304174698325,
          -4.285287186295224,
          -3.92806068017192,
          -5.1695803149497825,
          -5.456644034192491,
          -3.186884145545724,
          -5.118027966066807,
          -5.1889817169027594,
          -3.674370729735027,
          -5.261045168403487,
          -4.933707262323286,
          -5.632436210483634,
          -4.9353419563238194,
          -5.966576688209623,
          -4.540019050545231,
          -4.517710828142441,
          -4.2603783649845495,
          0.38376285838324364,
          -6.148575996349202,
          0.9462157315438928,
          -3.1200000016932625,
          -2.219449194230528,
          -0.5426544746061287,
          -3.6372797132666848,
          -2.9245474831961005,
          -1.4288880764143288,
          -4.923424244512809,
          0.7458479492063292,
          -3.810797871945181,
          -2.2601260787890425,
          -5.2899593420729145,
          -2.5988330978744885,
          -3.8653186929233496,
          -3.0505988180231776,
          0.1454693381942094,
          -1.0244326726960777,
          -3.5922668683891485,
          -4.548445383517872,
          -4.936802809963493,
          -5.78678555400678,
          -5.696362746223876,
          -5.2024990794702495,
          -6.793089563951315,
          -5.126729143982088,
          -1.8488224480148978,
          -2.5435426421945344,
          1.0977324858814612,
          -1.1210456910306248,
          -5.825429421963321,
          -4.161629185694354,
          -0.027016714798682978,
          -3.9704977155386105,
          -5.587428786414588,
          -3.2622093445532303,
          -1.4963613854954754,
          -3.5203608326870923,
          -2.9565660337992314,
          -1.295287452347179,
          -2.4492475126446847,
          -2.7586313738774018,
          -1.1938183336222896,
          -6.474588738644974,
          -5.937494710336558,
          -2.950779457025824,
          -4.908855366015952,
          -4.675501553325569,
          -3.0418097249603204,
          -0.14539284073557496,
          -4.420185900347077,
          1.8249084564044709,
          1.7208591715644768,
          -4.636641599483375,
          -4.254886294546545,
          -4.982451002542508,
          -5.208049340547015,
          -4.853474278683276,
          -4.667816532848699,
          -4.530602754994605,
          -3.299145791731494,
          -2.9759058050897464,
          1.1536474135470232,
          -4.488248247776679,
          -3.024846096596968,
          -4.262570133899523,
          -4.972449989725707,
          -1.7653172066627925,
          -2.1338411788065286,
          0.9386810855591465,
          -4.309184365608219,
          -3.1101228194596446,
          -5.321801057756419,
          -4.950374669078643,
          -2.9281846847141035,
          -3.028707682087715,
          -0.6860995979162757,
          -1.394130645896667,
          -3.46006698827588,
          -3.021500231410681,
          -5.012790730329964,
          -4.302083977373832,
          -3.5228576299969356,
          -3.5530610795724558,
          -3.6047335354937533,
          -2.677291445157894,
          -4.804537034307059,
          -0.898933347701744,
          -2.374707194862712,
          -5.152342486534294,
          -4.078213690732249,
          -4.4959567610938675,
          -0.9989670053064548,
          -3.580122150650551,
          -4.137394036090074,
          -4.2682453659703565,
          -4.32151688871885,
          -4.7550417724572895,
          0.0782595432011243,
          -5.124862706431653,
          -3.1514583193859522,
          -4.004089818380503,
          -3.3464757091845705,
          -0.3808698235061443,
          -1.0519420943851832,
          -4.895364897577281,
          -0.04175086650694083,
          1.9127508519448038,
          -2.2271220269484964,
          -4.235922681560476,
          -4.343130480483141,
          -5.301306808918394,
          -2.262598885622024,
          -3.7867701120171007,
          -3.987290579627767,
          -1.8614779604678542,
          -4.235922681560476,
          -2.4157647395040107,
          0.3630919034467594,
          0.4389848480639191,
          -3.3897598798176016,
          -6.637582724411297,
          -4.370743938458483,
          -4.897427465222973,
          -4.358902494160158,
          0.4898235895352589,
          -4.593089399335725,
          -1.184195254773256,
          -4.892972389663184,
          -4.985362598447731,
          -4.707391362887385,
          -3.727114230803121,
          -5.47371274381009,
          -4.785334341733039,
          -3.9715882212897253,
          -0.3640652327194156,
          -5.3085190337979125,
          -7.228250857391674,
          -4.907729250311827,
          -4.399798049257387,
          -2.5921144021458793,
          -6.092015874212501,
          -7.01730297053188,
          -4.551953759397357,
          -6.377573545540187,
          -4.141393135878721,
          -4.591009113275873,
          -4.7680904901348455,
          -3.8401489014499304,
          -5.46940076978846,
          -4.2101064269675055,
          -4.341790856689342,
          -5.109636700399982,
          -4.884818667988679,
          -3.524711084843193,
          -2.6639518863665717,
          -4.227186632132374,
          -5.225194811675762,
          -0.517457463987965,
          0.81091528179252,
          -6.053554653881899,
          -5.0770524315603245,
          -5.1702913747831385,
          -5.104919320169029,
          -5.156402389543295,
          -3.8600133645179966,
          -4.6959783276053,
          -3.804880939476899,
          -4.940104962055662,
          -4.9381666119177305,
          -4.336466298342861,
          -4.100524710067896,
          -3.117233417416843,
          -4.677918206987256,
          -3.6354092575017347,
          -4.653545722835439,
          0.6785104992383704,
          -0.13574527166672212,
          2.079749082499419,
          -3.204655521037828,
          -5.791377988341957,
          -4.077462853547392,
          -4.488881208015358,
          -5.614608760118284,
          -5.692720527277566,
          -0.7051172918374087,
          -1.7507527560980527,
          -4.41894180873093,
          -4.443780937950839,
          0.27885657588462615,
          0.4339303454858537,
          -4.324455832214127,
          -4.2603582438553085,
          -5.694321063432106,
          -4.870609615829718,
          -5.122215161451377,
          2.576845389354283,
          -4.232460168049193,
          0.4130262351967711,
          -0.7399558389346476,
          -1.012081188922969,
          -5.226459570463905,
          -3.5800478313800217,
          -5.325007034261342,
          -6.29186166610669,
          -5.615265795674222,
          -2.2535307623384067,
          -1.9737086436979416,
          -4.313004672085262,
          -5.220344337920116,
          -4.535110800796339,
          -4.858072771206414,
          -4.364012441384492,
          -4.4830557345409625,
          -3.338998862225137,
          -4.212667089846834,
          -3.3353568342063085,
          -5.227396989107789,
          -5.350666846401099,
          -3.575903965793243,
          -3.539345633633999,
          -1.5891877040009161,
          -2.494360082537378,
          -3.4583058906224102,
          -3.8853647228980055,
          -6.346058529873464,
          -3.205239510566666,
          -3.831781116405795,
          -4.2775748134845335,
          -3.9221219239847187,
          -4.846624917864416,
          -5.842447608795649,
          -4.899674600608699,
          -4.65648804780118,
          -4.7035644490952535,
          -3.794758948524115,
          -4.179681038056434,
          -4.860182191878128,
          -5.798985947696488,
          -4.958105244813524,
          -4.138111740379876,
          -1.707094790026559,
          -0.6323162787977235,
          -0.9870799948471694,
          -1.2567130007230316,
          -3.786404853424034,
          -0.5483311192090005,
          -2.9265630435061247,
          -2.222155423606389,
          -0.7055074528190611,
          -5.647667798558569,
          -2.6062387804488645,
          -3.618609352021566,
          -4.883667507433114,
          -4.590522991063139,
          -4.139786394071556,
          -5.4344700988692125,
          -4.5038231076686035,
          -4.723831950661722,
          -5.272084590420389,
          -4.749406861067513,
          -6.279395007687545,
          -4.600285823431294,
          -3.759190778407302,
          -2.8326805840425036,
          -0.19137434800106018,
          1.4526643031580624,
          -2.2295847280469525,
          -2.7983167545507195,
          -3.223362089761158,
          0.591714167891006,
          -5.371813078041048,
          -1.53585278188921,
          -2.1058321772291384,
          -4.068317881190739,
          -0.71376406196764,
          -6.234068938598194,
          -3.892277412088823,
          -5.861195596036839,
          0.07284517403271562,
          -3.1472290381715213,
          -5.560317624331781,
          -0.03431837298571011,
          -5.4306828061135635,
          -5.328398147264678,
          -1.4097980970328583,
          -3.5247268110828216,
          -4.339856238645671,
          -3.957644113848415,
          -4.620167718205895,
          -5.1383594996397495,
          -4.467089522388965,
          -4.750468753504579,
          -5.238289818198247,
          -5.271938190108606,
          -1.5573278549293856,
          -2.7181731860882783,
          -1.0119859039440264,
          0.03102119827726728,
          0.10396484179041846,
          -0.30530830907496553,
          0.8491175332864002,
          -2.5605426533285596,
          -4.563165260511398,
          -5.688874175455751,
          0.9739984094662115,
          -4.434732889716113,
          -5.0224014779347845,
          -4.015758322967013,
          -4.106421507153364,
          -5.223973148850005,
          -0.7148948460803652,
          -0.24422408037908777,
          -0.750222546739104,
          -5.0012980678994525,
          -6.279660904309779,
          -5.278865551365723,
          -4.914763291252145,
          -5.5038316013941335,
          1.3238622302459842,
          0.6304275922228109,
          1.0300052690825336,
          1.6777892468174105,
          0.4246416016274789,
          0.5686148002495635,
          -0.567657008063317,
          -2.4151122129799134,
          -2.8043987407198725,
          -3.3886192203771053,
          -6.657422152278722,
          -3.3397250564195673,
          -3.3397250564195673,
          -3.2401036538484536,
          -1.44508890485512,
          -5.033099752452501,
          -4.801263062342858,
          -1.5319015877051911,
          -5.473088176397871,
          -5.076005699895535,
          -5.367018244669418,
          -5.156589689720529,
          -4.690055553030444,
          -1.795781401998268,
          -4.488909192879654,
          1.1823871784169648,
          1.0307390995211023,
          1.8661900107890683,
          2.4358752451550703,
          -3.4216721719897203,
          -1.2915186406250363,
          -1.5258883378070602,
          -1.5258883378070602,
          -3.4216721719897203,
          -3.0601884689826333,
          -4.892400541684087,
          -4.970103813278423,
          0.8923656943521616,
          -3.0700006963512037,
          -1.0873548061116138,
          -2.4670201871666793,
          -2.2209903401175186,
          -3.67886134782922,
          -2.3945669745070237,
          -2.3185192300941546,
          -2.620029156383313,
          -3.9471553586136436,
          -6.120261052035171,
          -2.8738974160728614,
          -2.401543451547985,
          1.5559871817918736,
          -1.084148755680015,
          -4.871555260202178,
          -4.619126794253312,
          0.714376291259924,
          -4.383933266256465,
          -2.002077408304326,
          -1.7215431414422364,
          -5.3234303126546365,
          -2.9758304279265,
          -3.4398177271304022,
          -3.007553250898184,
          -3.040973154816765,
          -1.5437600888046843,
          -4.699899733332013,
          -3.2535707574673194,
          -3.641122201380098,
          -4.103178797141607,
          -4.338107541306485,
          -3.125550705031423,
          -4.158982960825912,
          -5.429426152547154,
          -4.933217915416116,
          -2.4547995911039013,
          -4.282851489602714,
          -3.4023836204629716,
          -4.457594375340027,
          -4.154060771107801,
          -5.954656129394102,
          -5.71366783642485,
          -3.722598321572564,
          -3.5241806979266816,
          -4.08122648630154,
          -4.641563913819932,
          -2.3484614964230244,
          -3.732428486265814,
          -4.805278856053794,
          -4.296117990903339,
          -3.85151312722362,
          -3.3812786929163674,
          -4.655342746651351,
          1.8986220803863185,
          -3.561764806109541,
          -3.8203397627760163,
          -5.501620450480898,
          -4.724533291656038,
          -4.237820872808139,
          -3.4284533316157426,
          -1.876712262766511,
          -2.587381473145469,
          -3.1867813163785264,
          -6.028464717725963,
          -4.627188529112983,
          -1.95355806471236,
          -4.148022235765709,
          -3.85107635865038,
          -2.856739782399886,
          -3.168899711498074,
          -4.450694105911223,
          -2.067183092256287,
          -4.572832792690343,
          -4.703738075212048,
          -0.8370947811031595,
          -3.5024836423812826,
          -0.5592419765276524,
          -3.3280195457197226,
          -1.9025509124639846,
          -2.5985491231802413,
          -2.957690610083949,
          -4.67735541357781,
          -0.5246486569484538,
          -3.8666100423499987,
          -4.363120501129793,
          -3.6322819450822017,
          -3.839518709903117,
          -1.8786285609206612,
          -4.488909192879654,
          -2.5859140430483913,
          -1.8694180853855196,
          -0.6397023394802664,
          2.3313835251877015,
          0.004250337319995745,
          -4.966204270941069,
          -4.717248099102232,
          -4.072703316426138,
          -3.2174275563909704,
          -3.043248265913506,
          -4.199096186017302,
          -3.7204930152773463,
          -0.18625180676929712,
          0.7246102854911212,
          -0.991078190666034,
          -0.09785095522450013,
          -3.8685162783587805,
          2.0818361424531235,
          2.0499023126331,
          -3.451658557238681,
          -5.052712662274202,
          -4.912325367267261,
          -4.912325367267261,
          -4.338872923540231,
          0.49864007102129543,
          -2.287439748302232,
          -0.3583101208278879,
          -4.912325367267261,
          -0.13912476329423856,
          -3.2365962003336572,
          0.40651939271055176,
          -0.1022270079815519,
          -2.726344044011171,
          -4.757479083526582,
          -1.7956434645098494,
          -2.8017821379334067,
          0.6065798395246842,
          0.08112045757820191,
          0.027087705225933262,
          -0.582881768913313,
          -2.8626658579423787,
          -0.6599946107497734,
          -1.3198917983668663,
          -5.839778715036815,
          -5.551060302176079,
          -6.164405608460044,
          1.627340961666425,
          -4.0873174494174105,
          -4.948735409981666,
          -6.047630231801459,
          -5.547745240130609,
          -5.671625569681362,
          -5.466935106600764,
          -5.585665194745309,
          -5.520461793566562,
          -5.789679809449207,
          -4.541420758735627,
          -5.513151664980419,
          -4.387555029210544,
          -3.9656344420905203,
          -3.9468242011966463,
          -5.855303319261677,
          -4.682089309671343,
          -4.730285318770528,
          -3.288367180263732,
          -4.596746820384191,
          -0.5310347770616923,
          1.4538317744755826,
          1.8844699918343162,
          1.518360904207378,
          -3.3100898717520644,
          -0.3467629409825892,
          -6.065427696330097,
          -4.913336654531929,
          -2.0585348150371043,
          -3.9301954142957336,
          -5.301631660733681,
          -6.018730658263754,
          -4.421081017444009,
          -0.3467629409825892,
          -2.0857973642885206,
          -6.911896328552972,
          -2.010211837716277,
          -1.6727849230762037,
          -3.631839884693205,
          -5.751870960939504,
          -6.1190052875292675,
          -4.159281940378027,
          -4.130384845256026,
          -5.158757675103212,
          -6.236016207881776,
          -5.558451533719201,
          -4.316457392593108,
          -3.7132803084441126,
          -5.719332367919124,
          -4.541420758735627,
          -4.4959211690581915,
          -4.874627640032356,
          -2.465193191573716,
          0.5078346124273556,
          -2.0593205129233376,
          -2.865636769920412,
          -4.228393018910922,
          -1.344235081141372,
          -1.3696728798048694,
          -2.508199946924139,
          -4.8276618078085605,
          -1.2163681274229563,
          -3.747724524929056,
          -1.2059218271232843,
          -3.6416173016807463,
          -2.851133790276807,
          -0.8215520219501606,
          -1.3093370694658755,
          -1.5183353376298163,
          -2.784454701284199,
          -1.94264956510091,
          -1.1850435781196549,
          -1.3573617755544063,
          -5.216894008198902,
          -0.26847063324871584,
          -1.4838277247336704,
          -2.8206034294687634,
          -1.016904200950887,
          -2.50539338259386,
          -1.7947515921512953,
          -4.8241871864431385,
          -3.313638608839484,
          -1.7121949391614593,
          -0.6411022430176202,
          -1.9769617452846533,
          -1.8395129550038063,
          -1.6473964004879262,
          -3.33408375892676,
          -1.5661730069846733,
          -2.0345238900218887,
          -3.548509828149488,
          0.6011208352518291,
          -5.715449150205428,
          -2.918676045132001,
          -6.474373435223654,
          -4.306808999176439,
          -3.803771856236805,
          -2.2081275461714838,
          -4.960420506700614,
          -2.9419049084361313,
          -4.343130480483141,
          -3.973495756504942,
          -5.637830052365449,
          -5.66219406493151,
          -6.32825141619696,
          -4.843196799746318,
          -1.0920668960444468,
          -1.771080992420933,
          -5.1647497221486365,
          -1.2566214459968683,
          -5.835592376370998,
          -1.4953207889616038,
          -4.666171505708634,
          -5.599767532123392,
          -3.433055845717867,
          -3.613847231555071,
          -3.325363795063827,
          -5.168987785170436,
          -3.154190591926866,
          -6.841202700325392,
          -1.5981080280013022,
          -6.425049522427923,
          -4.41279618111073,
          -1.7631817717765619,
          -1.2945020548966883,
          -4.239226986479768,
          -5.204867542908237,
          -3.458203310408881,
          -5.1337469785853935,
          0.2651537400525695,
          -4.165581818977734,
          -3.524711084843193,
          -1.8921640807212436,
          -2.6723912297767654,
          -5.087502115870062,
          -0.2132005423610451,
          0.08402206789316684,
          0.21376112969140365,
          -3.6704415851593013,
          -0.8310603402148965,
          0.9267764347513446,
          2.649633076175814,
          -4.859672870928417,
          -4.933545692923559,
          -4.324417551613171,
          -4.400142852402639,
          -5.488977547238913,
          0.3518987561710022,
          -0.9587992611489238,
          -3.2222754479055564,
          -4.499365488187727,
          -4.747930847049146,
          -0.9545568990049368,
          -5.455402033971019,
          -2.9171057118477925,
          -2.7385650803484833,
          -3.5654905586242127,
          0.6494352183703145,
          -5.128179013376772,
          -5.044723337053468,
          -5.063952477349315,
          1.606083206168137,
          -4.459689425955627,
          -3.6445722065851904,
          -1.1992228250841614,
          -5.858387921936846,
          -5.201494525751791,
          -5.782324442418219,
          -3.799891311858132,
          -4.629208650928014,
          -4.4952488161502355,
          -4.860764301652537,
          -6.116771069366885,
          -1.4479145751112044,
          -5.494601706650541,
          -4.591367911345676,
          -5.139174062441336,
          -3.657669861048366,
          -5.263493288608375,
          -4.591966875110218,
          -4.867544799592754,
          -4.636031753921779,
          -0.9267441278960804,
          -0.5677647737962545,
          -2.899729115839088,
          -2.6832350356847026,
          -4.959335749105736,
          -4.787218665227902,
          -4.996554317172324,
          -1.425037548540667,
          -3.449987261052189,
          0.14083326750961167,
          -3.564300354213087,
          -4.267058465520456,
          -3.6291340492696547,
          -3.19622182528188,
          -4.084893102747818,
          -0.8001887605310043,
          -4.888543654903367,
          -3.4454800143476936,
          -2.5946871519512213,
          -4.309184365608219,
          -2.868478402504213,
          -1.9067734953524296,
          -3.1161851037754986,
          -2.2121958733006766,
          -2.191425649904877,
          -2.183177432665259,
          -5.121028045037081,
          -3.332567389040485,
          -4.101428005271174,
          -4.105345404606243,
          -2.301879026144677,
          -1.8184023018654976,
          -2.7120121833748807,
          -4.7575139567173395,
          -0.25484885561678805,
          -2.3765092957277236,
          -0.15280139703658907,
          -3.4571761570680315,
          -4.778082329785335,
          -0.1756733676251378,
          -1.2915186406250363,
          -5.6004673944172545,
          -2.939141636046242,
          -3.954241822260193,
          -4.285436000397967,
          -3.0775136951189896,
          -4.731725216622051,
          -2.690553077638704,
          -0.11833412695864803,
          -3.6111105573851527,
          -3.2653453878046155,
          -5.181285951332985,
          -5.0688577220054105,
          -2.6752047856017427,
          -3.0669848817232124,
          -3.3130758631096744,
          -4.292475260577797,
          -3.148895078446647,
          -3.2532305127926975,
          -1.4222197489475679,
          -5.594757102547199,
          -0.8895264977993594,
          -1.3138025365691928,
          -3.2234954356500483,
          -4.014645123104063,
          -5.983535708427799,
          -2.6660403516814952,
          -4.95676187215424,
          -3.1916750630953454,
          -5.407885458134808,
          -2.6572038731506717,
          2.2129573413274124,
          -2.1323527575298926,
          -3.992816876471307,
          0.8979780360841753,
          -2.746804444441404,
          -5.738548988494766,
          -5.25715425900038,
          -5.037303774749053,
          -3.818573541404076,
          -4.571111921896918,
          -4.7193091269824095,
          -4.782096465886385,
          -5.305313632243642,
          -4.3417240165687945,
          -5.019617698526433,
          -4.583669326366283,
          -4.8127558841892295,
          -5.259908413271489,
          -4.958591911495176,
          -4.838324859995055,
          -5.286886619924484,
          -3.252261042403062,
          -2.899327908383265,
          -5.807050383817499,
          -4.958112358381605,
          -3.173360914685265,
          -3.0933559134727173,
          -4.885439883130394,
          -5.326527225982561,
          -3.831864834373569,
          -1.4961144420873025,
          -4.377395792037949,
          -3.4796864318274623,
          -4.499791983308139,
          -4.734267373334021,
          -4.510871044008871,
          -3.752787029985838,
          1.4301179464791576,
          -5.717060871055582,
          -4.523900998655221,
          -4.816933275864699,
          -5.635039223563761,
          -5.1427192637422525,
          -3.3146440793701153,
          -4.808238507559606,
          -4.608816992154589,
          -5.4065116642814965,
          -5.248692564912086,
          -4.137278570798783,
          -5.2960376199476915,
          -4.711631361466993,
          -2.3160352780148075,
          1.2723793604036449,
          0.6512688053057922,
          -2.424119614455952,
          -1.2945020548966883,
          -3.9736167140667593,
          -4.483039399296539,
          -2.4685325285349977,
          -5.127179659524263,
          -3.487573902127232,
          -0.29636546680958065,
          -3.496883176437091,
          -2.6341180803081197,
          -4.4887015444666805,
          -2.366338434238436,
          -4.10605156383391,
          0.8968039957997764,
          -4.26069100262556,
          -4.368071312577981,
          -5.314639723608732,
          -4.395769757691452,
          -5.378689108494595,
          -4.936831257873033,
          -3.8796024310573594,
          -0.318318683939107,
          -4.761861218759197,
          -4.2842302481360655,
          -4.889380568367958,
          -3.6962499022786988,
          -3.763625844480297,
          -4.375221596690009,
          -4.0352814217946475,
          -4.882932393672132,
          -3.9508650265161065,
          -4.088020429073148,
          -3.7858206493712716,
          -4.7783822436341215,
          -3.6734265820953484,
          0.15599148794521758,
          -0.6976078083030255,
          -4.654084469294908,
          0.37217291933399677,
          -4.775642722773962,
          -5.207548757079982,
          -5.277837663910855,
          -4.77618563751253,
          -4.857968212386135,
          -5.559805480777848,
          -4.674824633766075,
          -0.07470454150616437,
          -5.402598739937059,
          -6.101479802763026,
          -1.1012759530726766,
          -5.601520792329054,
          -1.9718774046079537,
          -3.157892922794267,
          -3.157892922794267,
          -3.447734135134862,
          -4.479658775405932,
          -0.3274851368174159,
          -5.374156729459362,
          -3.088578270288629,
          -3.759190778407302,
          -3.673655757765198,
          -0.5180823927675693,
          -2.272631726064983,
          -3.4458386648227677,
          -1.5740950260756534,
          -2.3276213172663045,
          -5.646043336821305,
          -3.842770998883355,
          -2.9914569899236785,
          -4.950374669078643,
          1.0929626382055098,
          -5.3798262148275775,
          -4.690055553030444,
          -5.21877024947116,
          -3.2102846673390215,
          -5.149411496213942,
          -3.704837419877839,
          2.4165258402301957,
          -1.0499997192695054,
          -4.878234973700093,
          -3.6222574296311927,
          -3.9938335485252336,
          -4.144939198697288,
          -3.7301624626762058,
          -2.8301580791435694,
          -4.0973738490117375,
          -2.5689310110560433,
          -2.0677653337758883,
          -2.8505474844517393,
          -4.696590874770056,
          -3.661051524139079,
          -4.183469771000895,
          -5.0424292573845095,
          -1.8695656624910073,
          -3.3159263514840402,
          -3.1151876247687813,
          -4.893916535558754,
          -3.55267004781148,
          -3.497050183952312,
          -4.384534274900203,
          -4.668337584384996,
          -4.541522288993519,
          1.3238622302459842,
          -2.052920457844385,
          -1.475537969712675,
          -2.9593796418198104,
          -4.05151588126728,
          -5.3484378760336915,
          -4.115450089131543,
          -2.9696642977313767,
          -5.393486100713124,
          -4.637649360440064,
          -3.5380473183288337,
          -2.846085072573791,
          -0.5223429516450045,
          -4.055622881657869,
          0.6318303257213641,
          -5.4150181456069255,
          0.13607999524063388,
          -1.3983912449955764,
          -5.4770907213069036,
          -4.165474315199333,
          -4.325764937292899,
          -1.3423929904619947,
          -3.7942132230090415,
          -4.204278085364418,
          -4.348473644876557,
          -0.16789518867169984,
          -1.9542558893063093,
          -1.5642369417198676,
          -2.3999958805694144,
          -4.279504344988901,
          -4.966028392153609,
          -3.5211954575028415,
          -4.8478042690878125,
          -4.841664572747763,
          -3.7355173112509212,
          -3.650410230230967,
          -1.4732845646489452,
          0.9360050911408402,
          -2.6660403516814952,
          -5.303463598128452,
          -4.461167220003683,
          -2.2069806306422355,
          -2.2069806306422355,
          -3.52847920998316,
          -4.860504137865919,
          -4.5584509004007225,
          -4.450234038776063,
          -5.328598894410506,
          -0.1541666599396861,
          -0.12079709830296972,
          -3.486072058365414,
          -5.4251202619535315,
          -4.501167902841115,
          -2.5828131815253705,
          -4.288541139257676,
          -4.326766728604649,
          0.8297778625701886,
          -4.375302082910935,
          -5.054809751907,
          -4.074889022218935,
          -4.9691235426774405,
          -5.060741159014034,
          -3.560408924127184,
          -2.6407843178924044,
          -4.272298445418016,
          -5.756262654081312,
          -2.53282928724275,
          -5.80506250530148,
          -4.901986967932917,
          -4.543750649493101,
          -1.7689201905837442,
          -4.530049619801496,
          -4.511333758907551,
          -4.434547702014638,
          -2.709926584648201,
          -3.2317246085061133,
          -5.801179772954835,
          1.3044832363739316,
          -6.240158276881772,
          -5.646890037924499,
          -5.506180413989244,
          -5.568145244531773,
          -5.864620327928572,
          -4.584631870241915,
          -3.056140016467994,
          -5.257814690275362,
          -2.8550733449489227,
          -4.3622940608739595,
          -3.9243366498846877,
          -4.1480162856781675,
          -4.385672153490235,
          -4.198087452420795,
          2.0590650367200496,
          0.9319573440337631,
          -2.4895745748204985,
          -5.180840514909322,
          0.8154580822104311,
          -3.601026502496186,
          0.6361486384603259,
          -1.2143161884959377,
          -4.1377753366595265,
          -5.22351705559974,
          -5.101382668039376,
          -4.809120410095905,
          -5.201889722274046,
          -3.4810459509769394,
          -4.721297180707784,
          -2.9552387228837413,
          -5.1310064117852505,
          -5.556929620666097,
          -5.043976653607384,
          -3.8523248727170603,
          -3.183292722065626,
          -0.58048696323524,
          1.8378649176516184,
          -0.38914119901732325,
          -4.205265850416263,
          1.053773170015013,
          -5.792171663940545,
          -4.254110134883787,
          0.057709496829941684,
          -3.725820114393005,
          -4.874503196296033,
          -5.1159612217931025,
          -5.71464156089964,
          -4.580974423852903,
          -3.8389481117317996,
          -3.5723090234745563,
          -3.1286451632491192,
          -4.114324056063091,
          -3.6127696780913636,
          -3.3711795682268146,
          -4.685152051685585,
          -4.065364499238479,
          1.9919444061295317,
          -4.874984931284491,
          -3.8480813253132355,
          -3.727606736217078,
          -4.9159308379223905,
          -4.564194726251123,
          -4.506007872987895,
          -5.523055618880567,
          -1.3697439954984865,
          -3.0138639954816906,
          -2.6798992331007647,
          -3.84507241471725,
          -3.379875927990068,
          -3.364124801579871,
          -5.218812498073069,
          -1.2935779879394107,
          -2.5386204882413956,
          -4.287503166051624,
          -4.586499964824835,
          -4.607758211564226,
          -4.604346014635682,
          -5.426459154626773,
          -4.617671617610769,
          0.18737886180694857,
          -2.9286093020106105,
          -6.494433535082473,
          -3.097404548241891,
          -4.392535228623087,
          -6.494433535082473,
          -4.02975497668974,
          -2.9601998474427336,
          -5.025260817415706,
          -4.227458343900164,
          -4.899534092452958,
          -4.3563849696372765,
          0.1266961135902783,
          -5.503458553673312,
          -3.643107278907489,
          -5.107982333087549,
          -4.555168273511975,
          -3.653149025942582,
          -5.857118323672935,
          -3.5304326121235468,
          -4.980171640258701,
          -5.0376551732929356,
          -5.301306808918394,
          -4.184445368729248,
          -5.353893384963444,
          -3.083683588459681,
          -2.8334936896767524,
          -0.3101157335278802,
          -3.820508593002596,
          -4.494304397290522,
          -4.190401608943219,
          -4.127482355229305,
          0.04754914549028374,
          -0.4992982936578926,
          -4.185439105890704,
          -1.1016837716519654,
          -0.5491287130932142,
          -3.105517021666632,
          -1.7566760647861959,
          0.7199005573310548,
          0.8127767141150731,
          -2.7630295466709573,
          -0.8112392167581002,
          -3.786404853424034,
          -3.5670700112768343,
          -5.416859625439794,
          -0.5402003127558351,
          0.2535694333394448,
          -3.4848725595871253,
          -2.3984529136460924,
          1.4354104355003159,
          -5.777485933698285,
          -4.822515525010454,
          -4.809241466511936,
          -5.340299326726859,
          -4.902908664265329,
          -0.9258083430700652,
          -4.920200708246561,
          -3.668611730606399,
          -2.9032477934335827,
          -1.1924204815510624,
          1.5987477094619782,
          -4.386910779265087,
          -4.710682164629273,
          -2.9508344190331197,
          -4.346191736951269,
          -6.535394491347997,
          -4.593555379011054,
          -2.3739576316828743,
          -5.641283079361658,
          -2.467755092793775,
          -2.424119614455952,
          -3.5679431624087066,
          -5.284988328724023,
          -6.595588647093733,
          0.006607940042384651,
          -2.553252719097243,
          -4.4933209237025515,
          -4.919035913688874,
          -4.754834355823146,
          -1.7323537341069497,
          -4.271005062954765,
          -5.463501735105245,
          -3.5920059642310393,
          -2.2909291600131776,
          -5.61325233548012,
          -5.890808776830594,
          -4.72904530713439,
          -2.2282913172401124,
          -4.819801043914088,
          -5.391734035558967,
          -3.8029527789502007,
          -5.050697766339885,
          -4.709786713005687,
          -4.302188140997594,
          -2.2426989795108785,
          -0.4152644754257076,
          -3.36564762968197,
          -4.003467643705094,
          -0.22865139491026387,
          -2.492690893747569,
          -5.257441528470775,
          -4.820444752093999,
          -4.897187090469807,
          -3.4964176600884227,
          -2.7383063843913478,
          -3.8303813569296095,
          -3.890627736014193,
          -3.35292002014894,
          -3.936696669877042,
          -4.444586297396764,
          -4.8882464604591815,
          -4.225889269877968,
          -4.816112191276833,
          -5.408990681985685,
          -4.944911713410691,
          -1.462734353322733,
          -0.6295510790495739,
          -4.621084340765137,
          -0.08302353837167264,
          2.01566133965861,
          0.6316874773890576,
          -1.3345606001660766,
          1.5259121332622616,
          -3.0221950926577033,
          -5.61871523645407,
          -3.01222254036778,
          -4.621084340765137,
          -4.884252379752352,
          -2.574621812565337,
          -5.273473289735202,
          -4.637136649577937,
          0.7646652072163738,
          -4.69596247522725,
          -4.569611297340666,
          -5.167208490630901,
          -3.281801700648195,
          -5.22990404079303,
          -5.157672087213784,
          -5.336019576844298,
          -5.423245185923841,
          -4.354086728911423,
          -2.148749961522012,
          -5.266782782939085,
          -5.9301255331358185,
          -3.5034284543142973,
          -4.962717247738687,
          -5.142395654556732,
          -3.5639727009499205,
          -4.603540510112323,
          -5.095214588392646,
          -4.919507591522254,
          -4.494092330399145,
          -5.300099582047379,
          -3.238763230836614,
          -4.095936027248961,
          -4.647601414027637,
          -2.9301146248029455,
          -4.612275933257996,
          -4.610788318685437,
          -0.2713043058063236,
          -4.027641044925244,
          -1.6969607601210526,
          -5.258846682000592,
          -3.6584482409907606,
          -3.5953361431014965,
          -4.6056967515308305,
          -3.75774002478981,
          0.8066649719453807,
          -4.330839871518846,
          -4.8784523571016845,
          -3.286312415138596,
          -5.105153001003631,
          -4.514960160261208,
          -2.611410686450834,
          0.5885714409935416,
          -5.219279566652801,
          -4.057975269877071,
          -3.933158510367863,
          -1.1189777428589833,
          0.7906802231204859,
          -5.472891206944348,
          -5.109187220966227,
          -4.71926453756386,
          -4.579990917564694,
          -4.120825087265576,
          -5.266960736227222,
          -3.472654460769224,
          1.2807143040120306,
          -4.115982758298911,
          -1.9971918346026258,
          -3.313520939276917,
          -3.28119164041589,
          -4.313452917756148,
          -5.162983548544524,
          -4.303546628055893,
          -4.6068479882994495,
          -3.8499512148817034,
          -4.2391296259025495,
          -4.698996137695234,
          -4.947695873175395,
          -3.699768231250433,
          -3.326624262031307,
          -2.8596333321898944,
          -4.035187611379313,
          -4.062667502314933,
          -3.6141343899460803,
          -3.8781520214980727,
          -3.9167485070926156,
          -3.708773393946381,
          -4.291380008940275,
          -1.7609805114929824,
          -2.923405349901074,
          -3.962887973878944,
          -3.5097230598837865,
          -2.863263919898246,
          -1.691369096225208,
          -3.5720403339388995,
          -4.141729749378446,
          -3.6941712500612844,
          -4.61211923581777,
          -3.5479588534539652,
          -3.4147684632172988,
          -2.999379018890265,
          -3.851100867661707,
          -5.320512598339675,
          -4.462437135543581,
          -3.7979416225000757,
          -4.124301015368486,
          -5.047889812881259,
          -1.3468381056161838,
          -5.993874873604131,
          -4.474572249413118,
          -4.990151311471308,
          -5.017707133794441,
          -4.814757120916385,
          -4.601733228616969,
          -5.966576688209623,
          -4.878234973700093,
          -5.26980899709586,
          -1.83040957310517,
          -0.6856949720490029,
          0.013165227698133261,
          -3.717023425548664,
          -3.8972282300013674,
          -5.216109865156278,
          -4.2714466699973945,
          -4.388853496398819,
          -4.05105378566016,
          -2.5859140430483913,
          -4.423755124757349,
          -5.442477753677249,
          -0.6529337294718545,
          0.7092329104075705,
          -1.6333966907910231,
          -1.84774472181735,
          -3.18446285266631,
          -5.104881663830583,
          -5.367731221097757,
          -5.031855001490778,
          -5.307053562862951,
          -3.8454728792334674,
          -5.400778288514713,
          -5.04102757335573,
          -5.147805777960234,
          -5.242519826806678,
          -5.573243006322628,
          -0.49680216152444745,
          -5.201153422477372,
          -5.144763666569143,
          -3.743226662338223,
          -4.963042436626533,
          -4.648859647620698,
          -1.8787192612819137,
          -2.6354268836690644,
          -4.8266160899661,
          -1.8193532837411928,
          -2.2857912621655303,
          -4.456063809704651,
          -5.149022695113409,
          -4.6409765872784,
          -5.189352784788355,
          -5.0375872948277705,
          -4.8531884800940555,
          -5.383811512009594,
          -5.5360689825513525,
          -4.809997243091967,
          -5.480878998469788,
          -7.263895756721579,
          -5.17601325482223,
          -3.0240207124605627,
          0.7964728736701541,
          -5.130587391588749,
          -4.1540805011782105,
          -4.630065919342947,
          -3.4818473933273646,
          -5.82784597855746,
          -3.4782680092995157,
          -5.408340951703357,
          -3.780172292918373,
          -5.2162834616761,
          -5.717371198643291,
          -4.605988206529973,
          -5.9311013640133226,
          -4.460628942634607,
          -4.109656700708523,
          -3.957644113848415,
          -4.988129996198527,
          -4.522646116708501,
          -4.178190100229549,
          -4.600285823431294,
          -3.9014357435761324,
          -3.991978685919143,
          -4.823337555050786,
          -5.300099582047379,
          -4.312671837473818,
          -4.2798024567348785,
          -3.89867563033751,
          -3.901555599215145,
          -4.7419692014304085,
          -3.9357843719782744,
          -2.683074155099582,
          -4.274994932972512,
          -4.408704706274676,
          -3.780233821612754,
          -3.9662100612286673,
          -3.8900491101872903,
          -3.5592530072831514,
          1.410346139094567,
          -4.488109590709271,
          0.006607940042384651,
          -5.913135595822321,
          -1.8498079170286403,
          -2.4780195890863297,
          -3.917846084014538,
          -4.716072761422491,
          -3.89801171806002,
          -3.147078669404414,
          -1.2606384439505294,
          -3.017170583378241,
          -3.283127345041955,
          -1.9464442795640329,
          -5.302609700416689,
          -3.4759896728155835,
          -2.62563899694595,
          1.4419756980173037,
          2.3609206444665793,
          -5.300472372346335,
          -5.362977543166316,
          -2.3974583325521426,
          -3.3021029787150797,
          -3.148246053730537,
          -4.824611020672751,
          -4.824611020672751,
          0.9627409034476926,
          1.711496968749385,
          -4.449950388425731,
          -4.348901442401263,
          -2.9878465227351843,
          -3.48237854724609,
          1.1600569649156687,
          -2.9330069694213488,
          -3.543728248755069,
          -5.032893991299456,
          2.0250923928970415,
          -1.0288149327296718,
          -4.989630723929108,
          -4.501465180312044,
          -4.373993000183317,
          -4.32161556474164,
          -4.359892007280338,
          -5.468681189034478,
          -4.966690583398921,
          -4.692002492894004,
          -4.117205679669225,
          -4.316334928469006,
          -4.341032118580394,
          -3.81485586646421,
          -3.234322573805369,
          -1.9148532527809878,
          -4.180424244809613,
          -4.389291137305864,
          -2.712566690395117,
          -4.223588459942337,
          -4.115593901278134,
          -4.582397736125236,
          -4.966898347617791,
          -3.796464965801095,
          -1.6008805537598187,
          0.37948230671515015,
          -2.676505219250144,
          -5.354252127662631,
          -3.9300202886327114,
          -4.650568822338789,
          -3.218105561699691,
          -1.3157112824042891,
          -4.258753230325087,
          -0.7440687390986106,
          -2.3587965428331477,
          -5.26980899709586,
          -3.8255984475013354,
          -1.2778106064203016,
          -5.827082832855055,
          -4.484466170955735,
          -4.670713355925619,
          -4.574701509711327,
          -4.315009370010133,
          -5.998635356265795,
          -5.130017494674956,
          -5.36920048551627,
          -3.8838064496009945,
          -4.427410613714116,
          -4.779886462178348,
          -3.458141588818554,
          1.230949559717755,
          -3.804917473250133,
          -3.0409510954161854,
          -2.6179971238241855,
          -4.040389905174054,
          -3.6003998060929905,
          -3.9421796852376976,
          -4.321331245339836,
          -0.32023345383438306,
          0.44116103653635613,
          -0.8119344198893794,
          -3.245892147778643,
          -4.2526305137398674,
          -3.802265992757575,
          -4.692467500640178,
          -3.86943405437371,
          -4.309397167695139,
          -3.1737570564442112,
          -3.4914481645154773,
          -4.054070410895644,
          0.5835215164119292,
          -5.043305241597617,
          -3.3616097088591994,
          -3.2812656818501513,
          -4.144894251221378,
          -3.0634951047044514,
          3.8745296695296596,
          0.00670318740392524,
          -4.814631547444273,
          -5.348090154886586,
          -5.494732724948322,
          -4.431501142124396,
          -5.868291560926899,
          -5.378398422403892,
          -4.851705560297559,
          -5.327829204480053,
          -2.7472717669795212,
          -2.1193713811166477,
          -4.084847337640417,
          -1.9210775142563326,
          -4.7240250690552426,
          -4.537064426614093,
          -5.989955734859335,
          -5.177030222964468,
          -2.518090535315384,
          -4.731575606893341,
          0.3773089790230306,
          -3.2635931894756967,
          -5.195612271420261,
          -4.313452917756148,
          -4.467196292156045,
          -2.366062441271472,
          -3.8707578473436315,
          -3.003634061655019,
          -2.99617739555214,
          -3.737338648101709,
          -3.7158453448596678,
          -5.47892875964447,
          -5.031183464471518,
          -5.014032506079349,
          -3.0632019605317287,
          -3.8848195995292767,
          -5.203794294460022,
          -3.564381231042755,
          -2.8594342824240595,
          -4.152093302816785,
          -4.334987389771086,
          -4.488909192879654,
          -2.9373533248270904,
          -3.589235479596506,
          -3.516235023298489,
          -4.500490095696898,
          -2.038545305842574,
          -3.254061921371098,
          -0.7007308687937449,
          1.8571200730795507,
          -0.7624467101409187,
          -4.542055580690268,
          -0.531115350045142,
          -4.244673130145552,
          -1.2628076528892351,
          -4.58211053625666,
          -5.80935572129271,
          -5.660457775458261,
          -2.9341472247091316,
          -5.185587126012533,
          -6.209599051729636,
          -4.94344543732689,
          -5.3392185540708565,
          -3.3249094631287046,
          -3.7578946121023833,
          -5.022329088836698,
          -3.628075750883871,
          -4.530475776671799,
          -2.9319222508086082,
          -5.238522792228165,
          -4.641038518329891,
          -4.323039634084595,
          -3.6951173898988925,
          -4.188294213440637,
          -5.4290842465622875,
          -5.003620123683098,
          0.469132102301704,
          -1.7750173562367502,
          -0.0886590331641397,
          -2.513471810945747,
          0.11626259502896422,
          -0.7258611358601725,
          1.9262554124634133,
          -5.318233772764062,
          -5.676924315055843,
          -3.466297015559997,
          -4.136640879663509,
          -4.259031135212663,
          -3.7426185421447316,
          -5.106359120832588,
          -3.7426185421447316,
          -4.657446534232027,
          -4.529344477802738,
          0.8707108328480637,
          -4.767242582309562,
          -5.32883251076567,
          -3.200309717093764,
          -5.089030845371474,
          -4.444226273162593,
          -3.8203397627760163,
          -5.931211044131855,
          -2.074694563928046,
          -1.0322938395811834,
          -3.4761251220073577,
          -1.4430175420137412,
          -5.208004781382457,
          -4.715781462110456,
          -1.6584570955524751,
          -3.365000272523279,
          -4.864972045959778,
          -2.5115393880446604,
          -3.736587241249212,
          -3.7586645917772215,
          -5.309666834181996,
          -3.8103270136099225,
          -3.7549633493431975,
          -4.437678094544846,
          -0.5118393591428314,
          -4.368150407236782,
          -5.108667050273026,
          1.7133981828147347,
          -1.0659219935356041,
          -2.4247245884108795,
          -0.29155085979493367,
          0.6981381731433984,
          0.6318388275616544,
          -5.162923069195003,
          -3.346041942762263,
          -2.4899420275553212,
          -3.4010533807215646,
          -2.8738974160728614,
          -3.521704147513606,
          -3.9891558150651703,
          -3.3837673070127847,
          -4.591236055470411,
          -4.46423871324359,
          -3.924633626629511,
          -3.7862462272710204,
          -4.097755653913326,
          -4.373297595751234,
          -5.009894056361605,
          -2.682244330035619,
          -3.110669942600488,
          0.8020260631677429,
          -5.1270115535166685,
          -5.9791881732166114,
          -4.178153277530034,
          -3.6372797132666848,
          -3.3412438590946874,
          -4.898958031613183,
          -4.890875613383142,
          -5.955504052034499,
          -4.077937997480083,
          -4.6673044021120225,
          -2.9845171991320867,
          -3.3412438590946874,
          -4.931912421835935,
          -3.035589211250797,
          -4.372382723258509,
          -5.326014507364641,
          -0.2883701829810079,
          -0.23786517857249495,
          -4.247481414362498,
          -4.502678382834681,
          -4.6903806503706065,
          -4.726817898651006,
          -4.6673044021120225,
          -4.427101701270479,
          -4.46423871324359,
          -3.117173080114903,
          -4.658535739463694,
          -2.8891768229309656,
          -3.7091990867522515,
          -2.0590458734880555,
          -1.555772114290472,
          -4.228221796104126,
          -4.497021184939949,
          -4.824812889423896,
          -1.958241742063481,
          -2.3535898552885706,
          -4.535613717108959,
          -3.8484191686245453,
          1.3379080802473284,
          -0.4688355389735047,
          -4.3270388483608,
          -4.798225290811355,
          -4.0807397671772465,
          -0.7036637653320055,
          -2.1137701624828535,
          -4.287762209721454,
          -4.7280539923221285,
          -2.998139362404572,
          -4.897435848357614,
          -4.549227571722371,
          -4.247811020069852,
          -1.3484537999842168,
          -1.6911384910816285,
          -3.936696669877042,
          -2.2326466412215886,
          -2.716264978119108,
          -0.3857907791700913,
          -1.237585797038576,
          -3.3128224872112604,
          -3.2284756765971503,
          -2.984367174858218,
          -2.835960656624527,
          -4.965805051490006,
          -5.263493288608375,
          -6.41669428124082,
          -4.884928922736755,
          -2.1367487545406734,
          -2.9243980147691517,
          -2.2607926761916226,
          -4.631096228741023,
          -1.8162046739554216,
          -2.376598025991385,
          -4.031264275713811,
          -4.009646405124166,
          -3.6531189031228934,
          -3.8897968611060563,
          -4.359483547398726,
          -3.498870788488215,
          -3.617566812890186,
          -3.5569446109827885,
          -3.965560765834816,
          -5.564640456692124,
          -5.1547474718004125,
          -4.8459528943703125,
          -5.043237966992677,
          -5.358430910778996,
          -4.891536596163587,
          -5.2725274536526205,
          -3.673565697509203,
          -4.266037789405661,
          -4.981585502794221,
          -5.897458228814135,
          -4.442557769291291,
          -4.208056199402645,
          -4.612323972102058,
          -2.610096880893233,
          -3.6233840119570404,
          -4.5408546805521794,
          -4.148022235765709,
          -1.3691762811045458,
          1.4815813924992534,
          -4.311319138966825,
          -3.980738480851277,
          -4.232596238664906,
          -1.1254608942061939,
          -3.9714982993898773,
          -2.7084221653324354,
          -2.1438458051995757,
          1.892318082910544,
          -1.610786181385491,
          -2.645194606497206,
          -5.21916162176698,
          -3.455889934555305,
          -3.0321410709951526,
          -2.5040230814027917,
          -2.542797197986717,
          -2.908777258337705,
          -2.7052556245752037,
          -2.8751647924134764,
          -4.630376926687643,
          -5.275578050191928,
          -4.495970524084013,
          -4.223689364832602,
          -5.21621519029605,
          -5.32705745578936,
          -4.400961767469625,
          -5.22352964130244,
          -5.952317882380909,
          -5.931634134517944,
          -4.260144578327397,
          -5.407926390263483,
          -5.977602141320622,
          -5.3859649875782285,
          -4.306331061981983,
          -5.745904198903385,
          -6.265302539660779,
          -5.48254965406875,
          -4.944952765855826,
          -4.007858541164586,
          -5.291550697740487,
          -3.224694861024739,
          -2.094931780036174,
          -3.6729417029272775,
          -5.544697281695344,
          -5.1133268247684285,
          -5.1871808126749155,
          -3.5953527830501293,
          -2.866300085297042,
          -2.240671292466605,
          -3.389072032148498,
          -2.052920457844385,
          -4.937215298523181,
          -4.3070223024355725,
          -4.528580087283417,
          -4.4390885321106595,
          -4.3460615770482125,
          -1.7165728258691137,
          1.1115916389983946,
          -5.773516709047098,
          -4.384534274900203,
          -1.8452858462444222,
          -1.695998478005368,
          -1.0892701918606305,
          -3.287038856750754,
          -2.4524900272525203,
          -5.0439574301802,
          -3.6689848041415956,
          -4.891381416793719,
          -4.058838318992876,
          -3.502149252156847,
          2.387848566811241,
          -3.524711084843193,
          -1.0684052997492666,
          -5.490020713107414,
          -4.600888665282895,
          -2.7789589384955646,
          -3.266242110124638,
          -4.780331471374385,
          -5.323606530305112,
          -5.99388458218432,
          -7.044343330706915,
          -4.11361321474045,
          -3.3067572234965388,
          -6.336911573595717,
          -2.6842702999753194,
          -5.386441148376155,
          -6.372923587316573,
          -5.384397164209034,
          -4.477830239274764,
          -5.062997353883908,
          -5.1480824899567965,
          -4.577933860805105,
          -4.552901624287198,
          -4.842664738342911,
          -4.146008792266582,
          -4.948664798875045,
          -5.534153070127365,
          -3.0710930616416507,
          -3.024141021669625,
          -5.040371922485127,
          0.315367168129866,
          0.9993974031360515,
          2.0140336807023282,
          -3.5654173762106494,
          -6.035786410889141,
          -1.7044826654986098,
          -3.672980058070675,
          -4.838799221315887,
          -4.805925537122332,
          -5.150494799230422,
          1.5987477094619782,
          -3.8197578417077676,
          -4.953414177151106,
          -4.310599746734956,
          -5.33335458924077,
          -4.542255602867439,
          -2.542532437464351,
          -2.835960656624527,
          -0.23187199037253173,
          -4.662199001393212,
          -5.101309962460466,
          -5.110689862495214,
          -3.116611526859104,
          -4.5815364056514305,
          -4.325177853230861,
          -4.098554955301702,
          -4.15657632594688,
          -5.002729240006127,
          -4.107992241699433,
          -4.630167790398037,
          -3.4708400217951976,
          -3.642024034842294,
          -5.0814082597445,
          -1.4282829212236623,
          -4.684516615382822,
          -5.624256024642678,
          -2.837374321002098,
          -6.211362742972011,
          -5.75878129806669,
          -4.913236483585673,
          -4.4559404676650685,
          -3.6398202940431235,
          0.34935958866858974,
          -4.279185556631947,
          -3.9630502542870834,
          0.9047541002236551,
          -1.9519927158879429,
          -2.3581568229801513,
          -4.662199001393212,
          -4.662199001393212,
          -3.110669942600488,
          -2.4895745748204985,
          -4.318252272235193,
          -3.8349664336066343,
          -1.5704410061805807,
          -2.4307559337217914,
          0.28373492957629276,
          -1.9206672931433502,
          -1.533179300571753,
          -3.7048474635442825,
          -0.9662714825835348,
          -1.6471657994301747,
          -0.8894578746516292,
          -0.597263913553689,
          -2.128439482752479,
          -1.4025920875825753,
          -4.907817182807568,
          -1.3539872938234094,
          -2.933135718032638,
          -1.767645270460255,
          -2.43523537561539,
          -1.845197797602511,
          1.0358008813143662,
          -1.9347976233413748,
          -1.918805217171546,
          -0.12855609997622,
          -4.157968803012677,
          -5.2467897386104365,
          -6.004098765346454,
          -4.374347457244834,
          -5.210567277321348,
          -4.852462681252905,
          -5.254842150335663,
          -0.08629814195833442,
          -5.364996859905467,
          0.553703027435038,
          -2.313891267255009,
          -5.49635439701941,
          -1.7607693784046312,
          -4.189762846624239,
          -5.757783657522528,
          -4.969473383269281,
          -2.083654868758577,
          -0.2820101589984863,
          -2.5179564266639725,
          -4.299454685375824,
          -3.6607580382326734,
          -0.8078609258386805,
          -4.534604135674848,
          0.15373488229668453,
          -5.214342740992922,
          -5.300312652850117,
          -4.968113441570619,
          -3.2262907670382575,
          -5.840981938207327,
          -5.039767649744019,
          -5.20031012733402,
          -4.901287198822981,
          -2.510516851451867,
          -5.350604391019055,
          -3.429259510027255,
          -5.021275926345022,
          -2.052920457844385,
          -3.256618843305938,
          2.5571048372912752,
          0.38041141643364923,
          1.4397955535464277,
          -1.5114845176337803,
          -4.29364386353108,
          -4.3921910853775685,
          -2.8126047629433693,
          -3.410736086077794,
          -4.636424820684174,
          -2.8708050549486455,
          -1.5472032959633049,
          1.208283312049669,
          -3.4883980746782157,
          -3.6444957763178323,
          -5.360852422045416,
          -5.229442394572215,
          -5.902545031988977,
          -3.7527969296311947,
          -3.601087501431765,
          -5.199689593714902,
          -3.907971024257655,
          -2.874374729533758,
          -0.6365689974859784,
          -2.7948978643743345,
          0.689795764596383,
          -0.58048696323524,
          -3.0771641184124072,
          -2.6249485215438377,
          -4.877415053511759,
          -4.755541363675318,
          -4.379184222379162,
          -3.4599010050485495,
          -4.757304362151579,
          -6.634794713341572,
          -3.9181421935898793,
          -6.549271970898396,
          -4.192043469635213,
          -1.7680020287988045,
          -4.426985991810751
         ],
         "xaxis": "x",
         "y": [
          0.4381691373769795,
          4.981612052751348,
          -0.836652508107994,
          -0.4877989015663402,
          -0.5756819768820469,
          1.8644183183717793,
          0.2851835002352837,
          -0.6783790472312371,
          -0.5712993716580516,
          -1.2593788079708297,
          1.2765569680619446,
          0.7560741064307468,
          1.0427311644393218,
          -0.2763864586236307,
          -1.3169815431109795,
          0.5073029625781903,
          -0.336482705977109,
          0.5058604987046363,
          1.2627579957290729,
          1.3822762065335452,
          -0.42260307058543833,
          -0.8288723577239865,
          -0.6072880911782345,
          -1.4069288423640267,
          0.9933269247917426,
          -0.6737190709851918,
          -0.08662709156681703,
          0.6218511570174341,
          0.2555745029810873,
          0.017764042805293014,
          -0.10562522348205708,
          0.14018553873040931,
          -1.150994046479491,
          0.07433490683041155,
          0.3183534526481743,
          1.2667484124675163,
          -0.15378440169132554,
          -0.9529183592404536,
          1.3092326125404625,
          0.41014684622458175,
          1.3433083515952668,
          -0.028265112195098113,
          -0.6467204432711562,
          0.04848262443947083,
          0.5663131601694974,
          0.21924105940169952,
          -1.5825802864431389,
          0.7706398659885516,
          0.2833790208991998,
          2.21718716399214,
          -1.1734800739618414,
          0.8075898387722384,
          0.25840754107045943,
          1.0324372165462783,
          1.151840059283114,
          -0.5878292340675275,
          1.6385172072426586,
          1.148928334520288,
          0.10511149169662791,
          0.04937581094513807,
          1.1110751737520237,
          0.9156514363587916,
          -0.8160546316754154,
          1.8669542640681762,
          3.6009870540312785,
          0.30077006726808014,
          1.3705633048663812,
          2.860694080309784,
          -0.25571548776726705,
          1.295015014523839,
          0.18008384104958752,
          1.7021326301584212,
          1.1289370726337054,
          0.40763525206041173,
          0.6221134969005283,
          0.5102110581445461,
          1.1729319881917788,
          -1.455620882457478,
          2.5911532398804096,
          -0.07250822786735052,
          -0.07000333959076943,
          1.1080722916872667,
          1.9152502276261423,
          1.5335940810483193,
          0.2102927622138218,
          2.322192422578855,
          -0.2980215529804997,
          2.2080950936018886,
          -0.09015614830483454,
          -2.607271452202463,
          1.5623371715311234,
          1.2422083487867899,
          1.4848879604688943,
          1.3044986135695016,
          0.303953489081125,
          1.168595550209575,
          1.6290922902605054,
          0.36522925654954563,
          -1.4359446534017013,
          0.06592910845293018,
          -1.2501806962634425,
          0.35242348669587986,
          0.5219991373188864,
          0.12071843281537203,
          0.7367903968440559,
          0.9339842015674862,
          0.6260314064275336,
          1.1017579199807555,
          0.029434363090480566,
          1.4360195655101715,
          0.3265780068401733,
          0.2546219369598756,
          1.013195219943235,
          0.7586935229585201,
          -0.4293022605403323,
          0.44254278924464274,
          -0.017954637279326176,
          1.3974646451837016,
          -0.5719967674148992,
          1.2118499008251302,
          1.5432613993731106,
          1.8463902321032033,
          0.8517324091029553,
          0.5231426773109253,
          0.7172767556967555,
          -0.01481233942035011,
          0.6740278616052884,
          0.13397254451196072,
          -0.31641416307777065,
          2.6372468624187317,
          0.9732994102064862,
          -0.0694614012282538,
          -0.04847631316391035,
          0.6008191631848391,
          1.7024577438216564,
          0.22606968778492934,
          0.985963748048518,
          3.6009870540312785,
          0.1658957434365795,
          4.015508170914256,
          -0.5283858821370959,
          4.015508170914256,
          1.2852514925547613,
          -1.2538733405730833,
          1.5201876144097963,
          0.46676008436990024,
          0.5926019884209374,
          0.036632608894510636,
          1.1697121668464308,
          0.7054202653376574,
          2.0153596046836912,
          -1.4879429228210108,
          -0.5120242154034724,
          0.6592526230945371,
          2.4975751492205878,
          -0.3065510631536261,
          1.3476938721925045,
          1.6356608606387966,
          0.7275659416159649,
          0.24859365515157913,
          1.4238326033515607,
          1.0719598387787315,
          0.8072512724749489,
          1.5988968281253424,
          0.7640721177159112,
          2.878646198596776,
          1.6496394382455641,
          0.6407463928179674,
          0.09640300958251508,
          0.9385261139072142,
          1.548343745994546,
          0.24366722426548656,
          0.9059066706555707,
          0.5062488462327603,
          -0.3347353956259722,
          2.849468359731691,
          0.5136061474489901,
          -0.6544083573068762,
          0.5931578055316848,
          1.0416315882307468,
          1.2378387852628496,
          1.4193403346876867,
          1.6449463426414914,
          0.08100386442235963,
          -0.3208561668855657,
          -2.177166976356309,
          3.551184350842573,
          0.6655986849179281,
          0.45855537087500087,
          4.339508935633532,
          -0.15682096135322635,
          -0.35489804592857893,
          -0.280453487017417,
          -0.24248295085573543,
          -0.7587586798467031,
          -0.8801508104052361,
          1.0316017960292776,
          0.5054578533099451,
          -1.41845263596193,
          0.06079000695846048,
          -1.173780335378444,
          -0.43858512810427297,
          -2.0110330052241943,
          -0.715605643109727,
          -1.421944548282912,
          1.0777772854812684,
          -0.05375926393291755,
          1.6814080868334844,
          0.16825732523787681,
          0.44855124449754014,
          1.2318972676517566,
          -0.7548267487074507,
          1.987666741472343,
          -0.8597814470528744,
          -0.9313634986391519,
          -0.8005214713020803,
          -1.8901043511651356,
          -1.1950049090764177,
          -0.3553875555426974,
          -1.1393896735941482,
          -0.6088341792179548,
          0.6877090819517139,
          -0.5039526412022916,
          -1.2423711055236795,
          -0.7028069772528649,
          0.050152553729185465,
          0.6071506933663408,
          -0.3403591566973224,
          -0.24088137950960464,
          0.4392927999063257,
          0.45664027464923956,
          0.9534501373803485,
          -0.11498589496320041,
          -1.931546141157013,
          0.47859003912352827,
          1.1655026285713959,
          1.2679434784358634,
          -0.6180433072867555,
          0.664885262417786,
          1.4867628744254044,
          -0.5519320079501017,
          -0.17070793752065,
          -0.2843688565788877,
          -0.5580829344979473,
          0.9211307942564751,
          -0.023670968421742773,
          -0.16226447857728643,
          -1.080883112042168,
          0.3859822563767447,
          -2.1509115594061448,
          -1.4066278328199147,
          0.453437204590951,
          -0.04554816848116417,
          -0.03249100756082554,
          -0.20943029972202726,
          1.2516418310337998,
          3.8548239199439847,
          3.8548239199439847,
          0.4635309506254818,
          1.0952042720666886,
          1.4688296200578794,
          1.252289372921912,
          0.27278970457437013,
          1.147767753917368,
          2.1993170160065705,
          -1.1634149882826061,
          2.269978309908664,
          0.6545659859138225,
          1.8341334488968803,
          0.04747423209368185,
          1.7644917902132573,
          0.22883704702775806,
          -0.7370869388697158,
          -0.34773916118208986,
          -0.2210840324324674,
          0.9884601860838328,
          2.1492462208448853,
          -0.5697394195184843,
          -0.7171655293491992,
          1.2245501349587584,
          -0.7837179333155863,
          1.3334051730261975,
          1.6142463936010978,
          -0.8263287472699312,
          2.381701426840121,
          -0.06589601746806409,
          -0.223637542055641,
          2.138731481090316,
          2.7188461597627778,
          4.417231373138001,
          -1.783780139443658,
          3.4633503045934035,
          1.1937150885252608,
          3.2887045928457956,
          4.417231373138001,
          2.4790989754150647,
          2.0681442222218713,
          -0.5026322538669175,
          -0.19854537662382674,
          -0.6970836619405514,
          -0.7801254019185828,
          2.595727222177658,
          2.406585258548936,
          0.5008578239728002,
          0.9382678147230398,
          -1.0625134153469489,
          -1.555933622313154,
          -0.711763269047911,
          -0.13450811960956108,
          -0.9517551856565469,
          -0.18980871010443207,
          -0.8843065138045929,
          -0.7854838571820405,
          -0.9437918656949434,
          -0.10056766921212898,
          0.6035353293367562,
          -0.2775372708637668,
          0.39306503435447415,
          2.379354342305601,
          0.8343831941230093,
          0.6757298458008344,
          -0.19132921070551703,
          1.1292178206397057,
          -0.6646423160909628,
          0.8936029472539148,
          0.15511864147183663,
          0.5825671238286988,
          0.7772070571536064,
          -0.8263287472699312,
          1.7612184168735627,
          -0.01890339141442638,
          -0.36959248927652777,
          0.7845723908129916,
          -0.707399170121817,
          0.2413928802059825,
          0.8006627318160446,
          2.8494955083921494,
          0.44055434829442897,
          2.3199051611007846,
          -0.9313909483512489,
          -0.8233334391672761,
          -0.2714715859437118,
          2.3199051611007846,
          -0.3941928423539812,
          -2.489935707637234,
          -0.49730567090619626,
          -0.5263258674821057,
          0.12398543478297691,
          1.135970896927369,
          -0.8621072723744377,
          2.3199051611007846,
          1.5474061987811778,
          0.05344586351929628,
          -0.8555943411699137,
          1.5733308043886878,
          0.5743838818778769,
          -0.6618650757458984,
          1.2617902955338443,
          2.6865026463053447,
          1.776973254369321,
          -0.34160645390726607,
          1.2146882086977604,
          2.7815762922045866,
          0.4359981157911498,
          -2.293050487895478,
          0.7249101947303136,
          0.8412171281494442,
          -1.3752624805420086,
          1.1166459437425689,
          -1.124262890812477,
          2.8291637558375533,
          0.9817543859143917,
          -0.21051419844303793,
          2.7168833135985846,
          0.9265785771605769,
          0.8466017161633503,
          -0.2252529934771042,
          1.4758826827220202,
          0.3677425438450119,
          1.2160991965579437,
          2.41480296615118,
          2.0503408586582723,
          0.4952206745232657,
          0.21061984485628246,
          1.8138346877962601,
          1.0839696445652336,
          -0.3206873625672114,
          0.012553299003932622,
          -0.7418038948205438,
          -0.609361133705133,
          0.7472260056966719,
          1.5650756110804924,
          2.9170873541127618,
          0.05936058425005411,
          1.6895022284650327,
          0.5226512871502111,
          0.36236484736230423,
          -0.5448787834461936,
          -0.3443028084832794,
          0.4827102925202863,
          2.473861280738637,
          10.655072697769699,
          -1.4897328822849623,
          -1.1470093814972133,
          0.21262302472528236,
          0.7983648377669126,
          -1.248857368346993,
          -0.1315206521139015,
          1.0270995181252016,
          -0.6737149105328759,
          0.6880030271849525,
          -1.951785465972928,
          -0.08854889154165801,
          0.27703071922716904,
          1.34409992947213,
          -1.2460070604604834,
          0.2256414076956735,
          -0.23571007156390875,
          0.8451972476497825,
          -0.05592387623058867,
          -2.179605333715646,
          -0.09962791938201254,
          1.4706235716213218,
          0.5528409459200478,
          -0.39806590813213316,
          0.3330341533024179,
          -0.08549295200234011,
          -0.17886301032397428,
          1.890270069109467,
          0.8613508077533407,
          1.311493179238092,
          -0.062448783371745836,
          1.7015092665648994,
          -0.23511045318226426,
          2.1227662879161713,
          0.3662024786030598,
          -0.23978624568190984,
          -0.25684872674726006,
          0.4995034436869097,
          -0.2225232362164672,
          2.0493785593603686,
          2.403221729128713,
          0.7598051264105325,
          0.5070839638592769,
          1.3216913033700255,
          1.5553535926082662,
          4.615788752257964,
          0.8678575461206586,
          1.1492997751415306,
          1.1968897673941374,
          -1.382143508643083,
          -0.11378689520612101,
          1.7142495460752811,
          0.01802635056823086,
          0.925353329239293,
          0.2214131756629468,
          -0.7061834971939471,
          1.5429798134178536,
          -0.4392720374118625,
          0.15720762430722565,
          0.09348907585128402,
          -0.9998377955505666,
          -0.43788347489988233,
          2.441657918830827,
          -0.6763028241994381,
          -2.134545693906943,
          0.0852914975671657,
          -0.45994100449324793,
          -0.4002376365763167,
          -0.2630978069448269,
          -1.1531550026513828,
          0.19468065328687,
          0.6227305523983446,
          0.9118179425672545,
          1.3279100339280252,
          0.9980631144403428,
          0.7147399440931623,
          -0.20826027057164673,
          1.7263689417377255,
          2.1996992858760334,
          -0.3430129291297418,
          0.3435454674448507,
          -1.719860526440989,
          2.856754027368449,
          -0.9002497687941052,
          1.1575674148564201,
          1.1753182990918989,
          0.34226012519638116,
          0.9386771565649856,
          0.6920068835901729,
          1.1527697417401646,
          1.0119184987483922,
          -0.5629407899545497,
          0.24328076916782887,
          -0.25368404118451515,
          -0.6491156555540101,
          1.2784502451111537,
          -1.8289771998796014,
          0.02237425966887617,
          0.48110498733712803,
          1.1939764597127334,
          -2.1072560640962554,
          -0.6712857841139537,
          0.20082147643444842,
          1.7879772921229027,
          0.9289489539960277,
          0.8112809459531376,
          1.9727159995442345,
          1.1736018985804353,
          -0.20784856446512018,
          -0.6953201135947638,
          1.076411572746484,
          -0.7684936202109571,
          -0.6188745486253684,
          0.09440216581759173,
          0.03518803450999769,
          -1.4567336893957867,
          -1.3733438204708575,
          -1.4579360285799718,
          0.687104355036411,
          0.05403507502901575,
          0.9063515345391587,
          -0.7824584427965569,
          2.3314441464879976,
          0.09384577740678998,
          -0.6236201236126783,
          2.21253662987542,
          -1.9805219242858445,
          -0.35822633250873337,
          -0.7288590210965898,
          2.3459830845741374,
          1.0093409287993718,
          -0.04845323635337087,
          1.138853778173144,
          0.7329827850018529,
          0.8200268429822785,
          2.4550430893037825,
          1.6778240324323195,
          0.5991847363734273,
          0.5130146877962751,
          2.6295626832076153,
          0.7539883175258139,
          -0.7803257143803358,
          0.6963913706736694,
          1.138853778173144,
          1.5520585685368626,
          1.8125421598774252,
          -0.11402173852548034,
          0.6240809593111564,
          -1.1780643418933412,
          1.4891807488197044,
          -0.5456677398938213,
          0.4136138454577284,
          1.088867762671137,
          0.9913952020190767,
          1.6181069658530745,
          0.3017102913808111,
          0.23667151512063683,
          0.8491211797690409,
          1.2828071405726749,
          1.9978047001499937,
          1.1272634199815348,
          1.0982586285630627,
          1.383406020534843,
          0.6431999295822962,
          0.9442962653469265,
          1.2354618686207255,
          0.05103216243800883,
          1.1889023583853766,
          -0.19908939888371002,
          0.11979197873717619,
          -0.43085373927448434,
          -0.6769470757307674,
          0.6023428151510618,
          1.0960673202629232,
          1.384763328684512,
          1.079786497630215,
          -0.4028127545581599,
          0.30919609445537066,
          -0.9843414999895811,
          0.19173237177007416,
          -0.35285976434570765,
          -0.8742012369704868,
          0.20891191960568295,
          0.14357264455415422,
          -1.3085114343003192,
          -0.9543622650432493,
          -0.7733522790515862,
          -0.8671137448312864,
          2.1947867228657514,
          -0.6771071743630953,
          -2.097128095465284,
          -0.2250957882415632,
          -0.10036047859837649,
          -0.6797584070912139,
          -0.5756775106708505,
          1.8036147448923063,
          2.392497314663657,
          2.5592317283164983,
          -2.1276828349795482,
          -0.0232582276892829,
          -0.9074728314518995,
          -0.1881362370297941,
          1.4998791315404474,
          0.0631740873426244,
          0.22213241906155134,
          0.016627349560509066,
          0.3595359819823647,
          0.3374767298973106,
          0.43341339915055765,
          -0.8343991321250441,
          0.2024816630444448,
          -0.9582328923055384,
          -0.8656110237931799,
          0.5278464417689873,
          1.7064373930691805,
          -1.0447980204468355,
          0.38760406645520695,
          -1.6762802697763188,
          1.3568163438083338,
          -0.570184089636054,
          -0.413633702029812,
          0.6853765967222664,
          -0.45376605606013815,
          0.4790252435561777,
          -0.7833480740763212,
          0.023179156928572725,
          -0.15815626592026158,
          -0.9247331328828969,
          0.6894752032958058,
          1.207910812926923,
          0.02114082618492033,
          0.444137306297143,
          0.9035597045092797,
          1.111371215058898,
          0.748471352098037,
          1.9193642431399802,
          -0.018256524593440834,
          1.064218882819625,
          -0.024232184349001158,
          0.566031107395961,
          1.1727186397006575,
          -0.08239362599142444,
          0.6144410494964125,
          1.1715510095613109,
          1.1866218311538226,
          0.9902966691424805,
          0.9272729126551122,
          -0.5630384748857732,
          1.0725131916945523,
          2.0403849898099073,
          0.24859713831189859,
          0.3016067395756845,
          0.12999904528182302,
          0.17336988635256428,
          -0.4758333132819251,
          -1.4883894091679426,
          1.8795869889005508,
          -1.621575548002492,
          0.4645831566836989,
          -0.026563684745065604,
          -0.09043333985939633,
          -0.32738027056278635,
          -0.45788115235778676,
          0.19301574257162382,
          -0.891027154414596,
          -0.8619022311237987,
          -0.7141653829018143,
          -0.5163528011105396,
          1.069988062173211,
          -0.5511125905158069,
          1.5288428097029423,
          1.5596569772066606,
          0.6976177126420715,
          2.6694542431701698,
          1.3924946568465082,
          1.0678772752810404,
          -0.46605045961786146,
          1.1289370726337054,
          1.1977783744662625,
          0.926880870465434,
          0.5608970551106948,
          -0.32157990872213466,
          0.8623162943491014,
          1.0339009245852036,
          0.32222272808620545,
          -0.3608545177664143,
          1.1725543123076065,
          -0.07499015557502664,
          -0.9506618534004393,
          -1.740960641596914,
          3.0025294097643864,
          -0.8375813835802627,
          -1.2770071947860655,
          -0.48691143976543017,
          2.030972267841873,
          -0.2953786745360506,
          3.1050915889207062,
          0.06096757670005645,
          -1.2868807086721612,
          -2.163309399574272,
          0.4103992994058894,
          -1.2734252961427242,
          0.5739540543430875,
          0.17440470959738533,
          0.48135192354499245,
          -0.09348235606961328,
          -3.212375305032981,
          -1.0933491586262627,
          0.056689809331605084,
          0.7692125677599059,
          0.47480805477450894,
          0.34216261617286614,
          0.34216261617286614,
          2.059012593736231,
          -0.14102887199557673,
          1.588949793999535,
          -0.1480309125417157,
          -1.2447671276243697,
          -0.7216219610137677,
          -0.9768384067286211,
          -0.77224896344018,
          -1.008637264287212,
          -0.7302593500329905,
          -1.0719742506646996,
          -1.0793610229052075,
          -0.8040960426640426,
          0.8153376767010911,
          -0.7721238256337164,
          -0.7456725768186085,
          -0.45861899946375084,
          -0.14652375384247204,
          -1.6312445455401239,
          -0.8354554245698698,
          -1.0042895646473287,
          -0.5594685799137867,
          -0.8893682125632908,
          2.4308030132674467,
          1.1105038924898074,
          -0.9855623357030757,
          1.0247157656748445,
          0.9668073742390519,
          -0.9740482200457633,
          2.026063490444314,
          -0.394703205282657,
          1.3235362321092652,
          0.4927290175986722,
          0.31438098518083024,
          0.35893981829173294,
          1.084424746526619,
          -0.7899931723816086,
          2.5592317283164983,
          1.1371760270199416,
          1.531738861741695,
          1.578333650334027,
          1.320448719722392,
          0.06665472160811169,
          0.6790227763982122,
          2.3965190161021765,
          0.7100607332241557,
          1.3366306756173107,
          3.2970453570072586,
          0.5475950368303479,
          1.667924586490847,
          3.2970453570072586,
          -1.5283146592889592,
          0.44985792229351007,
          -1.652223681185905,
          -0.32684234601677037,
          0.7919757461640164,
          1.5573484204827974,
          0.7502306966116504,
          1.9621165116223505,
          1.1200673650828146,
          1.4043676811731531,
          1.6597775104170724,
          1.6568916208227593,
          0.15087189643627835,
          1.4526043227689465,
          2.04118798567968,
          1.5222780337442408,
          1.577906210484613,
          0.9992005728188814,
          3.37059630868063,
          2.796037257226505,
          2.007778154744065,
          0.20121478597352666,
          2.6944021154073634,
          3.0239495841065027,
          1.9373929797077314,
          2.7746514309736776,
          0.7563264003480737,
          -1.1192192811025723,
          1.4866003077470584,
          1.8726498277083434,
          0.3398906231013432,
          -0.7835507011456436,
          -2.665828030633769,
          -0.3959231120112325,
          1.0545358520121981,
          -1.3866991476723993,
          0.38869653477666166,
          0.32209570817844857,
          2.56997442651202,
          -0.8627330612563169,
          0.2125958268928646,
          -0.35900506759339124,
          -0.3495706997916176,
          -0.4536691624618342,
          3.024181244062905,
          -0.569082780124493,
          0.6305534846408982,
          3.184107154424602,
          0.42283834931005254,
          0.3085579308649916,
          1.3674013872017994,
          -1.0673586008701101,
          3.71838652140717,
          -1.0271567199774998,
          0.1096687964780616,
          1.730211288825744,
          1.0230561315702202,
          -1.7899291683087553,
          0.2688204046360697,
          -0.08150996342250116,
          -0.9286486226864898,
          0.7252328804580759,
          1.239102489912158,
          2.710921080411863,
          3.7673991966452203,
          0.4150590169174882,
          1.3819617259122983,
          -1.3112364598117547,
          -0.9858180641550034,
          0.7704442751735844,
          -0.683765217407312,
          2.056624007184046,
          0.2610554238270345,
          -1.8356247523272653,
          -0.24267594828350383,
          1.4630611184526494,
          0.25787610856142673,
          2.66488885396279,
          1.7644917902132573,
          0.8849878914284877,
          0.26090988737012605,
          2.196958441138205,
          -1.1014463975718431,
          -0.4255071565401106,
          0.5921543752320477,
          0.35555574319950545,
          0.5789019714253467,
          1.7389649770484517,
          0.1804547936005818,
          1.5217858411282357,
          0.2204135161144942,
          -0.38743561650451674,
          1.5308694696505514,
          -0.20157474856059848,
          0.7086285666970341,
          1.9255353590366695,
          0.25679935499602413,
          0.9478624903968522,
          -1.9368870910751725,
          0.22728353697595385,
          -0.4547713879645875,
          -1.8362222276583697,
          1.984756141120075,
          0.3847530234789711,
          -0.14669077006061176,
          -0.2808055503792635,
          -0.27570941360477097,
          0.7058662971241412,
          -0.5976483574385067,
          0.44119525523144343,
          -1.1101222805521924,
          1.6799070256080613,
          2.1298845704220515,
          0.3734087430080279,
          -0.6496148131056309,
          -0.9000254502980892,
          -0.8297297706139449,
          2.7377156552839588,
          1.5880170708982293,
          1.1311430395270827,
          -1.0269335390867893,
          1.6665678920416966,
          1.6906963852225803,
          2.64952455827318,
          1.2941605710892718,
          2.247594311659041,
          0.16483884549821903,
          1.4916167024707692,
          2.174649664330304,
          1.0819095389132645,
          3.139435255072756,
          2.3284337039426823,
          -1.0428950371281673,
          3.0731026107248605,
          -0.30545433917593007,
          1.9711462044024186,
          1.485351128683615,
          1.6791681597681982,
          1.8463902321032033,
          0.015108453459396091,
          -0.581156553939575,
          -1.1269971785412194,
          3.6009870540312785,
          -1.1289826841613717,
          1.2234994759580664,
          2.246156704527968,
          -2.894066685296138,
          1.036593366269227,
          2.6059225205000907,
          2.88216407352692,
          1.016043375685218,
          -3.6702377317640833,
          -0.9679439106492386,
          1.148406545228804,
          -0.4838993058941404,
          3.503126010593504,
          2.708215859213234,
          0.25125502905394925,
          1.780961582917311,
          -0.6598725627828093,
          -0.5459755316087276,
          2.118856326112169,
          0.31704458267320956,
          -1.97741593254853,
          -1.4422487695071238,
          0.6166743702711034,
          -0.01915944548878229,
          1.0192247313685394,
          0.10157871538829313,
          -2.0848222333014186,
          0.3537454180827418,
          0.26455370143206697,
          1.0745720318020522,
          -0.7392308882579007,
          -0.12234074475666698,
          0.630010941293285,
          -0.13527749682311146,
          0.63119856504401,
          0.8205834551108143,
          1.4222862564479926,
          1.1681950818228979,
          0.20741504461037122,
          -0.7917439328627623,
          1.2517168910667953,
          0.24313376525652264,
          -0.12951672945062287,
          -1.668326162360846,
          2.505955075199596,
          0.9883074082161155,
          -0.258172958878751,
          0.12107890791994746,
          -0.4353743291553652,
          1.233024219595763,
          0.6242860555600619,
          -0.019794280868774182,
          -0.1735960732322921,
          1.8531580952390927,
          0.2470278231473042,
          1.229418735349136,
          -1.0973583100513356,
          2.9979932141050942,
          1.1831837769198117,
          1.1672007143218888,
          1.0662067760275098,
          0.48605124171784747,
          0.6791335102103392,
          0.8344556769406098,
          1.4834456573250552,
          1.8000990056407589,
          1.803021922018024,
          0.1790703737768366,
          1.941858723195149,
          -0.2376006548562733,
          1.9082204394223932,
          -0.9039293606789117,
          0.7352620067670989,
          -0.878460449306917,
          3.7003638759709783,
          3.203622237055564,
          1.9679493247420115,
          0.21227325955078505,
          0.21609175871663955,
          1.0536595872552301,
          3.184107154424602,
          -1.4188235572963066,
          0.5509721204557547,
          1.6630452872180241,
          0.9884374198317742,
          0.31234951853978143,
          0.34248546012214703,
          -1.376675423605689,
          1.25513337141349,
          0.7325838763036177,
          1.6669305379392785,
          1.155714332530536,
          0.7395492526538053,
          0.3063351086376269,
          0.34438347003410086,
          -0.2331338906553653,
          -0.3346300500908003,
          0.8603256410329566,
          1.5484729744203656,
          1.3005931186411435,
          -0.5680862674454349,
          -0.22730478905520796,
          1.7514428099434598,
          0.6963279472189596,
          0.6839069242654007,
          1.9600996814226836,
          2.2071667299618656,
          0.8848111609397764,
          0.9480165759736254,
          0.3412898444951928,
          -1.2112379134414701,
          0.2594613457868338,
          -0.6276283848215509,
          3.169211763718533,
          0.988547924872845,
          -0.6195970736429043,
          0.6781670645566088,
          1.8650809096964154,
          1.2632088121507423,
          0.45182355623315457,
          1.4511911396905104,
          1.580807896331977,
          0.6900138759617919,
          2.6629670182666447,
          1.9555818031781387,
          1.205224309764618,
          1.0508796651772654,
          2.17559353205685,
          2.6730236455632856,
          0.05597934026470333,
          -0.42896721228513035,
          0.3055799890603512,
          -0.685095613540718,
          -0.8876902806108425,
          1.3446405842843188,
          2.970135916059769,
          -0.7346559678789616,
          3.216376576331284,
          0.9172725728070638,
          0.827417624268586,
          -0.6866579546089595,
          2.047061136587271,
          -0.5413234374319624,
          -1.6662912764654836,
          -2.368799801544297,
          -0.23917030901022043,
          -1.6146275146389997,
          -1.3771631744149115,
          -0.0030737642738471035,
          -0.18194102467638362,
          2.6838557443253275,
          0.5663941968984476,
          -0.16844289561727818,
          -0.7666728261091217,
          0.2685419960283518,
          -0.15492125010997787,
          0.02237425966887617,
          -0.9092025185308001,
          -0.9035474480102563,
          -0.2287972966645966,
          -1.351025480021776,
          -0.9685479155899259,
          -0.09480161807758183,
          0.7511500598641946,
          0.5153509235193652,
          -1.81372129274384,
          -1.7530335744651924,
          1.3868270226850028,
          1.7211318354342446,
          0.2132188861824521,
          0.7754798477123446,
          -0.06836172798774431,
          0.8702177525553768,
          0.5201966993601671,
          0.42414988124866115,
          -0.09795697031106906,
          -0.6915150330284591,
          0.42164050184703517,
          -1.30591247497955,
          2.957021592428506,
          4.18284266986685,
          -0.11812428976112528,
          2.4166825701675863,
          0.09404467408648307,
          1.3154842311821617,
          -0.4897378474843246,
          2.957021592428506,
          -0.33389213251692385,
          0.1294705668593609,
          0.7497762344508971,
          0.020670631799061562,
          0.3611581961630178,
          1.6823583966754925,
          -0.6909982648718525,
          -0.17937806449216492,
          0.41119220997518435,
          2.276345074938902,
          -0.003321269555227331,
          0.32069950535512076,
          1.8770250881872628,
          1.7770457635714103,
          3.5329832296042953,
          -1.0087714550497715,
          1.2898749599002863,
          -0.17272627550698474,
          -1.0185929203673505,
          -0.036647752038831825,
          0.47936177267066177,
          1.110356604828856,
          1.3986124816569672,
          -0.5329003917441227,
          -0.6012242287079643,
          0.3349872646009678,
          0.7059099135811278,
          0.6564089392378059,
          1.19293033201518,
          1.2719552203124005,
          0.6485291094567656,
          1.0346154339860227,
          -0.3656952962095512,
          2.068411960887803,
          0.6413520520792465,
          -0.7520208515635143,
          1.5200736071878462,
          -0.16282055283395602,
          3.2058466978818316,
          1.1893586750881693,
          -0.6395397521197677,
          -0.7232956892104231,
          -0.47854616519171705,
          1.836707256294991,
          2.182061270961075,
          -0.4080256693360807,
          0.20715075313254924,
          1.1612325170205728,
          1.1950244595174533,
          1.6457106413443194,
          1.235932900897439,
          1.1275902891854364,
          0.5851840541811942,
          1.4598663072634275,
          0.8365183312437412,
          0.5992805461427148,
          -0.6549779502165438,
          0.95691753544702,
          1.4744922753728904,
          -0.44897195767905357,
          0.04760260134189538,
          0.5335301321670315,
          0.49157192898842195,
          0.2104847924682498,
          1.9153318153381016,
          1.5673934464385715,
          0.5665543343631742,
          -0.03754961685012273,
          1.1602492651052636,
          -3.628645599642423,
          2.5932443117405595,
          1.05459717317207,
          0.3740599414739666,
          0.8190632321582018,
          0.0835456615072811,
          0.319265477288081,
          -0.34682628638292506,
          2.9286818101884213,
          0.24225446290648664,
          0.4883910047763909,
          1.3915069908400781,
          0.34676427283469513,
          0.5081272806115065,
          1.289420651391043,
          1.2157451037461633,
          2.6282633867889142,
          1.3472118139992808,
          -0.527677723451104,
          -0.2548158129231718,
          -1.8220844059174135,
          -0.8062741646986039,
          2.1993170160065705,
          -0.05362719883449921,
          1.2454593501006577,
          1.1448388793540742,
          0.775193509107551,
          0.5940534787161516,
          1.8392691413338582,
          1.8447860418893613,
          1.8713885081870063,
          0.0921427661403276,
          0.5408131188625678,
          3.2262462623760575,
          1.098897768489588,
          -1.1751538991501709,
          -1.107804682946881,
          -4.630958635745123,
          0.34623906981370633,
          0.16679257502730438,
          -0.8390150676477799,
          -0.3633597397162747,
          1.9398363862075054,
          0.9729859993213469,
          2.498745153500148,
          0.44239314995516216,
          -0.22970923458421583,
          3.422675096019077,
          2.654227659547362,
          1.6882086207585993,
          1.317784686439822,
          2.017837025837631,
          0.26060038224677984,
          0.6556743047145097,
          1.3009263432509124,
          -1.0766032150425513,
          0.1250209501383647,
          -0.8727451858106914,
          -0.09932247674946382,
          2.585479956231263,
          -0.12839146236992105,
          -0.8339174988646147,
          -1.5203579418874298,
          -0.25552346245311414,
          0.17912351055687678,
          2.8056072858006,
          1.5871553120336106,
          1.9699557358567699,
          -0.5343241266707942,
          1.4304923864295398,
          1.3574839006365382,
          -0.6370018155189064,
          -0.8198768945682852,
          -0.4244080362024868,
          0.07759738218069373,
          1.384763328684512,
          1.4287953795003512,
          -2.022980021431459,
          1.1519194623488656,
          -1.2489665952185418,
          0.37013635358318425,
          -1.4844306157910794,
          -0.6663660438677065,
          -0.8923881504532374,
          3.117103872053094,
          1.457704365744884,
          -2.714516899663985,
          -1.1848418747008092,
          -0.02339120051805583,
          -1.4852433267853697,
          0.8658774482310574,
          -1.0020961133872959,
          0.5061262244699053,
          1.0308097060218517,
          -0.1807192348463283,
          1.0109897116296345,
          1.3705416880393972,
          1.4111203179129943,
          1.8055350391092793,
          -0.008525690413335098,
          1.3508809353049431,
          1.3246872486936676,
          -0.2543120653364944,
          1.3462123954005982,
          -0.8013456499749985,
          1.2680684947650618,
          1.2604146050106482,
          1.722642321594816,
          -0.47582097166015935,
          -1.413506546302926,
          -0.9186267660999183,
          -1.1634149882826061,
          0.785787559365762,
          -0.059077943751821876,
          -0.6086705823408735,
          2.477010681126024,
          -0.24806024543424998,
          -0.7953640336277049,
          -0.06184906488959668,
          2.3674756364620517,
          0.45864622639487973,
          0.2033456959149541,
          -0.19492876296242612,
          0.9418610267046046,
          -0.2999346538458647,
          -0.16575467948173367,
          0.5263302256216499,
          -1.3326163276761185,
          -0.4269406919593732,
          -0.21265935470304712,
          0.1377943341916005,
          -0.26409277972689066,
          -0.6078809346957723,
          5.356673730726956,
          0.12998724384772004,
          0.9865805928392978,
          0.35332780145197645,
          0.8850144173467546,
          0.02218107594321192,
          0.1801444459311608,
          -3.179463535155258,
          0.8426825559966902,
          0.06714200065438167,
          0.6750146611417318,
          -0.4753760471099033,
          -0.4753760471099033,
          -1.6613670916135095,
          -1.2778478001128073,
          0.667042905302931,
          1.488542018157014,
          1.6769828654294854,
          0.17111342277656563,
          0.8887872169423802,
          -0.4228258754397061,
          -1.1605570800124068,
          -0.16303431748232314,
          -0.406032893416557,
          -2.097128095465284,
          1.231629025472663,
          0.9400291256694375,
          0.8255197278071447,
          -0.5571483789269099,
          1.9030433551281491,
          -1.0780033660618729,
          -1.0442981851556317,
          -1.0442981851556317,
          1.9030433551281491,
          1.4934341704483705,
          -0.0449360485326998,
          -0.8045291230766857,
          1.0840385270830741,
          2.384382844043884,
          0.9012153639729877,
          0.558002019903551,
          0.13839750193039554,
          0.06882177724720515,
          1.4614277150138024,
          2.1261372144915023,
          1.7252286252642977,
          0.8778013023251883,
          2.2865726990463258,
          0.0843808237368647,
          -1.6147715364024355,
          0.7028307361294824,
          -0.5294026670983134,
          0.18713777304055473,
          -0.14022903318048355,
          1.3603939286298843,
          0.173926114457894,
          -0.6201540110278038,
          0.4233598803446542,
          -0.3264501152260757,
          0.3216295809364316,
          0.3297163637754712,
          -2.206950454215763,
          1.0374617601564675,
          1.1329302791496854,
          0.6967627061724395,
          0.3280353452607744,
          1.1062493944981773,
          0.7563635459604593,
          -0.8649412690975508,
          0.3681853186288341,
          0.6304256479533339,
          0.2900101857371194,
          0.7333742272099462,
          0.10108713159718179,
          1.0230134957408925,
          0.7277922481804138,
          -0.08033832110165276,
          0.9505073745761059,
          2.7644983010790956,
          0.6744331970769842,
          3.636793135175722,
          0.48480754124035697,
          0.0818519678212308,
          0.9998804587391916,
          -0.6798225192048052,
          0.559144106176019,
          0.8675854349075648,
          -0.12177261281294356,
          2.5592317283164983,
          1.0705665501248356,
          0.16633736653459327,
          -0.37483312338500596,
          1.3448585819152183,
          -0.5313343321288782,
          0.11651713862581672,
          1.4623441942937843,
          1.5808242923850624,
          1.1891740751332198,
          -0.24884895453889525,
          -0.2126762764453167,
          -0.056273617700100476,
          -0.28001794538959324,
          3.6216132580523452,
          3.142529415612289,
          0.9565660229662654,
          2.023456475795391,
          0.24185355252493196,
          2.904768367571807,
          0.7190677367595573,
          1.4957575947832176,
          -1.5156450244343724,
          -1.0521143579759822,
          -0.8427179441591007,
          -0.6023571013081326,
          -0.36590491041289497,
          0.09848540590693616,
          2.469397565552815,
          -1.4124230420526127,
          -0.7731257172202237,
          -0.08546394624945455,
          0.7540778926073796,
          3.183488933109428,
          0.7221198107790823,
          -1.3304710919703893,
          1.2113473267812134,
          0.162180583556924,
          -2.097128095465284,
          -1.2173525503464264,
          -0.08698848066491399,
          0.01408116242785129,
          1.2803801324011637,
          -1.5059954046543615,
          -0.6184336559976982,
          2.2855378948499534,
          0.058731655130549024,
          -0.5177753672040083,
          -0.3979279663936071,
          0.5739655920471353,
          -0.006539136026288257,
          -0.4868383470374729,
          0.1735097449015422,
          0.17831306481710132,
          -0.40649146726399077,
          1.3184839250020377,
          0.0570503089858177,
          0.8730125518836631,
          1.207910812926923,
          0.20238921872079266,
          2.765415029241391,
          2.765415029241391,
          0.05148700230902625,
          0.8916730029295146,
          0.7109442447507884,
          0.2734703363976267,
          2.765415029241391,
          -0.40157355073061696,
          3.573444410510611,
          -0.0628876609482759,
          0.40046837260554324,
          -0.15199286540165136,
          2.037724428935541,
          1.4845128770249167,
          2.1930243680547674,
          0.5490602882950785,
          -0.2127629732144958,
          -0.19132057399973315,
          0.9835121180343842,
          1.982777336477457,
          -0.3637371347756986,
          -0.23668930665169333,
          0.24611366947251553,
          0.3265494268437253,
          2.6657365050102153,
          2.1619073227998555,
          0.4603492912483352,
          1.7424199987741296,
          0.08401111734488026,
          1.966546147430792,
          1.9110412213912018,
          1.2256808758028344,
          -0.014484055970527238,
          1.5249838845657424,
          1.4911036241509834,
          0.6264987155361884,
          1.4356020632582291,
          1.2004721194554393,
          0.43885647790700755,
          0.191452666545016,
          -0.44939539197590084,
          0.7759991067473081,
          1.1350216584793005,
          -0.7442733450269192,
          -0.05796957631832778,
          1.4861204697504409,
          1.1780698171127917,
          1.0605510538584861,
          2.202140224925242,
          2.0533076652170332,
          1.6785806305712418,
          0.3380370845963522,
          1.7294640158908963,
          0.754048656698698,
          0.07974973791175669,
          0.7216378873599796,
          1.6442999576310542,
          2.6161057486631805,
          1.6785806305712418,
          -1.9541703038756268,
          1.2106262063134463,
          0.7404222535014885,
          0.3340255578020406,
          0.9595174220991876,
          2.084421180585974,
          2.1476542016785687,
          0.8584117066522748,
          2.169585345470361,
          1.8449642541769946,
          2.0226856393272685,
          2.5494270866754114,
          0.7210306255220522,
          1.574271861832872,
          1.508861796136813,
          0.6264987155361884,
          -0.025725097142231673,
          1.018559758862469,
          1.4465459553038202,
          -0.5036431530444829,
          1.6100060310731394,
          0.6343598936546768,
          -0.7041938607682144,
          0.017950984486186754,
          -0.5257446864334798,
          -0.8297140595498547,
          -1.218174545332917,
          -0.5080340066631005,
          -1.7731147256353599,
          -0.3173419466999816,
          -0.276631918929222,
          -0.5612128844574458,
          1.0084722262742827,
          0.23936886797165408,
          0.35765557460985037,
          0.10526454351506315,
          0.7643483798302081,
          0.2760386336237636,
          0.21896574879770164,
          2.5093422554048397,
          0.47249917979260936,
          -0.5107535354565961,
          -0.04912580556523833,
          -0.03492688963587976,
          -0.10852041354769848,
          -0.47732509933547884,
          -0.8397658160184713,
          1.1631225709403201,
          -0.09712976417366734,
          0.217941753501191,
          -1.1383755372258066,
          -0.17710590799100626,
          -0.7464674757529195,
          -1.6853909177199604,
          -0.31376381777476,
          -0.6385794949272228,
          1.056894232207142,
          0.28630097191997966,
          -0.8939255740471467,
          0.310297091216744,
          0.5865081869923994,
          -1.3543555517935308,
          0.30779526766619425,
          -1.2820156712553137,
          -0.0700943376643676,
          -1.5851486978010045,
          4.18284266986685,
          -0.21705358817825499,
          0.24088453803718302,
          0.5999944324855694,
          0.4725486967743759,
          0.20711746670349768,
          -1.6465853405073758,
          -0.9669091769193947,
          -1.5011111267412611,
          -0.9762660634441971,
          0.5195959914399634,
          -2.759042607772309,
          0.927106948028242,
          2.21718716399214,
          -0.2025829659783253,
          1.7378000615798583,
          1.067707100354727,
          -0.5766409923394323,
          -0.04233925641329431,
          -0.18188971938510307,
          -1.4873555008066661,
          -0.006925540340124655,
          0.45634359415758907,
          -0.7242595794301004,
          0.8304302171055469,
          0.4387260553097093,
          -1.2757914644391366,
          -1.5290867386601894,
          -0.26261355048277746,
          2.070365692358868,
          0.533196004697573,
          -0.16282055283395602,
          -4.745736538424162,
          -1.4034599136370964,
          0.3558239841358217,
          -0.4163712529200857,
          -0.9668519601939072,
          -0.013379737083082485,
          -0.4857830426681114,
          -0.20453836647287657,
          0.9598893705979716,
          -0.8128286234754131,
          2.3992168236414817,
          -0.07295824500584387,
          0.011149666119039586,
          -0.22392765406346837,
          0.7918513316708687,
          0.5230089227115394,
          2.121574040421689,
          -1.1572763685167733,
          0.602097899378116,
          0.900004907843864,
          0.22731499722651616,
          -0.43465335726882803,
          -0.8513505083771815,
          2.035027398899235,
          1.2887272950180362,
          0.6688187644592085,
          -0.09368908037348361,
          -0.35619887168924647,
          0.33694195426697865,
          1.1895302668638703,
          0.5160164157754584,
          1.1293730100454382,
          -0.5707096247557442,
          -0.588484875017832,
          -0.3399089822807047,
          -0.37537709890883547,
          -0.8798422287954055,
          1.45023307226774,
          0.07642120303432054,
          0.5013382829154189,
          0.11048121232278466,
          0.4537421590818606,
          0.20200024614223414,
          0.6343646492043804,
          -0.0871734673710666,
          1.4794699489128174,
          0.8387145069316487,
          -0.31696947233194633,
          -0.2404416670160162,
          -0.23576077229830544,
          0.016627349560508844,
          0.5924834074871524,
          0.9343533657365005,
          0.2259630824501618,
          1.579899070771106,
          0.6812023066863411,
          0.007494170377503558,
          -0.21986985341253334,
          0.8701207399890871,
          0.8699467868321288,
          0.32305505237695026,
          2.151105924496311,
          0.9633637903308369,
          0.6066575551185727,
          1.2269564768013617,
          -1.8122042277950732,
          0.08787057604926704,
          0.83325029364597,
          -0.7475921899452536,
          -0.6866579546089595,
          -0.7230051881664976,
          1.1126497664062056,
          1.1374100371628875,
          -0.0466094927936406,
          0.9990311571410517,
          0.7834313726921317,
          -0.09733094963792518,
          -1.031812543606148,
          2.5871886020741997,
          1.806556920993062,
          2.7340547253796514,
          -0.3038373925580165,
          0.9603151908022793,
          -1.1203970336746694,
          0.16707753192409336,
          0.9113947235415036,
          -1.2374046091850368,
          -0.3540625939691121,
          0.8657837704481571,
          -0.5053635169605893,
          -1.0780033660618729,
          -0.75107828296408,
          0.4459071704107968,
          0.8303158789113085,
          -0.6998260341827426,
          0.8914362916542248,
          1.7033292046487192,
          0.44336341845099625,
          1.2043533212807354,
          1.9148903477945551,
          -0.8517394572227316,
          0.03406911063981347,
          2.3341876968580015,
          0.2850270686810862,
          -0.17791320248466871,
          0.6834113876152873,
          -1.0509536782886757,
          -0.6960555498813138,
          0.7347217424607275,
          0.02379784308471481,
          -0.18066682227513767,
          -1.0400006854239137,
          0.011847971740468678,
          -0.6042867067593838,
          0.19571085386751697,
          -0.640633558826094,
          1.4109100744204668,
          0.7495469731582491,
          0.9552166257126911,
          2.4510226695693778,
          1.1670732550338678,
          -1.2352907829762203,
          0.9220131034220316,
          2.174818206154597,
          1.8423241445206116,
          0.7126174765603153,
          0.5372042995401747,
          0.5237296567999399,
          0.9948053869528393,
          0.06122196280817774,
          2.148275988336717,
          2.2021262826940333,
          2.0326198978602696,
          2.0916615102692755,
          1.6346827274842395,
          1.312427496605521,
          2.3666498024809117,
          1.980495039501776,
          3.1053679146043742,
          -0.08335442900602215,
          2.5329131490146324,
          -0.7023144652057661,
          0.5082334733377629,
          -1.2222716866254135,
          -0.1361670378074708,
          1.2627579957290729,
          -0.5390002275249639,
          -2.7033232326249097,
          -0.7805684141122975,
          -0.4150706557398238,
          -0.4969135280511361,
          0.6583078669939225,
          2.2091910070294656,
          2.407302334879228,
          2.3199051611007846,
          1.7764244580554942,
          0.9276550558007568,
          -0.2753321294697396,
          -1.1436680989307269,
          -0.5586084105675986,
          0.8666043355460349,
          0.24763354883187258,
          1.3239486570826848,
          0.847781163056401,
          -0.7629509562877757,
          -0.707482681306933,
          -1.970689361327594,
          -0.6938493088169818,
          -0.0792271018536262,
          -0.8300768366009301,
          1.2586311172897637,
          0.4538604992227805,
          1.3221976825759862,
          6.174641604836998,
          0.2642790813960515,
          0.9339842015674862,
          0.8304302171055469,
          1.2237201666192972,
          1.133978838693316,
          -0.7125985735121128,
          0.12058125570081696,
          -0.3332861843521706,
          2.9676732710995277,
          0.6873750157577743,
          3.1088081366118554,
          0.763813931299777,
          1.0164596812663744,
          1.4664508024138647,
          1.0649991252371964,
          0.5251368641490428,
          1.7452395205111708,
          2.11582778347171,
          -0.12317818301859587,
          -0.3951453760783421,
          0.041115555907571155,
          0.4349714103514062,
          1.4744997120327095,
          1.3218047740150503,
          0.4977948285617438,
          0.9900963706728068,
          1.4641548354171323,
          0.5710648494332463,
          0.9440912226298163,
          -0.3254066219072391,
          0.5728436856810876,
          1.3387342330793448,
          0.29772064029400547,
          0.12417345078800074,
          0.711048443940331,
          -0.25133820537758794,
          1.0201916532463162,
          0.9726203967305537,
          -0.048192839006274496,
          1.6507755513641131,
          1.1466738065516964,
          0.7517740424827694,
          -0.48752523163644135,
          0.9967164548166919,
          -0.3036955678921568,
          0.6143823490340033,
          0.6239216159698007,
          1.3529556125638231,
          1.9354110831507916,
          1.297142831986237,
          3.376086597705622,
          0.5706387754775034,
          -1.6901133854393184,
          -0.611895967134954,
          -0.611895967134954,
          0.45959177262763484,
          -0.4648191345167083,
          0.8663488217080394,
          0.9702114083775293,
          -0.6763028241994381,
          -2.022980021431459,
          -0.5391169825956221,
          -0.7940088384444848,
          -0.6036407771762828,
          -0.44447966053829446,
          -0.7646261588688363,
          -2.564647296804026,
          -0.09200978529912276,
          -0.6592635133305925,
          0.10292245373917991,
          -1.6662912764654836,
          -1.404957368164417,
          1.720543145363637,
          -0.16303431748232314,
          -1.0355573746304034,
          0.578449465411854,
          -0.9846985820555372,
          -0.1750511208298031,
          1.3261989309075086,
          -1.8901043511651356,
          -0.7868481095759065,
          -1.0156475901751203,
          -1.8435075423484122,
          -1.0037820577967822,
          -0.9763595807216188,
          -0.5892037736325375,
          -0.2860778007459447,
          -0.9507568692982765,
          0.10748896737223038,
          -1.2048764529098712,
          -0.8246127815934345,
          0.019415503087972578,
          -0.975119779129438,
          -1.1869941198576277,
          -2.2890305352588394,
          -1.4340855356522715,
          -1.354783764323396,
          0.7201159791570376,
          1.0814084193885691,
          -1.0790149635861401,
          1.4201797395670275,
          2.5191836278816715,
          -2.7773684701090535,
          5.356673730726956,
          0.3559082883047062,
          -1.627567824457411,
          -2.5423592221621796,
          1.3667918415825784,
          1.2360447000498598,
          0.08265644354333815,
          0.08635714002318626,
          -0.6900580499565644,
          0.8857342316288854,
          0.6673817552369644,
          -0.8582440723464626,
          0.11085884491276723,
          -0.7026506305857906,
          0.04663349486028049,
          -1.4037711855225963,
          0.5993321962852856,
          -0.9143606148378458,
          2.133829236902907,
          0.37944475973816283,
          2.3286096859845604,
          -0.031221991517546815,
          0.5239981953485708,
          -0.10454060048386324,
          -0.0515150697595563,
          0.8357290172529283,
          1.4630611184526494,
          0.09646525574269085,
          1.5588453564877958,
          1.3112911496409796,
          -0.5160023647675926,
          -0.0016810281347659772,
          1.0726151431947708,
          2.68457374719452,
          -0.07136159782797916,
          -0.2987113755798081,
          1.0465184627093087,
          0.5922375013383107,
          1.4109100744204668,
          0.8279411886932182,
          0.9321096224006196,
          -2.176308465761316,
          -2.176308465761316,
          1.071870779601278,
          1.8020690885292134,
          1.6820264686337436,
          0.1860898947488668,
          2.56997442651202,
          1.412644171414738,
          1.0095808021906367,
          0.29035989365400805,
          1.0478172814112126,
          -1.7069454566974627,
          -0.11129811236486542,
          0.8610821405562833,
          0.651311511072654,
          0.8577816166784379,
          -0.04131170302450668,
          1.7520871483528841,
          0.9434990799304692,
          1.7753032531415776,
          -0.3009197649491301,
          -1.0644254981485415,
          -1.0632444954435332,
          -0.06851018864908875,
          -0.24169018159523278,
          -0.5973854069870566,
          -0.07645748159350493,
          1.0954372657186429,
          0.2981217571580468,
          2.939245061514513,
          0.4621398874562959,
          2.0813841773178194,
          0.20529230732961795,
          0.021753106873134746,
          2.272588531825476,
          -0.24788725263430117,
          4.089328063827412,
          2.0893429988331182,
          1.159610803577787,
          0.637899028164378,
          -0.005140828602781949,
          1.1919430585688346,
          1.926518911456609,
          1.209411086057293,
          2.0806101966414086,
          -0.3009590923179213,
          -1.1545788921636206,
          0.8645232156019913,
          1.3908104727647295,
          2.108172184507635,
          1.1035702259056597,
          0.3863899078425854,
          0.39802769284718864,
          2.2385109825321767,
          0.8746084681778661,
          1.8674486240617116,
          1.3646110270940355,
          2.2284612245964692,
          -1.4674796576294997,
          2.0430563790265395,
          -0.8658834400355915,
          -0.8246252664464117,
          1.9319965917211328,
          -0.49790203649482023,
          0.6744012093933424,
          1.4825831710107389,
          -0.0607293271883336,
          2.9271799477899143,
          0.9598781178050392,
          1.3089076600942937,
          -0.7731161826195049,
          3.963352082953177,
          0.03362784939651558,
          1.6609152125096383,
          0.22925149849844806,
          4.417231373138001,
          2.116905147439793,
          1.070910751105069,
          0.5944325866301879,
          1.3292428989372689,
          4.139408025809829,
          1.1434366870982822,
          3.150293885873998,
          3.343603536897616,
          3.3698987754665635,
          1.3035624814720168,
          1.7324041610402172,
          1.7151379155982354,
          -0.6164881376617699,
          -0.06220153145534386,
          -0.4916287573732496,
          -0.6078987208516734,
          -1.151500192681999,
          2.8735376263886323,
          0.3765667983920635,
          1.7507188105949587,
          0.48050255395140357,
          1.6039984052472636,
          1.8974505128869563,
          -0.3795230084519213,
          1.9192256394160474,
          -1.668326162360846,
          -0.3897860744864848,
          -0.31978296329218675,
          -0.11090840573242547,
          -0.31059571209544434,
          -1.3371901052411899,
          -0.7084489368541702,
          -0.14969350925245842,
          -1.0307917273498572,
          2.3429124759178945,
          2.8842982575237945,
          -0.7032073230066932,
          0.09212305710368887,
          -0.29009377988309343,
          1.5243454226328623,
          -0.0379529479691372,
          0.6297938699471184,
          1.0975920488153328,
          0.5346349872538363,
          0.5464790351288091,
          1.0975920488153328,
          1.2876028988541361,
          0.2243078490313649,
          -0.5034152867349757,
          0.05651810207364293,
          1.6175709482655527,
          -0.037935449104252034,
          1.110884823659478,
          0.0026841814643328446,
          0.44420354222940966,
          1.4243365050602457,
          -0.24740565849275287,
          1.5914871071641477,
          0.8379432459563251,
          -0.47249010031272554,
          -1.1038678537093367,
          -0.5992393650137461,
          -0.11812428976112528,
          2.529193806688075,
          0.4786487995571306,
          1.5674395640228467,
          -0.8314002016154654,
          -0.9117813691499352,
          0.4919453802456579,
          1.57436169269869,
          -0.17743403352963014,
          0.11453352922496104,
          0.3837704274153346,
          0.12410163783958843,
          2.597332725299867,
          0.7933459963367192,
          -0.27835128603234754,
          0.704743484300969,
          2.29840552663433,
          1.1192675080021957,
          1.1010897028304896,
          4.2252681637481455,
          1.4940701773059843,
          2.585479956231263,
          1.401875968772157,
          1.678647485597245,
          -0.22951795072195683,
          -1.1655825125405659,
          -0.6544333375927488,
          -1.2550557490797642,
          2.4156030651875753,
          0.9266323889500574,
          0.8837904140454385,
          0.5729532840419009,
          -0.7741028366403031,
          0.37263269619519046,
          -0.6551669469524742,
          -0.1279397141534578,
          -0.4120506607661232,
          -0.25907135838815565,
          2.1338418907094674,
          1.6279381716020236,
          1.3656903754166627,
          -0.13014829805079436,
          3.551184350842573,
          -0.8349328524645309,
          0.032612546072132965,
          0.877242480529637,
          -0.7203647734213795,
          0.745393665700114,
          -0.3962511737125882,
          0.9339842015674862,
          1.3311990650621421,
          -0.39345615902402964,
          -0.010443480031913949,
          1.158309037052832,
          1.0377876196552736,
          -0.21163108740253422,
          -1.3462704787663995,
          0.06538815026640415,
          -1.0240638542933482,
          0.7485133713052332,
          -0.03160600754574579,
          -0.7082863805078943,
          0.15986216546225956,
          1.8931629333030626,
          0.24892796574954637,
          -0.20090726619496987,
          -0.012975290217414524,
          1.1602669280322893,
          -0.4170810958422963,
          -0.2793861007561975,
          -0.06769302128552637,
          -0.23860873731462212,
          -1.9040104538747116,
          -0.9613278196418433,
          0.9685939814128364,
          0.09260439884161684,
          0.6957002209799608,
          0.5786780680220577,
          -1.3074940335881597,
          -1.1334991660459415,
          1.1672127576074147,
          1.5811985041918197,
          1.812152533656652,
          -1.698295728377487,
          0.3378639245194665,
          1.253352221126985,
          0.009953978197259739,
          -1.3005983266631684,
          0.4240986512885768,
          -0.20382075522988805,
          -0.2692841409570503,
          0.15409810516223366,
          1.3054826309413001,
          1.260585944925124,
          -3.404856483462597,
          0.5714601669722068,
          -1.6161442281579221,
          0.3745472190853154,
          0.8258378103791217,
          3.35793233386773,
          1.1609143994115911,
          1.4500940129154758,
          -0.6046307048454815,
          1.9584303588243335,
          -0.6368780777468228,
          -1.6161442281579221,
          -0.5380331113361595,
          -1.2917923509638896,
          0.8416510753263036,
          -0.978388910402416,
          0.6514135802946043,
          0.3963726796677893,
          0.3275150070432154,
          0.3453841254559692,
          1.1254840115545541,
          0.627120133965686,
          1.1830678506450818,
          -0.03429181781328289,
          1.0630572515183916,
          -0.46724873609055384,
          0.49795296729923955,
          1.0506820993455532,
          0.42024333216260207,
          0.1743193401463898,
          -0.4349866623454269,
          1.149841369747996,
          0.14085695262274844,
          0.16031453542964222,
          -0.012239229231001805,
          -0.4643846154319351,
          0.743287547971829,
          1.078218535803182,
          -0.10002134917326319,
          0.33618437642185695,
          0.5227732994178427,
          0.8823311594942026,
          -0.2305019585075886,
          -0.9611901327591167,
          0.7150146733176433,
          1.6732979270579815,
          0.1876751551987717,
          -0.635238470643833,
          0.6001993700096936,
          -0.16342200816106017,
          3.538952009740767,
          0.6526011035331208,
          -0.15890970032891827,
          -0.2692781360308118,
          -0.6961067113635315,
          2.5931880252022186,
          1.578750013648235,
          1.6679410258249612,
          2.793176981670118,
          0.7048475539956958,
          1.517550766290444,
          0.7222861279219868,
          0.195468192313024,
          2.313525538676217,
          0.4791999777335061,
          1.7710628069503973,
          0.42453089486858686,
          2.3383588804023048,
          0.5943960528921115,
          2.7463992320994732,
          1.244087831572179,
          1.1330704480995972,
          -0.25613777444762936,
          -1.7713706940371536,
          1.2169166867702848,
          -0.14834874407880516,
          -0.18669890596600705,
          4.250717996259497,
          1.447106126503716,
          2.9898714880744595,
          1.6816819386435053,
          1.5235512355404597,
          2.6808158795184878,
          1.9689293667352392,
          1.7635898101996224,
          4.860570908737348,
          2.5435857250962575,
          1.4460017433165822,
          2.7781858309837544,
          1.8833643883624598,
          1.2046334063176294,
          2.8346137779720935,
          -1.0769035456669738,
          1.451290056145474,
          0.4529578324363935,
          -0.5456677398938213,
          -0.09861379271188911,
          3.907556367943323,
          1.539936005245404,
          2.9362129551670235,
          0.14277808683246154,
          -0.11050737713087139,
          0.1539688054037716,
          0.12874636440709333,
          2.972404398810679,
          0.3668727161064677,
          0.2061282978578561,
          2.868388638321908,
          1.4778016600209403,
          1.071314164811939,
          0.4530377316135596,
          -1.7088727332570184,
          0.42385938795160155,
          0.5470353432428188,
          -1.9162625781567266,
          -0.3155808672169514,
          -0.32560510194564546,
          1.112573925297095,
          1.5533403207397523,
          0.976842361768929,
          0.693812730986567,
          1.8000990056407589,
          -0.7868481095759065,
          -0.03387670073177126,
          0.45728014450559584,
          0.3631487114879983,
          1.35272850418148,
          3.397293118850825,
          0.6438134546568495,
          -0.6428380192982834,
          -0.04769900219847153,
          0.1131303079993091,
          -0.14839419802922618,
          -1.2173525503464264,
          0.028627366947361385,
          -0.6123502725066342,
          -0.8899000126701886,
          1.2281232612877004,
          -1.1894658201003885,
          2.1326027691744205,
          -0.5775322683655755,
          -0.2471149549501525,
          -1.6082553223208849,
          -0.5530206074724461,
          -0.20168881648783993,
          0.7734275405408306,
          -0.46664398353704895,
          0.026863217481413668,
          -0.4810928454979006,
          1.4253633955035365,
          -0.8843065138045929,
          0.09695268368442589,
          1.1332394503581007,
          -1.2659224906017008,
          0.3244357130545976,
          1.5813011166621271,
          1.5268714228070996,
          -2.8066022188841915,
          2.408122592681134,
          0.9484418651043839,
          -1.5160885181486763,
          -1.2444964454416005,
          0.7694820763816418,
          0.29765176761355816,
          -0.9521319600531426,
          -0.40824650803021956,
          -0.255900486874372,
          -0.4167040218624436,
          -0.13051567004769354,
          -0.17658853055072252,
          1.9755126846533753,
          0.15931171297954566,
          -0.9116283116913614,
          -0.7400862925241639,
          -0.4408812598977749,
          -0.46077105902304216,
          -0.7337878938840435,
          2.1592267482936527,
          0.3241362964826763,
          0.4165108202441562,
          0.3803862949500657,
          -1.0432536373771055,
          -1.1302850973588972,
          1.0729366892842112,
          1.1867464917789035,
          -0.09787723287122788,
          0.9551858401036827,
          -0.48781894735319703,
          0.985692071126882,
          -0.8149374744895782,
          -0.2543120653364944,
          -0.048529001850982106,
          -0.06987223459899142,
          0.7386691977573759,
          1.4287953795003512,
          1.9095480531962294,
          0.9372805765926762,
          0.396473554961149,
          1.078218535803182,
          1.710435963330194,
          -1.0760806153865696,
          1.1280628312448473,
          0.40974929999015663,
          0.38324353675719325,
          -1.9476694734032127,
          1.7885919916609643,
          -1.5301979615118502,
          0.9593455443176367,
          -0.7689064086042136,
          -0.7882608007974106,
          -1.0378167337749633,
          -1.8414427521741923,
          0.6404121680936747,
          0.8069184758134808,
          1.158309037052832,
          0.3072000984105419,
          -0.3789714591688196,
          -0.0643034228387443,
          0.2612555341543274,
          -0.9538399018431519,
          0.1673473777203525,
          0.9242461713853904,
          -0.05360550806164302,
          0.3415399554095718,
          0.007100892570602966,
          0.8984977325242673,
          1.9640965288912513,
          2.51646158301718,
          -0.6066391123531029,
          1.077898238852105,
          1.1544363878501975,
          2.7541073575499633,
          1.741841330870417,
          0.049560168469337224,
          -0.17423997390100057,
          -1.7531754298804678,
          1.3143200521370033,
          1.3143200521370033,
          0.6703637581191537,
          1.7110540730503732,
          0.10784085208698467,
          1.2542762635592795,
          -0.34788202386607325,
          0.4140425248115035,
          1.0004287659534354,
          1.796708063991961,
          3.1439133752238217,
          -1.1116221067784022,
          -0.618982765192419,
          -1.3798988002254209,
          -0.4923873033826036,
          1.2950925081244777,
          -0.09963868490337192,
          -0.4173580100732055,
          -0.724479791070872,
          -0.5943363395497929,
          -0.26778491860758485,
          -1.2657003712389945,
          -0.9220319844552589,
          -0.5776187521365361,
          -0.6546338779550172,
          -0.21772704941417723,
          -0.8721826734262641,
          -1.1007638050635067,
          -1.4600891325630752,
          -0.20080593705437944,
          -0.6907025231386813,
          -0.4515731780305544,
          -0.1222964702622587,
          1.7656073231912084,
          -0.2291055972145258,
          0.21339226106058978,
          -1.266635819474252,
          1.0171464983610423,
          -0.5318299290734723,
          0.7687441306237371,
          -0.03441735754716876,
          0.41471677044490246,
          0.06705368671889368,
          1.6366399247846157,
          0.3737918157463364,
          0.8772308389143763,
          0.5774075051451522,
          -0.03387670073177126,
          1.2557251747860176,
          -1.4328357341024494,
          0.8103071006118515,
          0.45516956624725197,
          0.7539553992722564,
          -0.0013286093930815757,
          -0.3300910858415756,
          -0.12647524360807433,
          1.8267815109919485,
          -0.5388888269322241,
          0.9106224341092183,
          -0.6662876704719856,
          -0.23693081583585301,
          -0.06158751101484034,
          0.31274501972477775,
          -0.4933935912295201,
          -0.5226146311615222,
          -1.3316790529403308,
          -0.6905071116381674,
          -0.07924611815583965,
          0.025267352008493435,
          0.4661685886611896,
          -1.0382878469478996,
          1.1069164994379161,
          1.5724569867754283,
          -1.603296418539748,
          1.490588017056065,
          0.11313434567915578,
          0.8357318223492561,
          0.2364956772062742,
          0.9295325995547594,
          2.0479811161357846,
          -0.23269578598383314,
          2.2985368644593827,
          2.8241403312230533,
          -0.7005080442030098,
          0.7062507829186505,
          0.460555298792209,
          1.5229085406668923,
          -0.006169052581747887,
          2.5555271096337533,
          -0.31058065187220646,
          -0.3520106300040875,
          0.03393427171648893,
          0.687104355036411,
          0.7295867598289849,
          0.9876790032721342,
          0.646336100434189,
          -0.93150337320333,
          1.190097892994991,
          -0.48866988748734824,
          -0.07637124436549053,
          1.7456786075484758,
          -0.18086917877974865,
          0.9426886413454793,
          2.201379065747353,
          2.646921930819651,
          1.9458504206879137,
          2.102196519470284,
          1.1122343893912496,
          2.32268432456689,
          0.9679398180994184,
          -0.6262071670997325,
          4.250717996259497,
          -0.1124133237887624,
          1.21332219229496,
          2.4753684213318565,
          0.5985264053664439,
          0.3404823459084703,
          0.6303572341359369,
          -0.3677863408748583,
          -0.7947512694627727,
          1.1449444626756868,
          0.11164920861979141,
          -1.9206178037940844,
          0.06348791978922783,
          0.5541874649154279,
          -0.7255649725514272,
          -1.9328291946207679,
          -1.1997380468493646,
          -0.07516694100046467,
          -2.097128095465284,
          -0.8186320649774513,
          -0.4442152890495286,
          -0.5899166766899336,
          0.4408663415664593,
          0.017052527411772482,
          -0.5399233788681503,
          2.8976992272523265,
          1.1922006766771065,
          2.544094524654428,
          0.5285731748296898,
          1.4432278667812344,
          0.05024359480184801,
          -1.3461251579559286,
          -0.7920501445906161,
          0.21108641213493964,
          -0.23226868262967099,
          -0.5437981343344667,
          -0.17411944869504667,
          0.1677745315723155,
          1.409846166743516,
          0.313189005702829,
          0.573260248139831,
          3.1736814135797515,
          1.3127404846925532,
          1.2727238056802788,
          -0.5145717772358087,
          0.24307493122091717,
          -0.15857751059852682,
          1.922724170220988,
          0.6036790080712279,
          -0.6222444925271255,
          -0.3009643688263416,
          -0.4039811728164837,
          1.2516418310337998,
          2.8560558637513647,
          -0.6210452409997447,
          1.3803322309008976,
          2.1749792235527226,
          -0.6747035127448937,
          -0.1421352416392362,
          1.7965079680922227,
          1.883408324751397,
          -0.1641155247834369,
          -0.06002270379005051,
          -0.23314208295129715,
          2.0485107153447317,
          1.586858753336133,
          0.5292434931872458,
          1.586858753336133,
          0.26111049756007254,
          -0.008756628587925315,
          -0.4445372585401127,
          0.5625625018424534,
          0.675951380295806,
          1.6248602334374886,
          0.5354522951224667,
          2.727309657487454,
          -0.5313343321288782,
          0.3501276341517042,
          0.736098296674862,
          -0.5019080742547046,
          0.5989813664115927,
          0.20564913150381472,
          0.1339997910981323,
          0.754014332511817,
          -0.11549200811159241,
          -1.0470164109495095,
          0.7670890618479136,
          -0.28613675653637727,
          0.5161665468212472,
          -1.3643096613977572,
          0.6756777754327963,
          2.4032567408709227,
          2.257492706182018,
          1.4501979988019789,
          0.6603320909358932,
          0.2965595612135533,
          1.3975907417153852,
          1.5090739055364069,
          -0.49657584608977845,
          -0.8964588828278881,
          0.6525061600907581,
          1.5343642003160276,
          1.2978756895789874,
          0.31457024964321945,
          2.4696546763827056,
          1.7460186779534108,
          -0.45757331133693574,
          0.0843808237368647,
          -0.38310872487424635,
          1.0340068245328382,
          0.39550672755849986,
          1.9878823574409135,
          1.738859244073755,
          -1.2073284147918109,
          -0.9068212030510467,
          -0.2565829685461817,
          1.588349335320438,
          0.9873091388423274,
          0.7884072949979225,
          3.4695883420785014,
          2.0958740353626846,
          0.7403231288156877,
          -1.0118018224225493,
          2.097056507721675,
          3.203622237055564,
          0.6062847954799843,
          0.874759711090083,
          2.0390501675187935,
          0.9976012166592494,
          1.4730902508464527,
          1.0304124254147207,
          0.5250752687492852,
          0.6062847954799843,
          1.276470191505567,
          0.2153870471608626,
          1.0197009048685859,
          1.041964064770155,
          0.5538235566338402,
          -1.8862546319075346,
          0.6852428998849099,
          2.6801381553718175,
          3.1429074402831656,
          0.33084631114146346,
          1.0304124254147207,
          2.6204495406372503,
          1.738859244073755,
          3.356626009844669,
          -0.25294977819720516,
          0.6641334616569028,
          0.11626825588326309,
          0.7975676405610779,
          1.9926246227299536,
          0.8675752702428446,
          1.1701989199330145,
          0.7508821549431884,
          -0.8762685025917872,
          -0.8928993632384546,
          0.9512381364146122,
          3.963974382086263,
          -0.07704848183765513,
          0.9761676831805572,
          3.2617846356132407,
          0.44556893306808193,
          1.11003605084921,
          0.5582661349933343,
          -0.01437467653876165,
          3.5686457646893963,
          2.593361992848548,
          1.0998489918579621,
          -0.19778060250929583,
          0.26133728946393336,
          1.3499822216352175,
          0.018735308694947217,
          -1.1616060715643743,
          -1.3005983266631684,
          1.256226647971587,
          -0.1556384766252046,
          1.429884371223242,
          -0.06917174894261777,
          0.2212267311286412,
          0.23913365932385142,
          0.314579591109059,
          -3.1457800570367045,
          0.4169907163148579,
          0.8387145069316487,
          -0.871907020710029,
          -0.7600738247976531,
          -1.0692760496881029,
          -1.148759131444125,
          -1.887782458465549,
          0.9259380953902394,
          -1.554676471272461,
          -1.0988707957317587,
          0.8188246439878889,
          0.80475955711123,
          2.8664658453137357,
          0.21613842233179417,
          3.660829617315145,
          2.8723019150274505,
          3.3200179376408903,
          1.3846816583107213,
          0.39649051142793035,
          -1.012918579821337,
          0.16223816802188346,
          -0.6332953454114674,
          0.2284823699466712,
          -0.29144273753427385,
          2.6169209394386805,
          -0.6642716936592231,
          -0.16794028201825734,
          0.47178914948264894,
          -0.6074710213081909,
          0.5380172237373404,
          0.3564882012534715,
          -1.1155279717415494,
          0.21661857353672276,
          0.1513665557146207,
          -1.3250438733992727,
          -0.6202282118488163,
          0.9565660229662654,
          0.46493508120563787,
          0.40979802963433265,
          1.4697313399591632,
          2.4869196563230473,
          -1.7753200168918715,
          -0.8559578795141504,
          -0.25383048501470085,
          2.080402316897987,
          -1.7920115212407899,
          2.679245703154718,
          -1.039974424595776,
          0.4799041063861942,
          0.2035502872109622,
          -1.1857668466972004,
          -0.42620388852462787,
          -1.3124021897657852,
          0.007727162678114401,
          -1.4760722921213583,
          -0.5911699250184694,
          0.9393284648253284,
          -1.5039024884292567,
          -0.9802362183918472,
          -0.05545020020193887,
          2.199285324974723,
          1.318561974662171,
          1.774015725594423,
          -0.08752888115281096,
          -0.0671808519467751,
          0.439928448575963,
          1.1776405947425637,
          0.8434945897344394,
          -0.0005829156739702432,
          -1.1454374294037541,
          -0.5229389384441763,
          0.01619029209549587,
          0.5844031262863176,
          -0.596045883084806,
          1.8725126373606031,
          0.9685079242678009,
          1.5366924696742437,
          0.598129432478278,
          -2.634281631475484,
          -2.109213501313923,
          0.8444866387161228,
          -0.10989320459652721,
          -0.3989967777301787,
          0.8030199554639903,
          -0.6243243646079136,
          -0.16356520993638987,
          -0.5596926575648815,
          -1.5864180587112453,
          0.3559082883047062,
          0.21608459047765088,
          0.5538992635895114,
          -1.6175520023027963,
          -0.7833480740763212,
          0.00030832632548275646,
          0.12215604261026125,
          0.9785813632699853,
          1.3958428483275007,
          1.4201797395670275,
          -0.4235459661781311,
          0.051702364307048304,
          0.1503186873741079,
          0.1286075116105734,
          -0.3936145921389446,
          1.5359157996185016,
          0.44948718301286417,
          -0.7126532790636049,
          0.6552131716677564,
          -0.505274966905621,
          2.108446905551141,
          -0.16282055283395602,
          -0.284358337169774,
          -0.29437037779046515,
          0.44946156153717853,
          0.19417983413188464,
          0.43632670245015615,
          0.4391925279118506,
          0.7481571523074172,
          -0.4754881365625549,
          2.419879833610725,
          2.282205218825288,
          2.3593405474445954,
          -1.0472334565888601,
          1.2927185734452564,
          0.5764356901943685,
          -0.0787415407608143,
          0.13638193147920127,
          0.6036494761538704,
          2.3856556001136426,
          0.259863857222851,
          0.4330553871518899,
          0.7121592587666582,
          1.3813240560023592,
          0.8638346826665034,
          -0.9160697498519538,
          0.9967407386970382,
          3.3261563320984098,
          1.4129465833456323,
          1.251375755103384,
          3.0100003649383047,
          0.04382535887842292,
          0.7909741984371016,
          1.6683633517854333,
          -0.5371461875359074,
          0.009701213231985223,
          -1.085572607331194,
          0.00834268080111826,
          0.5029907213909771,
          -0.669172439831729,
          1.6279381716020236,
          2.31537739080146,
          1.6043171629045014,
          -0.05434851515090185,
          -0.3582887067285044,
          2.256777689497229,
          0.7211559056592575,
          -3.1457800570367045,
          -2.309532835438711,
          -0.4376859625469149,
          -0.46995845530259023,
          -0.31866770697989677,
          0.5060744868494195,
          3.8214239467530877,
          1.012568240294822,
          0.5960312551674621,
          0.45593728916431775,
          -0.35702004747938715,
          0.8700004911381993,
          1.176752168179129,
          0.3412395905481007,
          -2.175700239185084,
          -0.9959357886479138,
          -1.349059065724048,
          1.2797314775280004,
          1.6206884446272452,
          -1.2883335773129438,
          -0.03587142548801567,
          -0.4089193802882697,
          -0.4952659762165149,
          -0.36535645515485105,
          -0.3150168568841176,
          0.0578297017500064,
          1.6743549863583262,
          -0.560057323496779,
          0.6593980083327684,
          1.399384475435833,
          1.777996123397672,
          -0.4376859625469149,
          -0.4376859625469149,
          3.4695883420785014,
          2.2385109825321763,
          2.080960025597819,
          -1.9791370645990547,
          -2.0029180949075718,
          -0.12333651371750318,
          -0.8817968918573428,
          -1.5828710092043043,
          -1.9398078358934618,
          0.9152333339446999,
          -0.9551502916361906,
          -1.0930522751124996,
          -1.2938011755473748,
          0.262383059662731,
          -1.540448286428395,
          -1.757836768464761,
          -0.27139832782102,
          -1.7482635760769198,
          -1.3083391672204423,
          -0.9295777174484571,
          -2.0787082289399126,
          -1.5005295644482466,
          0.9250444815576692,
          -0.0758414935845437,
          -0.9777388773112233,
          0.7703149566627534,
          0.4395452128778393,
          -0.5421134751123173,
          0.8400923808716693,
          0.1976258366725024,
          -0.07193753618578155,
          2.271577736457404,
          1.6447614728846367,
          -1.3615500396910354,
          2.030667863852739,
          0.9732317633382924,
          -1.0410097475867512,
          0.34518796753557,
          -0.5103981939741482,
          1.608626665407688,
          1.6888233407545947,
          -0.9499881778596266,
          -2.183820298766813,
          1.7451781867570393,
          -0.7663731750724155,
          0.36977806506923283,
          -0.9064996674321752,
          3.7987454637539746,
          -0.27794177396683306,
          -0.15305316679418376,
          1.2264692722792765,
          1.5297977391694744,
          1.2590945946083199,
          0.6008829405948324,
          -0.0015772804424292464,
          -0.6308289241364199,
          -0.3262234940047857,
          -0.704811686913995,
          -0.16764948913038805,
          1.0370444229655051,
          0.12679357503967906,
          0.5938972407937845,
          0.3559082883047062,
          -1.7142074536630512,
          1.272533016190913,
          0.5518251752319716,
          0.4657741705475371,
          1.5359151072116808,
          0.94203954387282,
          2.8896588964468215,
          0.07754728261347105,
          0.7016476535083123,
          0.6771021488261976,
          0.10458002074048195,
          1.2564977147850804,
          2.07622312665289,
          1.6540355321061329,
          1.2195039928688831,
          0.9895682645408067,
          -0.2941345493835405,
          1.162917083470925,
          0.19157243139434815,
          -0.729933519955718,
          1.528706864137665,
          -0.34388394793164484,
          -0.16155351303111684,
          0.03178986319892543,
          -1.0479223954738106,
          2.1540462861067975,
          0.03362784939651558,
          -1.240646666540217,
          1.1651731832528462,
          -0.28823265651932317,
          0.3771456891177418,
          -1.7006212507456449,
          2.26410916495167,
          0.8121061982916165,
          0.12652175728991227,
          0.416507018372443,
          -0.668292822368372,
          -0.6687762062702765,
          -2.969740528792513,
          -0.9713639496773536
         ],
         "yaxis": "y"
        }
       ],
       "layout": {
        "coloraxis": {
         "colorbar": {
          "title": {
           "text": "cluster_pca"
          }
         },
         "colorscale": [
          [
           0,
           "#0d0887"
          ],
          [
           0.1111111111111111,
           "#46039f"
          ],
          [
           0.2222222222222222,
           "#7201a8"
          ],
          [
           0.3333333333333333,
           "#9c179e"
          ],
          [
           0.4444444444444444,
           "#bd3786"
          ],
          [
           0.5555555555555556,
           "#d8576b"
          ],
          [
           0.6666666666666666,
           "#ed7953"
          ],
          [
           0.7777777777777778,
           "#fb9f3a"
          ],
          [
           0.8888888888888888,
           "#fdca26"
          ],
          [
           1,
           "#f0f921"
          ]
         ]
        },
        "legend": {
         "tracegroupgap": 0
        },
        "margin": {
         "t": 60
        },
        "template": {
         "data": {
          "bar": [
           {
            "error_x": {
             "color": "#2a3f5f"
            },
            "error_y": {
             "color": "#2a3f5f"
            },
            "marker": {
             "line": {
              "color": "#E5ECF6",
              "width": 0.5
             },
             "pattern": {
              "fillmode": "overlay",
              "size": 10,
              "solidity": 0.2
             }
            },
            "type": "bar"
           }
          ],
          "barpolar": [
           {
            "marker": {
             "line": {
              "color": "#E5ECF6",
              "width": 0.5
             },
             "pattern": {
              "fillmode": "overlay",
              "size": 10,
              "solidity": 0.2
             }
            },
            "type": "barpolar"
           }
          ],
          "carpet": [
           {
            "aaxis": {
             "endlinecolor": "#2a3f5f",
             "gridcolor": "white",
             "linecolor": "white",
             "minorgridcolor": "white",
             "startlinecolor": "#2a3f5f"
            },
            "baxis": {
             "endlinecolor": "#2a3f5f",
             "gridcolor": "white",
             "linecolor": "white",
             "minorgridcolor": "white",
             "startlinecolor": "#2a3f5f"
            },
            "type": "carpet"
           }
          ],
          "choropleth": [
           {
            "colorbar": {
             "outlinewidth": 0,
             "ticks": ""
            },
            "type": "choropleth"
           }
          ],
          "contour": [
           {
            "colorbar": {
             "outlinewidth": 0,
             "ticks": ""
            },
            "colorscale": [
             [
              0,
              "#0d0887"
             ],
             [
              0.1111111111111111,
              "#46039f"
             ],
             [
              0.2222222222222222,
              "#7201a8"
             ],
             [
              0.3333333333333333,
              "#9c179e"
             ],
             [
              0.4444444444444444,
              "#bd3786"
             ],
             [
              0.5555555555555556,
              "#d8576b"
             ],
             [
              0.6666666666666666,
              "#ed7953"
             ],
             [
              0.7777777777777778,
              "#fb9f3a"
             ],
             [
              0.8888888888888888,
              "#fdca26"
             ],
             [
              1,
              "#f0f921"
             ]
            ],
            "type": "contour"
           }
          ],
          "contourcarpet": [
           {
            "colorbar": {
             "outlinewidth": 0,
             "ticks": ""
            },
            "type": "contourcarpet"
           }
          ],
          "heatmap": [
           {
            "colorbar": {
             "outlinewidth": 0,
             "ticks": ""
            },
            "colorscale": [
             [
              0,
              "#0d0887"
             ],
             [
              0.1111111111111111,
              "#46039f"
             ],
             [
              0.2222222222222222,
              "#7201a8"
             ],
             [
              0.3333333333333333,
              "#9c179e"
             ],
             [
              0.4444444444444444,
              "#bd3786"
             ],
             [
              0.5555555555555556,
              "#d8576b"
             ],
             [
              0.6666666666666666,
              "#ed7953"
             ],
             [
              0.7777777777777778,
              "#fb9f3a"
             ],
             [
              0.8888888888888888,
              "#fdca26"
             ],
             [
              1,
              "#f0f921"
             ]
            ],
            "type": "heatmap"
           }
          ],
          "heatmapgl": [
           {
            "colorbar": {
             "outlinewidth": 0,
             "ticks": ""
            },
            "colorscale": [
             [
              0,
              "#0d0887"
             ],
             [
              0.1111111111111111,
              "#46039f"
             ],
             [
              0.2222222222222222,
              "#7201a8"
             ],
             [
              0.3333333333333333,
              "#9c179e"
             ],
             [
              0.4444444444444444,
              "#bd3786"
             ],
             [
              0.5555555555555556,
              "#d8576b"
             ],
             [
              0.6666666666666666,
              "#ed7953"
             ],
             [
              0.7777777777777778,
              "#fb9f3a"
             ],
             [
              0.8888888888888888,
              "#fdca26"
             ],
             [
              1,
              "#f0f921"
             ]
            ],
            "type": "heatmapgl"
           }
          ],
          "histogram": [
           {
            "marker": {
             "pattern": {
              "fillmode": "overlay",
              "size": 10,
              "solidity": 0.2
             }
            },
            "type": "histogram"
           }
          ],
          "histogram2d": [
           {
            "colorbar": {
             "outlinewidth": 0,
             "ticks": ""
            },
            "colorscale": [
             [
              0,
              "#0d0887"
             ],
             [
              0.1111111111111111,
              "#46039f"
             ],
             [
              0.2222222222222222,
              "#7201a8"
             ],
             [
              0.3333333333333333,
              "#9c179e"
             ],
             [
              0.4444444444444444,
              "#bd3786"
             ],
             [
              0.5555555555555556,
              "#d8576b"
             ],
             [
              0.6666666666666666,
              "#ed7953"
             ],
             [
              0.7777777777777778,
              "#fb9f3a"
             ],
             [
              0.8888888888888888,
              "#fdca26"
             ],
             [
              1,
              "#f0f921"
             ]
            ],
            "type": "histogram2d"
           }
          ],
          "histogram2dcontour": [
           {
            "colorbar": {
             "outlinewidth": 0,
             "ticks": ""
            },
            "colorscale": [
             [
              0,
              "#0d0887"
             ],
             [
              0.1111111111111111,
              "#46039f"
             ],
             [
              0.2222222222222222,
              "#7201a8"
             ],
             [
              0.3333333333333333,
              "#9c179e"
             ],
             [
              0.4444444444444444,
              "#bd3786"
             ],
             [
              0.5555555555555556,
              "#d8576b"
             ],
             [
              0.6666666666666666,
              "#ed7953"
             ],
             [
              0.7777777777777778,
              "#fb9f3a"
             ],
             [
              0.8888888888888888,
              "#fdca26"
             ],
             [
              1,
              "#f0f921"
             ]
            ],
            "type": "histogram2dcontour"
           }
          ],
          "mesh3d": [
           {
            "colorbar": {
             "outlinewidth": 0,
             "ticks": ""
            },
            "type": "mesh3d"
           }
          ],
          "parcoords": [
           {
            "line": {
             "colorbar": {
              "outlinewidth": 0,
              "ticks": ""
             }
            },
            "type": "parcoords"
           }
          ],
          "pie": [
           {
            "automargin": true,
            "type": "pie"
           }
          ],
          "scatter": [
           {
            "fillpattern": {
             "fillmode": "overlay",
             "size": 10,
             "solidity": 0.2
            },
            "type": "scatter"
           }
          ],
          "scatter3d": [
           {
            "line": {
             "colorbar": {
              "outlinewidth": 0,
              "ticks": ""
             }
            },
            "marker": {
             "colorbar": {
              "outlinewidth": 0,
              "ticks": ""
             }
            },
            "type": "scatter3d"
           }
          ],
          "scattercarpet": [
           {
            "marker": {
             "colorbar": {
              "outlinewidth": 0,
              "ticks": ""
             }
            },
            "type": "scattercarpet"
           }
          ],
          "scattergeo": [
           {
            "marker": {
             "colorbar": {
              "outlinewidth": 0,
              "ticks": ""
             }
            },
            "type": "scattergeo"
           }
          ],
          "scattergl": [
           {
            "marker": {
             "colorbar": {
              "outlinewidth": 0,
              "ticks": ""
             }
            },
            "type": "scattergl"
           }
          ],
          "scattermapbox": [
           {
            "marker": {
             "colorbar": {
              "outlinewidth": 0,
              "ticks": ""
             }
            },
            "type": "scattermapbox"
           }
          ],
          "scatterpolar": [
           {
            "marker": {
             "colorbar": {
              "outlinewidth": 0,
              "ticks": ""
             }
            },
            "type": "scatterpolar"
           }
          ],
          "scatterpolargl": [
           {
            "marker": {
             "colorbar": {
              "outlinewidth": 0,
              "ticks": ""
             }
            },
            "type": "scatterpolargl"
           }
          ],
          "scatterternary": [
           {
            "marker": {
             "colorbar": {
              "outlinewidth": 0,
              "ticks": ""
             }
            },
            "type": "scatterternary"
           }
          ],
          "surface": [
           {
            "colorbar": {
             "outlinewidth": 0,
             "ticks": ""
            },
            "colorscale": [
             [
              0,
              "#0d0887"
             ],
             [
              0.1111111111111111,
              "#46039f"
             ],
             [
              0.2222222222222222,
              "#7201a8"
             ],
             [
              0.3333333333333333,
              "#9c179e"
             ],
             [
              0.4444444444444444,
              "#bd3786"
             ],
             [
              0.5555555555555556,
              "#d8576b"
             ],
             [
              0.6666666666666666,
              "#ed7953"
             ],
             [
              0.7777777777777778,
              "#fb9f3a"
             ],
             [
              0.8888888888888888,
              "#fdca26"
             ],
             [
              1,
              "#f0f921"
             ]
            ],
            "type": "surface"
           }
          ],
          "table": [
           {
            "cells": {
             "fill": {
              "color": "#EBF0F8"
             },
             "line": {
              "color": "white"
             }
            },
            "header": {
             "fill": {
              "color": "#C8D4E3"
             },
             "line": {
              "color": "white"
             }
            },
            "type": "table"
           }
          ]
         },
         "layout": {
          "annotationdefaults": {
           "arrowcolor": "#2a3f5f",
           "arrowhead": 0,
           "arrowwidth": 1
          },
          "autotypenumbers": "strict",
          "coloraxis": {
           "colorbar": {
            "outlinewidth": 0,
            "ticks": ""
           }
          },
          "colorscale": {
           "diverging": [
            [
             0,
             "#8e0152"
            ],
            [
             0.1,
             "#c51b7d"
            ],
            [
             0.2,
             "#de77ae"
            ],
            [
             0.3,
             "#f1b6da"
            ],
            [
             0.4,
             "#fde0ef"
            ],
            [
             0.5,
             "#f7f7f7"
            ],
            [
             0.6,
             "#e6f5d0"
            ],
            [
             0.7,
             "#b8e186"
            ],
            [
             0.8,
             "#7fbc41"
            ],
            [
             0.9,
             "#4d9221"
            ],
            [
             1,
             "#276419"
            ]
           ],
           "sequential": [
            [
             0,
             "#0d0887"
            ],
            [
             0.1111111111111111,
             "#46039f"
            ],
            [
             0.2222222222222222,
             "#7201a8"
            ],
            [
             0.3333333333333333,
             "#9c179e"
            ],
            [
             0.4444444444444444,
             "#bd3786"
            ],
            [
             0.5555555555555556,
             "#d8576b"
            ],
            [
             0.6666666666666666,
             "#ed7953"
            ],
            [
             0.7777777777777778,
             "#fb9f3a"
            ],
            [
             0.8888888888888888,
             "#fdca26"
            ],
            [
             1,
             "#f0f921"
            ]
           ],
           "sequentialminus": [
            [
             0,
             "#0d0887"
            ],
            [
             0.1111111111111111,
             "#46039f"
            ],
            [
             0.2222222222222222,
             "#7201a8"
            ],
            [
             0.3333333333333333,
             "#9c179e"
            ],
            [
             0.4444444444444444,
             "#bd3786"
            ],
            [
             0.5555555555555556,
             "#d8576b"
            ],
            [
             0.6666666666666666,
             "#ed7953"
            ],
            [
             0.7777777777777778,
             "#fb9f3a"
            ],
            [
             0.8888888888888888,
             "#fdca26"
            ],
            [
             1,
             "#f0f921"
            ]
           ]
          },
          "colorway": [
           "#636efa",
           "#EF553B",
           "#00cc96",
           "#ab63fa",
           "#FFA15A",
           "#19d3f3",
           "#FF6692",
           "#B6E880",
           "#FF97FF",
           "#FECB52"
          ],
          "font": {
           "color": "#2a3f5f"
          },
          "geo": {
           "bgcolor": "white",
           "lakecolor": "white",
           "landcolor": "#E5ECF6",
           "showlakes": true,
           "showland": true,
           "subunitcolor": "white"
          },
          "hoverlabel": {
           "align": "left"
          },
          "hovermode": "closest",
          "mapbox": {
           "style": "light"
          },
          "paper_bgcolor": "white",
          "plot_bgcolor": "#E5ECF6",
          "polar": {
           "angularaxis": {
            "gridcolor": "white",
            "linecolor": "white",
            "ticks": ""
           },
           "bgcolor": "#E5ECF6",
           "radialaxis": {
            "gridcolor": "white",
            "linecolor": "white",
            "ticks": ""
           }
          },
          "scene": {
           "xaxis": {
            "backgroundcolor": "#E5ECF6",
            "gridcolor": "white",
            "gridwidth": 2,
            "linecolor": "white",
            "showbackground": true,
            "ticks": "",
            "zerolinecolor": "white"
           },
           "yaxis": {
            "backgroundcolor": "#E5ECF6",
            "gridcolor": "white",
            "gridwidth": 2,
            "linecolor": "white",
            "showbackground": true,
            "ticks": "",
            "zerolinecolor": "white"
           },
           "zaxis": {
            "backgroundcolor": "#E5ECF6",
            "gridcolor": "white",
            "gridwidth": 2,
            "linecolor": "white",
            "showbackground": true,
            "ticks": "",
            "zerolinecolor": "white"
           }
          },
          "shapedefaults": {
           "line": {
            "color": "#2a3f5f"
           }
          },
          "ternary": {
           "aaxis": {
            "gridcolor": "white",
            "linecolor": "white",
            "ticks": ""
           },
           "baxis": {
            "gridcolor": "white",
            "linecolor": "white",
            "ticks": ""
           },
           "bgcolor": "#E5ECF6",
           "caxis": {
            "gridcolor": "white",
            "linecolor": "white",
            "ticks": ""
           }
          },
          "title": {
           "x": 0.05
          },
          "xaxis": {
           "automargin": true,
           "gridcolor": "white",
           "linecolor": "white",
           "ticks": "",
           "title": {
            "standoff": 15
           },
           "zerolinecolor": "white",
           "zerolinewidth": 2
          },
          "yaxis": {
           "automargin": true,
           "gridcolor": "white",
           "linecolor": "white",
           "ticks": "",
           "title": {
            "standoff": 15
           },
           "zerolinecolor": "white",
           "zerolinewidth": 2
          }
         }
        },
        "xaxis": {
         "anchor": "y",
         "domain": [
          0,
          1
         ],
         "title": {
          "text": "x"
         }
        },
        "yaxis": {
         "anchor": "x",
         "domain": [
          0,
          1
         ],
         "title": {
          "text": "y"
         }
        }
       }
      },
      "text/html": [
       "<div>                            <div id=\"4d4ea418-3ba6-4817-b783-cb6293b6542e\" class=\"plotly-graph-div\" style=\"height:525px; width:100%;\"></div>            <script type=\"text/javascript\">                require([\"plotly\"], function(Plotly) {                    window.PLOTLYENV=window.PLOTLYENV || {};                                    if (document.getElementById(\"4d4ea418-3ba6-4817-b783-cb6293b6542e\")) {                    Plotly.newPlot(                        \"4d4ea418-3ba6-4817-b783-cb6293b6542e\",                        [{\"customdata\":[[\"21st century classical\"],[\"432hz\"],[\"8-bit\"],[\"[]\"],[\"a cappella\"],[\"abstract\"],[\"abstract beats\"],[\"abstract hip hop\"],[\"accordeon\"],[\"accordion\"],[\"acid house\"],[\"acid rock\"],[\"acid trance\"],[\"acousmatic\"],[\"acoustic blues\"],[\"acoustic pop\"],[\"acoustic punk\"],[\"acoustic rock\"],[\"action rock\"],[\"adoracion\"],[\"adult standards\"],[\"adventista\"],[\"afghan pop\"],[\"afghan traditional\"],[\"african percussion\"],[\"african reggae\"],[\"african rock\"],[\"african-american classical\"],[\"afro dancehall\"],[\"afro house\"],[\"afro psych\"],[\"afro soul\"],[\"afro-funk\"],[\"afrobeat\"],[\"afrofuturism\"],[\"afrofuturismo brasileiro\"],[\"afropop\"],[\"afroswing\"],[\"aggrotech\"],[\"alabama indie\"],[\"alabama metal\"],[\"alabama rap\"],[\"alaska indie\"],[\"albanian pop\"],[\"albany ny indie\"],[\"alberta country\"],[\"alberta hip hop\"],[\"album rock\"],[\"albuquerque indie\"],[\"alt-idol\"],[\"alte\"],[\"alternative americana\"],[\"alternative country\"],[\"alternative dance\"],[\"alternative emo\"],[\"alternative hip hop\"],[\"alternative metal\"],[\"alternative pop\"],[\"alternative pop rock\"],[\"alternative r&b\"],[\"alternative rock\"],[\"alternative roots rock\"],[\"ambeat\"],[\"ambient\"],[\"ambient black metal\"],[\"ambient folk\"],[\"ambient house\"],[\"ambient idm\"],[\"ambient industrial\"],[\"ambient pop\"],[\"ambient techno\"],[\"ambient worship\"],[\"american 21st century classical\"],[\"american choir\"],[\"american classical piano\"],[\"american contemporary classical\"],[\"american early music\"],[\"american folk revival\"],[\"american metalcore\"],[\"american modern classical\"],[\"american oi\"],[\"american orchestra\"],[\"american post-rock\"],[\"american primitive\"],[\"american romanticism\"],[\"american shoegaze\"],[\"anadolu rock\"],[\"anarcho-punk\"],[\"anglican liturgy\"],[\"animal singing\"],[\"anime\"],[\"anime latino\"],[\"anime rock\"],[\"anime score\"],[\"ann arbor indie\"],[\"anthem emo\"],[\"anthem worship\"],[\"anti-folk\"],[\"antilliaanse folklore\"],[\"antiviral pop\"],[\"appalachian folk\"],[\"arab folk\"],[\"arab groove\"],[\"arab pop\"],[\"arabesk\"],[\"arabic hip hop\"],[\"arabic jazz\"],[\"argentine ambient\"],[\"argentine hardcore\"],[\"argentine heavy metal\"],[\"argentine hip hop\"],[\"argentine indie\"],[\"argentine metal\"],[\"argentine punk\"],[\"argentine reggae\"],[\"argentine rock\"],[\"argentine telepop\"],[\"arizona punk\"],[\"arkansas country\"],[\"arkansas hip hop\"],[\"arkansas indie\"],[\"armenian folk\"],[\"art pop\"],[\"art punk\"],[\"art rock\"],[\"art song\"],[\"asbury park indie\"],[\"asheville indie\"],[\"asian american hip hop\"],[\"asmr\"],[\"athens indie\"],[\"atl hip hop\"],[\"atl trap\"],[\"atlanta indie\"],[\"atlanta metal\"],[\"atlanta punk\"],[\"atmosphere\"],[\"atmospheric black metal\"],[\"atmospheric dnb\"],[\"atmospheric post-metal\"],[\"atmospheric post-rock\"],[\"atmospheric sludge\"],[\"auckland indie\"],[\"audiophile vocal\"],[\"aussietronica\"],[\"austin americana\"],[\"austin singer-songwriter\"],[\"austindie\"],[\"australian alternative pop\"],[\"australian alternative rock\"],[\"australian ambient\"],[\"australian children's music\"],[\"australian choir\"],[\"australian classical\"],[\"australian classical piano\"],[\"australian country\"],[\"australian dance\"],[\"australian electropop\"],[\"australian garage punk\"],[\"australian hip hop\"],[\"australian house\"],[\"australian indie\"],[\"australian indie folk\"],[\"australian indie rock\"],[\"australian indigenous\"],[\"australian metal\"],[\"australian metalcore\"],[\"australian pop\"],[\"australian post-hardcore\"],[\"australian post-punk\"],[\"australian psych\"],[\"australian r&b\"],[\"australian reggae fusion\"],[\"australian rock\"],[\"australian singer-songwriter\"],[\"australian ska\"],[\"australian talent show\"],[\"australian trap\"],[\"australian underground hip hop\"],[\"austrian choir\"],[\"austrian classical piano\"],[\"austrian orchestra\"],[\"austrian pop\"],[\"austro-german modernism\"],[\"austropop\"],[\"autoharp\"],[\"autonomous black metal\"],[\"avant-garde\"],[\"avant-garde jazz\"],[\"avant-garde metal\"],[\"axe\"],[\"azeri traditional\"],[\"azonto\"],[\"azontobeats\"],[\"bachata\"],[\"bachata dominicana\"],[\"background music\"],[\"background piano\"],[\"baglama\"],[\"bahai\"],[\"bahamian folk\"],[\"bahamian pop\"],[\"baiao\"],[\"bajki\"],[\"bakersfield sound\"],[\"balearic\"],[\"balkan brass\"],[\"balkan classical piano\"],[\"ballet class\"],[\"ballroom\"],[\"baltic classical\"],[\"baltimore hip hop\"],[\"baltimore indie\"],[\"banda\"],[\"banda caliente\"],[\"banda carnavalera\"],[\"bandinhas\"],[\"bandolim\"],[\"bandoneon\"],[\"bangla\"],[\"banjo\"],[\"bansuri\"],[\"barbadian pop\"],[\"barbershop\"],[\"bard\"],[\"barnmusik\"],[\"barockinterpreten\"],[\"baroque\"],[\"baroque brass\"],[\"baroque ensemble\"],[\"baroque pop\"],[\"baroque singing\"],[\"baroque violin\"],[\"baroque woodwind\"],[\"bass house\"],[\"bass music\"],[\"bass trap\"],[\"basshall\"],[\"bassline\"],[\"bath indie\"],[\"baton rouge indie\"],[\"baton rouge rap\"],[\"battle rap\"],[\"bay area hip hop\"],[\"bay area indie\"],[\"bboy\"],[\"bc underground hip hop\"],[\"beach music\"],[\"beat italiano\"],[\"beat poetry\"],[\"beatboxing\"],[\"beatlesque\"],[\"bebop\"],[\"bedroom pop\"],[\"bedroom soul\"],[\"belarusian indie\"],[\"belarusian pop\"],[\"belarusian rock\"],[\"belgian classical piano\"],[\"belgian contemporary classical\"],[\"belgian dance\"],[\"belgian edm\"],[\"belgian hardcore\"],[\"belgian indie\"],[\"belgian indie rock\"],[\"belgian jazz\"],[\"belgian new wave\"],[\"belgian pop\"],[\"belgian rock\"],[\"belgian singer-songwriter\"],[\"belgian techno\"],[\"belly dance\"],[\"bengali folk\"],[\"beninese pop\"],[\"bergen indie\"],[\"berlin minimal techno\"],[\"berlin school\"],[\"bhajan\"],[\"bhangra\"],[\"bible\"],[\"big band\"],[\"big beat\"],[\"big room\"],[\"binaural\"],[\"birdsong\"],[\"birmingham grime\"],[\"birmingham hip hop\"],[\"birmingham metal\"],[\"bitpop\"],[\"black 'n' roll\"],[\"black comedy\"],[\"black metal\"],[\"black punk\"],[\"black thrash\"],[\"blackened crust\"],[\"blackgaze\"],[\"bleep techno\"],[\"bluegrass\"],[\"bluegrass fiddle\"],[\"bluegrass gospel\"],[\"blues\"],[\"blues latinoamericano\"],[\"blues mexicano\"],[\"blues rock\"],[\"bmore\"],[\"bolero\"],[\"bolero cubano\"],[\"boogaloo\"],[\"boogie\"],[\"boogie-woogie\"],[\"boom bap\"],[\"boom bap brasileiro\"],[\"bossa nova\"],[\"bossa nova jazz\"],[\"boston folk\"],[\"boston hardcore\"],[\"boston hip hop\"],[\"boston indie\"],[\"boston metal\"],[\"boston punk\"],[\"boston rock\"],[\"bounce\"],[\"bouncy house\"],[\"bouzouki\"],[\"bow pop\"],[\"boy band\"],[\"boy pop\"],[\"boy soprano\"],[\"brain waves\"],[\"braindance\"],[\"brass band\"],[\"brass ensemble\"],[\"brass quintet\"],[\"brazilian boogie\"],[\"brazilian classical\"],[\"brazilian classical piano\"],[\"brazilian contemporary classical\"],[\"brazilian edm\"],[\"brazilian groove metal\"],[\"brazilian hip hop\"],[\"brazilian indie\"],[\"brazilian jazz\"],[\"brazilian metal\"],[\"brazilian modern jazz\"],[\"brazilian percussion\"],[\"brazilian punk\"],[\"brazilian reggae\"],[\"brazilian rock\"],[\"brazilian ska\"],[\"brazilian soul\"],[\"brazilian thrash metal\"],[\"breakbeat\"],[\"breakcore\"],[\"brega\"],[\"breton folk\"],[\"brighton indie\"],[\"brill building pop\"],[\"brisbane indie\"],[\"bristol electronic\"],[\"bristol indie\"],[\"brit funk\"],[\"british alternative rock\"],[\"british black metal\"],[\"british blues\"],[\"british children's music\"],[\"british choir\"],[\"british classical piano\"],[\"british comedy\"],[\"british contemporary classical\"],[\"british dance band\"],[\"british death metal\"],[\"british experimental\"],[\"british folk\"],[\"british grindcore\"],[\"british indie rock\"],[\"british industrial\"],[\"british invasion\"],[\"british jazz\"],[\"british modern classical\"],[\"british orchestra\"],[\"british post-rock\"],[\"british power metal\"],[\"british singer-songwriter\"],[\"british soul\"],[\"british soundtrack\"],[\"britpop\"],[\"broadway\"],[\"broken beat\"],[\"bronx hip hop\"],[\"brooklyn drill\"],[\"brooklyn indie\"],[\"brostep\"],[\"brutal death metal\"],[\"brutal deathcore\"],[\"bubble trance\"],[\"bubblegrunge\"],[\"bubblegum dance\"],[\"bubblegum pop\"],[\"buffalo hip hop\"],[\"buffalo ny indie\"],[\"buffalo ny metal\"],[\"bulgarian experimental\"],[\"burmese traditional\"],[\"bush ballad\"],[\"c-pop\"],[\"c86\"],[\"cabaret\"],[\"cajun\"],[\"calgary indie\"],[\"cali rap\"],[\"calming instrumental\"],[\"calypso\"],[\"cambodian rock\"],[\"cambridge choir\"],[\"cambridgeshire indie\"],[\"cameroonian pop\"],[\"canadian americana\"],[\"canadian blues\"],[\"canadian ccm\"],[\"canadian celtic\"],[\"canadian children's music\"],[\"canadian choir\"],[\"canadian classical\"],[\"canadian classical piano\"],[\"canadian comedy\"],[\"canadian contemporary country\"],[\"canadian contemporary r&b\"],[\"canadian country\"],[\"canadian electronic\"],[\"canadian electropop\"],[\"canadian experimental\"],[\"canadian folk\"],[\"canadian hardcore\"],[\"canadian hip hop\"],[\"canadian house\"],[\"canadian indie\"],[\"canadian indie folk\"],[\"canadian indigenous\"],[\"canadian indigenous hip hop\"],[\"canadian latin\"],[\"canadian metal\"],[\"canadian metalcore\"],[\"canadian modern jazz\"],[\"canadian pop\"],[\"canadian pop punk\"],[\"canadian post-hardcore\"],[\"canadian post-rock\"],[\"canadian psychedelic\"],[\"canadian punk\"],[\"canadian rock\"],[\"canadian rockabilly\"],[\"canadian singer-songwriter\"],[\"canadian soundtrack\"],[\"cancion melodica\"],[\"candy pop\"],[\"cantautor\"],[\"cante flamenco\"],[\"canterbury scene\"],[\"canto popular uruguayo\"],[\"cantopop\"],[\"canzone d'autore\"],[\"canzone genovese\"],[\"canzone napoletana\"],[\"cape town indie\"],[\"cape verdean folk\"],[\"capoeira\"],[\"caracas indie\"],[\"carnatic\"],[\"carnatic instrumental\"],[\"carnatic vocal\"],[\"cartoon\"],[\"cathedral choir\"],[\"caucasian classical\"],[\"caucasian classical piano\"],[\"ccm\"],[\"cedm\"],[\"cello\"],[\"celtic\"],[\"celtic harp\"],[\"celtic metal\"],[\"celtic punk\"],[\"celtic rock\"],[\"cha-cha-cha\"],[\"chakra\"],[\"chamame\"],[\"chamber choir\"],[\"chamber ensemble\"],[\"chamber folk\"],[\"chamber orchestra\"],[\"chamber pop\"],[\"chamber psych\"],[\"champeta\"],[\"channel islands indie\"],[\"channel pop\"],[\"chanson\"],[\"chanson paillarde\"],[\"chaotic hardcore\"],[\"charanga\"],[\"charango\"],[\"charlotte nc indie\"],[\"charlottesville indie\"],[\"chattanooga indie\"],[\"chicago blues\"],[\"chicago drill\"],[\"chicago hardcore\"],[\"chicago house\"],[\"chicago indie\"],[\"chicago pop punk\"],[\"chicago punk\"],[\"chicago rap\"],[\"chicago soul\"],[\"chicano punk\"],[\"chicano rap\"],[\"chicha\"],[\"chihuahua indie\"],[\"children's choir\"],[\"children's folk\"],[\"children's music\"],[\"children's story\"],[\"chilean hardcore\"],[\"chilean indie\"],[\"chilean rock\"],[\"chilena\"],[\"chill beats\"],[\"chill guitar\"],[\"chill lounge\"],[\"chill out\"],[\"chill pop\"],[\"chill r&b\"],[\"chillhop\"],[\"chillstep\"],[\"chillwave\"],[\"chinese audiophile\"],[\"chinese classical\"],[\"chinese classical performance\"],[\"chinese classical piano\"],[\"chinese electropop\"],[\"chinese hip hop\"],[\"chinese idol pop\"],[\"chinese indie\"],[\"chinese indie rock\"],[\"chinese instrumental\"],[\"chinese jazz\"],[\"chinese r&b\"],[\"chinese soundtrack\"],[\"chinese traditional\"],[\"chiptune\"],[\"chopped and screwed\"],[\"choral\"],[\"choro\"],[\"christchurch indie\"],[\"christelijk\"],[\"christian a cappella\"],[\"christian alternative rock\"],[\"christian dance\"],[\"christian hard rock\"],[\"christian hardcore\"],[\"christian hip hop\"],[\"christian indie\"],[\"christian metal\"],[\"christian metalcore\"],[\"christian music\"],[\"christian pop\"],[\"christian power metal\"],[\"christian punk\"],[\"christian relaxative\"],[\"christian rock\"],[\"christian trap\"],[\"christian uplift\"],[\"christmas instrumental\"],[\"christmas product\"],[\"chunchaca\"],[\"chutney\"],[\"cincinnati rap\"],[\"cinematic post-rock\"],[\"circuit\"],[\"circus\"],[\"classic afrobeat\"],[\"classic arab pop\"],[\"classic australian country\"],[\"classic belgian pop\"],[\"classic bhangra\"],[\"classic bollywood\"],[\"classic canadian rock\"],[\"classic cantopop\"],[\"classic colombian pop\"],[\"classic country pop\"],[\"classic czech pop\"],[\"classic danish pop\"],[\"classic dubstep\"],[\"classic eurovision\"],[\"classic finnish pop\"],[\"classic french pop\"],[\"classic garage rock\"],[\"classic girl group\"],[\"classic greek pop\"],[\"classic hardstyle\"],[\"classic icelandic pop\"],[\"classic indo pop\"],[\"classic iskelma\"],[\"classic israeli pop\"],[\"classic italian folk pop\"],[\"classic italian pop\"],[\"classic j-rock\"],[\"classic japanese jazz\"],[\"classic korean pop\"],[\"classic latvian pop\"],[\"classic mandopop\"],[\"classic norwegian pop\"],[\"classic opm\"],[\"classic pakistani pop\"],[\"classic persian pop\"],[\"classic peruvian pop\"],[\"classic polish pop\"],[\"classic praise\"],[\"classic psychedelic rock\"],[\"classic punjabi pop\"],[\"classic rock\"],[\"classic russian pop\"],[\"classic russian rock\"],[\"classic schlager\"],[\"classic soul\"],[\"classic soundtrack\"],[\"classic swedish pop\"],[\"classic thai pop\"],[\"classic tunisian pop\"],[\"classic turkish pop\"],[\"classic uk pop\"],[\"classic venezuelan pop\"],[\"classical\"],[\"classical accordion\"],[\"classical baritone\"],[\"classical bass\"],[\"classical cello\"],[\"classical clarinet\"],[\"classical contralto\"],[\"classical countertenor\"],[\"classical era\"],[\"classical flute\"],[\"classical guitar\"],[\"classical harp\"],[\"classical horn\"],[\"classical mandolin\"],[\"classical mezzo-soprano\"],[\"classical oboe\"],[\"classical organ\"],[\"classical performance\"],[\"classical piano\"],[\"classical piano duo\"],[\"classical piano trio\"],[\"classical saxophone\"],[\"classical soprano\"],[\"classical tenor\"],[\"classical trumpet\"],[\"classify\"],[\"clawhammer banjo\"],[\"clean comedy\"],[\"cleveland metal\"],[\"coco\"],[\"collage pop\"],[\"college a cappella\"],[\"colombian hip hop\"],[\"colombian pop\"],[\"colombian rock\"],[\"columbus ohio indie\"],[\"comedy\"],[\"comedy rap\"],[\"comedy rock\"],[\"comic\"],[\"comic metal\"],[\"commons\"],[\"complextro\"],[\"compositional ambient\"],[\"concepcion indie\"],[\"concert band\"],[\"connecticut hardcore\"],[\"connecticut indie\"],[\"conscious hip hop\"],[\"contemporary choir\"],[\"contemporary classical\"],[\"contemporary classical piano\"],[\"contemporary country\"],[\"contemporary folk\"],[\"contemporary gospel\"],[\"contemporary jazz\"],[\"contemporary post-bop\"],[\"contemporary vocal jazz\"],[\"contrabass\"],[\"cool jazz\"],[\"copla\"],[\"cornish folk\"],[\"cornwall indie\"],[\"corrido\"],[\"corridos cristianos\"],[\"corridos tumbados\"],[\"corrosion\"],[\"cosmic american\"],[\"cosmic post-rock\"],[\"country\"],[\"country blues\"],[\"country boogie\"],[\"country dawn\"],[\"country gospel\"],[\"country pop\"],[\"country rap\"],[\"country road\"],[\"country rock\"],[\"coverchill\"],[\"cowboy western\"],[\"cowpunk\"],[\"crack rock steady\"],[\"croatian folk\"],[\"croatian pop\"],[\"croatian rock\"],[\"crossover thrash\"],[\"crunk\"],[\"crust punk\"],[\"cuarteto\"],[\"cuatro venezolano\"],[\"cuban alternative\"],[\"cuban rumba\"],[\"cubaton\"],[\"cumbia\"],[\"cumbia andina mexicana\"],[\"cumbia chilena\"],[\"cumbia colombiana regia\"],[\"cumbia ecuatoriana\"],[\"cumbia funk\"],[\"cumbia lagunera\"],[\"cumbia paraguaya\"],[\"cumbia peruana\"],[\"cumbia pop\"],[\"cumbia ranchera\"],[\"cumbia salvadorena\"],[\"cumbia santafesina\"],[\"cumbia sonidera\"],[\"cumbia villera\"],[\"cyberpunk\"],[\"cymraeg\"],[\"cypriot pop\"],[\"czech classical\"],[\"czech classical piano\"],[\"czech contemporary classical\"],[\"d-beat\"],[\"dabke\"],[\"dakke dak\"],[\"dallas indie\"],[\"dance pop\"],[\"dance rock\"],[\"dance-punk\"],[\"dancehall\"],[\"dangdut\"],[\"danish alternative rock\"],[\"danish classical\"],[\"danish electronic\"],[\"danish electropop\"],[\"danish hip hop\"],[\"danish jazz\"],[\"danish metal\"],[\"danish pop\"],[\"danish pop rock\"],[\"danish post-punk\"],[\"danish punk\"],[\"danish rock\"],[\"danish singer-songwriter\"],[\"dansband\"],[\"danseband\"],[\"dansktop\"],[\"danspunk\"],[\"dark cabaret\"],[\"dark clubbing\"],[\"dark disco\"],[\"dark hardcore\"],[\"dark jazz\"],[\"dark minimal techno\"],[\"dark post-punk\"],[\"dark techno\"],[\"dark trap\"],[\"dark wave\"],[\"darksynth\"],[\"dayton indie\"],[\"dc hardcore\"],[\"dc indie\"],[\"death 'n' roll\"],[\"death metal\"],[\"deathcore\"],[\"deathgrass\"],[\"deathgrind\"],[\"deathrash\"],[\"deathrock\"],[\"deathstep\"],[\"deep acoustic pop\"],[\"deep adult standards\"],[\"deep big room\"],[\"deep ccm\"],[\"deep christian rock\"],[\"deep classic garage rock\"],[\"deep comedy\"],[\"deep contemporary country\"],[\"deep dance pop\"],[\"deep delta blues\"],[\"deep disco\"],[\"deep disco house\"],[\"deep dnb\"],[\"deep east coast hip hop\"],[\"deep euro house\"],[\"deep flow\"],[\"deep free jazz\"],[\"deep freestyle\"],[\"deep full on\"],[\"deep funk\"],[\"deep g funk\"],[\"deep gothic post-punk\"],[\"deep groove house\"],[\"deep house\"],[\"deep idm\"],[\"deep indian pop\"],[\"deep indie singer-songwriter\"],[\"deep latin alternative\"],[\"deep latin christian\"],[\"deep melodic metalcore\"],[\"deep minimal techno\"],[\"deep motown\"],[\"deep new americana\"],[\"deep new wave\"],[\"deep norteno\"],[\"deep northern soul\"],[\"deep pop edm\"],[\"deep progressive house\"],[\"deep psychobilly\"],[\"deep punk rock\"],[\"deep r&b\"],[\"deep ragga\"],[\"deep regional mexican\"],[\"deep smooth jazz\"],[\"deep soft rock\"],[\"deep soul house\"],[\"deep soundtrack\"],[\"deep southern soul\"],[\"deep southern trap\"],[\"deep space rock\"],[\"deep talent show\"],[\"deep tech house\"],[\"deep techno\"],[\"deep tropical house\"],[\"deep underground hip hop\"],[\"deep uplifting trance\"],[\"delta blues\"],[\"dembow\"],[\"denpa-kei\"],[\"denton tx indie\"],[\"denver indie\"],[\"depressive black metal\"],[\"derby indie\"],[\"desert blues\"],[\"desi hip hop\"],[\"desi pop\"],[\"destroy techno\"],[\"detroit hip hop\"],[\"detroit house\"],[\"detroit techno\"],[\"detroit trap\"],[\"detske pisnicky\"],[\"detskie pesni\"],[\"devon indie\"],[\"dfw rap\"],[\"dhrupad\"],[\"digital hardcore\"],[\"dinner jazz\"],[\"dirty south rap\"],[\"dirty texas rap\"],[\"disco\"],[\"disco house\"],[\"disney\"],[\"diva house\"],[\"dixieland\"],[\"diy emo\"],[\"djent\"],[\"dmv rap\"],[\"dominican pop\"],[\"dong-yo\"],[\"doo-wop\"],[\"doom metal\"],[\"double drumming\"],[\"downtempo\"],[\"drama\"],[\"dream pop\"],[\"dream trance\"],[\"dreamgaze\"],[\"dreamo\"],[\"drift\"],[\"drill\"],[\"drill and bass\"],[\"drone\"],[\"drone folk\"],[\"drone metal\"],[\"drum and bass\"],[\"dub\"],[\"dub metal\"],[\"dub poetry\"],[\"dub techno\"],[\"dubstep\"],[\"dubsteppe\"],[\"duduk\"],[\"duluth indie\"],[\"dunedin indie\"],[\"dunedin sound\"],[\"dungeon synth\"],[\"duranguense\"],[\"dusseldorf electronic\"],[\"dutch blues\"],[\"dutch cabaret\"],[\"dutch classical piano\"],[\"dutch death metal\"],[\"dutch dnb\"],[\"dutch edm\"],[\"dutch folk\"],[\"dutch hip hop\"],[\"dutch house\"],[\"dutch indie\"],[\"dutch jazz\"],[\"dutch metal\"],[\"dutch pop\"],[\"dutch prog\"],[\"dutch rap pop\"],[\"dutch rock\"],[\"dutch trance\"],[\"e6fi\"],[\"early american folk\"],[\"early avant garde\"],[\"early modern classical\"],[\"early music\"],[\"early music choir\"],[\"early music ensemble\"],[\"early reggae\"],[\"early romantic era\"],[\"early synthpop\"],[\"early us punk\"],[\"east coast hip hop\"],[\"east coast reggae\"],[\"eastern bloc groove\"],[\"easy listening\"],[\"easycore\"],[\"eau claire indie\"],[\"ebm\"],[\"ecm-style jazz\"],[\"ectofolk\"],[\"ecuadorian pop\"],[\"edm\"],[\"edmonton indie\"],[\"egyptian pop\"],[\"egyptian traditional\"],[\"el paso indie\"],[\"electra\"],[\"electric bass\"],[\"electric blues\"],[\"electro\"],[\"electro house\"],[\"electro jazz\"],[\"electro latino\"],[\"electro swing\"],[\"electro-industrial\"],[\"electro-pop francais\"],[\"electroclash\"],[\"electrofox\"],[\"electronic djent\"],[\"electronic rock\"],[\"electronic trap\"],[\"electronica\"],[\"electronica argentina\"],[\"electropop\"],[\"electropowerpop\"],[\"emo\"],[\"emo mexicano\"],[\"emo punk\"],[\"emo rap\"],[\"emocore\"],[\"english baroque\"],[\"english indie rock\"],[\"english renaissance\"],[\"enka\"],[\"entehno\"],[\"environmental\"],[\"epic doom\"],[\"epicore\"],[\"erhu\"],[\"escape room\"],[\"esperanto\"],[\"essex indie\"],[\"estonian hip hop\"],[\"estonian pop\"],[\"ethereal wave\"],[\"etherpop\"],[\"ethio-jazz\"],[\"ethiopian pop\"],[\"ethnomusicology\"],[\"ethnotronica\"],[\"eugene indie\"],[\"euphoric hardstyle\"],[\"eurobeat\"],[\"eurodance\"],[\"europop\"],[\"euroska\"],[\"eurovision\"],[\"exotica\"],[\"experimental\"],[\"experimental ambient\"],[\"experimental big band\"],[\"experimental dub\"],[\"experimental folk\"],[\"experimental guitar\"],[\"experimental hip hop\"],[\"experimental house\"],[\"experimental indie\"],[\"experimental jazz\"],[\"experimental pop\"],[\"experimental rock\"],[\"experimental vocal\"],[\"fado\"],[\"family gospel\"],[\"faroese pop\"],[\"fast melodic punk\"],[\"fidget house\"],[\"filmi\"],[\"filter house\"],[\"filthstep\"],[\"final fantasy\"],[\"fingerstyle\"],[\"finnish alternative rock\"],[\"finnish classical\"],[\"finnish contemporary classical\"],[\"finnish death metal\"],[\"finnish edm\"],[\"finnish hard rock\"],[\"finnish heavy metal\"],[\"finnish metal\"],[\"finnish power metal\"],[\"finnish soul\"],[\"flamenco\"],[\"flamenco guitar\"],[\"flick hop\"],[\"flint hip hop\"],[\"float house\"],[\"florida death metal\"],[\"florida rap\"],[\"fluxwork\"],[\"fo jing\"],[\"focus\"],[\"focus beats\"],[\"focus trance\"],[\"folclor afrocolombiano\"],[\"folclor colombiano\"],[\"folclore extremeno\"],[\"folclore jujeno\"],[\"folclore navarra\"],[\"folclore salteno\"],[\"folclore tucumano\"],[\"folk\"],[\"folk metal\"],[\"folk punk\"],[\"folk rock\"],[\"folk rock italiano\"],[\"folk-pop\"],[\"folklore argentino\"],[\"folklore boliviano\"],[\"folklore chileno\"],[\"folklore ecuatoriano\"],[\"folklore peruano\"],[\"folklore venezolano\"],[\"folklore veracruzano\"],[\"folkmusik\"],[\"folktronica\"],[\"footwork\"],[\"forro\"],[\"forro tradicional\"],[\"fort worth indie\"],[\"fourth world\"],[\"francoton\"],[\"freak folk\"],[\"freakbeat\"],[\"free folk\"],[\"free improvisation\"],[\"free jazz\"],[\"freestyle\"],[\"french baroque\"],[\"french classical piano\"],[\"french contemporary classical\"],[\"french death metal\"],[\"french dnb\"],[\"french hip hop\"],[\"french indie folk\"],[\"french indie pop\"],[\"french indietronica\"],[\"french jazz\"],[\"french metal\"],[\"french movie tunes\"],[\"french opera\"],[\"french orchestra\"],[\"french pop\"],[\"french post-punk\"],[\"french psychedelic\"],[\"french reggae\"],[\"french rock\"],[\"french romanticism\"],[\"french shoegaze\"],[\"french soundtrack\"],[\"french synthpop\"],[\"french techno\"],[\"frenchcore\"],[\"full on\"],[\"funana\"],[\"funeral doom\"],[\"funk\"],[\"funk 150 bpm\"],[\"funk carioca\"],[\"funk das antigas\"],[\"funk metal\"],[\"funk mexicano\"],[\"funk ostentacao\"],[\"funk paulista\"],[\"funk pop\"],[\"funk rock\"],[\"funky breaks\"],[\"funky tech house\"],[\"future bass\"],[\"future funk\"],[\"future garage\"],[\"future house\"],[\"future rock\"],[\"futurepop\"],[\"g funk\"],[\"gabba\"],[\"gabonese pop\"],[\"gaian doom\"],[\"gainesville indie\"],[\"gaita zuliana\"],[\"galante era\"],[\"gamelan\"],[\"gaming dubstep\"],[\"gaming edm\"],[\"gangster rap\"],[\"garage house\"],[\"garage pop\"],[\"garage psych\"],[\"garage punk\"],[\"garage punk blues\"],[\"garage rock\"],[\"garage rock revival\"],[\"gauze pop\"],[\"gbvfi\"],[\"geek folk\"],[\"geek rock\"],[\"georgian folk\"],[\"german alternative rock\"],[\"german baroque\"],[\"german choir\"],[\"german classical piano\"],[\"german country\"],[\"german dance\"],[\"german hard rock\"],[\"german heavy metal\"],[\"german house\"],[\"german indie\"],[\"german jazz\"],[\"german literature\"],[\"german metal\"],[\"german oi\"],[\"german opera\"],[\"german orchestra\"],[\"german pop\"],[\"german pop rock\"],[\"german post-hardcore\"],[\"german power metal\"],[\"german punk\"],[\"german renaissance\"],[\"german rock\"],[\"german romanticism\"],[\"german show tunes\"],[\"german soundtrack\"],[\"german techno\"],[\"german thrash metal\"],[\"german trance\"],[\"german underground rap\"],[\"ghanaian hip hop\"],[\"ghanaian traditional\"],[\"ghazal\"],[\"ghent indie\"],[\"girl group\"],[\"glam metal\"],[\"glam punk\"],[\"glam rock\"],[\"glee club\"],[\"glitch\"],[\"glitch hop\"],[\"glitch pop\"],[\"glitchcore\"],[\"go-go\"],[\"goregrind\"],[\"gospel\"],[\"gospel antigas\"],[\"gospel blues\"],[\"gospel italiano\"],[\"gospel r&b\"],[\"gospel rap\"],[\"gospel singers\"],[\"gospel soul\"],[\"gothabilly\"],[\"gothenburg indie\"],[\"gothenburg metal\"],[\"gothic alternative\"],[\"gothic americana\"],[\"gothic black metal\"],[\"gothic metal\"],[\"gothic post-punk\"],[\"gothic rock\"],[\"gothic symphonic metal\"],[\"gqom\"],[\"grand rapids indie\"],[\"grave wave\"],[\"greek clarinet\"],[\"greek contemporary classical\"],[\"greek folk\"],[\"greek guitar\"],[\"greek house\"],[\"greek jazz\"],[\"greek pop\"],[\"greek swing\"],[\"gregorian chant\"],[\"grime\"],[\"grindcore\"],[\"griot\"],[\"groove metal\"],[\"groove room\"],[\"grunge\"],[\"grunge pop\"],[\"grupera\"],[\"gruperas inmortales\"],[\"guadalajara indie\"],[\"guam indie\"],[\"guaracha\"],[\"guatemalan pop\"],[\"guidance\"],[\"guinean pop\"],[\"guitarra argentina\"],[\"guitarra clasica\"],[\"guitarra portuguesa\"],[\"gujarati garba\"],[\"gujarati pop\"],[\"guzheng\"],[\"gymcore\"],[\"gypsy\"],[\"gypsy jazz\"],[\"gypsy punk\"],[\"haitian traditional\"],[\"halifax indie\"],[\"halloween\"],[\"hamburg electronic\"],[\"hammered dulcimer\"],[\"hammond organ\"],[\"hands up\"],[\"hangpan\"],[\"happy hardcore\"],[\"hard alternative\"],[\"hard bop\"],[\"hard minimal techno\"],[\"hard rock\"],[\"hard rock brasileiro\"],[\"hardcore\"],[\"hardcore hip hop\"],[\"hardcore punk\"],[\"hardcore techno\"],[\"hardstyle\"],[\"harlem hip hop\"],[\"harlem renaissance\"],[\"harmonica blues\"],[\"harmonica jazz\"],[\"harp\"],[\"harpsichord\"],[\"haryanvi pop\"],[\"hauntology\"],[\"hawaiian\"],[\"hawaiian hip hop\"],[\"hawaiian indie\"],[\"healing\"],[\"heartland rock\"],[\"hi-nrg\"],[\"highlife\"],[\"hindi hip hop\"],[\"hindi indie\"],[\"hindustani classical\"],[\"hindustani instrumental\"],[\"hindustani vocal\"],[\"hip hop\"],[\"hip hop cubano\"],[\"hip house\"],[\"hip pop\"],[\"hiplife\"],[\"histoire pour enfants\"],[\"historic classical performance\"],[\"historic orchestral performance\"],[\"historic piano performance\"],[\"historic string quartet\"],[\"historical keyboard\"],[\"historically informed performance\"],[\"hoerspiel\"],[\"hokkien pop\"],[\"hollywood\"],[\"hong kong hip hop\"],[\"hong kong indie\"],[\"hong kong rock\"],[\"honky tonk\"],[\"honky-tonk piano\"],[\"hopebeat\"],[\"horror punk\"],[\"horror synth\"],[\"horrorcore\"],[\"house\"],[\"houston rap\"],[\"huapango\"],[\"huayno\"],[\"hula\"],[\"humppa\"],[\"hungarian choir\"],[\"hungarian classical performance\"],[\"hungarian classical piano\"],[\"hungarian contemporary classical\"],[\"hungarian edm\"],[\"hungarian folk\"],[\"hungarian pop\"],[\"hungarian rock\"],[\"hungarian techno\"],[\"hurdy-gurdy\"],[\"hyperpop\"],[\"hyphy\"],[\"icelandic classical\"],[\"icelandic electronic\"],[\"icelandic experimental\"],[\"icelandic folk\"],[\"icelandic indie\"],[\"icelandic jazz\"],[\"icelandic pop\"],[\"icelandic rock\"],[\"idaho indie\"],[\"idol\"],[\"idol rock\"],[\"ilahiler\"],[\"ilocano pop\"],[\"impressionism\"],[\"indian classical\"],[\"indian edm\"],[\"indian folk\"],[\"indian fusion\"],[\"indian indie\"],[\"indian instrumental\"],[\"indian jazz\"],[\"indiana hip hop\"],[\"indie anthem-folk\"],[\"indie cafe pop\"],[\"indie deutschrap\"],[\"indie dream pop\"],[\"indie electronica\"],[\"indie electropop\"],[\"indie folk\"],[\"indie game soundtrack\"],[\"indie garage rock\"],[\"indie hip hop\"],[\"indie jazz\"],[\"indie pop\"],[\"indie pop rap\"],[\"indie poptimism\"],[\"indie psych-pop\"],[\"indie punk\"],[\"indie quebecois\"],[\"indie r&b\"],[\"indie rock\"],[\"indie rock mexicano\"],[\"indie rockism\"],[\"indie shoegaze\"],[\"indie singer-songwriter\"],[\"indie soul\"],[\"indie surf\"],[\"indie triste\"],[\"indiecoustica\"],[\"indietronica\"],[\"indonesian hip hop\"],[\"indonesian indie\"],[\"indonesian pop\"],[\"indonesian r&b\"],[\"indonesian worship\"],[\"industrial\"],[\"industrial hardcore\"],[\"industrial hip hop\"],[\"industrial metal\"],[\"industrial rock\"],[\"indy indie\"],[\"instrumental acoustic guitar\"],[\"instrumental bluegrass\"],[\"instrumental funk\"],[\"instrumental grime\"],[\"instrumental math rock\"],[\"instrumental post-rock\"],[\"instrumental progressive metal\"],[\"instrumental rock\"],[\"instrumental soul\"],[\"instrumental stoner rock\"],[\"instrumental surf\"],[\"intelligent dance music\"],[\"iowa hip hop\"],[\"irish accordion\"],[\"irish ballad\"],[\"irish banjo\"],[\"irish classical\"],[\"irish country\"],[\"irish dance\"],[\"irish fiddle\"],[\"irish folk\"],[\"irish hip hop\"],[\"irish indie\"],[\"irish metal\"],[\"irish pop\"],[\"irish pub song\"],[\"irish rock\"],[\"irish singer-songwriter\"],[\"iskelma\"],[\"islamic recitation\"],[\"isle of wight indie\"],[\"israeli classical\"],[\"israeli classical piano\"],[\"israeli folk\"],[\"israeli hip hop\"],[\"israeli mediterranean\"],[\"israeli pop\"],[\"israeli rock\"],[\"israeli singer-songwriter\"],[\"israeli techno\"],[\"italian adult pop\"],[\"italian baritone\"],[\"italian baroque\"],[\"italian baroque ensemble\"],[\"italian bass\"],[\"italian blues\"],[\"italian classical guitar\"],[\"italian classical piano\"],[\"italian contemporary jazz\"],[\"italian disco\"],[\"italian gothic\"],[\"italian gothic metal\"],[\"italian indie pop\"],[\"italian jazz\"],[\"italian library music\"],[\"italian mandolin\"],[\"italian metal\"],[\"italian mezzo-soprano\"],[\"italian modern prog\"],[\"italian opera\"],[\"italian orchestra\"],[\"italian pop rock\"],[\"italian power metal\"],[\"italian progressive metal\"],[\"italian progressive rock\"],[\"italian renaissance\"],[\"italian romanticism\"],[\"italian soprano\"],[\"italian soundtrack\"],[\"italian techno\"],[\"italian tenor\"],[\"italian violin\"],[\"italo dance\"],[\"italo house\"],[\"j-acoustic\"],[\"j-ambient\"],[\"j-dance\"],[\"j-division\"],[\"j-idol\"],[\"j-metal\"],[\"j-pixie\"],[\"j-pop\"],[\"j-pop girl group\"],[\"j-poprock\"],[\"j-punk\"],[\"j-reggae\"],[\"j-rock\"],[\"jacksonville indie\"],[\"jam band\"],[\"jamgrass\"],[\"jamtronica\"],[\"jangle pop\"],[\"japanese alternative rock\"],[\"japanese chillhop\"],[\"japanese city pop\"],[\"japanese classical\"],[\"japanese classical performance\"],[\"japanese classical piano\"],[\"japanese concert band\"],[\"japanese dream pop\"],[\"japanese electronic\"],[\"japanese electropop\"],[\"japanese emo\"],[\"japanese experimental\"],[\"japanese folk\"],[\"japanese garage rock\"],[\"japanese girl punk\"],[\"japanese heavy metal\"],[\"japanese idm\"],[\"japanese indie folk\"],[\"japanese indie rock\"],[\"japanese instrumental\"],[\"japanese jazz\"],[\"japanese jazz fusion\"],[\"japanese jazztronica\"],[\"japanese metalcore\"],[\"japanese new wave\"],[\"japanese piano\"],[\"japanese pop punk\"],[\"japanese post-hardcore\"],[\"japanese power metal\"],[\"japanese prog\"],[\"japanese psychedelic\"],[\"japanese punk rock\"],[\"japanese r&b\"],[\"japanese rockabilly\"],[\"japanese singer-songwriter\"],[\"japanese soundtrack\"],[\"japanese traditional\"],[\"japanese vgm\"],[\"japanese vocal jazz\"],[\"jawaiian\"],[\"jazz\"],[\"jazz accordion\"],[\"jazz blues\"],[\"jazz boom bap\"],[\"jazz brass\"],[\"jazz chileno\"],[\"jazz clarinet\"],[\"jazz colombiano\"],[\"jazz cubano\"],[\"jazz double bass\"],[\"jazz drums\"],[\"jazz flute\"],[\"jazz funk\"],[\"jazz fusion\"],[\"jazz guitar\"],[\"jazz harp\"],[\"jazz metal\"],[\"jazz mexicano\"],[\"jazz orchestra\"],[\"jazz organ\"],[\"jazz piano\"],[\"jazz pop\"],[\"jazz quartet\"],[\"jazz rap\"],[\"jazz rock\"],[\"jazz saxophone\"],[\"jazz trio\"],[\"jazz trombone\"],[\"jazz trumpet\"],[\"jazz tuba\"],[\"jazz venezolano\"],[\"jazz vibraphone\"],[\"jazz violin\"],[\"jazztronica\"],[\"jewish cantorial\"],[\"jewish hip hop\"],[\"jig and reel\"],[\"jordanian pop\"],[\"joropo\"],[\"jovem guarda\"],[\"jug band\"],[\"juju\"],[\"jump blues\"],[\"jump up\"],[\"k-indie\"],[\"k-pop\"],[\"k-pop boy group\"],[\"k-pop girl group\"],[\"k-rap\"],[\"kabarett\"],[\"kabyle\"],[\"kaneka\"],[\"kannada bhava geethe\"],[\"kansas city hip hop\"],[\"kashmiri pop\"],[\"kawaii future bass\"],[\"kawaii metal\"],[\"kayokyoku\"],[\"kc indie\"],[\"kent indie\"],[\"kentucky hip hop\"],[\"kentucky indie\"],[\"kentucky metal\"],[\"kentucky mountain folk\"],[\"kentucky punk\"],[\"kentucky roots\"],[\"keroncong\"],[\"khaleeji iraqi\"],[\"khmer\"],[\"kids dance party\"],[\"kindie rock\"],[\"kingston on indie\"],[\"kirtan\"],[\"kiwi rock\"],[\"kizomba antigas\"],[\"kleine hoerspiel\"],[\"klezmer\"],[\"knoxville indie\"],[\"kodomo no ongaku\"],[\"kolsche karneval\"],[\"komedi\"],[\"kompa\"],[\"kora\"],[\"korean classical performance\"],[\"korean classical piano\"],[\"korean indie rock\"],[\"korean mask singer\"],[\"korean pop\"],[\"korean r&b\"],[\"korean trap\"],[\"koto\"],[\"krautrock\"],[\"kundiman\"],[\"la indie\"],[\"la pop\"],[\"laboratorio\"],[\"lafayette indie\"],[\"laiko\"],[\"lancashire indie\"],[\"lancaster pa indie\"],[\"late romantic era\"],[\"latin\"],[\"latin afrobeat\"],[\"latin alternative\"],[\"latin american classical piano\"],[\"latin arena pop\"],[\"latin christian\"],[\"latin classical\"],[\"latin funk\"],[\"latin hip hop\"],[\"latin house\"],[\"latin jazz\"],[\"latin metal\"],[\"latin pop\"],[\"latin rock\"],[\"latin ska\"],[\"latin soundtrack\"],[\"latin talent show\"],[\"latin tech house\"],[\"latin viral pop\"],[\"latin worship\"],[\"latincore\"],[\"latino comedy\"],[\"latintronica\"],[\"latinx alternative\"],[\"latvian pop\"],[\"lds\"],[\"lds youth\"],[\"lebanese pop\"],[\"leicester indie\"],[\"lexington ky indie\"],[\"lgbtq+ hip hop\"],[\"library music\"],[\"liedermacher\"],[\"light music\"],[\"lilith\"],[\"liquid funk\"],[\"lithuanian electronic\"],[\"liverpool indie\"],[\"livetronica\"],[\"lldm\"],[\"lo star\"],[\"lo-fi\"],[\"lo-fi beats\"],[\"lo-fi brasileiro\"],[\"lo-fi chill\"],[\"lo-fi cover\"],[\"lo-fi emo\"],[\"lo-fi house\"],[\"lo-fi indie\"],[\"lo-fi vgm\"],[\"london rap\"],[\"louisiana blues\"],[\"louisiana metal\"],[\"louisville indie\"],[\"louisville underground\"],[\"lounge\"],[\"louvor\"],[\"lovers rock\"],[\"lullaby\"],[\"lund indie\"],[\"lute\"],[\"macedonian folk\"],[\"madchester\"],[\"madrigal\"],[\"magyar alternative\"],[\"maine hip hop\"],[\"maine indie\"],[\"mainland chinese pop\"],[\"makossa\"],[\"malaysian mandopop\"],[\"malaysian pop\"],[\"malian blues\"],[\"mallet\"],[\"malmo indie\"],[\"mambo\"],[\"manchester hip hop\"],[\"manchester indie\"],[\"mande pop\"],[\"mandolin\"],[\"mandopop\"],[\"manguebeat\"],[\"manila sound\"],[\"manitoba indie\"],[\"mantra\"],[\"marathi pop\"],[\"marathi traditional\"],[\"marching band\"],[\"mariachi\"],[\"mariachi cristiano\"],[\"marimba orquesta\"],[\"martial industrial\"],[\"mashup\"],[\"math rock\"],[\"mathcore\"],[\"mbalax\"],[\"medieval\"],[\"medieval folk\"],[\"medieval rock\"],[\"meditation\"],[\"melancholia\"],[\"melbourne bounce\"],[\"melbourne bounce international\"],[\"melbourne indie\"],[\"mellow gold\"],[\"melodic death metal\"],[\"melodic deathcore\"],[\"melodic dubstep\"],[\"melodic groove metal\"],[\"melodic hard rock\"],[\"melodic hardcore\"],[\"melodic metal\"],[\"melodic metalcore\"],[\"melodic power metal\"],[\"melodic rap\"],[\"melodic thrash\"],[\"meme rap\"],[\"memphis americana\"],[\"memphis blues\"],[\"memphis hip hop\"],[\"memphis indie\"],[\"memphis soul\"],[\"mento\"],[\"merengue\"],[\"merengue tipico\"],[\"merseybeat\"],[\"messianic praise\"],[\"metal\"],[\"metal guitar\"],[\"metal mineiro\"],[\"metalcore\"],[\"metropopolis\"],[\"mexican classic rock\"],[\"mexican classical\"],[\"mexican hip hop\"],[\"mexican indie\"],[\"mexican pop\"],[\"mexican pop punk\"],[\"mexican rock\"],[\"mexican rock-and-roll\"],[\"mexican son\"],[\"mexican traditional\"],[\"miami bass\"],[\"miami hip hop\"],[\"miami indie\"],[\"miami metal\"],[\"michigan indie\"],[\"microhouse\"],[\"microtonal\"],[\"middle earth\"],[\"middle east hip hop\"],[\"middle eastern traditional\"],[\"midwest americana\"],[\"midwest emo\"],[\"military cadence\"],[\"military rap\"],[\"milwaukee indie\"],[\"mindfulness\"],[\"minecraft\"],[\"minimal melodic techno\"],[\"minimal tech house\"],[\"minimal techno\"],[\"minimal wave\"],[\"minimalism\"],[\"minneapolis indie\"],[\"minneapolis metal\"],[\"minneapolis punk\"],[\"minneapolis sound\"],[\"minnesota hip hop\"],[\"mississippi hip hop\"],[\"mississippi indie\"],[\"mizrahi\"],[\"mod revival\"],[\"modern alternative pop\"],[\"modern alternative rock\"],[\"modern big band\"],[\"modern blues\"],[\"modern blues rock\"],[\"modern bollywood\"],[\"modern country rock\"],[\"modern dream pop\"],[\"modern folk rock\"],[\"modern funk\"],[\"modern hard rock\"],[\"modern indie pop\"],[\"modern jazz piano\"],[\"modern jazz trio\"],[\"modern old-time\"],[\"modern performance\"],[\"modern power pop\"],[\"modern psychedelic folk\"],[\"modern reggae\"],[\"modern rock\"],[\"modern salsa\"],[\"modern ska punk\"],[\"modern southern rock\"],[\"modern string quartet\"],[\"modern swing\"],[\"modern uplift\"],[\"modular synth\"],[\"moldovan pop\"],[\"mollywood\"],[\"mongolian hip hop\"],[\"mongolian pop\"],[\"monterrey indie\"],[\"montreal indie\"],[\"moog\"],[\"moombahton\"],[\"morna\"],[\"motivation\"],[\"motown\"],[\"mountain dulcimer\"],[\"movie tunes\"],[\"mpb\"],[\"music box\"],[\"music hall\"],[\"musica afroperuana\"],[\"musica alagoana\"],[\"musica andina\"],[\"musica andina colombiana\"],[\"musica antigua\"],[\"musica aragonesa\"],[\"musica ayacuchana\"],[\"musica canaria\"],[\"musica costarricense\"],[\"musica costena\"],[\"musica cristiana guatemalteca\"],[\"musica de fondo\"],[\"musica gaucha tradicionalista\"],[\"musica hondurena\"],[\"musica infantil\"],[\"musica jibara\"],[\"musica juiz-forana\"],[\"musica llanera\"],[\"musica nicaraguense\"],[\"musica para criancas\"],[\"musica para ninos\"],[\"musica paraibana\"],[\"musica piemonteisa\"],[\"musica popular colombiana\"],[\"musica popular mineira\"],[\"musica popular paraense\"],[\"musica potosina\"],[\"musica prehispanica\"],[\"musica sarda\"],[\"musica tradicional cubana\"],[\"musica tropical guatemalteca\"],[\"musical advocacy\"],[\"musikkorps\"],[\"musique concrete\"],[\"musique peule\"],[\"musique pour enfant quebecois\"],[\"musique pour enfants\"],[\"musique touareg\"],[\"muzica populara\"],[\"muzika l'yeladim\"],[\"naija worship\"],[\"nantes indie\"],[\"narodna muzika\"],[\"nashville americana\"],[\"nashville hip hop\"],[\"nashville indie\"],[\"nashville singer-songwriter\"],[\"nashville sound\"],[\"native american\"],[\"native american contemporary\"],[\"native american flute\"],[\"native american hip hop\"],[\"native american spiritual\"],[\"navajo\"],[\"nederlandse hardstyle\"],[\"nederpop\"],[\"neo classical metal\"],[\"neo kyma\"],[\"neo mellow\"],[\"neo r&b\"],[\"neo soul\"],[\"neo-classical\"],[\"neo-kraut\"],[\"neo-pagan\"],[\"neo-progressive\"],[\"neo-psychedelic\"],[\"neo-rockabilly\"],[\"neo-singer-songwriter\"],[\"neo-synthpop\"],[\"neo-trad metal\"],[\"neo-traditional bluegrass\"],[\"neo-traditional country\"],[\"neoclassical darkwave\"],[\"neoclassicism\"],[\"neofolk\"],[\"neon pop punk\"],[\"neotango\"],[\"nepali indie\"],[\"nepali pop\"],[\"nerdcore\"],[\"neue deutsche harte\"],[\"neue deutsche todeskunst\"],[\"neue deutsche welle\"],[\"neurofunk\"],[\"new age\"],[\"new age piano\"],[\"new americana\"],[\"new beat\"],[\"new comedy\"],[\"new england americana\"],[\"new england emo\"],[\"new french touch\"],[\"new isolationism\"],[\"new jack swing\"],[\"new jersey hardcore\"],[\"new jersey indie\"],[\"new jersey punk\"],[\"new jersey rap\"],[\"new mexico music\"],[\"new orleans blues\"],[\"new orleans funk\"],[\"new orleans indie\"],[\"new orleans jazz\"],[\"new orleans rap\"],[\"new rave\"],[\"new romantic\"],[\"new tribe\"],[\"new wave\"],[\"new wave of thrash metal\"],[\"new wave pop\"],[\"new weird america\"],[\"new york death metal\"],[\"new york drill\"],[\"new zealand classical\"],[\"newcastle indie\"],[\"newcastle nsw indie\"],[\"nigerian hip hop\"],[\"nigerian pop\"],[\"nightcore\"],[\"nightrun\"],[\"ninja\"],[\"nintendocore\"],[\"nisiotika\"],[\"nl folk\"],[\"no wave\"],[\"noise pop\"],[\"noise punk\"],[\"noise rock\"],[\"nordic classical piano\"],[\"nordic contemporary classical\"],[\"nordic folk\"],[\"nordic house\"],[\"nordic orchestra\"],[\"nordic post-rock\"],[\"nordic soundtrack\"],[\"norman ok indie\"],[\"norsk lovsang\"],[\"norteno\"],[\"norteno-sax\"],[\"north carolina emo\"],[\"north carolina hip hop\"],[\"north carolina indie\"],[\"north carolina metal\"],[\"north carolina roots\"],[\"north east england indie\"],[\"northern irish indie\"],[\"northern irish punk\"],[\"northern soul\"],[\"norwegian black metal\"],[\"norwegian choir\"],[\"norwegian classical\"],[\"norwegian contemporary jazz\"],[\"norwegian death metal\"],[\"norwegian experimental\"],[\"norwegian hip hop\"],[\"norwegian indie\"],[\"norwegian jazz\"],[\"norwegian metal\"],[\"norwegian pop\"],[\"norwegian pop rap\"],[\"norwegian punk rock\"],[\"norwegian rock\"],[\"norwegian singer-songwriter\"],[\"norwegian space disco\"],[\"nottingham indie\"],[\"nouvelle chanson francaise\"],[\"nova canco\"],[\"nova mpb\"],[\"nova musica pernambucana\"],[\"novelty\"],[\"nu age\"],[\"nu disco\"],[\"nu gaze\"],[\"nu jazz\"],[\"nu metal\"],[\"nu skool breaks\"],[\"nu-cumbia\"],[\"nu-metalcore\"],[\"nubian traditional\"],[\"nueva cancion\"],[\"nueva ola chilena\"],[\"nueva ola peruana\"],[\"nuevo flamenco\"],[\"nuevo folklore mexicano\"],[\"nuevo regional mexicano\"],[\"nuevo tango\"],[\"nursery\"],[\"nwobhm\"],[\"nwothm\"],[\"ny roots\"],[\"nyc pop\"],[\"nyc rap\"],[\"nyhc\"],[\"nz christian\"],[\"nz folk\"],[\"nz hardcore\"],[\"nz indie\"],[\"nz pop\"],[\"nz punk\"],[\"nz reggae\"],[\"nz singer-songwriter\"],[\"oakland hip hop\"],[\"oakland indie\"],[\"oc indie\"],[\"oc rap\"],[\"oceania soundtrack\"],[\"ohio hip hop\"],[\"ohio indie\"],[\"oi\"],[\"ok indie\"],[\"okc indie\"],[\"okinawan pop\"],[\"oklahoma country\"],[\"old school dancehall\"],[\"old school hip hop\"],[\"old school rap francais\"],[\"old school thrash\"],[\"old school uk hip hop\"],[\"old west\"],[\"old-time\"],[\"old-time fiddle\"],[\"olympia wa indie\"],[\"omaha indie\"],[\"one-person band\"],[\"ontario indie\"],[\"opera\"],[\"opera chorus\"],[\"opera metal\"],[\"operatic pop\"],[\"operetta\"],[\"opm\"],[\"oratory\"],[\"orchestra\"],[\"orchestral performance\"],[\"orebro indie\"],[\"organic ambient\"],[\"organic electronic\"],[\"organic house\"],[\"orgcore\"],[\"oriental classical\"],[\"orkney and shetland folk\"],[\"orlando indie\"],[\"orquesta tipica\"],[\"orthodox chant\"],[\"oshare kei\"],[\"otacore\"],[\"oth indie\"],[\"ottawa indie\"],[\"ottawa rap\"],[\"oud\"],[\"outer hip hop\"],[\"outlaw country\"],[\"outsider\"],[\"outsider house\"],[\"oxford choir\"],[\"oxford indie\"],[\"p funk\"],[\"pagan black metal\"],[\"pagode\"],[\"pagode baiano\"],[\"paisley underground\"],[\"pakistani folk\"],[\"pakistani hip hop\"],[\"pakistani pop\"],[\"palestinian pop\"],[\"palm desert scene\"],[\"panamanian pop\"],[\"panamanian rock\"],[\"panpipe\"],[\"papuri\"],[\"parody\"],[\"partido alto\"],[\"partyschlager\"],[\"pei indie\"],[\"permanent wave\"],[\"perreo\"],[\"persian pop\"],[\"persian traditional\"],[\"perth indie\"],[\"peruvian hip hop\"],[\"peruvian rock\"],[\"pet calming\"],[\"philly indie\"],[\"philly rap\"],[\"philly soul\"],[\"phoenix indie\"],[\"phonk\"],[\"pianissimo\"],[\"piano blues\"],[\"piano cover\"],[\"piano mpb\"],[\"piano rock\"],[\"pibroch\"],[\"piedmont blues\"],[\"pinoy hip hop\"],[\"pinoy indie\"],[\"pinoy pop punk\"],[\"pinoy praise\"],[\"pinoy r&b\"],[\"pinoy reggae\"],[\"pinoy rock\"],[\"pinoy traditional\"],[\"pinoy trap\"],[\"pirate\"],[\"pittsburgh indie\"],[\"pittsburgh rap\"],[\"pittsburgh rock\"],[\"pixie\"],[\"plunderphonics\"],[\"poetry\"],[\"polca paraguaya\"],[\"polish blues\"],[\"polish classical\"],[\"polish classical piano\"],[\"polish contemporary classical\"],[\"polish jazz\"],[\"polish modern jazz\"],[\"polish pop\"],[\"polish post-rock\"],[\"polish reggae\"],[\"polish rock\"],[\"political hip hop\"],[\"polka\"],[\"polynesian hip hop\"],[\"polynesian pop\"],[\"polyphony\"],[\"pony\"],[\"pop\"],[\"pop argentino\"],[\"pop chileno\"],[\"pop dance\"],[\"pop edm\"],[\"pop electronico\"],[\"pop emo\"],[\"pop flamenco\"],[\"pop folk\"],[\"pop house\"],[\"pop nacional\"],[\"pop nacional antigas\"],[\"pop peruano\"],[\"pop punk\"],[\"pop quebecois\"],[\"pop r&b\"],[\"pop rap\"],[\"pop reggaeton\"],[\"pop rock\"],[\"pop rock brasileiro\"],[\"pop romantico\"],[\"pop soul\"],[\"pop venezolano\"],[\"pop violin\"],[\"popgaze\"],[\"popping\"],[\"pops orchestra\"],[\"popwave\"],[\"pornogrind\"],[\"porro\"],[\"portland hip hop\"],[\"portland indie\"],[\"portland metal\"],[\"portland punk\"],[\"portuguese early music\"],[\"post-disco\"],[\"post-disco soul\"],[\"post-doom metal\"],[\"post-grunge\"],[\"post-hardcore\"],[\"post-metal\"],[\"post-minimalism\"],[\"post-post-hardcore\"],[\"post-punk\"],[\"post-punk argentina\"],[\"post-rock\"],[\"post-romantic era\"],[\"post-screamo\"],[\"post-teen pop\"],[\"power metal\"],[\"power pop\"],[\"power thrash\"],[\"power-pop punk\"],[\"praise\"],[\"prepared piano\"],[\"preschool children's music\"],[\"prog quebec\"],[\"progressive alternative\"],[\"progressive bluegrass\"],[\"progressive deathcore\"],[\"progressive electro house\"],[\"progressive groove metal\"],[\"progressive house\"],[\"progressive jazz fusion\"],[\"progressive metal\"],[\"progressive metalcore\"],[\"progressive post-hardcore\"],[\"progressive power metal\"],[\"progressive psytrance\"],[\"progressive rock\"],[\"progressive sludge\"],[\"progressive trance\"],[\"progressive trance house\"],[\"progressive uplifting trance\"],[\"proto-rap\"],[\"proto-techno\"],[\"protopunk\"],[\"psalmen\"],[\"psicodelia brasileira\"],[\"psybass\"],[\"psychedelic blues-rock\"],[\"psychedelic doom\"],[\"psychedelic folk\"],[\"psychedelic folk rock\"],[\"psychedelic hip hop\"],[\"psychedelic pop\"],[\"psychedelic punk\"],[\"psychedelic rock\"],[\"psychedelic soul\"],[\"psychedelic trance\"],[\"psychill\"],[\"psychobilly\"],[\"pub rock\"],[\"puerto rican folk\"],[\"puerto rican pop\"],[\"puerto rican rock\"],[\"punjabi folk\"],[\"punjabi hip hop\"],[\"punjabi pop\"],[\"punk\"],[\"punk 'n' roll\"],[\"punk blues\"],[\"punk rock italiano\"],[\"punk rock mexicano\"],[\"punta\"],[\"purple sound\"],[\"qawwali\"],[\"quartetto d'archi\"],[\"quatuor a cordes\"],[\"quebec death metal\"],[\"quebec indie\"],[\"queens hip hop\"],[\"queer country\"],[\"queercore\"],[\"quiet storm\"],[\"quran\"],[\"r&b\"],[\"r&b en espanol\"],[\"rabindra sangeet\"],[\"radio symphony\"],[\"ragtime\"],[\"rai\"],[\"ranchera\"],[\"rap\"],[\"rap chileno\"],[\"rap conciencia\"],[\"rap conscient\"],[\"rap cristiano\"],[\"rap dominicano\"],[\"rap kreyol\"],[\"rap latina\"],[\"rap metal\"],[\"rap nacional antigo\"],[\"rap napoletano\"],[\"rap rock\"],[\"rap underground mexicano\"],[\"rare groove\"],[\"rave\"],[\"rawstyle\"],[\"reading\"],[\"reading indie\"],[\"rebel blues\"],[\"rebetiko\"],[\"recorder\"],[\"red dirt\"],[\"redneck\"],[\"reggae\"],[\"reggae en espanol\"],[\"reggae fusion\"],[\"reggae rock\"],[\"reggaeton\"],[\"reggaeton colombiano\"],[\"reggaeton cristiano\"],[\"reggaeton flow\"],[\"reggaeton mexicano\"],[\"regional mexican\"],[\"relaxative\"],[\"renaissance\"],[\"rennes indie\"],[\"retro metal\"],[\"retro soul\"],[\"rhode island indie\"],[\"rhode island rap\"],[\"rhythm and blues\"],[\"riddim\"],[\"rif\"],[\"riot grrrl\"],[\"ritmo kombina\"],[\"rochester mn indie\"],[\"rochester ny indie\"],[\"rock\"],[\"rock alternatif francais\"],[\"rock alternativo brasileiro\"],[\"rock andaluz\"],[\"rock baiano\"],[\"rock brasiliense\"],[\"rock chapin\"],[\"rock cristiano\"],[\"rock drums\"],[\"rock en espanol\"],[\"rock gaucho\"],[\"rock independant francais\"],[\"rock kapak\"],[\"rock keyboard\"],[\"rock nacional\"],[\"rock nacional brasileiro\"],[\"rock pernambucano\"],[\"rock progressif francais\"],[\"rock steady\"],[\"rock urbano mexicano\"],[\"rock-and-roll\"],[\"rockabilly\"],[\"rockabilly en espanol\"],[\"roda de samba\"],[\"romanian classical piano\"],[\"romanian electronic\"],[\"romanian folk\"],[\"romanian pop\"],[\"romanian rock\"],[\"romantico\"],[\"roots americana\"],[\"roots reggae\"],[\"roots rock\"],[\"roots worship\"],[\"rosary\"],[\"rumba\"],[\"rumba congolaise\"],[\"rune folk\"],[\"russian alternative rock\"],[\"russian ccm\"],[\"russian chanson\"],[\"russian choir\"],[\"russian classical piano\"],[\"russian dance\"],[\"russian edm\"],[\"russian folk\"],[\"russian folk rock\"],[\"russian jazz\"],[\"russian metal\"],[\"russian metalcore\"],[\"russian modern classical\"],[\"russian orchestra\"],[\"russian pop\"],[\"russian post-punk\"],[\"russian punk\"],[\"russian rock\"],[\"russian romanticism\"],[\"russian shoegaze\"],[\"russian trance\"],[\"rva indie\"],[\"rwandan traditional\"],[\"ryukyu ongaku\"],[\"sacramento hip hop\"],[\"sacramento indie\"],[\"sacred steel\"],[\"sad rap\"],[\"salsa\"],[\"salsa choke\"],[\"salsa colombiana\"],[\"salsa cubana\"],[\"salsa international\"],[\"salsa peruana\"],[\"salsa puertorriquena\"],[\"salsa venezolana\"],[\"samba\"],[\"samba de roda\"],[\"samba moderno\"],[\"samba-enredo\"],[\"samba-jazz\"],[\"samba-rock\"],[\"san antonio rap\"],[\"san diego indie\"],[\"san diego rap\"],[\"san marcos tx indie\"],[\"sandalwood\"],[\"sarod\"],[\"saskatchewan indie\"],[\"scam rap\"],[\"scandinavian r&b\"],[\"scandipop\"],[\"schlager\"],[\"scorecore\"],[\"scottish electronic\"],[\"scottish fiddle\"],[\"scottish folk\"],[\"scottish hip hop\"],[\"scottish indie\"],[\"scottish jazz\"],[\"scottish metal\"],[\"scottish new wave\"],[\"scottish rock\"],[\"scottish singer-songwriter\"],[\"scratch\"],[\"scream rap\"],[\"screamo\"],[\"seattle hip hop\"],[\"seattle indie\"],[\"second line\"],[\"sefardi\"],[\"serbian electronic\"],[\"serialism\"],[\"sertanejo\"],[\"sertanejo pop\"],[\"sertanejo tradicional\"],[\"sertanejo universitario\"],[\"sevdah\"],[\"sevillanas\"],[\"shaabi\"],[\"shabad\"],[\"shakuhachi\"],[\"shamanic\"],[\"shanty\"],[\"sheffield indie\"],[\"shibuya-kei\"],[\"shimmer pop\"],[\"shimmer psych\"],[\"shiver pop\"],[\"shoegaze\"],[\"show tunes\"],[\"shred\"],[\"shush\"],[\"sierreno\"],[\"singaporean mandopop\"],[\"singaporean pop\"],[\"singaporean singer-songwriter\"],[\"singer-songwriter\"],[\"singing bowl\"],[\"sitar\"],[\"ska\"],[\"ska argentino\"],[\"ska chileno\"],[\"ska jazz\"],[\"ska mexicano\"],[\"ska punk\"],[\"ska revival\"],[\"skate punk\"],[\"skiffle\"],[\"skramz\"],[\"sky room\"],[\"slack-key guitar\"],[\"slam poetry\"],[\"slamming deathcore\"],[\"slavic folk metal\"],[\"slayer\"],[\"slc indie\"],[\"sleaze rock\"],[\"sleep\"],[\"slovak electronic\"],[\"slovenian electronic\"],[\"slovenian metal\"],[\"slow game\"],[\"slowcore\"],[\"sludge metal\"],[\"small room\"],[\"smooth jazz\"],[\"smooth saxophone\"],[\"smooth soul\"],[\"soca\"],[\"socal pop punk\"],[\"social media pop\"],[\"soda pop\"],[\"soft rock\"],[\"solipsynthm\"],[\"son cubano\"],[\"son cubano clasico\"],[\"son jarocho\"],[\"sophisti-pop\"],[\"sotalaulut\"],[\"soukous\"],[\"soul\"],[\"soul blues\"],[\"soul flow\"],[\"soul jazz\"],[\"souldies\"],[\"sound\"],[\"sound art\"],[\"sound effects\"],[\"sound team\"],[\"soundtrack\"],[\"south african alternative\"],[\"south african choral\"],[\"south african country\"],[\"south african hip hop\"],[\"south african house\"],[\"south african jazz\"],[\"south african pop\"],[\"south african pop dance\"],[\"south african rock\"],[\"south carolina hip hop\"],[\"south carolina indie\"],[\"south carolina metal\"],[\"south dakota indie\"],[\"southampton indie\"],[\"southern americana\"],[\"southern gospel\"],[\"southern hip hop\"],[\"southern metal\"],[\"southern rock\"],[\"southern soul\"],[\"southern soul blues\"],[\"soviet synthpop\"],[\"sovietwave\"],[\"spa\"],[\"space age pop\"],[\"space ambient\"],[\"space rock\"],[\"spanish baroque\"],[\"spanish classical\"],[\"spanish classical piano\"],[\"spanish folk metal\"],[\"spanish hip hop\"],[\"spanish indie pop\"],[\"spanish invasion\"],[\"spanish metal\"],[\"spanish modern rock\"],[\"spanish new wave\"],[\"spanish noise pop\"],[\"spanish pop\"],[\"spanish pop rock\"],[\"spanish renaissance\"],[\"spanish rock\"],[\"spanish synthpop\"],[\"spanish techno\"],[\"speed garage\"],[\"speed metal\"],[\"speedcore\"],[\"spiritual hip hop\"],[\"spiritual jazz\"],[\"spirituals\"],[\"springfield mo indie\"],[\"spytrack\"],[\"st louis rap\"],[\"steampunk\"],[\"steel guitar\"],[\"steelpan\"],[\"stl indie\"],[\"stomp and flutter\"],[\"stomp and holler\"],[\"stomp and whittle\"],[\"stomp pop\"],[\"stoner metal\"],[\"stoner rock\"],[\"straight edge\"],[\"straight-ahead jazz\"],[\"street band\"],[\"street punk\"],[\"streichquartett\"],[\"stride\"],[\"string band\"],[\"string folk\"],[\"string orchestra\"],[\"string quartet\"],[\"strut\"],[\"substep\"],[\"sudanese pop\"],[\"sufi\"],[\"sufi chant\"],[\"sunshine pop\"],[\"supergroup\"],[\"surf music\"],[\"surf punk\"],[\"svensk progg\"],[\"swamp blues\"],[\"swamp pop\"],[\"swamp rock\"],[\"swancore\"],[\"swedish alternative rock\"],[\"swedish americana\"],[\"swedish black metal\"],[\"swedish choir\"],[\"swedish country\"],[\"swedish dancehall\"],[\"swedish death metal\"],[\"swedish doom metal\"],[\"swedish electronic\"],[\"swedish electropop\"],[\"swedish eurodance\"],[\"swedish garage rock\"],[\"swedish hard rock\"],[\"swedish hardcore\"],[\"swedish heavy metal\"],[\"swedish house\"],[\"swedish idol pop\"],[\"swedish indie folk\"],[\"swedish indie pop\"],[\"swedish indie rock\"],[\"swedish jazz\"],[\"swedish jazz orkester\"],[\"swedish melodic rock\"],[\"swedish metal\"],[\"swedish metalcore\"],[\"swedish pop\"],[\"swedish post-hardcore\"],[\"swedish power metal\"],[\"swedish prog\"],[\"swedish progressive metal\"],[\"swedish rock-and-roll\"],[\"swedish singer-songwriter\"],[\"swedish soul\"],[\"swedish stoner rock\"],[\"swedish synth\"],[\"swedish synthpop\"],[\"swedish tropical house\"],[\"swedish underground rap\"],[\"swing\"],[\"swing italiano\"],[\"swing revival\"],[\"swiss black metal\"],[\"swiss classical piano\"],[\"swiss country\"],[\"swiss metal\"],[\"swiss pop\"],[\"swiss rock\"],[\"swiss worship\"],[\"sydney indie\"],[\"symphonic black metal\"],[\"symphonic metal\"],[\"symphonic rock\"],[\"synth funk\"],[\"synthpop\"],[\"synthwave\"],[\"syrian pop\"],[\"tabla\"],[\"tagalog rap\"],[\"tagalog worship\"],[\"taiwan campus folk\"],[\"taiwan classical performance\"],[\"taiwan hip hop\"],[\"taiwan indie\"],[\"taiwan pop\"],[\"taiwan singer-songwriter\"],[\"tajik pop\"],[\"talent show\"],[\"tamaulipas indie\"],[\"tamaulipas rap\"],[\"tamborazo\"],[\"tamil hip hop\"],[\"tamil pop\"],[\"tamil worship\"],[\"tampa indie\"],[\"tango\"],[\"tango cancion\"],[\"tape club\"],[\"tech house\"],[\"technical death metal\"],[\"technical deathcore\"],[\"technical groove metal\"],[\"technical melodic death metal\"],[\"technical thrash\"],[\"techno\"],[\"techno kayo\"],[\"tecnobanda\"],[\"teen pop\"],[\"tejano\"],[\"tempe indie\"],[\"tennessee hip hop\"],[\"tennessee metal\"],[\"tex-mex\"],[\"texas blues\"],[\"texas country\"],[\"texas latin rap\"],[\"texas pop punk\"],[\"texas punk\"],[\"thai folk\"],[\"thai folk rock\"],[\"thai idol\"],[\"thai indie rock\"],[\"thai pop\"],[\"thall\"],[\"theme\"],[\"theremin\"],[\"thrash core\"],[\"thrash metal\"],[\"timba\"],[\"tin pan alley\"],[\"tipico\"],[\"tolkien metal\"],[\"tollywood\"],[\"tone\"],[\"torch song\"],[\"toronto indie\"],[\"toronto rap\"],[\"trad jazz catala\"],[\"traditional bluegrass\"],[\"traditional blues\"],[\"traditional british folk\"],[\"traditional country\"],[\"traditional folk\"],[\"traditional funk\"],[\"traditional rockabilly\"],[\"traditional ska\"],[\"traditional soul\"],[\"trance\"],[\"trance mexicano\"],[\"trancecore\"],[\"transpop\"],[\"trap\"],[\"trap argentino\"],[\"trap chileno\"],[\"trap dominicano\"],[\"trap latino\"],[\"trap mexicano\"],[\"trap queen\"],[\"trap soul\"],[\"trap triste\"],[\"trap venezolano\"],[\"traprun\"],[\"trash rock\"],[\"triangle indie\"],[\"tribal house\"],[\"trinidadian reggae\"],[\"trio cubano\"],[\"trip hop\"],[\"trival\"],[\"tropical\"],[\"tropical house\"],[\"tropicalia\"],[\"trova\"],[\"trova mexicana\"],[\"truck-driving country\"],[\"tuareg guitar\"],[\"tucson indie\"],[\"tulsa indie\"],[\"tuna estudiantil\"],[\"tunisian pop\"],[\"turbo folk\"],[\"turkish classical\"],[\"turkish classical performance\"],[\"turkish edm\"],[\"turkish experimental\"],[\"turkish folk\"],[\"turkish jazz\"],[\"turkish modern jazz\"],[\"turkish pop\"],[\"turkish psych\"],[\"turkish trap\"],[\"turkish trap pop\"],[\"turntablism\"],[\"twee pop\"],[\"twoubadou\"],[\"tzadik\"],[\"ugandan pop\"],[\"uilleann pipes\"],[\"uk alternative hip hop\"],[\"uk alternative pop\"],[\"uk americana\"],[\"uk contemporary jazz\"],[\"uk contemporary r&b\"],[\"uk dance\"],[\"uk dancehall\"],[\"uk diy punk\"],[\"uk dnb\"],[\"uk doom metal\"],[\"uk dub\"],[\"uk experimental electronic\"],[\"uk funky\"],[\"uk garage\"],[\"uk hip hop\"],[\"uk house\"],[\"uk metalcore\"],[\"uk noise rock\"],[\"uk pop\"],[\"uk pop punk\"],[\"uk post-hardcore\"],[\"uk post-punk\"],[\"uk reggae\"],[\"uk rockabilly\"],[\"uk stoner rock\"],[\"uk worship\"],[\"uk82\"],[\"ukrainian choir\"],[\"ukrainian classical\"],[\"ukrainian classical piano\"],[\"ukrainian electronic\"],[\"ukrainian pop\"],[\"ukulele\"],[\"umbanda\"],[\"underground hip hop\"],[\"underground power pop\"],[\"underground rap\"],[\"university choir\"],[\"uplifting trance\"],[\"uptempo hardcore\"],[\"urban contemporary\"],[\"urbano espanol\"],[\"us power metal\"],[\"utah indie\"],[\"uzbek pop\"],[\"uzbek traditional\"],[\"v-pop\"],[\"vallenato\"],[\"vallenato moderno\"],[\"vancouver indie\"],[\"vancouver metal\"],[\"vancouver punk\"],[\"vapor pop\"],[\"vapor soul\"],[\"vapor trap\"],[\"vapor twitch\"],[\"vaporwave\"],[\"variete francaise\"],[\"vaudeville\"],[\"vbs\"],[\"veena\"],[\"vegan straight edge\"],[\"vegas indie\"],[\"velha guarda\"],[\"venezuelan hip hop\"],[\"venezuelan indie\"],[\"venezuelan rock\"],[\"veracruz indie\"],[\"vermont indie\"],[\"vgm instrumental\"],[\"vgm remix\"],[\"victoria bc indie\"],[\"victorian britain\"],[\"video game music\"],[\"vienna indie\"],[\"vietnamese bolero\"],[\"vietnamese pop\"],[\"viking black metal\"],[\"viking folk\"],[\"viking metal\"],[\"villancicos\"],[\"vintage chanson\"],[\"vintage chinese pop\"],[\"vintage classical singing\"],[\"vintage country folk\"],[\"vintage dutch pop\"],[\"vintage french electronic\"],[\"vintage gospel\"],[\"vintage hollywood\"],[\"vintage italian pop\"],[\"vintage italian soundtrack\"],[\"vintage jazz\"],[\"vintage old-time\"],[\"vintage rockabilly\"],[\"vintage schlager\"],[\"vintage spanish pop\"],[\"vintage swedish pop\"],[\"vintage swing\"],[\"vintage tango\"],[\"viola\"],[\"violao\"],[\"violao classico\"],[\"violin\"],[\"viral pop\"],[\"viral rap\"],[\"viral trap\"],[\"virgin islands reggae\"],[\"virginia hip hop\"],[\"virginia metal\"],[\"virginia punk\"],[\"visor\"],[\"visual kei\"],[\"vocal ensemble\"],[\"vocal harmony group\"],[\"vocal house\"],[\"vocal jazz\"],[\"vocal trance\"],[\"vocaloid\"],[\"vogue\"],[\"volksmusik\"],[\"warm drone\"],[\"washboard\"],[\"washington indie\"],[\"wassoulou\"],[\"water\"],[\"wave\"],[\"welsh folk\"],[\"welsh indie\"],[\"welsh metal\"],[\"welsh rock\"],[\"west african jazz\"],[\"west australian hip hop\"],[\"west coast rap\"],[\"west coast reggae\"],[\"west coast trap\"],[\"west end\"],[\"west virginia indie\"],[\"western americana\"],[\"western mass indie\"],[\"western saharan folk\"],[\"western swing\"],[\"white noise\"],[\"wind ensemble\"],[\"wind quintet\"],[\"wisconsin indie\"],[\"witch house\"],[\"women's choir\"],[\"women's music\"],[\"wonky\"],[\"worcester ma indie\"],[\"world\"],[\"world fusion\"],[\"world meditation\"],[\"world worship\"],[\"worship\"],[\"wrestling\"],[\"wu fam\"],[\"wyoming indie\"],[\"wyoming roots\"],[\"xhosa\"],[\"xtra raw\"],[\"yacht rock\"],[\"ye ye\"],[\"yiddish folk\"],[\"yodeling\"],[\"yoga\"],[\"yoik\"],[\"york indie\"],[\"yorkshire folk\"],[\"yugoslav new wave\"],[\"yugoslav rock\"],[\"zambian pop\"],[\"zeuhl\"],[\"zhongguo feng\"],[\"zimdancehall\"],[\"zolo\"],[\"zouglou\"],[\"zouk\"],[\"zurich indie\"],[\"zydeco\"]],\"hovertemplate\":\"x=%{x}<br>y=%{y}<br>genres=%{customdata[0]}<br>cluster_pca=%{marker.color}<extra></extra>\",\"legendgroup\":\"\",\"marker\":{\"color\":[4,4,3,3,3,1,3,0,3,3,2,3,0,4,3,3,0,3,2,2,3,3,0,1,2,0,0,4,0,0,0,0,0,3,0,2,3,0,2,0,2,0,0,0,1,0,0,2,0,2,0,2,3,2,2,0,2,2,0,0,2,2,0,4,2,1,2,2,3,4,3,1,4,4,4,4,4,1,2,1,3,4,1,4,4,2,3,2,4,3,2,0,0,2,3,2,2,3,1,0,3,1,3,3,2,1,1,1,0,2,0,3,0,0,0,0,0,2,3,0,2,4,2,0,3,1,0,3,0,4,2,0,0,0,2,0,4,2,0,2,0,2,2,1,2,0,0,0,2,0,4,3,1,1,4,3,2,2,0,0,2,2,2,2,0,2,2,0,0,2,2,3,2,0,0,2,0,0,0,4,4,4,2,1,0,3,2,4,1,2,0,1,0,0,0,0,4,1,1,3,3,0,3,3,3,2,3,4,1,1,4,0,2,0,0,0,1,3,1,1,3,4,0,3,1,1,1,4,4,1,3,4,1,3,0,2,2,0,0,2,0,0,0,0,2,0,0,3,3,3,0,0,1,3,0,2,2,2,4,1,2,0,0,2,2,1,2,0,2,3,2,3,1,0,0,2,4,1,0,4,1,2,2,4,4,0,0,2,2,2,3,2,0,2,2,1,2,3,1,3,3,2,2,0,0,3,3,3,0,3,0,0,3,3,3,0,0,0,2,0,0,0,0,1,1,0,0,4,4,1,3,4,4,3,1,4,4,0,2,0,3,1,2,1,3,0,0,0,0,3,2,2,0,3,4,0,3,2,2,2,0,2,2,3,0,4,4,3,4,1,2,2,1,2,0,3,3,2,4,4,2,2,1,0,4,2,3,3,0,0,0,2,2,0,2,0,0,3,3,0,2,4,1,1,3,2,1,0,2,0,1,3,0,4,2,0,1,0,0,0,3,4,4,4,3,0,3,3,2,0,4,3,2,0,2,0,3,3,0,0,2,2,2,0,0,2,4,3,0,2,3,3,4,3,0,0,3,2,1,3,3,1,1,2,3,3,0,1,1,1,0,4,4,4,2,0,1,3,4,2,0,0,3,4,3,4,1,3,4,3,2,0,0,3,3,0,2,3,0,0,2,3,3,0,2,0,0,2,0,0,3,2,0,0,0,1,3,3,3,0,3,2,0,2,4,3,2,3,3,3,2,2,3,4,4,4,2,2,0,3,2,4,3,2,4,4,1,0,4,3,2,1,3,2,0,2,0,0,2,2,2,2,2,2,0,1,0,0,2,1,3,0,0,0,2,0,2,0,1,3,0,0,3,0,3,3,3,1,3,2,1,3,0,0,3,3,2,2,2,3,3,1,3,2,1,1,1,3,0,3,3,3,3,3,1,2,3,0,3,2,3,3,4,3,0,0,3,3,3,4,2,4,4,4,4,4,4,4,4,4,4,4,1,4,4,4,4,4,4,4,1,4,4,1,1,1,3,2,0,0,0,0,0,0,0,3,0,3,0,2,3,2,4,0,4,2,2,0,4,4,4,0,3,2,1,1,1,4,1,3,3,2,0,0,0,2,3,4,0,3,3,0,3,0,0,0,3,3,3,0,0,1,0,0,2,0,2,0,3,0,3,0,0,0,0,0,0,0,0,0,3,0,3,0,0,0,0,2,0,1,4,4,1,2,1,0,0,0,0,2,0,2,0,4,2,4,0,4,2,0,1,2,0,2,2,3,0,1,0,0,2,0,2,4,2,2,2,0,2,2,2,2,2,2,2,2,0,2,2,2,2,0,3,2,2,3,3,3,3,0,1,0,0,2,0,0,0,3,0,2,0,0,2,0,0,1,3,2,3,3,2,2,3,3,0,0,1,2,2,2,0,0,0,0,3,3,2,4,3,0,1,0,2,2,0,0,2,3,0,0,0,0,1,0,2,0,3,2,0,0,2,0,1,3,3,0,1,2,1,0,0,0,0,3,0,3,2,2,0,0,0,3,2,2,2,1,2,2,2,2,4,0,2,4,1,2,2,0,2,0,1,2,2,4,0,3,3,2,0,2,2,1,4,2,2,0,3,0,2,1,4,2,0,2,0,3,2,0,3,1,4,4,4,4,3,4,0,0,0,0,2,1,0,3,2,4,3,0,2,0,0,1,2,2,1,3,0,0,0,0,0,2,3,2,0,2,0,0,2,0,0,0,2,2,2,0,2,4,2,4,3,3,4,2,2,1,0,4,2,3,0,2,2,3,4,1,2,0,2,0,0,0,0,0,1,1,4,1,0,0,4,2,0,2,1,2,2,1,3,3,1,2,0,3,0,2,2,4,2,4,4,2,2,2,0,2,2,0,3,3,4,0,2,2,0,2,1,4,3,2,0,0,3,3,1,1,3,3,2,0,3,3,3,3,0,1,3,0,3,0,1,2,0,3,3,2,4,0,3,3,2,1,1,0,1,4,3,2,2,0,2,3,2,1,2,3,4,4,3,0,2,0,0,4,2,1,0,2,2,2,0,2,3,1,0,0,2,2,3,0,0,0,0,2,2,0,2,0,2,0,0,2,3,2,2,0,1,4,2,2,0,0,0,2,2,2,2,0,2,2,3,0,2,2,4,1,4,3,0,2,2,0,0,1,3,2,2,4,4,0,0,0,2,0,4,2,4,1,1,0,2,2,0,0,3,1,2,0,2,2,0,0,2,2,2,0,0,2,2,1,3,3,3,0,3,3,2,2,2,0,0,2,2,2,2,2,0,0,2,1,1,1,1,2,1,3,3,1,0,2,2,2,0,2,2,0,0,0,0,0,2,3,2,1,4,3,3,3,4,2,1,3,3,1,0,3,0,4,3,0,4,2,2,1,2,2,3,2,0,2,2,2,0,1,3,1,4,4,1,4,3,0,0,4,0,0,3,2,0,1,4,1,0,0,0,0,0,4,4,4,4,4,4,1,3,3,3,0,3,3,3,1,0,2,1,0,0,0,0,0,1,3,4,4,4,4,2,1,1,1,2,2,0,0,4,2,1,1,1,3,2,2,2,2,2,3,3,4,1,0,0,4,0,1,1,0,3,3,3,2,1,0,3,2,2,3,3,0,0,0,3,2,3,0,2,2,0,2,3,0,2,3,3,0,0,2,2,0,4,2,3,0,2,2,2,1,3,3,0,2,2,2,2,3,2,0,1,3,0,1,3,1,3,2,3,3,0,1,2,0,3,2,1,3,3,1,1,4,1,0,2,0,3,3,0,3,1,4,1,1,2,4,4,2,0,2,2,0,4,1,1,2,1,2,4,4,3,2,1,2,4,1,1,1,2,1,1,0,0,2,4,0,2,0,2,2,0,0,2,0,0,2,2,0,3,0,0,2,3,0,4,4,4,4,2,4,0,2,1,3,0,2,2,4,3,0,1,1,2,2,2,2,2,2,2,2,0,2,2,0,0,0,2,4,1,3,3,1,1,3,0,1,3,1,3,3,1,1,1,3,1,1,1,2,1,1,3,1,3,1,0,2,1,1,1,1,1,3,1,1,2,4,0,3,0,3,3,3,0,3,2,3,0,0,0,0,1,1,0,1,0,1,0,2,3,2,2,0,3,0,1,0,0,1,1,0,0,3,0,4,0,3,3,3,0,1,1,4,3,1,4,4,2,0,0,0,0,4,4,3,0,0,1,0,3,2,2,4,0,0,0,4,0,2,1,0,0,0,3,2,0,0,0,1,0,0,0,2,0,0,0,0,1,1,3,3,2,0,0,1,2,4,3,2,2,3,2,1,0,2,3,3,3,1,2,1,1,1,0,3,2,2,2,1,3,0,1,1,1,3,0,1,1,0,3,2,3,2,2,3,4,2,3,0,2,3,3,3,3,3,3,1,0,1,1,3,0,0,2,0,2,2,2,4,1,2,4,3,0,0,0,3,2,2,2,2,2,2,2,2,2,0,2,0,3,3,0,2,3,3,0,0,3,1,2,2,2,2,2,3,4,0,0,0,0,0,3,0,3,0,0,3,0,0,1,4,4,1,1,2,2,3,0,3,4,3,2,0,1,2,4,0,2,2,0,0,0,3,4,2,0,0,2,3,2,3,0,2,0,3,0,3,4,1,0,4,2,0,0,0,0,0,0,4,2,0,4,0,3,3,3,3,0,4,0,3,3,3,1,3,3,1,3,0,3,3,0,4,2,0,0,3,0,3,4,1,0,3,3,3,3,3,3,3,1,3,0,3,3,0,3,3,3,0,2,3,2,2,3,4,1,1,3,2,0,0,3,0,0,3,3,1,3,4,0,4,1,2,0,2,1,3,0,0,4,1,1,2,2,0,3,2,2,3,3,1,4,2,0,2,3,3,2,2,2,0,2,4,4,3,0,3,3,2,0,4,0,2,2,2,0,3,3,0,0,3,0,2,0,2,0,2,0,3,2,0,4,2,0,0,0,0,2,2,2,3,3,2,2,2,2,4,4,2,0,4,2,4,1,2,0,0,2,0,3,2,3,2,0,2,3,2,1,4,1,2,4,0,0,4,2,2,2,2,2,2,2,2,3,3,3,0,3,4,0,2,3,2,2,0,2,1,3,3,3,3,3,0,1,3,2,2,0,0,0,2,4,3,0,3,0,0,2,3,0,0,2,0,4,0,3,2,0,2,0,3,0,0,0,2,0,2,3,1,3,2,0,0,4,1,2,1,1,3,1,4,4,2,4,2,2,2,1,1,3,3,4,0,0,0,0,0,1,0,3,3,4,4,2,0,2,3,0,0,3,0,3,1,2,0,0,4,1,0,0,0,1,0,0,3,1,2,0,0,1,2,0,3,0,0,3,3,4,3,2,4,3,0,2,2,2,3,3,2,3,3,0,0,0,0,0,2,1,1,3,4,4,4,1,4,3,2,3,3,0,3,0,0,4,0,0,0,2,0,0,0,0,0,1,0,0,3,0,0,3,0,0,0,0,0,3,0,0,3,0,0,4,2,1,0,3,3,2,2,4,0,0,2,2,2,2,4,2,2,3,4,4,2,0,2,0,2,0,2,4,3,1,3,3,2,2,2,2,2,2,2,2,2,2,2,2,2,2,2,3,2,0,1,3,2,2,2,1,3,0,3,2,3,3,2,2,0,0,3,0,0,1,0,0,0,2,0,0,2,0,0,1,1,4,2,2,0,0,0,3,3,0,0,1,4,1,1,3,0,0,0,0,2,0,0,0,2,0,1,0,0,3,2,2,3,2,0,1,3,0,0,0,0,0,0,0,0,2,0,0,0,3,4,0,2,0,3,0,3,0,2,0,0,2,0,2,3,3,0,0,0,2,2,2,0,0,2,3,2,3,0,3,2,3,2,3,3,3,3,4,0,4,0,1,3,3,0,3,2,1,3,3,1,2,2,3,4,4,2,2,3,3,3,2,2,4,4,0,2,3,3,4,2,2,0,4,1,0,2,0,0,0,0,0,0,3,0,0,3,3,1,3,0,3,3,0,2,0,3,1,4,3,0,3,0,3,1,0,1,1,0,2,1,0,0,0,0,0,0,2,0,2,0,0,3,4,3,3,3,3,3,3,0,1,4,4,3,2,3,0,3,2,2,3,2,4,0,3,3,2,3,4,1,0,0,0,0,0,0,0,0,3,1,2,1,0,2,2,2,2,2,4,2,0,2,0,1,2,3,3,2,3,0,0,0,3,3,0,3,3,3,0,3,3,3,3,0,1,3,4,4,4,0,4,0,1,0,0,0,3,0,0,2,0,3,2,2,2,0,3,0,2,0,3,0,0,2,4,1,4,2,1,1,4,2,0,3,3,2,2,0,2,0,0,4,0,0,2,0,2,3,0,1,1,3,1,0,0,1,3,0,3,3,3,0,2,2,2,1,0,2,4,1,3,4,4,4,0,2,2,3,3,3,2,3,2,2,3,3,3,2,0,3,2,4,0,0,2,2,3,0,2,0,2,2,3,3,2,3,2,0,1,1,0,2,2,0,2,2,2,2,0,3,3,1,1,2,2,0,1,3,2,2,4,4,2,0,2,1,1,2,2,2,0,0,2,1,1,3,1,3,4,1,3,3,3,3,0,0,0,0,3,3,3,0,1,3,2,2,2,3,2,2,2,2,0,0,0,0,0,0,2,0,3,0,0,0,0,3,0,3,3,0,2,1,4,2,2,3,1,3,2,3,4,1,3,0,3,3,3,3,3,3,3,0,0,0,2,2,2,0,0,0,0,2,0,0,0,0,0,0,2,0,2,0,3,3,2,0,0,0,3,3,3,3,1,0,0,3,0,0,1,4,0,2,1,1,1,3,3,2,3,0,0,3,4,3,1,0,0,3,3,0,0,0,2,2,2,0,2,0,0,0,0,2,0,0,0,2,2,0,0,2,2,2,4,4,4,2,0,1,3,0,0,0,4,2,2,0,0,2,1,3,1,0,0,0,3,2,2,0,0,0,2,2,3,3,0,1,2,2,3,0,0,0,0,3,4,2,3,4,1,2,0,0,2,2,2,3,1,3,1,1,1,2,1,1,1,1,3,1,0,1,3,1,3,1,4,1,1,4,0,0,0,0,0,2,2,1,2,4,3,0,1,2,2,0,3,4,3,0,3,4,0,4,0,2,2,3,0,0,0,0,3,0,3,0,1,3,4,4,4,1,2,2,3,3,0,3,1,4,2,2,0,0,0,3,3,2,3,3,1,3,4,1,3,2,0,0,3,2,0,0,0,0,3,3,0],\"coloraxis\":\"coloraxis\",\"symbol\":\"circle\"},\"mode\":\"markers\",\"name\":\"\",\"showlegend\":false,\"x\":[2.507095366888567,-0.5969679056633482,-4.158460276223561,-2.387344878512217,-2.6501218371679087,-1.4965091203367626,-3.9235207721573238,-4.611011109831115,-2.8376900630842297,-2.706690139892783,-4.698331383924287,-3.3759874966798677,-5.608998877066022,0.2954946352117687,-2.5725591062870423,-3.4008228020493454,-4.366720316263419,-2.7254698167724003,-4.958112358381605,-3.693495184642272,-2.3116694418123536,-2.495395657404454,-4.335204546066737,-0.8581261952412629,-3.976028924238297,-5.083763521257526,-4.48595403067371,0.36498631174507185,-5.762650418249874,-4.461581953701338,-4.355809968981685,-6.838183840880273,-4.969952623213382,-3.6966381473909795,-4.008367421260786,-4.4774522853432925,-3.6220271054307758,-5.166996866893572,-4.62450853756,-4.094376775037353,-4.996851545459158,-4.831127188307811,-5.07437357476468,-5.357393360658257,-2.429946001962236,-4.887231662299937,-6.21615375607806,-4.163869190777452,-4.375036628841874,-5.599767532123392,-5.4619811863655725,-3.519957322909866,-3.6204113100304607,-4.676610464893098,-4.637370719586301,-4.947145009921959,-4.733113028608392,-4.32334176269361,-5.389012884269637,-4.390929602508024,-4.257141936578433,-3.8920417103992206,-4.474045603322585,-0.03564668626936118,-2.6509692493824097,-2.421662233131127,-4.3668672123134575,-2.779708277978587,-3.7419753219175487,0.33814549144289474,-3.982518746079752,-2.160263461592075,3.0029150110808405,-0.0009516320766092407,1.4669983004410683,1.0609572922651898,0.039780192230368286,-1.6016331166980315,-5.5675531236461335,-0.5331485662766944,-3.5448030234143606,0.9711272284928159,-1.7703769070944417,-0.7395042605426246,0.5209250413365906,-2.866156046253303,-2.871968223910234,-5.279645004711658,1.0291789116112413,-4.377158579368759,-5.031744778414796,-5.511231694364841,-5.766675169822017,-3.6435406232886614,-3.159049325413295,-4.868831761471575,-4.10116409594273,-3.477195156012232,-1.5990958889805784,-5.239411621447389,-2.4314667400074312,-0.6953023105880032,-2.6923311718757086,-3.6126852664722944,-3.685806120963241,-2.424119614455952,-0.7136369992880733,-2.018921711202299,-4.960902282393411,-5.365459829043066,-5.669147898712025,-3.3910329224898,-6.356489884022958,-5.020802365381241,-5.474149167955979,-4.395937273679969,-5.416156485201284,-5.4510940000802135,-3.655292989739507,-5.848503594454404,-2.696375201390061,1.8389479816672225,-3.524869498071137,-4.453460637157531,-3.409523717407892,0.016530789525486006,-4.53266022633462,-2.9354656588906525,-4.9706020621239535,0.12044630634047979,-4.093198004385115,-5.180573565451175,-5.1848379400111195,-4.936559229000648,-4.967088763105221,-5.636330198004944,1.358458693439083,-2.6509692493824097,-5.106582918541897,-2.937560628364969,-6.286669742229687,-2.937560628364969,-4.809947216418683,-1.4286529503452645,-4.544608053998073,-4.170522899634582,-3.964554434745603,-4.365917517240916,-2.7711854679591195,-4.68312734939045,1.966284234283824,-4.362526544371579,0.2773104041300488,-0.46134586721458837,0.8849562536756832,-3.690008208567064,-5.172272706957577,-4.659823012157896,-5.135314495049288,-5.3342801875903625,-4.9344102338899365,-4.587087603302852,-3.7164788636762878,-5.232941861870434,-4.731894014724026,-5.300488664539027,-5.067803166998767,-4.519917869892383,-4.6782932787412035,-3.2174138757686603,-4.5022653351326145,-3.224442360833283,-3.8286939252236163,-4.7116311154809205,-4.425356430088934,-5.434488870130996,-4.319352209262777,-5.876405281719774,-4.915924675571274,0.7552729690724667,1.50933744880908,0.677259763210725,-3.0724451435244595,-0.12381872765175378,-5.5816721043152375,-3.2868770341463955,-2.9508344190331197,1.0268855352482111,-1.0143491733515169,-4.42053485606079,-4.874750389574627,-1.7470956688023873,-5.58926623661982,-5.072186632913587,-5.296075026246495,-5.040469361309859,1.324747846973458,-1.2258733070031844,-1.5615222080638942,-3.116858077568782,-3.2014724225829165,-6.709173792299383,-2.359686239463037,-2.7475318323657865,-3.387955520451975,-4.290745205699504,-3.4121818567614075,1.9047522511957313,-0.38314160117598867,-1.2903305172216462,1.9936982177279898,-5.226399747343382,-4.208080874908135,-5.260693077645068,-4.993674381634953,-4.70745790401461,-1.0499997192695054,-3.079569838734042,-2.2226183013420355,-1.2203146342931455,-3.2211884216477515,1.4379764850645291,-5.268243552446845,-2.3180624610756535,-2.0879310710183105,-1.0776978254838006,-0.7376015859331271,0.44103347150320515,0.22908122597425645,-0.26469656442862577,-3.7399871144587142,0.7815949189192121,-0.7085965402183602,-2.619643894064793,-4.998642597822329,-3.4930248142852713,-5.142156944896055,-5.589370432328704,-5.679213360730012,-4.874814364623997,-4.746220620329249,-5.303656805669686,-5.397706155769295,-5.540413038613183,-4.323928693083358,-4.611826604475927,-5.298959958840356,-2.623288784233845,-3.8252063543871437,-1.9463773522784669,-4.878376252693534,-4.301388295273469,-1.3059593961903275,-3.8711022135512514,-4.3009222975768795,-5.003620123683098,-5.9826168604540335,-5.9826168604540335,1.5479874885491285,-1.24398942101353,-5.636155381081918,-5.336876109351062,-5.0219877728286155,-3.7935979776030986,-4.313004672085262,-1.0119859039440264,-3.7764102523029255,-5.480102211955439,-2.9433561651313034,-3.160704089220984,-3.0819565682828034,-3.5548550741859644,-1.1479852284255312,-4.7319936873602035,-4.84663471237035,-3.6794051659536335,-0.39011057377505204,-1.8472403308838503,-5.081373388023605,0.8111654380108625,-1.7032308919698473,-4.3257548672885955,-5.433275344863524,2.8603911303144955,-0.8493508806653165,-5.447659673088959,-7.258821944217092,-3.7692427735119476,-5.096045147230372,-4.205265850416263,-4.414457971186545,-3.7593017533596043,-5.4236833937439535,-3.4580955228897103,-4.205265850416263,-1.607333808110783,-4.5779976861136555,-3.3510383947869364,-1.9749914191270936,-3.5168252176041968,-2.9479966210869595,-5.277892329505016,-4.7827763982525395,-3.9728294765367873,-5.305879583452745,-2.9250122502399294,-2.9022539865487307,-3.87823300820943,-4.671223879279335,-2.1557547454665436,-5.216368108986172,-5.573243006322628,-2.7809316351081894,-2.961249985794188,-2.6520409120222226,-4.6073104738216495,-5.35688781057248,-5.049992322047183,-5.115399605075391,-4.598872518209746,-4.209407083974348,-5.803977257683214,-6.029259199808786,-1.8434805942046442,-2.0480569768526937,-4.531233318424353,-5.309331648059134,2.632443938305858,2.8603911303144955,-1.5440931518366792,-2.880787975086605,0.3471841680891877,1.516441597455553,-4.091065378163481,-0.48310504877477256,1.7346181179693396,0.37610254345864846,-5.358885409827924,-4.499791983308139,-5.776816937942182,-3.542775847250604,-2.242908712400632,-4.499791983308139,-1.8166813089926366,-3.5793288184807874,-5.311333348587723,-4.939953572730317,-4.689726107532756,-5.008431077966906,-4.362026179533311,-4.499791983308139,-4.93819268732955,-6.104547771849927,-3.5718776123150318,0.1160271756059886,-4.14127071610155,-3.490820786227076,-4.638263426182965,-2.606795855239269,-4.088334243063862,-4.1930703052245715,-4.237877656565584,-3.985440313317706,-3.646245710264779,-5.367270476876653,0.8000023440276722,2.4087870996662906,-4.1203415824351195,0.9243825157830222,-1.044362474390141,-3.369540621833744,-2.965802325678387,-2.301463708947319,-3.464749867798587,-4.558722382095479,-2.9256692844524532,-3.978979888035598,-2.4660411835955207,0.685667300972365,0.5890842810718218,-2.027300654578943,-5.356453832314641,-1.9969673721481427,-4.623022539796002,-0.014704796368303887,-4.590718340151951,-2.8693997584287003,-3.651833637995643,-5.222039622474023,-5.488965981982545,-4.568722940006777,-5.109077878903732,-3.442712938470484,-4.3952227725711275,-4.760209365185644,-3.9516863623338065,-5.944115097565752,-4.007030775796919,-4.141346740083334,-4.235040577070814,-4.1423893475062465,3.520290007140836,-0.20847281151330682,-1.797343248997765,-2.900234299379548,-4.165296690640272,-1.3597591089839507,-4.1402495857993715,-4.721382856095985,-4.893320685847,-0.4985242644110148,-2.578800570945362,-4.730274716410626,0.3447890996386128,-2.57781039432783,-4.936677661583595,-1.9060962224877744,-4.306741492000387,-4.5755229589624475,-4.5211411025498505,-3.048558485946873,0.8003691815266412,0.7286450158475098,2.5295820405351224,-2.6332916433932976,-4.636458308457667,-3.2291785247648397,-3.6319483291784556,-4.66524959945803,-4.571542112053316,-0.6007925132264493,-2.4689843706643324,-4.381758856949218,-5.093168316038868,-3.6697252251196324,-4.063426182281965,-2.4552097181689643,-3.3539218517277845,-5.343777967524715,-5.541091738343573,-4.3358736260382456,-5.010343311437334,-3.68968774218352,-4.222179718247739,-5.431617706907924,-4.689391098619315,-0.5411064925841844,-3.068893349766219,-5.112262836439746,-4.871939884951021,-4.422108286109046,-3.072477000751603,-0.775924977478867,-3.49028539810741,-5.085511385078381,-4.00846937056542,-3.380205588103116,-2.50487959197724,-2.247151886645403,-3.0820396167414517,-3.0443768610094657,-1.9603050579640657,-1.0318430229710445,-3.6517750916958027,-3.088578270288629,-3.699026595688223,-5.717824790756596,-2.1018119725961,-1.7015146220905506,-2.0854102079694483,-4.651707641315454,1.6939194491283107,0.10723865587762357,2.910073553207363,-4.097694126450038,-5.671069135062737,-1.1595906839733503,-2.5888877559186274,0.16288970979966416,-5.41425187902357,-5.259642562888531,-4.324450886690381,-2.6978394576529268,1.446700021992907,-2.2597517447722693,1.474710015242291,-0.8715622148008767,-3.4964739334061408,0.8278449894773965,-3.194891981068719,-3.514390066873269,-5.2458209318173905,-4.92444302609093,-3.467686898066688,-3.0665099341798063,-4.596767791276208,-4.481039761543774,-3.4868780914586197,-4.804537034307059,-4.787846835690025,-4.7163747262292,-2.5000595107119383,-2.9576319466569174,-5.116408928813566,-4.822831802007798,-4.856270742441845,-4.474225505228202,-4.272086153850531,-5.198069170900639,-5.040568172803403,-3.627856866199046,-4.700122327507659,-4.7154530905915975,-4.459891228537544,-4.631579739874836,-1.9123093475484065,-3.618155617631954,-4.106258371307422,-2.859821339179236,-5.494732724948322,-3.7277604620878027,-4.192597025394803,-5.074680544250715,-3.702148078857279,1.2101458762435873,-3.0934283196353594,-2.5201920104186297,-3.632560800537991,-4.153277336389335,-3.30336936566976,-4.629426921159562,-4.121959854008619,-2.5301398370655246,0.2872158357371561,1.5819667819421053,2.48228627229359,-5.890281119389613,-3.508937028680893,-5.325227338416165,-3.647067683979801,-4.423621871271554,0.37842671462430805,-3.4158857775550984,-3.773500533943223,0.2872158357371561,-0.35286940798317246,-1.4783923804812245,-5.348505149495168,0.5696208110952876,-2.5548324843242445,-3.1739315701153905,-1.7609805114929824,-2.5893021896448682,-4.329991151760641,-6.193498403665639,-5.300161104398192,-5.19699567838375,-5.603871295004517,-3.7902697006002133,-4.665414042206029,-4.869171480300018,-3.7219737865395714,-4.478666313635377,-4.154497469317394,-5.330193589863844,-0.7541191507312452,-5.220236312649483,-5.2535246444755925,-2.907897483520666,-0.4695360083243747,-2.4374474977768372,-5.057689462518137,-4.518860794243656,-5.586706586028741,-4.0803470825041375,-6.279395007687545,-3.4809022501658275,-4.504513318903443,-1.78946394363431,-2.9158297831715783,-4.780599055416052,-5.902966725775285,-2.298388264010188,-4.425777106667889,-2.783845541560215,-3.6666117411792336,-3.3989140554706694,-1.2604043445656625,-3.0378779773755413,-4.414390450282922,-1.118104937068118,-4.488909192879654,-5.801862068626825,-4.144080052449221,-3.7338319088685568,-2.5098647652729396,-4.7399009080566215,-2.9157976543050306,-3.85151312722362,-4.286367421673874,-3.1042652476901287,-0.7888462993849774,-2.8466059184174544,-4.035854854183508,-1.9395529797502686,-1.6963378999408474,-0.9267441278960803,-2.8968839739983037,-4.754339132750697,-2.749485520770626,-2.3865400095562235,-3.0444694820911358,-4.097268659955898,-3.5355476836694177,-1.786403616086995,-3.020259405258462,-4.223428699242665,-3.984179230059826,-2.4999880926043665,-4.411701358732394,-2.975653932559821,-3.682713421339936,-0.22843299225337488,-3.8458043819394514,-5.03497132475887,-4.4390885321106595,-3.052190481189034,-3.867410610122529,-4.046500838965876,0.8248058624948278,-3.451658557238681,0.1637009987234193,0.46257972164728306,1.5411798079640031,1.086625674829683,0.7182401184620442,0.5394359984857351,0.45709536217501134,0.8062778060401217,1.455535661211978,1.5386334982995338,2.1477374134183598,-1.8760680425303387,0.46772953120038085,0.8049479570560898,0.3947723352899138,0.9487355300885292,2.0119781136278974,2.213276714380289,1.5773978571030807,-1.7940798303370655,0.31143870814433616,0.05874278495664761,-0.19890676055654802,-1.902453998265859,-1.6782365330449949,-4.002170954068779,-4.828528204518565,-4.84557739029975,-5.248420341715813,-4.531242013114131,-5.677570681866043,-5.356641584400979,-4.7934576603527015,-5.383189545201895,-4.0581631482185045,-5.401442359913559,-2.9379756970317263,-4.55394265446748,-4.754952145222011,-3.125069049701706,-5.385986778002177,0.2059091546602765,-5.614863181498975,0.1625551761543156,-5.2165961848450415,-4.837497338351347,-4.850382195800599,3.0029150110808405,1.5845569613739274,1.9071597880601063,-4.882836520138859,-2.9326452141332098,-3.7478684810896756,-0.5815551177178864,-1.1439716441818535,-2.0368829651429454,0.9496615102823447,-1.2251520598573757,-2.5629779399923063,-2.7759699173339176,-4.566074715471028,-5.215559526971925,-5.646097399384991,-5.199103034467055,-4.00793886125039,-2.9928494811961213,-1.3946775984731687,-4.269798305657646,-2.231966338902742,-3.6301228690985274,-4.252731532645001,-2.872488148838626,-4.95635189639061,-5.265382620034631,-4.682811332369899,-3.7309945147346997,-2.214919234020492,-2.8898191849271515,-4.509753669139389,-5.425759816369545,-1.9563517697793886,-4.507667155328207,-4.507667155328207,-4.13020496024651,-5.463521192611305,-4.240167801189526,-5.277832502665982,-4.179588937784977,-6.087390122720602,-3.2054399474966244,-4.75128741401476,-5.014234048638946,-5.261913594496931,-5.697078755875922,-5.199994392898521,-4.866042929142367,-4.435992445699317,-5.176514458670336,-6.048521196660774,-2.2973910893929554,-6.566279086742133,-3.050525931446196,-5.206233183904521,-6.083294097221034,-5.283098451508422,-6.035102758105043,-3.662320442488738,-5.883626363510584,-1.9893805840003316,1.1020860666639345,1.2934925127099366,-0.8983178904420189,-4.619601171729456,-1.2849261527331555,-6.035447790142313,-4.614726617999254,-5.047674147000941,-4.432268477927295,-4.861104602765764,-5.385857673258033,-3.85151312722362,-5.462657541670718,1.0026296128392609,-4.570947640753806,-0.1704433750055469,-6.020805834332481,0.2147232514112749,-3.9015197767576772,-6.0081807230469835,-2.269089912841962,-3.4647147098887245,-5.93158383419309,-4.722169060873634,-3.4647147098887245,-3.582824894589332,-4.3151325798509905,-1.3167835112225488,-5.997505648928256,-4.638822889828936,-3.612300060091386,-5.10503428362798,-5.507077358588354,0.4856610103145273,-3.4798861417652325,-4.086857406436185,-2.9545880473115744,-4.986366356937068,-3.5812329212608325,-4.1181976611213305,-4.756704965000342,-3.9354030131285356,-3.2005908624580415,-3.789973763893769,-3.9926218793861254,-4.607691558097392,-4.2603486342547585,-3.122070627503431,-3.645988399696514,-4.316888610750551,-5.228677733606068,-4.914352931631225,-2.418571043995071,-5.286824427246124,-3.873254961732944,-2.4755380530983744,-4.162603146392043,-4.099430462263741,-3.881856347625257,-6.144095585194447,-0.581921496699923,-4.763773237180516,-4.125391173135178,-5.328598894410506,-5.771651924376855,-4.830071144967743,-5.940092897797539,-2.479938579342516,-5.145284841566116,-3.438574259298679,-5.234326054350179,-6.137820112532425,-3.810797871945181,-4.833520503096877,-4.429885582472353,-1.2638326913404572,-2.8613252476843805,-5.481277177541534,-2.1742028638623543,-2.694102746370725,-5.122281798412754,-3.900453875346066,-2.8735453023044295,-3.730777170883552,-4.976241346616066,-4.854153974935825,-0.86896085138937,-4.589141724216087,-2.748614695539069,-3.378886537510748,-4.864490298921746,-6.344080683499397,-4.555263514057513,-5.367075239901783,-2.6230832121971828,-3.8218692952891615,-2.5142568398314964,1.3604074848475967,-3.871495459804985,-5.403594061974566,-1.9542558893063093,-4.3456266816691285,-1.975874690090805,-3.0819565682828034,-4.843844100473679,-5.120730511775769,-4.233062020280249,-2.5756992651405644,-6.068863494408951,-4.703216856439864,-4.831512841577891,-4.2684921299649226,-2.1266511794793366,-4.588504990405025,-2.9052161436066317,-5.010731012483104,-3.944819916828052,-4.690261281349023,-5.438843235957077,-4.157586330768915,-3.5202328643501977,-5.603379602981405,-1.5361017025274686,-2.749599187972603,-3.0604613880451734,-5.447299793368607,-0.775333373268302,-5.224864881530179,-0.478509085630997,-5.343093784926085,-4.8221355512514155,-4.326036371876758,-5.602521689095736,-2.5127119139025162,-5.114809519284199,-2.109290820641772,-3.6845748062444565,-4.34325446526491,-4.98839329798998,-5.089356402436012,-6.422527823047502,-3.4391379709314296,-3.571269683371384,-4.149729757421123,-3.5690641816985567,-2.0696849216571374,-2.9393201153276833,-4.778824354378836,-3.405996087890587,-4.85748604709876,1.626570151294342,-5.155593902349451,-2.8891923073959633,0.20588500289839443,-1.1458508329366521,-2.3820604318720044,-4.329227741165605,-4.468602659609296,-2.7951179860847746,-5.614295592139431,-1.2987786025205201,-5.398808585238453,-2.660981895635546,1.8389479816672225,-4.137267018330001,-2.523266848888025,-3.472691218402444,-2.6509692493824097,-5.417431611611537,-2.8373273722285477,-4.793753860618808,-1.5874633124803954,2.694347541644301,-4.154003117738107,-5.482938814682312,-5.700374408271562,-1.9261155607635614,-6.193032503101146,-4.907105180380474,-1.8475229392411014,-0.1256357239327585,-4.356264487813293,-4.6557459022088725,-4.339617656297806,-6.545025178300857,-3.422689422176008,-4.780452710579942,-3.9555456823037596,-2.7512566814760193,-1.2839739296143313,0.7372064402967318,0.5772465663948538,0.3273043673454991,0.0201206751325226,-4.069831573840387,0.34204152804712257,-4.023897392410776,-4.984123563810715,-5.098869436357782,-4.787493323403344,-3.884211116999925,-1.493243277539585,-5.72980783530754,-2.7369450428588133,-4.185257665035357,0.11738641243122738,-2.58198679404491,-5.012963603313802,-5.106927380213162,-5.058155577083769,-5.920888510276411,-1.3697439954984865,-3.933033979500513,-4.274424727107669,-2.263372702976598,-3.6395232397297623,-4.728101279253779,-5.348122202476685,-4.134461089197963,-5.806149671563956,-4.4227304174698325,-4.285287186295224,-3.92806068017192,-5.1695803149497825,-5.456644034192491,-3.186884145545724,-5.118027966066807,-5.1889817169027594,-3.674370729735027,-5.261045168403487,-4.933707262323286,-5.632436210483634,-4.9353419563238194,-5.966576688209623,-4.540019050545231,-4.517710828142441,-4.2603783649845495,0.38376285838324364,-6.148575996349202,0.9462157315438928,-3.1200000016932625,-2.219449194230528,-0.5426544746061287,-3.6372797132666848,-2.9245474831961005,-1.4288880764143288,-4.923424244512809,0.7458479492063292,-3.810797871945181,-2.2601260787890425,-5.2899593420729145,-2.5988330978744885,-3.8653186929233496,-3.0505988180231776,0.1454693381942094,-1.0244326726960777,-3.5922668683891485,-4.548445383517872,-4.936802809963493,-5.78678555400678,-5.696362746223876,-5.2024990794702495,-6.793089563951315,-5.126729143982088,-1.8488224480148978,-2.5435426421945344,1.0977324858814612,-1.1210456910306248,-5.825429421963321,-4.161629185694354,-0.027016714798682978,-3.9704977155386105,-5.587428786414588,-3.2622093445532303,-1.4963613854954754,-3.5203608326870923,-2.9565660337992314,-1.295287452347179,-2.4492475126446847,-2.7586313738774018,-1.1938183336222896,-6.474588738644974,-5.937494710336558,-2.950779457025824,-4.908855366015952,-4.675501553325569,-3.0418097249603204,-0.14539284073557496,-4.420185900347077,1.8249084564044709,1.7208591715644768,-4.636641599483375,-4.254886294546545,-4.982451002542508,-5.208049340547015,-4.853474278683276,-4.667816532848699,-4.530602754994605,-3.299145791731494,-2.9759058050897464,1.1536474135470232,-4.488248247776679,-3.024846096596968,-4.262570133899523,-4.972449989725707,-1.7653172066627925,-2.1338411788065286,0.9386810855591465,-4.309184365608219,-3.1101228194596446,-5.321801057756419,-4.950374669078643,-2.9281846847141035,-3.028707682087715,-0.6860995979162757,-1.394130645896667,-3.46006698827588,-3.021500231410681,-5.012790730329964,-4.302083977373832,-3.5228576299969356,-3.5530610795724558,-3.6047335354937533,-2.677291445157894,-4.804537034307059,-0.898933347701744,-2.374707194862712,-5.152342486534294,-4.078213690732249,-4.4959567610938675,-0.9989670053064548,-3.580122150650551,-4.137394036090074,-4.2682453659703565,-4.32151688871885,-4.7550417724572895,0.0782595432011243,-5.124862706431653,-3.1514583193859522,-4.004089818380503,-3.3464757091845705,-0.3808698235061443,-1.0519420943851832,-4.895364897577281,-0.04175086650694083,1.9127508519448038,-2.2271220269484964,-4.235922681560476,-4.343130480483141,-5.301306808918394,-2.262598885622024,-3.7867701120171007,-3.987290579627767,-1.8614779604678542,-4.235922681560476,-2.4157647395040107,0.3630919034467594,0.4389848480639191,-3.3897598798176016,-6.637582724411297,-4.370743938458483,-4.897427465222973,-4.358902494160158,0.4898235895352589,-4.593089399335725,-1.184195254773256,-4.892972389663184,-4.985362598447731,-4.707391362887385,-3.727114230803121,-5.47371274381009,-4.785334341733039,-3.9715882212897253,-0.3640652327194156,-5.3085190337979125,-7.228250857391674,-4.907729250311827,-4.399798049257387,-2.5921144021458793,-6.092015874212501,-7.01730297053188,-4.551953759397357,-6.377573545540187,-4.141393135878721,-4.591009113275873,-4.7680904901348455,-3.8401489014499304,-5.46940076978846,-4.2101064269675055,-4.341790856689342,-5.109636700399982,-4.884818667988679,-3.524711084843193,-2.6639518863665717,-4.227186632132374,-5.225194811675762,-0.517457463987965,0.81091528179252,-6.053554653881899,-5.0770524315603245,-5.1702913747831385,-5.104919320169029,-5.156402389543295,-3.8600133645179966,-4.6959783276053,-3.804880939476899,-4.940104962055662,-4.9381666119177305,-4.336466298342861,-4.100524710067896,-3.117233417416843,-4.677918206987256,-3.6354092575017347,-4.653545722835439,0.6785104992383704,-0.13574527166672212,2.079749082499419,-3.204655521037828,-5.791377988341957,-4.077462853547392,-4.488881208015358,-5.614608760118284,-5.692720527277566,-0.7051172918374087,-1.7507527560980527,-4.41894180873093,-4.443780937950839,0.27885657588462615,0.4339303454858537,-4.324455832214127,-4.2603582438553085,-5.694321063432106,-4.870609615829718,-5.122215161451377,2.576845389354283,-4.232460168049193,0.4130262351967711,-0.7399558389346476,-1.012081188922969,-5.226459570463905,-3.5800478313800217,-5.325007034261342,-6.29186166610669,-5.615265795674222,-2.2535307623384067,-1.9737086436979416,-4.313004672085262,-5.220344337920116,-4.535110800796339,-4.858072771206414,-4.364012441384492,-4.4830557345409625,-3.338998862225137,-4.212667089846834,-3.3353568342063085,-5.227396989107789,-5.350666846401099,-3.575903965793243,-3.539345633633999,-1.5891877040009161,-2.494360082537378,-3.4583058906224102,-3.8853647228980055,-6.346058529873464,-3.205239510566666,-3.831781116405795,-4.2775748134845335,-3.9221219239847187,-4.846624917864416,-5.842447608795649,-4.899674600608699,-4.65648804780118,-4.7035644490952535,-3.794758948524115,-4.179681038056434,-4.860182191878128,-5.798985947696488,-4.958105244813524,-4.138111740379876,-1.707094790026559,-0.6323162787977235,-0.9870799948471694,-1.2567130007230316,-3.786404853424034,-0.5483311192090005,-2.9265630435061247,-2.222155423606389,-0.7055074528190611,-5.647667798558569,-2.6062387804488645,-3.618609352021566,-4.883667507433114,-4.590522991063139,-4.139786394071556,-5.4344700988692125,-4.5038231076686035,-4.723831950661722,-5.272084590420389,-4.749406861067513,-6.279395007687545,-4.600285823431294,-3.759190778407302,-2.8326805840425036,-0.19137434800106018,1.4526643031580624,-2.2295847280469525,-2.7983167545507195,-3.223362089761158,0.591714167891006,-5.371813078041048,-1.53585278188921,-2.1058321772291384,-4.068317881190739,-0.71376406196764,-6.234068938598194,-3.892277412088823,-5.861195596036839,0.07284517403271562,-3.1472290381715213,-5.560317624331781,-0.03431837298571011,-5.4306828061135635,-5.328398147264678,-1.4097980970328583,-3.5247268110828216,-4.339856238645671,-3.957644113848415,-4.620167718205895,-5.1383594996397495,-4.467089522388965,-4.750468753504579,-5.238289818198247,-5.271938190108606,-1.5573278549293856,-2.7181731860882783,-1.0119859039440264,0.03102119827726728,0.10396484179041846,-0.30530830907496553,0.8491175332864002,-2.5605426533285596,-4.563165260511398,-5.688874175455751,0.9739984094662115,-4.434732889716113,-5.0224014779347845,-4.015758322967013,-4.106421507153364,-5.223973148850005,-0.7148948460803652,-0.24422408037908777,-0.750222546739104,-5.0012980678994525,-6.279660904309779,-5.278865551365723,-4.914763291252145,-5.5038316013941335,1.3238622302459842,0.6304275922228109,1.0300052690825336,1.6777892468174105,0.4246416016274789,0.5686148002495635,-0.567657008063317,-2.4151122129799134,-2.8043987407198725,-3.3886192203771053,-6.657422152278722,-3.3397250564195673,-3.3397250564195673,-3.2401036538484536,-1.44508890485512,-5.033099752452501,-4.801263062342858,-1.5319015877051911,-5.473088176397871,-5.076005699895535,-5.367018244669418,-5.156589689720529,-4.690055553030444,-1.795781401998268,-4.488909192879654,1.1823871784169648,1.0307390995211023,1.8661900107890683,2.4358752451550703,-3.4216721719897203,-1.2915186406250363,-1.5258883378070602,-1.5258883378070602,-3.4216721719897203,-3.0601884689826333,-4.892400541684087,-4.970103813278423,0.8923656943521616,-3.0700006963512037,-1.0873548061116138,-2.4670201871666793,-2.2209903401175186,-3.67886134782922,-2.3945669745070237,-2.3185192300941546,-2.620029156383313,-3.9471553586136436,-6.120261052035171,-2.8738974160728614,-2.401543451547985,1.5559871817918736,-1.084148755680015,-4.871555260202178,-4.619126794253312,0.714376291259924,-4.383933266256465,-2.002077408304326,-1.7215431414422364,-5.3234303126546365,-2.9758304279265,-3.4398177271304022,-3.007553250898184,-3.040973154816765,-1.5437600888046843,-4.699899733332013,-3.2535707574673194,-3.641122201380098,-4.103178797141607,-4.338107541306485,-3.125550705031423,-4.158982960825912,-5.429426152547154,-4.933217915416116,-2.4547995911039013,-4.282851489602714,-3.4023836204629716,-4.457594375340027,-4.154060771107801,-5.954656129394102,-5.71366783642485,-3.722598321572564,-3.5241806979266816,-4.08122648630154,-4.641563913819932,-2.3484614964230244,-3.732428486265814,-4.805278856053794,-4.296117990903339,-3.85151312722362,-3.3812786929163674,-4.655342746651351,1.8986220803863185,-3.561764806109541,-3.8203397627760163,-5.501620450480898,-4.724533291656038,-4.237820872808139,-3.4284533316157426,-1.876712262766511,-2.587381473145469,-3.1867813163785264,-6.028464717725963,-4.627188529112983,-1.95355806471236,-4.148022235765709,-3.85107635865038,-2.856739782399886,-3.168899711498074,-4.450694105911223,-2.067183092256287,-4.572832792690343,-4.703738075212048,-0.8370947811031595,-3.5024836423812826,-0.5592419765276524,-3.3280195457197226,-1.9025509124639846,-2.5985491231802413,-2.957690610083949,-4.67735541357781,-0.5246486569484538,-3.8666100423499987,-4.363120501129793,-3.6322819450822017,-3.839518709903117,-1.8786285609206612,-4.488909192879654,-2.5859140430483913,-1.8694180853855196,-0.6397023394802664,2.3313835251877015,0.004250337319995745,-4.966204270941069,-4.717248099102232,-4.072703316426138,-3.2174275563909704,-3.043248265913506,-4.199096186017302,-3.7204930152773463,-0.18625180676929712,0.7246102854911212,-0.991078190666034,-0.09785095522450013,-3.8685162783587805,2.0818361424531235,2.0499023126331,-3.451658557238681,-5.052712662274202,-4.912325367267261,-4.912325367267261,-4.338872923540231,0.49864007102129543,-2.287439748302232,-0.3583101208278879,-4.912325367267261,-0.13912476329423856,-3.2365962003336572,0.40651939271055176,-0.1022270079815519,-2.726344044011171,-4.757479083526582,-1.7956434645098494,-2.8017821379334067,0.6065798395246842,0.08112045757820191,0.027087705225933262,-0.582881768913313,-2.8626658579423787,-0.6599946107497734,-1.3198917983668663,-5.839778715036815,-5.551060302176079,-6.164405608460044,1.627340961666425,-4.0873174494174105,-4.948735409981666,-6.047630231801459,-5.547745240130609,-5.671625569681362,-5.466935106600764,-5.585665194745309,-5.520461793566562,-5.789679809449207,-4.541420758735627,-5.513151664980419,-4.387555029210544,-3.9656344420905203,-3.9468242011966463,-5.855303319261677,-4.682089309671343,-4.730285318770528,-3.288367180263732,-4.596746820384191,-0.5310347770616923,1.4538317744755826,1.8844699918343162,1.518360904207378,-3.3100898717520644,-0.3467629409825892,-6.065427696330097,-4.913336654531929,-2.0585348150371043,-3.9301954142957336,-5.301631660733681,-6.018730658263754,-4.421081017444009,-0.3467629409825892,-2.0857973642885206,-6.911896328552972,-2.010211837716277,-1.6727849230762037,-3.631839884693205,-5.751870960939504,-6.1190052875292675,-4.159281940378027,-4.130384845256026,-5.158757675103212,-6.236016207881776,-5.558451533719201,-4.316457392593108,-3.7132803084441126,-5.719332367919124,-4.541420758735627,-4.4959211690581915,-4.874627640032356,-2.465193191573716,0.5078346124273556,-2.0593205129233376,-2.865636769920412,-4.228393018910922,-1.344235081141372,-1.3696728798048694,-2.508199946924139,-4.8276618078085605,-1.2163681274229563,-3.747724524929056,-1.2059218271232843,-3.6416173016807463,-2.851133790276807,-0.8215520219501606,-1.3093370694658755,-1.5183353376298163,-2.784454701284199,-1.94264956510091,-1.1850435781196549,-1.3573617755544063,-5.216894008198902,-0.26847063324871584,-1.4838277247336704,-2.8206034294687634,-1.016904200950887,-2.50539338259386,-1.7947515921512953,-4.8241871864431385,-3.313638608839484,-1.7121949391614593,-0.6411022430176202,-1.9769617452846533,-1.8395129550038063,-1.6473964004879262,-3.33408375892676,-1.5661730069846733,-2.0345238900218887,-3.548509828149488,0.6011208352518291,-5.715449150205428,-2.918676045132001,-6.474373435223654,-4.306808999176439,-3.803771856236805,-2.2081275461714838,-4.960420506700614,-2.9419049084361313,-4.343130480483141,-3.973495756504942,-5.637830052365449,-5.66219406493151,-6.32825141619696,-4.843196799746318,-1.0920668960444468,-1.771080992420933,-5.1647497221486365,-1.2566214459968683,-5.835592376370998,-1.4953207889616038,-4.666171505708634,-5.599767532123392,-3.433055845717867,-3.613847231555071,-3.325363795063827,-5.168987785170436,-3.154190591926866,-6.841202700325392,-1.5981080280013022,-6.425049522427923,-4.41279618111073,-1.7631817717765619,-1.2945020548966883,-4.239226986479768,-5.204867542908237,-3.458203310408881,-5.1337469785853935,0.2651537400525695,-4.165581818977734,-3.524711084843193,-1.8921640807212436,-2.6723912297767654,-5.087502115870062,-0.2132005423610451,0.08402206789316684,0.21376112969140365,-3.6704415851593013,-0.8310603402148965,0.9267764347513446,2.649633076175814,-4.859672870928417,-4.933545692923559,-4.324417551613171,-4.400142852402639,-5.488977547238913,0.3518987561710022,-0.9587992611489238,-3.2222754479055564,-4.499365488187727,-4.747930847049146,-0.9545568990049368,-5.455402033971019,-2.9171057118477925,-2.7385650803484833,-3.5654905586242127,0.6494352183703145,-5.128179013376772,-5.044723337053468,-5.063952477349315,1.606083206168137,-4.459689425955627,-3.6445722065851904,-1.1992228250841614,-5.858387921936846,-5.201494525751791,-5.782324442418219,-3.799891311858132,-4.629208650928014,-4.4952488161502355,-4.860764301652537,-6.116771069366885,-1.4479145751112044,-5.494601706650541,-4.591367911345676,-5.139174062441336,-3.657669861048366,-5.263493288608375,-4.591966875110218,-4.867544799592754,-4.636031753921779,-0.9267441278960804,-0.5677647737962545,-2.899729115839088,-2.6832350356847026,-4.959335749105736,-4.787218665227902,-4.996554317172324,-1.425037548540667,-3.449987261052189,0.14083326750961167,-3.564300354213087,-4.267058465520456,-3.6291340492696547,-3.19622182528188,-4.084893102747818,-0.8001887605310043,-4.888543654903367,-3.4454800143476936,-2.5946871519512213,-4.309184365608219,-2.868478402504213,-1.9067734953524296,-3.1161851037754986,-2.2121958733006766,-2.191425649904877,-2.183177432665259,-5.121028045037081,-3.332567389040485,-4.101428005271174,-4.105345404606243,-2.301879026144677,-1.8184023018654976,-2.7120121833748807,-4.7575139567173395,-0.25484885561678805,-2.3765092957277236,-0.15280139703658907,-3.4571761570680315,-4.778082329785335,-0.1756733676251378,-1.2915186406250363,-5.6004673944172545,-2.939141636046242,-3.954241822260193,-4.285436000397967,-3.0775136951189896,-4.731725216622051,-2.690553077638704,-0.11833412695864803,-3.6111105573851527,-3.2653453878046155,-5.181285951332985,-5.0688577220054105,-2.6752047856017427,-3.0669848817232124,-3.3130758631096744,-4.292475260577797,-3.148895078446647,-3.2532305127926975,-1.4222197489475679,-5.594757102547199,-0.8895264977993594,-1.3138025365691928,-3.2234954356500483,-4.014645123104063,-5.983535708427799,-2.6660403516814952,-4.95676187215424,-3.1916750630953454,-5.407885458134808,-2.6572038731506717,2.2129573413274124,-2.1323527575298926,-3.992816876471307,0.8979780360841753,-2.746804444441404,-5.738548988494766,-5.25715425900038,-5.037303774749053,-3.818573541404076,-4.571111921896918,-4.7193091269824095,-4.782096465886385,-5.305313632243642,-4.3417240165687945,-5.019617698526433,-4.583669326366283,-4.8127558841892295,-5.259908413271489,-4.958591911495176,-4.838324859995055,-5.286886619924484,-3.252261042403062,-2.899327908383265,-5.807050383817499,-4.958112358381605,-3.173360914685265,-3.0933559134727173,-4.885439883130394,-5.326527225982561,-3.831864834373569,-1.4961144420873025,-4.377395792037949,-3.4796864318274623,-4.499791983308139,-4.734267373334021,-4.510871044008871,-3.752787029985838,1.4301179464791576,-5.717060871055582,-4.523900998655221,-4.816933275864699,-5.635039223563761,-5.1427192637422525,-3.3146440793701153,-4.808238507559606,-4.608816992154589,-5.4065116642814965,-5.248692564912086,-4.137278570798783,-5.2960376199476915,-4.711631361466993,-2.3160352780148075,1.2723793604036449,0.6512688053057922,-2.424119614455952,-1.2945020548966883,-3.9736167140667593,-4.483039399296539,-2.4685325285349977,-5.127179659524263,-3.487573902127232,-0.29636546680958065,-3.496883176437091,-2.6341180803081197,-4.4887015444666805,-2.366338434238436,-4.10605156383391,0.8968039957997764,-4.26069100262556,-4.368071312577981,-5.314639723608732,-4.395769757691452,-5.378689108494595,-4.936831257873033,-3.8796024310573594,-0.318318683939107,-4.761861218759197,-4.2842302481360655,-4.889380568367958,-3.6962499022786988,-3.763625844480297,-4.375221596690009,-4.0352814217946475,-4.882932393672132,-3.9508650265161065,-4.088020429073148,-3.7858206493712716,-4.7783822436341215,-3.6734265820953484,0.15599148794521758,-0.6976078083030255,-4.654084469294908,0.37217291933399677,-4.775642722773962,-5.207548757079982,-5.277837663910855,-4.77618563751253,-4.857968212386135,-5.559805480777848,-4.674824633766075,-0.07470454150616437,-5.402598739937059,-6.101479802763026,-1.1012759530726766,-5.601520792329054,-1.9718774046079537,-3.157892922794267,-3.157892922794267,-3.447734135134862,-4.479658775405932,-0.3274851368174159,-5.374156729459362,-3.088578270288629,-3.759190778407302,-3.673655757765198,-0.5180823927675693,-2.272631726064983,-3.4458386648227677,-1.5740950260756534,-2.3276213172663045,-5.646043336821305,-3.842770998883355,-2.9914569899236785,-4.950374669078643,1.0929626382055098,-5.3798262148275775,-4.690055553030444,-5.21877024947116,-3.2102846673390215,-5.149411496213942,-3.704837419877839,2.4165258402301957,-1.0499997192695054,-4.878234973700093,-3.6222574296311927,-3.9938335485252336,-4.144939198697288,-3.7301624626762058,-2.8301580791435694,-4.0973738490117375,-2.5689310110560433,-2.0677653337758883,-2.8505474844517393,-4.696590874770056,-3.661051524139079,-4.183469771000895,-5.0424292573845095,-1.8695656624910073,-3.3159263514840402,-3.1151876247687813,-4.893916535558754,-3.55267004781148,-3.497050183952312,-4.384534274900203,-4.668337584384996,-4.541522288993519,1.3238622302459842,-2.052920457844385,-1.475537969712675,-2.9593796418198104,-4.05151588126728,-5.3484378760336915,-4.115450089131543,-2.9696642977313767,-5.393486100713124,-4.637649360440064,-3.5380473183288337,-2.846085072573791,-0.5223429516450045,-4.055622881657869,0.6318303257213641,-5.4150181456069255,0.13607999524063388,-1.3983912449955764,-5.4770907213069036,-4.165474315199333,-4.325764937292899,-1.3423929904619947,-3.7942132230090415,-4.204278085364418,-4.348473644876557,-0.16789518867169984,-1.9542558893063093,-1.5642369417198676,-2.3999958805694144,-4.279504344988901,-4.966028392153609,-3.5211954575028415,-4.8478042690878125,-4.841664572747763,-3.7355173112509212,-3.650410230230967,-1.4732845646489452,0.9360050911408402,-2.6660403516814952,-5.303463598128452,-4.461167220003683,-2.2069806306422355,-2.2069806306422355,-3.52847920998316,-4.860504137865919,-4.5584509004007225,-4.450234038776063,-5.328598894410506,-0.1541666599396861,-0.12079709830296972,-3.486072058365414,-5.4251202619535315,-4.501167902841115,-2.5828131815253705,-4.288541139257676,-4.326766728604649,0.8297778625701886,-4.375302082910935,-5.054809751907,-4.074889022218935,-4.9691235426774405,-5.060741159014034,-3.560408924127184,-2.6407843178924044,-4.272298445418016,-5.756262654081312,-2.53282928724275,-5.80506250530148,-4.901986967932917,-4.543750649493101,-1.7689201905837442,-4.530049619801496,-4.511333758907551,-4.434547702014638,-2.709926584648201,-3.2317246085061133,-5.801179772954835,1.3044832363739316,-6.240158276881772,-5.646890037924499,-5.506180413989244,-5.568145244531773,-5.864620327928572,-4.584631870241915,-3.056140016467994,-5.257814690275362,-2.8550733449489227,-4.3622940608739595,-3.9243366498846877,-4.1480162856781675,-4.385672153490235,-4.198087452420795,2.0590650367200496,0.9319573440337631,-2.4895745748204985,-5.180840514909322,0.8154580822104311,-3.601026502496186,0.6361486384603259,-1.2143161884959377,-4.1377753366595265,-5.22351705559974,-5.101382668039376,-4.809120410095905,-5.201889722274046,-3.4810459509769394,-4.721297180707784,-2.9552387228837413,-5.1310064117852505,-5.556929620666097,-5.043976653607384,-3.8523248727170603,-3.183292722065626,-0.58048696323524,1.8378649176516184,-0.38914119901732325,-4.205265850416263,1.053773170015013,-5.792171663940545,-4.254110134883787,0.057709496829941684,-3.725820114393005,-4.874503196296033,-5.1159612217931025,-5.71464156089964,-4.580974423852903,-3.8389481117317996,-3.5723090234745563,-3.1286451632491192,-4.114324056063091,-3.6127696780913636,-3.3711795682268146,-4.685152051685585,-4.065364499238479,1.9919444061295317,-4.874984931284491,-3.8480813253132355,-3.727606736217078,-4.9159308379223905,-4.564194726251123,-4.506007872987895,-5.523055618880567,-1.3697439954984865,-3.0138639954816906,-2.6798992331007647,-3.84507241471725,-3.379875927990068,-3.364124801579871,-5.218812498073069,-1.2935779879394107,-2.5386204882413956,-4.287503166051624,-4.586499964824835,-4.607758211564226,-4.604346014635682,-5.426459154626773,-4.617671617610769,0.18737886180694857,-2.9286093020106105,-6.494433535082473,-3.097404548241891,-4.392535228623087,-6.494433535082473,-4.02975497668974,-2.9601998474427336,-5.025260817415706,-4.227458343900164,-4.899534092452958,-4.3563849696372765,0.1266961135902783,-5.503458553673312,-3.643107278907489,-5.107982333087549,-4.555168273511975,-3.653149025942582,-5.857118323672935,-3.5304326121235468,-4.980171640258701,-5.0376551732929356,-5.301306808918394,-4.184445368729248,-5.353893384963444,-3.083683588459681,-2.8334936896767524,-0.3101157335278802,-3.820508593002596,-4.494304397290522,-4.190401608943219,-4.127482355229305,0.04754914549028374,-0.4992982936578926,-4.185439105890704,-1.1016837716519654,-0.5491287130932142,-3.105517021666632,-1.7566760647861959,0.7199005573310548,0.8127767141150731,-2.7630295466709573,-0.8112392167581002,-3.786404853424034,-3.5670700112768343,-5.416859625439794,-0.5402003127558351,0.2535694333394448,-3.4848725595871253,-2.3984529136460924,1.4354104355003159,-5.777485933698285,-4.822515525010454,-4.809241466511936,-5.340299326726859,-4.902908664265329,-0.9258083430700652,-4.920200708246561,-3.668611730606399,-2.9032477934335827,-1.1924204815510624,1.5987477094619782,-4.386910779265087,-4.710682164629273,-2.9508344190331197,-4.346191736951269,-6.535394491347997,-4.593555379011054,-2.3739576316828743,-5.641283079361658,-2.467755092793775,-2.424119614455952,-3.5679431624087066,-5.284988328724023,-6.595588647093733,0.006607940042384651,-2.553252719097243,-4.4933209237025515,-4.919035913688874,-4.754834355823146,-1.7323537341069497,-4.271005062954765,-5.463501735105245,-3.5920059642310393,-2.2909291600131776,-5.61325233548012,-5.890808776830594,-4.72904530713439,-2.2282913172401124,-4.819801043914088,-5.391734035558967,-3.8029527789502007,-5.050697766339885,-4.709786713005687,-4.302188140997594,-2.2426989795108785,-0.4152644754257076,-3.36564762968197,-4.003467643705094,-0.22865139491026387,-2.492690893747569,-5.257441528470775,-4.820444752093999,-4.897187090469807,-3.4964176600884227,-2.7383063843913478,-3.8303813569296095,-3.890627736014193,-3.35292002014894,-3.936696669877042,-4.444586297396764,-4.8882464604591815,-4.225889269877968,-4.816112191276833,-5.408990681985685,-4.944911713410691,-1.462734353322733,-0.6295510790495739,-4.621084340765137,-0.08302353837167264,2.01566133965861,0.6316874773890576,-1.3345606001660766,1.5259121332622616,-3.0221950926577033,-5.61871523645407,-3.01222254036778,-4.621084340765137,-4.884252379752352,-2.574621812565337,-5.273473289735202,-4.637136649577937,0.7646652072163738,-4.69596247522725,-4.569611297340666,-5.167208490630901,-3.281801700648195,-5.22990404079303,-5.157672087213784,-5.336019576844298,-5.423245185923841,-4.354086728911423,-2.148749961522012,-5.266782782939085,-5.9301255331358185,-3.5034284543142973,-4.962717247738687,-5.142395654556732,-3.5639727009499205,-4.603540510112323,-5.095214588392646,-4.919507591522254,-4.494092330399145,-5.300099582047379,-3.238763230836614,-4.095936027248961,-4.647601414027637,-2.9301146248029455,-4.612275933257996,-4.610788318685437,-0.2713043058063236,-4.027641044925244,-1.6969607601210526,-5.258846682000592,-3.6584482409907606,-3.5953361431014965,-4.6056967515308305,-3.75774002478981,0.8066649719453807,-4.330839871518846,-4.8784523571016845,-3.286312415138596,-5.105153001003631,-4.514960160261208,-2.611410686450834,0.5885714409935416,-5.219279566652801,-4.057975269877071,-3.933158510367863,-1.1189777428589833,0.7906802231204859,-5.472891206944348,-5.109187220966227,-4.71926453756386,-4.579990917564694,-4.120825087265576,-5.266960736227222,-3.472654460769224,1.2807143040120306,-4.115982758298911,-1.9971918346026258,-3.313520939276917,-3.28119164041589,-4.313452917756148,-5.162983548544524,-4.303546628055893,-4.6068479882994495,-3.8499512148817034,-4.2391296259025495,-4.698996137695234,-4.947695873175395,-3.699768231250433,-3.326624262031307,-2.8596333321898944,-4.035187611379313,-4.062667502314933,-3.6141343899460803,-3.8781520214980727,-3.9167485070926156,-3.708773393946381,-4.291380008940275,-1.7609805114929824,-2.923405349901074,-3.962887973878944,-3.5097230598837865,-2.863263919898246,-1.691369096225208,-3.5720403339388995,-4.141729749378446,-3.6941712500612844,-4.61211923581777,-3.5479588534539652,-3.4147684632172988,-2.999379018890265,-3.851100867661707,-5.320512598339675,-4.462437135543581,-3.7979416225000757,-4.124301015368486,-5.047889812881259,-1.3468381056161838,-5.993874873604131,-4.474572249413118,-4.990151311471308,-5.017707133794441,-4.814757120916385,-4.601733228616969,-5.966576688209623,-4.878234973700093,-5.26980899709586,-1.83040957310517,-0.6856949720490029,0.013165227698133261,-3.717023425548664,-3.8972282300013674,-5.216109865156278,-4.2714466699973945,-4.388853496398819,-4.05105378566016,-2.5859140430483913,-4.423755124757349,-5.442477753677249,-0.6529337294718545,0.7092329104075705,-1.6333966907910231,-1.84774472181735,-3.18446285266631,-5.104881663830583,-5.367731221097757,-5.031855001490778,-5.307053562862951,-3.8454728792334674,-5.400778288514713,-5.04102757335573,-5.147805777960234,-5.242519826806678,-5.573243006322628,-0.49680216152444745,-5.201153422477372,-5.144763666569143,-3.743226662338223,-4.963042436626533,-4.648859647620698,-1.8787192612819137,-2.6354268836690644,-4.8266160899661,-1.8193532837411928,-2.2857912621655303,-4.456063809704651,-5.149022695113409,-4.6409765872784,-5.189352784788355,-5.0375872948277705,-4.8531884800940555,-5.383811512009594,-5.5360689825513525,-4.809997243091967,-5.480878998469788,-7.263895756721579,-5.17601325482223,-3.0240207124605627,0.7964728736701541,-5.130587391588749,-4.1540805011782105,-4.630065919342947,-3.4818473933273646,-5.82784597855746,-3.4782680092995157,-5.408340951703357,-3.780172292918373,-5.2162834616761,-5.717371198643291,-4.605988206529973,-5.9311013640133226,-4.460628942634607,-4.109656700708523,-3.957644113848415,-4.988129996198527,-4.522646116708501,-4.178190100229549,-4.600285823431294,-3.9014357435761324,-3.991978685919143,-4.823337555050786,-5.300099582047379,-4.312671837473818,-4.2798024567348785,-3.89867563033751,-3.901555599215145,-4.7419692014304085,-3.9357843719782744,-2.683074155099582,-4.274994932972512,-4.408704706274676,-3.780233821612754,-3.9662100612286673,-3.8900491101872903,-3.5592530072831514,1.410346139094567,-4.488109590709271,0.006607940042384651,-5.913135595822321,-1.8498079170286403,-2.4780195890863297,-3.917846084014538,-4.716072761422491,-3.89801171806002,-3.147078669404414,-1.2606384439505294,-3.017170583378241,-3.283127345041955,-1.9464442795640329,-5.302609700416689,-3.4759896728155835,-2.62563899694595,1.4419756980173037,2.3609206444665793,-5.300472372346335,-5.362977543166316,-2.3974583325521426,-3.3021029787150797,-3.148246053730537,-4.824611020672751,-4.824611020672751,0.9627409034476926,1.711496968749385,-4.449950388425731,-4.348901442401263,-2.9878465227351843,-3.48237854724609,1.1600569649156687,-2.9330069694213488,-3.543728248755069,-5.032893991299456,2.0250923928970415,-1.0288149327296718,-4.989630723929108,-4.501465180312044,-4.373993000183317,-4.32161556474164,-4.359892007280338,-5.468681189034478,-4.966690583398921,-4.692002492894004,-4.117205679669225,-4.316334928469006,-4.341032118580394,-3.81485586646421,-3.234322573805369,-1.9148532527809878,-4.180424244809613,-4.389291137305864,-2.712566690395117,-4.223588459942337,-4.115593901278134,-4.582397736125236,-4.966898347617791,-3.796464965801095,-1.6008805537598187,0.37948230671515015,-2.676505219250144,-5.354252127662631,-3.9300202886327114,-4.650568822338789,-3.218105561699691,-1.3157112824042891,-4.258753230325087,-0.7440687390986106,-2.3587965428331477,-5.26980899709586,-3.8255984475013354,-1.2778106064203016,-5.827082832855055,-4.484466170955735,-4.670713355925619,-4.574701509711327,-4.315009370010133,-5.998635356265795,-5.130017494674956,-5.36920048551627,-3.8838064496009945,-4.427410613714116,-4.779886462178348,-3.458141588818554,1.230949559717755,-3.804917473250133,-3.0409510954161854,-2.6179971238241855,-4.040389905174054,-3.6003998060929905,-3.9421796852376976,-4.321331245339836,-0.32023345383438306,0.44116103653635613,-0.8119344198893794,-3.245892147778643,-4.2526305137398674,-3.802265992757575,-4.692467500640178,-3.86943405437371,-4.309397167695139,-3.1737570564442112,-3.4914481645154773,-4.054070410895644,0.5835215164119292,-5.043305241597617,-3.3616097088591994,-3.2812656818501513,-4.144894251221378,-3.0634951047044514,3.8745296695296596,0.00670318740392524,-4.814631547444273,-5.348090154886586,-5.494732724948322,-4.431501142124396,-5.868291560926899,-5.378398422403892,-4.851705560297559,-5.327829204480053,-2.7472717669795212,-2.1193713811166477,-4.084847337640417,-1.9210775142563326,-4.7240250690552426,-4.537064426614093,-5.989955734859335,-5.177030222964468,-2.518090535315384,-4.731575606893341,0.3773089790230306,-3.2635931894756967,-5.195612271420261,-4.313452917756148,-4.467196292156045,-2.366062441271472,-3.8707578473436315,-3.003634061655019,-2.99617739555214,-3.737338648101709,-3.7158453448596678,-5.47892875964447,-5.031183464471518,-5.014032506079349,-3.0632019605317287,-3.8848195995292767,-5.203794294460022,-3.564381231042755,-2.8594342824240595,-4.152093302816785,-4.334987389771086,-4.488909192879654,-2.9373533248270904,-3.589235479596506,-3.516235023298489,-4.500490095696898,-2.038545305842574,-3.254061921371098,-0.7007308687937449,1.8571200730795507,-0.7624467101409187,-4.542055580690268,-0.531115350045142,-4.244673130145552,-1.2628076528892351,-4.58211053625666,-5.80935572129271,-5.660457775458261,-2.9341472247091316,-5.185587126012533,-6.209599051729636,-4.94344543732689,-5.3392185540708565,-3.3249094631287046,-3.7578946121023833,-5.022329088836698,-3.628075750883871,-4.530475776671799,-2.9319222508086082,-5.238522792228165,-4.641038518329891,-4.323039634084595,-3.6951173898988925,-4.188294213440637,-5.4290842465622875,-5.003620123683098,0.469132102301704,-1.7750173562367502,-0.0886590331641397,-2.513471810945747,0.11626259502896422,-0.7258611358601725,1.9262554124634133,-5.318233772764062,-5.676924315055843,-3.466297015559997,-4.136640879663509,-4.259031135212663,-3.7426185421447316,-5.106359120832588,-3.7426185421447316,-4.657446534232027,-4.529344477802738,0.8707108328480637,-4.767242582309562,-5.32883251076567,-3.200309717093764,-5.089030845371474,-4.444226273162593,-3.8203397627760163,-5.931211044131855,-2.074694563928046,-1.0322938395811834,-3.4761251220073577,-1.4430175420137412,-5.208004781382457,-4.715781462110456,-1.6584570955524751,-3.365000272523279,-4.864972045959778,-2.5115393880446604,-3.736587241249212,-3.7586645917772215,-5.309666834181996,-3.8103270136099225,-3.7549633493431975,-4.437678094544846,-0.5118393591428314,-4.368150407236782,-5.108667050273026,1.7133981828147347,-1.0659219935356041,-2.4247245884108795,-0.29155085979493367,0.6981381731433984,0.6318388275616544,-5.162923069195003,-3.346041942762263,-2.4899420275553212,-3.4010533807215646,-2.8738974160728614,-3.521704147513606,-3.9891558150651703,-3.3837673070127847,-4.591236055470411,-4.46423871324359,-3.924633626629511,-3.7862462272710204,-4.097755653913326,-4.373297595751234,-5.009894056361605,-2.682244330035619,-3.110669942600488,0.8020260631677429,-5.1270115535166685,-5.9791881732166114,-4.178153277530034,-3.6372797132666848,-3.3412438590946874,-4.898958031613183,-4.890875613383142,-5.955504052034499,-4.077937997480083,-4.6673044021120225,-2.9845171991320867,-3.3412438590946874,-4.931912421835935,-3.035589211250797,-4.372382723258509,-5.326014507364641,-0.2883701829810079,-0.23786517857249495,-4.247481414362498,-4.502678382834681,-4.6903806503706065,-4.726817898651006,-4.6673044021120225,-4.427101701270479,-4.46423871324359,-3.117173080114903,-4.658535739463694,-2.8891768229309656,-3.7091990867522515,-2.0590458734880555,-1.555772114290472,-4.228221796104126,-4.497021184939949,-4.824812889423896,-1.958241742063481,-2.3535898552885706,-4.535613717108959,-3.8484191686245453,1.3379080802473284,-0.4688355389735047,-4.3270388483608,-4.798225290811355,-4.0807397671772465,-0.7036637653320055,-2.1137701624828535,-4.287762209721454,-4.7280539923221285,-2.998139362404572,-4.897435848357614,-4.549227571722371,-4.247811020069852,-1.3484537999842168,-1.6911384910816285,-3.936696669877042,-2.2326466412215886,-2.716264978119108,-0.3857907791700913,-1.237585797038576,-3.3128224872112604,-3.2284756765971503,-2.984367174858218,-2.835960656624527,-4.965805051490006,-5.263493288608375,-6.41669428124082,-4.884928922736755,-2.1367487545406734,-2.9243980147691517,-2.2607926761916226,-4.631096228741023,-1.8162046739554216,-2.376598025991385,-4.031264275713811,-4.009646405124166,-3.6531189031228934,-3.8897968611060563,-4.359483547398726,-3.498870788488215,-3.617566812890186,-3.5569446109827885,-3.965560765834816,-5.564640456692124,-5.1547474718004125,-4.8459528943703125,-5.043237966992677,-5.358430910778996,-4.891536596163587,-5.2725274536526205,-3.673565697509203,-4.266037789405661,-4.981585502794221,-5.897458228814135,-4.442557769291291,-4.208056199402645,-4.612323972102058,-2.610096880893233,-3.6233840119570404,-4.5408546805521794,-4.148022235765709,-1.3691762811045458,1.4815813924992534,-4.311319138966825,-3.980738480851277,-4.232596238664906,-1.1254608942061939,-3.9714982993898773,-2.7084221653324354,-2.1438458051995757,1.892318082910544,-1.610786181385491,-2.645194606497206,-5.21916162176698,-3.455889934555305,-3.0321410709951526,-2.5040230814027917,-2.542797197986717,-2.908777258337705,-2.7052556245752037,-2.8751647924134764,-4.630376926687643,-5.275578050191928,-4.495970524084013,-4.223689364832602,-5.21621519029605,-5.32705745578936,-4.400961767469625,-5.22352964130244,-5.952317882380909,-5.931634134517944,-4.260144578327397,-5.407926390263483,-5.977602141320622,-5.3859649875782285,-4.306331061981983,-5.745904198903385,-6.265302539660779,-5.48254965406875,-4.944952765855826,-4.007858541164586,-5.291550697740487,-3.224694861024739,-2.094931780036174,-3.6729417029272775,-5.544697281695344,-5.1133268247684285,-5.1871808126749155,-3.5953527830501293,-2.866300085297042,-2.240671292466605,-3.389072032148498,-2.052920457844385,-4.937215298523181,-4.3070223024355725,-4.528580087283417,-4.4390885321106595,-4.3460615770482125,-1.7165728258691137,1.1115916389983946,-5.773516709047098,-4.384534274900203,-1.8452858462444222,-1.695998478005368,-1.0892701918606305,-3.287038856750754,-2.4524900272525203,-5.0439574301802,-3.6689848041415956,-4.891381416793719,-4.058838318992876,-3.502149252156847,2.387848566811241,-3.524711084843193,-1.0684052997492666,-5.490020713107414,-4.600888665282895,-2.7789589384955646,-3.266242110124638,-4.780331471374385,-5.323606530305112,-5.99388458218432,-7.044343330706915,-4.11361321474045,-3.3067572234965388,-6.336911573595717,-2.6842702999753194,-5.386441148376155,-6.372923587316573,-5.384397164209034,-4.477830239274764,-5.062997353883908,-5.1480824899567965,-4.577933860805105,-4.552901624287198,-4.842664738342911,-4.146008792266582,-4.948664798875045,-5.534153070127365,-3.0710930616416507,-3.024141021669625,-5.040371922485127,0.315367168129866,0.9993974031360515,2.0140336807023282,-3.5654173762106494,-6.035786410889141,-1.7044826654986098,-3.672980058070675,-4.838799221315887,-4.805925537122332,-5.150494799230422,1.5987477094619782,-3.8197578417077676,-4.953414177151106,-4.310599746734956,-5.33335458924077,-4.542255602867439,-2.542532437464351,-2.835960656624527,-0.23187199037253173,-4.662199001393212,-5.101309962460466,-5.110689862495214,-3.116611526859104,-4.5815364056514305,-4.325177853230861,-4.098554955301702,-4.15657632594688,-5.002729240006127,-4.107992241699433,-4.630167790398037,-3.4708400217951976,-3.642024034842294,-5.0814082597445,-1.4282829212236623,-4.684516615382822,-5.624256024642678,-2.837374321002098,-6.211362742972011,-5.75878129806669,-4.913236483585673,-4.4559404676650685,-3.6398202940431235,0.34935958866858974,-4.279185556631947,-3.9630502542870834,0.9047541002236551,-1.9519927158879429,-2.3581568229801513,-4.662199001393212,-4.662199001393212,-3.110669942600488,-2.4895745748204985,-4.318252272235193,-3.8349664336066343,-1.5704410061805807,-2.4307559337217914,0.28373492957629276,-1.9206672931433502,-1.533179300571753,-3.7048474635442825,-0.9662714825835348,-1.6471657994301747,-0.8894578746516292,-0.597263913553689,-2.128439482752479,-1.4025920875825753,-4.907817182807568,-1.3539872938234094,-2.933135718032638,-1.767645270460255,-2.43523537561539,-1.845197797602511,1.0358008813143662,-1.9347976233413748,-1.918805217171546,-0.12855609997622,-4.157968803012677,-5.2467897386104365,-6.004098765346454,-4.374347457244834,-5.210567277321348,-4.852462681252905,-5.254842150335663,-0.08629814195833442,-5.364996859905467,0.553703027435038,-2.313891267255009,-5.49635439701941,-1.7607693784046312,-4.189762846624239,-5.757783657522528,-4.969473383269281,-2.083654868758577,-0.2820101589984863,-2.5179564266639725,-4.299454685375824,-3.6607580382326734,-0.8078609258386805,-4.534604135674848,0.15373488229668453,-5.214342740992922,-5.300312652850117,-4.968113441570619,-3.2262907670382575,-5.840981938207327,-5.039767649744019,-5.20031012733402,-4.901287198822981,-2.510516851451867,-5.350604391019055,-3.429259510027255,-5.021275926345022,-2.052920457844385,-3.256618843305938,2.5571048372912752,0.38041141643364923,1.4397955535464277,-1.5114845176337803,-4.29364386353108,-4.3921910853775685,-2.8126047629433693,-3.410736086077794,-4.636424820684174,-2.8708050549486455,-1.5472032959633049,1.208283312049669,-3.4883980746782157,-3.6444957763178323,-5.360852422045416,-5.229442394572215,-5.902545031988977,-3.7527969296311947,-3.601087501431765,-5.199689593714902,-3.907971024257655,-2.874374729533758,-0.6365689974859784,-2.7948978643743345,0.689795764596383,-0.58048696323524,-3.0771641184124072,-2.6249485215438377,-4.877415053511759,-4.755541363675318,-4.379184222379162,-3.4599010050485495,-4.757304362151579,-6.634794713341572,-3.9181421935898793,-6.549271970898396,-4.192043469635213,-1.7680020287988045,-4.426985991810751],\"xaxis\":\"x\",\"y\":[0.4381691373769795,4.981612052751348,-0.836652508107994,-0.4877989015663402,-0.5756819768820469,1.8644183183717793,0.2851835002352837,-0.6783790472312371,-0.5712993716580516,-1.2593788079708297,1.2765569680619446,0.7560741064307468,1.0427311644393218,-0.2763864586236307,-1.3169815431109795,0.5073029625781903,-0.336482705977109,0.5058604987046363,1.2627579957290729,1.3822762065335452,-0.42260307058543833,-0.8288723577239865,-0.6072880911782345,-1.4069288423640267,0.9933269247917426,-0.6737190709851918,-0.08662709156681703,0.6218511570174341,0.2555745029810873,0.017764042805293014,-0.10562522348205708,0.14018553873040931,-1.150994046479491,0.07433490683041155,0.3183534526481743,1.2667484124675163,-0.15378440169132554,-0.9529183592404536,1.3092326125404625,0.41014684622458175,1.3433083515952668,-0.028265112195098113,-0.6467204432711562,0.04848262443947083,0.5663131601694974,0.21924105940169952,-1.5825802864431389,0.7706398659885516,0.2833790208991998,2.21718716399214,-1.1734800739618414,0.8075898387722384,0.25840754107045943,1.0324372165462783,1.151840059283114,-0.5878292340675275,1.6385172072426586,1.148928334520288,0.10511149169662791,0.04937581094513807,1.1110751737520237,0.9156514363587916,-0.8160546316754154,1.8669542640681762,3.6009870540312785,0.30077006726808014,1.3705633048663812,2.860694080309784,-0.25571548776726705,1.295015014523839,0.18008384104958752,1.7021326301584212,1.1289370726337054,0.40763525206041173,0.6221134969005283,0.5102110581445461,1.1729319881917788,-1.455620882457478,2.5911532398804096,-0.07250822786735052,-0.07000333959076943,1.1080722916872667,1.9152502276261423,1.5335940810483193,0.2102927622138218,2.322192422578855,-0.2980215529804997,2.2080950936018886,-0.09015614830483454,-2.607271452202463,1.5623371715311234,1.2422083487867899,1.4848879604688943,1.3044986135695016,0.303953489081125,1.168595550209575,1.6290922902605054,0.36522925654954563,-1.4359446534017013,0.06592910845293018,-1.2501806962634425,0.35242348669587986,0.5219991373188864,0.12071843281537203,0.7367903968440559,0.9339842015674862,0.6260314064275336,1.1017579199807555,0.029434363090480566,1.4360195655101715,0.3265780068401733,0.2546219369598756,1.013195219943235,0.7586935229585201,-0.4293022605403323,0.44254278924464274,-0.017954637279326176,1.3974646451837016,-0.5719967674148992,1.2118499008251302,1.5432613993731106,1.8463902321032033,0.8517324091029553,0.5231426773109253,0.7172767556967555,-0.01481233942035011,0.6740278616052884,0.13397254451196072,-0.31641416307777065,2.6372468624187317,0.9732994102064862,-0.0694614012282538,-0.04847631316391035,0.6008191631848391,1.7024577438216564,0.22606968778492934,0.985963748048518,3.6009870540312785,0.1658957434365795,4.015508170914256,-0.5283858821370959,4.015508170914256,1.2852514925547613,-1.2538733405730833,1.5201876144097963,0.46676008436990024,0.5926019884209374,0.036632608894510636,1.1697121668464308,0.7054202653376574,2.0153596046836912,-1.4879429228210108,-0.5120242154034724,0.6592526230945371,2.4975751492205878,-0.3065510631536261,1.3476938721925045,1.6356608606387966,0.7275659416159649,0.24859365515157913,1.4238326033515607,1.0719598387787315,0.8072512724749489,1.5988968281253424,0.7640721177159112,2.878646198596776,1.6496394382455641,0.6407463928179674,0.09640300958251508,0.9385261139072142,1.548343745994546,0.24366722426548656,0.9059066706555707,0.5062488462327603,-0.3347353956259722,2.849468359731691,0.5136061474489901,-0.6544083573068762,0.5931578055316848,1.0416315882307468,1.2378387852628496,1.4193403346876867,1.6449463426414914,0.08100386442235963,-0.3208561668855657,-2.177166976356309,3.551184350842573,0.6655986849179281,0.45855537087500087,4.339508935633532,-0.15682096135322635,-0.35489804592857893,-0.280453487017417,-0.24248295085573543,-0.7587586798467031,-0.8801508104052361,1.0316017960292776,0.5054578533099451,-1.41845263596193,0.06079000695846048,-1.173780335378444,-0.43858512810427297,-2.0110330052241943,-0.715605643109727,-1.421944548282912,1.0777772854812684,-0.05375926393291755,1.6814080868334844,0.16825732523787681,0.44855124449754014,1.2318972676517566,-0.7548267487074507,1.987666741472343,-0.8597814470528744,-0.9313634986391519,-0.8005214713020803,-1.8901043511651356,-1.1950049090764177,-0.3553875555426974,-1.1393896735941482,-0.6088341792179548,0.6877090819517139,-0.5039526412022916,-1.2423711055236795,-0.7028069772528649,0.050152553729185465,0.6071506933663408,-0.3403591566973224,-0.24088137950960464,0.4392927999063257,0.45664027464923956,0.9534501373803485,-0.11498589496320041,-1.931546141157013,0.47859003912352827,1.1655026285713959,1.2679434784358634,-0.6180433072867555,0.664885262417786,1.4867628744254044,-0.5519320079501017,-0.17070793752065,-0.2843688565788877,-0.5580829344979473,0.9211307942564751,-0.023670968421742773,-0.16226447857728643,-1.080883112042168,0.3859822563767447,-2.1509115594061448,-1.4066278328199147,0.453437204590951,-0.04554816848116417,-0.03249100756082554,-0.20943029972202726,1.2516418310337998,3.8548239199439847,3.8548239199439847,0.4635309506254818,1.0952042720666886,1.4688296200578794,1.252289372921912,0.27278970457437013,1.147767753917368,2.1993170160065705,-1.1634149882826061,2.269978309908664,0.6545659859138225,1.8341334488968803,0.04747423209368185,1.7644917902132573,0.22883704702775806,-0.7370869388697158,-0.34773916118208986,-0.2210840324324674,0.9884601860838328,2.1492462208448853,-0.5697394195184843,-0.7171655293491992,1.2245501349587584,-0.7837179333155863,1.3334051730261975,1.6142463936010978,-0.8263287472699312,2.381701426840121,-0.06589601746806409,-0.223637542055641,2.138731481090316,2.7188461597627778,4.417231373138001,-1.783780139443658,3.4633503045934035,1.1937150885252608,3.2887045928457956,4.417231373138001,2.4790989754150647,2.0681442222218713,-0.5026322538669175,-0.19854537662382674,-0.6970836619405514,-0.7801254019185828,2.595727222177658,2.406585258548936,0.5008578239728002,0.9382678147230398,-1.0625134153469489,-1.555933622313154,-0.711763269047911,-0.13450811960956108,-0.9517551856565469,-0.18980871010443207,-0.8843065138045929,-0.7854838571820405,-0.9437918656949434,-0.10056766921212898,0.6035353293367562,-0.2775372708637668,0.39306503435447415,2.379354342305601,0.8343831941230093,0.6757298458008344,-0.19132921070551703,1.1292178206397057,-0.6646423160909628,0.8936029472539148,0.15511864147183663,0.5825671238286988,0.7772070571536064,-0.8263287472699312,1.7612184168735627,-0.01890339141442638,-0.36959248927652777,0.7845723908129916,-0.707399170121817,0.2413928802059825,0.8006627318160446,2.8494955083921494,0.44055434829442897,2.3199051611007846,-0.9313909483512489,-0.8233334391672761,-0.2714715859437118,2.3199051611007846,-0.3941928423539812,-2.489935707637234,-0.49730567090619626,-0.5263258674821057,0.12398543478297691,1.135970896927369,-0.8621072723744377,2.3199051611007846,1.5474061987811778,0.05344586351929628,-0.8555943411699137,1.5733308043886878,0.5743838818778769,-0.6618650757458984,1.2617902955338443,2.6865026463053447,1.776973254369321,-0.34160645390726607,1.2146882086977604,2.7815762922045866,0.4359981157911498,-2.293050487895478,0.7249101947303136,0.8412171281494442,-1.3752624805420086,1.1166459437425689,-1.124262890812477,2.8291637558375533,0.9817543859143917,-0.21051419844303793,2.7168833135985846,0.9265785771605769,0.8466017161633503,-0.2252529934771042,1.4758826827220202,0.3677425438450119,1.2160991965579437,2.41480296615118,2.0503408586582723,0.4952206745232657,0.21061984485628246,1.8138346877962601,1.0839696445652336,-0.3206873625672114,0.012553299003932622,-0.7418038948205438,-0.609361133705133,0.7472260056966719,1.5650756110804924,2.9170873541127618,0.05936058425005411,1.6895022284650327,0.5226512871502111,0.36236484736230423,-0.5448787834461936,-0.3443028084832794,0.4827102925202863,2.473861280738637,10.655072697769699,-1.4897328822849623,-1.1470093814972133,0.21262302472528236,0.7983648377669126,-1.248857368346993,-0.1315206521139015,1.0270995181252016,-0.6737149105328759,0.6880030271849525,-1.951785465972928,-0.08854889154165801,0.27703071922716904,1.34409992947213,-1.2460070604604834,0.2256414076956735,-0.23571007156390875,0.8451972476497825,-0.05592387623058867,-2.179605333715646,-0.09962791938201254,1.4706235716213218,0.5528409459200478,-0.39806590813213316,0.3330341533024179,-0.08549295200234011,-0.17886301032397428,1.890270069109467,0.8613508077533407,1.311493179238092,-0.062448783371745836,1.7015092665648994,-0.23511045318226426,2.1227662879161713,0.3662024786030598,-0.23978624568190984,-0.25684872674726006,0.4995034436869097,-0.2225232362164672,2.0493785593603686,2.403221729128713,0.7598051264105325,0.5070839638592769,1.3216913033700255,1.5553535926082662,4.615788752257964,0.8678575461206586,1.1492997751415306,1.1968897673941374,-1.382143508643083,-0.11378689520612101,1.7142495460752811,0.01802635056823086,0.925353329239293,0.2214131756629468,-0.7061834971939471,1.5429798134178536,-0.4392720374118625,0.15720762430722565,0.09348907585128402,-0.9998377955505666,-0.43788347489988233,2.441657918830827,-0.6763028241994381,-2.134545693906943,0.0852914975671657,-0.45994100449324793,-0.4002376365763167,-0.2630978069448269,-1.1531550026513828,0.19468065328687,0.6227305523983446,0.9118179425672545,1.3279100339280252,0.9980631144403428,0.7147399440931623,-0.20826027057164673,1.7263689417377255,2.1996992858760334,-0.3430129291297418,0.3435454674448507,-1.719860526440989,2.856754027368449,-0.9002497687941052,1.1575674148564201,1.1753182990918989,0.34226012519638116,0.9386771565649856,0.6920068835901729,1.1527697417401646,1.0119184987483922,-0.5629407899545497,0.24328076916782887,-0.25368404118451515,-0.6491156555540101,1.2784502451111537,-1.8289771998796014,0.02237425966887617,0.48110498733712803,1.1939764597127334,-2.1072560640962554,-0.6712857841139537,0.20082147643444842,1.7879772921229027,0.9289489539960277,0.8112809459531376,1.9727159995442345,1.1736018985804353,-0.20784856446512018,-0.6953201135947638,1.076411572746484,-0.7684936202109571,-0.6188745486253684,0.09440216581759173,0.03518803450999769,-1.4567336893957867,-1.3733438204708575,-1.4579360285799718,0.687104355036411,0.05403507502901575,0.9063515345391587,-0.7824584427965569,2.3314441464879976,0.09384577740678998,-0.6236201236126783,2.21253662987542,-1.9805219242858445,-0.35822633250873337,-0.7288590210965898,2.3459830845741374,1.0093409287993718,-0.04845323635337087,1.138853778173144,0.7329827850018529,0.8200268429822785,2.4550430893037825,1.6778240324323195,0.5991847363734273,0.5130146877962751,2.6295626832076153,0.7539883175258139,-0.7803257143803358,0.6963913706736694,1.138853778173144,1.5520585685368626,1.8125421598774252,-0.11402173852548034,0.6240809593111564,-1.1780643418933412,1.4891807488197044,-0.5456677398938213,0.4136138454577284,1.088867762671137,0.9913952020190767,1.6181069658530745,0.3017102913808111,0.23667151512063683,0.8491211797690409,1.2828071405726749,1.9978047001499937,1.1272634199815348,1.0982586285630627,1.383406020534843,0.6431999295822962,0.9442962653469265,1.2354618686207255,0.05103216243800883,1.1889023583853766,-0.19908939888371002,0.11979197873717619,-0.43085373927448434,-0.6769470757307674,0.6023428151510618,1.0960673202629232,1.384763328684512,1.079786497630215,-0.4028127545581599,0.30919609445537066,-0.9843414999895811,0.19173237177007416,-0.35285976434570765,-0.8742012369704868,0.20891191960568295,0.14357264455415422,-1.3085114343003192,-0.9543622650432493,-0.7733522790515862,-0.8671137448312864,2.1947867228657514,-0.6771071743630953,-2.097128095465284,-0.2250957882415632,-0.10036047859837649,-0.6797584070912139,-0.5756775106708505,1.8036147448923063,2.392497314663657,2.5592317283164983,-2.1276828349795482,-0.0232582276892829,-0.9074728314518995,-0.1881362370297941,1.4998791315404474,0.0631740873426244,0.22213241906155134,0.016627349560509066,0.3595359819823647,0.3374767298973106,0.43341339915055765,-0.8343991321250441,0.2024816630444448,-0.9582328923055384,-0.8656110237931799,0.5278464417689873,1.7064373930691805,-1.0447980204468355,0.38760406645520695,-1.6762802697763188,1.3568163438083338,-0.570184089636054,-0.413633702029812,0.6853765967222664,-0.45376605606013815,0.4790252435561777,-0.7833480740763212,0.023179156928572725,-0.15815626592026158,-0.9247331328828969,0.6894752032958058,1.207910812926923,0.02114082618492033,0.444137306297143,0.9035597045092797,1.111371215058898,0.748471352098037,1.9193642431399802,-0.018256524593440834,1.064218882819625,-0.024232184349001158,0.566031107395961,1.1727186397006575,-0.08239362599142444,0.6144410494964125,1.1715510095613109,1.1866218311538226,0.9902966691424805,0.9272729126551122,-0.5630384748857732,1.0725131916945523,2.0403849898099073,0.24859713831189859,0.3016067395756845,0.12999904528182302,0.17336988635256428,-0.4758333132819251,-1.4883894091679426,1.8795869889005508,-1.621575548002492,0.4645831566836989,-0.026563684745065604,-0.09043333985939633,-0.32738027056278635,-0.45788115235778676,0.19301574257162382,-0.891027154414596,-0.8619022311237987,-0.7141653829018143,-0.5163528011105396,1.069988062173211,-0.5511125905158069,1.5288428097029423,1.5596569772066606,0.6976177126420715,2.6694542431701698,1.3924946568465082,1.0678772752810404,-0.46605045961786146,1.1289370726337054,1.1977783744662625,0.926880870465434,0.5608970551106948,-0.32157990872213466,0.8623162943491014,1.0339009245852036,0.32222272808620545,-0.3608545177664143,1.1725543123076065,-0.07499015557502664,-0.9506618534004393,-1.740960641596914,3.0025294097643864,-0.8375813835802627,-1.2770071947860655,-0.48691143976543017,2.030972267841873,-0.2953786745360506,3.1050915889207062,0.06096757670005645,-1.2868807086721612,-2.163309399574272,0.4103992994058894,-1.2734252961427242,0.5739540543430875,0.17440470959738533,0.48135192354499245,-0.09348235606961328,-3.212375305032981,-1.0933491586262627,0.056689809331605084,0.7692125677599059,0.47480805477450894,0.34216261617286614,0.34216261617286614,2.059012593736231,-0.14102887199557673,1.588949793999535,-0.1480309125417157,-1.2447671276243697,-0.7216219610137677,-0.9768384067286211,-0.77224896344018,-1.008637264287212,-0.7302593500329905,-1.0719742506646996,-1.0793610229052075,-0.8040960426640426,0.8153376767010911,-0.7721238256337164,-0.7456725768186085,-0.45861899946375084,-0.14652375384247204,-1.6312445455401239,-0.8354554245698698,-1.0042895646473287,-0.5594685799137867,-0.8893682125632908,2.4308030132674467,1.1105038924898074,-0.9855623357030757,1.0247157656748445,0.9668073742390519,-0.9740482200457633,2.026063490444314,-0.394703205282657,1.3235362321092652,0.4927290175986722,0.31438098518083024,0.35893981829173294,1.084424746526619,-0.7899931723816086,2.5592317283164983,1.1371760270199416,1.531738861741695,1.578333650334027,1.320448719722392,0.06665472160811169,0.6790227763982122,2.3965190161021765,0.7100607332241557,1.3366306756173107,3.2970453570072586,0.5475950368303479,1.667924586490847,3.2970453570072586,-1.5283146592889592,0.44985792229351007,-1.652223681185905,-0.32684234601677037,0.7919757461640164,1.5573484204827974,0.7502306966116504,1.9621165116223505,1.1200673650828146,1.4043676811731531,1.6597775104170724,1.6568916208227593,0.15087189643627835,1.4526043227689465,2.04118798567968,1.5222780337442408,1.577906210484613,0.9992005728188814,3.37059630868063,2.796037257226505,2.007778154744065,0.20121478597352666,2.6944021154073634,3.0239495841065027,1.9373929797077314,2.7746514309736776,0.7563264003480737,-1.1192192811025723,1.4866003077470584,1.8726498277083434,0.3398906231013432,-0.7835507011456436,-2.665828030633769,-0.3959231120112325,1.0545358520121981,-1.3866991476723993,0.38869653477666166,0.32209570817844857,2.56997442651202,-0.8627330612563169,0.2125958268928646,-0.35900506759339124,-0.3495706997916176,-0.4536691624618342,3.024181244062905,-0.569082780124493,0.6305534846408982,3.184107154424602,0.42283834931005254,0.3085579308649916,1.3674013872017994,-1.0673586008701101,3.71838652140717,-1.0271567199774998,0.1096687964780616,1.730211288825744,1.0230561315702202,-1.7899291683087553,0.2688204046360697,-0.08150996342250116,-0.9286486226864898,0.7252328804580759,1.239102489912158,2.710921080411863,3.7673991966452203,0.4150590169174882,1.3819617259122983,-1.3112364598117547,-0.9858180641550034,0.7704442751735844,-0.683765217407312,2.056624007184046,0.2610554238270345,-1.8356247523272653,-0.24267594828350383,1.4630611184526494,0.25787610856142673,2.66488885396279,1.7644917902132573,0.8849878914284877,0.26090988737012605,2.196958441138205,-1.1014463975718431,-0.4255071565401106,0.5921543752320477,0.35555574319950545,0.5789019714253467,1.7389649770484517,0.1804547936005818,1.5217858411282357,0.2204135161144942,-0.38743561650451674,1.5308694696505514,-0.20157474856059848,0.7086285666970341,1.9255353590366695,0.25679935499602413,0.9478624903968522,-1.9368870910751725,0.22728353697595385,-0.4547713879645875,-1.8362222276583697,1.984756141120075,0.3847530234789711,-0.14669077006061176,-0.2808055503792635,-0.27570941360477097,0.7058662971241412,-0.5976483574385067,0.44119525523144343,-1.1101222805521924,1.6799070256080613,2.1298845704220515,0.3734087430080279,-0.6496148131056309,-0.9000254502980892,-0.8297297706139449,2.7377156552839588,1.5880170708982293,1.1311430395270827,-1.0269335390867893,1.6665678920416966,1.6906963852225803,2.64952455827318,1.2941605710892718,2.247594311659041,0.16483884549821903,1.4916167024707692,2.174649664330304,1.0819095389132645,3.139435255072756,2.3284337039426823,-1.0428950371281673,3.0731026107248605,-0.30545433917593007,1.9711462044024186,1.485351128683615,1.6791681597681982,1.8463902321032033,0.015108453459396091,-0.581156553939575,-1.1269971785412194,3.6009870540312785,-1.1289826841613717,1.2234994759580664,2.246156704527968,-2.894066685296138,1.036593366269227,2.6059225205000907,2.88216407352692,1.016043375685218,-3.6702377317640833,-0.9679439106492386,1.148406545228804,-0.4838993058941404,3.503126010593504,2.708215859213234,0.25125502905394925,1.780961582917311,-0.6598725627828093,-0.5459755316087276,2.118856326112169,0.31704458267320956,-1.97741593254853,-1.4422487695071238,0.6166743702711034,-0.01915944548878229,1.0192247313685394,0.10157871538829313,-2.0848222333014186,0.3537454180827418,0.26455370143206697,1.0745720318020522,-0.7392308882579007,-0.12234074475666698,0.630010941293285,-0.13527749682311146,0.63119856504401,0.8205834551108143,1.4222862564479926,1.1681950818228979,0.20741504461037122,-0.7917439328627623,1.2517168910667953,0.24313376525652264,-0.12951672945062287,-1.668326162360846,2.505955075199596,0.9883074082161155,-0.258172958878751,0.12107890791994746,-0.4353743291553652,1.233024219595763,0.6242860555600619,-0.019794280868774182,-0.1735960732322921,1.8531580952390927,0.2470278231473042,1.229418735349136,-1.0973583100513356,2.9979932141050942,1.1831837769198117,1.1672007143218888,1.0662067760275098,0.48605124171784747,0.6791335102103392,0.8344556769406098,1.4834456573250552,1.8000990056407589,1.803021922018024,0.1790703737768366,1.941858723195149,-0.2376006548562733,1.9082204394223932,-0.9039293606789117,0.7352620067670989,-0.878460449306917,3.7003638759709783,3.203622237055564,1.9679493247420115,0.21227325955078505,0.21609175871663955,1.0536595872552301,3.184107154424602,-1.4188235572963066,0.5509721204557547,1.6630452872180241,0.9884374198317742,0.31234951853978143,0.34248546012214703,-1.376675423605689,1.25513337141349,0.7325838763036177,1.6669305379392785,1.155714332530536,0.7395492526538053,0.3063351086376269,0.34438347003410086,-0.2331338906553653,-0.3346300500908003,0.8603256410329566,1.5484729744203656,1.3005931186411435,-0.5680862674454349,-0.22730478905520796,1.7514428099434598,0.6963279472189596,0.6839069242654007,1.9600996814226836,2.2071667299618656,0.8848111609397764,0.9480165759736254,0.3412898444951928,-1.2112379134414701,0.2594613457868338,-0.6276283848215509,3.169211763718533,0.988547924872845,-0.6195970736429043,0.6781670645566088,1.8650809096964154,1.2632088121507423,0.45182355623315457,1.4511911396905104,1.580807896331977,0.6900138759617919,2.6629670182666447,1.9555818031781387,1.205224309764618,1.0508796651772654,2.17559353205685,2.6730236455632856,0.05597934026470333,-0.42896721228513035,0.3055799890603512,-0.685095613540718,-0.8876902806108425,1.3446405842843188,2.970135916059769,-0.7346559678789616,3.216376576331284,0.9172725728070638,0.827417624268586,-0.6866579546089595,2.047061136587271,-0.5413234374319624,-1.6662912764654836,-2.368799801544297,-0.23917030901022043,-1.6146275146389997,-1.3771631744149115,-0.0030737642738471035,-0.18194102467638362,2.6838557443253275,0.5663941968984476,-0.16844289561727818,-0.7666728261091217,0.2685419960283518,-0.15492125010997787,0.02237425966887617,-0.9092025185308001,-0.9035474480102563,-0.2287972966645966,-1.351025480021776,-0.9685479155899259,-0.09480161807758183,0.7511500598641946,0.5153509235193652,-1.81372129274384,-1.7530335744651924,1.3868270226850028,1.7211318354342446,0.2132188861824521,0.7754798477123446,-0.06836172798774431,0.8702177525553768,0.5201966993601671,0.42414988124866115,-0.09795697031106906,-0.6915150330284591,0.42164050184703517,-1.30591247497955,2.957021592428506,4.18284266986685,-0.11812428976112528,2.4166825701675863,0.09404467408648307,1.3154842311821617,-0.4897378474843246,2.957021592428506,-0.33389213251692385,0.1294705668593609,0.7497762344508971,0.020670631799061562,0.3611581961630178,1.6823583966754925,-0.6909982648718525,-0.17937806449216492,0.41119220997518435,2.276345074938902,-0.003321269555227331,0.32069950535512076,1.8770250881872628,1.7770457635714103,3.5329832296042953,-1.0087714550497715,1.2898749599002863,-0.17272627550698474,-1.0185929203673505,-0.036647752038831825,0.47936177267066177,1.110356604828856,1.3986124816569672,-0.5329003917441227,-0.6012242287079643,0.3349872646009678,0.7059099135811278,0.6564089392378059,1.19293033201518,1.2719552203124005,0.6485291094567656,1.0346154339860227,-0.3656952962095512,2.068411960887803,0.6413520520792465,-0.7520208515635143,1.5200736071878462,-0.16282055283395602,3.2058466978818316,1.1893586750881693,-0.6395397521197677,-0.7232956892104231,-0.47854616519171705,1.836707256294991,2.182061270961075,-0.4080256693360807,0.20715075313254924,1.1612325170205728,1.1950244595174533,1.6457106413443194,1.235932900897439,1.1275902891854364,0.5851840541811942,1.4598663072634275,0.8365183312437412,0.5992805461427148,-0.6549779502165438,0.95691753544702,1.4744922753728904,-0.44897195767905357,0.04760260134189538,0.5335301321670315,0.49157192898842195,0.2104847924682498,1.9153318153381016,1.5673934464385715,0.5665543343631742,-0.03754961685012273,1.1602492651052636,-3.628645599642423,2.5932443117405595,1.05459717317207,0.3740599414739666,0.8190632321582018,0.0835456615072811,0.319265477288081,-0.34682628638292506,2.9286818101884213,0.24225446290648664,0.4883910047763909,1.3915069908400781,0.34676427283469513,0.5081272806115065,1.289420651391043,1.2157451037461633,2.6282633867889142,1.3472118139992808,-0.527677723451104,-0.2548158129231718,-1.8220844059174135,-0.8062741646986039,2.1993170160065705,-0.05362719883449921,1.2454593501006577,1.1448388793540742,0.775193509107551,0.5940534787161516,1.8392691413338582,1.8447860418893613,1.8713885081870063,0.0921427661403276,0.5408131188625678,3.2262462623760575,1.098897768489588,-1.1751538991501709,-1.107804682946881,-4.630958635745123,0.34623906981370633,0.16679257502730438,-0.8390150676477799,-0.3633597397162747,1.9398363862075054,0.9729859993213469,2.498745153500148,0.44239314995516216,-0.22970923458421583,3.422675096019077,2.654227659547362,1.6882086207585993,1.317784686439822,2.017837025837631,0.26060038224677984,0.6556743047145097,1.3009263432509124,-1.0766032150425513,0.1250209501383647,-0.8727451858106914,-0.09932247674946382,2.585479956231263,-0.12839146236992105,-0.8339174988646147,-1.5203579418874298,-0.25552346245311414,0.17912351055687678,2.8056072858006,1.5871553120336106,1.9699557358567699,-0.5343241266707942,1.4304923864295398,1.3574839006365382,-0.6370018155189064,-0.8198768945682852,-0.4244080362024868,0.07759738218069373,1.384763328684512,1.4287953795003512,-2.022980021431459,1.1519194623488656,-1.2489665952185418,0.37013635358318425,-1.4844306157910794,-0.6663660438677065,-0.8923881504532374,3.117103872053094,1.457704365744884,-2.714516899663985,-1.1848418747008092,-0.02339120051805583,-1.4852433267853697,0.8658774482310574,-1.0020961133872959,0.5061262244699053,1.0308097060218517,-0.1807192348463283,1.0109897116296345,1.3705416880393972,1.4111203179129943,1.8055350391092793,-0.008525690413335098,1.3508809353049431,1.3246872486936676,-0.2543120653364944,1.3462123954005982,-0.8013456499749985,1.2680684947650618,1.2604146050106482,1.722642321594816,-0.47582097166015935,-1.413506546302926,-0.9186267660999183,-1.1634149882826061,0.785787559365762,-0.059077943751821876,-0.6086705823408735,2.477010681126024,-0.24806024543424998,-0.7953640336277049,-0.06184906488959668,2.3674756364620517,0.45864622639487973,0.2033456959149541,-0.19492876296242612,0.9418610267046046,-0.2999346538458647,-0.16575467948173367,0.5263302256216499,-1.3326163276761185,-0.4269406919593732,-0.21265935470304712,0.1377943341916005,-0.26409277972689066,-0.6078809346957723,5.356673730726956,0.12998724384772004,0.9865805928392978,0.35332780145197645,0.8850144173467546,0.02218107594321192,0.1801444459311608,-3.179463535155258,0.8426825559966902,0.06714200065438167,0.6750146611417318,-0.4753760471099033,-0.4753760471099033,-1.6613670916135095,-1.2778478001128073,0.667042905302931,1.488542018157014,1.6769828654294854,0.17111342277656563,0.8887872169423802,-0.4228258754397061,-1.1605570800124068,-0.16303431748232314,-0.406032893416557,-2.097128095465284,1.231629025472663,0.9400291256694375,0.8255197278071447,-0.5571483789269099,1.9030433551281491,-1.0780033660618729,-1.0442981851556317,-1.0442981851556317,1.9030433551281491,1.4934341704483705,-0.0449360485326998,-0.8045291230766857,1.0840385270830741,2.384382844043884,0.9012153639729877,0.558002019903551,0.13839750193039554,0.06882177724720515,1.4614277150138024,2.1261372144915023,1.7252286252642977,0.8778013023251883,2.2865726990463258,0.0843808237368647,-1.6147715364024355,0.7028307361294824,-0.5294026670983134,0.18713777304055473,-0.14022903318048355,1.3603939286298843,0.173926114457894,-0.6201540110278038,0.4233598803446542,-0.3264501152260757,0.3216295809364316,0.3297163637754712,-2.206950454215763,1.0374617601564675,1.1329302791496854,0.6967627061724395,0.3280353452607744,1.1062493944981773,0.7563635459604593,-0.8649412690975508,0.3681853186288341,0.6304256479533339,0.2900101857371194,0.7333742272099462,0.10108713159718179,1.0230134957408925,0.7277922481804138,-0.08033832110165276,0.9505073745761059,2.7644983010790956,0.6744331970769842,3.636793135175722,0.48480754124035697,0.0818519678212308,0.9998804587391916,-0.6798225192048052,0.559144106176019,0.8675854349075648,-0.12177261281294356,2.5592317283164983,1.0705665501248356,0.16633736653459327,-0.37483312338500596,1.3448585819152183,-0.5313343321288782,0.11651713862581672,1.4623441942937843,1.5808242923850624,1.1891740751332198,-0.24884895453889525,-0.2126762764453167,-0.056273617700100476,-0.28001794538959324,3.6216132580523452,3.142529415612289,0.9565660229662654,2.023456475795391,0.24185355252493196,2.904768367571807,0.7190677367595573,1.4957575947832176,-1.5156450244343724,-1.0521143579759822,-0.8427179441591007,-0.6023571013081326,-0.36590491041289497,0.09848540590693616,2.469397565552815,-1.4124230420526127,-0.7731257172202237,-0.08546394624945455,0.7540778926073796,3.183488933109428,0.7221198107790823,-1.3304710919703893,1.2113473267812134,0.162180583556924,-2.097128095465284,-1.2173525503464264,-0.08698848066491399,0.01408116242785129,1.2803801324011637,-1.5059954046543615,-0.6184336559976982,2.2855378948499534,0.058731655130549024,-0.5177753672040083,-0.3979279663936071,0.5739655920471353,-0.006539136026288257,-0.4868383470374729,0.1735097449015422,0.17831306481710132,-0.40649146726399077,1.3184839250020377,0.0570503089858177,0.8730125518836631,1.207910812926923,0.20238921872079266,2.765415029241391,2.765415029241391,0.05148700230902625,0.8916730029295146,0.7109442447507884,0.2734703363976267,2.765415029241391,-0.40157355073061696,3.573444410510611,-0.0628876609482759,0.40046837260554324,-0.15199286540165136,2.037724428935541,1.4845128770249167,2.1930243680547674,0.5490602882950785,-0.2127629732144958,-0.19132057399973315,0.9835121180343842,1.982777336477457,-0.3637371347756986,-0.23668930665169333,0.24611366947251553,0.3265494268437253,2.6657365050102153,2.1619073227998555,0.4603492912483352,1.7424199987741296,0.08401111734488026,1.966546147430792,1.9110412213912018,1.2256808758028344,-0.014484055970527238,1.5249838845657424,1.4911036241509834,0.6264987155361884,1.4356020632582291,1.2004721194554393,0.43885647790700755,0.191452666545016,-0.44939539197590084,0.7759991067473081,1.1350216584793005,-0.7442733450269192,-0.05796957631832778,1.4861204697504409,1.1780698171127917,1.0605510538584861,2.202140224925242,2.0533076652170332,1.6785806305712418,0.3380370845963522,1.7294640158908963,0.754048656698698,0.07974973791175669,0.7216378873599796,1.6442999576310542,2.6161057486631805,1.6785806305712418,-1.9541703038756268,1.2106262063134463,0.7404222535014885,0.3340255578020406,0.9595174220991876,2.084421180585974,2.1476542016785687,0.8584117066522748,2.169585345470361,1.8449642541769946,2.0226856393272685,2.5494270866754114,0.7210306255220522,1.574271861832872,1.508861796136813,0.6264987155361884,-0.025725097142231673,1.018559758862469,1.4465459553038202,-0.5036431530444829,1.6100060310731394,0.6343598936546768,-0.7041938607682144,0.017950984486186754,-0.5257446864334798,-0.8297140595498547,-1.218174545332917,-0.5080340066631005,-1.7731147256353599,-0.3173419466999816,-0.276631918929222,-0.5612128844574458,1.0084722262742827,0.23936886797165408,0.35765557460985037,0.10526454351506315,0.7643483798302081,0.2760386336237636,0.21896574879770164,2.5093422554048397,0.47249917979260936,-0.5107535354565961,-0.04912580556523833,-0.03492688963587976,-0.10852041354769848,-0.47732509933547884,-0.8397658160184713,1.1631225709403201,-0.09712976417366734,0.217941753501191,-1.1383755372258066,-0.17710590799100626,-0.7464674757529195,-1.6853909177199604,-0.31376381777476,-0.6385794949272228,1.056894232207142,0.28630097191997966,-0.8939255740471467,0.310297091216744,0.5865081869923994,-1.3543555517935308,0.30779526766619425,-1.2820156712553137,-0.0700943376643676,-1.5851486978010045,4.18284266986685,-0.21705358817825499,0.24088453803718302,0.5999944324855694,0.4725486967743759,0.20711746670349768,-1.6465853405073758,-0.9669091769193947,-1.5011111267412611,-0.9762660634441971,0.5195959914399634,-2.759042607772309,0.927106948028242,2.21718716399214,-0.2025829659783253,1.7378000615798583,1.067707100354727,-0.5766409923394323,-0.04233925641329431,-0.18188971938510307,-1.4873555008066661,-0.006925540340124655,0.45634359415758907,-0.7242595794301004,0.8304302171055469,0.4387260553097093,-1.2757914644391366,-1.5290867386601894,-0.26261355048277746,2.070365692358868,0.533196004697573,-0.16282055283395602,-4.745736538424162,-1.4034599136370964,0.3558239841358217,-0.4163712529200857,-0.9668519601939072,-0.013379737083082485,-0.4857830426681114,-0.20453836647287657,0.9598893705979716,-0.8128286234754131,2.3992168236414817,-0.07295824500584387,0.011149666119039586,-0.22392765406346837,0.7918513316708687,0.5230089227115394,2.121574040421689,-1.1572763685167733,0.602097899378116,0.900004907843864,0.22731499722651616,-0.43465335726882803,-0.8513505083771815,2.035027398899235,1.2887272950180362,0.6688187644592085,-0.09368908037348361,-0.35619887168924647,0.33694195426697865,1.1895302668638703,0.5160164157754584,1.1293730100454382,-0.5707096247557442,-0.588484875017832,-0.3399089822807047,-0.37537709890883547,-0.8798422287954055,1.45023307226774,0.07642120303432054,0.5013382829154189,0.11048121232278466,0.4537421590818606,0.20200024614223414,0.6343646492043804,-0.0871734673710666,1.4794699489128174,0.8387145069316487,-0.31696947233194633,-0.2404416670160162,-0.23576077229830544,0.016627349560508844,0.5924834074871524,0.9343533657365005,0.2259630824501618,1.579899070771106,0.6812023066863411,0.007494170377503558,-0.21986985341253334,0.8701207399890871,0.8699467868321288,0.32305505237695026,2.151105924496311,0.9633637903308369,0.6066575551185727,1.2269564768013617,-1.8122042277950732,0.08787057604926704,0.83325029364597,-0.7475921899452536,-0.6866579546089595,-0.7230051881664976,1.1126497664062056,1.1374100371628875,-0.0466094927936406,0.9990311571410517,0.7834313726921317,-0.09733094963792518,-1.031812543606148,2.5871886020741997,1.806556920993062,2.7340547253796514,-0.3038373925580165,0.9603151908022793,-1.1203970336746694,0.16707753192409336,0.9113947235415036,-1.2374046091850368,-0.3540625939691121,0.8657837704481571,-0.5053635169605893,-1.0780033660618729,-0.75107828296408,0.4459071704107968,0.8303158789113085,-0.6998260341827426,0.8914362916542248,1.7033292046487192,0.44336341845099625,1.2043533212807354,1.9148903477945551,-0.8517394572227316,0.03406911063981347,2.3341876968580015,0.2850270686810862,-0.17791320248466871,0.6834113876152873,-1.0509536782886757,-0.6960555498813138,0.7347217424607275,0.02379784308471481,-0.18066682227513767,-1.0400006854239137,0.011847971740468678,-0.6042867067593838,0.19571085386751697,-0.640633558826094,1.4109100744204668,0.7495469731582491,0.9552166257126911,2.4510226695693778,1.1670732550338678,-1.2352907829762203,0.9220131034220316,2.174818206154597,1.8423241445206116,0.7126174765603153,0.5372042995401747,0.5237296567999399,0.9948053869528393,0.06122196280817774,2.148275988336717,2.2021262826940333,2.0326198978602696,2.0916615102692755,1.6346827274842395,1.312427496605521,2.3666498024809117,1.980495039501776,3.1053679146043742,-0.08335442900602215,2.5329131490146324,-0.7023144652057661,0.5082334733377629,-1.2222716866254135,-0.1361670378074708,1.2627579957290729,-0.5390002275249639,-2.7033232326249097,-0.7805684141122975,-0.4150706557398238,-0.4969135280511361,0.6583078669939225,2.2091910070294656,2.407302334879228,2.3199051611007846,1.7764244580554942,0.9276550558007568,-0.2753321294697396,-1.1436680989307269,-0.5586084105675986,0.8666043355460349,0.24763354883187258,1.3239486570826848,0.847781163056401,-0.7629509562877757,-0.707482681306933,-1.970689361327594,-0.6938493088169818,-0.0792271018536262,-0.8300768366009301,1.2586311172897637,0.4538604992227805,1.3221976825759862,6.174641604836998,0.2642790813960515,0.9339842015674862,0.8304302171055469,1.2237201666192972,1.133978838693316,-0.7125985735121128,0.12058125570081696,-0.3332861843521706,2.9676732710995277,0.6873750157577743,3.1088081366118554,0.763813931299777,1.0164596812663744,1.4664508024138647,1.0649991252371964,0.5251368641490428,1.7452395205111708,2.11582778347171,-0.12317818301859587,-0.3951453760783421,0.041115555907571155,0.4349714103514062,1.4744997120327095,1.3218047740150503,0.4977948285617438,0.9900963706728068,1.4641548354171323,0.5710648494332463,0.9440912226298163,-0.3254066219072391,0.5728436856810876,1.3387342330793448,0.29772064029400547,0.12417345078800074,0.711048443940331,-0.25133820537758794,1.0201916532463162,0.9726203967305537,-0.048192839006274496,1.6507755513641131,1.1466738065516964,0.7517740424827694,-0.48752523163644135,0.9967164548166919,-0.3036955678921568,0.6143823490340033,0.6239216159698007,1.3529556125638231,1.9354110831507916,1.297142831986237,3.376086597705622,0.5706387754775034,-1.6901133854393184,-0.611895967134954,-0.611895967134954,0.45959177262763484,-0.4648191345167083,0.8663488217080394,0.9702114083775293,-0.6763028241994381,-2.022980021431459,-0.5391169825956221,-0.7940088384444848,-0.6036407771762828,-0.44447966053829446,-0.7646261588688363,-2.564647296804026,-0.09200978529912276,-0.6592635133305925,0.10292245373917991,-1.6662912764654836,-1.404957368164417,1.720543145363637,-0.16303431748232314,-1.0355573746304034,0.578449465411854,-0.9846985820555372,-0.1750511208298031,1.3261989309075086,-1.8901043511651356,-0.7868481095759065,-1.0156475901751203,-1.8435075423484122,-1.0037820577967822,-0.9763595807216188,-0.5892037736325375,-0.2860778007459447,-0.9507568692982765,0.10748896737223038,-1.2048764529098712,-0.8246127815934345,0.019415503087972578,-0.975119779129438,-1.1869941198576277,-2.2890305352588394,-1.4340855356522715,-1.354783764323396,0.7201159791570376,1.0814084193885691,-1.0790149635861401,1.4201797395670275,2.5191836278816715,-2.7773684701090535,5.356673730726956,0.3559082883047062,-1.627567824457411,-2.5423592221621796,1.3667918415825784,1.2360447000498598,0.08265644354333815,0.08635714002318626,-0.6900580499565644,0.8857342316288854,0.6673817552369644,-0.8582440723464626,0.11085884491276723,-0.7026506305857906,0.04663349486028049,-1.4037711855225963,0.5993321962852856,-0.9143606148378458,2.133829236902907,0.37944475973816283,2.3286096859845604,-0.031221991517546815,0.5239981953485708,-0.10454060048386324,-0.0515150697595563,0.8357290172529283,1.4630611184526494,0.09646525574269085,1.5588453564877958,1.3112911496409796,-0.5160023647675926,-0.0016810281347659772,1.0726151431947708,2.68457374719452,-0.07136159782797916,-0.2987113755798081,1.0465184627093087,0.5922375013383107,1.4109100744204668,0.8279411886932182,0.9321096224006196,-2.176308465761316,-2.176308465761316,1.071870779601278,1.8020690885292134,1.6820264686337436,0.1860898947488668,2.56997442651202,1.412644171414738,1.0095808021906367,0.29035989365400805,1.0478172814112126,-1.7069454566974627,-0.11129811236486542,0.8610821405562833,0.651311511072654,0.8577816166784379,-0.04131170302450668,1.7520871483528841,0.9434990799304692,1.7753032531415776,-0.3009197649491301,-1.0644254981485415,-1.0632444954435332,-0.06851018864908875,-0.24169018159523278,-0.5973854069870566,-0.07645748159350493,1.0954372657186429,0.2981217571580468,2.939245061514513,0.4621398874562959,2.0813841773178194,0.20529230732961795,0.021753106873134746,2.272588531825476,-0.24788725263430117,4.089328063827412,2.0893429988331182,1.159610803577787,0.637899028164378,-0.005140828602781949,1.1919430585688346,1.926518911456609,1.209411086057293,2.0806101966414086,-0.3009590923179213,-1.1545788921636206,0.8645232156019913,1.3908104727647295,2.108172184507635,1.1035702259056597,0.3863899078425854,0.39802769284718864,2.2385109825321767,0.8746084681778661,1.8674486240617116,1.3646110270940355,2.2284612245964692,-1.4674796576294997,2.0430563790265395,-0.8658834400355915,-0.8246252664464117,1.9319965917211328,-0.49790203649482023,0.6744012093933424,1.4825831710107389,-0.0607293271883336,2.9271799477899143,0.9598781178050392,1.3089076600942937,-0.7731161826195049,3.963352082953177,0.03362784939651558,1.6609152125096383,0.22925149849844806,4.417231373138001,2.116905147439793,1.070910751105069,0.5944325866301879,1.3292428989372689,4.139408025809829,1.1434366870982822,3.150293885873998,3.343603536897616,3.3698987754665635,1.3035624814720168,1.7324041610402172,1.7151379155982354,-0.6164881376617699,-0.06220153145534386,-0.4916287573732496,-0.6078987208516734,-1.151500192681999,2.8735376263886323,0.3765667983920635,1.7507188105949587,0.48050255395140357,1.6039984052472636,1.8974505128869563,-0.3795230084519213,1.9192256394160474,-1.668326162360846,-0.3897860744864848,-0.31978296329218675,-0.11090840573242547,-0.31059571209544434,-1.3371901052411899,-0.7084489368541702,-0.14969350925245842,-1.0307917273498572,2.3429124759178945,2.8842982575237945,-0.7032073230066932,0.09212305710368887,-0.29009377988309343,1.5243454226328623,-0.0379529479691372,0.6297938699471184,1.0975920488153328,0.5346349872538363,0.5464790351288091,1.0975920488153328,1.2876028988541361,0.2243078490313649,-0.5034152867349757,0.05651810207364293,1.6175709482655527,-0.037935449104252034,1.110884823659478,0.0026841814643328446,0.44420354222940966,1.4243365050602457,-0.24740565849275287,1.5914871071641477,0.8379432459563251,-0.47249010031272554,-1.1038678537093367,-0.5992393650137461,-0.11812428976112528,2.529193806688075,0.4786487995571306,1.5674395640228467,-0.8314002016154654,-0.9117813691499352,0.4919453802456579,1.57436169269869,-0.17743403352963014,0.11453352922496104,0.3837704274153346,0.12410163783958843,2.597332725299867,0.7933459963367192,-0.27835128603234754,0.704743484300969,2.29840552663433,1.1192675080021957,1.1010897028304896,4.2252681637481455,1.4940701773059843,2.585479956231263,1.401875968772157,1.678647485597245,-0.22951795072195683,-1.1655825125405659,-0.6544333375927488,-1.2550557490797642,2.4156030651875753,0.9266323889500574,0.8837904140454385,0.5729532840419009,-0.7741028366403031,0.37263269619519046,-0.6551669469524742,-0.1279397141534578,-0.4120506607661232,-0.25907135838815565,2.1338418907094674,1.6279381716020236,1.3656903754166627,-0.13014829805079436,3.551184350842573,-0.8349328524645309,0.032612546072132965,0.877242480529637,-0.7203647734213795,0.745393665700114,-0.3962511737125882,0.9339842015674862,1.3311990650621421,-0.39345615902402964,-0.010443480031913949,1.158309037052832,1.0377876196552736,-0.21163108740253422,-1.3462704787663995,0.06538815026640415,-1.0240638542933482,0.7485133713052332,-0.03160600754574579,-0.7082863805078943,0.15986216546225956,1.8931629333030626,0.24892796574954637,-0.20090726619496987,-0.012975290217414524,1.1602669280322893,-0.4170810958422963,-0.2793861007561975,-0.06769302128552637,-0.23860873731462212,-1.9040104538747116,-0.9613278196418433,0.9685939814128364,0.09260439884161684,0.6957002209799608,0.5786780680220577,-1.3074940335881597,-1.1334991660459415,1.1672127576074147,1.5811985041918197,1.812152533656652,-1.698295728377487,0.3378639245194665,1.253352221126985,0.009953978197259739,-1.3005983266631684,0.4240986512885768,-0.20382075522988805,-0.2692841409570503,0.15409810516223366,1.3054826309413001,1.260585944925124,-3.404856483462597,0.5714601669722068,-1.6161442281579221,0.3745472190853154,0.8258378103791217,3.35793233386773,1.1609143994115911,1.4500940129154758,-0.6046307048454815,1.9584303588243335,-0.6368780777468228,-1.6161442281579221,-0.5380331113361595,-1.2917923509638896,0.8416510753263036,-0.978388910402416,0.6514135802946043,0.3963726796677893,0.3275150070432154,0.3453841254559692,1.1254840115545541,0.627120133965686,1.1830678506450818,-0.03429181781328289,1.0630572515183916,-0.46724873609055384,0.49795296729923955,1.0506820993455532,0.42024333216260207,0.1743193401463898,-0.4349866623454269,1.149841369747996,0.14085695262274844,0.16031453542964222,-0.012239229231001805,-0.4643846154319351,0.743287547971829,1.078218535803182,-0.10002134917326319,0.33618437642185695,0.5227732994178427,0.8823311594942026,-0.2305019585075886,-0.9611901327591167,0.7150146733176433,1.6732979270579815,0.1876751551987717,-0.635238470643833,0.6001993700096936,-0.16342200816106017,3.538952009740767,0.6526011035331208,-0.15890970032891827,-0.2692781360308118,-0.6961067113635315,2.5931880252022186,1.578750013648235,1.6679410258249612,2.793176981670118,0.7048475539956958,1.517550766290444,0.7222861279219868,0.195468192313024,2.313525538676217,0.4791999777335061,1.7710628069503973,0.42453089486858686,2.3383588804023048,0.5943960528921115,2.7463992320994732,1.244087831572179,1.1330704480995972,-0.25613777444762936,-1.7713706940371536,1.2169166867702848,-0.14834874407880516,-0.18669890596600705,4.250717996259497,1.447106126503716,2.9898714880744595,1.6816819386435053,1.5235512355404597,2.6808158795184878,1.9689293667352392,1.7635898101996224,4.860570908737348,2.5435857250962575,1.4460017433165822,2.7781858309837544,1.8833643883624598,1.2046334063176294,2.8346137779720935,-1.0769035456669738,1.451290056145474,0.4529578324363935,-0.5456677398938213,-0.09861379271188911,3.907556367943323,1.539936005245404,2.9362129551670235,0.14277808683246154,-0.11050737713087139,0.1539688054037716,0.12874636440709333,2.972404398810679,0.3668727161064677,0.2061282978578561,2.868388638321908,1.4778016600209403,1.071314164811939,0.4530377316135596,-1.7088727332570184,0.42385938795160155,0.5470353432428188,-1.9162625781567266,-0.3155808672169514,-0.32560510194564546,1.112573925297095,1.5533403207397523,0.976842361768929,0.693812730986567,1.8000990056407589,-0.7868481095759065,-0.03387670073177126,0.45728014450559584,0.3631487114879983,1.35272850418148,3.397293118850825,0.6438134546568495,-0.6428380192982834,-0.04769900219847153,0.1131303079993091,-0.14839419802922618,-1.2173525503464264,0.028627366947361385,-0.6123502725066342,-0.8899000126701886,1.2281232612877004,-1.1894658201003885,2.1326027691744205,-0.5775322683655755,-0.2471149549501525,-1.6082553223208849,-0.5530206074724461,-0.20168881648783993,0.7734275405408306,-0.46664398353704895,0.026863217481413668,-0.4810928454979006,1.4253633955035365,-0.8843065138045929,0.09695268368442589,1.1332394503581007,-1.2659224906017008,0.3244357130545976,1.5813011166621271,1.5268714228070996,-2.8066022188841915,2.408122592681134,0.9484418651043839,-1.5160885181486763,-1.2444964454416005,0.7694820763816418,0.29765176761355816,-0.9521319600531426,-0.40824650803021956,-0.255900486874372,-0.4167040218624436,-0.13051567004769354,-0.17658853055072252,1.9755126846533753,0.15931171297954566,-0.9116283116913614,-0.7400862925241639,-0.4408812598977749,-0.46077105902304216,-0.7337878938840435,2.1592267482936527,0.3241362964826763,0.4165108202441562,0.3803862949500657,-1.0432536373771055,-1.1302850973588972,1.0729366892842112,1.1867464917789035,-0.09787723287122788,0.9551858401036827,-0.48781894735319703,0.985692071126882,-0.8149374744895782,-0.2543120653364944,-0.048529001850982106,-0.06987223459899142,0.7386691977573759,1.4287953795003512,1.9095480531962294,0.9372805765926762,0.396473554961149,1.078218535803182,1.710435963330194,-1.0760806153865696,1.1280628312448473,0.40974929999015663,0.38324353675719325,-1.9476694734032127,1.7885919916609643,-1.5301979615118502,0.9593455443176367,-0.7689064086042136,-0.7882608007974106,-1.0378167337749633,-1.8414427521741923,0.6404121680936747,0.8069184758134808,1.158309037052832,0.3072000984105419,-0.3789714591688196,-0.0643034228387443,0.2612555341543274,-0.9538399018431519,0.1673473777203525,0.9242461713853904,-0.05360550806164302,0.3415399554095718,0.007100892570602966,0.8984977325242673,1.9640965288912513,2.51646158301718,-0.6066391123531029,1.077898238852105,1.1544363878501975,2.7541073575499633,1.741841330870417,0.049560168469337224,-0.17423997390100057,-1.7531754298804678,1.3143200521370033,1.3143200521370033,0.6703637581191537,1.7110540730503732,0.10784085208698467,1.2542762635592795,-0.34788202386607325,0.4140425248115035,1.0004287659534354,1.796708063991961,3.1439133752238217,-1.1116221067784022,-0.618982765192419,-1.3798988002254209,-0.4923873033826036,1.2950925081244777,-0.09963868490337192,-0.4173580100732055,-0.724479791070872,-0.5943363395497929,-0.26778491860758485,-1.2657003712389945,-0.9220319844552589,-0.5776187521365361,-0.6546338779550172,-0.21772704941417723,-0.8721826734262641,-1.1007638050635067,-1.4600891325630752,-0.20080593705437944,-0.6907025231386813,-0.4515731780305544,-0.1222964702622587,1.7656073231912084,-0.2291055972145258,0.21339226106058978,-1.266635819474252,1.0171464983610423,-0.5318299290734723,0.7687441306237371,-0.03441735754716876,0.41471677044490246,0.06705368671889368,1.6366399247846157,0.3737918157463364,0.8772308389143763,0.5774075051451522,-0.03387670073177126,1.2557251747860176,-1.4328357341024494,0.8103071006118515,0.45516956624725197,0.7539553992722564,-0.0013286093930815757,-0.3300910858415756,-0.12647524360807433,1.8267815109919485,-0.5388888269322241,0.9106224341092183,-0.6662876704719856,-0.23693081583585301,-0.06158751101484034,0.31274501972477775,-0.4933935912295201,-0.5226146311615222,-1.3316790529403308,-0.6905071116381674,-0.07924611815583965,0.025267352008493435,0.4661685886611896,-1.0382878469478996,1.1069164994379161,1.5724569867754283,-1.603296418539748,1.490588017056065,0.11313434567915578,0.8357318223492561,0.2364956772062742,0.9295325995547594,2.0479811161357846,-0.23269578598383314,2.2985368644593827,2.8241403312230533,-0.7005080442030098,0.7062507829186505,0.460555298792209,1.5229085406668923,-0.006169052581747887,2.5555271096337533,-0.31058065187220646,-0.3520106300040875,0.03393427171648893,0.687104355036411,0.7295867598289849,0.9876790032721342,0.646336100434189,-0.93150337320333,1.190097892994991,-0.48866988748734824,-0.07637124436549053,1.7456786075484758,-0.18086917877974865,0.9426886413454793,2.201379065747353,2.646921930819651,1.9458504206879137,2.102196519470284,1.1122343893912496,2.32268432456689,0.9679398180994184,-0.6262071670997325,4.250717996259497,-0.1124133237887624,1.21332219229496,2.4753684213318565,0.5985264053664439,0.3404823459084703,0.6303572341359369,-0.3677863408748583,-0.7947512694627727,1.1449444626756868,0.11164920861979141,-1.9206178037940844,0.06348791978922783,0.5541874649154279,-0.7255649725514272,-1.9328291946207679,-1.1997380468493646,-0.07516694100046467,-2.097128095465284,-0.8186320649774513,-0.4442152890495286,-0.5899166766899336,0.4408663415664593,0.017052527411772482,-0.5399233788681503,2.8976992272523265,1.1922006766771065,2.544094524654428,0.5285731748296898,1.4432278667812344,0.05024359480184801,-1.3461251579559286,-0.7920501445906161,0.21108641213493964,-0.23226868262967099,-0.5437981343344667,-0.17411944869504667,0.1677745315723155,1.409846166743516,0.313189005702829,0.573260248139831,3.1736814135797515,1.3127404846925532,1.2727238056802788,-0.5145717772358087,0.24307493122091717,-0.15857751059852682,1.922724170220988,0.6036790080712279,-0.6222444925271255,-0.3009643688263416,-0.4039811728164837,1.2516418310337998,2.8560558637513647,-0.6210452409997447,1.3803322309008976,2.1749792235527226,-0.6747035127448937,-0.1421352416392362,1.7965079680922227,1.883408324751397,-0.1641155247834369,-0.06002270379005051,-0.23314208295129715,2.0485107153447317,1.586858753336133,0.5292434931872458,1.586858753336133,0.26111049756007254,-0.008756628587925315,-0.4445372585401127,0.5625625018424534,0.675951380295806,1.6248602334374886,0.5354522951224667,2.727309657487454,-0.5313343321288782,0.3501276341517042,0.736098296674862,-0.5019080742547046,0.5989813664115927,0.20564913150381472,0.1339997910981323,0.754014332511817,-0.11549200811159241,-1.0470164109495095,0.7670890618479136,-0.28613675653637727,0.5161665468212472,-1.3643096613977572,0.6756777754327963,2.4032567408709227,2.257492706182018,1.4501979988019789,0.6603320909358932,0.2965595612135533,1.3975907417153852,1.5090739055364069,-0.49657584608977845,-0.8964588828278881,0.6525061600907581,1.5343642003160276,1.2978756895789874,0.31457024964321945,2.4696546763827056,1.7460186779534108,-0.45757331133693574,0.0843808237368647,-0.38310872487424635,1.0340068245328382,0.39550672755849986,1.9878823574409135,1.738859244073755,-1.2073284147918109,-0.9068212030510467,-0.2565829685461817,1.588349335320438,0.9873091388423274,0.7884072949979225,3.4695883420785014,2.0958740353626846,0.7403231288156877,-1.0118018224225493,2.097056507721675,3.203622237055564,0.6062847954799843,0.874759711090083,2.0390501675187935,0.9976012166592494,1.4730902508464527,1.0304124254147207,0.5250752687492852,0.6062847954799843,1.276470191505567,0.2153870471608626,1.0197009048685859,1.041964064770155,0.5538235566338402,-1.8862546319075346,0.6852428998849099,2.6801381553718175,3.1429074402831656,0.33084631114146346,1.0304124254147207,2.6204495406372503,1.738859244073755,3.356626009844669,-0.25294977819720516,0.6641334616569028,0.11626825588326309,0.7975676405610779,1.9926246227299536,0.8675752702428446,1.1701989199330145,0.7508821549431884,-0.8762685025917872,-0.8928993632384546,0.9512381364146122,3.963974382086263,-0.07704848183765513,0.9761676831805572,3.2617846356132407,0.44556893306808193,1.11003605084921,0.5582661349933343,-0.01437467653876165,3.5686457646893963,2.593361992848548,1.0998489918579621,-0.19778060250929583,0.26133728946393336,1.3499822216352175,0.018735308694947217,-1.1616060715643743,-1.3005983266631684,1.256226647971587,-0.1556384766252046,1.429884371223242,-0.06917174894261777,0.2212267311286412,0.23913365932385142,0.314579591109059,-3.1457800570367045,0.4169907163148579,0.8387145069316487,-0.871907020710029,-0.7600738247976531,-1.0692760496881029,-1.148759131444125,-1.887782458465549,0.9259380953902394,-1.554676471272461,-1.0988707957317587,0.8188246439878889,0.80475955711123,2.8664658453137357,0.21613842233179417,3.660829617315145,2.8723019150274505,3.3200179376408903,1.3846816583107213,0.39649051142793035,-1.012918579821337,0.16223816802188346,-0.6332953454114674,0.2284823699466712,-0.29144273753427385,2.6169209394386805,-0.6642716936592231,-0.16794028201825734,0.47178914948264894,-0.6074710213081909,0.5380172237373404,0.3564882012534715,-1.1155279717415494,0.21661857353672276,0.1513665557146207,-1.3250438733992727,-0.6202282118488163,0.9565660229662654,0.46493508120563787,0.40979802963433265,1.4697313399591632,2.4869196563230473,-1.7753200168918715,-0.8559578795141504,-0.25383048501470085,2.080402316897987,-1.7920115212407899,2.679245703154718,-1.039974424595776,0.4799041063861942,0.2035502872109622,-1.1857668466972004,-0.42620388852462787,-1.3124021897657852,0.007727162678114401,-1.4760722921213583,-0.5911699250184694,0.9393284648253284,-1.5039024884292567,-0.9802362183918472,-0.05545020020193887,2.199285324974723,1.318561974662171,1.774015725594423,-0.08752888115281096,-0.0671808519467751,0.439928448575963,1.1776405947425637,0.8434945897344394,-0.0005829156739702432,-1.1454374294037541,-0.5229389384441763,0.01619029209549587,0.5844031262863176,-0.596045883084806,1.8725126373606031,0.9685079242678009,1.5366924696742437,0.598129432478278,-2.634281631475484,-2.109213501313923,0.8444866387161228,-0.10989320459652721,-0.3989967777301787,0.8030199554639903,-0.6243243646079136,-0.16356520993638987,-0.5596926575648815,-1.5864180587112453,0.3559082883047062,0.21608459047765088,0.5538992635895114,-1.6175520023027963,-0.7833480740763212,0.00030832632548275646,0.12215604261026125,0.9785813632699853,1.3958428483275007,1.4201797395670275,-0.4235459661781311,0.051702364307048304,0.1503186873741079,0.1286075116105734,-0.3936145921389446,1.5359157996185016,0.44948718301286417,-0.7126532790636049,0.6552131716677564,-0.505274966905621,2.108446905551141,-0.16282055283395602,-0.284358337169774,-0.29437037779046515,0.44946156153717853,0.19417983413188464,0.43632670245015615,0.4391925279118506,0.7481571523074172,-0.4754881365625549,2.419879833610725,2.282205218825288,2.3593405474445954,-1.0472334565888601,1.2927185734452564,0.5764356901943685,-0.0787415407608143,0.13638193147920127,0.6036494761538704,2.3856556001136426,0.259863857222851,0.4330553871518899,0.7121592587666582,1.3813240560023592,0.8638346826665034,-0.9160697498519538,0.9967407386970382,3.3261563320984098,1.4129465833456323,1.251375755103384,3.0100003649383047,0.04382535887842292,0.7909741984371016,1.6683633517854333,-0.5371461875359074,0.009701213231985223,-1.085572607331194,0.00834268080111826,0.5029907213909771,-0.669172439831729,1.6279381716020236,2.31537739080146,1.6043171629045014,-0.05434851515090185,-0.3582887067285044,2.256777689497229,0.7211559056592575,-3.1457800570367045,-2.309532835438711,-0.4376859625469149,-0.46995845530259023,-0.31866770697989677,0.5060744868494195,3.8214239467530877,1.012568240294822,0.5960312551674621,0.45593728916431775,-0.35702004747938715,0.8700004911381993,1.176752168179129,0.3412395905481007,-2.175700239185084,-0.9959357886479138,-1.349059065724048,1.2797314775280004,1.6206884446272452,-1.2883335773129438,-0.03587142548801567,-0.4089193802882697,-0.4952659762165149,-0.36535645515485105,-0.3150168568841176,0.0578297017500064,1.6743549863583262,-0.560057323496779,0.6593980083327684,1.399384475435833,1.777996123397672,-0.4376859625469149,-0.4376859625469149,3.4695883420785014,2.2385109825321763,2.080960025597819,-1.9791370645990547,-2.0029180949075718,-0.12333651371750318,-0.8817968918573428,-1.5828710092043043,-1.9398078358934618,0.9152333339446999,-0.9551502916361906,-1.0930522751124996,-1.2938011755473748,0.262383059662731,-1.540448286428395,-1.757836768464761,-0.27139832782102,-1.7482635760769198,-1.3083391672204423,-0.9295777174484571,-2.0787082289399126,-1.5005295644482466,0.9250444815576692,-0.0758414935845437,-0.9777388773112233,0.7703149566627534,0.4395452128778393,-0.5421134751123173,0.8400923808716693,0.1976258366725024,-0.07193753618578155,2.271577736457404,1.6447614728846367,-1.3615500396910354,2.030667863852739,0.9732317633382924,-1.0410097475867512,0.34518796753557,-0.5103981939741482,1.608626665407688,1.6888233407545947,-0.9499881778596266,-2.183820298766813,1.7451781867570393,-0.7663731750724155,0.36977806506923283,-0.9064996674321752,3.7987454637539746,-0.27794177396683306,-0.15305316679418376,1.2264692722792765,1.5297977391694744,1.2590945946083199,0.6008829405948324,-0.0015772804424292464,-0.6308289241364199,-0.3262234940047857,-0.704811686913995,-0.16764948913038805,1.0370444229655051,0.12679357503967906,0.5938972407937845,0.3559082883047062,-1.7142074536630512,1.272533016190913,0.5518251752319716,0.4657741705475371,1.5359151072116808,0.94203954387282,2.8896588964468215,0.07754728261347105,0.7016476535083123,0.6771021488261976,0.10458002074048195,1.2564977147850804,2.07622312665289,1.6540355321061329,1.2195039928688831,0.9895682645408067,-0.2941345493835405,1.162917083470925,0.19157243139434815,-0.729933519955718,1.528706864137665,-0.34388394793164484,-0.16155351303111684,0.03178986319892543,-1.0479223954738106,2.1540462861067975,0.03362784939651558,-1.240646666540217,1.1651731832528462,-0.28823265651932317,0.3771456891177418,-1.7006212507456449,2.26410916495167,0.8121061982916165,0.12652175728991227,0.416507018372443,-0.668292822368372,-0.6687762062702765,-2.969740528792513,-0.9713639496773536],\"yaxis\":\"y\",\"type\":\"scattergl\"}],                        {\"template\":{\"data\":{\"histogram2dcontour\":[{\"type\":\"histogram2dcontour\",\"colorbar\":{\"outlinewidth\":0,\"ticks\":\"\"},\"colorscale\":[[0.0,\"#0d0887\"],[0.1111111111111111,\"#46039f\"],[0.2222222222222222,\"#7201a8\"],[0.3333333333333333,\"#9c179e\"],[0.4444444444444444,\"#bd3786\"],[0.5555555555555556,\"#d8576b\"],[0.6666666666666666,\"#ed7953\"],[0.7777777777777778,\"#fb9f3a\"],[0.8888888888888888,\"#fdca26\"],[1.0,\"#f0f921\"]]}],\"choropleth\":[{\"type\":\"choropleth\",\"colorbar\":{\"outlinewidth\":0,\"ticks\":\"\"}}],\"histogram2d\":[{\"type\":\"histogram2d\",\"colorbar\":{\"outlinewidth\":0,\"ticks\":\"\"},\"colorscale\":[[0.0,\"#0d0887\"],[0.1111111111111111,\"#46039f\"],[0.2222222222222222,\"#7201a8\"],[0.3333333333333333,\"#9c179e\"],[0.4444444444444444,\"#bd3786\"],[0.5555555555555556,\"#d8576b\"],[0.6666666666666666,\"#ed7953\"],[0.7777777777777778,\"#fb9f3a\"],[0.8888888888888888,\"#fdca26\"],[1.0,\"#f0f921\"]]}],\"heatmap\":[{\"type\":\"heatmap\",\"colorbar\":{\"outlinewidth\":0,\"ticks\":\"\"},\"colorscale\":[[0.0,\"#0d0887\"],[0.1111111111111111,\"#46039f\"],[0.2222222222222222,\"#7201a8\"],[0.3333333333333333,\"#9c179e\"],[0.4444444444444444,\"#bd3786\"],[0.5555555555555556,\"#d8576b\"],[0.6666666666666666,\"#ed7953\"],[0.7777777777777778,\"#fb9f3a\"],[0.8888888888888888,\"#fdca26\"],[1.0,\"#f0f921\"]]}],\"heatmapgl\":[{\"type\":\"heatmapgl\",\"colorbar\":{\"outlinewidth\":0,\"ticks\":\"\"},\"colorscale\":[[0.0,\"#0d0887\"],[0.1111111111111111,\"#46039f\"],[0.2222222222222222,\"#7201a8\"],[0.3333333333333333,\"#9c179e\"],[0.4444444444444444,\"#bd3786\"],[0.5555555555555556,\"#d8576b\"],[0.6666666666666666,\"#ed7953\"],[0.7777777777777778,\"#fb9f3a\"],[0.8888888888888888,\"#fdca26\"],[1.0,\"#f0f921\"]]}],\"contourcarpet\":[{\"type\":\"contourcarpet\",\"colorbar\":{\"outlinewidth\":0,\"ticks\":\"\"}}],\"contour\":[{\"type\":\"contour\",\"colorbar\":{\"outlinewidth\":0,\"ticks\":\"\"},\"colorscale\":[[0.0,\"#0d0887\"],[0.1111111111111111,\"#46039f\"],[0.2222222222222222,\"#7201a8\"],[0.3333333333333333,\"#9c179e\"],[0.4444444444444444,\"#bd3786\"],[0.5555555555555556,\"#d8576b\"],[0.6666666666666666,\"#ed7953\"],[0.7777777777777778,\"#fb9f3a\"],[0.8888888888888888,\"#fdca26\"],[1.0,\"#f0f921\"]]}],\"surface\":[{\"type\":\"surface\",\"colorbar\":{\"outlinewidth\":0,\"ticks\":\"\"},\"colorscale\":[[0.0,\"#0d0887\"],[0.1111111111111111,\"#46039f\"],[0.2222222222222222,\"#7201a8\"],[0.3333333333333333,\"#9c179e\"],[0.4444444444444444,\"#bd3786\"],[0.5555555555555556,\"#d8576b\"],[0.6666666666666666,\"#ed7953\"],[0.7777777777777778,\"#fb9f3a\"],[0.8888888888888888,\"#fdca26\"],[1.0,\"#f0f921\"]]}],\"mesh3d\":[{\"type\":\"mesh3d\",\"colorbar\":{\"outlinewidth\":0,\"ticks\":\"\"}}],\"scatter\":[{\"fillpattern\":{\"fillmode\":\"overlay\",\"size\":10,\"solidity\":0.2},\"type\":\"scatter\"}],\"parcoords\":[{\"type\":\"parcoords\",\"line\":{\"colorbar\":{\"outlinewidth\":0,\"ticks\":\"\"}}}],\"scatterpolargl\":[{\"type\":\"scatterpolargl\",\"marker\":{\"colorbar\":{\"outlinewidth\":0,\"ticks\":\"\"}}}],\"bar\":[{\"error_x\":{\"color\":\"#2a3f5f\"},\"error_y\":{\"color\":\"#2a3f5f\"},\"marker\":{\"line\":{\"color\":\"#E5ECF6\",\"width\":0.5},\"pattern\":{\"fillmode\":\"overlay\",\"size\":10,\"solidity\":0.2}},\"type\":\"bar\"}],\"scattergeo\":[{\"type\":\"scattergeo\",\"marker\":{\"colorbar\":{\"outlinewidth\":0,\"ticks\":\"\"}}}],\"scatterpolar\":[{\"type\":\"scatterpolar\",\"marker\":{\"colorbar\":{\"outlinewidth\":0,\"ticks\":\"\"}}}],\"histogram\":[{\"marker\":{\"pattern\":{\"fillmode\":\"overlay\",\"size\":10,\"solidity\":0.2}},\"type\":\"histogram\"}],\"scattergl\":[{\"type\":\"scattergl\",\"marker\":{\"colorbar\":{\"outlinewidth\":0,\"ticks\":\"\"}}}],\"scatter3d\":[{\"type\":\"scatter3d\",\"line\":{\"colorbar\":{\"outlinewidth\":0,\"ticks\":\"\"}},\"marker\":{\"colorbar\":{\"outlinewidth\":0,\"ticks\":\"\"}}}],\"scattermapbox\":[{\"type\":\"scattermapbox\",\"marker\":{\"colorbar\":{\"outlinewidth\":0,\"ticks\":\"\"}}}],\"scatterternary\":[{\"type\":\"scatterternary\",\"marker\":{\"colorbar\":{\"outlinewidth\":0,\"ticks\":\"\"}}}],\"scattercarpet\":[{\"type\":\"scattercarpet\",\"marker\":{\"colorbar\":{\"outlinewidth\":0,\"ticks\":\"\"}}}],\"carpet\":[{\"aaxis\":{\"endlinecolor\":\"#2a3f5f\",\"gridcolor\":\"white\",\"linecolor\":\"white\",\"minorgridcolor\":\"white\",\"startlinecolor\":\"#2a3f5f\"},\"baxis\":{\"endlinecolor\":\"#2a3f5f\",\"gridcolor\":\"white\",\"linecolor\":\"white\",\"minorgridcolor\":\"white\",\"startlinecolor\":\"#2a3f5f\"},\"type\":\"carpet\"}],\"table\":[{\"cells\":{\"fill\":{\"color\":\"#EBF0F8\"},\"line\":{\"color\":\"white\"}},\"header\":{\"fill\":{\"color\":\"#C8D4E3\"},\"line\":{\"color\":\"white\"}},\"type\":\"table\"}],\"barpolar\":[{\"marker\":{\"line\":{\"color\":\"#E5ECF6\",\"width\":0.5},\"pattern\":{\"fillmode\":\"overlay\",\"size\":10,\"solidity\":0.2}},\"type\":\"barpolar\"}],\"pie\":[{\"automargin\":true,\"type\":\"pie\"}]},\"layout\":{\"autotypenumbers\":\"strict\",\"colorway\":[\"#636efa\",\"#EF553B\",\"#00cc96\",\"#ab63fa\",\"#FFA15A\",\"#19d3f3\",\"#FF6692\",\"#B6E880\",\"#FF97FF\",\"#FECB52\"],\"font\":{\"color\":\"#2a3f5f\"},\"hovermode\":\"closest\",\"hoverlabel\":{\"align\":\"left\"},\"paper_bgcolor\":\"white\",\"plot_bgcolor\":\"#E5ECF6\",\"polar\":{\"bgcolor\":\"#E5ECF6\",\"angularaxis\":{\"gridcolor\":\"white\",\"linecolor\":\"white\",\"ticks\":\"\"},\"radialaxis\":{\"gridcolor\":\"white\",\"linecolor\":\"white\",\"ticks\":\"\"}},\"ternary\":{\"bgcolor\":\"#E5ECF6\",\"aaxis\":{\"gridcolor\":\"white\",\"linecolor\":\"white\",\"ticks\":\"\"},\"baxis\":{\"gridcolor\":\"white\",\"linecolor\":\"white\",\"ticks\":\"\"},\"caxis\":{\"gridcolor\":\"white\",\"linecolor\":\"white\",\"ticks\":\"\"}},\"coloraxis\":{\"colorbar\":{\"outlinewidth\":0,\"ticks\":\"\"}},\"colorscale\":{\"sequential\":[[0.0,\"#0d0887\"],[0.1111111111111111,\"#46039f\"],[0.2222222222222222,\"#7201a8\"],[0.3333333333333333,\"#9c179e\"],[0.4444444444444444,\"#bd3786\"],[0.5555555555555556,\"#d8576b\"],[0.6666666666666666,\"#ed7953\"],[0.7777777777777778,\"#fb9f3a\"],[0.8888888888888888,\"#fdca26\"],[1.0,\"#f0f921\"]],\"sequentialminus\":[[0.0,\"#0d0887\"],[0.1111111111111111,\"#46039f\"],[0.2222222222222222,\"#7201a8\"],[0.3333333333333333,\"#9c179e\"],[0.4444444444444444,\"#bd3786\"],[0.5555555555555556,\"#d8576b\"],[0.6666666666666666,\"#ed7953\"],[0.7777777777777778,\"#fb9f3a\"],[0.8888888888888888,\"#fdca26\"],[1.0,\"#f0f921\"]],\"diverging\":[[0,\"#8e0152\"],[0.1,\"#c51b7d\"],[0.2,\"#de77ae\"],[0.3,\"#f1b6da\"],[0.4,\"#fde0ef\"],[0.5,\"#f7f7f7\"],[0.6,\"#e6f5d0\"],[0.7,\"#b8e186\"],[0.8,\"#7fbc41\"],[0.9,\"#4d9221\"],[1,\"#276419\"]]},\"xaxis\":{\"gridcolor\":\"white\",\"linecolor\":\"white\",\"ticks\":\"\",\"title\":{\"standoff\":15},\"zerolinecolor\":\"white\",\"automargin\":true,\"zerolinewidth\":2},\"yaxis\":{\"gridcolor\":\"white\",\"linecolor\":\"white\",\"ticks\":\"\",\"title\":{\"standoff\":15},\"zerolinecolor\":\"white\",\"automargin\":true,\"zerolinewidth\":2},\"scene\":{\"xaxis\":{\"backgroundcolor\":\"#E5ECF6\",\"gridcolor\":\"white\",\"linecolor\":\"white\",\"showbackground\":true,\"ticks\":\"\",\"zerolinecolor\":\"white\",\"gridwidth\":2},\"yaxis\":{\"backgroundcolor\":\"#E5ECF6\",\"gridcolor\":\"white\",\"linecolor\":\"white\",\"showbackground\":true,\"ticks\":\"\",\"zerolinecolor\":\"white\",\"gridwidth\":2},\"zaxis\":{\"backgroundcolor\":\"#E5ECF6\",\"gridcolor\":\"white\",\"linecolor\":\"white\",\"showbackground\":true,\"ticks\":\"\",\"zerolinecolor\":\"white\",\"gridwidth\":2}},\"shapedefaults\":{\"line\":{\"color\":\"#2a3f5f\"}},\"annotationdefaults\":{\"arrowcolor\":\"#2a3f5f\",\"arrowhead\":0,\"arrowwidth\":1},\"geo\":{\"bgcolor\":\"white\",\"landcolor\":\"#E5ECF6\",\"subunitcolor\":\"white\",\"showland\":true,\"showlakes\":true,\"lakecolor\":\"white\"},\"title\":{\"x\":0.05},\"mapbox\":{\"style\":\"light\"}}},\"xaxis\":{\"anchor\":\"y\",\"domain\":[0.0,1.0],\"title\":{\"text\":\"x\"}},\"yaxis\":{\"anchor\":\"x\",\"domain\":[0.0,1.0],\"title\":{\"text\":\"y\"}},\"coloraxis\":{\"colorbar\":{\"title\":{\"text\":\"cluster_pca\"}},\"colorscale\":[[0.0,\"#0d0887\"],[0.1111111111111111,\"#46039f\"],[0.2222222222222222,\"#7201a8\"],[0.3333333333333333,\"#9c179e\"],[0.4444444444444444,\"#bd3786\"],[0.5555555555555556,\"#d8576b\"],[0.6666666666666666,\"#ed7953\"],[0.7777777777777778,\"#fb9f3a\"],[0.8888888888888888,\"#fdca26\"],[1.0,\"#f0f921\"]]},\"legend\":{\"tracegroupgap\":0},\"margin\":{\"t\":60}},                        {\"responsive\": true}                    ).then(function(){\n",
       "                            \n",
       "var gd = document.getElementById('4d4ea418-3ba6-4817-b783-cb6293b6542e');\n",
       "var x = new MutationObserver(function (mutations, observer) {{\n",
       "        var display = window.getComputedStyle(gd).display;\n",
       "        if (!display || display === 'none') {{\n",
       "            console.log([gd, 'removed!']);\n",
       "            Plotly.purge(gd);\n",
       "            observer.disconnect();\n",
       "        }}\n",
       "}});\n",
       "\n",
       "// Listen for the removal of the full notebook cells\n",
       "var notebookContainer = gd.closest('#notebook-container');\n",
       "if (notebookContainer) {{\n",
       "    x.observe(notebookContainer, {childList: true});\n",
       "}}\n",
       "\n",
       "// Listen for the clearing of the current output cell\n",
       "var outputEl = gd.closest('.output');\n",
       "if (outputEl) {{\n",
       "    x.observe(outputEl, {childList: true});\n",
       "}}\n",
       "\n",
       "                        })                };                });            </script>        </div>"
      ]
     },
     "metadata": {},
     "output_type": "display_data"
    }
   ],
   "source": [
    "fig = px.scatter(pca_features_xy.toPandas(), x = 'x', y = 'y', color = 'cluster_pca', hover_data = ['x','y','genres'])\n",
    "fig.show()"
   ]
  },
  {
   "cell_type": "raw",
   "id": "cb08e544",
   "metadata": {},
   "source": [
    "Quando plotamos os clusters, podemos ver que eles estão muito juntos, evidenciando que talvez essa divisão não esteja tão clara pelo algoritmo. Isso pode ser devido tanto ao número de clusters escolhidos (5) ou ao número de componentes principais (PCA, com k = 2), podemoes estar perdendo muitas informações."
   ]
  },
  {
   "cell_type": "code",
   "execution_count": 201,
   "id": "94ed4179",
   "metadata": {},
   "outputs": [
    {
     "data": {
      "text/plain": [
       "DenseVector([0.2975, 0.1212])"
      ]
     },
     "execution_count": 201,
     "metadata": {},
     "output_type": "execute_result"
    }
   ],
   "source": [
    "# Podemos selecionar o estágio 2 do nosso pipeline (que é o último estágio, o do PCA), e verificarmos a variância explicada:\n",
    "pca_pipeline_model.stages[2].explainedVariance\n",
    "\n",
    "# O resultado abaixo diz que o primeiro componente explica apenas 3 variáveis, e que o segundo componente explica apenas 1; Esse\n",
    "# pode ser o motivo pelo qual a divisão não está tão clara."
   ]
  },
  {
   "cell_type": "markdown",
   "id": "f6d7b2f2",
   "metadata": {},
   "source": [
    "## Clusterização por Música"
   ]
  },
  {
   "cell_type": "raw",
   "id": "6b25803d",
   "metadata": {},
   "source": [
    "Vamos aplicar o mesmo pipeline acima para os dados originais que estávamos usando no começo do notebook."
   ]
  },
  {
   "cell_type": "code",
   "execution_count": 202,
   "id": "65069aae",
   "metadata": {},
   "outputs": [
    {
     "name": "stdout",
     "output_type": "stream",
     "text": [
      "+------------------+----+------------+--------------+------------------+-----------+------------------+--------+--------------------+--------------------+---+--------+-------------------+----+--------------------+----------+-----------+------------------+--------------------+\n",
      "|           valence|year|acousticness|       artists|      danceability|duration_ms|            energy|explicit|                  id|    instrumentalness|key|liveness|           loudness|mode|                name|popularity|speechiness|             tempo|        artists_song|\n",
      "+------------------+----+------------+--------------+------------------+-----------+------------------+--------+--------------------+--------------------+---+--------+-------------------+----+--------------------+----------+-----------+------------------+--------------------+\n",
      "|             0.285|2000|     0.00239|      Coldplay|             0.429|     266773|0.6609999999999999|       0|3AJwUDP919kvQ9Qco...|             1.21E-4| 11|   0.234|             -7.227|   1|              Yellow|        84|     0.0281|           173.372|   Coldplay - Yellow|\n",
      "|             0.613|2000|       0.143|       OutKast|             0.843|     270507|0.8059999999999999|       1|0I3q5fE6wg7LIfHGn...|                 0.0|  4|  0.0771|-5.9460000000000015|   0|         Ms. Jackson|        80|      0.269|            94.948|OutKast - Ms. Jac...|\n",
      "|               0.4|2000|     0.00958|   Linkin Park|             0.556|     216880|0.8640000000000001|       0|60a0Rd6pjrkxjPbaK...|                 0.0|  3|   0.209|              -5.87|   0|          In the End|        84|     0.0584|           105.143|Linkin Park - In ...|\n",
      "|0.5429999999999999|2000|     0.00664|  3 Doors Down|             0.545|     233933|             0.865|       0|6ZOBP3NvffbU4SZcr...|              1.1E-5| 11|   0.168|-5.7079999999999975|   0|          Kryptonite|        78|     0.0286|            99.009|3 Doors Down - Kr...|\n",
      "|              0.76|2000|      0.0302|        Eminem|             0.949|     284200|0.6609999999999999|       1|3yfqSUWxFvZELEM4P...|                 0.0|  5|  0.0454|             -4.244|   0| The Real Slim Shady|        80|     0.0572|           104.504|Eminem - The Real...|\n",
      "|             0.941|2000|     9.96E-4|     Disturbed|             0.695|     279213|0.8759999999999999|       1|40rvBMQizxkIqnjPd...|             6.89E-6|  3|   0.106|             -4.262|   0|Down with the Sic...|        76|     0.0553|            89.954|Disturbed - Down ...|\n",
      "|             0.722|2000|      0.0616|         Nelly|              0.85|     291782|               0.7|       1|3Gf5nttwcX9aaSQXR...|              1.8E-6|  7|   0.244|              -6.49|   1|         Ride Wit Me|        74|     0.0478|           101.875| Nelly - Ride Wit Me|\n",
      "|             0.507|2000|      0.0371|        Eminem|              0.78|     404107|             0.768|       1|3UmaczJpikHgJFyBT...|             2.34E-6|  6|   0.518|             -4.325|   0|                Stan|        78|      0.238|            80.063|       Eminem - Stan|\n",
      "|             0.861|2000|       0.031|        *NSYNC|              0.61|     200400|             0.926|       0|62bOmKYxYg7dhrC6g...|              0.0012|  8|  0.0821|             -4.843|   0|         Bye Bye Bye|        71|     0.0479|           172.638|*NSYNC - Bye Bye Bye|\n",
      "|             0.894|2000|         0.3|Britney Spears|0.7509999999999999|     211160|0.8340000000000001|       0|6naxalmIoLFWR0siv...|             1.77E-5|  1|   0.355|             -5.444|   0|Oops!...I Did It ...|        78|     0.0437|            95.053|Britney Spears - ...|\n",
      "|             0.165|2000|       0.748|      Coldplay|             0.371|     227093|             0.268|       0|7D0RhFcb3CrfPuTJ0...|              0.0517|  1|   0.104|-10.505999999999998|   1|              Sparks|        73|     0.0281|           102.617|   Coldplay - Sparks|\n",
      "|0.5379999999999999|2000|      0.0014|   Linkin Park|0.4920000000000001|     157333|             0.969|       0|3K4HG9evC7dg3N0R9...|             1.32E-6|  9|  0.0787|             -4.419|   1|     One Step Closer|        76|     0.0491|            95.136|Linkin Park - One...|\n",
      "|             0.654|2000|      0.0561|        Shaggy|             0.853|     227600|             0.606|       0|3WkibOpDF7cQ5xntM...|                 0.0|  0|   0.313|             -4.596|   1|        It Wasn't Me|        76|     0.0713|            94.759|Shaggy - It Wasn'...|\n",
      "|             0.565|2000|     0.00689|         Nelly|             0.865|     287000|             0.664|       1|3wMUvT6eIw2L5cZFG...|                 0.0|  2|   0.142|             -6.822|   1|Country Grammar (...|        70|      0.108|162.83100000000005|Nelly - Country G...|\n",
      "|             0.532|2000|      0.0112|   The Beatles|             0.386|     425653|             0.607|       0|0aym2LBJBk9DAYuHH...|1.380000000000000...| 10|   0.088|               -7.7|   1|Hey Jude - Remast...|        76|     0.0261|           147.207|The Beatles - Hey...|\n",
      "|             0.866|2000|       0.386|   The Beatles|              0.49|     145747|             0.715|       0|4pbG9SUmWIvsROVLF...|                 0.0|  7|   0.311|             -5.549|   1|I Want To Hold Yo...|        73|     0.0476|           130.726|The Beatles - I W...|\n",
      "|             0.435|2000|     0.00118|     Lifehouse|             0.541|     216067|0.8640000000000001|       0|0wqOReZDnrefefEsr...|                 0.0|  1|  0.0896|             -4.915|   1| Hanging By A Moment|        65|     0.0357|           124.557|Lifehouse - Hangi...|\n",
      "|             0.299|2000|      0.0466|   Linkin Park|              0.58|     208960|0.7020000000000001|       0|57BrRMwf9LrcmuOsy...|              3.2E-6|  4|   0.536|             -5.565|   1|            Crawling|        73|     0.0337|           105.076|Linkin Park - Cra...|\n",
      "|             0.915|2000|      0.0281|       OutKast|             0.725|     240027|              0.64|       1|6glsMWIMIxQ4BedzL...|                 0.0|  5|   0.099|             -7.905|   0|  So Fresh, So Clean|        68|      0.332|           166.028|OutKast - So Fres...|\n",
      "|             0.885|2000|       0.627|     Sam Cooke|             0.691|     125440|             0.507|       0|2g2GkH3vZHk4lWzBj...|                 0.0| 11|   0.457|             -10.23|   1|(What A) Wonderfu...|        72|     0.0343|           128.518|Sam Cooke - (What...|\n",
      "+------------------+----+------------+--------------+------------------+-----------+------------------+--------+--------------------+--------------------+---+--------+-------------------+----+--------------------+----------+-----------+------------------+--------------------+\n",
      "only showing top 20 rows\n",
      "\n"
     ]
    }
   ],
   "source": [
    "dados.show()"
   ]
  },
  {
   "cell_type": "code",
   "execution_count": 203,
   "id": "ee21ffc2",
   "metadata": {},
   "outputs": [
    {
     "data": {
      "text/plain": [
       "['valence',\n",
       " 'year',\n",
       " 'acousticness',\n",
       " 'danceability',\n",
       " 'duration_ms',\n",
       " 'energy',\n",
       " 'explicit',\n",
       " 'instrumentalness',\n",
       " 'key',\n",
       " 'liveness',\n",
       " 'loudness',\n",
       " 'mode',\n",
       " 'popularity',\n",
       " 'speechiness',\n",
       " 'tempo']"
      ]
     },
     "execution_count": 203,
     "metadata": {},
     "output_type": "execute_result"
    }
   ],
   "source": [
    "# Vamos assim como antes, vetorizar os nossos dados:\n",
    "\n",
    "X = dados.columns\n",
    "X.remove('artists')\n",
    "X.remove('id')\n",
    "X.remove('name')\n",
    "X.remove('artists_song')\n",
    "X"
   ]
  },
  {
   "cell_type": "code",
   "execution_count": 204,
   "id": "d0e9513e",
   "metadata": {},
   "outputs": [],
   "source": [
    "dados_encoded_vetor = VectorAssembler(inputCols=X, outputCol = 'features').transform(dados)"
   ]
  },
  {
   "cell_type": "code",
   "execution_count": 205,
   "id": "7d04b02f",
   "metadata": {},
   "outputs": [
    {
     "name": "stdout",
     "output_type": "stream",
     "text": [
      "+-------------------------------------------------------------------------------------------------------------------------+\n",
      "|features                                                                                                                 |\n",
      "+-------------------------------------------------------------------------------------------------------------------------+\n",
      "|[0.285,2000.0,0.00239,0.429,266773.0,0.6609999999999999,0.0,1.21E-4,11.0,0.234,-7.227,1.0,84.0,0.0281,173.372]           |\n",
      "|[0.613,2000.0,0.143,0.843,270507.0,0.8059999999999999,1.0,0.0,4.0,0.0771,-5.9460000000000015,0.0,80.0,0.269,94.948]      |\n",
      "|[0.4,2000.0,0.00958,0.556,216880.0,0.8640000000000001,0.0,0.0,3.0,0.209,-5.87,0.0,84.0,0.0584,105.143]                   |\n",
      "|[0.5429999999999999,2000.0,0.00664,0.545,233933.0,0.865,0.0,1.1E-5,11.0,0.168,-5.7079999999999975,0.0,78.0,0.0286,99.009]|\n",
      "|[0.76,2000.0,0.0302,0.949,284200.0,0.6609999999999999,1.0,0.0,5.0,0.0454,-4.244,0.0,80.0,0.0572,104.504]                 |\n",
      "+-------------------------------------------------------------------------------------------------------------------------+\n",
      "only showing top 5 rows\n",
      "\n"
     ]
    }
   ],
   "source": [
    "dados_encoded_vetor.select('features').show(truncate = False, n = 5)"
   ]
  },
  {
   "cell_type": "code",
   "execution_count": 206,
   "id": "eb896cd2",
   "metadata": {},
   "outputs": [],
   "source": [
    "# O último passo antes do PCA é escalar os nossos dados:\n",
    "\n",
    "scaler = StandardScaler(inputCol = 'features', outputCol = 'features_scaled')\n",
    "model_scaler = scaler.fit(dados_encoded_vetor)\n",
    "dados_musicas_scaler = model_scaler.transform(dados_encoded_vetor)"
   ]
  },
  {
   "cell_type": "code",
   "execution_count": 207,
   "id": "341c82a0",
   "metadata": {},
   "outputs": [
    {
     "name": "stdout",
     "output_type": "stream",
     "text": [
      "+------------------------------------------------------------------------------------------------------------------------------------------------------------------------------------------------------------------------------------------------------------------------------+\n",
      "|features_scaled                                                                                                                                                                                                                                                               |\n",
      "+------------------------------------------------------------------------------------------------------------------------------------------------------------------------------------------------------------------------------------------------------------------------------+\n",
      "|[1.156596679221045,329.8170613984441,0.008403188822334736,2.5040545743834373,3.7858811737298526,2.980511298201045,0.0,6.070790766862789E-4,3.0696424994844875,1.4832857988766257,-1.672877140523799,2.1095281038799514,7.265838057312001,0.2649447312760731,5.617072632181055]|\n",
      "|[2.4876974188157917,329.8170613984441,0.5027849379053837,4.9205547930192015,3.8388718448349017,3.634329964220942,2.2283306931828584,0.0,1.1162336361761773,0.48872365424524716,-1.3763563688327813,0.0,6.919845768868572,2.536303655276287,3.0762165302374473]                |\n",
      "|[1.6232935848716423,329.8170613984441,0.033683074861073956,3.2453481197137326,3.0778298739322585,3.8958574306289013,0.0,0.0,0.837175227132133,1.324815093868439,-1.3587641919018543,0.0,7.265838057312001,0.5506324664242943,3.4065239356148203]                              |\n",
      "|[2.203621041463254,329.8170613984441,0.023346097816026208,3.181141592165439,3.3198357428006045,3.9003665248773136,0.0,5.5189006971479895E-5,3.0696424994844875,1.0649231376550132,-1.3212650779175095,0.0,6.746849624646858,0.2696590503379249,3.207788710054761]             |\n",
      "|[3.0842578112561205,329.8170613984441,0.10618255331987825,5.539272240302755,4.033194624546053,2.980511298201045,2.2283306931828584,0.0,1.3952920452202218,0.2877828002948667,-0.982384195984918,0.0,6.919845768868572,0.5393181006758498,3.385820999662281]                   |\n",
      "+------------------------------------------------------------------------------------------------------------------------------------------------------------------------------------------------------------------------------------------------------------------------------+\n",
      "only showing top 5 rows\n",
      "\n"
     ]
    }
   ],
   "source": [
    "dados_musicas_scaler.select('features_scaled').show(truncate = False, n = 5)"
   ]
  },
  {
   "cell_type": "code",
   "execution_count": 208,
   "id": "31d6a113",
   "metadata": {},
   "outputs": [],
   "source": [
    "# Chegou a hora do PCA! Antes, usamos apenas 2 componentes principais para conseguirmos plotar um gráfico. Mas como o resultado\n",
    "# não foi satisfatório, vamos usar mais folds. Começaremos usando 15 componentes (sem redução por enquanto):\n",
    "\n",
    "pca = PCA(k=15, inputCol = 'features_scaled', outputCol = 'pca_features')"
   ]
  },
  {
   "cell_type": "code",
   "execution_count": 209,
   "id": "7d502f9f",
   "metadata": {},
   "outputs": [],
   "source": [
    "model_pca = pca.fit(dados_musicas_scaler)\n",
    "dados_musicais_pca = model_pca.transform(dados_musicas_scaler)"
   ]
  },
  {
   "cell_type": "code",
   "execution_count": 210,
   "id": "19933dc5",
   "metadata": {},
   "outputs": [
    {
     "data": {
      "text/plain": [
       "99.99999999999999"
      ]
     },
     "execution_count": 210,
     "metadata": {},
     "output_type": "execute_result"
    }
   ],
   "source": [
    "# Como esperado, a explicação da variância é praticamente completa:\n",
    "sum(model_pca.explainedVariance)*100"
   ]
  },
  {
   "cell_type": "code",
   "execution_count": 211,
   "id": "794dc763",
   "metadata": {},
   "outputs": [
    {
     "data": {
      "text/plain": [
       "[0.21297354127107343,\n",
       " 0.34597741622955064,\n",
       " 0.43989805678254446,\n",
       " 0.5267820578269102,\n",
       " 0.6001038103117928,\n",
       " 0.6665719513652388,\n",
       " 0.7282174213581727,\n",
       " 0.7845103843321022,\n",
       " 0.8350002357002613,\n",
       " 0.8812446547406768,\n",
       " 0.9151737562703046,\n",
       " 0.9435370133056037,\n",
       " 0.9699018569070159,\n",
       " 0.9900947792885578,\n",
       " 0.9999999999999999]"
      ]
     },
     "execution_count": 211,
     "metadata": {},
     "output_type": "execute_result"
    }
   ],
   "source": [
    "# Vamos testar a explicação da variância com vários valores de componentes escolhidas:\n",
    "\n",
    "lista_valores = [sum(model_pca.explainedVariance[0:i+1]) for i in range(15)]\n",
    "lista_valores\n",
    "\n",
    "# Cada valor abaixo é a variância explicada conforme adicionamos mais um componente:"
   ]
  },
  {
   "cell_type": "code",
   "execution_count": 212,
   "id": "80e4bd18",
   "metadata": {},
   "outputs": [],
   "source": [
    "import numpy as np"
   ]
  },
  {
   "cell_type": "code",
   "execution_count": 213,
   "id": "c20c1b37",
   "metadata": {},
   "outputs": [
    {
     "data": {
      "text/plain": [
       "6"
      ]
     },
     "execution_count": 213,
     "metadata": {},
     "output_type": "execute_result"
    }
   ],
   "source": [
    "# Quantas componentes foram necessárias para explicarmos 70%: \n",
    "k = sum(np.array(lista_valores) <= 0.7)\n",
    "k\n",
    "# ou seja, podemos usar 6 componentes para explicar 70%."
   ]
  },
  {
   "cell_type": "code",
   "execution_count": 214,
   "id": "b12ea0ce",
   "metadata": {},
   "outputs": [],
   "source": [
    "pca = PCA(k=6, inputCol='features_scaled', outputCol='pca_features')\n",
    "model_pca = pca.fit(dados_musicas_scaler)\n",
    "dados_musicas_pca_final = model_pca.transform(dados_musicas_scaler)"
   ]
  },
  {
   "cell_type": "code",
   "execution_count": 215,
   "id": "63e03cf3",
   "metadata": {},
   "outputs": [
    {
     "name": "stdout",
     "output_type": "stream",
     "text": [
      "+----------------------------------------------------------------------------------------------------------------------+\n",
      "|pca_features                                                                                                          |\n",
      "+----------------------------------------------------------------------------------------------------------------------+\n",
      "|[-34.71004464775703,-165.36848784906184,-11.163498729833321,-139.11374280854437,-14.152192300931375,6.254422223810392]|\n",
      "|[-36.498857627749054,-167.85185045616558,-10.729023248907561,-135.904352656713,-13.388401890587229,3.972980727830861] |\n",
      "|[-35.460300916940554,-165.99633344577887,-11.361290348241594,-138.24276881247,-13.866654919305782,4.342675920458719]  |\n",
      "|[-35.56301325520583,-165.59515096480607,-11.46022600703138,-137.52095740570041,-15.56854280392272,4.542073725584272]  |\n",
      "|[-36.54556974907567,-167.37512505802482,-11.881276527236555,-136.27798590243984,-14.056847990344538,3.583390145779156]|\n",
      "+----------------------------------------------------------------------------------------------------------------------+\n",
      "only showing top 5 rows\n",
      "\n"
     ]
    }
   ],
   "source": [
    "dados_musicas_pca_final.select('pca_features').show(truncate = False, n = 5)"
   ]
  },
  {
   "cell_type": "code",
   "execution_count": 216,
   "id": "a869670a",
   "metadata": {},
   "outputs": [
    {
     "data": {
      "text/plain": [
       "66.65719513652388"
      ]
     },
     "execution_count": 216,
     "metadata": {},
     "output_type": "execute_result"
    }
   ],
   "source": [
    "# Verificando o quanto explicamos:\n",
    "\n",
    "sum(model_pca.explainedVariance)*100"
   ]
  },
  {
   "cell_type": "markdown",
   "id": "2f1c676d",
   "metadata": {},
   "source": [
    "## Criação dos Clusters"
   ]
  },
  {
   "cell_type": "code",
   "execution_count": 217,
   "id": "db5bbed8",
   "metadata": {},
   "outputs": [],
   "source": [
    "pca_pipeline = Pipeline(stages=[VectorAssembler(inputCols=X, outputCol='features'),\n",
    "                                StandardScaler(inputCol='features', outputCol='features_scaled'),\n",
    "                                PCA(k=6, inputCol='features_scaled', outputCol='pca_features')])\n"
   ]
  },
  {
   "cell_type": "code",
   "execution_count": 218,
   "id": "4ae8b2c9",
   "metadata": {},
   "outputs": [],
   "source": [
    "model_pca_pipeline = pca_pipeline.fit(dados)"
   ]
  },
  {
   "cell_type": "code",
   "execution_count": 219,
   "id": "9a524394",
   "metadata": {},
   "outputs": [],
   "source": [
    "projection = model_pca_pipeline.transform(dados)"
   ]
  },
  {
   "cell_type": "code",
   "execution_count": 220,
   "id": "2cc0a992",
   "metadata": {},
   "outputs": [
    {
     "name": "stdout",
     "output_type": "stream",
     "text": [
      "+----------------------------------------------------------------------------------------------------------------------+\n",
      "|pca_features                                                                                                          |\n",
      "+----------------------------------------------------------------------------------------------------------------------+\n",
      "|[-34.71004464775703,-165.36848784906184,-11.163498729833321,-139.11374280854437,-14.152192300931375,6.254422223810392]|\n",
      "|[-36.498857627749054,-167.85185045616558,-10.729023248907561,-135.904352656713,-13.388401890587229,3.972980727830861] |\n",
      "|[-35.460300916940554,-165.99633344577887,-11.361290348241594,-138.24276881247,-13.866654919305782,4.342675920458719]  |\n",
      "|[-35.56301325520583,-165.59515096480607,-11.46022600703138,-137.52095740570041,-15.56854280392272,4.542073725584272]  |\n",
      "|[-36.54556974907567,-167.37512505802482,-11.881276527236555,-136.27798590243984,-14.056847990344538,3.583390145779156]|\n",
      "+----------------------------------------------------------------------------------------------------------------------+\n",
      "only showing top 5 rows\n",
      "\n"
     ]
    }
   ],
   "source": [
    "projection.select('pca_features').show(truncate=False, n = 5)"
   ]
  },
  {
   "cell_type": "code",
   "execution_count": 221,
   "id": "d6b837b0",
   "metadata": {},
   "outputs": [],
   "source": [
    "kmeans = KMeans(k=50, featuresCol = 'pca_features', predictionCol = 'cluster_pca', seed = SEED)"
   ]
  },
  {
   "cell_type": "code",
   "execution_count": 222,
   "id": "de4efcd7",
   "metadata": {},
   "outputs": [],
   "source": [
    "modelo_kmeans = kmeans.fit(projection)"
   ]
  },
  {
   "cell_type": "code",
   "execution_count": 223,
   "id": "986766b3",
   "metadata": {},
   "outputs": [],
   "source": [
    "projection_kmeans = modelo_kmeans.transform(projection)"
   ]
  },
  {
   "cell_type": "code",
   "execution_count": 224,
   "id": "637c93bd",
   "metadata": {},
   "outputs": [
    {
     "name": "stdout",
     "output_type": "stream",
     "text": [
      "+--------------------+-----------+\n",
      "|        pca_features|cluster_pca|\n",
      "+--------------------+-----------+\n",
      "|[-34.710044647757...|          8|\n",
      "|[-36.498857627749...|         11|\n",
      "|[-35.460300916940...|         34|\n",
      "|[-35.563013255205...|         34|\n",
      "|[-36.545569749075...|         36|\n",
      "|[-36.713222290262...|         16|\n",
      "|[-36.013246178822...|         18|\n",
      "|[-36.542687712104...|         13|\n",
      "|[-36.425249009784...|         15|\n",
      "|[-35.872074915770...|         25|\n",
      "|[-31.639065936568...|         28|\n",
      "|[-35.661446890546...|          7|\n",
      "|[-35.574542234850...|         14|\n",
      "|[-36.022399748656...|         18|\n",
      "|[-34.336941950985...|         42|\n",
      "|[-35.096906055142...|         26|\n",
      "|[-35.202423054032...|          6|\n",
      "|[-34.942948671026...|          6|\n",
      "|[-36.617404517517...|         11|\n",
      "|[-34.296973387410...|         39|\n",
      "+--------------------+-----------+\n",
      "only showing top 20 rows\n",
      "\n"
     ]
    }
   ],
   "source": [
    "projection_kmeans.select('pca_features','cluster_pca').show()"
   ]
  },
  {
   "cell_type": "markdown",
   "id": "9ea9cd71",
   "metadata": {},
   "source": [
    "## Sistema de Recomendação"
   ]
  },
  {
   "cell_type": "raw",
   "id": "8f4e8e19",
   "metadata": {},
   "source": [
    "Agora que rodamos o K-means, podemos pensar mais sobre o sistema de recomendação. Vamos descobrir como determinar as distâncias euclidianas. Vamos começar definindo uma música de interesse:"
   ]
  },
  {
   "cell_type": "code",
   "execution_count": 225,
   "id": "05ea5cb1",
   "metadata": {},
   "outputs": [],
   "source": [
    "nome_musica = 'Taylor Swift - Blank Space'"
   ]
  },
  {
   "cell_type": "code",
   "execution_count": 226,
   "id": "ff770a51",
   "metadata": {},
   "outputs": [
    {
     "data": {
      "text/plain": [
       "29"
      ]
     },
     "execution_count": 226,
     "metadata": {},
     "output_type": "execute_result"
    }
   ],
   "source": [
    "# Precisamos descobrir em qual cluster essa música está:\n",
    "\n",
    "cluster = projection_kmeans.filter(projection_kmeans.artists_song == nome_musica).select('cluster_pca').collect()[0][0]\n",
    "cluster"
   ]
  },
  {
   "cell_type": "raw",
   "id": "c318bd70",
   "metadata": {},
   "source": [
    "Ou seja, acima vemos que a música que escolhemos está no cluster 29. O próximo passo é descobrir quais as outras músicas que estão nesse cluster para recomendarmos:"
   ]
  },
  {
   "cell_type": "code",
   "execution_count": 227,
   "id": "f4deca08",
   "metadata": {},
   "outputs": [
    {
     "name": "stdout",
     "output_type": "stream",
     "text": [
      "+--------------------+--------------------+--------------------+\n",
      "|        artists_song|                  id|        pca_features|\n",
      "+--------------------+--------------------+--------------------+\n",
      "|Train - Drops of ...|2hKdd3qO7cWr2Jo0B...|[-34.321717368827...|\n",
      "|John Mayer - Your...|7vFv0yFGMJW3qVXbA...|[-35.165989489466...|\n",
      "|Maroon 5 - She Wi...|4llK75pXNWZz6KAho...|[-34.809059512962...|\n",
      "|Avril Lavigne - C...|5xEM5hIgJ1jjgcEBf...|[-35.035756557524...|\n",
      "|Maroon 5 - She Wi...|7sapKrjDij2fpDVj0...|[-35.295324738918...|\n",
      "|Good Charlotte - ...|2g2a5kDeZexbUTD8a...|[-35.821614291214...|\n",
      "|Red Hot Chili Pep...|1ndGB6rvxKYN9seCY...|[-35.458611626516...|\n",
      "|Ricardo Arjona - ...|5UJsYyBi0CdSJl0ul...|[-34.355738031951...|\n",
      "|Beyoncé - Crazy I...|5IVuqXILoxVWvWEPm...|[-35.828451654161...|\n",
      "|     OutKast - Roses|6bUNEbXT7HovLW6Bg...|[-35.559526721657...|\n",
      "|Usher - Yeah! (fe...|5rb9QrpfcKFHM1EUb...|[-36.050436933493...|\n",
      "|Kelly Clarkson - ...|3xrn9i8zhNZsTtcoW...|[-35.191226411336...|\n",
      "|Modest Mouse - Fl...|2lwwrWVKdf3LR9lbb...|[-35.636284459488...|\n",
      "|Ciara - Oh (feat....|7i7UIbm5E0DD7aSOY...|[-34.691424047370...|\n",
      "|Daddy Yankee - Tu...|0Q7ZM15J0cJA9rd7p...|[-35.593015761580...|\n",
      "|       RBD - Sálvame|3hbTkJ0yFzHbawnKy...|[-34.280357602324...|\n",
      "| Keyshia Cole - Love|0W4NhJhcqKCqEP2GI...|[-34.751332435196...|\n",
      "|Rihanna - Pon de ...|4TsmezEQVSZNNPv5R...|[-35.224620378226...|\n",
      "|Korn - Coming Undone|6p2liQLGoDaLXgND6...|[-35.272207170621...|\n",
      "|Chris Brown - Yo ...|7DFnq8FYhHMCylykf...|[-35.112344117719...|\n",
      "+--------------------+--------------------+--------------------+\n",
      "only showing top 20 rows\n",
      "\n"
     ]
    }
   ],
   "source": [
    "musicas_recomendadas = projection_kmeans.filter(projection_kmeans.cluster_pca == cluster)\\\n",
    "    .select('artists_song','id','pca_features')\n",
    "\n",
    "musicas_recomendadas.show()"
   ]
  },
  {
   "cell_type": "raw",
   "id": "d5585af3",
   "metadata": {},
   "source": [
    "Agora que selecionamos as músicas que estão no cluster 29, qual a distância da nossa música de referência da Taylor Swift para as outras músicas desse cluster 29?"
   ]
  },
  {
   "cell_type": "code",
   "execution_count": 228,
   "id": "ec2f57c7",
   "metadata": {},
   "outputs": [
    {
     "data": {
      "text/plain": [
       "DenseVector([-35.461, -166.9658, -12.7925, -137.9457, -13.1234, 4.1374])"
      ]
     },
     "execution_count": 228,
     "metadata": {},
     "output_type": "execute_result"
    }
   ],
   "source": [
    "componentes_musica = musicas_recomendadas.filter(musicas_recomendadas.artists_song == nome_musica)\\\n",
    "    .select('pca_features').collect()[0][0]\n",
    "\n",
    "componentes_musica"
   ]
  },
  {
   "cell_type": "raw",
   "id": "317fc2b7",
   "metadata": {},
   "source": [
    "Acima, o que temos são os 6 componentes que representam a nossa música de referência."
   ]
  },
  {
   "cell_type": "code",
   "execution_count": 229,
   "id": "073663b5",
   "metadata": {},
   "outputs": [],
   "source": [
    "from scipy.spatial.distance import euclidean\n",
    "from pyspark.sql.types import FloatType\n",
    "\n",
    "def calcula_distance(value):\n",
    "    return euclidean(componentes_musica, value)\n",
    "    \n",
    "udf_calcula_distance = f.udf(calcula_distance, FloatType()) \n",
    "\n",
    "musicas_recomendadas_dist = musicas_recomendadas.withColumn('Dist', udf_calcula_distance('pca_features'))"
   ]
  },
  {
   "cell_type": "raw",
   "id": "20db9575",
   "metadata": {},
   "source": [
    "Agora, temos uma coluna no dataframe com a distância de uma música para a música de referência. Podemos ordenar os registros segundo sua distância para a música de referência, ou seja, músicas\n",
    "mais próximas serão recomendadas:"
   ]
  },
  {
   "cell_type": "code",
   "execution_count": 230,
   "id": "bbbedfa7",
   "metadata": {},
   "outputs": [
    {
     "ename": "Py4JJavaError",
     "evalue": "An error occurred while calling o2627.collectToPython.\n: org.apache.spark.SparkException: Job aborted due to stage failure: Task 0 in stage 417.0 failed 1 times, most recent failure: Lost task 0.0 in stage 417.0 (TID 391) (Vinicius executor driver): org.apache.spark.SparkException: Python worker exited unexpectedly (crashed)\r\n\tat org.apache.spark.api.python.BasePythonRunner$ReaderIterator$$anonfun$1.applyOrElse(PythonRunner.scala:612)\r\n\tat org.apache.spark.api.python.BasePythonRunner$ReaderIterator$$anonfun$1.applyOrElse(PythonRunner.scala:594)\r\n\tat scala.runtime.AbstractPartialFunction.apply(AbstractPartialFunction.scala:38)\r\n\tat org.apache.spark.sql.execution.python.BasePythonUDFRunner$$anon$1.read(PythonUDFRunner.scala:99)\r\n\tat org.apache.spark.sql.execution.python.BasePythonUDFRunner$$anon$1.read(PythonUDFRunner.scala:75)\r\n\tat org.apache.spark.api.python.BasePythonRunner$ReaderIterator.hasNext(PythonRunner.scala:525)\r\n\tat org.apache.spark.InterruptibleIterator.hasNext(InterruptibleIterator.scala:37)\r\n\tat scala.collection.Iterator$$anon$11.hasNext(Iterator.scala:491)\r\n\tat scala.collection.Iterator$$anon$10.hasNext(Iterator.scala:460)\r\n\tat scala.collection.Iterator$$anon$10.hasNext(Iterator.scala:460)\r\n\tat org.apache.spark.sql.catalyst.expressions.GeneratedClass$GeneratedIteratorForCodegenStage2.processNext(Unknown Source)\r\n\tat org.apache.spark.sql.execution.BufferedRowIterator.hasNext(BufferedRowIterator.java:43)\r\n\tat org.apache.spark.sql.execution.WholeStageCodegenEvaluatorFactory$WholeStageCodegenPartitionEvaluator$$anon$1.hasNext(WholeStageCodegenEvaluatorFactory.scala:43)\r\n\tat scala.collection.Iterator$$anon$10.hasNext(Iterator.scala:460)\r\n\tat scala.collection.Iterator.isEmpty(Iterator.scala:387)\r\n\tat scala.collection.Iterator.isEmpty$(Iterator.scala:387)\r\n\tat scala.collection.AbstractIterator.isEmpty(Iterator.scala:1431)\r\n\tat scala.collection.TraversableOnce.nonEmpty(TraversableOnce.scala:143)\r\n\tat scala.collection.TraversableOnce.nonEmpty$(TraversableOnce.scala:143)\r\n\tat scala.collection.AbstractIterator.nonEmpty(Iterator.scala:1431)\r\n\tat org.apache.spark.rdd.RDD.$anonfun$takeOrdered$2(RDD.scala:1556)\r\n\tat org.apache.spark.rdd.RDD.$anonfun$takeOrdered$2$adapted(RDD.scala:1555)\r\n\tat org.apache.spark.rdd.RDD.$anonfun$mapPartitionsWithIndex$2(RDD.scala:907)\r\n\tat org.apache.spark.rdd.RDD.$anonfun$mapPartitionsWithIndex$2$adapted(RDD.scala:907)\r\n\tat org.apache.spark.rdd.MapPartitionsRDD.compute(MapPartitionsRDD.scala:52)\r\n\tat org.apache.spark.rdd.RDD.computeOrReadCheckpoint(RDD.scala:364)\r\n\tat org.apache.spark.rdd.RDD.iterator(RDD.scala:328)\r\n\tat org.apache.spark.scheduler.ResultTask.runTask(ResultTask.scala:93)\r\n\tat org.apache.spark.TaskContext.runTaskWithListeners(TaskContext.scala:161)\r\n\tat org.apache.spark.scheduler.Task.run(Task.scala:141)\r\n\tat org.apache.spark.executor.Executor$TaskRunner.$anonfun$run$4(Executor.scala:620)\r\n\tat org.apache.spark.util.SparkErrorUtils.tryWithSafeFinally(SparkErrorUtils.scala:64)\r\n\tat org.apache.spark.util.SparkErrorUtils.tryWithSafeFinally$(SparkErrorUtils.scala:61)\r\n\tat org.apache.spark.util.Utils$.tryWithSafeFinally(Utils.scala:94)\r\n\tat org.apache.spark.executor.Executor$TaskRunner.run(Executor.scala:623)\r\n\tat java.util.concurrent.ThreadPoolExecutor.runWorker(Unknown Source)\r\n\tat java.util.concurrent.ThreadPoolExecutor$Worker.run(Unknown Source)\r\n\tat java.lang.Thread.run(Unknown Source)\r\nCaused by: java.io.EOFException\r\n\tat java.io.DataInputStream.readInt(Unknown Source)\r\n\tat org.apache.spark.sql.execution.python.BasePythonUDFRunner$$anon$1.read(PythonUDFRunner.scala:83)\r\n\t... 34 more\r\n\nDriver stacktrace:\r\n\tat org.apache.spark.scheduler.DAGScheduler.failJobAndIndependentStages(DAGScheduler.scala:2844)\r\n\tat org.apache.spark.scheduler.DAGScheduler.$anonfun$abortStage$2(DAGScheduler.scala:2780)\r\n\tat org.apache.spark.scheduler.DAGScheduler.$anonfun$abortStage$2$adapted(DAGScheduler.scala:2779)\r\n\tat scala.collection.mutable.ResizableArray.foreach(ResizableArray.scala:62)\r\n\tat scala.collection.mutable.ResizableArray.foreach$(ResizableArray.scala:55)\r\n\tat scala.collection.mutable.ArrayBuffer.foreach(ArrayBuffer.scala:49)\r\n\tat org.apache.spark.scheduler.DAGScheduler.abortStage(DAGScheduler.scala:2779)\r\n\tat org.apache.spark.scheduler.DAGScheduler.$anonfun$handleTaskSetFailed$1(DAGScheduler.scala:1242)\r\n\tat org.apache.spark.scheduler.DAGScheduler.$anonfun$handleTaskSetFailed$1$adapted(DAGScheduler.scala:1242)\r\n\tat scala.Option.foreach(Option.scala:407)\r\n\tat org.apache.spark.scheduler.DAGScheduler.handleTaskSetFailed(DAGScheduler.scala:1242)\r\n\tat org.apache.spark.scheduler.DAGSchedulerEventProcessLoop.doOnReceive(DAGScheduler.scala:3048)\r\n\tat org.apache.spark.scheduler.DAGSchedulerEventProcessLoop.onReceive(DAGScheduler.scala:2982)\r\n\tat org.apache.spark.scheduler.DAGSchedulerEventProcessLoop.onReceive(DAGScheduler.scala:2971)\r\n\tat org.apache.spark.util.EventLoop$$anon$1.run(EventLoop.scala:49)\r\n\tat org.apache.spark.scheduler.DAGScheduler.runJob(DAGScheduler.scala:984)\r\n\tat org.apache.spark.SparkContext.runJob(SparkContext.scala:2398)\r\n\tat org.apache.spark.SparkContext.runJob(SparkContext.scala:2493)\r\n\tat org.apache.spark.rdd.RDD.$anonfun$reduce$1(RDD.scala:1136)\r\n\tat org.apache.spark.rdd.RDDOperationScope$.withScope(RDDOperationScope.scala:151)\r\n\tat org.apache.spark.rdd.RDDOperationScope$.withScope(RDDOperationScope.scala:112)\r\n\tat org.apache.spark.rdd.RDD.withScope(RDD.scala:407)\r\n\tat org.apache.spark.rdd.RDD.reduce(RDD.scala:1118)\r\n\tat org.apache.spark.rdd.RDD.$anonfun$takeOrdered$1(RDD.scala:1565)\r\n\tat org.apache.spark.rdd.RDDOperationScope$.withScope(RDDOperationScope.scala:151)\r\n\tat org.apache.spark.rdd.RDDOperationScope$.withScope(RDDOperationScope.scala:112)\r\n\tat org.apache.spark.rdd.RDD.withScope(RDD.scala:407)\r\n\tat org.apache.spark.rdd.RDD.takeOrdered(RDD.scala:1552)\r\n\tat org.apache.spark.sql.execution.TakeOrderedAndProjectExec.executeCollect(limit.scala:291)\r\n\tat org.apache.spark.sql.Dataset.$anonfun$collectToPython$1(Dataset.scala:4160)\r\n\tat org.apache.spark.sql.Dataset.$anonfun$withAction$2(Dataset.scala:4334)\r\n\tat org.apache.spark.sql.execution.QueryExecution$.withInternalError(QueryExecution.scala:546)\r\n\tat org.apache.spark.sql.Dataset.$anonfun$withAction$1(Dataset.scala:4332)\r\n\tat org.apache.spark.sql.execution.SQLExecution$.$anonfun$withNewExecutionId$6(SQLExecution.scala:125)\r\n\tat org.apache.spark.sql.execution.SQLExecution$.withSQLConfPropagated(SQLExecution.scala:201)\r\n\tat org.apache.spark.sql.execution.SQLExecution$.$anonfun$withNewExecutionId$1(SQLExecution.scala:108)\r\n\tat org.apache.spark.sql.SparkSession.withActive(SparkSession.scala:900)\r\n\tat org.apache.spark.sql.execution.SQLExecution$.withNewExecutionId(SQLExecution.scala:66)\r\n\tat org.apache.spark.sql.Dataset.withAction(Dataset.scala:4332)\r\n\tat org.apache.spark.sql.Dataset.collectToPython(Dataset.scala:4157)\r\n\tat sun.reflect.GeneratedMethodAccessor133.invoke(Unknown Source)\r\n\tat sun.reflect.DelegatingMethodAccessorImpl.invoke(Unknown Source)\r\n\tat java.lang.reflect.Method.invoke(Unknown Source)\r\n\tat py4j.reflection.MethodInvoker.invoke(MethodInvoker.java:244)\r\n\tat py4j.reflection.ReflectionEngine.invoke(ReflectionEngine.java:374)\r\n\tat py4j.Gateway.invoke(Gateway.java:282)\r\n\tat py4j.commands.AbstractCommand.invokeMethod(AbstractCommand.java:132)\r\n\tat py4j.commands.CallCommand.execute(CallCommand.java:79)\r\n\tat py4j.ClientServerConnection.waitForCommands(ClientServerConnection.java:182)\r\n\tat py4j.ClientServerConnection.run(ClientServerConnection.java:106)\r\n\tat java.lang.Thread.run(Unknown Source)\r\nCaused by: org.apache.spark.SparkException: Python worker exited unexpectedly (crashed)\r\n\tat org.apache.spark.api.python.BasePythonRunner$ReaderIterator$$anonfun$1.applyOrElse(PythonRunner.scala:612)\r\n\tat org.apache.spark.api.python.BasePythonRunner$ReaderIterator$$anonfun$1.applyOrElse(PythonRunner.scala:594)\r\n\tat scala.runtime.AbstractPartialFunction.apply(AbstractPartialFunction.scala:38)\r\n\tat org.apache.spark.sql.execution.python.BasePythonUDFRunner$$anon$1.read(PythonUDFRunner.scala:99)\r\n\tat org.apache.spark.sql.execution.python.BasePythonUDFRunner$$anon$1.read(PythonUDFRunner.scala:75)\r\n\tat org.apache.spark.api.python.BasePythonRunner$ReaderIterator.hasNext(PythonRunner.scala:525)\r\n\tat org.apache.spark.InterruptibleIterator.hasNext(InterruptibleIterator.scala:37)\r\n\tat scala.collection.Iterator$$anon$11.hasNext(Iterator.scala:491)\r\n\tat scala.collection.Iterator$$anon$10.hasNext(Iterator.scala:460)\r\n\tat scala.collection.Iterator$$anon$10.hasNext(Iterator.scala:460)\r\n\tat org.apache.spark.sql.catalyst.expressions.GeneratedClass$GeneratedIteratorForCodegenStage2.processNext(Unknown Source)\r\n\tat org.apache.spark.sql.execution.BufferedRowIterator.hasNext(BufferedRowIterator.java:43)\r\n\tat org.apache.spark.sql.execution.WholeStageCodegenEvaluatorFactory$WholeStageCodegenPartitionEvaluator$$anon$1.hasNext(WholeStageCodegenEvaluatorFactory.scala:43)\r\n\tat scala.collection.Iterator$$anon$10.hasNext(Iterator.scala:460)\r\n\tat scala.collection.Iterator.isEmpty(Iterator.scala:387)\r\n\tat scala.collection.Iterator.isEmpty$(Iterator.scala:387)\r\n\tat scala.collection.AbstractIterator.isEmpty(Iterator.scala:1431)\r\n\tat scala.collection.TraversableOnce.nonEmpty(TraversableOnce.scala:143)\r\n\tat scala.collection.TraversableOnce.nonEmpty$(TraversableOnce.scala:143)\r\n\tat scala.collection.AbstractIterator.nonEmpty(Iterator.scala:1431)\r\n\tat org.apache.spark.rdd.RDD.$anonfun$takeOrdered$2(RDD.scala:1556)\r\n\tat org.apache.spark.rdd.RDD.$anonfun$takeOrdered$2$adapted(RDD.scala:1555)\r\n\tat org.apache.spark.rdd.RDD.$anonfun$mapPartitionsWithIndex$2(RDD.scala:907)\r\n\tat org.apache.spark.rdd.RDD.$anonfun$mapPartitionsWithIndex$2$adapted(RDD.scala:907)\r\n\tat org.apache.spark.rdd.MapPartitionsRDD.compute(MapPartitionsRDD.scala:52)\r\n\tat org.apache.spark.rdd.RDD.computeOrReadCheckpoint(RDD.scala:364)\r\n\tat org.apache.spark.rdd.RDD.iterator(RDD.scala:328)\r\n\tat org.apache.spark.scheduler.ResultTask.runTask(ResultTask.scala:93)\r\n\tat org.apache.spark.TaskContext.runTaskWithListeners(TaskContext.scala:161)\r\n\tat org.apache.spark.scheduler.Task.run(Task.scala:141)\r\n\tat org.apache.spark.executor.Executor$TaskRunner.$anonfun$run$4(Executor.scala:620)\r\n\tat org.apache.spark.util.SparkErrorUtils.tryWithSafeFinally(SparkErrorUtils.scala:64)\r\n\tat org.apache.spark.util.SparkErrorUtils.tryWithSafeFinally$(SparkErrorUtils.scala:61)\r\n\tat org.apache.spark.util.Utils$.tryWithSafeFinally(Utils.scala:94)\r\n\tat org.apache.spark.executor.Executor$TaskRunner.run(Executor.scala:623)\r\n\tat java.util.concurrent.ThreadPoolExecutor.runWorker(Unknown Source)\r\n\tat java.util.concurrent.ThreadPoolExecutor$Worker.run(Unknown Source)\r\n\t... 1 more\r\nCaused by: java.io.EOFException\r\n\tat java.io.DataInputStream.readInt(Unknown Source)\r\n\tat org.apache.spark.sql.execution.python.BasePythonUDFRunner$$anon$1.read(PythonUDFRunner.scala:83)\r\n\t... 34 more\r\n",
     "output_type": "error",
     "traceback": [
      "\u001b[1;31m---------------------------------------------------------------------------\u001b[0m",
      "\u001b[1;31mPy4JJavaError\u001b[0m                             Traceback (most recent call last)",
      "\u001b[1;32m~\\AppData\\Local\\Temp\\ipykernel_6112\\841748962.py\u001b[0m in \u001b[0;36m<module>\u001b[1;34m\u001b[0m\n\u001b[1;32m----> 1\u001b[1;33m \u001b[0mrecomendadas\u001b[0m \u001b[1;33m=\u001b[0m \u001b[0msessao_spark\u001b[0m\u001b[1;33m.\u001b[0m\u001b[0mcreateDataFrame\u001b[0m\u001b[1;33m(\u001b[0m\u001b[0mmusicas_recomendadas_dist\u001b[0m\u001b[1;33m.\u001b[0m\u001b[0msort\u001b[0m\u001b[1;33m(\u001b[0m\u001b[1;34m'Dist'\u001b[0m\u001b[1;33m)\u001b[0m\u001b[1;33m.\u001b[0m\u001b[0mtake\u001b[0m\u001b[1;33m(\u001b[0m\u001b[1;36m10\u001b[0m\u001b[1;33m)\u001b[0m\u001b[1;33m)\u001b[0m\u001b[1;33m.\u001b[0m\u001b[0mselect\u001b[0m\u001b[1;33m(\u001b[0m\u001b[1;33m[\u001b[0m\u001b[1;34m'artists_song'\u001b[0m\u001b[1;33m,\u001b[0m \u001b[1;34m'id'\u001b[0m\u001b[1;33m,\u001b[0m \u001b[1;34m'Dist'\u001b[0m\u001b[1;33m]\u001b[0m\u001b[1;33m)\u001b[0m\u001b[1;33m\u001b[0m\u001b[1;33m\u001b[0m\u001b[0m\n\u001b[0m",
      "\u001b[1;32m~\\anaconda3\\lib\\site-packages\\pyspark\\sql\\dataframe.py\u001b[0m in \u001b[0;36mtake\u001b[1;34m(self, num)\u001b[0m\n\u001b[0;32m   1399\u001b[0m         \u001b[1;33m[\u001b[0m\u001b[0mRow\u001b[0m\u001b[1;33m(\u001b[0m\u001b[0mage\u001b[0m\u001b[1;33m=\u001b[0m\u001b[1;36m14\u001b[0m\u001b[1;33m,\u001b[0m \u001b[0mname\u001b[0m\u001b[1;33m=\u001b[0m\u001b[1;34m'Tom'\u001b[0m\u001b[1;33m)\u001b[0m\u001b[1;33m,\u001b[0m \u001b[0mRow\u001b[0m\u001b[1;33m(\u001b[0m\u001b[0mage\u001b[0m\u001b[1;33m=\u001b[0m\u001b[1;36m23\u001b[0m\u001b[1;33m,\u001b[0m \u001b[0mname\u001b[0m\u001b[1;33m=\u001b[0m\u001b[1;34m'Alice'\u001b[0m\u001b[1;33m)\u001b[0m\u001b[1;33m]\u001b[0m\u001b[1;33m\u001b[0m\u001b[1;33m\u001b[0m\u001b[0m\n\u001b[0;32m   1400\u001b[0m         \"\"\"\n\u001b[1;32m-> 1401\u001b[1;33m         \u001b[1;32mreturn\u001b[0m \u001b[0mself\u001b[0m\u001b[1;33m.\u001b[0m\u001b[0mlimit\u001b[0m\u001b[1;33m(\u001b[0m\u001b[0mnum\u001b[0m\u001b[1;33m)\u001b[0m\u001b[1;33m.\u001b[0m\u001b[0mcollect\u001b[0m\u001b[1;33m(\u001b[0m\u001b[1;33m)\u001b[0m\u001b[1;33m\u001b[0m\u001b[1;33m\u001b[0m\u001b[0m\n\u001b[0m\u001b[0;32m   1402\u001b[0m \u001b[1;33m\u001b[0m\u001b[0m\n\u001b[0;32m   1403\u001b[0m     \u001b[1;32mdef\u001b[0m \u001b[0mtail\u001b[0m\u001b[1;33m(\u001b[0m\u001b[0mself\u001b[0m\u001b[1;33m,\u001b[0m \u001b[0mnum\u001b[0m\u001b[1;33m:\u001b[0m \u001b[0mint\u001b[0m\u001b[1;33m)\u001b[0m \u001b[1;33m->\u001b[0m \u001b[0mList\u001b[0m\u001b[1;33m[\u001b[0m\u001b[0mRow\u001b[0m\u001b[1;33m]\u001b[0m\u001b[1;33m:\u001b[0m\u001b[1;33m\u001b[0m\u001b[1;33m\u001b[0m\u001b[0m\n",
      "\u001b[1;32m~\\anaconda3\\lib\\site-packages\\pyspark\\sql\\dataframe.py\u001b[0m in \u001b[0;36mcollect\u001b[1;34m(self)\u001b[0m\n\u001b[0;32m   1255\u001b[0m         \"\"\"\n\u001b[0;32m   1256\u001b[0m         \u001b[1;32mwith\u001b[0m \u001b[0mSCCallSiteSync\u001b[0m\u001b[1;33m(\u001b[0m\u001b[0mself\u001b[0m\u001b[1;33m.\u001b[0m\u001b[0m_sc\u001b[0m\u001b[1;33m)\u001b[0m\u001b[1;33m:\u001b[0m\u001b[1;33m\u001b[0m\u001b[1;33m\u001b[0m\u001b[0m\n\u001b[1;32m-> 1257\u001b[1;33m             \u001b[0msock_info\u001b[0m \u001b[1;33m=\u001b[0m \u001b[0mself\u001b[0m\u001b[1;33m.\u001b[0m\u001b[0m_jdf\u001b[0m\u001b[1;33m.\u001b[0m\u001b[0mcollectToPython\u001b[0m\u001b[1;33m(\u001b[0m\u001b[1;33m)\u001b[0m\u001b[1;33m\u001b[0m\u001b[1;33m\u001b[0m\u001b[0m\n\u001b[0m\u001b[0;32m   1258\u001b[0m         \u001b[1;32mreturn\u001b[0m \u001b[0mlist\u001b[0m\u001b[1;33m(\u001b[0m\u001b[0m_load_from_socket\u001b[0m\u001b[1;33m(\u001b[0m\u001b[0msock_info\u001b[0m\u001b[1;33m,\u001b[0m \u001b[0mBatchedSerializer\u001b[0m\u001b[1;33m(\u001b[0m\u001b[0mCPickleSerializer\u001b[0m\u001b[1;33m(\u001b[0m\u001b[1;33m)\u001b[0m\u001b[1;33m)\u001b[0m\u001b[1;33m)\u001b[0m\u001b[1;33m)\u001b[0m\u001b[1;33m\u001b[0m\u001b[1;33m\u001b[0m\u001b[0m\n\u001b[0;32m   1259\u001b[0m \u001b[1;33m\u001b[0m\u001b[0m\n",
      "\u001b[1;32m~\\anaconda3\\lib\\site-packages\\py4j\\java_gateway.py\u001b[0m in \u001b[0;36m__call__\u001b[1;34m(self, *args)\u001b[0m\n\u001b[0;32m   1320\u001b[0m \u001b[1;33m\u001b[0m\u001b[0m\n\u001b[0;32m   1321\u001b[0m         \u001b[0manswer\u001b[0m \u001b[1;33m=\u001b[0m \u001b[0mself\u001b[0m\u001b[1;33m.\u001b[0m\u001b[0mgateway_client\u001b[0m\u001b[1;33m.\u001b[0m\u001b[0msend_command\u001b[0m\u001b[1;33m(\u001b[0m\u001b[0mcommand\u001b[0m\u001b[1;33m)\u001b[0m\u001b[1;33m\u001b[0m\u001b[1;33m\u001b[0m\u001b[0m\n\u001b[1;32m-> 1322\u001b[1;33m         return_value = get_return_value(\n\u001b[0m\u001b[0;32m   1323\u001b[0m             answer, self.gateway_client, self.target_id, self.name)\n\u001b[0;32m   1324\u001b[0m \u001b[1;33m\u001b[0m\u001b[0m\n",
      "\u001b[1;32m~\\anaconda3\\lib\\site-packages\\pyspark\\errors\\exceptions\\captured.py\u001b[0m in \u001b[0;36mdeco\u001b[1;34m(*a, **kw)\u001b[0m\n\u001b[0;32m    177\u001b[0m     \u001b[1;32mdef\u001b[0m \u001b[0mdeco\u001b[0m\u001b[1;33m(\u001b[0m\u001b[1;33m*\u001b[0m\u001b[0ma\u001b[0m\u001b[1;33m:\u001b[0m \u001b[0mAny\u001b[0m\u001b[1;33m,\u001b[0m \u001b[1;33m**\u001b[0m\u001b[0mkw\u001b[0m\u001b[1;33m:\u001b[0m \u001b[0mAny\u001b[0m\u001b[1;33m)\u001b[0m \u001b[1;33m->\u001b[0m \u001b[0mAny\u001b[0m\u001b[1;33m:\u001b[0m\u001b[1;33m\u001b[0m\u001b[1;33m\u001b[0m\u001b[0m\n\u001b[0;32m    178\u001b[0m         \u001b[1;32mtry\u001b[0m\u001b[1;33m:\u001b[0m\u001b[1;33m\u001b[0m\u001b[1;33m\u001b[0m\u001b[0m\n\u001b[1;32m--> 179\u001b[1;33m             \u001b[1;32mreturn\u001b[0m \u001b[0mf\u001b[0m\u001b[1;33m(\u001b[0m\u001b[1;33m*\u001b[0m\u001b[0ma\u001b[0m\u001b[1;33m,\u001b[0m \u001b[1;33m**\u001b[0m\u001b[0mkw\u001b[0m\u001b[1;33m)\u001b[0m\u001b[1;33m\u001b[0m\u001b[1;33m\u001b[0m\u001b[0m\n\u001b[0m\u001b[0;32m    180\u001b[0m         \u001b[1;32mexcept\u001b[0m \u001b[0mPy4JJavaError\u001b[0m \u001b[1;32mas\u001b[0m \u001b[0me\u001b[0m\u001b[1;33m:\u001b[0m\u001b[1;33m\u001b[0m\u001b[1;33m\u001b[0m\u001b[0m\n\u001b[0;32m    181\u001b[0m             \u001b[0mconverted\u001b[0m \u001b[1;33m=\u001b[0m \u001b[0mconvert_exception\u001b[0m\u001b[1;33m(\u001b[0m\u001b[0me\u001b[0m\u001b[1;33m.\u001b[0m\u001b[0mjava_exception\u001b[0m\u001b[1;33m)\u001b[0m\u001b[1;33m\u001b[0m\u001b[1;33m\u001b[0m\u001b[0m\n",
      "\u001b[1;32m~\\anaconda3\\lib\\site-packages\\py4j\\protocol.py\u001b[0m in \u001b[0;36mget_return_value\u001b[1;34m(answer, gateway_client, target_id, name)\u001b[0m\n\u001b[0;32m    324\u001b[0m             \u001b[0mvalue\u001b[0m \u001b[1;33m=\u001b[0m \u001b[0mOUTPUT_CONVERTER\u001b[0m\u001b[1;33m[\u001b[0m\u001b[0mtype\u001b[0m\u001b[1;33m]\u001b[0m\u001b[1;33m(\u001b[0m\u001b[0manswer\u001b[0m\u001b[1;33m[\u001b[0m\u001b[1;36m2\u001b[0m\u001b[1;33m:\u001b[0m\u001b[1;33m]\u001b[0m\u001b[1;33m,\u001b[0m \u001b[0mgateway_client\u001b[0m\u001b[1;33m)\u001b[0m\u001b[1;33m\u001b[0m\u001b[1;33m\u001b[0m\u001b[0m\n\u001b[0;32m    325\u001b[0m             \u001b[1;32mif\u001b[0m \u001b[0manswer\u001b[0m\u001b[1;33m[\u001b[0m\u001b[1;36m1\u001b[0m\u001b[1;33m]\u001b[0m \u001b[1;33m==\u001b[0m \u001b[0mREFERENCE_TYPE\u001b[0m\u001b[1;33m:\u001b[0m\u001b[1;33m\u001b[0m\u001b[1;33m\u001b[0m\u001b[0m\n\u001b[1;32m--> 326\u001b[1;33m                 raise Py4JJavaError(\n\u001b[0m\u001b[0;32m    327\u001b[0m                     \u001b[1;34m\"An error occurred while calling {0}{1}{2}.\\n\"\u001b[0m\u001b[1;33m.\u001b[0m\u001b[1;33m\u001b[0m\u001b[1;33m\u001b[0m\u001b[0m\n\u001b[0;32m    328\u001b[0m                     format(target_id, \".\", name), value)\n",
      "\u001b[1;31mPy4JJavaError\u001b[0m: An error occurred while calling o2627.collectToPython.\n: org.apache.spark.SparkException: Job aborted due to stage failure: Task 0 in stage 417.0 failed 1 times, most recent failure: Lost task 0.0 in stage 417.0 (TID 391) (Vinicius executor driver): org.apache.spark.SparkException: Python worker exited unexpectedly (crashed)\r\n\tat org.apache.spark.api.python.BasePythonRunner$ReaderIterator$$anonfun$1.applyOrElse(PythonRunner.scala:612)\r\n\tat org.apache.spark.api.python.BasePythonRunner$ReaderIterator$$anonfun$1.applyOrElse(PythonRunner.scala:594)\r\n\tat scala.runtime.AbstractPartialFunction.apply(AbstractPartialFunction.scala:38)\r\n\tat org.apache.spark.sql.execution.python.BasePythonUDFRunner$$anon$1.read(PythonUDFRunner.scala:99)\r\n\tat org.apache.spark.sql.execution.python.BasePythonUDFRunner$$anon$1.read(PythonUDFRunner.scala:75)\r\n\tat org.apache.spark.api.python.BasePythonRunner$ReaderIterator.hasNext(PythonRunner.scala:525)\r\n\tat org.apache.spark.InterruptibleIterator.hasNext(InterruptibleIterator.scala:37)\r\n\tat scala.collection.Iterator$$anon$11.hasNext(Iterator.scala:491)\r\n\tat scala.collection.Iterator$$anon$10.hasNext(Iterator.scala:460)\r\n\tat scala.collection.Iterator$$anon$10.hasNext(Iterator.scala:460)\r\n\tat org.apache.spark.sql.catalyst.expressions.GeneratedClass$GeneratedIteratorForCodegenStage2.processNext(Unknown Source)\r\n\tat org.apache.spark.sql.execution.BufferedRowIterator.hasNext(BufferedRowIterator.java:43)\r\n\tat org.apache.spark.sql.execution.WholeStageCodegenEvaluatorFactory$WholeStageCodegenPartitionEvaluator$$anon$1.hasNext(WholeStageCodegenEvaluatorFactory.scala:43)\r\n\tat scala.collection.Iterator$$anon$10.hasNext(Iterator.scala:460)\r\n\tat scala.collection.Iterator.isEmpty(Iterator.scala:387)\r\n\tat scala.collection.Iterator.isEmpty$(Iterator.scala:387)\r\n\tat scala.collection.AbstractIterator.isEmpty(Iterator.scala:1431)\r\n\tat scala.collection.TraversableOnce.nonEmpty(TraversableOnce.scala:143)\r\n\tat scala.collection.TraversableOnce.nonEmpty$(TraversableOnce.scala:143)\r\n\tat scala.collection.AbstractIterator.nonEmpty(Iterator.scala:1431)\r\n\tat org.apache.spark.rdd.RDD.$anonfun$takeOrdered$2(RDD.scala:1556)\r\n\tat org.apache.spark.rdd.RDD.$anonfun$takeOrdered$2$adapted(RDD.scala:1555)\r\n\tat org.apache.spark.rdd.RDD.$anonfun$mapPartitionsWithIndex$2(RDD.scala:907)\r\n\tat org.apache.spark.rdd.RDD.$anonfun$mapPartitionsWithIndex$2$adapted(RDD.scala:907)\r\n\tat org.apache.spark.rdd.MapPartitionsRDD.compute(MapPartitionsRDD.scala:52)\r\n\tat org.apache.spark.rdd.RDD.computeOrReadCheckpoint(RDD.scala:364)\r\n\tat org.apache.spark.rdd.RDD.iterator(RDD.scala:328)\r\n\tat org.apache.spark.scheduler.ResultTask.runTask(ResultTask.scala:93)\r\n\tat org.apache.spark.TaskContext.runTaskWithListeners(TaskContext.scala:161)\r\n\tat org.apache.spark.scheduler.Task.run(Task.scala:141)\r\n\tat org.apache.spark.executor.Executor$TaskRunner.$anonfun$run$4(Executor.scala:620)\r\n\tat org.apache.spark.util.SparkErrorUtils.tryWithSafeFinally(SparkErrorUtils.scala:64)\r\n\tat org.apache.spark.util.SparkErrorUtils.tryWithSafeFinally$(SparkErrorUtils.scala:61)\r\n\tat org.apache.spark.util.Utils$.tryWithSafeFinally(Utils.scala:94)\r\n\tat org.apache.spark.executor.Executor$TaskRunner.run(Executor.scala:623)\r\n\tat java.util.concurrent.ThreadPoolExecutor.runWorker(Unknown Source)\r\n\tat java.util.concurrent.ThreadPoolExecutor$Worker.run(Unknown Source)\r\n\tat java.lang.Thread.run(Unknown Source)\r\nCaused by: java.io.EOFException\r\n\tat java.io.DataInputStream.readInt(Unknown Source)\r\n\tat org.apache.spark.sql.execution.python.BasePythonUDFRunner$$anon$1.read(PythonUDFRunner.scala:83)\r\n\t... 34 more\r\n\nDriver stacktrace:\r\n\tat org.apache.spark.scheduler.DAGScheduler.failJobAndIndependentStages(DAGScheduler.scala:2844)\r\n\tat org.apache.spark.scheduler.DAGScheduler.$anonfun$abortStage$2(DAGScheduler.scala:2780)\r\n\tat org.apache.spark.scheduler.DAGScheduler.$anonfun$abortStage$2$adapted(DAGScheduler.scala:2779)\r\n\tat scala.collection.mutable.ResizableArray.foreach(ResizableArray.scala:62)\r\n\tat scala.collection.mutable.ResizableArray.foreach$(ResizableArray.scala:55)\r\n\tat scala.collection.mutable.ArrayBuffer.foreach(ArrayBuffer.scala:49)\r\n\tat org.apache.spark.scheduler.DAGScheduler.abortStage(DAGScheduler.scala:2779)\r\n\tat org.apache.spark.scheduler.DAGScheduler.$anonfun$handleTaskSetFailed$1(DAGScheduler.scala:1242)\r\n\tat org.apache.spark.scheduler.DAGScheduler.$anonfun$handleTaskSetFailed$1$adapted(DAGScheduler.scala:1242)\r\n\tat scala.Option.foreach(Option.scala:407)\r\n\tat org.apache.spark.scheduler.DAGScheduler.handleTaskSetFailed(DAGScheduler.scala:1242)\r\n\tat org.apache.spark.scheduler.DAGSchedulerEventProcessLoop.doOnReceive(DAGScheduler.scala:3048)\r\n\tat org.apache.spark.scheduler.DAGSchedulerEventProcessLoop.onReceive(DAGScheduler.scala:2982)\r\n\tat org.apache.spark.scheduler.DAGSchedulerEventProcessLoop.onReceive(DAGScheduler.scala:2971)\r\n\tat org.apache.spark.util.EventLoop$$anon$1.run(EventLoop.scala:49)\r\n\tat org.apache.spark.scheduler.DAGScheduler.runJob(DAGScheduler.scala:984)\r\n\tat org.apache.spark.SparkContext.runJob(SparkContext.scala:2398)\r\n\tat org.apache.spark.SparkContext.runJob(SparkContext.scala:2493)\r\n\tat org.apache.spark.rdd.RDD.$anonfun$reduce$1(RDD.scala:1136)\r\n\tat org.apache.spark.rdd.RDDOperationScope$.withScope(RDDOperationScope.scala:151)\r\n\tat org.apache.spark.rdd.RDDOperationScope$.withScope(RDDOperationScope.scala:112)\r\n\tat org.apache.spark.rdd.RDD.withScope(RDD.scala:407)\r\n\tat org.apache.spark.rdd.RDD.reduce(RDD.scala:1118)\r\n\tat org.apache.spark.rdd.RDD.$anonfun$takeOrdered$1(RDD.scala:1565)\r\n\tat org.apache.spark.rdd.RDDOperationScope$.withScope(RDDOperationScope.scala:151)\r\n\tat org.apache.spark.rdd.RDDOperationScope$.withScope(RDDOperationScope.scala:112)\r\n\tat org.apache.spark.rdd.RDD.withScope(RDD.scala:407)\r\n\tat org.apache.spark.rdd.RDD.takeOrdered(RDD.scala:1552)\r\n\tat org.apache.spark.sql.execution.TakeOrderedAndProjectExec.executeCollect(limit.scala:291)\r\n\tat org.apache.spark.sql.Dataset.$anonfun$collectToPython$1(Dataset.scala:4160)\r\n\tat org.apache.spark.sql.Dataset.$anonfun$withAction$2(Dataset.scala:4334)\r\n\tat org.apache.spark.sql.execution.QueryExecution$.withInternalError(QueryExecution.scala:546)\r\n\tat org.apache.spark.sql.Dataset.$anonfun$withAction$1(Dataset.scala:4332)\r\n\tat org.apache.spark.sql.execution.SQLExecution$.$anonfun$withNewExecutionId$6(SQLExecution.scala:125)\r\n\tat org.apache.spark.sql.execution.SQLExecution$.withSQLConfPropagated(SQLExecution.scala:201)\r\n\tat org.apache.spark.sql.execution.SQLExecution$.$anonfun$withNewExecutionId$1(SQLExecution.scala:108)\r\n\tat org.apache.spark.sql.SparkSession.withActive(SparkSession.scala:900)\r\n\tat org.apache.spark.sql.execution.SQLExecution$.withNewExecutionId(SQLExecution.scala:66)\r\n\tat org.apache.spark.sql.Dataset.withAction(Dataset.scala:4332)\r\n\tat org.apache.spark.sql.Dataset.collectToPython(Dataset.scala:4157)\r\n\tat sun.reflect.GeneratedMethodAccessor133.invoke(Unknown Source)\r\n\tat sun.reflect.DelegatingMethodAccessorImpl.invoke(Unknown Source)\r\n\tat java.lang.reflect.Method.invoke(Unknown Source)\r\n\tat py4j.reflection.MethodInvoker.invoke(MethodInvoker.java:244)\r\n\tat py4j.reflection.ReflectionEngine.invoke(ReflectionEngine.java:374)\r\n\tat py4j.Gateway.invoke(Gateway.java:282)\r\n\tat py4j.commands.AbstractCommand.invokeMethod(AbstractCommand.java:132)\r\n\tat py4j.commands.CallCommand.execute(CallCommand.java:79)\r\n\tat py4j.ClientServerConnection.waitForCommands(ClientServerConnection.java:182)\r\n\tat py4j.ClientServerConnection.run(ClientServerConnection.java:106)\r\n\tat java.lang.Thread.run(Unknown Source)\r\nCaused by: org.apache.spark.SparkException: Python worker exited unexpectedly (crashed)\r\n\tat org.apache.spark.api.python.BasePythonRunner$ReaderIterator$$anonfun$1.applyOrElse(PythonRunner.scala:612)\r\n\tat org.apache.spark.api.python.BasePythonRunner$ReaderIterator$$anonfun$1.applyOrElse(PythonRunner.scala:594)\r\n\tat scala.runtime.AbstractPartialFunction.apply(AbstractPartialFunction.scala:38)\r\n\tat org.apache.spark.sql.execution.python.BasePythonUDFRunner$$anon$1.read(PythonUDFRunner.scala:99)\r\n\tat org.apache.spark.sql.execution.python.BasePythonUDFRunner$$anon$1.read(PythonUDFRunner.scala:75)\r\n\tat org.apache.spark.api.python.BasePythonRunner$ReaderIterator.hasNext(PythonRunner.scala:525)\r\n\tat org.apache.spark.InterruptibleIterator.hasNext(InterruptibleIterator.scala:37)\r\n\tat scala.collection.Iterator$$anon$11.hasNext(Iterator.scala:491)\r\n\tat scala.collection.Iterator$$anon$10.hasNext(Iterator.scala:460)\r\n\tat scala.collection.Iterator$$anon$10.hasNext(Iterator.scala:460)\r\n\tat org.apache.spark.sql.catalyst.expressions.GeneratedClass$GeneratedIteratorForCodegenStage2.processNext(Unknown Source)\r\n\tat org.apache.spark.sql.execution.BufferedRowIterator.hasNext(BufferedRowIterator.java:43)\r\n\tat org.apache.spark.sql.execution.WholeStageCodegenEvaluatorFactory$WholeStageCodegenPartitionEvaluator$$anon$1.hasNext(WholeStageCodegenEvaluatorFactory.scala:43)\r\n\tat scala.collection.Iterator$$anon$10.hasNext(Iterator.scala:460)\r\n\tat scala.collection.Iterator.isEmpty(Iterator.scala:387)\r\n\tat scala.collection.Iterator.isEmpty$(Iterator.scala:387)\r\n\tat scala.collection.AbstractIterator.isEmpty(Iterator.scala:1431)\r\n\tat scala.collection.TraversableOnce.nonEmpty(TraversableOnce.scala:143)\r\n\tat scala.collection.TraversableOnce.nonEmpty$(TraversableOnce.scala:143)\r\n\tat scala.collection.AbstractIterator.nonEmpty(Iterator.scala:1431)\r\n\tat org.apache.spark.rdd.RDD.$anonfun$takeOrdered$2(RDD.scala:1556)\r\n\tat org.apache.spark.rdd.RDD.$anonfun$takeOrdered$2$adapted(RDD.scala:1555)\r\n\tat org.apache.spark.rdd.RDD.$anonfun$mapPartitionsWithIndex$2(RDD.scala:907)\r\n\tat org.apache.spark.rdd.RDD.$anonfun$mapPartitionsWithIndex$2$adapted(RDD.scala:907)\r\n\tat org.apache.spark.rdd.MapPartitionsRDD.compute(MapPartitionsRDD.scala:52)\r\n\tat org.apache.spark.rdd.RDD.computeOrReadCheckpoint(RDD.scala:364)\r\n\tat org.apache.spark.rdd.RDD.iterator(RDD.scala:328)\r\n\tat org.apache.spark.scheduler.ResultTask.runTask(ResultTask.scala:93)\r\n\tat org.apache.spark.TaskContext.runTaskWithListeners(TaskContext.scala:161)\r\n\tat org.apache.spark.scheduler.Task.run(Task.scala:141)\r\n\tat org.apache.spark.executor.Executor$TaskRunner.$anonfun$run$4(Executor.scala:620)\r\n\tat org.apache.spark.util.SparkErrorUtils.tryWithSafeFinally(SparkErrorUtils.scala:64)\r\n\tat org.apache.spark.util.SparkErrorUtils.tryWithSafeFinally$(SparkErrorUtils.scala:61)\r\n\tat org.apache.spark.util.Utils$.tryWithSafeFinally(Utils.scala:94)\r\n\tat org.apache.spark.executor.Executor$TaskRunner.run(Executor.scala:623)\r\n\tat java.util.concurrent.ThreadPoolExecutor.runWorker(Unknown Source)\r\n\tat java.util.concurrent.ThreadPoolExecutor$Worker.run(Unknown Source)\r\n\t... 1 more\r\nCaused by: java.io.EOFException\r\n\tat java.io.DataInputStream.readInt(Unknown Source)\r\n\tat org.apache.spark.sql.execution.python.BasePythonUDFRunner$$anon$1.read(PythonUDFRunner.scala:83)\r\n\t... 34 more\r\n"
     ]
    }
   ],
   "source": [
    "recomendadas = sessao_spark.createDataFrame(musicas_recomendadas_dist.sort('Dist').take(10)).select(['artists_song', 'id', 'Dist'])"
   ]
  },
  {
   "cell_type": "code",
   "execution_count": 231,
   "id": "4371cb5f",
   "metadata": {},
   "outputs": [],
   "source": [
    "# Criando uma função para recomendação:\n",
    "\n",
    "def recomendador(nome_musica):\n",
    "    cluster = projection_kmeans.filter(projection_kmeans.artists_song == nome_musica).select('cluster_pca').collect()[0][0]\n",
    "    musicas_recomendadas = projection_kmeans.filter(projection_kmeans.cluster_pca == cluster)\\\n",
    "                                           .select('artists_song', 'id', 'pca_features')\n",
    "    componenetes_musica = musicas_recomendadas.filter(musicas_recomendadas.artists_song == nome_musica)\\\n",
    "                                          .select('pca_features').collect()[0][0]\n",
    "    \n",
    "    \n",
    "    def calcula_distance(value):\n",
    "        return euclidean(componentes_musica, value)\n",
    "    \n",
    "    udf_calcula_distance = f.udf(calcula_distance, FloatType()) \n",
    "\n",
    "    musicas_recomendadas_dist = musicas_recomendadas.withColumn('Dist', udf_calcula_distance('pca_features'))\n",
    "\n",
    "    recomendadas = sessao_spark.createDataFrame(musicas_recomendadas_dist.sort('Dist').take(10)).select(['artists_song', 'id', 'Dist'])\n",
    "    \n",
    "    recomendadas.select('artists_song').show(truncate = False)\n",
    "    "
   ]
  },
  {
   "cell_type": "code",
   "execution_count": 232,
   "id": "04d85b76",
   "metadata": {},
   "outputs": [
    {
     "ename": "Py4JJavaError",
     "evalue": "An error occurred while calling o2677.collectToPython.\n: org.apache.spark.SparkException: Job aborted due to stage failure: Task 0 in stage 420.0 failed 1 times, most recent failure: Lost task 0.0 in stage 420.0 (TID 394) (Vinicius executor driver): org.apache.spark.SparkException: Python worker exited unexpectedly (crashed)\r\n\tat org.apache.spark.api.python.BasePythonRunner$ReaderIterator$$anonfun$1.applyOrElse(PythonRunner.scala:612)\r\n\tat org.apache.spark.api.python.BasePythonRunner$ReaderIterator$$anonfun$1.applyOrElse(PythonRunner.scala:594)\r\n\tat scala.runtime.AbstractPartialFunction.apply(AbstractPartialFunction.scala:38)\r\n\tat org.apache.spark.sql.execution.python.BasePythonUDFRunner$$anon$1.read(PythonUDFRunner.scala:99)\r\n\tat org.apache.spark.sql.execution.python.BasePythonUDFRunner$$anon$1.read(PythonUDFRunner.scala:75)\r\n\tat org.apache.spark.api.python.BasePythonRunner$ReaderIterator.hasNext(PythonRunner.scala:525)\r\n\tat org.apache.spark.InterruptibleIterator.hasNext(InterruptibleIterator.scala:37)\r\n\tat scala.collection.Iterator$$anon$11.hasNext(Iterator.scala:491)\r\n\tat scala.collection.Iterator$$anon$10.hasNext(Iterator.scala:460)\r\n\tat scala.collection.Iterator$$anon$10.hasNext(Iterator.scala:460)\r\n\tat org.apache.spark.sql.catalyst.expressions.GeneratedClass$GeneratedIteratorForCodegenStage2.processNext(Unknown Source)\r\n\tat org.apache.spark.sql.execution.BufferedRowIterator.hasNext(BufferedRowIterator.java:43)\r\n\tat org.apache.spark.sql.execution.WholeStageCodegenEvaluatorFactory$WholeStageCodegenPartitionEvaluator$$anon$1.hasNext(WholeStageCodegenEvaluatorFactory.scala:43)\r\n\tat scala.collection.Iterator$$anon$10.hasNext(Iterator.scala:460)\r\n\tat scala.collection.Iterator.isEmpty(Iterator.scala:387)\r\n\tat scala.collection.Iterator.isEmpty$(Iterator.scala:387)\r\n\tat scala.collection.AbstractIterator.isEmpty(Iterator.scala:1431)\r\n\tat scala.collection.TraversableOnce.nonEmpty(TraversableOnce.scala:143)\r\n\tat scala.collection.TraversableOnce.nonEmpty$(TraversableOnce.scala:143)\r\n\tat scala.collection.AbstractIterator.nonEmpty(Iterator.scala:1431)\r\n\tat org.apache.spark.rdd.RDD.$anonfun$takeOrdered$2(RDD.scala:1556)\r\n\tat org.apache.spark.rdd.RDD.$anonfun$takeOrdered$2$adapted(RDD.scala:1555)\r\n\tat org.apache.spark.rdd.RDD.$anonfun$mapPartitionsWithIndex$2(RDD.scala:907)\r\n\tat org.apache.spark.rdd.RDD.$anonfun$mapPartitionsWithIndex$2$adapted(RDD.scala:907)\r\n\tat org.apache.spark.rdd.MapPartitionsRDD.compute(MapPartitionsRDD.scala:52)\r\n\tat org.apache.spark.rdd.RDD.computeOrReadCheckpoint(RDD.scala:364)\r\n\tat org.apache.spark.rdd.RDD.iterator(RDD.scala:328)\r\n\tat org.apache.spark.scheduler.ResultTask.runTask(ResultTask.scala:93)\r\n\tat org.apache.spark.TaskContext.runTaskWithListeners(TaskContext.scala:161)\r\n\tat org.apache.spark.scheduler.Task.run(Task.scala:141)\r\n\tat org.apache.spark.executor.Executor$TaskRunner.$anonfun$run$4(Executor.scala:620)\r\n\tat org.apache.spark.util.SparkErrorUtils.tryWithSafeFinally(SparkErrorUtils.scala:64)\r\n\tat org.apache.spark.util.SparkErrorUtils.tryWithSafeFinally$(SparkErrorUtils.scala:61)\r\n\tat org.apache.spark.util.Utils$.tryWithSafeFinally(Utils.scala:94)\r\n\tat org.apache.spark.executor.Executor$TaskRunner.run(Executor.scala:623)\r\n\tat java.util.concurrent.ThreadPoolExecutor.runWorker(Unknown Source)\r\n\tat java.util.concurrent.ThreadPoolExecutor$Worker.run(Unknown Source)\r\n\tat java.lang.Thread.run(Unknown Source)\r\nCaused by: java.io.EOFException\r\n\tat java.io.DataInputStream.readInt(Unknown Source)\r\n\tat org.apache.spark.sql.execution.python.BasePythonUDFRunner$$anon$1.read(PythonUDFRunner.scala:83)\r\n\t... 34 more\r\n\nDriver stacktrace:\r\n\tat org.apache.spark.scheduler.DAGScheduler.failJobAndIndependentStages(DAGScheduler.scala:2844)\r\n\tat org.apache.spark.scheduler.DAGScheduler.$anonfun$abortStage$2(DAGScheduler.scala:2780)\r\n\tat org.apache.spark.scheduler.DAGScheduler.$anonfun$abortStage$2$adapted(DAGScheduler.scala:2779)\r\n\tat scala.collection.mutable.ResizableArray.foreach(ResizableArray.scala:62)\r\n\tat scala.collection.mutable.ResizableArray.foreach$(ResizableArray.scala:55)\r\n\tat scala.collection.mutable.ArrayBuffer.foreach(ArrayBuffer.scala:49)\r\n\tat org.apache.spark.scheduler.DAGScheduler.abortStage(DAGScheduler.scala:2779)\r\n\tat org.apache.spark.scheduler.DAGScheduler.$anonfun$handleTaskSetFailed$1(DAGScheduler.scala:1242)\r\n\tat org.apache.spark.scheduler.DAGScheduler.$anonfun$handleTaskSetFailed$1$adapted(DAGScheduler.scala:1242)\r\n\tat scala.Option.foreach(Option.scala:407)\r\n\tat org.apache.spark.scheduler.DAGScheduler.handleTaskSetFailed(DAGScheduler.scala:1242)\r\n\tat org.apache.spark.scheduler.DAGSchedulerEventProcessLoop.doOnReceive(DAGScheduler.scala:3048)\r\n\tat org.apache.spark.scheduler.DAGSchedulerEventProcessLoop.onReceive(DAGScheduler.scala:2982)\r\n\tat org.apache.spark.scheduler.DAGSchedulerEventProcessLoop.onReceive(DAGScheduler.scala:2971)\r\n\tat org.apache.spark.util.EventLoop$$anon$1.run(EventLoop.scala:49)\r\n\tat org.apache.spark.scheduler.DAGScheduler.runJob(DAGScheduler.scala:984)\r\n\tat org.apache.spark.SparkContext.runJob(SparkContext.scala:2398)\r\n\tat org.apache.spark.SparkContext.runJob(SparkContext.scala:2493)\r\n\tat org.apache.spark.rdd.RDD.$anonfun$reduce$1(RDD.scala:1136)\r\n\tat org.apache.spark.rdd.RDDOperationScope$.withScope(RDDOperationScope.scala:151)\r\n\tat org.apache.spark.rdd.RDDOperationScope$.withScope(RDDOperationScope.scala:112)\r\n\tat org.apache.spark.rdd.RDD.withScope(RDD.scala:407)\r\n\tat org.apache.spark.rdd.RDD.reduce(RDD.scala:1118)\r\n\tat org.apache.spark.rdd.RDD.$anonfun$takeOrdered$1(RDD.scala:1565)\r\n\tat org.apache.spark.rdd.RDDOperationScope$.withScope(RDDOperationScope.scala:151)\r\n\tat org.apache.spark.rdd.RDDOperationScope$.withScope(RDDOperationScope.scala:112)\r\n\tat org.apache.spark.rdd.RDD.withScope(RDD.scala:407)\r\n\tat org.apache.spark.rdd.RDD.takeOrdered(RDD.scala:1552)\r\n\tat org.apache.spark.sql.execution.TakeOrderedAndProjectExec.executeCollect(limit.scala:291)\r\n\tat org.apache.spark.sql.Dataset.$anonfun$collectToPython$1(Dataset.scala:4160)\r\n\tat org.apache.spark.sql.Dataset.$anonfun$withAction$2(Dataset.scala:4334)\r\n\tat org.apache.spark.sql.execution.QueryExecution$.withInternalError(QueryExecution.scala:546)\r\n\tat org.apache.spark.sql.Dataset.$anonfun$withAction$1(Dataset.scala:4332)\r\n\tat org.apache.spark.sql.execution.SQLExecution$.$anonfun$withNewExecutionId$6(SQLExecution.scala:125)\r\n\tat org.apache.spark.sql.execution.SQLExecution$.withSQLConfPropagated(SQLExecution.scala:201)\r\n\tat org.apache.spark.sql.execution.SQLExecution$.$anonfun$withNewExecutionId$1(SQLExecution.scala:108)\r\n\tat org.apache.spark.sql.SparkSession.withActive(SparkSession.scala:900)\r\n\tat org.apache.spark.sql.execution.SQLExecution$.withNewExecutionId(SQLExecution.scala:66)\r\n\tat org.apache.spark.sql.Dataset.withAction(Dataset.scala:4332)\r\n\tat org.apache.spark.sql.Dataset.collectToPython(Dataset.scala:4157)\r\n\tat sun.reflect.GeneratedMethodAccessor133.invoke(Unknown Source)\r\n\tat sun.reflect.DelegatingMethodAccessorImpl.invoke(Unknown Source)\r\n\tat java.lang.reflect.Method.invoke(Unknown Source)\r\n\tat py4j.reflection.MethodInvoker.invoke(MethodInvoker.java:244)\r\n\tat py4j.reflection.ReflectionEngine.invoke(ReflectionEngine.java:374)\r\n\tat py4j.Gateway.invoke(Gateway.java:282)\r\n\tat py4j.commands.AbstractCommand.invokeMethod(AbstractCommand.java:132)\r\n\tat py4j.commands.CallCommand.execute(CallCommand.java:79)\r\n\tat py4j.ClientServerConnection.waitForCommands(ClientServerConnection.java:182)\r\n\tat py4j.ClientServerConnection.run(ClientServerConnection.java:106)\r\n\tat java.lang.Thread.run(Unknown Source)\r\nCaused by: org.apache.spark.SparkException: Python worker exited unexpectedly (crashed)\r\n\tat org.apache.spark.api.python.BasePythonRunner$ReaderIterator$$anonfun$1.applyOrElse(PythonRunner.scala:612)\r\n\tat org.apache.spark.api.python.BasePythonRunner$ReaderIterator$$anonfun$1.applyOrElse(PythonRunner.scala:594)\r\n\tat scala.runtime.AbstractPartialFunction.apply(AbstractPartialFunction.scala:38)\r\n\tat org.apache.spark.sql.execution.python.BasePythonUDFRunner$$anon$1.read(PythonUDFRunner.scala:99)\r\n\tat org.apache.spark.sql.execution.python.BasePythonUDFRunner$$anon$1.read(PythonUDFRunner.scala:75)\r\n\tat org.apache.spark.api.python.BasePythonRunner$ReaderIterator.hasNext(PythonRunner.scala:525)\r\n\tat org.apache.spark.InterruptibleIterator.hasNext(InterruptibleIterator.scala:37)\r\n\tat scala.collection.Iterator$$anon$11.hasNext(Iterator.scala:491)\r\n\tat scala.collection.Iterator$$anon$10.hasNext(Iterator.scala:460)\r\n\tat scala.collection.Iterator$$anon$10.hasNext(Iterator.scala:460)\r\n\tat org.apache.spark.sql.catalyst.expressions.GeneratedClass$GeneratedIteratorForCodegenStage2.processNext(Unknown Source)\r\n\tat org.apache.spark.sql.execution.BufferedRowIterator.hasNext(BufferedRowIterator.java:43)\r\n\tat org.apache.spark.sql.execution.WholeStageCodegenEvaluatorFactory$WholeStageCodegenPartitionEvaluator$$anon$1.hasNext(WholeStageCodegenEvaluatorFactory.scala:43)\r\n\tat scala.collection.Iterator$$anon$10.hasNext(Iterator.scala:460)\r\n\tat scala.collection.Iterator.isEmpty(Iterator.scala:387)\r\n\tat scala.collection.Iterator.isEmpty$(Iterator.scala:387)\r\n\tat scala.collection.AbstractIterator.isEmpty(Iterator.scala:1431)\r\n\tat scala.collection.TraversableOnce.nonEmpty(TraversableOnce.scala:143)\r\n\tat scala.collection.TraversableOnce.nonEmpty$(TraversableOnce.scala:143)\r\n\tat scala.collection.AbstractIterator.nonEmpty(Iterator.scala:1431)\r\n\tat org.apache.spark.rdd.RDD.$anonfun$takeOrdered$2(RDD.scala:1556)\r\n\tat org.apache.spark.rdd.RDD.$anonfun$takeOrdered$2$adapted(RDD.scala:1555)\r\n\tat org.apache.spark.rdd.RDD.$anonfun$mapPartitionsWithIndex$2(RDD.scala:907)\r\n\tat org.apache.spark.rdd.RDD.$anonfun$mapPartitionsWithIndex$2$adapted(RDD.scala:907)\r\n\tat org.apache.spark.rdd.MapPartitionsRDD.compute(MapPartitionsRDD.scala:52)\r\n\tat org.apache.spark.rdd.RDD.computeOrReadCheckpoint(RDD.scala:364)\r\n\tat org.apache.spark.rdd.RDD.iterator(RDD.scala:328)\r\n\tat org.apache.spark.scheduler.ResultTask.runTask(ResultTask.scala:93)\r\n\tat org.apache.spark.TaskContext.runTaskWithListeners(TaskContext.scala:161)\r\n\tat org.apache.spark.scheduler.Task.run(Task.scala:141)\r\n\tat org.apache.spark.executor.Executor$TaskRunner.$anonfun$run$4(Executor.scala:620)\r\n\tat org.apache.spark.util.SparkErrorUtils.tryWithSafeFinally(SparkErrorUtils.scala:64)\r\n\tat org.apache.spark.util.SparkErrorUtils.tryWithSafeFinally$(SparkErrorUtils.scala:61)\r\n\tat org.apache.spark.util.Utils$.tryWithSafeFinally(Utils.scala:94)\r\n\tat org.apache.spark.executor.Executor$TaskRunner.run(Executor.scala:623)\r\n\tat java.util.concurrent.ThreadPoolExecutor.runWorker(Unknown Source)\r\n\tat java.util.concurrent.ThreadPoolExecutor$Worker.run(Unknown Source)\r\n\t... 1 more\r\nCaused by: java.io.EOFException\r\n\tat java.io.DataInputStream.readInt(Unknown Source)\r\n\tat org.apache.spark.sql.execution.python.BasePythonUDFRunner$$anon$1.read(PythonUDFRunner.scala:83)\r\n\t... 34 more\r\n",
     "output_type": "error",
     "traceback": [
      "\u001b[1;31m---------------------------------------------------------------------------\u001b[0m",
      "\u001b[1;31mPy4JJavaError\u001b[0m                             Traceback (most recent call last)",
      "\u001b[1;32m~\\AppData\\Local\\Temp\\ipykernel_6112\\135144737.py\u001b[0m in \u001b[0;36m<module>\u001b[1;34m\u001b[0m\n\u001b[1;32m----> 1\u001b[1;33m \u001b[0mrecomendador\u001b[0m\u001b[1;33m(\u001b[0m\u001b[1;34m'Taylor Swift - Blank Space'\u001b[0m\u001b[1;33m)\u001b[0m\u001b[1;33m\u001b[0m\u001b[1;33m\u001b[0m\u001b[0m\n\u001b[0m",
      "\u001b[1;32m~\\AppData\\Local\\Temp\\ipykernel_6112\\400867860.py\u001b[0m in \u001b[0;36mrecomendador\u001b[1;34m(nome_musica)\u001b[0m\n\u001b[0;32m     16\u001b[0m     \u001b[0mmusicas_recomendadas_dist\u001b[0m \u001b[1;33m=\u001b[0m \u001b[0mmusicas_recomendadas\u001b[0m\u001b[1;33m.\u001b[0m\u001b[0mwithColumn\u001b[0m\u001b[1;33m(\u001b[0m\u001b[1;34m'Dist'\u001b[0m\u001b[1;33m,\u001b[0m \u001b[0mudf_calcula_distance\u001b[0m\u001b[1;33m(\u001b[0m\u001b[1;34m'pca_features'\u001b[0m\u001b[1;33m)\u001b[0m\u001b[1;33m)\u001b[0m\u001b[1;33m\u001b[0m\u001b[1;33m\u001b[0m\u001b[0m\n\u001b[0;32m     17\u001b[0m \u001b[1;33m\u001b[0m\u001b[0m\n\u001b[1;32m---> 18\u001b[1;33m     \u001b[0mrecomendadas\u001b[0m \u001b[1;33m=\u001b[0m \u001b[0msessao_spark\u001b[0m\u001b[1;33m.\u001b[0m\u001b[0mcreateDataFrame\u001b[0m\u001b[1;33m(\u001b[0m\u001b[0mmusicas_recomendadas_dist\u001b[0m\u001b[1;33m.\u001b[0m\u001b[0msort\u001b[0m\u001b[1;33m(\u001b[0m\u001b[1;34m'Dist'\u001b[0m\u001b[1;33m)\u001b[0m\u001b[1;33m.\u001b[0m\u001b[0mtake\u001b[0m\u001b[1;33m(\u001b[0m\u001b[1;36m10\u001b[0m\u001b[1;33m)\u001b[0m\u001b[1;33m)\u001b[0m\u001b[1;33m.\u001b[0m\u001b[0mselect\u001b[0m\u001b[1;33m(\u001b[0m\u001b[1;33m[\u001b[0m\u001b[1;34m'artists_song'\u001b[0m\u001b[1;33m,\u001b[0m \u001b[1;34m'id'\u001b[0m\u001b[1;33m,\u001b[0m \u001b[1;34m'Dist'\u001b[0m\u001b[1;33m]\u001b[0m\u001b[1;33m)\u001b[0m\u001b[1;33m\u001b[0m\u001b[1;33m\u001b[0m\u001b[0m\n\u001b[0m\u001b[0;32m     19\u001b[0m \u001b[1;33m\u001b[0m\u001b[0m\n\u001b[0;32m     20\u001b[0m     \u001b[0mrecomendadas\u001b[0m\u001b[1;33m.\u001b[0m\u001b[0mselect\u001b[0m\u001b[1;33m(\u001b[0m\u001b[1;34m'artists_song'\u001b[0m\u001b[1;33m)\u001b[0m\u001b[1;33m.\u001b[0m\u001b[0mshow\u001b[0m\u001b[1;33m(\u001b[0m\u001b[0mtruncate\u001b[0m \u001b[1;33m=\u001b[0m \u001b[1;32mFalse\u001b[0m\u001b[1;33m)\u001b[0m\u001b[1;33m\u001b[0m\u001b[1;33m\u001b[0m\u001b[0m\n",
      "\u001b[1;32m~\\anaconda3\\lib\\site-packages\\pyspark\\sql\\dataframe.py\u001b[0m in \u001b[0;36mtake\u001b[1;34m(self, num)\u001b[0m\n\u001b[0;32m   1399\u001b[0m         \u001b[1;33m[\u001b[0m\u001b[0mRow\u001b[0m\u001b[1;33m(\u001b[0m\u001b[0mage\u001b[0m\u001b[1;33m=\u001b[0m\u001b[1;36m14\u001b[0m\u001b[1;33m,\u001b[0m \u001b[0mname\u001b[0m\u001b[1;33m=\u001b[0m\u001b[1;34m'Tom'\u001b[0m\u001b[1;33m)\u001b[0m\u001b[1;33m,\u001b[0m \u001b[0mRow\u001b[0m\u001b[1;33m(\u001b[0m\u001b[0mage\u001b[0m\u001b[1;33m=\u001b[0m\u001b[1;36m23\u001b[0m\u001b[1;33m,\u001b[0m \u001b[0mname\u001b[0m\u001b[1;33m=\u001b[0m\u001b[1;34m'Alice'\u001b[0m\u001b[1;33m)\u001b[0m\u001b[1;33m]\u001b[0m\u001b[1;33m\u001b[0m\u001b[1;33m\u001b[0m\u001b[0m\n\u001b[0;32m   1400\u001b[0m         \"\"\"\n\u001b[1;32m-> 1401\u001b[1;33m         \u001b[1;32mreturn\u001b[0m \u001b[0mself\u001b[0m\u001b[1;33m.\u001b[0m\u001b[0mlimit\u001b[0m\u001b[1;33m(\u001b[0m\u001b[0mnum\u001b[0m\u001b[1;33m)\u001b[0m\u001b[1;33m.\u001b[0m\u001b[0mcollect\u001b[0m\u001b[1;33m(\u001b[0m\u001b[1;33m)\u001b[0m\u001b[1;33m\u001b[0m\u001b[1;33m\u001b[0m\u001b[0m\n\u001b[0m\u001b[0;32m   1402\u001b[0m \u001b[1;33m\u001b[0m\u001b[0m\n\u001b[0;32m   1403\u001b[0m     \u001b[1;32mdef\u001b[0m \u001b[0mtail\u001b[0m\u001b[1;33m(\u001b[0m\u001b[0mself\u001b[0m\u001b[1;33m,\u001b[0m \u001b[0mnum\u001b[0m\u001b[1;33m:\u001b[0m \u001b[0mint\u001b[0m\u001b[1;33m)\u001b[0m \u001b[1;33m->\u001b[0m \u001b[0mList\u001b[0m\u001b[1;33m[\u001b[0m\u001b[0mRow\u001b[0m\u001b[1;33m]\u001b[0m\u001b[1;33m:\u001b[0m\u001b[1;33m\u001b[0m\u001b[1;33m\u001b[0m\u001b[0m\n",
      "\u001b[1;32m~\\anaconda3\\lib\\site-packages\\pyspark\\sql\\dataframe.py\u001b[0m in \u001b[0;36mcollect\u001b[1;34m(self)\u001b[0m\n\u001b[0;32m   1255\u001b[0m         \"\"\"\n\u001b[0;32m   1256\u001b[0m         \u001b[1;32mwith\u001b[0m \u001b[0mSCCallSiteSync\u001b[0m\u001b[1;33m(\u001b[0m\u001b[0mself\u001b[0m\u001b[1;33m.\u001b[0m\u001b[0m_sc\u001b[0m\u001b[1;33m)\u001b[0m\u001b[1;33m:\u001b[0m\u001b[1;33m\u001b[0m\u001b[1;33m\u001b[0m\u001b[0m\n\u001b[1;32m-> 1257\u001b[1;33m             \u001b[0msock_info\u001b[0m \u001b[1;33m=\u001b[0m \u001b[0mself\u001b[0m\u001b[1;33m.\u001b[0m\u001b[0m_jdf\u001b[0m\u001b[1;33m.\u001b[0m\u001b[0mcollectToPython\u001b[0m\u001b[1;33m(\u001b[0m\u001b[1;33m)\u001b[0m\u001b[1;33m\u001b[0m\u001b[1;33m\u001b[0m\u001b[0m\n\u001b[0m\u001b[0;32m   1258\u001b[0m         \u001b[1;32mreturn\u001b[0m \u001b[0mlist\u001b[0m\u001b[1;33m(\u001b[0m\u001b[0m_load_from_socket\u001b[0m\u001b[1;33m(\u001b[0m\u001b[0msock_info\u001b[0m\u001b[1;33m,\u001b[0m \u001b[0mBatchedSerializer\u001b[0m\u001b[1;33m(\u001b[0m\u001b[0mCPickleSerializer\u001b[0m\u001b[1;33m(\u001b[0m\u001b[1;33m)\u001b[0m\u001b[1;33m)\u001b[0m\u001b[1;33m)\u001b[0m\u001b[1;33m)\u001b[0m\u001b[1;33m\u001b[0m\u001b[1;33m\u001b[0m\u001b[0m\n\u001b[0;32m   1259\u001b[0m \u001b[1;33m\u001b[0m\u001b[0m\n",
      "\u001b[1;32m~\\anaconda3\\lib\\site-packages\\py4j\\java_gateway.py\u001b[0m in \u001b[0;36m__call__\u001b[1;34m(self, *args)\u001b[0m\n\u001b[0;32m   1320\u001b[0m \u001b[1;33m\u001b[0m\u001b[0m\n\u001b[0;32m   1321\u001b[0m         \u001b[0manswer\u001b[0m \u001b[1;33m=\u001b[0m \u001b[0mself\u001b[0m\u001b[1;33m.\u001b[0m\u001b[0mgateway_client\u001b[0m\u001b[1;33m.\u001b[0m\u001b[0msend_command\u001b[0m\u001b[1;33m(\u001b[0m\u001b[0mcommand\u001b[0m\u001b[1;33m)\u001b[0m\u001b[1;33m\u001b[0m\u001b[1;33m\u001b[0m\u001b[0m\n\u001b[1;32m-> 1322\u001b[1;33m         return_value = get_return_value(\n\u001b[0m\u001b[0;32m   1323\u001b[0m             answer, self.gateway_client, self.target_id, self.name)\n\u001b[0;32m   1324\u001b[0m \u001b[1;33m\u001b[0m\u001b[0m\n",
      "\u001b[1;32m~\\anaconda3\\lib\\site-packages\\pyspark\\errors\\exceptions\\captured.py\u001b[0m in \u001b[0;36mdeco\u001b[1;34m(*a, **kw)\u001b[0m\n\u001b[0;32m    177\u001b[0m     \u001b[1;32mdef\u001b[0m \u001b[0mdeco\u001b[0m\u001b[1;33m(\u001b[0m\u001b[1;33m*\u001b[0m\u001b[0ma\u001b[0m\u001b[1;33m:\u001b[0m \u001b[0mAny\u001b[0m\u001b[1;33m,\u001b[0m \u001b[1;33m**\u001b[0m\u001b[0mkw\u001b[0m\u001b[1;33m:\u001b[0m \u001b[0mAny\u001b[0m\u001b[1;33m)\u001b[0m \u001b[1;33m->\u001b[0m \u001b[0mAny\u001b[0m\u001b[1;33m:\u001b[0m\u001b[1;33m\u001b[0m\u001b[1;33m\u001b[0m\u001b[0m\n\u001b[0;32m    178\u001b[0m         \u001b[1;32mtry\u001b[0m\u001b[1;33m:\u001b[0m\u001b[1;33m\u001b[0m\u001b[1;33m\u001b[0m\u001b[0m\n\u001b[1;32m--> 179\u001b[1;33m             \u001b[1;32mreturn\u001b[0m \u001b[0mf\u001b[0m\u001b[1;33m(\u001b[0m\u001b[1;33m*\u001b[0m\u001b[0ma\u001b[0m\u001b[1;33m,\u001b[0m \u001b[1;33m**\u001b[0m\u001b[0mkw\u001b[0m\u001b[1;33m)\u001b[0m\u001b[1;33m\u001b[0m\u001b[1;33m\u001b[0m\u001b[0m\n\u001b[0m\u001b[0;32m    180\u001b[0m         \u001b[1;32mexcept\u001b[0m \u001b[0mPy4JJavaError\u001b[0m \u001b[1;32mas\u001b[0m \u001b[0me\u001b[0m\u001b[1;33m:\u001b[0m\u001b[1;33m\u001b[0m\u001b[1;33m\u001b[0m\u001b[0m\n\u001b[0;32m    181\u001b[0m             \u001b[0mconverted\u001b[0m \u001b[1;33m=\u001b[0m \u001b[0mconvert_exception\u001b[0m\u001b[1;33m(\u001b[0m\u001b[0me\u001b[0m\u001b[1;33m.\u001b[0m\u001b[0mjava_exception\u001b[0m\u001b[1;33m)\u001b[0m\u001b[1;33m\u001b[0m\u001b[1;33m\u001b[0m\u001b[0m\n",
      "\u001b[1;32m~\\anaconda3\\lib\\site-packages\\py4j\\protocol.py\u001b[0m in \u001b[0;36mget_return_value\u001b[1;34m(answer, gateway_client, target_id, name)\u001b[0m\n\u001b[0;32m    324\u001b[0m             \u001b[0mvalue\u001b[0m \u001b[1;33m=\u001b[0m \u001b[0mOUTPUT_CONVERTER\u001b[0m\u001b[1;33m[\u001b[0m\u001b[0mtype\u001b[0m\u001b[1;33m]\u001b[0m\u001b[1;33m(\u001b[0m\u001b[0manswer\u001b[0m\u001b[1;33m[\u001b[0m\u001b[1;36m2\u001b[0m\u001b[1;33m:\u001b[0m\u001b[1;33m]\u001b[0m\u001b[1;33m,\u001b[0m \u001b[0mgateway_client\u001b[0m\u001b[1;33m)\u001b[0m\u001b[1;33m\u001b[0m\u001b[1;33m\u001b[0m\u001b[0m\n\u001b[0;32m    325\u001b[0m             \u001b[1;32mif\u001b[0m \u001b[0manswer\u001b[0m\u001b[1;33m[\u001b[0m\u001b[1;36m1\u001b[0m\u001b[1;33m]\u001b[0m \u001b[1;33m==\u001b[0m \u001b[0mREFERENCE_TYPE\u001b[0m\u001b[1;33m:\u001b[0m\u001b[1;33m\u001b[0m\u001b[1;33m\u001b[0m\u001b[0m\n\u001b[1;32m--> 326\u001b[1;33m                 raise Py4JJavaError(\n\u001b[0m\u001b[0;32m    327\u001b[0m                     \u001b[1;34m\"An error occurred while calling {0}{1}{2}.\\n\"\u001b[0m\u001b[1;33m.\u001b[0m\u001b[1;33m\u001b[0m\u001b[1;33m\u001b[0m\u001b[0m\n\u001b[0;32m    328\u001b[0m                     format(target_id, \".\", name), value)\n",
      "\u001b[1;31mPy4JJavaError\u001b[0m: An error occurred while calling o2677.collectToPython.\n: org.apache.spark.SparkException: Job aborted due to stage failure: Task 0 in stage 420.0 failed 1 times, most recent failure: Lost task 0.0 in stage 420.0 (TID 394) (Vinicius executor driver): org.apache.spark.SparkException: Python worker exited unexpectedly (crashed)\r\n\tat org.apache.spark.api.python.BasePythonRunner$ReaderIterator$$anonfun$1.applyOrElse(PythonRunner.scala:612)\r\n\tat org.apache.spark.api.python.BasePythonRunner$ReaderIterator$$anonfun$1.applyOrElse(PythonRunner.scala:594)\r\n\tat scala.runtime.AbstractPartialFunction.apply(AbstractPartialFunction.scala:38)\r\n\tat org.apache.spark.sql.execution.python.BasePythonUDFRunner$$anon$1.read(PythonUDFRunner.scala:99)\r\n\tat org.apache.spark.sql.execution.python.BasePythonUDFRunner$$anon$1.read(PythonUDFRunner.scala:75)\r\n\tat org.apache.spark.api.python.BasePythonRunner$ReaderIterator.hasNext(PythonRunner.scala:525)\r\n\tat org.apache.spark.InterruptibleIterator.hasNext(InterruptibleIterator.scala:37)\r\n\tat scala.collection.Iterator$$anon$11.hasNext(Iterator.scala:491)\r\n\tat scala.collection.Iterator$$anon$10.hasNext(Iterator.scala:460)\r\n\tat scala.collection.Iterator$$anon$10.hasNext(Iterator.scala:460)\r\n\tat org.apache.spark.sql.catalyst.expressions.GeneratedClass$GeneratedIteratorForCodegenStage2.processNext(Unknown Source)\r\n\tat org.apache.spark.sql.execution.BufferedRowIterator.hasNext(BufferedRowIterator.java:43)\r\n\tat org.apache.spark.sql.execution.WholeStageCodegenEvaluatorFactory$WholeStageCodegenPartitionEvaluator$$anon$1.hasNext(WholeStageCodegenEvaluatorFactory.scala:43)\r\n\tat scala.collection.Iterator$$anon$10.hasNext(Iterator.scala:460)\r\n\tat scala.collection.Iterator.isEmpty(Iterator.scala:387)\r\n\tat scala.collection.Iterator.isEmpty$(Iterator.scala:387)\r\n\tat scala.collection.AbstractIterator.isEmpty(Iterator.scala:1431)\r\n\tat scala.collection.TraversableOnce.nonEmpty(TraversableOnce.scala:143)\r\n\tat scala.collection.TraversableOnce.nonEmpty$(TraversableOnce.scala:143)\r\n\tat scala.collection.AbstractIterator.nonEmpty(Iterator.scala:1431)\r\n\tat org.apache.spark.rdd.RDD.$anonfun$takeOrdered$2(RDD.scala:1556)\r\n\tat org.apache.spark.rdd.RDD.$anonfun$takeOrdered$2$adapted(RDD.scala:1555)\r\n\tat org.apache.spark.rdd.RDD.$anonfun$mapPartitionsWithIndex$2(RDD.scala:907)\r\n\tat org.apache.spark.rdd.RDD.$anonfun$mapPartitionsWithIndex$2$adapted(RDD.scala:907)\r\n\tat org.apache.spark.rdd.MapPartitionsRDD.compute(MapPartitionsRDD.scala:52)\r\n\tat org.apache.spark.rdd.RDD.computeOrReadCheckpoint(RDD.scala:364)\r\n\tat org.apache.spark.rdd.RDD.iterator(RDD.scala:328)\r\n\tat org.apache.spark.scheduler.ResultTask.runTask(ResultTask.scala:93)\r\n\tat org.apache.spark.TaskContext.runTaskWithListeners(TaskContext.scala:161)\r\n\tat org.apache.spark.scheduler.Task.run(Task.scala:141)\r\n\tat org.apache.spark.executor.Executor$TaskRunner.$anonfun$run$4(Executor.scala:620)\r\n\tat org.apache.spark.util.SparkErrorUtils.tryWithSafeFinally(SparkErrorUtils.scala:64)\r\n\tat org.apache.spark.util.SparkErrorUtils.tryWithSafeFinally$(SparkErrorUtils.scala:61)\r\n\tat org.apache.spark.util.Utils$.tryWithSafeFinally(Utils.scala:94)\r\n\tat org.apache.spark.executor.Executor$TaskRunner.run(Executor.scala:623)\r\n\tat java.util.concurrent.ThreadPoolExecutor.runWorker(Unknown Source)\r\n\tat java.util.concurrent.ThreadPoolExecutor$Worker.run(Unknown Source)\r\n\tat java.lang.Thread.run(Unknown Source)\r\nCaused by: java.io.EOFException\r\n\tat java.io.DataInputStream.readInt(Unknown Source)\r\n\tat org.apache.spark.sql.execution.python.BasePythonUDFRunner$$anon$1.read(PythonUDFRunner.scala:83)\r\n\t... 34 more\r\n\nDriver stacktrace:\r\n\tat org.apache.spark.scheduler.DAGScheduler.failJobAndIndependentStages(DAGScheduler.scala:2844)\r\n\tat org.apache.spark.scheduler.DAGScheduler.$anonfun$abortStage$2(DAGScheduler.scala:2780)\r\n\tat org.apache.spark.scheduler.DAGScheduler.$anonfun$abortStage$2$adapted(DAGScheduler.scala:2779)\r\n\tat scala.collection.mutable.ResizableArray.foreach(ResizableArray.scala:62)\r\n\tat scala.collection.mutable.ResizableArray.foreach$(ResizableArray.scala:55)\r\n\tat scala.collection.mutable.ArrayBuffer.foreach(ArrayBuffer.scala:49)\r\n\tat org.apache.spark.scheduler.DAGScheduler.abortStage(DAGScheduler.scala:2779)\r\n\tat org.apache.spark.scheduler.DAGScheduler.$anonfun$handleTaskSetFailed$1(DAGScheduler.scala:1242)\r\n\tat org.apache.spark.scheduler.DAGScheduler.$anonfun$handleTaskSetFailed$1$adapted(DAGScheduler.scala:1242)\r\n\tat scala.Option.foreach(Option.scala:407)\r\n\tat org.apache.spark.scheduler.DAGScheduler.handleTaskSetFailed(DAGScheduler.scala:1242)\r\n\tat org.apache.spark.scheduler.DAGSchedulerEventProcessLoop.doOnReceive(DAGScheduler.scala:3048)\r\n\tat org.apache.spark.scheduler.DAGSchedulerEventProcessLoop.onReceive(DAGScheduler.scala:2982)\r\n\tat org.apache.spark.scheduler.DAGSchedulerEventProcessLoop.onReceive(DAGScheduler.scala:2971)\r\n\tat org.apache.spark.util.EventLoop$$anon$1.run(EventLoop.scala:49)\r\n\tat org.apache.spark.scheduler.DAGScheduler.runJob(DAGScheduler.scala:984)\r\n\tat org.apache.spark.SparkContext.runJob(SparkContext.scala:2398)\r\n\tat org.apache.spark.SparkContext.runJob(SparkContext.scala:2493)\r\n\tat org.apache.spark.rdd.RDD.$anonfun$reduce$1(RDD.scala:1136)\r\n\tat org.apache.spark.rdd.RDDOperationScope$.withScope(RDDOperationScope.scala:151)\r\n\tat org.apache.spark.rdd.RDDOperationScope$.withScope(RDDOperationScope.scala:112)\r\n\tat org.apache.spark.rdd.RDD.withScope(RDD.scala:407)\r\n\tat org.apache.spark.rdd.RDD.reduce(RDD.scala:1118)\r\n\tat org.apache.spark.rdd.RDD.$anonfun$takeOrdered$1(RDD.scala:1565)\r\n\tat org.apache.spark.rdd.RDDOperationScope$.withScope(RDDOperationScope.scala:151)\r\n\tat org.apache.spark.rdd.RDDOperationScope$.withScope(RDDOperationScope.scala:112)\r\n\tat org.apache.spark.rdd.RDD.withScope(RDD.scala:407)\r\n\tat org.apache.spark.rdd.RDD.takeOrdered(RDD.scala:1552)\r\n\tat org.apache.spark.sql.execution.TakeOrderedAndProjectExec.executeCollect(limit.scala:291)\r\n\tat org.apache.spark.sql.Dataset.$anonfun$collectToPython$1(Dataset.scala:4160)\r\n\tat org.apache.spark.sql.Dataset.$anonfun$withAction$2(Dataset.scala:4334)\r\n\tat org.apache.spark.sql.execution.QueryExecution$.withInternalError(QueryExecution.scala:546)\r\n\tat org.apache.spark.sql.Dataset.$anonfun$withAction$1(Dataset.scala:4332)\r\n\tat org.apache.spark.sql.execution.SQLExecution$.$anonfun$withNewExecutionId$6(SQLExecution.scala:125)\r\n\tat org.apache.spark.sql.execution.SQLExecution$.withSQLConfPropagated(SQLExecution.scala:201)\r\n\tat org.apache.spark.sql.execution.SQLExecution$.$anonfun$withNewExecutionId$1(SQLExecution.scala:108)\r\n\tat org.apache.spark.sql.SparkSession.withActive(SparkSession.scala:900)\r\n\tat org.apache.spark.sql.execution.SQLExecution$.withNewExecutionId(SQLExecution.scala:66)\r\n\tat org.apache.spark.sql.Dataset.withAction(Dataset.scala:4332)\r\n\tat org.apache.spark.sql.Dataset.collectToPython(Dataset.scala:4157)\r\n\tat sun.reflect.GeneratedMethodAccessor133.invoke(Unknown Source)\r\n\tat sun.reflect.DelegatingMethodAccessorImpl.invoke(Unknown Source)\r\n\tat java.lang.reflect.Method.invoke(Unknown Source)\r\n\tat py4j.reflection.MethodInvoker.invoke(MethodInvoker.java:244)\r\n\tat py4j.reflection.ReflectionEngine.invoke(ReflectionEngine.java:374)\r\n\tat py4j.Gateway.invoke(Gateway.java:282)\r\n\tat py4j.commands.AbstractCommand.invokeMethod(AbstractCommand.java:132)\r\n\tat py4j.commands.CallCommand.execute(CallCommand.java:79)\r\n\tat py4j.ClientServerConnection.waitForCommands(ClientServerConnection.java:182)\r\n\tat py4j.ClientServerConnection.run(ClientServerConnection.java:106)\r\n\tat java.lang.Thread.run(Unknown Source)\r\nCaused by: org.apache.spark.SparkException: Python worker exited unexpectedly (crashed)\r\n\tat org.apache.spark.api.python.BasePythonRunner$ReaderIterator$$anonfun$1.applyOrElse(PythonRunner.scala:612)\r\n\tat org.apache.spark.api.python.BasePythonRunner$ReaderIterator$$anonfun$1.applyOrElse(PythonRunner.scala:594)\r\n\tat scala.runtime.AbstractPartialFunction.apply(AbstractPartialFunction.scala:38)\r\n\tat org.apache.spark.sql.execution.python.BasePythonUDFRunner$$anon$1.read(PythonUDFRunner.scala:99)\r\n\tat org.apache.spark.sql.execution.python.BasePythonUDFRunner$$anon$1.read(PythonUDFRunner.scala:75)\r\n\tat org.apache.spark.api.python.BasePythonRunner$ReaderIterator.hasNext(PythonRunner.scala:525)\r\n\tat org.apache.spark.InterruptibleIterator.hasNext(InterruptibleIterator.scala:37)\r\n\tat scala.collection.Iterator$$anon$11.hasNext(Iterator.scala:491)\r\n\tat scala.collection.Iterator$$anon$10.hasNext(Iterator.scala:460)\r\n\tat scala.collection.Iterator$$anon$10.hasNext(Iterator.scala:460)\r\n\tat org.apache.spark.sql.catalyst.expressions.GeneratedClass$GeneratedIteratorForCodegenStage2.processNext(Unknown Source)\r\n\tat org.apache.spark.sql.execution.BufferedRowIterator.hasNext(BufferedRowIterator.java:43)\r\n\tat org.apache.spark.sql.execution.WholeStageCodegenEvaluatorFactory$WholeStageCodegenPartitionEvaluator$$anon$1.hasNext(WholeStageCodegenEvaluatorFactory.scala:43)\r\n\tat scala.collection.Iterator$$anon$10.hasNext(Iterator.scala:460)\r\n\tat scala.collection.Iterator.isEmpty(Iterator.scala:387)\r\n\tat scala.collection.Iterator.isEmpty$(Iterator.scala:387)\r\n\tat scala.collection.AbstractIterator.isEmpty(Iterator.scala:1431)\r\n\tat scala.collection.TraversableOnce.nonEmpty(TraversableOnce.scala:143)\r\n\tat scala.collection.TraversableOnce.nonEmpty$(TraversableOnce.scala:143)\r\n\tat scala.collection.AbstractIterator.nonEmpty(Iterator.scala:1431)\r\n\tat org.apache.spark.rdd.RDD.$anonfun$takeOrdered$2(RDD.scala:1556)\r\n\tat org.apache.spark.rdd.RDD.$anonfun$takeOrdered$2$adapted(RDD.scala:1555)\r\n\tat org.apache.spark.rdd.RDD.$anonfun$mapPartitionsWithIndex$2(RDD.scala:907)\r\n\tat org.apache.spark.rdd.RDD.$anonfun$mapPartitionsWithIndex$2$adapted(RDD.scala:907)\r\n\tat org.apache.spark.rdd.MapPartitionsRDD.compute(MapPartitionsRDD.scala:52)\r\n\tat org.apache.spark.rdd.RDD.computeOrReadCheckpoint(RDD.scala:364)\r\n\tat org.apache.spark.rdd.RDD.iterator(RDD.scala:328)\r\n\tat org.apache.spark.scheduler.ResultTask.runTask(ResultTask.scala:93)\r\n\tat org.apache.spark.TaskContext.runTaskWithListeners(TaskContext.scala:161)\r\n\tat org.apache.spark.scheduler.Task.run(Task.scala:141)\r\n\tat org.apache.spark.executor.Executor$TaskRunner.$anonfun$run$4(Executor.scala:620)\r\n\tat org.apache.spark.util.SparkErrorUtils.tryWithSafeFinally(SparkErrorUtils.scala:64)\r\n\tat org.apache.spark.util.SparkErrorUtils.tryWithSafeFinally$(SparkErrorUtils.scala:61)\r\n\tat org.apache.spark.util.Utils$.tryWithSafeFinally(Utils.scala:94)\r\n\tat org.apache.spark.executor.Executor$TaskRunner.run(Executor.scala:623)\r\n\tat java.util.concurrent.ThreadPoolExecutor.runWorker(Unknown Source)\r\n\tat java.util.concurrent.ThreadPoolExecutor$Worker.run(Unknown Source)\r\n\t... 1 more\r\nCaused by: java.io.EOFException\r\n\tat java.io.DataInputStream.readInt(Unknown Source)\r\n\tat org.apache.spark.sql.execution.python.BasePythonUDFRunner$$anon$1.read(PythonUDFRunner.scala:83)\r\n\t... 34 more\r\n"
     ]
    }
   ],
   "source": [
    "recomendador('Taylor Swift - Blank Space')"
   ]
  },
  {
   "cell_type": "raw",
   "id": "8a784786",
   "metadata": {},
   "source": [
    "Acima, o que temos, são as músicas recomendadas com base na nossa música de referência, baseada na sua distância euclideana."
   ]
  }
 ],
 "metadata": {
  "kernelspec": {
   "display_name": "Python 3 (ipykernel)",
   "language": "python",
   "name": "python3"
  },
  "language_info": {
   "codemirror_mode": {
    "name": "ipython",
    "version": 3
   },
   "file_extension": ".py",
   "mimetype": "text/x-python",
   "name": "python",
   "nbconvert_exporter": "python",
   "pygments_lexer": "ipython3",
   "version": "3.9.13"
  }
 },
 "nbformat": 4,
 "nbformat_minor": 5
}
